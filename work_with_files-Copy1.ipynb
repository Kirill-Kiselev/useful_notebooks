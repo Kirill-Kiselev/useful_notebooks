{
 "cells": [
  {
   "cell_type": "code",
   "execution_count": 1,
   "id": "d9a566d0",
   "metadata": {},
   "outputs": [],
   "source": [
    "import sys\n",
    "import os\n",
    "import pathlib\n",
    "import shutil"
   ]
  },
  {
   "cell_type": "code",
   "execution_count": 2,
   "id": "0d1ec1e7",
   "metadata": {},
   "outputs": [
    {
     "name": "stdout",
     "output_type": "stream",
     "text": [
      "/home/kennykey/PycharmProjects/useful_notebooks\r\n"
     ]
    }
   ],
   "source": [
    "!pwd"
   ]
  },
  {
   "cell_type": "code",
   "execution_count": null,
   "id": "fe31815a",
   "metadata": {},
   "outputs": [],
   "source": [
    "re"
   ]
  },
  {
   "cell_type": "code",
   "execution_count": null,
   "id": "a643549e",
   "metadata": {},
   "outputs": [],
   "source": []
  },
  {
   "cell_type": "code",
   "execution_count": null,
   "id": "4e6d77ff",
   "metadata": {},
   "outputs": [],
   "source": []
  },
  {
   "cell_type": "code",
   "execution_count": null,
   "id": "780fae8a",
   "metadata": {},
   "outputs": [],
   "source": []
  },
  {
   "cell_type": "markdown",
   "id": "131151d4",
   "metadata": {},
   "source": [
    "### Массовое переименование файлов"
   ]
  },
  {
   "cell_type": "code",
   "execution_count": 3,
   "id": "5001ab27",
   "metadata": {},
   "outputs": [],
   "source": [
    "PATH = '/home/kennykey/datasets/encoder_banchmark/2'"
   ]
  },
  {
   "cell_type": "code",
   "execution_count": 4,
   "id": "194d9a54",
   "metadata": {},
   "outputs": [
    {
     "name": "stdout",
     "output_type": "stream",
     "text": [
      "['3', '14', '20', '1', '12', '31', '19', '5', '25', '16', '22', '34', '21', '33', '28', '27', '37', '18', '15', '11', '13', '17', '30', '4', '2', '35', '7', '6', '29', '23', '8', '24', '32', '26', '9', '10', '36']\n"
     ]
    }
   ],
   "source": [
    "folders = os.listdir(path=PATH)\n",
    "print(folders)"
   ]
  },
  {
   "cell_type": "code",
   "execution_count": 5,
   "id": "8a8d8c1f",
   "metadata": {},
   "outputs": [],
   "source": [
    "for folder in folders:\n",
    "    files = os.listdir(path=PATH + '/' + folder)\n",
    "    for file in files:\n",
    "        if list(file)[3] == '_':\n",
    "            continue\n",
    "        if len(folder) == 1:\n",
    "            os.rename(PATH + '/' + folder + '/' + file,\n",
    "                      PATH + '/' + folder + '/' + '00' + folder  + \"_\" + file)\n",
    "        if len(folder) == 2:\n",
    "            os.rename(PATH + '/' + folder + '/' + file,\n",
    "                      PATH + '/' + folder + '/' + '0' + folder  + \"_\" + file)\n",
    "        if len(folder) == 3:\n",
    "            os.rename(PATH + '/' + folder + '/' + file,\n",
    "                      PATH + '/' + folder + '/' + folder  + \"_\" + file)"
   ]
  },
  {
   "cell_type": "markdown",
   "id": "135e257f",
   "metadata": {},
   "source": [
    "### Копирование всех файлов с нужным расширением"
   ]
  },
  {
   "cell_type": "code",
   "execution_count": 6,
   "id": "821e6d6e",
   "metadata": {},
   "outputs": [],
   "source": [
    "DESTANETION_PATH = '/home/kennykey/datasets/encoder_banchmark/2/prepeared_photo'"
   ]
  },
  {
   "cell_type": "code",
   "execution_count": 7,
   "id": "332ed318",
   "metadata": {},
   "outputs": [],
   "source": [
    "for folder in folders:\n",
    "    files = os.listdir(path=PATH + '/' + folder)\n",
    "\n",
    "    for file in files:\n",
    "        if pathlib.Path(file).suffix == '.jpg':\n",
    "            shutil.copy(PATH + '/' + folder + '/' + file, DESTANETION_PATH + '/' + file)\n"
   ]
  },
  {
   "cell_type": "markdown",
   "id": "93b9f070",
   "metadata": {},
   "source": [
    "### Узнать количество файлов в папке"
   ]
  },
  {
   "cell_type": "code",
   "execution_count": 12,
   "id": "8ab1c98a",
   "metadata": {},
   "outputs": [],
   "source": [
    "DATASET_PATH = '/home/kennykey/Documents/face-collecting-pipeline/dataset_threshold_85'"
   ]
  },
  {
   "cell_type": "code",
   "execution_count": 8,
   "id": "b02719dd",
   "metadata": {},
   "outputs": [
    {
     "data": {
      "text/plain": [
       "3364"
      ]
     },
     "execution_count": 8,
     "metadata": {},
     "output_type": "execute_result"
    }
   ],
   "source": [
    "len(os.listdir(DESTANETION_PATH))"
   ]
  },
  {
   "cell_type": "code",
   "execution_count": 9,
   "id": "02ef9474",
   "metadata": {},
   "outputs": [
    {
     "data": {
      "text/plain": [
       "3"
      ]
     },
     "execution_count": 9,
     "metadata": {},
     "output_type": "execute_result"
    }
   ],
   "source": [
    "len(os.listdir('/home/kennykey/Documents/face-collecting-pipeline/dataset_threshold_85'))"
   ]
  },
  {
   "cell_type": "code",
   "execution_count": 11,
   "id": "6eb7b8cb",
   "metadata": {},
   "outputs": [
    {
     "data": {
      "text/plain": [
       "0"
      ]
     },
     "execution_count": 11,
     "metadata": {},
     "output_type": "execute_result"
    }
   ],
   "source": [
    "path, dirs, files = next(os.walk(DATASET_PATH))\n",
    "file_count = len(files)\n",
    "file_count"
   ]
  },
  {
   "cell_type": "code",
   "execution_count": 14,
   "id": "aab8e047",
   "metadata": {},
   "outputs": [
    {
     "data": {
      "text/plain": [
       "128650"
      ]
     },
     "execution_count": 14,
     "metadata": {},
     "output_type": "execute_result"
    }
   ],
   "source": [
    "filelist = [] \n",
    "for root, dirs, files in os.walk(path): \n",
    "    for file in files: \n",
    "        #append the file name to the list \n",
    "        filelist.append(os.path.join(root,file))\n",
    "\n",
    "len(filelist)"
   ]
  },
  {
   "cell_type": "markdown",
   "id": "fbba7455",
   "metadata": {},
   "source": [
    "### Работа с .csv"
   ]
  },
  {
   "cell_type": "code",
   "execution_count": null,
   "id": "c5ee01b7",
   "metadata": {},
   "outputs": [],
   "source": []
  },
  {
   "cell_type": "code",
   "execution_count": null,
   "id": "d2f3ae97",
   "metadata": {},
   "outputs": [],
   "source": []
  },
  {
   "cell_type": "code",
   "execution_count": null,
   "id": "98c21e10",
   "metadata": {},
   "outputs": [],
   "source": []
  }
 ],
 "metadata": {
  "kernelspec": {
   "display_name": "Python 3 (ipykernel)",
   "language": "python",
   "name": "python3"
  },
  "language_info": {
   "codemirror_mode": {
    "name": "ipython",
    "version": 3
   },
   "file_extension": ".py",
   "mimetype": "text/x-python",
   "name": "python",
   "nbconvert_exporter": "python",
   "pygments_lexer": "ipython3",
   "version": "3.10.4"
  }
 },
 "nbformat": 4,
 "nbformat_minor": 5
}
