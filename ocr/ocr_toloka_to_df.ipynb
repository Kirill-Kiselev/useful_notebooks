{
 "cells": [
  {
   "cell_type": "markdown",
   "id": "cf42bd6c",
   "metadata": {},
   "source": [
    "# Преобразование датасета из Толоки в датасет для бенчмарка "
   ]
  },
  {
   "cell_type": "code",
   "execution_count": 11,
   "id": "1eeee706",
   "metadata": {},
   "outputs": [],
   "source": [
    "import cv2\n",
    "import pandas as pd\n",
    "import os\n",
    "\n",
    "\n",
    "pd.set_option('display.max_columns', 100)\n",
    "pd.set_option('display.max_rows', 100)"
   ]
  },
  {
   "cell_type": "code",
   "execution_count": 12,
   "id": "5ad9f311",
   "metadata": {},
   "outputs": [
    {
     "name": "stdout",
     "output_type": "stream",
     "text": [
      "/home/kirillk/PycharmProjects/useful_notebooks\r\n"
     ]
    }
   ],
   "source": [
    "!pwd"
   ]
  },
  {
   "cell_type": "code",
   "execution_count": 13,
   "id": "79a7ddc1",
   "metadata": {},
   "outputs": [
    {
     "data": {
      "text/plain": [
       "['020.jpg',\n",
       " '010.jpg',\n",
       " '003.jpg',\n",
       " '004.jpg',\n",
       " '018.jpg',\n",
       " '007.jpg',\n",
       " '011.jpg',\n",
       " '009.jpg',\n",
       " '014.jpg',\n",
       " '019.jpg',\n",
       " '008.jpg',\n",
       " '017.jpg',\n",
       " 'benchmark_results.txt',\n",
       " '005.jpg',\n",
       " '015.jpg',\n",
       " '016.jpg',\n",
       " '002.jpg',\n",
       " '012.jpg',\n",
       " '021.jpg',\n",
       " '013.jpg',\n",
       " '001.jpg',\n",
       " 'test-cases.csv',\n",
       " '006.jpg']"
      ]
     },
     "execution_count": 13,
     "metadata": {},
     "output_type": "execute_result"
    }
   ],
   "source": [
    "os.listdir('/home/kirillk/datasets/OCR/ocr_test_cases_2/')"
   ]
  },
  {
   "cell_type": "markdown",
   "id": "06ab00bd",
   "metadata": {},
   "source": [
    "## Загрузка исходного датасета и первичные преобразования"
   ]
  },
  {
   "cell_type": "code",
   "execution_count": 14,
   "id": "3f1dfb0d",
   "metadata": {},
   "outputs": [],
   "source": [
    "df = pd.read_csv('/home/kirillk/Documents/yandex_toloka/ocr_test_2/assignments_from_pool_11-04-2022.tsv',\n",
    "                sep='\\t')\n"
   ]
  },
  {
   "cell_type": "code",
   "execution_count": 15,
   "id": "62031dd8",
   "metadata": {},
   "outputs": [],
   "source": [
    "df.columns = ['filename', 'rectangles', 'orientation', 'barcode_number', 'doc_number']"
   ]
  },
  {
   "cell_type": "code",
   "execution_count": 16,
   "id": "8f492b00",
   "metadata": {},
   "outputs": [],
   "source": [
    "df['filename'] = df['filename'].apply(lambda x: x.split('/')[-1])"
   ]
  },
  {
   "cell_type": "code",
   "execution_count": 17,
   "id": "f2093579",
   "metadata": {},
   "outputs": [],
   "source": [
    "df['scan_is_good'] = True"
   ]
  },
  {
   "cell_type": "code",
   "execution_count": 18,
   "id": "19fae832",
   "metadata": {},
   "outputs": [
    {
     "data": {
      "text/html": [
       "<div>\n",
       "<style scoped>\n",
       "    .dataframe tbody tr th:only-of-type {\n",
       "        vertical-align: middle;\n",
       "    }\n",
       "\n",
       "    .dataframe tbody tr th {\n",
       "        vertical-align: top;\n",
       "    }\n",
       "\n",
       "    .dataframe thead th {\n",
       "        text-align: right;\n",
       "    }\n",
       "</style>\n",
       "<table border=\"1\" class=\"dataframe\">\n",
       "  <thead>\n",
       "    <tr style=\"text-align: right;\">\n",
       "      <th></th>\n",
       "      <th>filename</th>\n",
       "      <th>rectangles</th>\n",
       "      <th>orientation</th>\n",
       "      <th>barcode_number</th>\n",
       "      <th>doc_number</th>\n",
       "      <th>scan_is_good</th>\n",
       "    </tr>\n",
       "  </thead>\n",
       "  <tbody>\n",
       "    <tr>\n",
       "      <th>0</th>\n",
       "      <td>001.jpg</td>\n",
       "      <td>{\"shape\":\"rectangle\"\\,\"left\":0.068354810388805...</td>\n",
       "      <td>vertical</td>\n",
       "      <td>2810145505821</td>\n",
       "      <td>6600245672</td>\n",
       "      <td>True</td>\n",
       "    </tr>\n",
       "    <tr>\n",
       "      <th>1</th>\n",
       "      <td>002.jpg</td>\n",
       "      <td>{\"shape\":\"rectangle\"\\,\"left\":0.069604377927045...</td>\n",
       "      <td>vertical</td>\n",
       "      <td>2810144032564</td>\n",
       "      <td>6600245040</td>\n",
       "      <td>True</td>\n",
       "    </tr>\n",
       "    <tr>\n",
       "      <th>2</th>\n",
       "      <td>003.jpg</td>\n",
       "      <td>{\"shape\":\"rectangle\"\\,\"left\":0.069724263441815...</td>\n",
       "      <td>vertical</td>\n",
       "      <td>2860598110013</td>\n",
       "      <td>6600246071</td>\n",
       "      <td>True</td>\n",
       "    </tr>\n",
       "    <tr>\n",
       "      <th>3</th>\n",
       "      <td>004.jpg</td>\n",
       "      <td>{\"shape\":\"rectangle\"\\,\"left\":0.070041715361836...</td>\n",
       "      <td>vertical</td>\n",
       "      <td>2810145505821</td>\n",
       "      <td>6600245672</td>\n",
       "      <td>True</td>\n",
       "    </tr>\n",
       "    <tr>\n",
       "      <th>4</th>\n",
       "      <td>005.jpg</td>\n",
       "      <td>{\"shape\":\"rectangle\"\\,\"left\":0.065724950298564...</td>\n",
       "      <td>vertical</td>\n",
       "      <td>2810144032533</td>\n",
       "      <td>6600245039</td>\n",
       "      <td>True</td>\n",
       "    </tr>\n",
       "  </tbody>\n",
       "</table>\n",
       "</div>"
      ],
      "text/plain": [
       "  filename                                         rectangles orientation  \\\n",
       "0  001.jpg  {\"shape\":\"rectangle\"\\,\"left\":0.068354810388805...    vertical   \n",
       "1  002.jpg  {\"shape\":\"rectangle\"\\,\"left\":0.069604377927045...    vertical   \n",
       "2  003.jpg  {\"shape\":\"rectangle\"\\,\"left\":0.069724263441815...    vertical   \n",
       "3  004.jpg  {\"shape\":\"rectangle\"\\,\"left\":0.070041715361836...    vertical   \n",
       "4  005.jpg  {\"shape\":\"rectangle\"\\,\"left\":0.065724950298564...    vertical   \n",
       "\n",
       "   barcode_number  doc_number  scan_is_good  \n",
       "0   2810145505821  6600245672          True  \n",
       "1   2810144032564  6600245040          True  \n",
       "2   2860598110013  6600246071          True  \n",
       "3   2810145505821  6600245672          True  \n",
       "4   2810144032533  6600245039          True  "
      ]
     },
     "execution_count": 18,
     "metadata": {},
     "output_type": "execute_result"
    }
   ],
   "source": [
    "df.head()"
   ]
  },
  {
   "cell_type": "code",
   "execution_count": 20,
   "id": "fb6d3d12",
   "metadata": {},
   "outputs": [
    {
     "data": {
      "text/plain": [
       "(16, 6)"
      ]
     },
     "execution_count": 20,
     "metadata": {},
     "output_type": "execute_result"
    }
   ],
   "source": [
    "df.shape"
   ]
  },
  {
   "cell_type": "markdown",
   "id": "38502cc4",
   "metadata": {},
   "source": [
    "## Парсинг столбца rectangles"
   ]
  },
  {
   "cell_type": "code",
   "execution_count": 48,
   "id": "57c0b44f",
   "metadata": {},
   "outputs": [],
   "source": [
    "rec = df['rectangles'][0]"
   ]
  },
  {
   "cell_type": "code",
   "execution_count": 49,
   "id": "049c5517",
   "metadata": {},
   "outputs": [],
   "source": [
    "rec = eval(rec.replace('\\\\', ''))"
   ]
  },
  {
   "cell_type": "code",
   "execution_count": 50,
   "id": "c258fdba",
   "metadata": {},
   "outputs": [
    {
     "data": {
      "text/plain": [
       "({'shape': 'rectangle',\n",
       "  'left': 0.0683548103888052,\n",
       "  'top': 0.4111787479423289,\n",
       "  'width': 0.17468841341350494,\n",
       "  'height': 0.024840769391466178,\n",
       "  'label': 'barcode'},\n",
       " {'shape': 'rectangle',\n",
       "  'left': 0.2950495346342768,\n",
       "  'top': 0.5170994146210197,\n",
       "  'width': 0.12833416009230064,\n",
       "  'height': 0.011477506392946868,\n",
       "  'label': 'doc-name'},\n",
       " {'shape': 'rectangle',\n",
       "  'left': 0.45141675040109425,\n",
       "  'top': 0.5170264897747041,\n",
       "  'width': 0.04982051170446594,\n",
       "  'height': 0.007333888827847246,\n",
       "  'label': 'doc-number'})"
      ]
     },
     "execution_count": 50,
     "metadata": {},
     "output_type": "execute_result"
    }
   ],
   "source": [
    "rec"
   ]
  },
  {
   "cell_type": "code",
   "execution_count": 51,
   "id": "ac3f3a93",
   "metadata": {},
   "outputs": [],
   "source": [
    "example = pd.DataFrame(rec).set_index('label').drop('shape', axis=1).T.unstack().to_frame().T"
   ]
  },
  {
   "cell_type": "code",
   "execution_count": 52,
   "id": "c428966f",
   "metadata": {},
   "outputs": [
    {
     "data": {
      "text/plain": [
       "MultiIndex([(   'barcode',   'left'),\n",
       "            (   'barcode',    'top'),\n",
       "            (   'barcode',  'width'),\n",
       "            (   'barcode', 'height'),\n",
       "            (  'doc-name',   'left'),\n",
       "            (  'doc-name',    'top'),\n",
       "            (  'doc-name',  'width'),\n",
       "            (  'doc-name', 'height'),\n",
       "            ('doc-number',   'left'),\n",
       "            ('doc-number',    'top'),\n",
       "            ('doc-number',  'width'),\n",
       "            ('doc-number', 'height')],\n",
       "           names=['label', None])"
      ]
     },
     "execution_count": 52,
     "metadata": {},
     "output_type": "execute_result"
    }
   ],
   "source": [
    "example.columns"
   ]
  },
  {
   "cell_type": "code",
   "execution_count": 53,
   "id": "4c1a72e7",
   "metadata": {},
   "outputs": [
    {
     "data": {
      "text/plain": [
       "Index(['barcode_left', 'barcode_top', 'barcode_width', 'barcode_height',\n",
       "       'doc-name_left', 'doc-name_top', 'doc-name_width', 'doc-name_height',\n",
       "       'doc-number_left', 'doc-number_top', 'doc-number_width',\n",
       "       'doc-number_height'],\n",
       "      dtype='object')"
      ]
     },
     "execution_count": 53,
     "metadata": {},
     "output_type": "execute_result"
    }
   ],
   "source": [
    "example.columns = ['_'.join(col) for col in example.columns]\n",
    "example.columns"
   ]
  },
  {
   "cell_type": "code",
   "execution_count": 54,
   "id": "3c69e2a6",
   "metadata": {},
   "outputs": [],
   "source": [
    "new_columns_list = []"
   ]
  },
  {
   "cell_type": "code",
   "execution_count": 55,
   "id": "de06be78",
   "metadata": {},
   "outputs": [],
   "source": [
    "for col in example.columns:\n",
    "    new_columns_list.append(col.split('_')[0] + '_box_' + col.split('_')[-1])\n",
    "#     print(col)"
   ]
  },
  {
   "cell_type": "code",
   "execution_count": 56,
   "id": "6fc2a135",
   "metadata": {},
   "outputs": [
    {
     "data": {
      "text/plain": [
       "['barcode_box_left',\n",
       " 'barcode_box_top',\n",
       " 'barcode_box_width',\n",
       " 'barcode_box_height',\n",
       " 'doc-name_box_left',\n",
       " 'doc-name_box_top',\n",
       " 'doc-name_box_width',\n",
       " 'doc-name_box_height',\n",
       " 'doc-number_box_left',\n",
       " 'doc-number_box_top',\n",
       " 'doc-number_box_width',\n",
       " 'doc-number_box_height']"
      ]
     },
     "execution_count": 56,
     "metadata": {},
     "output_type": "execute_result"
    }
   ],
   "source": [
    "new_columns_list"
   ]
  },
  {
   "cell_type": "code",
   "execution_count": 57,
   "id": "f0cf2987",
   "metadata": {},
   "outputs": [],
   "source": [
    "example.columns = new_columns_list"
   ]
  },
  {
   "cell_type": "code",
   "execution_count": 58,
   "id": "48851c79",
   "metadata": {},
   "outputs": [],
   "source": [
    "example.columns = example.columns.str.replace('-', '_')"
   ]
  },
  {
   "cell_type": "code",
   "execution_count": 59,
   "id": "035fb496",
   "metadata": {},
   "outputs": [
    {
     "data": {
      "text/plain": [
       "Index(['barcode_box_left', 'barcode_box_top', 'barcode_box_width',\n",
       "       'barcode_box_height', 'doc_name_box_left', 'doc_name_box_top',\n",
       "       'doc_name_box_width', 'doc_name_box_height', 'doc_number_box_left',\n",
       "       'doc_number_box_top', 'doc_number_box_width', 'doc_number_box_height'],\n",
       "      dtype='object')"
      ]
     },
     "execution_count": 59,
     "metadata": {},
     "output_type": "execute_result"
    }
   ],
   "source": [
    "example.columns"
   ]
  },
  {
   "cell_type": "code",
   "execution_count": 60,
   "id": "9325e6b7",
   "metadata": {},
   "outputs": [
    {
     "data": {
      "text/html": [
       "<div>\n",
       "<style scoped>\n",
       "    .dataframe tbody tr th:only-of-type {\n",
       "        vertical-align: middle;\n",
       "    }\n",
       "\n",
       "    .dataframe tbody tr th {\n",
       "        vertical-align: top;\n",
       "    }\n",
       "\n",
       "    .dataframe thead th {\n",
       "        text-align: right;\n",
       "    }\n",
       "</style>\n",
       "<table border=\"1\" class=\"dataframe\">\n",
       "  <thead>\n",
       "    <tr style=\"text-align: right;\">\n",
       "      <th></th>\n",
       "      <th>barcode_box_left</th>\n",
       "      <th>barcode_box_top</th>\n",
       "      <th>barcode_box_width</th>\n",
       "      <th>barcode_box_height</th>\n",
       "      <th>doc_name_box_left</th>\n",
       "      <th>doc_name_box_top</th>\n",
       "      <th>doc_name_box_width</th>\n",
       "      <th>doc_name_box_height</th>\n",
       "      <th>doc_number_box_left</th>\n",
       "      <th>doc_number_box_top</th>\n",
       "      <th>doc_number_box_width</th>\n",
       "      <th>doc_number_box_height</th>\n",
       "    </tr>\n",
       "  </thead>\n",
       "  <tbody>\n",
       "    <tr>\n",
       "      <th>0</th>\n",
       "      <td>0.068355</td>\n",
       "      <td>0.411179</td>\n",
       "      <td>0.174688</td>\n",
       "      <td>0.024841</td>\n",
       "      <td>0.29505</td>\n",
       "      <td>0.517099</td>\n",
       "      <td>0.128334</td>\n",
       "      <td>0.011478</td>\n",
       "      <td>0.451417</td>\n",
       "      <td>0.517026</td>\n",
       "      <td>0.049821</td>\n",
       "      <td>0.007334</td>\n",
       "    </tr>\n",
       "  </tbody>\n",
       "</table>\n",
       "</div>"
      ],
      "text/plain": [
       "   barcode_box_left  barcode_box_top  barcode_box_width  barcode_box_height  \\\n",
       "0          0.068355         0.411179           0.174688            0.024841   \n",
       "\n",
       "   doc_name_box_left  doc_name_box_top  doc_name_box_width  \\\n",
       "0            0.29505          0.517099            0.128334   \n",
       "\n",
       "   doc_name_box_height  doc_number_box_left  doc_number_box_top  \\\n",
       "0             0.011478             0.451417            0.517026   \n",
       "\n",
       "   doc_number_box_width  doc_number_box_height  \n",
       "0              0.049821               0.007334  "
      ]
     },
     "execution_count": 60,
     "metadata": {},
     "output_type": "execute_result"
    }
   ],
   "source": [
    "example"
   ]
  },
  {
   "cell_type": "markdown",
   "id": "9d5d3cc8",
   "metadata": {},
   "source": [
    "## Подготовка данных в датасете"
   ]
  },
  {
   "cell_type": "code",
   "execution_count": 61,
   "id": "6b80b0b6",
   "metadata": {},
   "outputs": [],
   "source": [
    "rectangles_list = []"
   ]
  },
  {
   "cell_type": "code",
   "execution_count": 62,
   "id": "9accda4d",
   "metadata": {},
   "outputs": [],
   "source": [
    "for rectangles in df['rectangles']:\n",
    "    rectangles = eval(rectangles.replace('\\\\', ''))\n",
    "    rectangles = pd.DataFrame(rectangles).set_index('label').drop('shape', axis=1).T.unstack().to_frame().T\n",
    "    \n",
    "    rectangles.columns = ['_'.join(col) for col in rectangles.columns]\n",
    "    \n",
    "    new_columns_list = []\n",
    "    for col in rectangles.columns:\n",
    "        new_columns_list.append(col.split('_')[0] + '_box_' + col.split('_')[-1])\n",
    "    \n",
    "    rectangles.columns = new_columns_list\n",
    "    \n",
    "    rectangles.columns = rectangles.columns.str.replace('-', '_')\n",
    "    rectangles.columns = rectangles.columns.str.replace('name', 'type')\n",
    "    rectangles_list.append(rectangles)"
   ]
  },
  {
   "cell_type": "code",
   "execution_count": 63,
   "id": "f7fb102e",
   "metadata": {},
   "outputs": [],
   "source": [
    "boxes_table = pd.concat(rectangles_list, ignore_index=True)"
   ]
  },
  {
   "cell_type": "code",
   "execution_count": 64,
   "id": "e0ecc339",
   "metadata": {},
   "outputs": [],
   "source": [
    "df = df.join(boxes_table)"
   ]
  },
  {
   "cell_type": "markdown",
   "id": "51db4b3e",
   "metadata": {},
   "source": [
    "### Проверка join"
   ]
  },
  {
   "cell_type": "code",
   "execution_count": 65,
   "id": "4824c9f3",
   "metadata": {},
   "outputs": [
    {
     "name": "stdout",
     "output_type": "stream",
     "text": [
      "ok\n",
      "ok\n",
      "ok\n",
      "ok\n",
      "ok\n",
      "ok\n",
      "ok\n",
      "ok\n",
      "ok\n",
      "ok\n",
      "ok\n",
      "ok\n",
      "ok\n",
      "ok\n",
      "ok\n",
      "ok\n"
     ]
    }
   ],
   "source": [
    "for idx, num in enumerate(df['barcode_box_left']):\n",
    "    if str(num) in df['rectangles'][idx]:\n",
    "        print('ok')"
   ]
  },
  {
   "cell_type": "markdown",
   "id": "ec78aa89",
   "metadata": {},
   "source": [
    "### Готовый датасет"
   ]
  },
  {
   "cell_type": "code",
   "execution_count": 66,
   "id": "bf61cfca",
   "metadata": {},
   "outputs": [],
   "source": [
    "df = df.drop('rectangles', axis=1)"
   ]
  },
  {
   "cell_type": "code",
   "execution_count": 67,
   "id": "71f640e0",
   "metadata": {},
   "outputs": [
    {
     "data": {
      "text/html": [
       "<div>\n",
       "<style scoped>\n",
       "    .dataframe tbody tr th:only-of-type {\n",
       "        vertical-align: middle;\n",
       "    }\n",
       "\n",
       "    .dataframe tbody tr th {\n",
       "        vertical-align: top;\n",
       "    }\n",
       "\n",
       "    .dataframe thead th {\n",
       "        text-align: right;\n",
       "    }\n",
       "</style>\n",
       "<table border=\"1\" class=\"dataframe\">\n",
       "  <thead>\n",
       "    <tr style=\"text-align: right;\">\n",
       "      <th></th>\n",
       "      <th>filename</th>\n",
       "      <th>orientation</th>\n",
       "      <th>barcode_number</th>\n",
       "      <th>doc_number</th>\n",
       "      <th>scan_is_good</th>\n",
       "      <th>barcode_box_left</th>\n",
       "      <th>barcode_box_top</th>\n",
       "      <th>barcode_box_width</th>\n",
       "      <th>barcode_box_height</th>\n",
       "      <th>doc_type_box_left</th>\n",
       "      <th>doc_type_box_top</th>\n",
       "      <th>doc_type_box_width</th>\n",
       "      <th>doc_type_box_height</th>\n",
       "      <th>doc_number_box_left</th>\n",
       "      <th>doc_number_box_top</th>\n",
       "      <th>doc_number_box_width</th>\n",
       "      <th>doc_number_box_height</th>\n",
       "    </tr>\n",
       "  </thead>\n",
       "  <tbody>\n",
       "    <tr>\n",
       "      <th>0</th>\n",
       "      <td>001.jpg</td>\n",
       "      <td>vertical</td>\n",
       "      <td>2810145505821</td>\n",
       "      <td>6600245672</td>\n",
       "      <td>True</td>\n",
       "      <td>0.068355</td>\n",
       "      <td>0.411179</td>\n",
       "      <td>0.174688</td>\n",
       "      <td>0.024841</td>\n",
       "      <td>0.295050</td>\n",
       "      <td>0.517099</td>\n",
       "      <td>0.128334</td>\n",
       "      <td>0.011478</td>\n",
       "      <td>0.451417</td>\n",
       "      <td>0.517026</td>\n",
       "      <td>0.049821</td>\n",
       "      <td>0.007334</td>\n",
       "    </tr>\n",
       "    <tr>\n",
       "      <th>1</th>\n",
       "      <td>002.jpg</td>\n",
       "      <td>vertical</td>\n",
       "      <td>2810144032564</td>\n",
       "      <td>6600245040</td>\n",
       "      <td>True</td>\n",
       "      <td>0.069604</td>\n",
       "      <td>0.410963</td>\n",
       "      <td>0.172521</td>\n",
       "      <td>0.025454</td>\n",
       "      <td>0.293708</td>\n",
       "      <td>0.516459</td>\n",
       "      <td>0.129608</td>\n",
       "      <td>0.012880</td>\n",
       "      <td>0.448891</td>\n",
       "      <td>0.516766</td>\n",
       "      <td>0.052883</td>\n",
       "      <td>0.008894</td>\n",
       "    </tr>\n",
       "    <tr>\n",
       "      <th>2</th>\n",
       "      <td>003.jpg</td>\n",
       "      <td>vertical</td>\n",
       "      <td>2860598110013</td>\n",
       "      <td>6600246071</td>\n",
       "      <td>True</td>\n",
       "      <td>0.069724</td>\n",
       "      <td>0.410080</td>\n",
       "      <td>0.175275</td>\n",
       "      <td>0.024133</td>\n",
       "      <td>0.292754</td>\n",
       "      <td>0.514779</td>\n",
       "      <td>0.134342</td>\n",
       "      <td>0.013366</td>\n",
       "      <td>0.454807</td>\n",
       "      <td>0.517144</td>\n",
       "      <td>0.047580</td>\n",
       "      <td>0.007628</td>\n",
       "    </tr>\n",
       "    <tr>\n",
       "      <th>3</th>\n",
       "      <td>004.jpg</td>\n",
       "      <td>vertical</td>\n",
       "      <td>2810145505821</td>\n",
       "      <td>6600245672</td>\n",
       "      <td>True</td>\n",
       "      <td>0.070042</td>\n",
       "      <td>0.411530</td>\n",
       "      <td>0.173070</td>\n",
       "      <td>0.023404</td>\n",
       "      <td>0.295970</td>\n",
       "      <td>0.516706</td>\n",
       "      <td>0.126862</td>\n",
       "      <td>0.012034</td>\n",
       "      <td>0.452468</td>\n",
       "      <td>0.517401</td>\n",
       "      <td>0.048909</td>\n",
       "      <td>0.006866</td>\n",
       "    </tr>\n",
       "    <tr>\n",
       "      <th>4</th>\n",
       "      <td>005.jpg</td>\n",
       "      <td>vertical</td>\n",
       "      <td>2810144032533</td>\n",
       "      <td>6600245039</td>\n",
       "      <td>True</td>\n",
       "      <td>0.065725</td>\n",
       "      <td>0.410182</td>\n",
       "      <td>0.174255</td>\n",
       "      <td>0.024227</td>\n",
       "      <td>0.288529</td>\n",
       "      <td>0.515065</td>\n",
       "      <td>0.133075</td>\n",
       "      <td>0.012880</td>\n",
       "      <td>0.446579</td>\n",
       "      <td>0.516449</td>\n",
       "      <td>0.050331</td>\n",
       "      <td>0.008398</td>\n",
       "    </tr>\n",
       "    <tr>\n",
       "      <th>5</th>\n",
       "      <td>006.jpg</td>\n",
       "      <td>vertical</td>\n",
       "      <td>2810145529968</td>\n",
       "      <td>6600245674</td>\n",
       "      <td>True</td>\n",
       "      <td>0.067505</td>\n",
       "      <td>0.410621</td>\n",
       "      <td>0.170803</td>\n",
       "      <td>0.023817</td>\n",
       "      <td>0.291121</td>\n",
       "      <td>0.516413</td>\n",
       "      <td>0.127465</td>\n",
       "      <td>0.011273</td>\n",
       "      <td>0.449622</td>\n",
       "      <td>0.517481</td>\n",
       "      <td>0.047439</td>\n",
       "      <td>0.006935</td>\n",
       "    </tr>\n",
       "    <tr>\n",
       "      <th>6</th>\n",
       "      <td>007.jpg</td>\n",
       "      <td>vertical</td>\n",
       "      <td>2810145529971</td>\n",
       "      <td>6600245675</td>\n",
       "      <td>True</td>\n",
       "      <td>0.062883</td>\n",
       "      <td>0.410358</td>\n",
       "      <td>0.171272</td>\n",
       "      <td>0.024956</td>\n",
       "      <td>0.287717</td>\n",
       "      <td>0.516819</td>\n",
       "      <td>0.129575</td>\n",
       "      <td>0.011894</td>\n",
       "      <td>0.445353</td>\n",
       "      <td>0.518321</td>\n",
       "      <td>0.048734</td>\n",
       "      <td>0.006992</td>\n",
       "    </tr>\n",
       "    <tr>\n",
       "      <th>7</th>\n",
       "      <td>008.jpg</td>\n",
       "      <td>vertical</td>\n",
       "      <td>2810144032601</td>\n",
       "      <td>6600245043</td>\n",
       "      <td>True</td>\n",
       "      <td>0.065466</td>\n",
       "      <td>0.412070</td>\n",
       "      <td>0.172929</td>\n",
       "      <td>0.022815</td>\n",
       "      <td>0.291607</td>\n",
       "      <td>0.516997</td>\n",
       "      <td>0.129393</td>\n",
       "      <td>0.011675</td>\n",
       "      <td>0.449507</td>\n",
       "      <td>0.517895</td>\n",
       "      <td>0.047482</td>\n",
       "      <td>0.006943</td>\n",
       "    </tr>\n",
       "    <tr>\n",
       "      <th>8</th>\n",
       "      <td>009.jpg</td>\n",
       "      <td>vertical</td>\n",
       "      <td>2810145529940</td>\n",
       "      <td>6600247340</td>\n",
       "      <td>True</td>\n",
       "      <td>0.067151</td>\n",
       "      <td>0.409830</td>\n",
       "      <td>0.177135</td>\n",
       "      <td>0.025815</td>\n",
       "      <td>0.292053</td>\n",
       "      <td>0.514969</td>\n",
       "      <td>0.133349</td>\n",
       "      <td>0.015020</td>\n",
       "      <td>0.451228</td>\n",
       "      <td>0.518357</td>\n",
       "      <td>0.049621</td>\n",
       "      <td>0.006628</td>\n",
       "    </tr>\n",
       "    <tr>\n",
       "      <th>9</th>\n",
       "      <td>010.jpg</td>\n",
       "      <td>vertical</td>\n",
       "      <td>2810145529996</td>\n",
       "      <td>6600245673</td>\n",
       "      <td>True</td>\n",
       "      <td>0.065800</td>\n",
       "      <td>0.410495</td>\n",
       "      <td>0.173821</td>\n",
       "      <td>0.025454</td>\n",
       "      <td>0.291205</td>\n",
       "      <td>0.515992</td>\n",
       "      <td>0.130908</td>\n",
       "      <td>0.012267</td>\n",
       "      <td>0.448120</td>\n",
       "      <td>0.517432</td>\n",
       "      <td>0.049983</td>\n",
       "      <td>0.007480</td>\n",
       "    </tr>\n",
       "    <tr>\n",
       "      <th>10</th>\n",
       "      <td>011.jpg</td>\n",
       "      <td>vertical</td>\n",
       "      <td>2860599253489</td>\n",
       "      <td>6600003908</td>\n",
       "      <td>True</td>\n",
       "      <td>0.063480</td>\n",
       "      <td>0.481969</td>\n",
       "      <td>0.171498</td>\n",
       "      <td>0.023775</td>\n",
       "      <td>0.285096</td>\n",
       "      <td>0.588546</td>\n",
       "      <td>0.128624</td>\n",
       "      <td>0.012707</td>\n",
       "      <td>0.442689</td>\n",
       "      <td>0.590801</td>\n",
       "      <td>0.050696</td>\n",
       "      <td>0.007583</td>\n",
       "    </tr>\n",
       "    <tr>\n",
       "      <th>11</th>\n",
       "      <td>012.jpg</td>\n",
       "      <td>horizontal</td>\n",
       "      <td>2810142821818</td>\n",
       "      <td>6600198842</td>\n",
       "      <td>True</td>\n",
       "      <td>0.056805</td>\n",
       "      <td>0.061173</td>\n",
       "      <td>0.127894</td>\n",
       "      <td>0.050618</td>\n",
       "      <td>0.289254</td>\n",
       "      <td>0.354509</td>\n",
       "      <td>0.135051</td>\n",
       "      <td>0.026554</td>\n",
       "      <td>0.437374</td>\n",
       "      <td>0.362807</td>\n",
       "      <td>0.065036</td>\n",
       "      <td>0.017011</td>\n",
       "    </tr>\n",
       "    <tr>\n",
       "      <th>12</th>\n",
       "      <td>013.jpg</td>\n",
       "      <td>horizontal</td>\n",
       "      <td>2810142821825</td>\n",
       "      <td>6600199966</td>\n",
       "      <td>True</td>\n",
       "      <td>0.065519</td>\n",
       "      <td>0.035381</td>\n",
       "      <td>0.129034</td>\n",
       "      <td>0.051522</td>\n",
       "      <td>0.301966</td>\n",
       "      <td>0.325496</td>\n",
       "      <td>0.134784</td>\n",
       "      <td>0.021161</td>\n",
       "      <td>0.451819</td>\n",
       "      <td>0.329362</td>\n",
       "      <td>0.063178</td>\n",
       "      <td>0.013527</td>\n",
       "    </tr>\n",
       "    <tr>\n",
       "      <th>13</th>\n",
       "      <td>014.jpg</td>\n",
       "      <td>horizontal</td>\n",
       "      <td>2860577674626</td>\n",
       "      <td>6600192494</td>\n",
       "      <td>True</td>\n",
       "      <td>0.073633</td>\n",
       "      <td>0.008045</td>\n",
       "      <td>0.137325</td>\n",
       "      <td>0.063833</td>\n",
       "      <td>0.316688</td>\n",
       "      <td>0.317981</td>\n",
       "      <td>0.140457</td>\n",
       "      <td>0.029436</td>\n",
       "      <td>0.470559</td>\n",
       "      <td>0.328643</td>\n",
       "      <td>0.065552</td>\n",
       "      <td>0.016561</td>\n",
       "    </tr>\n",
       "    <tr>\n",
       "      <th>14</th>\n",
       "      <td>015.jpg</td>\n",
       "      <td>horizontal</td>\n",
       "      <td>2810141883992</td>\n",
       "      <td>6600179692</td>\n",
       "      <td>True</td>\n",
       "      <td>0.097934</td>\n",
       "      <td>0.008604</td>\n",
       "      <td>0.123514</td>\n",
       "      <td>0.051769</td>\n",
       "      <td>0.321965</td>\n",
       "      <td>0.297541</td>\n",
       "      <td>0.134118</td>\n",
       "      <td>0.031076</td>\n",
       "      <td>0.471314</td>\n",
       "      <td>0.310037</td>\n",
       "      <td>0.063672</td>\n",
       "      <td>0.017854</td>\n",
       "    </tr>\n",
       "    <tr>\n",
       "      <th>15</th>\n",
       "      <td>016.jpg</td>\n",
       "      <td>horizontal</td>\n",
       "      <td>2860607202485</td>\n",
       "      <td>6600250280</td>\n",
       "      <td>True</td>\n",
       "      <td>0.056924</td>\n",
       "      <td>0.055131</td>\n",
       "      <td>0.133806</td>\n",
       "      <td>0.051448</td>\n",
       "      <td>0.300834</td>\n",
       "      <td>0.351825</td>\n",
       "      <td>0.136166</td>\n",
       "      <td>0.024465</td>\n",
       "      <td>0.452774</td>\n",
       "      <td>0.356975</td>\n",
       "      <td>0.064381</td>\n",
       "      <td>0.015881</td>\n",
       "    </tr>\n",
       "  </tbody>\n",
       "</table>\n",
       "</div>"
      ],
      "text/plain": [
       "   filename orientation  barcode_number  doc_number  scan_is_good  \\\n",
       "0   001.jpg    vertical   2810145505821  6600245672          True   \n",
       "1   002.jpg    vertical   2810144032564  6600245040          True   \n",
       "2   003.jpg    vertical   2860598110013  6600246071          True   \n",
       "3   004.jpg    vertical   2810145505821  6600245672          True   \n",
       "4   005.jpg    vertical   2810144032533  6600245039          True   \n",
       "5   006.jpg    vertical   2810145529968  6600245674          True   \n",
       "6   007.jpg    vertical   2810145529971  6600245675          True   \n",
       "7   008.jpg    vertical   2810144032601  6600245043          True   \n",
       "8   009.jpg    vertical   2810145529940  6600247340          True   \n",
       "9   010.jpg    vertical   2810145529996  6600245673          True   \n",
       "10  011.jpg    vertical   2860599253489  6600003908          True   \n",
       "11  012.jpg  horizontal   2810142821818  6600198842          True   \n",
       "12  013.jpg  horizontal   2810142821825  6600199966          True   \n",
       "13  014.jpg  horizontal   2860577674626  6600192494          True   \n",
       "14  015.jpg  horizontal   2810141883992  6600179692          True   \n",
       "15  016.jpg  horizontal   2860607202485  6600250280          True   \n",
       "\n",
       "    barcode_box_left  barcode_box_top  barcode_box_width  barcode_box_height  \\\n",
       "0           0.068355         0.411179           0.174688            0.024841   \n",
       "1           0.069604         0.410963           0.172521            0.025454   \n",
       "2           0.069724         0.410080           0.175275            0.024133   \n",
       "3           0.070042         0.411530           0.173070            0.023404   \n",
       "4           0.065725         0.410182           0.174255            0.024227   \n",
       "5           0.067505         0.410621           0.170803            0.023817   \n",
       "6           0.062883         0.410358           0.171272            0.024956   \n",
       "7           0.065466         0.412070           0.172929            0.022815   \n",
       "8           0.067151         0.409830           0.177135            0.025815   \n",
       "9           0.065800         0.410495           0.173821            0.025454   \n",
       "10          0.063480         0.481969           0.171498            0.023775   \n",
       "11          0.056805         0.061173           0.127894            0.050618   \n",
       "12          0.065519         0.035381           0.129034            0.051522   \n",
       "13          0.073633         0.008045           0.137325            0.063833   \n",
       "14          0.097934         0.008604           0.123514            0.051769   \n",
       "15          0.056924         0.055131           0.133806            0.051448   \n",
       "\n",
       "    doc_type_box_left  doc_type_box_top  doc_type_box_width  \\\n",
       "0            0.295050          0.517099            0.128334   \n",
       "1            0.293708          0.516459            0.129608   \n",
       "2            0.292754          0.514779            0.134342   \n",
       "3            0.295970          0.516706            0.126862   \n",
       "4            0.288529          0.515065            0.133075   \n",
       "5            0.291121          0.516413            0.127465   \n",
       "6            0.287717          0.516819            0.129575   \n",
       "7            0.291607          0.516997            0.129393   \n",
       "8            0.292053          0.514969            0.133349   \n",
       "9            0.291205          0.515992            0.130908   \n",
       "10           0.285096          0.588546            0.128624   \n",
       "11           0.289254          0.354509            0.135051   \n",
       "12           0.301966          0.325496            0.134784   \n",
       "13           0.316688          0.317981            0.140457   \n",
       "14           0.321965          0.297541            0.134118   \n",
       "15           0.300834          0.351825            0.136166   \n",
       "\n",
       "    doc_type_box_height  doc_number_box_left  doc_number_box_top  \\\n",
       "0              0.011478             0.451417            0.517026   \n",
       "1              0.012880             0.448891            0.516766   \n",
       "2              0.013366             0.454807            0.517144   \n",
       "3              0.012034             0.452468            0.517401   \n",
       "4              0.012880             0.446579            0.516449   \n",
       "5              0.011273             0.449622            0.517481   \n",
       "6              0.011894             0.445353            0.518321   \n",
       "7              0.011675             0.449507            0.517895   \n",
       "8              0.015020             0.451228            0.518357   \n",
       "9              0.012267             0.448120            0.517432   \n",
       "10             0.012707             0.442689            0.590801   \n",
       "11             0.026554             0.437374            0.362807   \n",
       "12             0.021161             0.451819            0.329362   \n",
       "13             0.029436             0.470559            0.328643   \n",
       "14             0.031076             0.471314            0.310037   \n",
       "15             0.024465             0.452774            0.356975   \n",
       "\n",
       "    doc_number_box_width  doc_number_box_height  \n",
       "0               0.049821               0.007334  \n",
       "1               0.052883               0.008894  \n",
       "2               0.047580               0.007628  \n",
       "3               0.048909               0.006866  \n",
       "4               0.050331               0.008398  \n",
       "5               0.047439               0.006935  \n",
       "6               0.048734               0.006992  \n",
       "7               0.047482               0.006943  \n",
       "8               0.049621               0.006628  \n",
       "9               0.049983               0.007480  \n",
       "10              0.050696               0.007583  \n",
       "11              0.065036               0.017011  \n",
       "12              0.063178               0.013527  \n",
       "13              0.065552               0.016561  \n",
       "14              0.063672               0.017854  \n",
       "15              0.064381               0.015881  "
      ]
     },
     "execution_count": 67,
     "metadata": {},
     "output_type": "execute_result"
    }
   ],
   "source": [
    "df"
   ]
  },
  {
   "cell_type": "markdown",
   "id": "fcd31808",
   "metadata": {},
   "source": [
    "## Проверка на изображениях"
   ]
  },
  {
   "cell_type": "code",
   "execution_count": 68,
   "id": "aefaa6c9",
   "metadata": {},
   "outputs": [],
   "source": [
    "mapping_prefix_value = {\n",
    "    'barcode_box_': 'barcode_number',\n",
    "    'doc_type_box_': None,\n",
    "    'doc_number_box_': 'doc_number',\n",
    "}\n",
    "\n",
    "for index, row in df.iterrows():\n",
    "    image = cv2.imread('/home/kirillk/datasets/OCR/ocr_test_cases_2/' + row['filename'])\n",
    "#     image = cv2.resize(image, (0, 0), fx=0.6, fy=0.6)\n",
    "    height, width, _ = image.shape\n",
    "\n",
    "    for prefix, value in mapping_prefix_value.items():\n",
    "        x1 = int(row[prefix + 'left'] * width)\n",
    "        y1 = int(row[prefix + 'top'] * height)\n",
    "        x2 = int((row[prefix + 'left'] + row[prefix + 'width']) * width)\n",
    "        y2 = int((row[prefix + 'top'] + row[prefix + 'height']) * height)\n",
    "    \n",
    "        image = cv2.rectangle(image, (x1, y1), (x2, y2), (0, 0, 255), 4)\n",
    "        image = cv2.putText(image, str(row.get(value, default='')), (x1, y2 + 50), 0, 2, (0, 0, 255), 3)\n",
    "        \n",
    "        cv2.imshow('Document', image)\n",
    "    \n",
    "        key = cv2.waitKey(2000) & 0xFF\n",
    "\n",
    "        if key == ord('q'):\n",
    "            break\n",
    "    \n",
    "    cv2.destroyAllWindows()"
   ]
  },
  {
   "cell_type": "code",
   "execution_count": 69,
   "id": "7cc46914",
   "metadata": {},
   "outputs": [],
   "source": [
    "df['barcode_number'] = df['barcode_number'].astype('str')\n",
    "df['doc_number'] = df['doc_number'].astype('str')"
   ]
  },
  {
   "cell_type": "code",
   "execution_count": 70,
   "id": "5a2eb3ca",
   "metadata": {},
   "outputs": [
    {
     "name": "stdout",
     "output_type": "stream",
     "text": [
      "<class 'pandas.core.frame.DataFrame'>\n",
      "RangeIndex: 16 entries, 0 to 15\n",
      "Data columns (total 17 columns):\n",
      " #   Column                 Non-Null Count  Dtype  \n",
      "---  ------                 --------------  -----  \n",
      " 0   filename               16 non-null     object \n",
      " 1   orientation            16 non-null     object \n",
      " 2   barcode_number         16 non-null     object \n",
      " 3   doc_number             16 non-null     object \n",
      " 4   scan_is_good           16 non-null     bool   \n",
      " 5   barcode_box_left       16 non-null     float64\n",
      " 6   barcode_box_top        16 non-null     float64\n",
      " 7   barcode_box_width      16 non-null     float64\n",
      " 8   barcode_box_height     16 non-null     float64\n",
      " 9   doc_type_box_left      16 non-null     float64\n",
      " 10  doc_type_box_top       16 non-null     float64\n",
      " 11  doc_type_box_width     16 non-null     float64\n",
      " 12  doc_type_box_height    16 non-null     float64\n",
      " 13  doc_number_box_left    16 non-null     float64\n",
      " 14  doc_number_box_top     16 non-null     float64\n",
      " 15  doc_number_box_width   16 non-null     float64\n",
      " 16  doc_number_box_height  16 non-null     float64\n",
      "dtypes: bool(1), float64(12), object(4)\n",
      "memory usage: 2.1+ KB\n"
     ]
    }
   ],
   "source": [
    "df.info()"
   ]
  },
  {
   "cell_type": "markdown",
   "id": "1506dc50",
   "metadata": {},
   "source": [
    "## Сохранение датасета"
   ]
  },
  {
   "cell_type": "code",
   "execution_count": 71,
   "id": "ed5384e2",
   "metadata": {},
   "outputs": [],
   "source": [
    "df.to_csv('/home/kirillk/datasets/OCR/ocr_test_cases_2/test-cases.csv')"
   ]
  },
  {
   "cell_type": "code",
   "execution_count": 72,
   "id": "777c95c3",
   "metadata": {},
   "outputs": [],
   "source": [
    "test = pd.read_csv('/home/kirillk/datasets/OCR/ocr_test_cases_2/test-cases.csv')"
   ]
  },
  {
   "cell_type": "code",
   "execution_count": 73,
   "id": "2f67c9a7",
   "metadata": {},
   "outputs": [
    {
     "name": "stdout",
     "output_type": "stream",
     "text": [
      "<class 'pandas.core.frame.DataFrame'>\n",
      "RangeIndex: 16 entries, 0 to 15\n",
      "Data columns (total 18 columns):\n",
      " #   Column                 Non-Null Count  Dtype  \n",
      "---  ------                 --------------  -----  \n",
      " 0   Unnamed: 0             16 non-null     int64  \n",
      " 1   filename               16 non-null     object \n",
      " 2   orientation            16 non-null     object \n",
      " 3   barcode_number         16 non-null     int64  \n",
      " 4   doc_number             16 non-null     int64  \n",
      " 5   scan_is_good           16 non-null     bool   \n",
      " 6   barcode_box_left       16 non-null     float64\n",
      " 7   barcode_box_top        16 non-null     float64\n",
      " 8   barcode_box_width      16 non-null     float64\n",
      " 9   barcode_box_height     16 non-null     float64\n",
      " 10  doc_type_box_left      16 non-null     float64\n",
      " 11  doc_type_box_top       16 non-null     float64\n",
      " 12  doc_type_box_width     16 non-null     float64\n",
      " 13  doc_type_box_height    16 non-null     float64\n",
      " 14  doc_number_box_left    16 non-null     float64\n",
      " 15  doc_number_box_top     16 non-null     float64\n",
      " 16  doc_number_box_width   16 non-null     float64\n",
      " 17  doc_number_box_height  16 non-null     float64\n",
      "dtypes: bool(1), float64(12), int64(3), object(2)\n",
      "memory usage: 2.3+ KB\n"
     ]
    }
   ],
   "source": [
    "test.info()"
   ]
  },
  {
   "cell_type": "code",
   "execution_count": 75,
   "id": "0dc26f95",
   "metadata": {},
   "outputs": [],
   "source": [
    "ocr_test = pd.read_csv('/home/kirillk/PycharmProjects/ocr-benchmark/assets/dataset/test-cases.csv')"
   ]
  },
  {
   "cell_type": "code",
   "execution_count": 76,
   "id": "238cacd3",
   "metadata": {},
   "outputs": [
    {
     "name": "stdout",
     "output_type": "stream",
     "text": [
      "<class 'pandas.core.frame.DataFrame'>\n",
      "RangeIndex: 16 entries, 0 to 15\n",
      "Data columns (total 18 columns):\n",
      " #   Column                 Non-Null Count  Dtype  \n",
      "---  ------                 --------------  -----  \n",
      " 0   Unnamed: 0             16 non-null     int64  \n",
      " 1   filename               16 non-null     object \n",
      " 2   orientation            16 non-null     object \n",
      " 3   barcode_number         16 non-null     int64  \n",
      " 4   doc_number             16 non-null     int64  \n",
      " 5   scan_is_good           16 non-null     bool   \n",
      " 6   barcode_box_left       16 non-null     float64\n",
      " 7   barcode_box_top        16 non-null     float64\n",
      " 8   barcode_box_width      16 non-null     float64\n",
      " 9   barcode_box_height     16 non-null     float64\n",
      " 10  doc_type_box_left      16 non-null     float64\n",
      " 11  doc_type_box_top       16 non-null     float64\n",
      " 12  doc_type_box_width     16 non-null     float64\n",
      " 13  doc_type_box_height    16 non-null     float64\n",
      " 14  doc_number_box_left    16 non-null     float64\n",
      " 15  doc_number_box_top     16 non-null     float64\n",
      " 16  doc_number_box_width   16 non-null     float64\n",
      " 17  doc_number_box_height  16 non-null     float64\n",
      "dtypes: bool(1), float64(12), int64(3), object(2)\n",
      "memory usage: 2.3+ KB\n"
     ]
    }
   ],
   "source": [
    "ocr_test.info()"
   ]
  },
  {
   "cell_type": "code",
   "execution_count": null,
   "id": "9b9b1717",
   "metadata": {},
   "outputs": [],
   "source": []
  }
 ],
 "metadata": {
  "kernelspec": {
   "display_name": "ocr_data_generation",
   "language": "python",
   "name": "ocr_data_generation"
  },
  "language_info": {
   "codemirror_mode": {
    "name": "ipython",
    "version": 3
   },
   "file_extension": ".py",
   "mimetype": "text/x-python",
   "name": "python",
   "nbconvert_exporter": "python",
   "pygments_lexer": "ipython3",
   "version": "3.9.13"
  }
 },
 "nbformat": 4,
 "nbformat_minor": 5
}
