{
 "cells": [
  {
   "cell_type": "markdown",
   "id": "cf42bd6c",
   "metadata": {},
   "source": [
    "# Преобразование датасета из Толоки в датасет для бенчмарка "
   ]
  },
  {
   "cell_type": "code",
   "execution_count": 1,
   "id": "1eeee706",
   "metadata": {},
   "outputs": [],
   "source": [
    "import cv2\n",
    "import pandas as pd\n",
    "import os\n",
    "\n",
    "\n",
    "pd.set_option('display.max_columns', 100)\n",
    "pd.set_option('display.max_rows', 100)"
   ]
  },
  {
   "cell_type": "code",
   "execution_count": 2,
   "id": "5ad9f311",
   "metadata": {},
   "outputs": [
    {
     "name": "stdout",
     "output_type": "stream",
     "text": [
      "/home/kirillk/PycharmProjects/useful_notebooks\r\n"
     ]
    }
   ],
   "source": [
    "!pwd"
   ]
  },
  {
   "cell_type": "code",
   "execution_count": 3,
   "id": "79a7ddc1",
   "metadata": {},
   "outputs": [
    {
     "data": {
      "text/plain": [
       "['tasks_for_pool_1186103__26-05-2022.tsv',\n",
       " 'assignments_from_pool_1186103__27-05-2022.tsv']"
      ]
     },
     "execution_count": 3,
     "metadata": {},
     "output_type": "execute_result"
    }
   ],
   "source": [
    "os.listdir('/home/kirillk/Documents/yandex_toloka/ocr_schet_factura_1/')"
   ]
  },
  {
   "cell_type": "markdown",
   "id": "06ab00bd",
   "metadata": {},
   "source": [
    "## Загрузка исходного датасета и первичные преобразования"
   ]
  },
  {
   "cell_type": "code",
   "execution_count": 4,
   "id": "3f1dfb0d",
   "metadata": {},
   "outputs": [],
   "source": [
    "df = pd.read_csv('/home/kirillk/Documents/yandex_toloka/ocr_schet_factura_1/assignments_ocr_schet_factura.csv',\n",
    "                sep='\\t')"
   ]
  },
  {
   "cell_type": "code",
   "execution_count": 5,
   "id": "62031dd8",
   "metadata": {},
   "outputs": [],
   "source": [
    "df.columns = ['filename', 'rectangles', 'doc_type', 'doc_number', 'doc_date']"
   ]
  },
  {
   "cell_type": "code",
   "execution_count": 6,
   "id": "8f492b00",
   "metadata": {},
   "outputs": [],
   "source": [
    "df['filename'] = df['filename'].apply(lambda x: x.split('/')[-1])"
   ]
  },
  {
   "cell_type": "code",
   "execution_count": 7,
   "id": "f2093579",
   "metadata": {},
   "outputs": [],
   "source": [
    "df['scan_is_good'] = True"
   ]
  },
  {
   "cell_type": "code",
   "execution_count": 8,
   "id": "9973aca4",
   "metadata": {},
   "outputs": [
    {
     "data": {
      "text/html": [
       "<div>\n",
       "<style scoped>\n",
       "    .dataframe tbody tr th:only-of-type {\n",
       "        vertical-align: middle;\n",
       "    }\n",
       "\n",
       "    .dataframe tbody tr th {\n",
       "        vertical-align: top;\n",
       "    }\n",
       "\n",
       "    .dataframe thead th {\n",
       "        text-align: right;\n",
       "    }\n",
       "</style>\n",
       "<table border=\"1\" class=\"dataframe\">\n",
       "  <thead>\n",
       "    <tr style=\"text-align: right;\">\n",
       "      <th></th>\n",
       "      <th>filename</th>\n",
       "      <th>rectangles</th>\n",
       "      <th>doc_type</th>\n",
       "      <th>doc_number</th>\n",
       "      <th>doc_date</th>\n",
       "      <th>scan_is_good</th>\n",
       "    </tr>\n",
       "  </thead>\n",
       "  <tbody>\n",
       "    <tr>\n",
       "      <th>0</th>\n",
       "      <td>190.jpg</td>\n",
       "      <td>{\"shape\":\"rectangle\"\\,\"left\":0.059184611970619...</td>\n",
       "      <td>сф</td>\n",
       "      <td>6017637496</td>\n",
       "      <td>04.03.2022</td>\n",
       "      <td>True</td>\n",
       "    </tr>\n",
       "    <tr>\n",
       "      <th>1</th>\n",
       "      <td>084.jpg</td>\n",
       "      <td>{\"shape\":\"rectangle\"\\,\"left\":0.041617963443564...</td>\n",
       "      <td>сф</td>\n",
       "      <td>6600208435</td>\n",
       "      <td>15.11.2021</td>\n",
       "      <td>True</td>\n",
       "    </tr>\n",
       "    <tr>\n",
       "      <th>2</th>\n",
       "      <td>036.jpg</td>\n",
       "      <td>{\"shape\":\"rectangle\"\\,\"left\":0.025688048801457...</td>\n",
       "      <td>сф</td>\n",
       "      <td>60172667909</td>\n",
       "      <td>15.12.2021</td>\n",
       "      <td>True</td>\n",
       "    </tr>\n",
       "    <tr>\n",
       "      <th>3</th>\n",
       "      <td>031.jpg</td>\n",
       "      <td>{\"shape\":\"rectangle\"\\,\"left\":0.079951683602433...</td>\n",
       "      <td>сф</td>\n",
       "      <td>6017257557</td>\n",
       "      <td>10.12.2021</td>\n",
       "      <td>True</td>\n",
       "    </tr>\n",
       "    <tr>\n",
       "      <th>4</th>\n",
       "      <td>043.jpg</td>\n",
       "      <td>{\"shape\":\"rectangle\"\\,\"left\":0.035432585062619...</td>\n",
       "      <td>сф</td>\n",
       "      <td>6017291593</td>\n",
       "      <td>28.12.2021</td>\n",
       "      <td>True</td>\n",
       "    </tr>\n",
       "  </tbody>\n",
       "</table>\n",
       "</div>"
      ],
      "text/plain": [
       "  filename                                         rectangles doc_type  \\\n",
       "0  190.jpg  {\"shape\":\"rectangle\"\\,\"left\":0.059184611970619...       сф   \n",
       "1  084.jpg  {\"shape\":\"rectangle\"\\,\"left\":0.041617963443564...       сф   \n",
       "2  036.jpg  {\"shape\":\"rectangle\"\\,\"left\":0.025688048801457...       сф   \n",
       "3  031.jpg  {\"shape\":\"rectangle\"\\,\"left\":0.079951683602433...       сф   \n",
       "4  043.jpg  {\"shape\":\"rectangle\"\\,\"left\":0.035432585062619...       сф   \n",
       "\n",
       "    doc_number    doc_date  scan_is_good  \n",
       "0   6017637496  04.03.2022          True  \n",
       "1   6600208435  15.11.2021          True  \n",
       "2  60172667909  15.12.2021          True  \n",
       "3   6017257557  10.12.2021          True  \n",
       "4   6017291593  28.12.2021          True  "
      ]
     },
     "execution_count": 8,
     "metadata": {},
     "output_type": "execute_result"
    }
   ],
   "source": [
    "df.head()"
   ]
  },
  {
   "cell_type": "code",
   "execution_count": 9,
   "id": "76a9ab28",
   "metadata": {},
   "outputs": [
    {
     "data": {
      "text/plain": [
       "(200, 6)"
      ]
     },
     "execution_count": 9,
     "metadata": {},
     "output_type": "execute_result"
    }
   ],
   "source": [
    "df.shape"
   ]
  },
  {
   "cell_type": "code",
   "execution_count": 11,
   "id": "95cd6f64",
   "metadata": {},
   "outputs": [
    {
     "name": "stdout",
     "output_type": "stream",
     "text": [
      "<class 'pandas.core.frame.DataFrame'>\n",
      "RangeIndex: 200 entries, 0 to 199\n",
      "Data columns (total 6 columns):\n",
      " #   Column        Non-Null Count  Dtype \n",
      "---  ------        --------------  ----- \n",
      " 0   filename      200 non-null    object\n",
      " 1   rectangles    200 non-null    object\n",
      " 2   doc_type      200 non-null    object\n",
      " 3   doc_number    200 non-null    int64 \n",
      " 4   doc_date      200 non-null    object\n",
      " 5   scan_is_good  200 non-null    bool  \n",
      "dtypes: bool(1), int64(1), object(4)\n",
      "memory usage: 8.1+ KB\n"
     ]
    }
   ],
   "source": [
    "df.info()"
   ]
  },
  {
   "cell_type": "markdown",
   "id": "9d5d3cc8",
   "metadata": {},
   "source": [
    "## Подготовка данных в датасете"
   ]
  },
  {
   "cell_type": "markdown",
   "id": "c1c1880e",
   "metadata": {},
   "source": [
    "### Подготовка данных в столбце 'filename'"
   ]
  },
  {
   "cell_type": "code",
   "execution_count": 12,
   "id": "66d9f060",
   "metadata": {},
   "outputs": [
    {
     "data": {
      "text/plain": [
       "['001.jpg',\n",
       " '002.jpg',\n",
       " '003.jpg',\n",
       " '004.jpg',\n",
       " '005.jpg',\n",
       " '006.jpg',\n",
       " '007.jpg',\n",
       " '008.jpg',\n",
       " '009.jpg',\n",
       " '010.jpg',\n",
       " '011.jpg',\n",
       " '012.jpg',\n",
       " '013.jpg',\n",
       " '014.jpg',\n",
       " '015.jpg',\n",
       " '016.jpg',\n",
       " '017.jpg',\n",
       " '018.jpg',\n",
       " '019.jpg',\n",
       " '020.jpg',\n",
       " '021.jpg',\n",
       " '022.jpg',\n",
       " '023.jpg',\n",
       " '024.jpg',\n",
       " '025.jpg',\n",
       " '026.jpg',\n",
       " '027.jpg',\n",
       " '028.jpg',\n",
       " '029.jpg',\n",
       " '030.jpg',\n",
       " '031.jpg',\n",
       " '032.jpg',\n",
       " '033.jpg',\n",
       " '034.jpg',\n",
       " '035.jpg',\n",
       " '036.jpg',\n",
       " '037.jpg',\n",
       " '038.jpg',\n",
       " '039.jpg',\n",
       " '040.jpg',\n",
       " '041.jpg',\n",
       " '042.jpg',\n",
       " '043.jpg',\n",
       " '044.jpg',\n",
       " '045.jpg',\n",
       " '046.jpg',\n",
       " '047.jpg',\n",
       " '048.jpg',\n",
       " '049.jpg',\n",
       " '050.jpg',\n",
       " '051.jpg',\n",
       " '052.jpg',\n",
       " '053.jpg',\n",
       " '054.jpg',\n",
       " '055.jpg',\n",
       " '056.jpg',\n",
       " '057.jpg',\n",
       " '058.jpg',\n",
       " '059.jpg',\n",
       " '060.jpg',\n",
       " '061.jpg',\n",
       " '062.jpg',\n",
       " '063.jpg',\n",
       " '064.jpg',\n",
       " '065.jpg',\n",
       " '066.jpg',\n",
       " '067.jpg',\n",
       " '068.jpg',\n",
       " '069.jpg',\n",
       " '070.jpg',\n",
       " '071.jpg',\n",
       " '072.jpg',\n",
       " '073.jpg',\n",
       " '074.jpg',\n",
       " '075.jpg',\n",
       " '076.jpg',\n",
       " '077.jpg',\n",
       " '078.jpg',\n",
       " '079.jpg',\n",
       " '080.jpg',\n",
       " '081.jpg',\n",
       " '082.jpg',\n",
       " '083.jpg',\n",
       " '084.jpg',\n",
       " '085.jpg',\n",
       " '086.jpg',\n",
       " '087.jpg',\n",
       " '088.jpg',\n",
       " '089.jpg',\n",
       " '090.jpg',\n",
       " '091.jpg',\n",
       " '092.jpg',\n",
       " '093.jpg',\n",
       " '094.jpg',\n",
       " '095.jpg',\n",
       " '096.jpg',\n",
       " '097.jpg',\n",
       " '098.jpg',\n",
       " '099.jpg',\n",
       " '100.jpg',\n",
       " '101.jpg',\n",
       " '102.jpg',\n",
       " '103.jpg',\n",
       " '104.jpg',\n",
       " '105.jpg',\n",
       " '106.jpg',\n",
       " '107.jpg',\n",
       " '108.jpg',\n",
       " '109.jpg',\n",
       " '110.jpg',\n",
       " '111.jpg',\n",
       " '112.jpg',\n",
       " '113.jpg',\n",
       " '114.jpg',\n",
       " '115.jpg',\n",
       " '116.jpg',\n",
       " '117.jpg',\n",
       " '118.jpg',\n",
       " '119.jpg',\n",
       " '120.jpg',\n",
       " '121.jpg',\n",
       " '122.jpg',\n",
       " '123.jpg',\n",
       " '124.jpg',\n",
       " '125.jpg',\n",
       " '126.jpg',\n",
       " '127.jpg',\n",
       " '128.jpg',\n",
       " '129.jpg',\n",
       " '130.jpg',\n",
       " '131.jpg',\n",
       " '132.jpg',\n",
       " '133.jpg',\n",
       " '134.jpg',\n",
       " '135.jpg',\n",
       " '136.jpg',\n",
       " '137.jpg',\n",
       " '138.jpg',\n",
       " '139.jpg',\n",
       " '140.jpg',\n",
       " '141.jpg',\n",
       " '142.jpg',\n",
       " '143.jpg',\n",
       " '144.jpg',\n",
       " '145.jpg',\n",
       " '146.jpg',\n",
       " '147.jpg',\n",
       " '148.jpg',\n",
       " '149.jpg',\n",
       " '150.jpg',\n",
       " '151.jpg',\n",
       " '152.jpg',\n",
       " '153.jpg',\n",
       " '154.jpg',\n",
       " '155.jpg',\n",
       " '156.jpg',\n",
       " '157.jpg',\n",
       " '158.jpg',\n",
       " '159.jpg',\n",
       " '160.jpg',\n",
       " '161.jpg',\n",
       " '162.jpg',\n",
       " '163.jpg',\n",
       " '164.jpg',\n",
       " '165.jpg',\n",
       " '166.jpg',\n",
       " '167.jpg',\n",
       " '168.jpg',\n",
       " '169.jpg',\n",
       " '170.jpg',\n",
       " '171.jpg',\n",
       " '172.jpg',\n",
       " '173.jpg',\n",
       " '174.jpg',\n",
       " '175.jpg',\n",
       " '176.jpg',\n",
       " '177.jpg',\n",
       " '178.jpg',\n",
       " '179.jpg',\n",
       " '180.jpg',\n",
       " '181.jpg',\n",
       " '182.jpg',\n",
       " '183.jpg',\n",
       " '184.jpg',\n",
       " '185.jpg',\n",
       " '186.jpg',\n",
       " '187.jpg',\n",
       " '188.jpg',\n",
       " '189.jpg',\n",
       " '190.jpg',\n",
       " '191.jpg',\n",
       " '192.jpg',\n",
       " '193.jpg',\n",
       " '194.jpg',\n",
       " '195.jpg',\n",
       " '196.jpg',\n",
       " '197.jpg',\n",
       " '198.jpg',\n",
       " '199.jpg',\n",
       " '200.jpg']"
      ]
     },
     "execution_count": 12,
     "metadata": {},
     "output_type": "execute_result"
    }
   ],
   "source": [
    "sorted(df['filename'].unique())"
   ]
  },
  {
   "cell_type": "markdown",
   "id": "b0039520",
   "metadata": {},
   "source": [
    "Данные готовы"
   ]
  },
  {
   "cell_type": "markdown",
   "id": "bbade466",
   "metadata": {},
   "source": [
    "### Подготовка данных в столбце 'doc_type'"
   ]
  },
  {
   "cell_type": "code",
   "execution_count": 13,
   "id": "06b5763f",
   "metadata": {},
   "outputs": [
    {
     "data": {
      "text/plain": [
       "array(['сф'], dtype=object)"
      ]
     },
     "execution_count": 13,
     "metadata": {},
     "output_type": "execute_result"
    }
   ],
   "source": [
    "df['doc_type'].unique()"
   ]
  },
  {
   "cell_type": "code",
   "execution_count": 14,
   "id": "66ed285e",
   "metadata": {},
   "outputs": [],
   "source": [
    "df['doc_type'] = df['doc_type'].str.lower()"
   ]
  },
  {
   "cell_type": "code",
   "execution_count": 15,
   "id": "ebc9945e",
   "metadata": {},
   "outputs": [
    {
     "data": {
      "text/plain": [
       "array(['сф'], dtype=object)"
      ]
     },
     "execution_count": 15,
     "metadata": {},
     "output_type": "execute_result"
    }
   ],
   "source": [
    "df['doc_type'].unique()"
   ]
  },
  {
   "cell_type": "markdown",
   "id": "68236872",
   "metadata": {},
   "source": [
    "### Подготовка данных в столбце 'doc_number'"
   ]
  },
  {
   "cell_type": "code",
   "execution_count": 19,
   "id": "4f46a5d7",
   "metadata": {},
   "outputs": [],
   "source": [
    "df['doc_number'] = df['doc_number'].astype('str')"
   ]
  },
  {
   "cell_type": "code",
   "execution_count": 20,
   "id": "e2a554c0",
   "metadata": {},
   "outputs": [
    {
     "data": {
      "text/html": [
       "<div>\n",
       "<style scoped>\n",
       "    .dataframe tbody tr th:only-of-type {\n",
       "        vertical-align: middle;\n",
       "    }\n",
       "\n",
       "    .dataframe tbody tr th {\n",
       "        vertical-align: top;\n",
       "    }\n",
       "\n",
       "    .dataframe thead th {\n",
       "        text-align: right;\n",
       "    }\n",
       "</style>\n",
       "<table border=\"1\" class=\"dataframe\">\n",
       "  <thead>\n",
       "    <tr style=\"text-align: right;\">\n",
       "      <th></th>\n",
       "      <th>filename</th>\n",
       "      <th>rectangles</th>\n",
       "      <th>doc_type</th>\n",
       "      <th>doc_number</th>\n",
       "      <th>doc_date</th>\n",
       "      <th>scan_is_good</th>\n",
       "    </tr>\n",
       "  </thead>\n",
       "  <tbody>\n",
       "    <tr>\n",
       "      <th>2</th>\n",
       "      <td>036.jpg</td>\n",
       "      <td>{\"shape\":\"rectangle\"\\,\"left\":0.025688048801457...</td>\n",
       "      <td>сф</td>\n",
       "      <td>60172667909</td>\n",
       "      <td>15.12.2021</td>\n",
       "      <td>True</td>\n",
       "    </tr>\n",
       "  </tbody>\n",
       "</table>\n",
       "</div>"
      ],
      "text/plain": [
       "  filename                                         rectangles doc_type  \\\n",
       "2  036.jpg  {\"shape\":\"rectangle\"\\,\"left\":0.025688048801457...       сф   \n",
       "\n",
       "    doc_number    doc_date  scan_is_good  \n",
       "2  60172667909  15.12.2021          True  "
      ]
     },
     "execution_count": 20,
     "metadata": {},
     "output_type": "execute_result"
    }
   ],
   "source": [
    "df[df['doc_number'].str.len() !=10]"
   ]
  },
  {
   "cell_type": "code",
   "execution_count": 21,
   "id": "a591193b",
   "metadata": {},
   "outputs": [
    {
     "data": {
      "text/plain": [
       "'60172667909'"
      ]
     },
     "execution_count": 21,
     "metadata": {},
     "output_type": "execute_result"
    }
   ],
   "source": [
    "df['doc_number'][2]"
   ]
  },
  {
   "cell_type": "markdown",
   "id": "cbedc9ad",
   "metadata": {},
   "source": [
    "Исправим ошибки разметки."
   ]
  },
  {
   "cell_type": "code",
   "execution_count": 22,
   "id": "d12f2d82",
   "metadata": {},
   "outputs": [
    {
     "name": "stderr",
     "output_type": "stream",
     "text": [
      "/tmp/ipykernel_20404/1681684469.py:1: SettingWithCopyWarning: \n",
      "A value is trying to be set on a copy of a slice from a DataFrame\n",
      "\n",
      "See the caveats in the documentation: https://pandas.pydata.org/pandas-docs/stable/user_guide/indexing.html#returning-a-view-versus-a-copy\n",
      "  df['doc_number'][2] = '6017267909'\n"
     ]
    },
    {
     "data": {
      "text/plain": [
       "'6017267909'"
      ]
     },
     "execution_count": 22,
     "metadata": {},
     "output_type": "execute_result"
    }
   ],
   "source": [
    "df['doc_number'][2] = '6017267909'\n",
    "df['doc_number'][2]"
   ]
  },
  {
   "cell_type": "code",
   "execution_count": 23,
   "id": "0e6bc946",
   "metadata": {},
   "outputs": [
    {
     "data": {
      "text/html": [
       "<div>\n",
       "<style scoped>\n",
       "    .dataframe tbody tr th:only-of-type {\n",
       "        vertical-align: middle;\n",
       "    }\n",
       "\n",
       "    .dataframe tbody tr th {\n",
       "        vertical-align: top;\n",
       "    }\n",
       "\n",
       "    .dataframe thead th {\n",
       "        text-align: right;\n",
       "    }\n",
       "</style>\n",
       "<table border=\"1\" class=\"dataframe\">\n",
       "  <thead>\n",
       "    <tr style=\"text-align: right;\">\n",
       "      <th></th>\n",
       "      <th>filename</th>\n",
       "      <th>rectangles</th>\n",
       "      <th>doc_type</th>\n",
       "      <th>doc_number</th>\n",
       "      <th>doc_date</th>\n",
       "      <th>scan_is_good</th>\n",
       "    </tr>\n",
       "  </thead>\n",
       "  <tbody>\n",
       "  </tbody>\n",
       "</table>\n",
       "</div>"
      ],
      "text/plain": [
       "Empty DataFrame\n",
       "Columns: [filename, rectangles, doc_type, doc_number, doc_date, scan_is_good]\n",
       "Index: []"
      ]
     },
     "execution_count": 23,
     "metadata": {},
     "output_type": "execute_result"
    }
   ],
   "source": [
    "df[df['doc_number'].str.len() !=10]"
   ]
  },
  {
   "cell_type": "code",
   "execution_count": 24,
   "id": "c9bfb31e",
   "metadata": {},
   "outputs": [
    {
     "data": {
      "text/html": [
       "<div>\n",
       "<style scoped>\n",
       "    .dataframe tbody tr th:only-of-type {\n",
       "        vertical-align: middle;\n",
       "    }\n",
       "\n",
       "    .dataframe tbody tr th {\n",
       "        vertical-align: top;\n",
       "    }\n",
       "\n",
       "    .dataframe thead th {\n",
       "        text-align: right;\n",
       "    }\n",
       "</style>\n",
       "<table border=\"1\" class=\"dataframe\">\n",
       "  <thead>\n",
       "    <tr style=\"text-align: right;\">\n",
       "      <th></th>\n",
       "      <th>filename</th>\n",
       "      <th>rectangles</th>\n",
       "      <th>doc_type</th>\n",
       "      <th>doc_number</th>\n",
       "      <th>doc_date</th>\n",
       "      <th>scan_is_good</th>\n",
       "    </tr>\n",
       "  </thead>\n",
       "  <tbody>\n",
       "  </tbody>\n",
       "</table>\n",
       "</div>"
      ],
      "text/plain": [
       "Empty DataFrame\n",
       "Columns: [filename, rectangles, doc_type, doc_number, doc_date, scan_is_good]\n",
       "Index: []"
      ]
     },
     "execution_count": 24,
     "metadata": {},
     "output_type": "execute_result"
    }
   ],
   "source": [
    "df[df['doc_number'].str.isnumeric() == False]"
   ]
  },
  {
   "cell_type": "markdown",
   "id": "4cd588e5",
   "metadata": {},
   "source": [
    "Данные готовы."
   ]
  },
  {
   "cell_type": "markdown",
   "id": "38502cc4",
   "metadata": {},
   "source": [
    "### Парсинг столбца rectangles"
   ]
  },
  {
   "cell_type": "code",
   "execution_count": 25,
   "id": "57c0b44f",
   "metadata": {},
   "outputs": [],
   "source": [
    "rec = df['rectangles'][0]"
   ]
  },
  {
   "cell_type": "code",
   "execution_count": 26,
   "id": "049c5517",
   "metadata": {},
   "outputs": [],
   "source": [
    "rec = eval(rec.replace('\\\\', ''))"
   ]
  },
  {
   "cell_type": "code",
   "execution_count": 27,
   "id": "c258fdba",
   "metadata": {},
   "outputs": [
    {
     "data": {
      "text/plain": [
       "({'shape': 'rectangle',\n",
       "  'left': 0.05918461197061993,\n",
       "  'top': 0.06259846706138808,\n",
       "  'width': 0.09241069833923372,\n",
       "  'height': 0.010006867495788066,\n",
       "  'label': 'doc_type'},\n",
       " {'shape': 'rectangle',\n",
       "  'left': 0.17587269716168627,\n",
       "  'top': 0.0627837794224212,\n",
       "  'width': 0.07648682094179513,\n",
       "  'height': 0.010192179856821193,\n",
       "  'label': 'doc_number'},\n",
       " {'shape': 'rectangle',\n",
       "  'left': 0.2745485275917155,\n",
       "  'top': 0.06259846706138808,\n",
       "  'width': 0.0665670284647023,\n",
       "  'height': 0.01111874166198673,\n",
       "  'label': 'doc_date'})"
      ]
     },
     "execution_count": 27,
     "metadata": {},
     "output_type": "execute_result"
    }
   ],
   "source": [
    "rec"
   ]
  },
  {
   "cell_type": "code",
   "execution_count": 28,
   "id": "ac3f3a93",
   "metadata": {},
   "outputs": [],
   "source": [
    "example = pd.DataFrame(rec).set_index('label').drop('shape', axis=1).T.unstack().to_frame().T"
   ]
  },
  {
   "cell_type": "code",
   "execution_count": 29,
   "id": "686714d8",
   "metadata": {},
   "outputs": [
    {
     "data": {
      "text/html": [
       "<div>\n",
       "<style scoped>\n",
       "    .dataframe tbody tr th:only-of-type {\n",
       "        vertical-align: middle;\n",
       "    }\n",
       "\n",
       "    .dataframe tbody tr th {\n",
       "        vertical-align: top;\n",
       "    }\n",
       "\n",
       "    .dataframe thead tr th {\n",
       "        text-align: left;\n",
       "    }\n",
       "</style>\n",
       "<table border=\"1\" class=\"dataframe\">\n",
       "  <thead>\n",
       "    <tr>\n",
       "      <th>label</th>\n",
       "      <th colspan=\"4\" halign=\"left\">doc_type</th>\n",
       "      <th colspan=\"4\" halign=\"left\">doc_number</th>\n",
       "      <th colspan=\"4\" halign=\"left\">doc_date</th>\n",
       "    </tr>\n",
       "    <tr>\n",
       "      <th></th>\n",
       "      <th>left</th>\n",
       "      <th>top</th>\n",
       "      <th>width</th>\n",
       "      <th>height</th>\n",
       "      <th>left</th>\n",
       "      <th>top</th>\n",
       "      <th>width</th>\n",
       "      <th>height</th>\n",
       "      <th>left</th>\n",
       "      <th>top</th>\n",
       "      <th>width</th>\n",
       "      <th>height</th>\n",
       "    </tr>\n",
       "  </thead>\n",
       "  <tbody>\n",
       "    <tr>\n",
       "      <th>0</th>\n",
       "      <td>0.059185</td>\n",
       "      <td>0.062598</td>\n",
       "      <td>0.092411</td>\n",
       "      <td>0.010007</td>\n",
       "      <td>0.175873</td>\n",
       "      <td>0.062784</td>\n",
       "      <td>0.076487</td>\n",
       "      <td>0.010192</td>\n",
       "      <td>0.274549</td>\n",
       "      <td>0.062598</td>\n",
       "      <td>0.066567</td>\n",
       "      <td>0.011119</td>\n",
       "    </tr>\n",
       "  </tbody>\n",
       "</table>\n",
       "</div>"
      ],
      "text/plain": [
       "label  doc_type                               doc_number                      \\\n",
       "           left       top     width    height       left       top     width   \n",
       "0      0.059185  0.062598  0.092411  0.010007   0.175873  0.062784  0.076487   \n",
       "\n",
       "label            doc_date                                \n",
       "         height      left       top     width    height  \n",
       "0      0.010192  0.274549  0.062598  0.066567  0.011119  "
      ]
     },
     "execution_count": 29,
     "metadata": {},
     "output_type": "execute_result"
    }
   ],
   "source": [
    "example"
   ]
  },
  {
   "cell_type": "code",
   "execution_count": 30,
   "id": "c428966f",
   "metadata": {},
   "outputs": [
    {
     "data": {
      "text/plain": [
       "MultiIndex([(  'doc_type',   'left'),\n",
       "            (  'doc_type',    'top'),\n",
       "            (  'doc_type',  'width'),\n",
       "            (  'doc_type', 'height'),\n",
       "            ('doc_number',   'left'),\n",
       "            ('doc_number',    'top'),\n",
       "            ('doc_number',  'width'),\n",
       "            ('doc_number', 'height'),\n",
       "            (  'doc_date',   'left'),\n",
       "            (  'doc_date',    'top'),\n",
       "            (  'doc_date',  'width'),\n",
       "            (  'doc_date', 'height')],\n",
       "           names=['label', None])"
      ]
     },
     "execution_count": 30,
     "metadata": {},
     "output_type": "execute_result"
    }
   ],
   "source": [
    "example.columns"
   ]
  },
  {
   "cell_type": "code",
   "execution_count": 31,
   "id": "4c1a72e7",
   "metadata": {},
   "outputs": [
    {
     "data": {
      "text/plain": [
       "Index(['doc_type_left', 'doc_type_top', 'doc_type_width', 'doc_type_height',\n",
       "       'doc_number_left', 'doc_number_top', 'doc_number_width',\n",
       "       'doc_number_height', 'doc_date_left', 'doc_date_top', 'doc_date_width',\n",
       "       'doc_date_height'],\n",
       "      dtype='object')"
      ]
     },
     "execution_count": 31,
     "metadata": {},
     "output_type": "execute_result"
    }
   ],
   "source": [
    "example.columns = ['_'.join(col) for col in example.columns]\n",
    "example.columns"
   ]
  },
  {
   "cell_type": "code",
   "execution_count": 32,
   "id": "e7105b00",
   "metadata": {},
   "outputs": [
    {
     "data": {
      "text/plain": [
       "'doc_type'"
      ]
     },
     "execution_count": 32,
     "metadata": {},
     "output_type": "execute_result"
    }
   ],
   "source": [
    "'_'.join(example.columns[0].split('_')[:2])"
   ]
  },
  {
   "cell_type": "code",
   "execution_count": 33,
   "id": "3c69e2a6",
   "metadata": {},
   "outputs": [],
   "source": [
    "new_columns_list = []"
   ]
  },
  {
   "cell_type": "code",
   "execution_count": 34,
   "id": "de06be78",
   "metadata": {},
   "outputs": [],
   "source": [
    "for col in example.columns:\n",
    "    new_columns_list.append('_'.join(col.split('_')[:2]) + '_box_' + col.split('_')[-1])\n",
    "#     print(col)"
   ]
  },
  {
   "cell_type": "code",
   "execution_count": 35,
   "id": "6fc2a135",
   "metadata": {},
   "outputs": [
    {
     "data": {
      "text/plain": [
       "['doc_type_box_left',\n",
       " 'doc_type_box_top',\n",
       " 'doc_type_box_width',\n",
       " 'doc_type_box_height',\n",
       " 'doc_number_box_left',\n",
       " 'doc_number_box_top',\n",
       " 'doc_number_box_width',\n",
       " 'doc_number_box_height',\n",
       " 'doc_date_box_left',\n",
       " 'doc_date_box_top',\n",
       " 'doc_date_box_width',\n",
       " 'doc_date_box_height']"
      ]
     },
     "execution_count": 35,
     "metadata": {},
     "output_type": "execute_result"
    }
   ],
   "source": [
    "new_columns_list"
   ]
  },
  {
   "cell_type": "code",
   "execution_count": 36,
   "id": "f0cf2987",
   "metadata": {},
   "outputs": [],
   "source": [
    "example.columns = new_columns_list"
   ]
  },
  {
   "cell_type": "code",
   "execution_count": 37,
   "id": "48851c79",
   "metadata": {},
   "outputs": [],
   "source": [
    "example.columns = example.columns.str.replace('-', '_')"
   ]
  },
  {
   "cell_type": "code",
   "execution_count": 38,
   "id": "035fb496",
   "metadata": {},
   "outputs": [
    {
     "data": {
      "text/plain": [
       "Index(['doc_type_box_left', 'doc_type_box_top', 'doc_type_box_width',\n",
       "       'doc_type_box_height', 'doc_number_box_left', 'doc_number_box_top',\n",
       "       'doc_number_box_width', 'doc_number_box_height', 'doc_date_box_left',\n",
       "       'doc_date_box_top', 'doc_date_box_width', 'doc_date_box_height'],\n",
       "      dtype='object')"
      ]
     },
     "execution_count": 38,
     "metadata": {},
     "output_type": "execute_result"
    }
   ],
   "source": [
    "example.columns"
   ]
  },
  {
   "cell_type": "code",
   "execution_count": 39,
   "id": "9325e6b7",
   "metadata": {},
   "outputs": [
    {
     "data": {
      "text/html": [
       "<div>\n",
       "<style scoped>\n",
       "    .dataframe tbody tr th:only-of-type {\n",
       "        vertical-align: middle;\n",
       "    }\n",
       "\n",
       "    .dataframe tbody tr th {\n",
       "        vertical-align: top;\n",
       "    }\n",
       "\n",
       "    .dataframe thead th {\n",
       "        text-align: right;\n",
       "    }\n",
       "</style>\n",
       "<table border=\"1\" class=\"dataframe\">\n",
       "  <thead>\n",
       "    <tr style=\"text-align: right;\">\n",
       "      <th></th>\n",
       "      <th>doc_type_box_left</th>\n",
       "      <th>doc_type_box_top</th>\n",
       "      <th>doc_type_box_width</th>\n",
       "      <th>doc_type_box_height</th>\n",
       "      <th>doc_number_box_left</th>\n",
       "      <th>doc_number_box_top</th>\n",
       "      <th>doc_number_box_width</th>\n",
       "      <th>doc_number_box_height</th>\n",
       "      <th>doc_date_box_left</th>\n",
       "      <th>doc_date_box_top</th>\n",
       "      <th>doc_date_box_width</th>\n",
       "      <th>doc_date_box_height</th>\n",
       "    </tr>\n",
       "  </thead>\n",
       "  <tbody>\n",
       "    <tr>\n",
       "      <th>0</th>\n",
       "      <td>0.059185</td>\n",
       "      <td>0.062598</td>\n",
       "      <td>0.092411</td>\n",
       "      <td>0.010007</td>\n",
       "      <td>0.175873</td>\n",
       "      <td>0.062784</td>\n",
       "      <td>0.076487</td>\n",
       "      <td>0.010192</td>\n",
       "      <td>0.274549</td>\n",
       "      <td>0.062598</td>\n",
       "      <td>0.066567</td>\n",
       "      <td>0.011119</td>\n",
       "    </tr>\n",
       "  </tbody>\n",
       "</table>\n",
       "</div>"
      ],
      "text/plain": [
       "   doc_type_box_left  doc_type_box_top  doc_type_box_width  \\\n",
       "0           0.059185          0.062598            0.092411   \n",
       "\n",
       "   doc_type_box_height  doc_number_box_left  doc_number_box_top  \\\n",
       "0             0.010007             0.175873            0.062784   \n",
       "\n",
       "   doc_number_box_width  doc_number_box_height  doc_date_box_left  \\\n",
       "0              0.076487               0.010192           0.274549   \n",
       "\n",
       "   doc_date_box_top  doc_date_box_width  doc_date_box_height  \n",
       "0          0.062598            0.066567             0.011119  "
      ]
     },
     "execution_count": 39,
     "metadata": {},
     "output_type": "execute_result"
    }
   ],
   "source": [
    "example"
   ]
  },
  {
   "cell_type": "code",
   "execution_count": 40,
   "id": "6b80b0b6",
   "metadata": {},
   "outputs": [],
   "source": [
    "rectangles_list = []"
   ]
  },
  {
   "cell_type": "code",
   "execution_count": 41,
   "id": "9accda4d",
   "metadata": {},
   "outputs": [],
   "source": [
    "for rectangles in df['rectangles']:\n",
    "    rectangles = eval(rectangles.replace('\\\\', ''))\n",
    "    rectangles = pd.DataFrame(rectangles).set_index('label').drop('shape', axis=1).T.unstack().to_frame().T\n",
    "    \n",
    "    rectangles.columns = ['_'.join(col) for col in rectangles.columns]\n",
    "    \n",
    "    new_columns_list = []\n",
    "    for col in rectangles.columns:\n",
    "        new_columns_list.append('_'.join(col.split('_')[:2]) + '_box_' + col.split('_')[-1])\n",
    "    \n",
    "    rectangles.columns = new_columns_list\n",
    "    \n",
    "    rectangles.columns = rectangles.columns.str.replace('-', '_')\n",
    "    rectangles.columns = rectangles.columns.str.replace('name', 'type')\n",
    "    rectangles_list.append(rectangles)"
   ]
  },
  {
   "cell_type": "code",
   "execution_count": 42,
   "id": "f7fb102e",
   "metadata": {},
   "outputs": [],
   "source": [
    "boxes_table = pd.concat(rectangles_list, ignore_index=True)"
   ]
  },
  {
   "cell_type": "code",
   "execution_count": 43,
   "id": "c168256f",
   "metadata": {},
   "outputs": [
    {
     "data": {
      "text/html": [
       "<div>\n",
       "<style scoped>\n",
       "    .dataframe tbody tr th:only-of-type {\n",
       "        vertical-align: middle;\n",
       "    }\n",
       "\n",
       "    .dataframe tbody tr th {\n",
       "        vertical-align: top;\n",
       "    }\n",
       "\n",
       "    .dataframe thead th {\n",
       "        text-align: right;\n",
       "    }\n",
       "</style>\n",
       "<table border=\"1\" class=\"dataframe\">\n",
       "  <thead>\n",
       "    <tr style=\"text-align: right;\">\n",
       "      <th></th>\n",
       "      <th>doc_type_box_left</th>\n",
       "      <th>doc_type_box_top</th>\n",
       "      <th>doc_type_box_width</th>\n",
       "      <th>doc_type_box_height</th>\n",
       "      <th>doc_number_box_left</th>\n",
       "      <th>doc_number_box_top</th>\n",
       "      <th>doc_number_box_width</th>\n",
       "      <th>doc_number_box_height</th>\n",
       "      <th>doc_date_box_left</th>\n",
       "      <th>doc_date_box_top</th>\n",
       "      <th>doc_date_box_width</th>\n",
       "      <th>doc_date_box_height</th>\n",
       "    </tr>\n",
       "  </thead>\n",
       "  <tbody>\n",
       "    <tr>\n",
       "      <th>0</th>\n",
       "      <td>0.059185</td>\n",
       "      <td>0.062598</td>\n",
       "      <td>0.092411</td>\n",
       "      <td>0.010007</td>\n",
       "      <td>0.175873</td>\n",
       "      <td>0.062784</td>\n",
       "      <td>0.076487</td>\n",
       "      <td>0.010192</td>\n",
       "      <td>0.274549</td>\n",
       "      <td>0.062598</td>\n",
       "      <td>0.066567</td>\n",
       "      <td>0.011119</td>\n",
       "    </tr>\n",
       "    <tr>\n",
       "      <th>1</th>\n",
       "      <td>0.041618</td>\n",
       "      <td>0.038958</td>\n",
       "      <td>0.095529</td>\n",
       "      <td>0.011860</td>\n",
       "      <td>0.162381</td>\n",
       "      <td>0.038958</td>\n",
       "      <td>0.076732</td>\n",
       "      <td>0.012045</td>\n",
       "      <td>0.261773</td>\n",
       "      <td>0.039514</td>\n",
       "      <td>0.067463</td>\n",
       "      <td>0.010933</td>\n",
       "    </tr>\n",
       "    <tr>\n",
       "      <th>2</th>\n",
       "      <td>0.025688</td>\n",
       "      <td>0.034857</td>\n",
       "      <td>0.092651</td>\n",
       "      <td>0.010556</td>\n",
       "      <td>0.144101</td>\n",
       "      <td>0.034187</td>\n",
       "      <td>0.074688</td>\n",
       "      <td>0.011896</td>\n",
       "      <td>0.241479</td>\n",
       "      <td>0.034522</td>\n",
       "      <td>0.065943</td>\n",
       "      <td>0.010556</td>\n",
       "    </tr>\n",
       "    <tr>\n",
       "      <th>3</th>\n",
       "      <td>0.079952</td>\n",
       "      <td>0.055576</td>\n",
       "      <td>0.088377</td>\n",
       "      <td>0.009839</td>\n",
       "      <td>0.192667</td>\n",
       "      <td>0.055058</td>\n",
       "      <td>0.069473</td>\n",
       "      <td>0.010875</td>\n",
       "      <td>0.284116</td>\n",
       "      <td>0.055576</td>\n",
       "      <td>0.062383</td>\n",
       "      <td>0.010012</td>\n",
       "    </tr>\n",
       "    <tr>\n",
       "      <th>4</th>\n",
       "      <td>0.035433</td>\n",
       "      <td>0.040401</td>\n",
       "      <td>0.092204</td>\n",
       "      <td>0.008621</td>\n",
       "      <td>0.152521</td>\n",
       "      <td>0.039651</td>\n",
       "      <td>0.073082</td>\n",
       "      <td>0.010308</td>\n",
       "      <td>0.247082</td>\n",
       "      <td>0.039838</td>\n",
       "      <td>0.065224</td>\n",
       "      <td>0.009371</td>\n",
       "    </tr>\n",
       "    <tr>\n",
       "      <th>5</th>\n",
       "      <td>0.040493</td>\n",
       "      <td>0.037626</td>\n",
       "      <td>0.097163</td>\n",
       "      <td>0.010563</td>\n",
       "      <td>0.162992</td>\n",
       "      <td>0.037440</td>\n",
       "      <td>0.079663</td>\n",
       "      <td>0.010933</td>\n",
       "      <td>0.265117</td>\n",
       "      <td>0.036328</td>\n",
       "      <td>0.071566</td>\n",
       "      <td>0.012045</td>\n",
       "    </tr>\n",
       "    <tr>\n",
       "      <th>6</th>\n",
       "      <td>0.045505</td>\n",
       "      <td>0.047221</td>\n",
       "      <td>0.094511</td>\n",
       "      <td>0.011561</td>\n",
       "      <td>0.165559</td>\n",
       "      <td>0.047724</td>\n",
       "      <td>0.075469</td>\n",
       "      <td>0.012231</td>\n",
       "      <td>0.263785</td>\n",
       "      <td>0.048561</td>\n",
       "      <td>0.070128</td>\n",
       "      <td>0.011394</td>\n",
       "    </tr>\n",
       "    <tr>\n",
       "      <th>7</th>\n",
       "      <td>0.036359</td>\n",
       "      <td>0.043557</td>\n",
       "      <td>0.091938</td>\n",
       "      <td>0.009659</td>\n",
       "      <td>0.152149</td>\n",
       "      <td>0.042880</td>\n",
       "      <td>0.073411</td>\n",
       "      <td>0.011354</td>\n",
       "      <td>0.248024</td>\n",
       "      <td>0.043557</td>\n",
       "      <td>0.066464</td>\n",
       "      <td>0.010506</td>\n",
       "    </tr>\n",
       "    <tr>\n",
       "      <th>8</th>\n",
       "      <td>0.056875</td>\n",
       "      <td>0.038264</td>\n",
       "      <td>0.097637</td>\n",
       "      <td>0.010377</td>\n",
       "      <td>0.178987</td>\n",
       "      <td>0.038079</td>\n",
       "      <td>0.079412</td>\n",
       "      <td>0.010933</td>\n",
       "      <td>0.280530</td>\n",
       "      <td>0.038450</td>\n",
       "      <td>0.071861</td>\n",
       "      <td>0.010748</td>\n",
       "    </tr>\n",
       "    <tr>\n",
       "      <th>9</th>\n",
       "      <td>0.042909</td>\n",
       "      <td>0.070024</td>\n",
       "      <td>0.092769</td>\n",
       "      <td>0.009886</td>\n",
       "      <td>0.160574</td>\n",
       "      <td>0.069689</td>\n",
       "      <td>0.076329</td>\n",
       "      <td>0.009718</td>\n",
       "      <td>0.258040</td>\n",
       "      <td>0.070024</td>\n",
       "      <td>0.065995</td>\n",
       "      <td>0.009215</td>\n",
       "    </tr>\n",
       "  </tbody>\n",
       "</table>\n",
       "</div>"
      ],
      "text/plain": [
       "   doc_type_box_left  doc_type_box_top  doc_type_box_width  \\\n",
       "0           0.059185          0.062598            0.092411   \n",
       "1           0.041618          0.038958            0.095529   \n",
       "2           0.025688          0.034857            0.092651   \n",
       "3           0.079952          0.055576            0.088377   \n",
       "4           0.035433          0.040401            0.092204   \n",
       "5           0.040493          0.037626            0.097163   \n",
       "6           0.045505          0.047221            0.094511   \n",
       "7           0.036359          0.043557            0.091938   \n",
       "8           0.056875          0.038264            0.097637   \n",
       "9           0.042909          0.070024            0.092769   \n",
       "\n",
       "   doc_type_box_height  doc_number_box_left  doc_number_box_top  \\\n",
       "0             0.010007             0.175873            0.062784   \n",
       "1             0.011860             0.162381            0.038958   \n",
       "2             0.010556             0.144101            0.034187   \n",
       "3             0.009839             0.192667            0.055058   \n",
       "4             0.008621             0.152521            0.039651   \n",
       "5             0.010563             0.162992            0.037440   \n",
       "6             0.011561             0.165559            0.047724   \n",
       "7             0.009659             0.152149            0.042880   \n",
       "8             0.010377             0.178987            0.038079   \n",
       "9             0.009886             0.160574            0.069689   \n",
       "\n",
       "   doc_number_box_width  doc_number_box_height  doc_date_box_left  \\\n",
       "0              0.076487               0.010192           0.274549   \n",
       "1              0.076732               0.012045           0.261773   \n",
       "2              0.074688               0.011896           0.241479   \n",
       "3              0.069473               0.010875           0.284116   \n",
       "4              0.073082               0.010308           0.247082   \n",
       "5              0.079663               0.010933           0.265117   \n",
       "6              0.075469               0.012231           0.263785   \n",
       "7              0.073411               0.011354           0.248024   \n",
       "8              0.079412               0.010933           0.280530   \n",
       "9              0.076329               0.009718           0.258040   \n",
       "\n",
       "   doc_date_box_top  doc_date_box_width  doc_date_box_height  \n",
       "0          0.062598            0.066567             0.011119  \n",
       "1          0.039514            0.067463             0.010933  \n",
       "2          0.034522            0.065943             0.010556  \n",
       "3          0.055576            0.062383             0.010012  \n",
       "4          0.039838            0.065224             0.009371  \n",
       "5          0.036328            0.071566             0.012045  \n",
       "6          0.048561            0.070128             0.011394  \n",
       "7          0.043557            0.066464             0.010506  \n",
       "8          0.038450            0.071861             0.010748  \n",
       "9          0.070024            0.065995             0.009215  "
      ]
     },
     "execution_count": 43,
     "metadata": {},
     "output_type": "execute_result"
    }
   ],
   "source": [
    "boxes_table.head(10)"
   ]
  },
  {
   "cell_type": "code",
   "execution_count": 44,
   "id": "e0ecc339",
   "metadata": {},
   "outputs": [],
   "source": [
    "df = df.join(boxes_table)"
   ]
  },
  {
   "cell_type": "code",
   "execution_count": 45,
   "id": "36ef040f",
   "metadata": {},
   "outputs": [
    {
     "data": {
      "text/html": [
       "<div>\n",
       "<style scoped>\n",
       "    .dataframe tbody tr th:only-of-type {\n",
       "        vertical-align: middle;\n",
       "    }\n",
       "\n",
       "    .dataframe tbody tr th {\n",
       "        vertical-align: top;\n",
       "    }\n",
       "\n",
       "    .dataframe thead th {\n",
       "        text-align: right;\n",
       "    }\n",
       "</style>\n",
       "<table border=\"1\" class=\"dataframe\">\n",
       "  <thead>\n",
       "    <tr style=\"text-align: right;\">\n",
       "      <th></th>\n",
       "      <th>filename</th>\n",
       "      <th>rectangles</th>\n",
       "      <th>doc_type</th>\n",
       "      <th>doc_number</th>\n",
       "      <th>doc_date</th>\n",
       "      <th>scan_is_good</th>\n",
       "      <th>doc_type_box_left</th>\n",
       "      <th>doc_type_box_top</th>\n",
       "      <th>doc_type_box_width</th>\n",
       "      <th>doc_type_box_height</th>\n",
       "      <th>doc_number_box_left</th>\n",
       "      <th>doc_number_box_top</th>\n",
       "      <th>doc_number_box_width</th>\n",
       "      <th>doc_number_box_height</th>\n",
       "      <th>doc_date_box_left</th>\n",
       "      <th>doc_date_box_top</th>\n",
       "      <th>doc_date_box_width</th>\n",
       "      <th>doc_date_box_height</th>\n",
       "    </tr>\n",
       "  </thead>\n",
       "  <tbody>\n",
       "    <tr>\n",
       "      <th>0</th>\n",
       "      <td>190.jpg</td>\n",
       "      <td>{\"shape\":\"rectangle\"\\,\"left\":0.059184611970619...</td>\n",
       "      <td>сф</td>\n",
       "      <td>6017637496</td>\n",
       "      <td>04.03.2022</td>\n",
       "      <td>True</td>\n",
       "      <td>0.059185</td>\n",
       "      <td>0.062598</td>\n",
       "      <td>0.092411</td>\n",
       "      <td>0.010007</td>\n",
       "      <td>0.175873</td>\n",
       "      <td>0.062784</td>\n",
       "      <td>0.076487</td>\n",
       "      <td>0.010192</td>\n",
       "      <td>0.274549</td>\n",
       "      <td>0.062598</td>\n",
       "      <td>0.066567</td>\n",
       "      <td>0.011119</td>\n",
       "    </tr>\n",
       "    <tr>\n",
       "      <th>1</th>\n",
       "      <td>084.jpg</td>\n",
       "      <td>{\"shape\":\"rectangle\"\\,\"left\":0.041617963443564...</td>\n",
       "      <td>сф</td>\n",
       "      <td>6600208435</td>\n",
       "      <td>15.11.2021</td>\n",
       "      <td>True</td>\n",
       "      <td>0.041618</td>\n",
       "      <td>0.038958</td>\n",
       "      <td>0.095529</td>\n",
       "      <td>0.011860</td>\n",
       "      <td>0.162381</td>\n",
       "      <td>0.038958</td>\n",
       "      <td>0.076732</td>\n",
       "      <td>0.012045</td>\n",
       "      <td>0.261773</td>\n",
       "      <td>0.039514</td>\n",
       "      <td>0.067463</td>\n",
       "      <td>0.010933</td>\n",
       "    </tr>\n",
       "    <tr>\n",
       "      <th>2</th>\n",
       "      <td>036.jpg</td>\n",
       "      <td>{\"shape\":\"rectangle\"\\,\"left\":0.025688048801457...</td>\n",
       "      <td>сф</td>\n",
       "      <td>6017267909</td>\n",
       "      <td>15.12.2021</td>\n",
       "      <td>True</td>\n",
       "      <td>0.025688</td>\n",
       "      <td>0.034857</td>\n",
       "      <td>0.092651</td>\n",
       "      <td>0.010556</td>\n",
       "      <td>0.144101</td>\n",
       "      <td>0.034187</td>\n",
       "      <td>0.074688</td>\n",
       "      <td>0.011896</td>\n",
       "      <td>0.241479</td>\n",
       "      <td>0.034522</td>\n",
       "      <td>0.065943</td>\n",
       "      <td>0.010556</td>\n",
       "    </tr>\n",
       "    <tr>\n",
       "      <th>3</th>\n",
       "      <td>031.jpg</td>\n",
       "      <td>{\"shape\":\"rectangle\"\\,\"left\":0.079951683602433...</td>\n",
       "      <td>сф</td>\n",
       "      <td>6017257557</td>\n",
       "      <td>10.12.2021</td>\n",
       "      <td>True</td>\n",
       "      <td>0.079952</td>\n",
       "      <td>0.055576</td>\n",
       "      <td>0.088377</td>\n",
       "      <td>0.009839</td>\n",
       "      <td>0.192667</td>\n",
       "      <td>0.055058</td>\n",
       "      <td>0.069473</td>\n",
       "      <td>0.010875</td>\n",
       "      <td>0.284116</td>\n",
       "      <td>0.055576</td>\n",
       "      <td>0.062383</td>\n",
       "      <td>0.010012</td>\n",
       "    </tr>\n",
       "    <tr>\n",
       "      <th>4</th>\n",
       "      <td>043.jpg</td>\n",
       "      <td>{\"shape\":\"rectangle\"\\,\"left\":0.035432585062619...</td>\n",
       "      <td>сф</td>\n",
       "      <td>6017291593</td>\n",
       "      <td>28.12.2021</td>\n",
       "      <td>True</td>\n",
       "      <td>0.035433</td>\n",
       "      <td>0.040401</td>\n",
       "      <td>0.092204</td>\n",
       "      <td>0.008621</td>\n",
       "      <td>0.152521</td>\n",
       "      <td>0.039651</td>\n",
       "      <td>0.073082</td>\n",
       "      <td>0.010308</td>\n",
       "      <td>0.247082</td>\n",
       "      <td>0.039838</td>\n",
       "      <td>0.065224</td>\n",
       "      <td>0.009371</td>\n",
       "    </tr>\n",
       "  </tbody>\n",
       "</table>\n",
       "</div>"
      ],
      "text/plain": [
       "  filename                                         rectangles doc_type  \\\n",
       "0  190.jpg  {\"shape\":\"rectangle\"\\,\"left\":0.059184611970619...       сф   \n",
       "1  084.jpg  {\"shape\":\"rectangle\"\\,\"left\":0.041617963443564...       сф   \n",
       "2  036.jpg  {\"shape\":\"rectangle\"\\,\"left\":0.025688048801457...       сф   \n",
       "3  031.jpg  {\"shape\":\"rectangle\"\\,\"left\":0.079951683602433...       сф   \n",
       "4  043.jpg  {\"shape\":\"rectangle\"\\,\"left\":0.035432585062619...       сф   \n",
       "\n",
       "   doc_number    doc_date  scan_is_good  doc_type_box_left  doc_type_box_top  \\\n",
       "0  6017637496  04.03.2022          True           0.059185          0.062598   \n",
       "1  6600208435  15.11.2021          True           0.041618          0.038958   \n",
       "2  6017267909  15.12.2021          True           0.025688          0.034857   \n",
       "3  6017257557  10.12.2021          True           0.079952          0.055576   \n",
       "4  6017291593  28.12.2021          True           0.035433          0.040401   \n",
       "\n",
       "   doc_type_box_width  doc_type_box_height  doc_number_box_left  \\\n",
       "0            0.092411             0.010007             0.175873   \n",
       "1            0.095529             0.011860             0.162381   \n",
       "2            0.092651             0.010556             0.144101   \n",
       "3            0.088377             0.009839             0.192667   \n",
       "4            0.092204             0.008621             0.152521   \n",
       "\n",
       "   doc_number_box_top  doc_number_box_width  doc_number_box_height  \\\n",
       "0            0.062784              0.076487               0.010192   \n",
       "1            0.038958              0.076732               0.012045   \n",
       "2            0.034187              0.074688               0.011896   \n",
       "3            0.055058              0.069473               0.010875   \n",
       "4            0.039651              0.073082               0.010308   \n",
       "\n",
       "   doc_date_box_left  doc_date_box_top  doc_date_box_width  \\\n",
       "0           0.274549          0.062598            0.066567   \n",
       "1           0.261773          0.039514            0.067463   \n",
       "2           0.241479          0.034522            0.065943   \n",
       "3           0.284116          0.055576            0.062383   \n",
       "4           0.247082          0.039838            0.065224   \n",
       "\n",
       "   doc_date_box_height  \n",
       "0             0.011119  \n",
       "1             0.010933  \n",
       "2             0.010556  \n",
       "3             0.010012  \n",
       "4             0.009371  "
      ]
     },
     "execution_count": 45,
     "metadata": {},
     "output_type": "execute_result"
    }
   ],
   "source": [
    "df.head()"
   ]
  },
  {
   "cell_type": "markdown",
   "id": "51db4b3e",
   "metadata": {},
   "source": [
    "### Проверка join"
   ]
  },
  {
   "cell_type": "code",
   "execution_count": 46,
   "id": "4824c9f3",
   "metadata": {},
   "outputs": [],
   "source": [
    "for idx, num in enumerate(df['doc_type_box_left']):\n",
    "    if str(num) not in df['rectangles'][idx]:\n",
    "        print(idx, 'NOT ok')"
   ]
  },
  {
   "cell_type": "markdown",
   "id": "ec78aa89",
   "metadata": {},
   "source": [
    "### Готовый датасет"
   ]
  },
  {
   "cell_type": "code",
   "execution_count": 48,
   "id": "1001d9f0",
   "metadata": {},
   "outputs": [
    {
     "data": {
      "text/html": [
       "<div>\n",
       "<style scoped>\n",
       "    .dataframe tbody tr th:only-of-type {\n",
       "        vertical-align: middle;\n",
       "    }\n",
       "\n",
       "    .dataframe tbody tr th {\n",
       "        vertical-align: top;\n",
       "    }\n",
       "\n",
       "    .dataframe thead th {\n",
       "        text-align: right;\n",
       "    }\n",
       "</style>\n",
       "<table border=\"1\" class=\"dataframe\">\n",
       "  <thead>\n",
       "    <tr style=\"text-align: right;\">\n",
       "      <th></th>\n",
       "      <th>filename</th>\n",
       "      <th>rectangles</th>\n",
       "      <th>doc_type</th>\n",
       "      <th>doc_number</th>\n",
       "      <th>doc_date</th>\n",
       "      <th>scan_is_good</th>\n",
       "      <th>doc_type_box_left</th>\n",
       "      <th>doc_type_box_top</th>\n",
       "      <th>doc_type_box_width</th>\n",
       "      <th>doc_type_box_height</th>\n",
       "      <th>doc_number_box_left</th>\n",
       "      <th>doc_number_box_top</th>\n",
       "      <th>doc_number_box_width</th>\n",
       "      <th>doc_number_box_height</th>\n",
       "      <th>doc_date_box_left</th>\n",
       "      <th>doc_date_box_top</th>\n",
       "      <th>doc_date_box_width</th>\n",
       "      <th>doc_date_box_height</th>\n",
       "    </tr>\n",
       "  </thead>\n",
       "  <tbody>\n",
       "    <tr>\n",
       "      <th>0</th>\n",
       "      <td>001.jpg</td>\n",
       "      <td>{\"shape\":\"rectangle\"\\,\"left\":0.046325926841854...</td>\n",
       "      <td>сф</td>\n",
       "      <td>6600241074</td>\n",
       "      <td>23.12.2021</td>\n",
       "      <td>True</td>\n",
       "      <td>0.046326</td>\n",
       "      <td>0.037244</td>\n",
       "      <td>0.098478</td>\n",
       "      <td>0.009955</td>\n",
       "      <td>0.169670</td>\n",
       "      <td>0.036894</td>\n",
       "      <td>0.080014</td>\n",
       "      <td>0.010479</td>\n",
       "      <td>0.271595</td>\n",
       "      <td>0.037069</td>\n",
       "      <td>0.070412</td>\n",
       "      <td>0.010654</td>\n",
       "    </tr>\n",
       "    <tr>\n",
       "      <th>1</th>\n",
       "      <td>002.jpg</td>\n",
       "      <td>{\"shape\":\"rectangle\"\\,\"left\":0.043181886974597...</td>\n",
       "      <td>сф</td>\n",
       "      <td>6600254174</td>\n",
       "      <td>07.02.2022</td>\n",
       "      <td>True</td>\n",
       "      <td>0.043182</td>\n",
       "      <td>0.037061</td>\n",
       "      <td>0.096808</td>\n",
       "      <td>0.009625</td>\n",
       "      <td>0.166044</td>\n",
       "      <td>0.036879</td>\n",
       "      <td>0.077140</td>\n",
       "      <td>0.009806</td>\n",
       "      <td>0.267449</td>\n",
       "      <td>0.036697</td>\n",
       "      <td>0.070754</td>\n",
       "      <td>0.010170</td>\n",
       "    </tr>\n",
       "    <tr>\n",
       "      <th>2</th>\n",
       "      <td>003.jpg</td>\n",
       "      <td>{\"shape\":\"rectangle\"\\,\"left\":0.023974525676559...</td>\n",
       "      <td>сф</td>\n",
       "      <td>6600013447</td>\n",
       "      <td>20.01.2022</td>\n",
       "      <td>True</td>\n",
       "      <td>0.023975</td>\n",
       "      <td>0.035199</td>\n",
       "      <td>0.096616</td>\n",
       "      <td>0.011047</td>\n",
       "      <td>0.146917</td>\n",
       "      <td>0.036286</td>\n",
       "      <td>0.078980</td>\n",
       "      <td>0.009780</td>\n",
       "      <td>0.248645</td>\n",
       "      <td>0.037191</td>\n",
       "      <td>0.071823</td>\n",
       "      <td>0.009780</td>\n",
       "    </tr>\n",
       "    <tr>\n",
       "      <th>3</th>\n",
       "      <td>004.jpg</td>\n",
       "      <td>{\"shape\":\"rectangle\"\\,\"left\":0.061055422378549...</td>\n",
       "      <td>сф</td>\n",
       "      <td>6015828900</td>\n",
       "      <td>13.05.2021</td>\n",
       "      <td>True</td>\n",
       "      <td>0.061055</td>\n",
       "      <td>0.059328</td>\n",
       "      <td>0.094275</td>\n",
       "      <td>0.011184</td>\n",
       "      <td>0.179674</td>\n",
       "      <td>0.059328</td>\n",
       "      <td>0.075181</td>\n",
       "      <td>0.011015</td>\n",
       "      <td>0.276813</td>\n",
       "      <td>0.059328</td>\n",
       "      <td>0.067305</td>\n",
       "      <td>0.010337</td>\n",
       "    </tr>\n",
       "    <tr>\n",
       "      <th>4</th>\n",
       "      <td>005.jpg</td>\n",
       "      <td>{\"shape\":\"rectangle\"\\,\"left\":0.042334104467394...</td>\n",
       "      <td>сф</td>\n",
       "      <td>6016891910</td>\n",
       "      <td>22.10.2021</td>\n",
       "      <td>True</td>\n",
       "      <td>0.042334</td>\n",
       "      <td>0.043039</td>\n",
       "      <td>0.091055</td>\n",
       "      <td>0.009589</td>\n",
       "      <td>0.156730</td>\n",
       "      <td>0.043039</td>\n",
       "      <td>0.074127</td>\n",
       "      <td>0.010511</td>\n",
       "      <td>0.251377</td>\n",
       "      <td>0.042671</td>\n",
       "      <td>0.065662</td>\n",
       "      <td>0.010326</td>\n",
       "    </tr>\n",
       "  </tbody>\n",
       "</table>\n",
       "</div>"
      ],
      "text/plain": [
       "  filename                                         rectangles doc_type  \\\n",
       "0  001.jpg  {\"shape\":\"rectangle\"\\,\"left\":0.046325926841854...       сф   \n",
       "1  002.jpg  {\"shape\":\"rectangle\"\\,\"left\":0.043181886974597...       сф   \n",
       "2  003.jpg  {\"shape\":\"rectangle\"\\,\"left\":0.023974525676559...       сф   \n",
       "3  004.jpg  {\"shape\":\"rectangle\"\\,\"left\":0.061055422378549...       сф   \n",
       "4  005.jpg  {\"shape\":\"rectangle\"\\,\"left\":0.042334104467394...       сф   \n",
       "\n",
       "   doc_number    doc_date  scan_is_good  doc_type_box_left  doc_type_box_top  \\\n",
       "0  6600241074  23.12.2021          True           0.046326          0.037244   \n",
       "1  6600254174  07.02.2022          True           0.043182          0.037061   \n",
       "2  6600013447  20.01.2022          True           0.023975          0.035199   \n",
       "3  6015828900  13.05.2021          True           0.061055          0.059328   \n",
       "4  6016891910  22.10.2021          True           0.042334          0.043039   \n",
       "\n",
       "   doc_type_box_width  doc_type_box_height  doc_number_box_left  \\\n",
       "0            0.098478             0.009955             0.169670   \n",
       "1            0.096808             0.009625             0.166044   \n",
       "2            0.096616             0.011047             0.146917   \n",
       "3            0.094275             0.011184             0.179674   \n",
       "4            0.091055             0.009589             0.156730   \n",
       "\n",
       "   doc_number_box_top  doc_number_box_width  doc_number_box_height  \\\n",
       "0            0.036894              0.080014               0.010479   \n",
       "1            0.036879              0.077140               0.009806   \n",
       "2            0.036286              0.078980               0.009780   \n",
       "3            0.059328              0.075181               0.011015   \n",
       "4            0.043039              0.074127               0.010511   \n",
       "\n",
       "   doc_date_box_left  doc_date_box_top  doc_date_box_width  \\\n",
       "0           0.271595          0.037069            0.070412   \n",
       "1           0.267449          0.036697            0.070754   \n",
       "2           0.248645          0.037191            0.071823   \n",
       "3           0.276813          0.059328            0.067305   \n",
       "4           0.251377          0.042671            0.065662   \n",
       "\n",
       "   doc_date_box_height  \n",
       "0             0.010654  \n",
       "1             0.010170  \n",
       "2             0.009780  \n",
       "3             0.010337  \n",
       "4             0.010326  "
      ]
     },
     "execution_count": 48,
     "metadata": {},
     "output_type": "execute_result"
    }
   ],
   "source": [
    "df = df.sort_values(by='filename').reset_index(drop=True)\n",
    "df.head()"
   ]
  },
  {
   "cell_type": "code",
   "execution_count": 49,
   "id": "bf61cfca",
   "metadata": {},
   "outputs": [],
   "source": [
    "df = df.drop('rectangles', axis=1)"
   ]
  },
  {
   "cell_type": "code",
   "execution_count": 50,
   "id": "71f640e0",
   "metadata": {},
   "outputs": [
    {
     "data": {
      "text/html": [
       "<div>\n",
       "<style scoped>\n",
       "    .dataframe tbody tr th:only-of-type {\n",
       "        vertical-align: middle;\n",
       "    }\n",
       "\n",
       "    .dataframe tbody tr th {\n",
       "        vertical-align: top;\n",
       "    }\n",
       "\n",
       "    .dataframe thead th {\n",
       "        text-align: right;\n",
       "    }\n",
       "</style>\n",
       "<table border=\"1\" class=\"dataframe\">\n",
       "  <thead>\n",
       "    <tr style=\"text-align: right;\">\n",
       "      <th></th>\n",
       "      <th>filename</th>\n",
       "      <th>doc_type</th>\n",
       "      <th>doc_number</th>\n",
       "      <th>doc_date</th>\n",
       "      <th>scan_is_good</th>\n",
       "      <th>doc_type_box_left</th>\n",
       "      <th>doc_type_box_top</th>\n",
       "      <th>doc_type_box_width</th>\n",
       "      <th>doc_type_box_height</th>\n",
       "      <th>doc_number_box_left</th>\n",
       "      <th>doc_number_box_top</th>\n",
       "      <th>doc_number_box_width</th>\n",
       "      <th>doc_number_box_height</th>\n",
       "      <th>doc_date_box_left</th>\n",
       "      <th>doc_date_box_top</th>\n",
       "      <th>doc_date_box_width</th>\n",
       "      <th>doc_date_box_height</th>\n",
       "    </tr>\n",
       "  </thead>\n",
       "  <tbody>\n",
       "    <tr>\n",
       "      <th>0</th>\n",
       "      <td>001.jpg</td>\n",
       "      <td>сф</td>\n",
       "      <td>6600241074</td>\n",
       "      <td>23.12.2021</td>\n",
       "      <td>True</td>\n",
       "      <td>0.046326</td>\n",
       "      <td>0.037244</td>\n",
       "      <td>0.098478</td>\n",
       "      <td>0.009955</td>\n",
       "      <td>0.169670</td>\n",
       "      <td>0.036894</td>\n",
       "      <td>0.080014</td>\n",
       "      <td>0.010479</td>\n",
       "      <td>0.271595</td>\n",
       "      <td>0.037069</td>\n",
       "      <td>0.070412</td>\n",
       "      <td>0.010654</td>\n",
       "    </tr>\n",
       "    <tr>\n",
       "      <th>1</th>\n",
       "      <td>002.jpg</td>\n",
       "      <td>сф</td>\n",
       "      <td>6600254174</td>\n",
       "      <td>07.02.2022</td>\n",
       "      <td>True</td>\n",
       "      <td>0.043182</td>\n",
       "      <td>0.037061</td>\n",
       "      <td>0.096808</td>\n",
       "      <td>0.009625</td>\n",
       "      <td>0.166044</td>\n",
       "      <td>0.036879</td>\n",
       "      <td>0.077140</td>\n",
       "      <td>0.009806</td>\n",
       "      <td>0.267449</td>\n",
       "      <td>0.036697</td>\n",
       "      <td>0.070754</td>\n",
       "      <td>0.010170</td>\n",
       "    </tr>\n",
       "    <tr>\n",
       "      <th>2</th>\n",
       "      <td>003.jpg</td>\n",
       "      <td>сф</td>\n",
       "      <td>6600013447</td>\n",
       "      <td>20.01.2022</td>\n",
       "      <td>True</td>\n",
       "      <td>0.023975</td>\n",
       "      <td>0.035199</td>\n",
       "      <td>0.096616</td>\n",
       "      <td>0.011047</td>\n",
       "      <td>0.146917</td>\n",
       "      <td>0.036286</td>\n",
       "      <td>0.078980</td>\n",
       "      <td>0.009780</td>\n",
       "      <td>0.248645</td>\n",
       "      <td>0.037191</td>\n",
       "      <td>0.071823</td>\n",
       "      <td>0.009780</td>\n",
       "    </tr>\n",
       "    <tr>\n",
       "      <th>3</th>\n",
       "      <td>004.jpg</td>\n",
       "      <td>сф</td>\n",
       "      <td>6015828900</td>\n",
       "      <td>13.05.2021</td>\n",
       "      <td>True</td>\n",
       "      <td>0.061055</td>\n",
       "      <td>0.059328</td>\n",
       "      <td>0.094275</td>\n",
       "      <td>0.011184</td>\n",
       "      <td>0.179674</td>\n",
       "      <td>0.059328</td>\n",
       "      <td>0.075181</td>\n",
       "      <td>0.011015</td>\n",
       "      <td>0.276813</td>\n",
       "      <td>0.059328</td>\n",
       "      <td>0.067305</td>\n",
       "      <td>0.010337</td>\n",
       "    </tr>\n",
       "    <tr>\n",
       "      <th>4</th>\n",
       "      <td>005.jpg</td>\n",
       "      <td>сф</td>\n",
       "      <td>6016891910</td>\n",
       "      <td>22.10.2021</td>\n",
       "      <td>True</td>\n",
       "      <td>0.042334</td>\n",
       "      <td>0.043039</td>\n",
       "      <td>0.091055</td>\n",
       "      <td>0.009589</td>\n",
       "      <td>0.156730</td>\n",
       "      <td>0.043039</td>\n",
       "      <td>0.074127</td>\n",
       "      <td>0.010511</td>\n",
       "      <td>0.251377</td>\n",
       "      <td>0.042671</td>\n",
       "      <td>0.065662</td>\n",
       "      <td>0.010326</td>\n",
       "    </tr>\n",
       "    <tr>\n",
       "      <th>5</th>\n",
       "      <td>006.jpg</td>\n",
       "      <td>сф</td>\n",
       "      <td>6016895321</td>\n",
       "      <td>25.10.2021</td>\n",
       "      <td>True</td>\n",
       "      <td>0.015560</td>\n",
       "      <td>0.036633</td>\n",
       "      <td>0.093267</td>\n",
       "      <td>0.008812</td>\n",
       "      <td>0.132381</td>\n",
       "      <td>0.035786</td>\n",
       "      <td>0.073281</td>\n",
       "      <td>0.010167</td>\n",
       "      <td>0.228503</td>\n",
       "      <td>0.035617</td>\n",
       "      <td>0.066619</td>\n",
       "      <td>0.010167</td>\n",
       "    </tr>\n",
       "    <tr>\n",
       "      <th>6</th>\n",
       "      <td>007.jpg</td>\n",
       "      <td>сф</td>\n",
       "      <td>6016896123</td>\n",
       "      <td>25.10.2021</td>\n",
       "      <td>True</td>\n",
       "      <td>0.041264</td>\n",
       "      <td>0.042144</td>\n",
       "      <td>0.092451</td>\n",
       "      <td>0.010845</td>\n",
       "      <td>0.156414</td>\n",
       "      <td>0.042144</td>\n",
       "      <td>0.075900</td>\n",
       "      <td>0.011015</td>\n",
       "      <td>0.251939</td>\n",
       "      <td>0.042314</td>\n",
       "      <td>0.065733</td>\n",
       "      <td>0.010167</td>\n",
       "    </tr>\n",
       "    <tr>\n",
       "      <th>7</th>\n",
       "      <td>008.jpg</td>\n",
       "      <td>сф</td>\n",
       "      <td>6016899456</td>\n",
       "      <td>27.10.2021</td>\n",
       "      <td>True</td>\n",
       "      <td>0.037961</td>\n",
       "      <td>0.040051</td>\n",
       "      <td>0.091984</td>\n",
       "      <td>0.010095</td>\n",
       "      <td>0.154990</td>\n",
       "      <td>0.040540</td>\n",
       "      <td>0.073086</td>\n",
       "      <td>0.009769</td>\n",
       "      <td>0.249706</td>\n",
       "      <td>0.040703</td>\n",
       "      <td>0.065573</td>\n",
       "      <td>0.009769</td>\n",
       "    </tr>\n",
       "    <tr>\n",
       "      <th>8</th>\n",
       "      <td>009.jpg</td>\n",
       "      <td>сф</td>\n",
       "      <td>6017071562</td>\n",
       "      <td>09.11.2021</td>\n",
       "      <td>True</td>\n",
       "      <td>0.022563</td>\n",
       "      <td>0.033631</td>\n",
       "      <td>0.093425</td>\n",
       "      <td>0.010890</td>\n",
       "      <td>0.140986</td>\n",
       "      <td>0.033631</td>\n",
       "      <td>0.076255</td>\n",
       "      <td>0.011247</td>\n",
       "      <td>0.239208</td>\n",
       "      <td>0.033810</td>\n",
       "      <td>0.067165</td>\n",
       "      <td>0.011069</td>\n",
       "    </tr>\n",
       "    <tr>\n",
       "      <th>9</th>\n",
       "      <td>010.jpg</td>\n",
       "      <td>сф</td>\n",
       "      <td>6017073406</td>\n",
       "      <td>09.11.2021</td>\n",
       "      <td>True</td>\n",
       "      <td>0.022622</td>\n",
       "      <td>0.034612</td>\n",
       "      <td>0.094483</td>\n",
       "      <td>0.010173</td>\n",
       "      <td>0.141540</td>\n",
       "      <td>0.034228</td>\n",
       "      <td>0.075478</td>\n",
       "      <td>0.010557</td>\n",
       "      <td>0.239825</td>\n",
       "      <td>0.034612</td>\n",
       "      <td>0.065161</td>\n",
       "      <td>0.009789</td>\n",
       "    </tr>\n",
       "  </tbody>\n",
       "</table>\n",
       "</div>"
      ],
      "text/plain": [
       "  filename doc_type  doc_number    doc_date  scan_is_good  doc_type_box_left  \\\n",
       "0  001.jpg       сф  6600241074  23.12.2021          True           0.046326   \n",
       "1  002.jpg       сф  6600254174  07.02.2022          True           0.043182   \n",
       "2  003.jpg       сф  6600013447  20.01.2022          True           0.023975   \n",
       "3  004.jpg       сф  6015828900  13.05.2021          True           0.061055   \n",
       "4  005.jpg       сф  6016891910  22.10.2021          True           0.042334   \n",
       "5  006.jpg       сф  6016895321  25.10.2021          True           0.015560   \n",
       "6  007.jpg       сф  6016896123  25.10.2021          True           0.041264   \n",
       "7  008.jpg       сф  6016899456  27.10.2021          True           0.037961   \n",
       "8  009.jpg       сф  6017071562  09.11.2021          True           0.022563   \n",
       "9  010.jpg       сф  6017073406  09.11.2021          True           0.022622   \n",
       "\n",
       "   doc_type_box_top  doc_type_box_width  doc_type_box_height  \\\n",
       "0          0.037244            0.098478             0.009955   \n",
       "1          0.037061            0.096808             0.009625   \n",
       "2          0.035199            0.096616             0.011047   \n",
       "3          0.059328            0.094275             0.011184   \n",
       "4          0.043039            0.091055             0.009589   \n",
       "5          0.036633            0.093267             0.008812   \n",
       "6          0.042144            0.092451             0.010845   \n",
       "7          0.040051            0.091984             0.010095   \n",
       "8          0.033631            0.093425             0.010890   \n",
       "9          0.034612            0.094483             0.010173   \n",
       "\n",
       "   doc_number_box_left  doc_number_box_top  doc_number_box_width  \\\n",
       "0             0.169670            0.036894              0.080014   \n",
       "1             0.166044            0.036879              0.077140   \n",
       "2             0.146917            0.036286              0.078980   \n",
       "3             0.179674            0.059328              0.075181   \n",
       "4             0.156730            0.043039              0.074127   \n",
       "5             0.132381            0.035786              0.073281   \n",
       "6             0.156414            0.042144              0.075900   \n",
       "7             0.154990            0.040540              0.073086   \n",
       "8             0.140986            0.033631              0.076255   \n",
       "9             0.141540            0.034228              0.075478   \n",
       "\n",
       "   doc_number_box_height  doc_date_box_left  doc_date_box_top  \\\n",
       "0               0.010479           0.271595          0.037069   \n",
       "1               0.009806           0.267449          0.036697   \n",
       "2               0.009780           0.248645          0.037191   \n",
       "3               0.011015           0.276813          0.059328   \n",
       "4               0.010511           0.251377          0.042671   \n",
       "5               0.010167           0.228503          0.035617   \n",
       "6               0.011015           0.251939          0.042314   \n",
       "7               0.009769           0.249706          0.040703   \n",
       "8               0.011247           0.239208          0.033810   \n",
       "9               0.010557           0.239825          0.034612   \n",
       "\n",
       "   doc_date_box_width  doc_date_box_height  \n",
       "0            0.070412             0.010654  \n",
       "1            0.070754             0.010170  \n",
       "2            0.071823             0.009780  \n",
       "3            0.067305             0.010337  \n",
       "4            0.065662             0.010326  \n",
       "5            0.066619             0.010167  \n",
       "6            0.065733             0.010167  \n",
       "7            0.065573             0.009769  \n",
       "8            0.067165             0.011069  \n",
       "9            0.065161             0.009789  "
      ]
     },
     "execution_count": 50,
     "metadata": {},
     "output_type": "execute_result"
    }
   ],
   "source": [
    "df.head(10)"
   ]
  },
  {
   "cell_type": "markdown",
   "id": "fcd31808",
   "metadata": {},
   "source": [
    "## Проверка на изображениях"
   ]
  },
  {
   "cell_type": "code",
   "execution_count": 51,
   "id": "30cdac2c",
   "metadata": {},
   "outputs": [],
   "source": [
    "mapping_prefix_value = {\n",
    "    'doc_number_box_': 'doc_number',\n",
    "    'doc_date_box_': None,\n",
    "    'doc_type_box_': None,\n",
    "}"
   ]
  },
  {
   "cell_type": "code",
   "execution_count": 52,
   "id": "ecf4d241",
   "metadata": {},
   "outputs": [],
   "source": [
    "for index, row in df.iterrows():\n",
    "    if index > 1:\n",
    "        image = cv2.imread('/home/kirillk/datasets/OCR/ocr_schet_factura_1/' + row['filename'])\n",
    "        image = cv2.resize(image, (0, 0), fx=0.5, fy=0.5)\n",
    "        height, width, _ = image.shape\n",
    "\n",
    "        for prefix, value in mapping_prefix_value.items():\n",
    "            x1 = int(row[prefix + 'left'] * width)\n",
    "            y1 = int(row[prefix + 'top'] * height)\n",
    "            x2 = int((row[prefix + 'left'] + row[prefix + 'width']) * width)\n",
    "            y2 = int((row[prefix + 'top'] + row[prefix + 'height']) * height)\n",
    "\n",
    "            image = cv2.rectangle(image, (x1, y1), (x2, y2), (0, 0, 255), 4)\n",
    "            image = cv2.putText(image, \n",
    "                                str(row.get(value, default='')), \n",
    "                                (x1, y2 - 70),\n",
    "                                cv2.FONT_HERSHEY_SIMPLEX,\n",
    "                                #0,\n",
    "                                1,\n",
    "                                (0, 0, 255),\n",
    "                                2)\n",
    "\n",
    "            cv2.imshow('Document', image)\n",
    "\n",
    "            key = cv2.waitKey(0) & 0xFF\n",
    "\n",
    "            if key == ord('q'):\n",
    "                break\n",
    "    \n",
    "    cv2.destroyAllWindows()\n",
    "#     if index == 5:\n",
    "#         break"
   ]
  },
  {
   "cell_type": "markdown",
   "id": "2ae9b65d",
   "metadata": {},
   "source": [
    "df.info()"
   ]
  },
  {
   "cell_type": "code",
   "execution_count": 55,
   "id": "1cb95b5d",
   "metadata": {},
   "outputs": [
    {
     "name": "stderr",
     "output_type": "stream",
     "text": [
      "/tmp/ipykernel_20404/341367623.py:1: SettingWithCopyWarning: \n",
      "A value is trying to be set on a copy of a slice from a DataFrame\n",
      "\n",
      "See the caveats in the documentation: https://pandas.pydata.org/pandas-docs/stable/user_guide/indexing.html#returning-a-view-versus-a-copy\n",
      "  df['doc_number'][36] = '6017268120'\n"
     ]
    }
   ],
   "source": [
    "df['doc_number'][36] = '6017268120'"
   ]
  },
  {
   "cell_type": "code",
   "execution_count": 61,
   "id": "5e369c57",
   "metadata": {},
   "outputs": [
    {
     "data": {
      "text/plain": [
       "filename                    037.jpg\n",
       "doc_type                         сф\n",
       "doc_number               6017268120\n",
       "doc_date                 15.12.2021\n",
       "scan_is_good                   True\n",
       "doc_type_box_left          0.044158\n",
       "doc_type_box_top           0.040868\n",
       "doc_type_box_width         0.092209\n",
       "doc_type_box_height        0.009731\n",
       "doc_number_box_left         0.16061\n",
       "doc_number_box_top         0.040057\n",
       "doc_number_box_width       0.074538\n",
       "doc_number_box_height      0.010866\n",
       "doc_date_box_left          0.256217\n",
       "doc_date_box_top           0.040543\n",
       "doc_date_box_width         0.064569\n",
       "doc_date_box_height        0.010055\n",
       "Name: 36, dtype: object"
      ]
     },
     "execution_count": 61,
     "metadata": {},
     "output_type": "execute_result"
    }
   ],
   "source": [
    "df.loc[36]"
   ]
  },
  {
   "cell_type": "markdown",
   "id": "1506dc50",
   "metadata": {},
   "source": [
    "## Сохранение датасета"
   ]
  },
  {
   "cell_type": "code",
   "execution_count": 62,
   "id": "ed5384e2",
   "metadata": {},
   "outputs": [],
   "source": [
    "df.to_csv('/home/kirillk/datasets/OCR/ocr_schet_factura_1/test-cases-schet-factura.csv')"
   ]
  },
  {
   "cell_type": "code",
   "execution_count": 63,
   "id": "777c95c3",
   "metadata": {},
   "outputs": [],
   "source": [
    "test = pd.read_csv('/home/kirillk/datasets/OCR/ocr_schet_factura_1/test-cases-schet-factura.csv')"
   ]
  },
  {
   "cell_type": "code",
   "execution_count": 64,
   "id": "2f67c9a7",
   "metadata": {},
   "outputs": [
    {
     "name": "stdout",
     "output_type": "stream",
     "text": [
      "<class 'pandas.core.frame.DataFrame'>\n",
      "RangeIndex: 200 entries, 0 to 199\n",
      "Data columns (total 18 columns):\n",
      " #   Column                 Non-Null Count  Dtype  \n",
      "---  ------                 --------------  -----  \n",
      " 0   Unnamed: 0             200 non-null    int64  \n",
      " 1   filename               200 non-null    object \n",
      " 2   doc_type               200 non-null    object \n",
      " 3   doc_number             200 non-null    int64  \n",
      " 4   doc_date               200 non-null    object \n",
      " 5   scan_is_good           200 non-null    bool   \n",
      " 6   doc_type_box_left      200 non-null    float64\n",
      " 7   doc_type_box_top       200 non-null    float64\n",
      " 8   doc_type_box_width     200 non-null    float64\n",
      " 9   doc_type_box_height    200 non-null    float64\n",
      " 10  doc_number_box_left    200 non-null    float64\n",
      " 11  doc_number_box_top     200 non-null    float64\n",
      " 12  doc_number_box_width   200 non-null    float64\n",
      " 13  doc_number_box_height  200 non-null    float64\n",
      " 14  doc_date_box_left      200 non-null    float64\n",
      " 15  doc_date_box_top       200 non-null    float64\n",
      " 16  doc_date_box_width     200 non-null    float64\n",
      " 17  doc_date_box_height    200 non-null    float64\n",
      "dtypes: bool(1), float64(12), int64(2), object(3)\n",
      "memory usage: 26.9+ KB\n"
     ]
    }
   ],
   "source": [
    "test.info()"
   ]
  },
  {
   "cell_type": "code",
   "execution_count": null,
   "id": "9b9b1717",
   "metadata": {},
   "outputs": [],
   "source": []
  }
 ],
 "metadata": {
  "kernelspec": {
   "display_name": "ocr_data_generation",
   "language": "python",
   "name": "ocr_data_generation"
  },
  "language_info": {
   "codemirror_mode": {
    "name": "ipython",
    "version": 3
   },
   "file_extension": ".py",
   "mimetype": "text/x-python",
   "name": "python",
   "nbconvert_exporter": "python",
   "pygments_lexer": "ipython3",
   "version": "3.9.13"
  }
 },
 "nbformat": 4,
 "nbformat_minor": 5
}
