{
 "cells": [
  {
   "cell_type": "markdown",
   "id": "18e52271",
   "metadata": {},
   "source": [
    "# Подготовка данных для OCR"
   ]
  },
  {
   "cell_type": "code",
   "execution_count": 1,
   "id": "13331d83",
   "metadata": {},
   "outputs": [],
   "source": [
    "import sys\n",
    "import os\n",
    "import pathlib\n",
    "import shutil\n",
    "import requests\n",
    "from pdf2image import convert_from_path\n",
    "import pandas as pd"
   ]
  },
  {
   "cell_type": "code",
   "execution_count": 2,
   "id": "8a18ea38",
   "metadata": {},
   "outputs": [],
   "source": [
    "SERVERE_DATA_PATH = 'smb://rosa_srv21'\n",
    "PATH = '/home/kennykey/datasets/OCR/ocr_test/test_1/'\n",
    "SAVE_IMG_PATH = PATH + 'jpg/'\n",
    "PREPEARED_IMG_PATH = '/home/kennykey/datasets/OCR/ocr_test/test_1/prepeared_jpg/'\n",
    "SAMPLE_PATH = PATH + '601753398.pdf'"
   ]
  },
  {
   "cell_type": "code",
   "execution_count": 4,
   "id": "66e58312",
   "metadata": {},
   "outputs": [],
   "source": [
    "files = os.listdir(path=PATH)"
   ]
  },
  {
   "cell_type": "raw",
   "id": "a9d2eb1d",
   "metadata": {},
   "source": [
    "pages = convert_from_path(SAMPLE_PATH, dpi=500)"
   ]
  },
  {
   "cell_type": "raw",
   "id": "ec4955b0",
   "metadata": {},
   "source": [
    "for i, page in enumerate(pages):\n",
    "    fname = 'image' + str(i) + '.jpg'\n",
    "    page.save(SAVE_IMG_PATH + fname, \"JPEG\")"
   ]
  },
  {
   "cell_type": "code",
   "execution_count": 8,
   "id": "18678d45",
   "metadata": {},
   "outputs": [],
   "source": [
    "for file in files:\n",
    "    if file.endswith('.pdf'):\n",
    "        pages = convert_from_path(PATH + file, dpi=500)\n",
    "        file_name = file.split('.')[0]\n",
    "        if len(pages) == 1:\n",
    "            for i, page in enumerate(pages):\n",
    "                fname = SAVE_IMG_PATH + file_name + '.jpg'\n",
    "                page.save(SAVE_IMG_PATH + file_name + '.jpg')\n",
    "        if len(pages) > 1:\n",
    "            for i, page in enumerate(pages):\n",
    "                fname = SAVE_IMG_PATH + file_name + '_' + str(i) + '.jpg'\n",
    "                page.save(fname, \"JPEG\")"
   ]
  },
  {
   "cell_type": "markdown",
   "id": "664eeaef",
   "metadata": {},
   "source": [
    "## Подготовка .csv"
   ]
  },
  {
   "cell_type": "code",
   "execution_count": 54,
   "id": "6a28d62d",
   "metadata": {},
   "outputs": [],
   "source": [
    "df = pd.read_csv('/home/kennykey/datasets/OCR/ocr_test/prepeared_jpg/ocr_test_dataset.csv', sep='\\t')"
   ]
  },
  {
   "cell_type": "code",
   "execution_count": 55,
   "id": "3a43ce94",
   "metadata": {},
   "outputs": [],
   "source": [
    "df['file_name'] = df['file_name'].apply(lambda x: x.split('/')[-1])"
   ]
  },
  {
   "cell_type": "code",
   "execution_count": 56,
   "id": "d72941f0",
   "metadata": {},
   "outputs": [
    {
     "data": {
      "text/html": [
       "<div>\n",
       "<style scoped>\n",
       "    .dataframe tbody tr th:only-of-type {\n",
       "        vertical-align: middle;\n",
       "    }\n",
       "\n",
       "    .dataframe tbody tr th {\n",
       "        vertical-align: top;\n",
       "    }\n",
       "\n",
       "    .dataframe thead th {\n",
       "        text-align: right;\n",
       "    }\n",
       "</style>\n",
       "<table border=\"1\" class=\"dataframe\">\n",
       "  <thead>\n",
       "    <tr style=\"text-align: right;\">\n",
       "      <th></th>\n",
       "      <th>file_name</th>\n",
       "      <th>areas</th>\n",
       "      <th>doc_number</th>\n",
       "      <th>scan_is_good</th>\n",
       "      <th>barcode_num</th>\n",
       "    </tr>\n",
       "  </thead>\n",
       "  <tbody>\n",
       "    <tr>\n",
       "      <th>0</th>\n",
       "      <td>001.jpg</td>\n",
       "      <td>{\"shape\":\"rectangle\"\\,\"left\":0.070738465218249...</td>\n",
       "      <td>??????????</td>\n",
       "      <td>0</td>\n",
       "      <td>286??????7?11</td>\n",
       "    </tr>\n",
       "    <tr>\n",
       "      <th>1</th>\n",
       "      <td>002.jpg</td>\n",
       "      <td>{\"shape\":\"rectangle\"\\,\"left\":0.085597602505985...</td>\n",
       "      <td>6017537341</td>\n",
       "      <td>1</td>\n",
       "      <td>2860610860917</td>\n",
       "    </tr>\n",
       "    <tr>\n",
       "      <th>2</th>\n",
       "      <td>003.jpg</td>\n",
       "      <td>{\"shape\":\"rectangle\"\\,\"left\":0.072787692180747...</td>\n",
       "      <td>6002548256</td>\n",
       "      <td>1</td>\n",
       "      <td>2860611441504</td>\n",
       "    </tr>\n",
       "    <tr>\n",
       "      <th>3</th>\n",
       "      <td>004.jpg</td>\n",
       "      <td>{\"shape\":\"rectangle\"\\,\"left\":0.077537764212381...</td>\n",
       "      <td>6002548658</td>\n",
       "      <td>1</td>\n",
       "      <td>2860613107354</td>\n",
       "    </tr>\n",
       "    <tr>\n",
       "      <th>4</th>\n",
       "      <td>005.jpg</td>\n",
       "      <td>{\"shape\":\"rectangle\"\\,\"left\":0.071783172845108...</td>\n",
       "      <td>6002548937</td>\n",
       "      <td>1</td>\n",
       "      <td>2860611888071</td>\n",
       "    </tr>\n",
       "  </tbody>\n",
       "</table>\n",
       "</div>"
      ],
      "text/plain": [
       "  file_name                                              areas  doc_number  \\\n",
       "0   001.jpg  {\"shape\":\"rectangle\"\\,\"left\":0.070738465218249...  ??????????   \n",
       "1   002.jpg  {\"shape\":\"rectangle\"\\,\"left\":0.085597602505985...  6017537341   \n",
       "2   003.jpg  {\"shape\":\"rectangle\"\\,\"left\":0.072787692180747...  6002548256   \n",
       "3   004.jpg  {\"shape\":\"rectangle\"\\,\"left\":0.077537764212381...  6002548658   \n",
       "4   005.jpg  {\"shape\":\"rectangle\"\\,\"left\":0.071783172845108...  6002548937   \n",
       "\n",
       "   scan_is_good    barcode_num  \n",
       "0             0  286??????7?11  \n",
       "1             1  2860610860917  \n",
       "2             1  2860611441504  \n",
       "3             1  2860613107354  \n",
       "4             1  2860611888071  "
      ]
     },
     "execution_count": 56,
     "metadata": {},
     "output_type": "execute_result"
    }
   ],
   "source": [
    "df.head()"
   ]
  },
  {
   "cell_type": "code",
   "execution_count": 66,
   "id": "9af949fe",
   "metadata": {},
   "outputs": [
    {
     "data": {
      "text/plain": [
       "6017533986    3\n",
       "??????????    2\n",
       "6600245149    2\n",
       "6017266229    2\n",
       "6600002416    2\n",
       "??1753?136    2\n",
       "6017645767    2\n",
       "6600275900    2\n",
       "6017268051    2\n",
       "6017533721    2\n",
       "??17???744    2\n",
       "6017537341    2\n",
       "??1754??11    1\n",
       "6017540704    1\n",
       "6017559651    1\n",
       "Name: doc_number, dtype: int64"
      ]
     },
     "execution_count": 66,
     "metadata": {},
     "output_type": "execute_result"
    }
   ],
   "source": [
    "df['doc_number'].value_counts().head(15)"
   ]
  },
  {
   "cell_type": "code",
   "execution_count": 68,
   "id": "25b73c7b",
   "metadata": {},
   "outputs": [],
   "source": [
    "uniq_docs = df['doc_number'].value_counts()"
   ]
  },
  {
   "cell_type": "code",
   "execution_count": 71,
   "id": "c0f2bc58",
   "metadata": {},
   "outputs": [
    {
     "data": {
      "text/plain": [
       "6017533986    3\n",
       "??????????    2\n",
       "6600245149    2\n",
       "6017266229    2\n",
       "6600002416    2\n",
       "??1753?136    2\n",
       "6017645767    2\n",
       "6600275900    2\n",
       "6017268051    2\n",
       "6017533721    2\n",
       "??17???744    2\n",
       "6017537341    2\n",
       "Name: doc_number, dtype: int64"
      ]
     },
     "execution_count": 71,
     "metadata": {},
     "output_type": "execute_result"
    }
   ],
   "source": [
    "uniq_docs[uniq_docs > 1]"
   ]
  },
  {
   "cell_type": "code",
   "execution_count": 73,
   "id": "56d4ac43",
   "metadata": {},
   "outputs": [
    {
     "data": {
      "text/plain": [
       "25"
      ]
     },
     "execution_count": 73,
     "metadata": {},
     "output_type": "execute_result"
    }
   ],
   "source": [
    "uniq_docs[uniq_docs > 1].sum()"
   ]
  },
  {
   "cell_type": "code",
   "execution_count": 82,
   "id": "bd43165f",
   "metadata": {},
   "outputs": [],
   "source": [
    "df = df.drop_duplicates(subset=['doc_number', 'barcode_num'], keep='first')"
   ]
  },
  {
   "cell_type": "code",
   "execution_count": 83,
   "id": "4919b84d",
   "metadata": {},
   "outputs": [
    {
     "data": {
      "text/plain": [
       "??????????    2\n",
       "6017645767    2\n",
       "??1753?136    2\n",
       "??17???744    2\n",
       "6017647375    1\n",
       "             ..\n",
       "6017410823    1\n",
       "6017407243    1\n",
       "6017269311    1\n",
       "6017268051    1\n",
       "6017415830    1\n",
       "Name: doc_number, Length: 87, dtype: int64"
      ]
     },
     "execution_count": 83,
     "metadata": {},
     "output_type": "execute_result"
    }
   ],
   "source": [
    "df['doc_number'].value_counts()"
   ]
  },
  {
   "cell_type": "code",
   "execution_count": 103,
   "id": "1c7b367e",
   "metadata": {},
   "outputs": [],
   "source": [
    "df['barcode_num'][88] = '?????????29??'"
   ]
  },
  {
   "cell_type": "code",
   "execution_count": 104,
   "id": "72167e58",
   "metadata": {},
   "outputs": [],
   "source": [
    "df = df.drop_duplicates(subset=['doc_number', 'barcode_num'], keep='last')"
   ]
  },
  {
   "cell_type": "code",
   "execution_count": 105,
   "id": "36756efc",
   "metadata": {},
   "outputs": [
    {
     "data": {
      "text/plain": [
       "??????????    2\n",
       "6017559651    1\n",
       "6017648400    1\n",
       "6017647375    1\n",
       "6017644991    1\n",
       "             ..\n",
       "6017410823    1\n",
       "6017407243    1\n",
       "6017269311    1\n",
       "6017268051    1\n",
       "6017415830    1\n",
       "Name: doc_number, Length: 87, dtype: int64"
      ]
     },
     "execution_count": 105,
     "metadata": {},
     "output_type": "execute_result"
    }
   ],
   "source": [
    "df['doc_number'].value_counts()"
   ]
  },
  {
   "cell_type": "code",
   "execution_count": 106,
   "id": "b583578e",
   "metadata": {},
   "outputs": [
    {
     "data": {
      "text/html": [
       "<div>\n",
       "<style scoped>\n",
       "    .dataframe tbody tr th:only-of-type {\n",
       "        vertical-align: middle;\n",
       "    }\n",
       "\n",
       "    .dataframe tbody tr th {\n",
       "        vertical-align: top;\n",
       "    }\n",
       "\n",
       "    .dataframe thead th {\n",
       "        text-align: right;\n",
       "    }\n",
       "</style>\n",
       "<table border=\"1\" class=\"dataframe\">\n",
       "  <thead>\n",
       "    <tr style=\"text-align: right;\">\n",
       "      <th></th>\n",
       "      <th>file_name</th>\n",
       "      <th>areas</th>\n",
       "      <th>doc_number</th>\n",
       "      <th>scan_is_good</th>\n",
       "      <th>barcode_num</th>\n",
       "    </tr>\n",
       "  </thead>\n",
       "  <tbody>\n",
       "    <tr>\n",
       "      <th>60</th>\n",
       "      <td>061.jpg</td>\n",
       "      <td>{\"shape\":\"rectangle\"\\,\"left\":0.066036589952463...</td>\n",
       "      <td>6017559651</td>\n",
       "      <td>1</td>\n",
       "      <td>2860614792009</td>\n",
       "    </tr>\n",
       "  </tbody>\n",
       "</table>\n",
       "</div>"
      ],
      "text/plain": [
       "   file_name                                              areas  doc_number  \\\n",
       "60   061.jpg  {\"shape\":\"rectangle\"\\,\"left\":0.066036589952463...  6017559651   \n",
       "\n",
       "    scan_is_good    barcode_num  \n",
       "60             1  2860614792009  "
      ]
     },
     "execution_count": 106,
     "metadata": {},
     "output_type": "execute_result"
    }
   ],
   "source": [
    "df[df['doc_number'] == df['doc_number'].value_counts().index[1]]"
   ]
  },
  {
   "cell_type": "code",
   "execution_count": 108,
   "id": "cab9c14d",
   "metadata": {},
   "outputs": [],
   "source": [
    "df = df.reset_index(drop=True)"
   ]
  },
  {
   "cell_type": "code",
   "execution_count": 110,
   "id": "6675a83e",
   "metadata": {},
   "outputs": [
    {
     "data": {
      "text/html": [
       "<div>\n",
       "<style scoped>\n",
       "    .dataframe tbody tr th:only-of-type {\n",
       "        vertical-align: middle;\n",
       "    }\n",
       "\n",
       "    .dataframe tbody tr th {\n",
       "        vertical-align: top;\n",
       "    }\n",
       "\n",
       "    .dataframe thead th {\n",
       "        text-align: right;\n",
       "    }\n",
       "</style>\n",
       "<table border=\"1\" class=\"dataframe\">\n",
       "  <thead>\n",
       "    <tr style=\"text-align: right;\">\n",
       "      <th></th>\n",
       "      <th>file_name</th>\n",
       "      <th>areas</th>\n",
       "      <th>doc_number</th>\n",
       "      <th>scan_is_good</th>\n",
       "      <th>barcode_num</th>\n",
       "    </tr>\n",
       "  </thead>\n",
       "  <tbody>\n",
       "    <tr>\n",
       "      <th>0</th>\n",
       "      <td>001.jpg</td>\n",
       "      <td>{\"shape\":\"rectangle\"\\,\"left\":0.070738465218249...</td>\n",
       "      <td>??????????</td>\n",
       "      <td>0</td>\n",
       "      <td>286??????7?11</td>\n",
       "    </tr>\n",
       "    <tr>\n",
       "      <th>1</th>\n",
       "      <td>002.jpg</td>\n",
       "      <td>{\"shape\":\"rectangle\"\\,\"left\":0.085597602505985...</td>\n",
       "      <td>6017537341</td>\n",
       "      <td>1</td>\n",
       "      <td>2860610860917</td>\n",
       "    </tr>\n",
       "    <tr>\n",
       "      <th>2</th>\n",
       "      <td>003.jpg</td>\n",
       "      <td>{\"shape\":\"rectangle\"\\,\"left\":0.072787692180747...</td>\n",
       "      <td>6002548256</td>\n",
       "      <td>1</td>\n",
       "      <td>2860611441504</td>\n",
       "    </tr>\n",
       "    <tr>\n",
       "      <th>3</th>\n",
       "      <td>004.jpg</td>\n",
       "      <td>{\"shape\":\"rectangle\"\\,\"left\":0.077537764212381...</td>\n",
       "      <td>6002548658</td>\n",
       "      <td>1</td>\n",
       "      <td>2860613107354</td>\n",
       "    </tr>\n",
       "    <tr>\n",
       "      <th>4</th>\n",
       "      <td>005.jpg</td>\n",
       "      <td>{\"shape\":\"rectangle\"\\,\"left\":0.071783172845108...</td>\n",
       "      <td>6002548937</td>\n",
       "      <td>1</td>\n",
       "      <td>2860611888071</td>\n",
       "    </tr>\n",
       "  </tbody>\n",
       "</table>\n",
       "</div>"
      ],
      "text/plain": [
       "  file_name                                              areas  doc_number  \\\n",
       "0   001.jpg  {\"shape\":\"rectangle\"\\,\"left\":0.070738465218249...  ??????????   \n",
       "1   002.jpg  {\"shape\":\"rectangle\"\\,\"left\":0.085597602505985...  6017537341   \n",
       "2   003.jpg  {\"shape\":\"rectangle\"\\,\"left\":0.072787692180747...  6002548256   \n",
       "3   004.jpg  {\"shape\":\"rectangle\"\\,\"left\":0.077537764212381...  6002548658   \n",
       "4   005.jpg  {\"shape\":\"rectangle\"\\,\"left\":0.071783172845108...  6002548937   \n",
       "\n",
       "   scan_is_good    barcode_num  \n",
       "0             0  286??????7?11  \n",
       "1             1  2860610860917  \n",
       "2             1  2860611441504  \n",
       "3             1  2860613107354  \n",
       "4             1  2860611888071  "
      ]
     },
     "execution_count": 110,
     "metadata": {},
     "output_type": "execute_result"
    }
   ],
   "source": [
    "df.head()"
   ]
  },
  {
   "cell_type": "code",
   "execution_count": 111,
   "id": "dc49c972",
   "metadata": {},
   "outputs": [],
   "source": [
    "uniq_files_list = list(df['file_name'])"
   ]
  },
  {
   "cell_type": "code",
   "execution_count": 116,
   "id": "73219e45",
   "metadata": {},
   "outputs": [],
   "source": [
    "prepeared_images = os.listdir(PREPEARED_IMG_PATH)"
   ]
  },
  {
   "cell_type": "code",
   "execution_count": 117,
   "id": "ed3f5e9f",
   "metadata": {},
   "outputs": [],
   "source": [
    "for image in prepeared_images:\n",
    "    if image not in uniq_files_list:\n",
    "        os.remove(PREPEARED_IMG_PATH + image)"
   ]
  },
  {
   "cell_type": "code",
   "execution_count": 119,
   "id": "81340a14",
   "metadata": {},
   "outputs": [],
   "source": [
    "df.to_csv(PREPEARED_IMG_PATH + 'ocr_test_dataset_ready.csv')"
   ]
  },
  {
   "cell_type": "code",
   "execution_count": null,
   "id": "7bd733a9",
   "metadata": {},
   "outputs": [],
   "source": []
  }
 ],
 "metadata": {
  "kernelspec": {
   "display_name": "ocr_data_generation",
   "language": "python",
   "name": "ocr_data_generation"
  },
  "language_info": {
   "codemirror_mode": {
    "name": "ipython",
    "version": 3
   },
   "file_extension": ".py",
   "mimetype": "text/x-python",
   "name": "python",
   "nbconvert_exporter": "python",
   "pygments_lexer": "ipython3",
   "version": "3.9.13"
  }
 },
 "nbformat": 4,
 "nbformat_minor": 5
}
