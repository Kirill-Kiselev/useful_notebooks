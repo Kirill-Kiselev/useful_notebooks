{
 "cells": [
  {
   "cell_type": "markdown",
   "id": "cf42bd6c",
   "metadata": {},
   "source": [
    "# Преобразование датасета из Толоки в датасет для бенчмарка "
   ]
  },
  {
   "cell_type": "code",
   "execution_count": 1,
   "id": "1eeee706",
   "metadata": {},
   "outputs": [],
   "source": [
    "import cv2\n",
    "import pandas as pd\n",
    "import os\n",
    "\n",
    "\n",
    "pd.set_option('display.max_columns', 100)\n",
    "pd.set_option('display.max_rows', 100)"
   ]
  },
  {
   "cell_type": "code",
   "execution_count": 2,
   "id": "5ad9f311",
   "metadata": {},
   "outputs": [
    {
     "name": "stdout",
     "output_type": "stream",
     "text": [
      "/home/kirillk/PycharmProjects/useful_notebooks\r\n"
     ]
    }
   ],
   "source": [
    "!pwd"
   ]
  },
  {
   "cell_type": "code",
   "execution_count": 3,
   "id": "79a7ddc1",
   "metadata": {},
   "outputs": [
    {
     "data": {
      "text/plain": [
       "['assignments_from_pool_1183396__24-05-2022.tsv',\n",
       " '.~lock.assignments_ocr_act.csv#',\n",
       " 'assignments_ocr_act.csv',\n",
       " 'tasks_for_pool_1183396__23-05-2022.tsv']"
      ]
     },
     "execution_count": 3,
     "metadata": {},
     "output_type": "execute_result"
    }
   ],
   "source": [
    "os.listdir('/home/kirillk/Documents/yandex_toloka/ocr_act_2/')"
   ]
  },
  {
   "cell_type": "markdown",
   "id": "06ab00bd",
   "metadata": {},
   "source": [
    "## Загрузка исходного датасета и первичные преобразования"
   ]
  },
  {
   "cell_type": "code",
   "execution_count": 4,
   "id": "3f1dfb0d",
   "metadata": {},
   "outputs": [],
   "source": [
    "df = pd.read_csv('/home/kirillk/Documents/yandex_toloka/ocr_act_2/assignments_ocr_act.csv',\n",
    "                sep='\\t')"
   ]
  },
  {
   "cell_type": "code",
   "execution_count": 5,
   "id": "62031dd8",
   "metadata": {},
   "outputs": [],
   "source": [
    "df.columns = ['filename', 'rectangles', 'doc_type', 'doc_number', 'doc_date']"
   ]
  },
  {
   "cell_type": "code",
   "execution_count": 6,
   "id": "8f492b00",
   "metadata": {},
   "outputs": [],
   "source": [
    "df['filename'] = df['filename'].apply(lambda x: x.split('/')[-1])"
   ]
  },
  {
   "cell_type": "code",
   "execution_count": 7,
   "id": "f2093579",
   "metadata": {},
   "outputs": [],
   "source": [
    "df['scan_is_good'] = True"
   ]
  },
  {
   "cell_type": "code",
   "execution_count": 8,
   "id": "9973aca4",
   "metadata": {},
   "outputs": [
    {
     "data": {
      "text/html": [
       "<div>\n",
       "<style scoped>\n",
       "    .dataframe tbody tr th:only-of-type {\n",
       "        vertical-align: middle;\n",
       "    }\n",
       "\n",
       "    .dataframe tbody tr th {\n",
       "        vertical-align: top;\n",
       "    }\n",
       "\n",
       "    .dataframe thead th {\n",
       "        text-align: right;\n",
       "    }\n",
       "</style>\n",
       "<table border=\"1\" class=\"dataframe\">\n",
       "  <thead>\n",
       "    <tr style=\"text-align: right;\">\n",
       "      <th></th>\n",
       "      <th>filename</th>\n",
       "      <th>rectangles</th>\n",
       "      <th>doc_type</th>\n",
       "      <th>doc_number</th>\n",
       "      <th>doc_date</th>\n",
       "      <th>scan_is_good</th>\n",
       "    </tr>\n",
       "  </thead>\n",
       "  <tbody>\n",
       "    <tr>\n",
       "      <th>0</th>\n",
       "      <td>001.jpg</td>\n",
       "      <td>{\"shape\":\"rectangle\"\\,\"left\":0.026561342789272...</td>\n",
       "      <td>акт</td>\n",
       "      <td>6017103091</td>\n",
       "      <td>24.11.2021</td>\n",
       "      <td>True</td>\n",
       "    </tr>\n",
       "    <tr>\n",
       "      <th>1</th>\n",
       "      <td>002.jpg</td>\n",
       "      <td>{\"shape\":\"rectangle\"\\,\"left\":0.037937630530775...</td>\n",
       "      <td>акт</td>\n",
       "      <td>6600174850</td>\n",
       "      <td>12.10.2021</td>\n",
       "      <td>True</td>\n",
       "    </tr>\n",
       "    <tr>\n",
       "      <th>2</th>\n",
       "      <td>003.jpg</td>\n",
       "      <td>{\"shape\":\"rectangle\"\\,\"left\":0.070513471935820...</td>\n",
       "      <td>акт</td>\n",
       "      <td>6600226583</td>\n",
       "      <td>07.12.2021</td>\n",
       "      <td>True</td>\n",
       "    </tr>\n",
       "    <tr>\n",
       "      <th>3</th>\n",
       "      <td>004.jpg</td>\n",
       "      <td>{\"shape\":\"rectangle\"\\,\"left\":0.033116105141907...</td>\n",
       "      <td>акт</td>\n",
       "      <td>6600236611</td>\n",
       "      <td>17.12.2021</td>\n",
       "      <td>True</td>\n",
       "    </tr>\n",
       "    <tr>\n",
       "      <th>4</th>\n",
       "      <td>005.jpg</td>\n",
       "      <td>{\"shape\":\"rectangle\"\\,\"left\":0.039245006144036...</td>\n",
       "      <td>Акт</td>\n",
       "      <td>6600241100</td>\n",
       "      <td>22.12.2021</td>\n",
       "      <td>True</td>\n",
       "    </tr>\n",
       "  </tbody>\n",
       "</table>\n",
       "</div>"
      ],
      "text/plain": [
       "  filename                                         rectangles doc_type  \\\n",
       "0  001.jpg  {\"shape\":\"rectangle\"\\,\"left\":0.026561342789272...      акт   \n",
       "1  002.jpg  {\"shape\":\"rectangle\"\\,\"left\":0.037937630530775...      акт   \n",
       "2  003.jpg  {\"shape\":\"rectangle\"\\,\"left\":0.070513471935820...      акт   \n",
       "3  004.jpg  {\"shape\":\"rectangle\"\\,\"left\":0.033116105141907...      акт   \n",
       "4  005.jpg  {\"shape\":\"rectangle\"\\,\"left\":0.039245006144036...      Акт   \n",
       "\n",
       "   doc_number    doc_date  scan_is_good  \n",
       "0  6017103091  24.11.2021          True  \n",
       "1  6600174850  12.10.2021          True  \n",
       "2  6600226583  07.12.2021          True  \n",
       "3  6600236611  17.12.2021          True  \n",
       "4  6600241100  22.12.2021          True  "
      ]
     },
     "execution_count": 8,
     "metadata": {},
     "output_type": "execute_result"
    }
   ],
   "source": [
    "df.head()"
   ]
  },
  {
   "cell_type": "code",
   "execution_count": 9,
   "id": "76a9ab28",
   "metadata": {},
   "outputs": [
    {
     "data": {
      "text/plain": [
       "(200, 6)"
      ]
     },
     "execution_count": 9,
     "metadata": {},
     "output_type": "execute_result"
    }
   ],
   "source": [
    "df.shape"
   ]
  },
  {
   "cell_type": "markdown",
   "id": "9d5d3cc8",
   "metadata": {},
   "source": [
    "## Подготовка данных в датасете"
   ]
  },
  {
   "cell_type": "markdown",
   "id": "c1c1880e",
   "metadata": {},
   "source": [
    "### Подготовка данных в столбце 'filename'"
   ]
  },
  {
   "cell_type": "code",
   "execution_count": 10,
   "id": "66d9f060",
   "metadata": {},
   "outputs": [
    {
     "data": {
      "text/plain": [
       "array(['001.jpg', '002.jpg', '003.jpg', '004.jpg', '005.jpg', '006.jpg',\n",
       "       '007.jpg', '008.jpg', '009.jpg', '010.jpg', '011.jpg', '012.jpg',\n",
       "       '013.jpg', '014.jpg', '015.jpg', '016.jpg', '017.jpg', '018.jpg',\n",
       "       '019.jpg', '020.jpg', '021.jpg', '022.jpg', '023.jpg', '024.jpg',\n",
       "       '025.jpg', '026.jpg', '027.jpg', '028.jpg', '029.jpg', '030.jpg',\n",
       "       '031.jpg', '032.jpg', '033.jpg', '034.jpg', '035.jpg', '036.jpg',\n",
       "       '037.jpg', '038.jpg', '039.jpg', '040.jpg', '041.jpg', '042.jpg',\n",
       "       '043.jpg', '044.jpg', '045.jpg', '046.jpg', '047.jpg', '048.jpg',\n",
       "       '049.jpg', '050.jpg', '051.jpg', '052.jpg', '053.jpg', '054.jpg',\n",
       "       '055.jpg', '056.jpg', '057.jpg', '058.jpg', '059.jpg', '060.jpg',\n",
       "       '061.jpg', '062.jpg', '063.jpg', '064.jpg', '065.jpg', '066.jpg',\n",
       "       '067.jpg', '068.jpg', '069.jpg', '070.jpg', '071.jpg', '072.jpg',\n",
       "       '073.jpg', '074.jpg', '075.jpg', '076.jpg', '077.jpg', '078.jpg',\n",
       "       '079.jpg', '080.jpg', '081.jpg', '082.jpg', '083.jpg', '084.jpg',\n",
       "       '085.jpg', '086.jpg', '087.jpg', '088.jpg', '089.jpg', '090.jpg',\n",
       "       '091.jpg', '092.jpg', '093.jpg', '094.jpg', '095.jpg', '096.jpg',\n",
       "       '097.jpg', '098.jpg', '099.jpg', '100.jpg', '101.jpg', '102.jpg',\n",
       "       '103.jpg', '104.jpg', '105.jpg', '106.jpg', '107.jpg', '108.jpg',\n",
       "       '109.jpg', '110.jpg', '111.jpg', '112.jpg', '113.jpg', '114.jpg',\n",
       "       '115.jpg', '116.jpg', '117.jpg', '118.jpg', '119.jpg', '120.jpg',\n",
       "       '121.jpg', '122.jpg', '123.jpg', '124.jpg', '125.jpg', '126.jpg',\n",
       "       '127.jpg', '128.jpg', '129.jpg', '130.jpg', '131.jpg', '132.jpg',\n",
       "       '133.jpg', '134.jpg', '135.jpg', '136.jpg', '137.jpg', '138.jpg',\n",
       "       '139.jpg', '140.jpg', '141.jpg', '142.jpg', '143.jpg', '144.jpg',\n",
       "       '145.jpg', '146.jpg', '147.jpg', '148.jpg', '149.jpg', '150.jpg',\n",
       "       '151.jpg', '152.jpg', '153.jpg', '154.jpg', '155.jpg', '156.jpg',\n",
       "       '157.jpg', '158.jpg', '159.jpg', '160.jpg', '161.jpg', '162.jpg',\n",
       "       '163.jpg', '164.jpg', '165.jpg', '166.jpg', '167.jpg', '168.jpg',\n",
       "       '169.jpg', '170.jpg', '171.jpg', '172.jpg', '173.jpg', '174.jpg',\n",
       "       '175.jpg', '176.jpg', '177.jpg', '178.jpg', '179.jpg', '180.jpg',\n",
       "       '181.jpg', '182.jpg', '183.jpg', '184.jpg', '185.jpg', '186.jpg',\n",
       "       '187.jpg', '188.jpg', '189.jpg', '190.jpg', '191.jpg', '192.jpg',\n",
       "       '193.jpg', '194.jpg', '195.jpg', '196.jpg', '197.jpg', '198.jpg',\n",
       "       '199.jpg', '200.jpg'], dtype=object)"
      ]
     },
     "execution_count": 10,
     "metadata": {},
     "output_type": "execute_result"
    }
   ],
   "source": [
    "df['filename'].unique()"
   ]
  },
  {
   "cell_type": "markdown",
   "id": "b0039520",
   "metadata": {},
   "source": [
    "Данные готовы"
   ]
  },
  {
   "cell_type": "markdown",
   "id": "bbade466",
   "metadata": {},
   "source": [
    "### Подготовка данных в столбце 'doc_type'"
   ]
  },
  {
   "cell_type": "code",
   "execution_count": 11,
   "id": "06b5763f",
   "metadata": {},
   "outputs": [
    {
     "data": {
      "text/plain": [
       "array(['акт', 'Акт'], dtype=object)"
      ]
     },
     "execution_count": 11,
     "metadata": {},
     "output_type": "execute_result"
    }
   ],
   "source": [
    "df['doc_type'].unique()"
   ]
  },
  {
   "cell_type": "code",
   "execution_count": 12,
   "id": "66ed285e",
   "metadata": {},
   "outputs": [],
   "source": [
    "df['doc_type'] = df['doc_type'].str.lower()"
   ]
  },
  {
   "cell_type": "code",
   "execution_count": 13,
   "id": "ebc9945e",
   "metadata": {},
   "outputs": [
    {
     "data": {
      "text/plain": [
       "array(['акт'], dtype=object)"
      ]
     },
     "execution_count": 13,
     "metadata": {},
     "output_type": "execute_result"
    }
   ],
   "source": [
    "df['doc_type'].unique()"
   ]
  },
  {
   "cell_type": "markdown",
   "id": "68236872",
   "metadata": {},
   "source": [
    "### Подготовка данных в столбце 'doc_number'"
   ]
  },
  {
   "cell_type": "code",
   "execution_count": 14,
   "id": "e2a554c0",
   "metadata": {},
   "outputs": [
    {
     "data": {
      "text/html": [
       "<div>\n",
       "<style scoped>\n",
       "    .dataframe tbody tr th:only-of-type {\n",
       "        vertical-align: middle;\n",
       "    }\n",
       "\n",
       "    .dataframe tbody tr th {\n",
       "        vertical-align: top;\n",
       "    }\n",
       "\n",
       "    .dataframe thead th {\n",
       "        text-align: right;\n",
       "    }\n",
       "</style>\n",
       "<table border=\"1\" class=\"dataframe\">\n",
       "  <thead>\n",
       "    <tr style=\"text-align: right;\">\n",
       "      <th></th>\n",
       "      <th>filename</th>\n",
       "      <th>rectangles</th>\n",
       "      <th>doc_type</th>\n",
       "      <th>doc_number</th>\n",
       "      <th>doc_date</th>\n",
       "      <th>scan_is_good</th>\n",
       "    </tr>\n",
       "  </thead>\n",
       "  <tbody>\n",
       "    <tr>\n",
       "      <th>105</th>\n",
       "      <td>106.jpg</td>\n",
       "      <td>{\"shape\":\"rectangle\"\\,\"left\":0.044387646488832...</td>\n",
       "      <td>акт</td>\n",
       "      <td>66000703223</td>\n",
       "      <td>01.07.2021</td>\n",
       "      <td>True</td>\n",
       "    </tr>\n",
       "    <tr>\n",
       "      <th>146</th>\n",
       "      <td>147.jpg</td>\n",
       "      <td>{\"shape\":\"rectangle\"\\,\"left\":0.040854104431064...</td>\n",
       "      <td>акт</td>\n",
       "      <td>660018923</td>\n",
       "      <td>06.10.2021</td>\n",
       "      <td>True</td>\n",
       "    </tr>\n",
       "    <tr>\n",
       "      <th>178</th>\n",
       "      <td>179.jpg</td>\n",
       "      <td>{\"shape\":\"rectangle\"\\,\"left\":0.046268894950537...</td>\n",
       "      <td>акт</td>\n",
       "      <td>66002121</td>\n",
       "      <td>19.11.2021</td>\n",
       "      <td>True</td>\n",
       "    </tr>\n",
       "  </tbody>\n",
       "</table>\n",
       "</div>"
      ],
      "text/plain": [
       "    filename                                         rectangles doc_type  \\\n",
       "105  106.jpg  {\"shape\":\"rectangle\"\\,\"left\":0.044387646488832...      акт   \n",
       "146  147.jpg  {\"shape\":\"rectangle\"\\,\"left\":0.040854104431064...      акт   \n",
       "178  179.jpg  {\"shape\":\"rectangle\"\\,\"left\":0.046268894950537...      акт   \n",
       "\n",
       "      doc_number    doc_date  scan_is_good  \n",
       "105  66000703223  01.07.2021          True  \n",
       "146    660018923  06.10.2021          True  \n",
       "178     66002121  19.11.2021          True  "
      ]
     },
     "execution_count": 14,
     "metadata": {},
     "output_type": "execute_result"
    }
   ],
   "source": [
    "df[df['doc_number'].str.len() !=10]"
   ]
  },
  {
   "cell_type": "markdown",
   "id": "cbedc9ad",
   "metadata": {},
   "source": [
    "Исправим ошибки разметки."
   ]
  },
  {
   "cell_type": "code",
   "execution_count": 15,
   "id": "d12f2d82",
   "metadata": {},
   "outputs": [
    {
     "name": "stderr",
     "output_type": "stream",
     "text": [
      "/tmp/ipykernel_67950/3288290856.py:1: SettingWithCopyWarning: \n",
      "A value is trying to be set on a copy of a slice from a DataFrame\n",
      "\n",
      "See the caveats in the documentation: https://pandas.pydata.org/pandas-docs/stable/user_guide/indexing.html#returning-a-view-versus-a-copy\n",
      "  df['doc_number'][105] = '6600070323'\n"
     ]
    },
    {
     "data": {
      "text/plain": [
       "'6600070323'"
      ]
     },
     "execution_count": 15,
     "metadata": {},
     "output_type": "execute_result"
    }
   ],
   "source": [
    "df['doc_number'][105] = '6600070323'\n",
    "df['doc_number'][105]"
   ]
  },
  {
   "cell_type": "code",
   "execution_count": 16,
   "id": "32368212",
   "metadata": {},
   "outputs": [
    {
     "name": "stderr",
     "output_type": "stream",
     "text": [
      "/tmp/ipykernel_67950/3781156153.py:1: SettingWithCopyWarning: \n",
      "A value is trying to be set on a copy of a slice from a DataFrame\n",
      "\n",
      "See the caveats in the documentation: https://pandas.pydata.org/pandas-docs/stable/user_guide/indexing.html#returning-a-view-versus-a-copy\n",
      "  df['doc_number'][146] = '6600168923'\n"
     ]
    },
    {
     "data": {
      "text/plain": [
       "'6600168923'"
      ]
     },
     "execution_count": 16,
     "metadata": {},
     "output_type": "execute_result"
    }
   ],
   "source": [
    "df['doc_number'][146] = '6600168923'\n",
    "df['doc_number'][146]"
   ]
  },
  {
   "cell_type": "code",
   "execution_count": 17,
   "id": "db6e0e4b",
   "metadata": {},
   "outputs": [
    {
     "name": "stderr",
     "output_type": "stream",
     "text": [
      "/tmp/ipykernel_67950/3648073837.py:1: SettingWithCopyWarning: \n",
      "A value is trying to be set on a copy of a slice from a DataFrame\n",
      "\n",
      "See the caveats in the documentation: https://pandas.pydata.org/pandas-docs/stable/user_guide/indexing.html#returning-a-view-versus-a-copy\n",
      "  df['doc_number'][178] = '6600212138'\n"
     ]
    },
    {
     "data": {
      "text/plain": [
       "'6600212138'"
      ]
     },
     "execution_count": 17,
     "metadata": {},
     "output_type": "execute_result"
    }
   ],
   "source": [
    "df['doc_number'][178] = '6600212138'\n",
    "df['doc_number'][178]"
   ]
  },
  {
   "cell_type": "code",
   "execution_count": 18,
   "id": "0e6bc946",
   "metadata": {},
   "outputs": [
    {
     "data": {
      "text/html": [
       "<div>\n",
       "<style scoped>\n",
       "    .dataframe tbody tr th:only-of-type {\n",
       "        vertical-align: middle;\n",
       "    }\n",
       "\n",
       "    .dataframe tbody tr th {\n",
       "        vertical-align: top;\n",
       "    }\n",
       "\n",
       "    .dataframe thead th {\n",
       "        text-align: right;\n",
       "    }\n",
       "</style>\n",
       "<table border=\"1\" class=\"dataframe\">\n",
       "  <thead>\n",
       "    <tr style=\"text-align: right;\">\n",
       "      <th></th>\n",
       "      <th>filename</th>\n",
       "      <th>rectangles</th>\n",
       "      <th>doc_type</th>\n",
       "      <th>doc_number</th>\n",
       "      <th>doc_date</th>\n",
       "      <th>scan_is_good</th>\n",
       "    </tr>\n",
       "  </thead>\n",
       "  <tbody>\n",
       "  </tbody>\n",
       "</table>\n",
       "</div>"
      ],
      "text/plain": [
       "Empty DataFrame\n",
       "Columns: [filename, rectangles, doc_type, doc_number, doc_date, scan_is_good]\n",
       "Index: []"
      ]
     },
     "execution_count": 18,
     "metadata": {},
     "output_type": "execute_result"
    }
   ],
   "source": [
    "df[df['doc_number'].str.len() !=10]"
   ]
  },
  {
   "cell_type": "code",
   "execution_count": 19,
   "id": "c9bfb31e",
   "metadata": {},
   "outputs": [
    {
     "data": {
      "text/html": [
       "<div>\n",
       "<style scoped>\n",
       "    .dataframe tbody tr th:only-of-type {\n",
       "        vertical-align: middle;\n",
       "    }\n",
       "\n",
       "    .dataframe tbody tr th {\n",
       "        vertical-align: top;\n",
       "    }\n",
       "\n",
       "    .dataframe thead th {\n",
       "        text-align: right;\n",
       "    }\n",
       "</style>\n",
       "<table border=\"1\" class=\"dataframe\">\n",
       "  <thead>\n",
       "    <tr style=\"text-align: right;\">\n",
       "      <th></th>\n",
       "      <th>filename</th>\n",
       "      <th>rectangles</th>\n",
       "      <th>doc_type</th>\n",
       "      <th>doc_number</th>\n",
       "      <th>doc_date</th>\n",
       "      <th>scan_is_good</th>\n",
       "    </tr>\n",
       "  </thead>\n",
       "  <tbody>\n",
       "    <tr>\n",
       "      <th>13</th>\n",
       "      <td>014.jpg</td>\n",
       "      <td>{\"shape\":\"rectangle\"\\,\"left\":0.034684013379357...</td>\n",
       "      <td>акт</td>\n",
       "      <td>????412637</td>\n",
       "      <td>12.08.2021</td>\n",
       "      <td>True</td>\n",
       "    </tr>\n",
       "  </tbody>\n",
       "</table>\n",
       "</div>"
      ],
      "text/plain": [
       "   filename                                         rectangles doc_type  \\\n",
       "13  014.jpg  {\"shape\":\"rectangle\"\\,\"left\":0.034684013379357...      акт   \n",
       "\n",
       "    doc_number    doc_date  scan_is_good  \n",
       "13  ????412637  12.08.2021          True  "
      ]
     },
     "execution_count": 19,
     "metadata": {},
     "output_type": "execute_result"
    }
   ],
   "source": [
    "df[df['doc_number'].str.isnumeric() == False]"
   ]
  },
  {
   "cell_type": "markdown",
   "id": "4cd588e5",
   "metadata": {},
   "source": [
    "В этом документе не читатется номер"
   ]
  },
  {
   "cell_type": "markdown",
   "id": "38502cc4",
   "metadata": {},
   "source": [
    "### Парсинг столбца rectangles"
   ]
  },
  {
   "cell_type": "code",
   "execution_count": 20,
   "id": "57c0b44f",
   "metadata": {},
   "outputs": [],
   "source": [
    "rec = df['rectangles'][0]"
   ]
  },
  {
   "cell_type": "code",
   "execution_count": 21,
   "id": "049c5517",
   "metadata": {},
   "outputs": [],
   "source": [
    "rec = eval(rec.replace('\\\\', ''))"
   ]
  },
  {
   "cell_type": "code",
   "execution_count": 22,
   "id": "c258fdba",
   "metadata": {},
   "outputs": [
    {
     "data": {
      "text/plain": [
       "({'shape': 'rectangle',\n",
       "  'left': 0.026561342789272125,\n",
       "  'top': 0.014445423244476877,\n",
       "  'width': 0.023020131736874765,\n",
       "  'height': 0.008173871708341935,\n",
       "  'label': 'doc_type'},\n",
       " {'shape': 'rectangle',\n",
       "  'left': 0.06649778345400183,\n",
       "  'top': 0.013454650916192998,\n",
       "  'width': 0.07132752939683164,\n",
       "  'height': 0.01015541636490969,\n",
       "  'label': 'doc_number'},\n",
       " {'shape': 'rectangle',\n",
       "  'left': 0.15665996609009467,\n",
       "  'top': 0.01333080437515752,\n",
       "  'width': 0.06539810152521239,\n",
       "  'height': 0.009536183659732257,\n",
       "  'label': 'doc_date'})"
      ]
     },
     "execution_count": 22,
     "metadata": {},
     "output_type": "execute_result"
    }
   ],
   "source": [
    "rec"
   ]
  },
  {
   "cell_type": "code",
   "execution_count": 23,
   "id": "ac3f3a93",
   "metadata": {},
   "outputs": [],
   "source": [
    "example = pd.DataFrame(rec).set_index('label').drop('shape', axis=1).T.unstack().to_frame().T"
   ]
  },
  {
   "cell_type": "code",
   "execution_count": 24,
   "id": "686714d8",
   "metadata": {},
   "outputs": [
    {
     "data": {
      "text/html": [
       "<div>\n",
       "<style scoped>\n",
       "    .dataframe tbody tr th:only-of-type {\n",
       "        vertical-align: middle;\n",
       "    }\n",
       "\n",
       "    .dataframe tbody tr th {\n",
       "        vertical-align: top;\n",
       "    }\n",
       "\n",
       "    .dataframe thead tr th {\n",
       "        text-align: left;\n",
       "    }\n",
       "</style>\n",
       "<table border=\"1\" class=\"dataframe\">\n",
       "  <thead>\n",
       "    <tr>\n",
       "      <th>label</th>\n",
       "      <th colspan=\"4\" halign=\"left\">doc_type</th>\n",
       "      <th colspan=\"4\" halign=\"left\">doc_number</th>\n",
       "      <th colspan=\"4\" halign=\"left\">doc_date</th>\n",
       "    </tr>\n",
       "    <tr>\n",
       "      <th></th>\n",
       "      <th>left</th>\n",
       "      <th>top</th>\n",
       "      <th>width</th>\n",
       "      <th>height</th>\n",
       "      <th>left</th>\n",
       "      <th>top</th>\n",
       "      <th>width</th>\n",
       "      <th>height</th>\n",
       "      <th>left</th>\n",
       "      <th>top</th>\n",
       "      <th>width</th>\n",
       "      <th>height</th>\n",
       "    </tr>\n",
       "  </thead>\n",
       "  <tbody>\n",
       "    <tr>\n",
       "      <th>0</th>\n",
       "      <td>0.026561</td>\n",
       "      <td>0.014445</td>\n",
       "      <td>0.02302</td>\n",
       "      <td>0.008174</td>\n",
       "      <td>0.066498</td>\n",
       "      <td>0.013455</td>\n",
       "      <td>0.071328</td>\n",
       "      <td>0.010155</td>\n",
       "      <td>0.15666</td>\n",
       "      <td>0.013331</td>\n",
       "      <td>0.065398</td>\n",
       "      <td>0.009536</td>\n",
       "    </tr>\n",
       "  </tbody>\n",
       "</table>\n",
       "</div>"
      ],
      "text/plain": [
       "label  doc_type                              doc_number                      \\\n",
       "           left       top    width    height       left       top     width   \n",
       "0      0.026561  0.014445  0.02302  0.008174   0.066498  0.013455  0.071328   \n",
       "\n",
       "label           doc_date                                \n",
       "         height     left       top     width    height  \n",
       "0      0.010155  0.15666  0.013331  0.065398  0.009536  "
      ]
     },
     "execution_count": 24,
     "metadata": {},
     "output_type": "execute_result"
    }
   ],
   "source": [
    "example"
   ]
  },
  {
   "cell_type": "code",
   "execution_count": 25,
   "id": "c428966f",
   "metadata": {},
   "outputs": [
    {
     "data": {
      "text/plain": [
       "MultiIndex([(  'doc_type',   'left'),\n",
       "            (  'doc_type',    'top'),\n",
       "            (  'doc_type',  'width'),\n",
       "            (  'doc_type', 'height'),\n",
       "            ('doc_number',   'left'),\n",
       "            ('doc_number',    'top'),\n",
       "            ('doc_number',  'width'),\n",
       "            ('doc_number', 'height'),\n",
       "            (  'doc_date',   'left'),\n",
       "            (  'doc_date',    'top'),\n",
       "            (  'doc_date',  'width'),\n",
       "            (  'doc_date', 'height')],\n",
       "           names=['label', None])"
      ]
     },
     "execution_count": 25,
     "metadata": {},
     "output_type": "execute_result"
    }
   ],
   "source": [
    "example.columns"
   ]
  },
  {
   "cell_type": "code",
   "execution_count": 26,
   "id": "4c1a72e7",
   "metadata": {},
   "outputs": [
    {
     "data": {
      "text/plain": [
       "Index(['doc_type_left', 'doc_type_top', 'doc_type_width', 'doc_type_height',\n",
       "       'doc_number_left', 'doc_number_top', 'doc_number_width',\n",
       "       'doc_number_height', 'doc_date_left', 'doc_date_top', 'doc_date_width',\n",
       "       'doc_date_height'],\n",
       "      dtype='object')"
      ]
     },
     "execution_count": 26,
     "metadata": {},
     "output_type": "execute_result"
    }
   ],
   "source": [
    "example.columns = ['_'.join(col) for col in example.columns]\n",
    "example.columns"
   ]
  },
  {
   "cell_type": "code",
   "execution_count": 27,
   "id": "e7105b00",
   "metadata": {},
   "outputs": [
    {
     "data": {
      "text/plain": [
       "'doc_type'"
      ]
     },
     "execution_count": 27,
     "metadata": {},
     "output_type": "execute_result"
    }
   ],
   "source": [
    "'_'.join(example.columns[0].split('_')[:2])"
   ]
  },
  {
   "cell_type": "code",
   "execution_count": 28,
   "id": "3c69e2a6",
   "metadata": {},
   "outputs": [],
   "source": [
    "new_columns_list = []"
   ]
  },
  {
   "cell_type": "code",
   "execution_count": 29,
   "id": "de06be78",
   "metadata": {},
   "outputs": [],
   "source": [
    "for col in example.columns:\n",
    "    new_columns_list.append('_'.join(col.split('_')[:2]) + '_box_' + col.split('_')[-1])\n",
    "#     print(col)"
   ]
  },
  {
   "cell_type": "code",
   "execution_count": 30,
   "id": "6fc2a135",
   "metadata": {},
   "outputs": [
    {
     "data": {
      "text/plain": [
       "['doc_type_box_left',\n",
       " 'doc_type_box_top',\n",
       " 'doc_type_box_width',\n",
       " 'doc_type_box_height',\n",
       " 'doc_number_box_left',\n",
       " 'doc_number_box_top',\n",
       " 'doc_number_box_width',\n",
       " 'doc_number_box_height',\n",
       " 'doc_date_box_left',\n",
       " 'doc_date_box_top',\n",
       " 'doc_date_box_width',\n",
       " 'doc_date_box_height']"
      ]
     },
     "execution_count": 30,
     "metadata": {},
     "output_type": "execute_result"
    }
   ],
   "source": [
    "new_columns_list"
   ]
  },
  {
   "cell_type": "code",
   "execution_count": 31,
   "id": "f0cf2987",
   "metadata": {},
   "outputs": [],
   "source": [
    "example.columns = new_columns_list"
   ]
  },
  {
   "cell_type": "code",
   "execution_count": 32,
   "id": "48851c79",
   "metadata": {},
   "outputs": [],
   "source": [
    "example.columns = example.columns.str.replace('-', '_')"
   ]
  },
  {
   "cell_type": "code",
   "execution_count": 33,
   "id": "035fb496",
   "metadata": {},
   "outputs": [
    {
     "data": {
      "text/plain": [
       "Index(['doc_type_box_left', 'doc_type_box_top', 'doc_type_box_width',\n",
       "       'doc_type_box_height', 'doc_number_box_left', 'doc_number_box_top',\n",
       "       'doc_number_box_width', 'doc_number_box_height', 'doc_date_box_left',\n",
       "       'doc_date_box_top', 'doc_date_box_width', 'doc_date_box_height'],\n",
       "      dtype='object')"
      ]
     },
     "execution_count": 33,
     "metadata": {},
     "output_type": "execute_result"
    }
   ],
   "source": [
    "example.columns"
   ]
  },
  {
   "cell_type": "code",
   "execution_count": 34,
   "id": "9325e6b7",
   "metadata": {},
   "outputs": [
    {
     "data": {
      "text/html": [
       "<div>\n",
       "<style scoped>\n",
       "    .dataframe tbody tr th:only-of-type {\n",
       "        vertical-align: middle;\n",
       "    }\n",
       "\n",
       "    .dataframe tbody tr th {\n",
       "        vertical-align: top;\n",
       "    }\n",
       "\n",
       "    .dataframe thead th {\n",
       "        text-align: right;\n",
       "    }\n",
       "</style>\n",
       "<table border=\"1\" class=\"dataframe\">\n",
       "  <thead>\n",
       "    <tr style=\"text-align: right;\">\n",
       "      <th></th>\n",
       "      <th>doc_type_box_left</th>\n",
       "      <th>doc_type_box_top</th>\n",
       "      <th>doc_type_box_width</th>\n",
       "      <th>doc_type_box_height</th>\n",
       "      <th>doc_number_box_left</th>\n",
       "      <th>doc_number_box_top</th>\n",
       "      <th>doc_number_box_width</th>\n",
       "      <th>doc_number_box_height</th>\n",
       "      <th>doc_date_box_left</th>\n",
       "      <th>doc_date_box_top</th>\n",
       "      <th>doc_date_box_width</th>\n",
       "      <th>doc_date_box_height</th>\n",
       "    </tr>\n",
       "  </thead>\n",
       "  <tbody>\n",
       "    <tr>\n",
       "      <th>0</th>\n",
       "      <td>0.026561</td>\n",
       "      <td>0.014445</td>\n",
       "      <td>0.02302</td>\n",
       "      <td>0.008174</td>\n",
       "      <td>0.066498</td>\n",
       "      <td>0.013455</td>\n",
       "      <td>0.071328</td>\n",
       "      <td>0.010155</td>\n",
       "      <td>0.15666</td>\n",
       "      <td>0.013331</td>\n",
       "      <td>0.065398</td>\n",
       "      <td>0.009536</td>\n",
       "    </tr>\n",
       "  </tbody>\n",
       "</table>\n",
       "</div>"
      ],
      "text/plain": [
       "   doc_type_box_left  doc_type_box_top  doc_type_box_width  \\\n",
       "0           0.026561          0.014445             0.02302   \n",
       "\n",
       "   doc_type_box_height  doc_number_box_left  doc_number_box_top  \\\n",
       "0             0.008174             0.066498            0.013455   \n",
       "\n",
       "   doc_number_box_width  doc_number_box_height  doc_date_box_left  \\\n",
       "0              0.071328               0.010155            0.15666   \n",
       "\n",
       "   doc_date_box_top  doc_date_box_width  doc_date_box_height  \n",
       "0          0.013331            0.065398             0.009536  "
      ]
     },
     "execution_count": 34,
     "metadata": {},
     "output_type": "execute_result"
    }
   ],
   "source": [
    "example"
   ]
  },
  {
   "cell_type": "code",
   "execution_count": 35,
   "id": "6b80b0b6",
   "metadata": {},
   "outputs": [],
   "source": [
    "rectangles_list = []"
   ]
  },
  {
   "cell_type": "code",
   "execution_count": 36,
   "id": "9accda4d",
   "metadata": {},
   "outputs": [],
   "source": [
    "for rectangles in df['rectangles']:\n",
    "    rectangles = eval(rectangles.replace('\\\\', ''))\n",
    "    rectangles = pd.DataFrame(rectangles).set_index('label').drop('shape', axis=1).T.unstack().to_frame().T\n",
    "    \n",
    "    rectangles.columns = ['_'.join(col) for col in rectangles.columns]\n",
    "    \n",
    "    new_columns_list = []\n",
    "    for col in rectangles.columns:\n",
    "        new_columns_list.append('_'.join(col.split('_')[:2]) + '_box_' + col.split('_')[-1])\n",
    "    \n",
    "    rectangles.columns = new_columns_list\n",
    "    \n",
    "    rectangles.columns = rectangles.columns.str.replace('-', '_')\n",
    "    rectangles.columns = rectangles.columns.str.replace('name', 'type')\n",
    "    rectangles_list.append(rectangles)"
   ]
  },
  {
   "cell_type": "code",
   "execution_count": 37,
   "id": "f7fb102e",
   "metadata": {},
   "outputs": [],
   "source": [
    "boxes_table = pd.concat(rectangles_list, ignore_index=True)"
   ]
  },
  {
   "cell_type": "code",
   "execution_count": 38,
   "id": "c168256f",
   "metadata": {},
   "outputs": [
    {
     "data": {
      "text/html": [
       "<div>\n",
       "<style scoped>\n",
       "    .dataframe tbody tr th:only-of-type {\n",
       "        vertical-align: middle;\n",
       "    }\n",
       "\n",
       "    .dataframe tbody tr th {\n",
       "        vertical-align: top;\n",
       "    }\n",
       "\n",
       "    .dataframe thead th {\n",
       "        text-align: right;\n",
       "    }\n",
       "</style>\n",
       "<table border=\"1\" class=\"dataframe\">\n",
       "  <thead>\n",
       "    <tr style=\"text-align: right;\">\n",
       "      <th></th>\n",
       "      <th>doc_type_box_left</th>\n",
       "      <th>doc_type_box_top</th>\n",
       "      <th>doc_type_box_width</th>\n",
       "      <th>doc_type_box_height</th>\n",
       "      <th>doc_number_box_left</th>\n",
       "      <th>doc_number_box_top</th>\n",
       "      <th>doc_number_box_width</th>\n",
       "      <th>doc_number_box_height</th>\n",
       "      <th>doc_date_box_left</th>\n",
       "      <th>doc_date_box_top</th>\n",
       "      <th>doc_date_box_width</th>\n",
       "      <th>doc_date_box_height</th>\n",
       "    </tr>\n",
       "  </thead>\n",
       "  <tbody>\n",
       "    <tr>\n",
       "      <th>0</th>\n",
       "      <td>0.026561</td>\n",
       "      <td>0.014445</td>\n",
       "      <td>0.023020</td>\n",
       "      <td>0.008174</td>\n",
       "      <td>0.066498</td>\n",
       "      <td>0.013455</td>\n",
       "      <td>0.071328</td>\n",
       "      <td>0.010155</td>\n",
       "      <td>0.156660</td>\n",
       "      <td>0.013331</td>\n",
       "      <td>0.065398</td>\n",
       "      <td>0.009536</td>\n",
       "    </tr>\n",
       "    <tr>\n",
       "      <th>1</th>\n",
       "      <td>0.037938</td>\n",
       "      <td>0.035595</td>\n",
       "      <td>0.023487</td>\n",
       "      <td>0.007534</td>\n",
       "      <td>0.079714</td>\n",
       "      <td>0.034500</td>\n",
       "      <td>0.072964</td>\n",
       "      <td>0.008492</td>\n",
       "      <td>0.172122</td>\n",
       "      <td>0.034500</td>\n",
       "      <td>0.065841</td>\n",
       "      <td>0.008766</td>\n",
       "    </tr>\n",
       "    <tr>\n",
       "      <th>2</th>\n",
       "      <td>0.070513</td>\n",
       "      <td>0.037068</td>\n",
       "      <td>0.023613</td>\n",
       "      <td>0.008848</td>\n",
       "      <td>0.111159</td>\n",
       "      <td>0.036792</td>\n",
       "      <td>0.073161</td>\n",
       "      <td>0.008709</td>\n",
       "      <td>0.202126</td>\n",
       "      <td>0.036239</td>\n",
       "      <td>0.065419</td>\n",
       "      <td>0.009401</td>\n",
       "    </tr>\n",
       "    <tr>\n",
       "      <th>3</th>\n",
       "      <td>0.033116</td>\n",
       "      <td>0.045036</td>\n",
       "      <td>0.023148</td>\n",
       "      <td>0.008422</td>\n",
       "      <td>0.073842</td>\n",
       "      <td>0.045036</td>\n",
       "      <td>0.071531</td>\n",
       "      <td>0.008422</td>\n",
       "      <td>0.164170</td>\n",
       "      <td>0.044789</td>\n",
       "      <td>0.065962</td>\n",
       "      <td>0.008669</td>\n",
       "    </tr>\n",
       "    <tr>\n",
       "      <th>4</th>\n",
       "      <td>0.039245</td>\n",
       "      <td>0.047049</td>\n",
       "      <td>0.023848</td>\n",
       "      <td>0.007750</td>\n",
       "      <td>0.080277</td>\n",
       "      <td>0.047049</td>\n",
       "      <td>0.072069</td>\n",
       "      <td>0.007625</td>\n",
       "      <td>0.170582</td>\n",
       "      <td>0.046799</td>\n",
       "      <td>0.066808</td>\n",
       "      <td>0.008125</td>\n",
       "    </tr>\n",
       "    <tr>\n",
       "      <th>5</th>\n",
       "      <td>0.067706</td>\n",
       "      <td>0.042772</td>\n",
       "      <td>0.022930</td>\n",
       "      <td>0.007247</td>\n",
       "      <td>0.108695</td>\n",
       "      <td>0.041613</td>\n",
       "      <td>0.072238</td>\n",
       "      <td>0.008406</td>\n",
       "      <td>0.199602</td>\n",
       "      <td>0.041613</td>\n",
       "      <td>0.064122</td>\n",
       "      <td>0.009131</td>\n",
       "    </tr>\n",
       "    <tr>\n",
       "      <th>6</th>\n",
       "      <td>0.037542</td>\n",
       "      <td>0.015661</td>\n",
       "      <td>0.024504</td>\n",
       "      <td>0.009043</td>\n",
       "      <td>0.079905</td>\n",
       "      <td>0.014623</td>\n",
       "      <td>0.075173</td>\n",
       "      <td>0.009784</td>\n",
       "      <td>0.174806</td>\n",
       "      <td>0.015068</td>\n",
       "      <td>0.066867</td>\n",
       "      <td>0.009636</td>\n",
       "    </tr>\n",
       "    <tr>\n",
       "      <th>7</th>\n",
       "      <td>0.062008</td>\n",
       "      <td>0.017558</td>\n",
       "      <td>0.023240</td>\n",
       "      <td>0.008174</td>\n",
       "      <td>0.102635</td>\n",
       "      <td>0.016815</td>\n",
       "      <td>0.074368</td>\n",
       "      <td>0.009536</td>\n",
       "      <td>0.194734</td>\n",
       "      <td>0.016567</td>\n",
       "      <td>0.067654</td>\n",
       "      <td>0.009288</td>\n",
       "    </tr>\n",
       "    <tr>\n",
       "      <th>8</th>\n",
       "      <td>0.061624</td>\n",
       "      <td>0.034692</td>\n",
       "      <td>0.024034</td>\n",
       "      <td>0.010413</td>\n",
       "      <td>0.101997</td>\n",
       "      <td>0.034968</td>\n",
       "      <td>0.073431</td>\n",
       "      <td>0.009451</td>\n",
       "      <td>0.194266</td>\n",
       "      <td>0.035242</td>\n",
       "      <td>0.065165</td>\n",
       "      <td>0.009725</td>\n",
       "    </tr>\n",
       "    <tr>\n",
       "      <th>9</th>\n",
       "      <td>0.052598</td>\n",
       "      <td>0.036906</td>\n",
       "      <td>0.024313</td>\n",
       "      <td>0.008183</td>\n",
       "      <td>0.093661</td>\n",
       "      <td>0.036267</td>\n",
       "      <td>0.074200</td>\n",
       "      <td>0.008566</td>\n",
       "      <td>0.186771</td>\n",
       "      <td>0.036012</td>\n",
       "      <td>0.065195</td>\n",
       "      <td>0.009589</td>\n",
       "    </tr>\n",
       "  </tbody>\n",
       "</table>\n",
       "</div>"
      ],
      "text/plain": [
       "   doc_type_box_left  doc_type_box_top  doc_type_box_width  \\\n",
       "0           0.026561          0.014445            0.023020   \n",
       "1           0.037938          0.035595            0.023487   \n",
       "2           0.070513          0.037068            0.023613   \n",
       "3           0.033116          0.045036            0.023148   \n",
       "4           0.039245          0.047049            0.023848   \n",
       "5           0.067706          0.042772            0.022930   \n",
       "6           0.037542          0.015661            0.024504   \n",
       "7           0.062008          0.017558            0.023240   \n",
       "8           0.061624          0.034692            0.024034   \n",
       "9           0.052598          0.036906            0.024313   \n",
       "\n",
       "   doc_type_box_height  doc_number_box_left  doc_number_box_top  \\\n",
       "0             0.008174             0.066498            0.013455   \n",
       "1             0.007534             0.079714            0.034500   \n",
       "2             0.008848             0.111159            0.036792   \n",
       "3             0.008422             0.073842            0.045036   \n",
       "4             0.007750             0.080277            0.047049   \n",
       "5             0.007247             0.108695            0.041613   \n",
       "6             0.009043             0.079905            0.014623   \n",
       "7             0.008174             0.102635            0.016815   \n",
       "8             0.010413             0.101997            0.034968   \n",
       "9             0.008183             0.093661            0.036267   \n",
       "\n",
       "   doc_number_box_width  doc_number_box_height  doc_date_box_left  \\\n",
       "0              0.071328               0.010155           0.156660   \n",
       "1              0.072964               0.008492           0.172122   \n",
       "2              0.073161               0.008709           0.202126   \n",
       "3              0.071531               0.008422           0.164170   \n",
       "4              0.072069               0.007625           0.170582   \n",
       "5              0.072238               0.008406           0.199602   \n",
       "6              0.075173               0.009784           0.174806   \n",
       "7              0.074368               0.009536           0.194734   \n",
       "8              0.073431               0.009451           0.194266   \n",
       "9              0.074200               0.008566           0.186771   \n",
       "\n",
       "   doc_date_box_top  doc_date_box_width  doc_date_box_height  \n",
       "0          0.013331            0.065398             0.009536  \n",
       "1          0.034500            0.065841             0.008766  \n",
       "2          0.036239            0.065419             0.009401  \n",
       "3          0.044789            0.065962             0.008669  \n",
       "4          0.046799            0.066808             0.008125  \n",
       "5          0.041613            0.064122             0.009131  \n",
       "6          0.015068            0.066867             0.009636  \n",
       "7          0.016567            0.067654             0.009288  \n",
       "8          0.035242            0.065165             0.009725  \n",
       "9          0.036012            0.065195             0.009589  "
      ]
     },
     "execution_count": 38,
     "metadata": {},
     "output_type": "execute_result"
    }
   ],
   "source": [
    "boxes_table.head(10)"
   ]
  },
  {
   "cell_type": "code",
   "execution_count": 39,
   "id": "e0ecc339",
   "metadata": {},
   "outputs": [],
   "source": [
    "df = df.join(boxes_table)"
   ]
  },
  {
   "cell_type": "code",
   "execution_count": 40,
   "id": "36ef040f",
   "metadata": {},
   "outputs": [
    {
     "data": {
      "text/html": [
       "<div>\n",
       "<style scoped>\n",
       "    .dataframe tbody tr th:only-of-type {\n",
       "        vertical-align: middle;\n",
       "    }\n",
       "\n",
       "    .dataframe tbody tr th {\n",
       "        vertical-align: top;\n",
       "    }\n",
       "\n",
       "    .dataframe thead th {\n",
       "        text-align: right;\n",
       "    }\n",
       "</style>\n",
       "<table border=\"1\" class=\"dataframe\">\n",
       "  <thead>\n",
       "    <tr style=\"text-align: right;\">\n",
       "      <th></th>\n",
       "      <th>filename</th>\n",
       "      <th>rectangles</th>\n",
       "      <th>doc_type</th>\n",
       "      <th>doc_number</th>\n",
       "      <th>doc_date</th>\n",
       "      <th>scan_is_good</th>\n",
       "      <th>doc_type_box_left</th>\n",
       "      <th>doc_type_box_top</th>\n",
       "      <th>doc_type_box_width</th>\n",
       "      <th>doc_type_box_height</th>\n",
       "      <th>doc_number_box_left</th>\n",
       "      <th>doc_number_box_top</th>\n",
       "      <th>doc_number_box_width</th>\n",
       "      <th>doc_number_box_height</th>\n",
       "      <th>doc_date_box_left</th>\n",
       "      <th>doc_date_box_top</th>\n",
       "      <th>doc_date_box_width</th>\n",
       "      <th>doc_date_box_height</th>\n",
       "    </tr>\n",
       "  </thead>\n",
       "  <tbody>\n",
       "    <tr>\n",
       "      <th>0</th>\n",
       "      <td>001.jpg</td>\n",
       "      <td>{\"shape\":\"rectangle\"\\,\"left\":0.026561342789272...</td>\n",
       "      <td>акт</td>\n",
       "      <td>6017103091</td>\n",
       "      <td>24.11.2021</td>\n",
       "      <td>True</td>\n",
       "      <td>0.026561</td>\n",
       "      <td>0.014445</td>\n",
       "      <td>0.023020</td>\n",
       "      <td>0.008174</td>\n",
       "      <td>0.066498</td>\n",
       "      <td>0.013455</td>\n",
       "      <td>0.071328</td>\n",
       "      <td>0.010155</td>\n",
       "      <td>0.156660</td>\n",
       "      <td>0.013331</td>\n",
       "      <td>0.065398</td>\n",
       "      <td>0.009536</td>\n",
       "    </tr>\n",
       "    <tr>\n",
       "      <th>1</th>\n",
       "      <td>002.jpg</td>\n",
       "      <td>{\"shape\":\"rectangle\"\\,\"left\":0.037937630530775...</td>\n",
       "      <td>акт</td>\n",
       "      <td>6600174850</td>\n",
       "      <td>12.10.2021</td>\n",
       "      <td>True</td>\n",
       "      <td>0.037938</td>\n",
       "      <td>0.035595</td>\n",
       "      <td>0.023487</td>\n",
       "      <td>0.007534</td>\n",
       "      <td>0.079714</td>\n",
       "      <td>0.034500</td>\n",
       "      <td>0.072964</td>\n",
       "      <td>0.008492</td>\n",
       "      <td>0.172122</td>\n",
       "      <td>0.034500</td>\n",
       "      <td>0.065841</td>\n",
       "      <td>0.008766</td>\n",
       "    </tr>\n",
       "    <tr>\n",
       "      <th>2</th>\n",
       "      <td>003.jpg</td>\n",
       "      <td>{\"shape\":\"rectangle\"\\,\"left\":0.070513471935820...</td>\n",
       "      <td>акт</td>\n",
       "      <td>6600226583</td>\n",
       "      <td>07.12.2021</td>\n",
       "      <td>True</td>\n",
       "      <td>0.070513</td>\n",
       "      <td>0.037068</td>\n",
       "      <td>0.023613</td>\n",
       "      <td>0.008848</td>\n",
       "      <td>0.111159</td>\n",
       "      <td>0.036792</td>\n",
       "      <td>0.073161</td>\n",
       "      <td>0.008709</td>\n",
       "      <td>0.202126</td>\n",
       "      <td>0.036239</td>\n",
       "      <td>0.065419</td>\n",
       "      <td>0.009401</td>\n",
       "    </tr>\n",
       "    <tr>\n",
       "      <th>3</th>\n",
       "      <td>004.jpg</td>\n",
       "      <td>{\"shape\":\"rectangle\"\\,\"left\":0.033116105141907...</td>\n",
       "      <td>акт</td>\n",
       "      <td>6600236611</td>\n",
       "      <td>17.12.2021</td>\n",
       "      <td>True</td>\n",
       "      <td>0.033116</td>\n",
       "      <td>0.045036</td>\n",
       "      <td>0.023148</td>\n",
       "      <td>0.008422</td>\n",
       "      <td>0.073842</td>\n",
       "      <td>0.045036</td>\n",
       "      <td>0.071531</td>\n",
       "      <td>0.008422</td>\n",
       "      <td>0.164170</td>\n",
       "      <td>0.044789</td>\n",
       "      <td>0.065962</td>\n",
       "      <td>0.008669</td>\n",
       "    </tr>\n",
       "    <tr>\n",
       "      <th>4</th>\n",
       "      <td>005.jpg</td>\n",
       "      <td>{\"shape\":\"rectangle\"\\,\"left\":0.039245006144036...</td>\n",
       "      <td>акт</td>\n",
       "      <td>6600241100</td>\n",
       "      <td>22.12.2021</td>\n",
       "      <td>True</td>\n",
       "      <td>0.039245</td>\n",
       "      <td>0.047049</td>\n",
       "      <td>0.023848</td>\n",
       "      <td>0.007750</td>\n",
       "      <td>0.080277</td>\n",
       "      <td>0.047049</td>\n",
       "      <td>0.072069</td>\n",
       "      <td>0.007625</td>\n",
       "      <td>0.170582</td>\n",
       "      <td>0.046799</td>\n",
       "      <td>0.066808</td>\n",
       "      <td>0.008125</td>\n",
       "    </tr>\n",
       "  </tbody>\n",
       "</table>\n",
       "</div>"
      ],
      "text/plain": [
       "  filename                                         rectangles doc_type  \\\n",
       "0  001.jpg  {\"shape\":\"rectangle\"\\,\"left\":0.026561342789272...      акт   \n",
       "1  002.jpg  {\"shape\":\"rectangle\"\\,\"left\":0.037937630530775...      акт   \n",
       "2  003.jpg  {\"shape\":\"rectangle\"\\,\"left\":0.070513471935820...      акт   \n",
       "3  004.jpg  {\"shape\":\"rectangle\"\\,\"left\":0.033116105141907...      акт   \n",
       "4  005.jpg  {\"shape\":\"rectangle\"\\,\"left\":0.039245006144036...      акт   \n",
       "\n",
       "   doc_number    doc_date  scan_is_good  doc_type_box_left  doc_type_box_top  \\\n",
       "0  6017103091  24.11.2021          True           0.026561          0.014445   \n",
       "1  6600174850  12.10.2021          True           0.037938          0.035595   \n",
       "2  6600226583  07.12.2021          True           0.070513          0.037068   \n",
       "3  6600236611  17.12.2021          True           0.033116          0.045036   \n",
       "4  6600241100  22.12.2021          True           0.039245          0.047049   \n",
       "\n",
       "   doc_type_box_width  doc_type_box_height  doc_number_box_left  \\\n",
       "0            0.023020             0.008174             0.066498   \n",
       "1            0.023487             0.007534             0.079714   \n",
       "2            0.023613             0.008848             0.111159   \n",
       "3            0.023148             0.008422             0.073842   \n",
       "4            0.023848             0.007750             0.080277   \n",
       "\n",
       "   doc_number_box_top  doc_number_box_width  doc_number_box_height  \\\n",
       "0            0.013455              0.071328               0.010155   \n",
       "1            0.034500              0.072964               0.008492   \n",
       "2            0.036792              0.073161               0.008709   \n",
       "3            0.045036              0.071531               0.008422   \n",
       "4            0.047049              0.072069               0.007625   \n",
       "\n",
       "   doc_date_box_left  doc_date_box_top  doc_date_box_width  \\\n",
       "0           0.156660          0.013331            0.065398   \n",
       "1           0.172122          0.034500            0.065841   \n",
       "2           0.202126          0.036239            0.065419   \n",
       "3           0.164170          0.044789            0.065962   \n",
       "4           0.170582          0.046799            0.066808   \n",
       "\n",
       "   doc_date_box_height  \n",
       "0             0.009536  \n",
       "1             0.008766  \n",
       "2             0.009401  \n",
       "3             0.008669  \n",
       "4             0.008125  "
      ]
     },
     "execution_count": 40,
     "metadata": {},
     "output_type": "execute_result"
    }
   ],
   "source": [
    "df.head()"
   ]
  },
  {
   "cell_type": "markdown",
   "id": "51db4b3e",
   "metadata": {},
   "source": [
    "### Проверка join"
   ]
  },
  {
   "cell_type": "code",
   "execution_count": 41,
   "id": "4824c9f3",
   "metadata": {},
   "outputs": [],
   "source": [
    "for idx, num in enumerate(df['doc_type_box_left']):\n",
    "    if str(num) not in df['rectangles'][idx]:\n",
    "        print(idx, 'NOT ok')"
   ]
  },
  {
   "cell_type": "markdown",
   "id": "ec78aa89",
   "metadata": {},
   "source": [
    "### Готовый датасет"
   ]
  },
  {
   "cell_type": "code",
   "execution_count": 42,
   "id": "bf61cfca",
   "metadata": {},
   "outputs": [],
   "source": [
    "df = df.drop('rectangles', axis=1)"
   ]
  },
  {
   "cell_type": "code",
   "execution_count": 43,
   "id": "71f640e0",
   "metadata": {},
   "outputs": [
    {
     "data": {
      "text/html": [
       "<div>\n",
       "<style scoped>\n",
       "    .dataframe tbody tr th:only-of-type {\n",
       "        vertical-align: middle;\n",
       "    }\n",
       "\n",
       "    .dataframe tbody tr th {\n",
       "        vertical-align: top;\n",
       "    }\n",
       "\n",
       "    .dataframe thead th {\n",
       "        text-align: right;\n",
       "    }\n",
       "</style>\n",
       "<table border=\"1\" class=\"dataframe\">\n",
       "  <thead>\n",
       "    <tr style=\"text-align: right;\">\n",
       "      <th></th>\n",
       "      <th>filename</th>\n",
       "      <th>doc_type</th>\n",
       "      <th>doc_number</th>\n",
       "      <th>doc_date</th>\n",
       "      <th>scan_is_good</th>\n",
       "      <th>doc_type_box_left</th>\n",
       "      <th>doc_type_box_top</th>\n",
       "      <th>doc_type_box_width</th>\n",
       "      <th>doc_type_box_height</th>\n",
       "      <th>doc_number_box_left</th>\n",
       "      <th>doc_number_box_top</th>\n",
       "      <th>doc_number_box_width</th>\n",
       "      <th>doc_number_box_height</th>\n",
       "      <th>doc_date_box_left</th>\n",
       "      <th>doc_date_box_top</th>\n",
       "      <th>doc_date_box_width</th>\n",
       "      <th>doc_date_box_height</th>\n",
       "    </tr>\n",
       "  </thead>\n",
       "  <tbody>\n",
       "    <tr>\n",
       "      <th>0</th>\n",
       "      <td>001.jpg</td>\n",
       "      <td>акт</td>\n",
       "      <td>6017103091</td>\n",
       "      <td>24.11.2021</td>\n",
       "      <td>True</td>\n",
       "      <td>0.026561</td>\n",
       "      <td>0.014445</td>\n",
       "      <td>0.023020</td>\n",
       "      <td>0.008174</td>\n",
       "      <td>0.066498</td>\n",
       "      <td>0.013455</td>\n",
       "      <td>0.071328</td>\n",
       "      <td>0.010155</td>\n",
       "      <td>0.156660</td>\n",
       "      <td>0.013331</td>\n",
       "      <td>0.065398</td>\n",
       "      <td>0.009536</td>\n",
       "    </tr>\n",
       "    <tr>\n",
       "      <th>1</th>\n",
       "      <td>002.jpg</td>\n",
       "      <td>акт</td>\n",
       "      <td>6600174850</td>\n",
       "      <td>12.10.2021</td>\n",
       "      <td>True</td>\n",
       "      <td>0.037938</td>\n",
       "      <td>0.035595</td>\n",
       "      <td>0.023487</td>\n",
       "      <td>0.007534</td>\n",
       "      <td>0.079714</td>\n",
       "      <td>0.034500</td>\n",
       "      <td>0.072964</td>\n",
       "      <td>0.008492</td>\n",
       "      <td>0.172122</td>\n",
       "      <td>0.034500</td>\n",
       "      <td>0.065841</td>\n",
       "      <td>0.008766</td>\n",
       "    </tr>\n",
       "    <tr>\n",
       "      <th>2</th>\n",
       "      <td>003.jpg</td>\n",
       "      <td>акт</td>\n",
       "      <td>6600226583</td>\n",
       "      <td>07.12.2021</td>\n",
       "      <td>True</td>\n",
       "      <td>0.070513</td>\n",
       "      <td>0.037068</td>\n",
       "      <td>0.023613</td>\n",
       "      <td>0.008848</td>\n",
       "      <td>0.111159</td>\n",
       "      <td>0.036792</td>\n",
       "      <td>0.073161</td>\n",
       "      <td>0.008709</td>\n",
       "      <td>0.202126</td>\n",
       "      <td>0.036239</td>\n",
       "      <td>0.065419</td>\n",
       "      <td>0.009401</td>\n",
       "    </tr>\n",
       "    <tr>\n",
       "      <th>3</th>\n",
       "      <td>004.jpg</td>\n",
       "      <td>акт</td>\n",
       "      <td>6600236611</td>\n",
       "      <td>17.12.2021</td>\n",
       "      <td>True</td>\n",
       "      <td>0.033116</td>\n",
       "      <td>0.045036</td>\n",
       "      <td>0.023148</td>\n",
       "      <td>0.008422</td>\n",
       "      <td>0.073842</td>\n",
       "      <td>0.045036</td>\n",
       "      <td>0.071531</td>\n",
       "      <td>0.008422</td>\n",
       "      <td>0.164170</td>\n",
       "      <td>0.044789</td>\n",
       "      <td>0.065962</td>\n",
       "      <td>0.008669</td>\n",
       "    </tr>\n",
       "    <tr>\n",
       "      <th>4</th>\n",
       "      <td>005.jpg</td>\n",
       "      <td>акт</td>\n",
       "      <td>6600241100</td>\n",
       "      <td>22.12.2021</td>\n",
       "      <td>True</td>\n",
       "      <td>0.039245</td>\n",
       "      <td>0.047049</td>\n",
       "      <td>0.023848</td>\n",
       "      <td>0.007750</td>\n",
       "      <td>0.080277</td>\n",
       "      <td>0.047049</td>\n",
       "      <td>0.072069</td>\n",
       "      <td>0.007625</td>\n",
       "      <td>0.170582</td>\n",
       "      <td>0.046799</td>\n",
       "      <td>0.066808</td>\n",
       "      <td>0.008125</td>\n",
       "    </tr>\n",
       "    <tr>\n",
       "      <th>5</th>\n",
       "      <td>006.jpg</td>\n",
       "      <td>акт</td>\n",
       "      <td>6600146317</td>\n",
       "      <td>14.09.2021</td>\n",
       "      <td>True</td>\n",
       "      <td>0.067706</td>\n",
       "      <td>0.042772</td>\n",
       "      <td>0.022930</td>\n",
       "      <td>0.007247</td>\n",
       "      <td>0.108695</td>\n",
       "      <td>0.041613</td>\n",
       "      <td>0.072238</td>\n",
       "      <td>0.008406</td>\n",
       "      <td>0.199602</td>\n",
       "      <td>0.041613</td>\n",
       "      <td>0.064122</td>\n",
       "      <td>0.009131</td>\n",
       "    </tr>\n",
       "    <tr>\n",
       "      <th>6</th>\n",
       "      <td>007.jpg</td>\n",
       "      <td>акт</td>\n",
       "      <td>6600210316</td>\n",
       "      <td>17.11.2021</td>\n",
       "      <td>True</td>\n",
       "      <td>0.037542</td>\n",
       "      <td>0.015661</td>\n",
       "      <td>0.024504</td>\n",
       "      <td>0.009043</td>\n",
       "      <td>0.079905</td>\n",
       "      <td>0.014623</td>\n",
       "      <td>0.075173</td>\n",
       "      <td>0.009784</td>\n",
       "      <td>0.174806</td>\n",
       "      <td>0.015068</td>\n",
       "      <td>0.066867</td>\n",
       "      <td>0.009636</td>\n",
       "    </tr>\n",
       "    <tr>\n",
       "      <th>7</th>\n",
       "      <td>008.jpg</td>\n",
       "      <td>акт</td>\n",
       "      <td>6600217949</td>\n",
       "      <td>25.11.2021</td>\n",
       "      <td>True</td>\n",
       "      <td>0.062008</td>\n",
       "      <td>0.017558</td>\n",
       "      <td>0.023240</td>\n",
       "      <td>0.008174</td>\n",
       "      <td>0.102635</td>\n",
       "      <td>0.016815</td>\n",
       "      <td>0.074368</td>\n",
       "      <td>0.009536</td>\n",
       "      <td>0.194734</td>\n",
       "      <td>0.016567</td>\n",
       "      <td>0.067654</td>\n",
       "      <td>0.009288</td>\n",
       "    </tr>\n",
       "    <tr>\n",
       "      <th>8</th>\n",
       "      <td>009.jpg</td>\n",
       "      <td>акт</td>\n",
       "      <td>6600223046</td>\n",
       "      <td>02.12.2021</td>\n",
       "      <td>True</td>\n",
       "      <td>0.061624</td>\n",
       "      <td>0.034692</td>\n",
       "      <td>0.024034</td>\n",
       "      <td>0.010413</td>\n",
       "      <td>0.101997</td>\n",
       "      <td>0.034968</td>\n",
       "      <td>0.073431</td>\n",
       "      <td>0.009451</td>\n",
       "      <td>0.194266</td>\n",
       "      <td>0.035242</td>\n",
       "      <td>0.065165</td>\n",
       "      <td>0.009725</td>\n",
       "    </tr>\n",
       "    <tr>\n",
       "      <th>9</th>\n",
       "      <td>010.jpg</td>\n",
       "      <td>акт</td>\n",
       "      <td>6600226214</td>\n",
       "      <td>04.12.2021</td>\n",
       "      <td>True</td>\n",
       "      <td>0.052598</td>\n",
       "      <td>0.036906</td>\n",
       "      <td>0.024313</td>\n",
       "      <td>0.008183</td>\n",
       "      <td>0.093661</td>\n",
       "      <td>0.036267</td>\n",
       "      <td>0.074200</td>\n",
       "      <td>0.008566</td>\n",
       "      <td>0.186771</td>\n",
       "      <td>0.036012</td>\n",
       "      <td>0.065195</td>\n",
       "      <td>0.009589</td>\n",
       "    </tr>\n",
       "  </tbody>\n",
       "</table>\n",
       "</div>"
      ],
      "text/plain": [
       "  filename doc_type  doc_number    doc_date  scan_is_good  doc_type_box_left  \\\n",
       "0  001.jpg      акт  6017103091  24.11.2021          True           0.026561   \n",
       "1  002.jpg      акт  6600174850  12.10.2021          True           0.037938   \n",
       "2  003.jpg      акт  6600226583  07.12.2021          True           0.070513   \n",
       "3  004.jpg      акт  6600236611  17.12.2021          True           0.033116   \n",
       "4  005.jpg      акт  6600241100  22.12.2021          True           0.039245   \n",
       "5  006.jpg      акт  6600146317  14.09.2021          True           0.067706   \n",
       "6  007.jpg      акт  6600210316  17.11.2021          True           0.037542   \n",
       "7  008.jpg      акт  6600217949  25.11.2021          True           0.062008   \n",
       "8  009.jpg      акт  6600223046  02.12.2021          True           0.061624   \n",
       "9  010.jpg      акт  6600226214  04.12.2021          True           0.052598   \n",
       "\n",
       "   doc_type_box_top  doc_type_box_width  doc_type_box_height  \\\n",
       "0          0.014445            0.023020             0.008174   \n",
       "1          0.035595            0.023487             0.007534   \n",
       "2          0.037068            0.023613             0.008848   \n",
       "3          0.045036            0.023148             0.008422   \n",
       "4          0.047049            0.023848             0.007750   \n",
       "5          0.042772            0.022930             0.007247   \n",
       "6          0.015661            0.024504             0.009043   \n",
       "7          0.017558            0.023240             0.008174   \n",
       "8          0.034692            0.024034             0.010413   \n",
       "9          0.036906            0.024313             0.008183   \n",
       "\n",
       "   doc_number_box_left  doc_number_box_top  doc_number_box_width  \\\n",
       "0             0.066498            0.013455              0.071328   \n",
       "1             0.079714            0.034500              0.072964   \n",
       "2             0.111159            0.036792              0.073161   \n",
       "3             0.073842            0.045036              0.071531   \n",
       "4             0.080277            0.047049              0.072069   \n",
       "5             0.108695            0.041613              0.072238   \n",
       "6             0.079905            0.014623              0.075173   \n",
       "7             0.102635            0.016815              0.074368   \n",
       "8             0.101997            0.034968              0.073431   \n",
       "9             0.093661            0.036267              0.074200   \n",
       "\n",
       "   doc_number_box_height  doc_date_box_left  doc_date_box_top  \\\n",
       "0               0.010155           0.156660          0.013331   \n",
       "1               0.008492           0.172122          0.034500   \n",
       "2               0.008709           0.202126          0.036239   \n",
       "3               0.008422           0.164170          0.044789   \n",
       "4               0.007625           0.170582          0.046799   \n",
       "5               0.008406           0.199602          0.041613   \n",
       "6               0.009784           0.174806          0.015068   \n",
       "7               0.009536           0.194734          0.016567   \n",
       "8               0.009451           0.194266          0.035242   \n",
       "9               0.008566           0.186771          0.036012   \n",
       "\n",
       "   doc_date_box_width  doc_date_box_height  \n",
       "0            0.065398             0.009536  \n",
       "1            0.065841             0.008766  \n",
       "2            0.065419             0.009401  \n",
       "3            0.065962             0.008669  \n",
       "4            0.066808             0.008125  \n",
       "5            0.064122             0.009131  \n",
       "6            0.066867             0.009636  \n",
       "7            0.067654             0.009288  \n",
       "8            0.065165             0.009725  \n",
       "9            0.065195             0.009589  "
      ]
     },
     "execution_count": 43,
     "metadata": {},
     "output_type": "execute_result"
    }
   ],
   "source": [
    "df.head(10)"
   ]
  },
  {
   "cell_type": "markdown",
   "id": "fcd31808",
   "metadata": {},
   "source": [
    "## Проверка на изображениях"
   ]
  },
  {
   "cell_type": "code",
   "execution_count": 44,
   "id": "30cdac2c",
   "metadata": {},
   "outputs": [],
   "source": [
    "mapping_prefix_value = {\n",
    "    'doc_number_box_': 'doc_number',\n",
    "    'doc_date_box_': None,\n",
    "    'doc_type_box_': None,\n",
    "}"
   ]
  },
  {
   "cell_type": "code",
   "execution_count": 55,
   "id": "ecf4d241",
   "metadata": {},
   "outputs": [],
   "source": [
    "for index, row in df.iterrows():\n",
    "    if index > 1:\n",
    "        image = cv2.imread('/home/kirillk/datasets/OCR/ocr_act_1/' + row['filename'])\n",
    "        image = cv2.resize(image, (0, 0), fx=0.3, fy=0.3)\n",
    "        height, width, _ = image.shape\n",
    "\n",
    "        for prefix, value in mapping_prefix_value.items():\n",
    "            x1 = int(row[prefix + 'left'] * width)\n",
    "            y1 = int(row[prefix + 'top'] * height)\n",
    "            x2 = int((row[prefix + 'left'] + row[prefix + 'width']) * width)\n",
    "            y2 = int((row[prefix + 'top'] + row[prefix + 'height']) * height)\n",
    "\n",
    "            image = cv2.rectangle(image, (x1, y1), (x2, y2), (0, 0, 255), 4)\n",
    "            image = cv2.putText(image, \n",
    "                                str(row.get(value, default='')), \n",
    "                                (x1, y2 - 70),\n",
    "                                cv2.FONT_HERSHEY_SIMPLEX,\n",
    "                                #0,\n",
    "                                1,\n",
    "                                (0, 0, 255),\n",
    "                                2)\n",
    "\n",
    "            cv2.imshow('Document', image)\n",
    "\n",
    "            key = cv2.waitKey(0) & 0xFF\n",
    "\n",
    "            if key == ord('q'):\n",
    "                break\n",
    "    \n",
    "    cv2.destroyAllWindows()\n",
    "    if index == 5:\n",
    "        break"
   ]
  },
  {
   "cell_type": "code",
   "execution_count": 56,
   "id": "fa121d0b",
   "metadata": {},
   "outputs": [
    {
     "name": "stdout",
     "output_type": "stream",
     "text": [
      "<class 'pandas.core.frame.DataFrame'>\n",
      "RangeIndex: 200 entries, 0 to 199\n",
      "Data columns (total 17 columns):\n",
      " #   Column                 Non-Null Count  Dtype  \n",
      "---  ------                 --------------  -----  \n",
      " 0   filename               200 non-null    object \n",
      " 1   doc_type               200 non-null    object \n",
      " 2   doc_number             200 non-null    object \n",
      " 3   doc_date               200 non-null    object \n",
      " 4   scan_is_good           200 non-null    bool   \n",
      " 5   doc_type_box_left      200 non-null    float64\n",
      " 6   doc_type_box_top       200 non-null    float64\n",
      " 7   doc_type_box_width     200 non-null    float64\n",
      " 8   doc_type_box_height    200 non-null    float64\n",
      " 9   doc_number_box_left    200 non-null    float64\n",
      " 10  doc_number_box_top     200 non-null    float64\n",
      " 11  doc_number_box_width   200 non-null    float64\n",
      " 12  doc_number_box_height  200 non-null    float64\n",
      " 13  doc_date_box_left      200 non-null    float64\n",
      " 14  doc_date_box_top       200 non-null    float64\n",
      " 15  doc_date_box_width     200 non-null    float64\n",
      " 16  doc_date_box_height    200 non-null    float64\n",
      "dtypes: bool(1), float64(12), object(4)\n",
      "memory usage: 25.3+ KB\n"
     ]
    }
   ],
   "source": [
    "df.info()"
   ]
  },
  {
   "cell_type": "markdown",
   "id": "1506dc50",
   "metadata": {},
   "source": [
    "## Сохранение датасета"
   ]
  },
  {
   "cell_type": "code",
   "execution_count": 57,
   "id": "ed5384e2",
   "metadata": {},
   "outputs": [],
   "source": [
    "df.to_csv('/home/kirillk/datasets/OCR/ocr_act_1/test-cases-act.csv')"
   ]
  },
  {
   "cell_type": "code",
   "execution_count": 58,
   "id": "777c95c3",
   "metadata": {},
   "outputs": [],
   "source": [
    "test = pd.read_csv('/home/kirillk/datasets/OCR/ocr_act_1/test-cases-act.csv')"
   ]
  },
  {
   "cell_type": "code",
   "execution_count": 59,
   "id": "2f67c9a7",
   "metadata": {},
   "outputs": [
    {
     "name": "stdout",
     "output_type": "stream",
     "text": [
      "<class 'pandas.core.frame.DataFrame'>\n",
      "RangeIndex: 200 entries, 0 to 199\n",
      "Data columns (total 18 columns):\n",
      " #   Column                 Non-Null Count  Dtype  \n",
      "---  ------                 --------------  -----  \n",
      " 0   Unnamed: 0             200 non-null    int64  \n",
      " 1   filename               200 non-null    object \n",
      " 2   doc_type               200 non-null    object \n",
      " 3   doc_number             200 non-null    object \n",
      " 4   doc_date               200 non-null    object \n",
      " 5   scan_is_good           200 non-null    bool   \n",
      " 6   doc_type_box_left      200 non-null    float64\n",
      " 7   doc_type_box_top       200 non-null    float64\n",
      " 8   doc_type_box_width     200 non-null    float64\n",
      " 9   doc_type_box_height    200 non-null    float64\n",
      " 10  doc_number_box_left    200 non-null    float64\n",
      " 11  doc_number_box_top     200 non-null    float64\n",
      " 12  doc_number_box_width   200 non-null    float64\n",
      " 13  doc_number_box_height  200 non-null    float64\n",
      " 14  doc_date_box_left      200 non-null    float64\n",
      " 15  doc_date_box_top       200 non-null    float64\n",
      " 16  doc_date_box_width     200 non-null    float64\n",
      " 17  doc_date_box_height    200 non-null    float64\n",
      "dtypes: bool(1), float64(12), int64(1), object(4)\n",
      "memory usage: 26.9+ KB\n"
     ]
    }
   ],
   "source": [
    "test.info()"
   ]
  },
  {
   "cell_type": "code",
   "execution_count": null,
   "id": "9b9b1717",
   "metadata": {},
   "outputs": [],
   "source": []
  }
 ],
 "metadata": {
  "kernelspec": {
   "display_name": "ocr_data_generation",
   "language": "python",
   "name": "ocr_data_generation"
  },
  "language_info": {
   "codemirror_mode": {
    "name": "ipython",
    "version": 3
   },
   "file_extension": ".py",
   "mimetype": "text/x-python",
   "name": "python",
   "nbconvert_exporter": "python",
   "pygments_lexer": "ipython3",
   "version": "3.9.13"
  }
 },
 "nbformat": 4,
 "nbformat_minor": 5
}
