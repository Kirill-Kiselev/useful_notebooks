{
 "cells": [
  {
   "cell_type": "markdown",
   "id": "6111a7ea",
   "metadata": {},
   "source": [
    "# Анализ резултатов работы прототипа OCR. Детекция OpenVINO. Распознавание PaddleOCR \n",
    "- Автор: Кирилл Киселев\n",
    "- Дата начала: 28.04.2022\n",
    "- Описание исследования: после работы настройки препроцессинга на прототипе и замены модели детекции на модель из фреймфорка OpenVIN проведено тестирование на 203 сканах товарных накладных. 10 сканов были отсеяны на стадии проверки блюра и ортогонального положения. Остальные 193 скана пропустим через анализ полученных результатов."
   ]
  },
  {
   "cell_type": "markdown",
   "id": "f54ab7d3",
   "metadata": {},
   "source": [
    "## Загрузка библиотек"
   ]
  },
  {
   "cell_type": "code",
   "execution_count": 1,
   "id": "f52652fd",
   "metadata": {},
   "outputs": [],
   "source": [
    "import os\n",
    "import pandas as pd\n",
    "import cv2"
   ]
  },
  {
   "cell_type": "markdown",
   "id": "753c8100",
   "metadata": {},
   "source": [
    "## Глобальные переменные"
   ]
  },
  {
   "cell_type": "code",
   "execution_count": 2,
   "id": "66a47e96",
   "metadata": {},
   "outputs": [
    {
     "name": "stdout",
     "output_type": "stream",
     "text": [
      "/home/kirillk/PycharmProjects/useful_notebooks/ocr\r\n"
     ]
    }
   ],
   "source": [
    "!pwd"
   ]
  },
  {
   "cell_type": "code",
   "execution_count": 44,
   "id": "9efd8f92",
   "metadata": {},
   "outputs": [],
   "source": [
    "# CSV_PATH = '/home/kirillk/datasets/OCR/ocr_test_cases/paddle_ocr_results.csv'\n",
    "# CSV_PATH = '/home/kirillk/datasets/OCR/ocr_test_cases/paddle_ocr_results_1.csv'\n",
    "# TXT_PATH = '/home/kirillk/datasets/OCR/ocr_test_cases/paddle_ocr_results_3.txt'\n",
    "# TXT_PATH = '/home/kirillk/datasets/OCR/ocr_test_cases/paddle_ocr_results_4.txt'\n",
    "TXT_PATH = '/home/kirillk/datasets/OCR/ocr_test_cases/paddle_ocr_results_5.txt'\n",
    "SAVE_PATH = '/home/kirillk/datasets/OCR/ocr_test_cases/paddle_ocr_results'\n",
    "DATA_PATH = '/home/kirillk/datasets/OCR/ocr_test_cases/test_cases/'"
   ]
  },
  {
   "cell_type": "markdown",
   "id": "50a2b1ad",
   "metadata": {},
   "source": [
    "## Загрузка данных и подготовка датасета"
   ]
  },
  {
   "cell_type": "code",
   "execution_count": 45,
   "id": "9b940349",
   "metadata": {},
   "outputs": [],
   "source": [
    "filename_list = []\n",
    "results_list = []\n",
    "\n",
    "with open(TXT_PATH, \"r\") as file:\n",
    "    for num, line in enumerate(file):\n",
    "        if 'jpg' in line:\n",
    "            line = line.split(' ')[-1].rstrip()\n",
    "            filename_list.append(line)\n",
    "        else:\n",
    "            line = line.split(' ', maxsplit=3)[-1].rstrip()\n",
    "            results_list.append(line)\n",
    "            \n",
    "results_list = results_list[0:-1]"
   ]
  },
  {
   "cell_type": "code",
   "execution_count": 46,
   "id": "f4196938",
   "metadata": {
    "scrolled": true
   },
   "outputs": [
    {
     "data": {
      "text/plain": [
       "['108.jpg',\n",
       " '134.jpg',\n",
       " '145.jpg',\n",
       " '020.jpg',\n",
       " '172.jpg',\n",
       " '030.jpg',\n",
       " '044.jpg',\n",
       " '072.jpg',\n",
       " '183.jpg',\n",
       " '088.jpg',\n",
       " '192.jpg',\n",
       " '191.jpg',\n",
       " '122.jpg',\n",
       " '029.jpg',\n",
       " '144.jpg',\n",
       " '109.jpg',\n",
       " '049.jpg',\n",
       " '037.jpg',\n",
       " '138.jpg',\n",
       " '200.jpg',\n",
       " '189.jpg',\n",
       " '114.jpg',\n",
       " '195.jpg',\n",
       " '155.jpg',\n",
       " '093.jpg',\n",
       " '010.jpg',\n",
       " '148.jpg',\n",
       " '133.jpg',\n",
       " '199.jpg',\n",
       " '124.jpg',\n",
       " '032.jpg',\n",
       " '152.jpg',\n",
       " '171.jpg',\n",
       " '177.jpg',\n",
       " '075.jpg',\n",
       " '038.jpg',\n",
       " '000.jpg',\n",
       " '173.jpg',\n",
       " '126.jpg',\n",
       " '035.jpg',\n",
       " '003.jpg',\n",
       " '062.jpg',\n",
       " '094.jpg',\n",
       " '184.jpg',\n",
       " '004.jpg',\n",
       " '083.jpg',\n",
       " '164.jpg',\n",
       " '025.jpg',\n",
       " '101.jpg',\n",
       " '028.jpg',\n",
       " '076.jpg',\n",
       " '146.jpg',\n",
       " '067.jpg',\n",
       " '052.jpg',\n",
       " '087.jpg',\n",
       " '018.jpg',\n",
       " '051.jpg',\n",
       " '147.jpg',\n",
       " '187.jpg',\n",
       " '047.jpg',\n",
       " '115.jpg',\n",
       " '140.jpg',\n",
       " '079.jpg',\n",
       " '061.jpg',\n",
       " '096.jpg',\n",
       " '007.jpg',\n",
       " '011.jpg',\n",
       " '023.jpg',\n",
       " '120.jpg',\n",
       " '084.jpg',\n",
       " '065.jpg',\n",
       " '098.jpg',\n",
       " '130.jpg',\n",
       " '175.jpg',\n",
       " '022.jpg',\n",
       " '009.jpg',\n",
       " '069.jpg',\n",
       " '014.jpg',\n",
       " '054.jpg',\n",
       " '019.jpg',\n",
       " '056.jpg',\n",
       " '008.jpg',\n",
       " '017.jpg',\n",
       " '168.jpg',\n",
       " '131.jpg',\n",
       " '137.jpg',\n",
       " '198.jpg',\n",
       " '039.jpg',\n",
       " '106.jpg',\n",
       " '185.jpg',\n",
       " '112.jpg',\n",
       " '097.jpg',\n",
       " '099.jpg',\n",
       " '156.jpg',\n",
       " '194.jpg',\n",
       " '057.jpg',\n",
       " '158.jpg',\n",
       " '201.jpg',\n",
       " '125.jpg',\n",
       " '066.jpg',\n",
       " '159.jpg',\n",
       " '188.jpg',\n",
       " '005.jpg',\n",
       " '068.jpg',\n",
       " '090.jpg',\n",
       " '118.jpg',\n",
       " '186.jpg',\n",
       " '110.jpg',\n",
       " '073.jpg',\n",
       " '046.jpg',\n",
       " '070.jpg',\n",
       " '165.jpg',\n",
       " '113.jpg',\n",
       " '180.jpg',\n",
       " '091.jpg',\n",
       " '129.jpg',\n",
       " '092.jpg',\n",
       " '103.jpg',\n",
       " '141.jpg',\n",
       " '104.jpg',\n",
       " '149.jpg',\n",
       " '163.jpg',\n",
       " '143.jpg',\n",
       " '166.jpg',\n",
       " '064.jpg',\n",
       " '015.jpg',\n",
       " '151.jpg',\n",
       " '154.jpg',\n",
       " '016.jpg',\n",
       " '002.jpg',\n",
       " '042.jpg',\n",
       " '127.jpg',\n",
       " '059.jpg',\n",
       " '132.jpg',\n",
       " '193.jpg',\n",
       " '111.jpg',\n",
       " '095.jpg',\n",
       " '012.jpg',\n",
       " '179.jpg',\n",
       " '026.jpg',\n",
       " '100.jpg',\n",
       " '196.jpg',\n",
       " '128.jpg',\n",
       " '048.jpg',\n",
       " '053.jpg',\n",
       " '135.jpg',\n",
       " '107.jpg',\n",
       " '178.jpg',\n",
       " '139.jpg',\n",
       " '116.jpg',\n",
       " '021.jpg',\n",
       " '060.jpg',\n",
       " '055.jpg',\n",
       " '119.jpg',\n",
       " '181.jpg',\n",
       " '153.jpg',\n",
       " '013.jpg',\n",
       " '034.jpg',\n",
       " '142.jpg',\n",
       " '058.jpg',\n",
       " '036.jpg',\n",
       " '071.jpg',\n",
       " '063.jpg',\n",
       " '024.jpg',\n",
       " '081.jpg',\n",
       " '167.jpg',\n",
       " '170.jpg',\n",
       " '078.jpg',\n",
       " '117.jpg',\n",
       " '123.jpg',\n",
       " '001.jpg',\n",
       " '031.jpg',\n",
       " '105.jpg',\n",
       " '161.jpg',\n",
       " '033.jpg',\n",
       " '050.jpg',\n",
       " '150.jpg',\n",
       " '162.jpg',\n",
       " '157.jpg',\n",
       " '043.jpg',\n",
       " '086.jpg',\n",
       " '041.jpg',\n",
       " '160.jpg',\n",
       " '074.jpg',\n",
       " '190.jpg',\n",
       " '174.jpg',\n",
       " '136.jpg',\n",
       " '169.jpg',\n",
       " '089.jpg',\n",
       " '202.jpg',\n",
       " '045.jpg',\n",
       " '102.jpg',\n",
       " '027.jpg',\n",
       " '182.jpg',\n",
       " '006.jpg',\n",
       " '080.jpg',\n",
       " '121.jpg',\n",
       " '082.jpg',\n",
       " '040.jpg',\n",
       " '077.jpg',\n",
       " '176.jpg',\n",
       " '085.jpg',\n",
       " '197.jpg']"
      ]
     },
     "execution_count": 46,
     "metadata": {},
     "output_type": "execute_result"
    }
   ],
   "source": [
    "filename_list"
   ]
  },
  {
   "cell_type": "code",
   "execution_count": 47,
   "id": "025d9225",
   "metadata": {},
   "outputs": [
    {
     "data": {
      "text/plain": [
       "[\"{'id': 0, 'barcode': '2860587076540', 'doc_type': 'Товарная накладная', 'doc_number': '6017110800', 'error_list': []}\",\n",
       " \"{'id': 1, 'barcode': '2860592637279', 'doc_type': 'товарная гнакладная', 'doc_number': '6017253079', 'error_list': []}\",\n",
       " \"{'id': 2, 'barcode': '2860601366206', 'doc_type': 'Товарнаяі накладная', 'doc_number': '6047415447', 'error_list': []}\",\n",
       " \"{'id': 3, 'barcode': '2810094798084', 'doc_type': 'Товарная накладная', 'doc_number': '6010358825', 'error_list': []}\",\n",
       " \"{'id': 4, 'barcode': '2860614983032', 'doc_type': 'товарная накладная', 'doc_number': '6017580463', 'error_list': []}\",\n",
       " \"{'id': 5, 'barcode': '2810095110823', 'doc_type': 'Товарная накладная', 'doc_number': '6010496453', 'error_list': []}\",\n",
       " \"{'id': 6, 'barcode': '2860350653671', 'doc_type': 'Товарная накладная', 'doc_number': '6010495761', 'error_list': []}\",\n",
       " \"{'id': 7, 'barcode': '2860356028688', 'doc_type': 'Товарная накладная', 'doc_number': '6010580640', 'error_list': []}\",\n",
       " \"{'id': 8, 'barcode': '2860618787148', 'doc_type': 'товарная накладная', 'doc_number': '60417651087', 'error_list': []}\",\n",
       " \"{'id': 9, 'barcode': '2810078644574', 'doc_type': 'Товарная накладная', 'doc_number': '6008222134', 'error_list': []}\",\n",
       " \"{'id': 10, 'barcode': '2860597904628', 'doc_type': 'Товарная накладная', 'doc_number': '6600245149', 'error_list': []}\",\n",
       " \"{'id': 11, 'barcode': '2860598926537', 'doc_type': 'Товарная накладная', 'doc_number': '6600000503', 'error_list': []}\",\n",
       " \"{'id': 12, 'barcode': '2860583150046', 'doc_type': 'товарная накладная', 'doc_number': '6017084789', 'error_list': []}\",\n",
       " \"{'id': 13, 'barcode': '2810094808202', 'doc_type': 'Товарная накладная', 'doc_number': '6010496432', 'error_list': []}\",\n",
       " \"{'id': 14, 'barcode': '2860599272848', 'doc_type': 'товарная накладная', 'doc_number': '6600002416', 'error_list': []}\",\n",
       " \"{'id': 15, 'barcode': '2860614772520', 'doc_type': 'Товарная накладная', 'doc_number': '8600577650', 'error_list': []}\",\n",
       " \"{'id': 16, 'barcode': '2860350627696', 'doc_type': 'Товарная накладная', 'doc_number': '6010477064', 'error_list': []}\",\n",
       " \"{'id': 17, 'barcode': '2810095049819', 'doc_type': 'Товарная накладная', 'doc_number': '6010489390', 'error_list': []}\",\n",
       " \"{'id': 18, 'barcode': '2860593000775', 'doc_type': 'Товарная накладная', 'doc_number': '6017266636', 'error_list': []}\",\n",
       " \"{'id': 19, 'barcode': '2860597151404', 'doc_type': 'Товарная гнакладная', 'doc_number': '6600242234', 'error_list': []}\",\n",
       " \"{'id': 20, 'barcode': '2860618982277', 'doc_type': 'Товарная накладная', 'doc_number': '6017653136', 'error_list': []}\",\n",
       " \"{'id': 21, 'barcode': '2810144081883', 'doc_type': 'Товарная накладная', 'doc_number': '6600220630', 'error_list': []}\",\n",
       " \"{'id': 22, 'barcode': None, 'doc_type': None, 'doc_number': None, 'error_list': ['Слишком размыто']}\",\n",
       " \"{'id': 23, 'barcode': '2860609887666', 'doc_type': 'Товарнам кнакладная', 'doc_number': '8817053744', 'error_list': ['Пересканируйте, текст не найден', 'Слишком размыто']}\",\n",
       " \"{'id': 24, 'barcode': '2810079755484', 'doc_type': 'Товарная накладная', 'doc_number': '6008282959', 'error_list': []}\",\n",
       " \"{'id': 25, 'barcode': '2810095175457', 'doc_type': 'Товарная накладная', 'doc_number': '6010505008', 'error_list': []}\",\n",
       " \"{'id': 26, 'barcode': '2860602715096', 'doc_type': 'Товарная накладная', 'doc_number': None, 'error_list': []}\",\n",
       " \"{'id': 27, 'barcode': '2860592408350', 'doc_type': 'Товарная некладная', 'doc_number': '8017263017', 'error_list': []}\",\n",
       " \"{'id': 28, 'barcode': '2860594030962', 'doc_type': 'товарная накладная', 'doc_number': '6600235372', 'error_list': []}\",\n",
       " \"{'id': 29, 'barcode': '2860583459859', 'doc_type': 'Товарная накладная', 'doc_number': '6017086095', 'error_list': []}\",\n",
       " \"{'id': 30, 'barcode': '2810095110731', 'doc_type': 'Товарная накладная', 'doc_number': '6010496452', 'error_list': []}\",\n",
       " \"{'id': 31, 'barcode': '2860609807121', 'doc_type': 'товарная накладная', 'doc_number': '6017532541', 'error_list': []}\",\n",
       " \"{'id': 32, 'barcode': '2860614792009', 'doc_type': 'Товарная накладная', 'doc_number': '6017550651', 'error_list': []}\",\n",
       " \"{'id': 33, 'barcode': '2860617614391', 'doc_type': None, 'doc_number': '6017644991', 'error_list': []}\",\n",
       " \"{'id': 34, 'barcode': '2810096516396', 'doc_type': 'Товарная накладная', 'doc_number': '6010589100', 'error_list': []}\",\n",
       " \"{'id': 35, 'barcode': '2860350693578', 'doc_type': 'Товарная накладная', 'doc_number': '6010497017', 'error_list': []}\",\n",
       " \"{'id': 36, 'barcode': '2810094793638', 'doc_type': 'Товарная накладная', 'doc_number': '6010358884', 'error_list': []}\",\n",
       " \"{'id': 37, 'barcode': '2860615089269', 'doc_type': 'Товарная накладная', 'doc_number': '6017580984', 'error_list': []}\",\n",
       " \"{'id': 38, 'barcode': '2860582013670', 'doc_type': 'Товарная накладная', 'doc_number': '8017079322', 'error_list': []}\",\n",
       " \"{'id': 39, 'barcode': '2860350517478', 'doc_type': 'Товарная накладная', 'doc_number': '6010411498', 'error_list': []}\",\n",
       " \"{'id': 40, 'barcode': '2860350826969', 'doc_type': 'Товарная накладная', 'doc_number': '6010503173', 'error_list': []}\",\n",
       " \"{'id': 41, 'barcode': '2810099106150', 'doc_type': 'Товарная накладная', 'doc_number': '6010797013', 'error_list': []}\",\n",
       " \"{'id': 42, 'barcode': '2810078340568', 'doc_type': 'Товарная накладная', 'doc_number': '6008206296', 'error_list': []}\",\n",
       " \"{'id': 43, 'barcode': '2860618739659', 'doc_type': 'товарная накладная', 'doc_number': '6017651707', 'error_list': []}\",\n",
       " \"{'id': 44, 'barcode': '2860350795340', 'doc_type': 'Товарная накладная', 'doc_number': '6010498934', 'error_list': []}\",\n",
       " \"{'id': 45, 'barcode': '2810096516426', 'doc_type': 'Товарная накладная', 'doc_number': None, 'error_list': []}\",\n",
       " \"{'id': 46, 'barcode': '2860611204697', 'doc_type': 'Товарная накладная', 'doc_number': 'B047539166', 'error_list': []}\",\n",
       " \"{'id': 47, 'barcode': '2810094891235', 'doc_type': 'Товарная накладная', 'doc_number': '6010494696', 'error_list': []}\",\n",
       " \"{'id': 48, 'barcode': '2860570915191', 'doc_type': 'Товарная накладная', 'doc_number': '6600174521', 'error_list': []}\",\n",
       " \"{'id': 49, 'barcode': '2810094889065', 'doc_type': 'Товарная накладная', 'doc_number': '6010496401', 'error_list': []}\",\n",
       " \"{'id': 50, 'barcode': '2810096516365', 'doc_type': 'Товарная накладная', 'doc_number': None, 'error_list': []}\",\n",
       " \"{'id': 51, 'barcode': '2860601473409', 'doc_type': None, 'doc_number': '8817416140', 'error_list': []}\",\n",
       " \"{'id': 52, 'barcode': '2810096516396', 'doc_type': 'Товарная накладная', 'doc_number': '6010589100', 'error_list': []}\",\n",
       " \"{'id': 53, 'barcode': '2810095097438', 'doc_type': 'Товарная накладная', 'doc_number': '6010503832', 'error_list': []}\",\n",
       " \"{'id': 54, 'barcode': '2810078325701', 'doc_type': 'Товарная накладная', 'doc_number': '6008220324', 'error_list': []}\",\n",
       " \"{'id': 55, 'barcode': '2810095102668', 'doc_type': 'Товарная накладная', 'doc_number': '6010496438', 'error_list': []}\",\n",
       " \"{'id': 56, 'barcode': '2810095150157', 'doc_type': 'Товарная накладная', 'doc_number': '6010497186', 'error_list': []}\",\n",
       " \"{'id': 57, 'barcode': '2860618872677', 'doc_type': 'Товарная накладная', 'doc_number': '6500275900', 'error_list': []}\",\n",
       " \"{'id': 58, 'barcode': '2860619133609', 'doc_type': 'Товарная накладная', 'doc_number': '6047552685', 'error_list': []}\",\n",
       " \"{'id': 59, 'barcode': '2860350653657', 'doc_type': 'Товарная накладная', 'doc_number': '6010495760', 'error_list': []}\",\n",
       " \"{'id': 60, 'barcode': '2860611107011', 'doc_type': None, 'doc_number': None, 'error_list': ['Слишком размыто']}\",\n",
       " \"{'id': 61, 'barcode': '2860593292163', 'doc_type': 'товарная накладная', 'doc_number': '6017289311', 'error_list': []}\",\n",
       " \"{'id': 62, 'barcode': '2810097409826', 'doc_type': 'Товарная накладная', 'doc_number': None, 'error_list': []}\",\n",
       " \"{'id': 63, 'barcode': '2810101083493', 'doc_type': 'Товарная накладная', 'doc_number': '6011002903', 'error_list': []}\",\n",
       " \"{'id': 64, 'barcode': '2860581828398', 'doc_type': 'Товарная накладная', 'doc_number': '6600554386', 'error_list': []}\",\n",
       " \"{'id': 65, 'barcode': '2860350795418', 'doc_type': 'Товарная накладная', 'doc_number': '6010498936', 'error_list': []}\",\n",
       " \"{'id': 66, 'barcode': '2810095220683', 'doc_type': 'Товарная накладная', 'doc_number': '6010507184', 'error_list': []}\",\n",
       " \"{'id': 67, 'barcode': '2860350248129', 'doc_type': 'Товарная накладная', 'doc_number': '6010250245', 'error_list': []}\",\n",
       " \"{'id': 68, 'barcode': '2860610732146', 'doc_type': 'Товарная накладная', 'doc_number': '6003471873', 'error_list': []}\",\n",
       " \"{'id': 69, 'barcode': '2810097409826', 'doc_type': 'Товарная накладная', 'doc_number': '6010632149', 'error_list': []}\",\n",
       " \"{'id': 70, 'barcode': '2810097409826', 'doc_type': 'Товарная накладная', 'doc_number': None, 'error_list': []}\",\n",
       " \"{'id': 71, 'barcode': '2860545693338', 'doc_type': 'Товарная накладная', 'doc_number': '6600103608', 'error_list': []}\",\n",
       " \"{'id': 72, 'barcode': '2860583093602', 'doc_type': 'Товерная наюладная', 'doc_number': '8017054820', 'error_list': []}\",\n",
       " \"{'id': 73, 'barcode': '2860617624253', 'doc_type': 'товарная накладная', 'doc_number': '8017645767', 'error_list': []}\",\n",
       " \"{'id': 74, 'barcode': '2810094049155', 'doc_type': 'Товарная накладная', 'doc_number': '6010452712', 'error_list': []}\",\n",
       " \"{'id': 75, 'barcode': '2810095219885', 'doc_type': 'Товарная накладная', 'doc_number': '6010503820', 'error_list': []}\",\n",
       " \"{'id': 76, 'barcode': '2810096516365', 'doc_type': 'Товарная накладная', 'doc_number': '6010589144', 'error_list': []}\",\n",
       " \"{'id': 77, 'barcode': '2810094808165', 'doc_type': 'Товарная накладная', 'doc_number': '6010496431', 'error_list': []}\",\n",
       " \"{'id': 78, 'barcode': '2810094934895', 'doc_type': 'Товарная накладная', 'doc_number': '6010507333', 'error_list': []}\",\n",
       " \"{'id': 79, 'barcode': '2810094840226', 'doc_type': 'Товарная накладная', 'doc_number': '6010422352', 'error_list': []}\",\n",
       " \"{'id': 80, 'barcode': '2810101258686', 'doc_type': 'Товарная накладная', 'doc_number': '6011020656', 'error_list': []}\",\n",
       " \"{'id': 81, 'barcode': '2860350803656', 'doc_type': 'Товарная накладная', 'doc_number': '6010498987', 'error_list': []}\",\n",
       " \"{'id': 82, 'barcode': '2810094942029', 'doc_type': 'Товарная накладная', 'doc_number': '6010422354', 'error_list': []}\",\n",
       " \"{'id': 83, 'barcode': '2860611147581', 'doc_type': None, 'doc_number': '0517850744', 'error_list': ['Пересканируйте, текст не найден', 'Слишком размыто']}\",\n",
       " \"{'id': 84, 'barcode': '2860583137740', 'doc_type': 'Товарная накледная', 'doc_number': '6017085114', 'error_list': []}\",\n",
       " \"{'id': 85, 'barcode': '2860592996963', 'doc_type': 'Товерная накладная', 'doc_number': '6017266530', 'error_list': []}\",\n",
       " \"{'id': 86, 'barcode': '2860593085420', 'doc_type': 'товарнаят накладная', 'doc_number': '6600234112', 'error_list': []}\",\n",
       " \"{'id': 87, 'barcode': '2860350669320', 'doc_type': 'Товарная накладная', 'doc_number': '6010496368', 'error_list': []}\",\n",
       " \"{'id': 88, 'barcode': '2860614461714', 'doc_type': 'товарная накладная', 'doc_number': '6600267555', 'error_list': []}\",\n",
       " \"{'id': 89, 'barcode': '2860618866577', 'doc_type': 'Товарная накпадная', 'doc_number': '6017651737', 'error_list': []}\",\n",
       " \"{'id': 90, 'barcode': '2860609826856', 'doc_type': None, 'doc_number': None, 'error_list': ['Пересканируйте, текст не найден', 'Слишком размыто']}\",\n",
       " \"{'id': 91, 'barcode': '2860566468953', 'doc_type': 'Товарная накладная', 'doc_number': '6016677899', 'error_list': []}\",\n",
       " \"{'id': 92, 'barcode': '2860548949708', 'doc_type': 'Товарная накладная', 'doc_number': '6600113245', 'error_list': []}\",\n",
       " \"{'id': 93, 'barcode': '2860610420036', 'doc_type': 'Товарная накладная', 'doc_number': '6017554174', 'error_list': []}\",\n",
       " \"{'id': 94, 'barcode': '2860599004975', 'doc_type': 'товарная накладная', 'doc_number': '6600003002', 'error_list': []}\",\n",
       " \"{'id': 95, 'barcode': '2810101258716', 'doc_type': 'Товарная накладная', 'doc_number': '6011020653', 'error_list': []}\",\n",
       " \"{'id': 96, 'barcode': '2860610629088', 'doc_type': 'Товаркая накладная', 'doc_number': '6017534882', 'error_list': []}\",\n",
       " \"{'id': 97, 'barcode': '2860597441536', 'doc_type': 'товарная накладная', 'doc_number': '6600243666', 'error_list': []}\",\n",
       " \"{'id': 98, 'barcode': '2860582098769', 'doc_type': 'Товарная гнакладная', 'doc_number': '6Q17073063', 'error_list': []}\",\n",
       " \"{'id': 99, 'barcode': '2810096516426', 'doc_type': 'Товарная накладная', 'doc_number': '6010594120', 'error_list': []}\",\n",
       " \"{'id': 100, 'barcode': '2860610411164', 'doc_type': None, 'doc_number': None, 'error_list': ['Слишком размыто']}\",\n",
       " \"{'id': 101, 'barcode': '2860619180474', 'doc_type': 'Товарная макладная', 'doc_number': '6017653452', 'error_list': []}\",\n",
       " \"{'id': 102, 'barcode': '2860350788793', 'doc_type': 'Товарная накладная', 'doc_number': '6010498565', 'error_list': []}\",\n",
       " \"{'id': 103, 'barcode': '2860356224295', 'doc_type': 'Товарная накладная', 'doc_number': '6010584004', 'error_list': []}\",\n",
       " \"{'id': 104, 'barcode': '2810078325367', 'doc_type': 'Товарная накладная', 'doc_number': '6008202144', 'error_list': []}\",\n",
       " \"{'id': 105, 'barcode': '2860613107354', 'doc_type': 'товарная накладная', 'doc_number': '6002545658', 'error_list': []}\",\n",
       " \"{'id': 106, 'barcode': '2860618655089', 'doc_type': 'Товарная накладная', 'doc_number': '5077649733', 'error_list': []}\",\n",
       " \"{'id': 107, 'barcode': '2860566457728', 'doc_type': 'Товарная накладная', 'doc_number': '6016677713', 'error_list': []}\",\n",
       " \"{'id': 108, 'barcode': '2860356024154', 'doc_type': 'Товарная накладная', 'doc_number': '6010580611', 'error_list': []}\",\n",
       " \"{'id': 109, 'barcode': '2860350653411', 'doc_type': 'Товарная накладная', 'doc_number': '6010495752', 'error_list': []}\",\n",
       " \"{'id': 110, 'barcode': '2810090850434', 'doc_type': 'Товарная накладная', 'doc_number': '6009670355', 'error_list': []}\",\n",
       " \"{'id': 111, 'barcode': '2860611233796', 'doc_type': 'говарнаяі накледная', 'doc_number': None, 'error_list': []}\",\n",
       " \"{'id': 112, 'barcode': '2860597420210', 'doc_type': 'Товарная гнакладная', 'doc_number': None, 'error_list': []}\",\n",
       " \"{'id': 113, 'barcode': '2860618473492', 'doc_type': 'товарная накладная', 'doc_number': '9AOkyKGKK2', 'error_list': []}\",\n",
       " \"{'id': 114, 'barcode': '2810078340681', 'doc_type': 'Товарная накладная', 'doc_number': '6008203771', 'error_list': []}\",\n",
       " \"{'id': 115, 'barcode': '2860582243602', 'doc_type': 'Товарная накладная', 'doc_number': '6017080746', 'error_list': []}\",\n",
       " \"{'id': 116, 'barcode': '2810078921507', 'doc_type': 'Товарная накладная', 'doc_number': '6008228464', 'error_list': []}\",\n",
       " \"{'id': 117, 'barcode': '2860614608874', 'doc_type': 'товарная накладная', 'doc_number': '6600576977', 'error_list': []}\",\n",
       " \"{'id': 118, 'barcode': '2860599552148', 'doc_type': 'товарная накладная', 'doc_number': '8017407243', 'error_list': []}\",\n",
       " \"{'id': 119, 'barcode': '2860615294724', 'doc_type': 'Товарная накладная', 'doc_number': '6600269283', 'error_list': []}\",\n",
       " \"{'id': 120, 'barcode': '2860609765162', 'doc_type': 'Товарная нактадная', 'doc_number': '6017591692', 'error_list': []}\",\n",
       " \"{'id': 121, 'barcode': '2860610941494', 'doc_type': 'Товарная накладная', 'doc_number': '8017538309', 'error_list': []}\",\n",
       " \"{'id': 122, 'barcode': '2860610679120', 'doc_type': 'Товарная накладная', 'doc_number': '6017533986', 'error_list': []}\",\n",
       " \"{'id': 123, 'barcode': '2860611250205', 'doc_type': None, 'doc_number': '0011033072', 'error_list': ['Слишком размыто']}\",\n",
       " \"{'id': 124, 'barcode': '2810097781793', 'doc_type': 'Товарная накладная', 'doc_number': '6010665386', 'error_list': []}\",\n",
       " \"{'id': 125, 'barcode': '2810094881618', 'doc_type': 'Товарная накладная', 'doc_number': '6010389831', 'error_list': []}\",\n",
       " \"{'id': 126, 'barcode': '2860609756344', 'doc_type': 'Товарная накладная', 'doc_number': '6017532090', 'error_list': []}\",\n",
       " \"{'id': 127, 'barcode': '2860609886874', 'doc_type': 'Товарная інакладная', 'doc_number': '8047533721', 'error_list': []}\",\n",
       " \"{'id': 128, 'barcode': '2810094808127', 'doc_type': 'Товарная накладная', 'doc_number': '6010496430', 'error_list': []}\",\n",
       " \"{'id': 129, 'barcode': '2860350803625', 'doc_type': 'Товарная накладная', 'doc_number': '6010498985', 'error_list': []}\",\n",
       " \"{'id': 130, 'barcode': '2860350693905', 'doc_type': 'Товарная накладная', 'doc_number': '6010497029', 'error_list': []}\",\n",
       " \"{'id': 131, 'barcode': '2860582194171', 'doc_type': 'товарная накладная', 'doc_number': '6017080146', 'error_list': []}\",\n",
       " \"{'id': 132, 'barcode': '2810101258679', 'doc_type': 'Товарная накладная', 'doc_number': '6011020608', 'error_list': []}\",\n",
       " \"{'id': 133, 'barcode': '2860592404024', 'doc_type': 'Товарная гнакладная', 'doc_number': '8047261974', 'error_list': []}\",\n",
       " \"{'id': 134, 'barcode': '2860598737003', 'doc_type': 'товарная накладная', 'doc_number': '6600001001', 'error_list': []}\",\n",
       " \"{'id': 135, 'barcode': '2860545577539', 'doc_type': 'Товарная накладная', 'doc_number': '6600102483', 'error_list': []}\",\n",
       " \"{'id': 136, 'barcode': '2860591580422', 'doc_type': 'Товарная накладная', 'doc_number': '6600230046', 'error_list': []}\",\n",
       " \"{'id': 137, 'barcode': '2860350445450', 'doc_type': 'Товарная накладная', 'doc_number': '6010348775', 'error_list': []}\",\n",
       " \"{'id': 138, 'barcode': '2860617907226', 'doc_type': 'товарная накладная', 'doc_number': '5017548400', 'error_list': []}\",\n",
       " \"{'id': 139, 'barcode': '2810095109414', 'doc_type': 'Товарная накладная', 'doc_number': '6010496444', 'error_list': []}\",\n",
       " \"{'id': 140, 'barcode': '2860614372225', 'doc_type': 'товарная накладная', 'doc_number': '6600268132', 'error_list': []}\",\n",
       " \"{'id': 141, 'barcode': '2860613502609', 'doc_type': 'Товарная накладная', 'doc_number': '5002546660', 'error_list': []}\",\n",
       " \"{'id': 142, 'barcode': '2860582444504', 'doc_type': 'Товарная накладная', 'doc_number': '8017080275', 'error_list': []}\",\n",
       " \"{'id': 143, 'barcode': '2860350617796', 'doc_type': 'Товарная накладная', 'doc_number': '6010453494', 'error_list': []}\",\n",
       " \"{'id': 144, 'barcode': '2810095129078', 'doc_type': 'Товарная накладная', 'doc_number': '6010507178', 'error_list': []}\",\n",
       " \"{'id': 145, 'barcode': '2860592721855', 'doc_type': 'товарная накладная', 'doc_number': '6047263573', 'error_list': []}\",\n",
       " \"{'id': 146, 'barcode': '2860615433956', 'doc_type': 'товарная накладная', 'doc_number': '6600270278', 'error_list': []}\",\n",
       " \"{'id': 147, 'barcode': '2860617869722', 'doc_type': 'товарная наюладная', 'doc_number': '6017847375', 'error_list': []}\",\n",
       " \"{'id': 148, 'barcode': '2860593339424', 'doc_type': 'Товарная накладная', 'doc_number': '6017268051', 'error_list': []}\",\n",
       " \"{'id': 149, 'barcode': '2860610860917', 'doc_type': 'Товарная накладная', 'doc_number': '8047537341', 'error_list': []}\",\n",
       " \"{'id': 150, 'barcode': '2860350310024', 'doc_type': 'Товарная накладная', 'doc_number': '6010251616', 'error_list': []}\",\n",
       " \"{'id': 151, 'barcode': '2810101258709', 'doc_type': 'Товарная накладная', 'doc_number': '6011010073', 'error_list': []}\",\n",
       " \"{'id': 152, 'barcode': '2810095096936', 'doc_type': 'Товарная накладная', 'doc_number': '6010512132', 'error_list': []}\",\n",
       " \"{'id': 153, 'barcode': '2860611888071', 'doc_type': 'товарная накладная', 'doc_number': '8002548937', 'error_list': []}\",\n",
       " \"{'id': 154, 'barcode': '2860618518735', 'doc_type': 'Товарная накладнея', 'doc_number': '8017649715', 'error_list': []}\",\n",
       " \"{'id': 155, 'barcode': '2860609817946', 'doc_type': 'Товарная накладная', 'doc_number': '6017533517', 'error_list': []}\",\n",
       " \"{'id': 156, 'barcode': '2860350445276', 'doc_type': 'Товарная накладная', 'doc_number': '6010348770', 'error_list': []}\",\n",
       " \"{'id': 157, 'barcode': '2810095102101', 'doc_type': 'Товарная накладная', 'doc_number': '6010422349', 'error_list': []}\",\n",
       " \"{'id': 158, 'barcode': '2860600635488', 'doc_type': 'Товарная накладная', 'doc_number': '6017410823', 'error_list': []}\",\n",
       " \"{'id': 159, 'barcode': '2810101258648', 'doc_type': 'Товарная накладная', 'doc_number': '6011020606', 'error_list': []}\",\n",
       " \"{'id': 160, 'barcode': '2860350518246', 'doc_type': 'Товарная накладная', 'doc_number': '6010411519', 'error_list': []}\",\n",
       " \"{'id': 161, 'barcode': '2810098835297', 'doc_type': 'Товарная накладная', 'doc_number': '6010741944', 'error_list': []}\",\n",
       " \"{'id': 162, 'barcode': '2810098835297', 'doc_type': 'Товарная накладная', 'doc_number': '6010741944', 'error_list': []}\",\n",
       " \"{'id': 163, 'barcode': '2860350260350', 'doc_type': 'Товарная накладная', 'doc_number': '6010250632', 'error_list': []}\",\n",
       " \"{'id': 164, 'barcode': '2810096516365', 'doc_type': 'Товарная накладная', 'doc_number': None, 'error_list': []}\",\n",
       " \"{'id': 165, 'barcode': '2860611147345', 'doc_type': 'товерная накладнал', 'doc_number': '80175397303', 'error_list': []}\",\n",
       " \"{'id': 166, 'barcode': None, 'doc_type': None, 'doc_number': None, 'error_list': ['Слишком размыто']}\",\n",
       " \"{'id': 167, 'barcode': '2810097781793', 'doc_type': 'Товарная накладная', 'doc_number': '6010665386', 'error_list': []}\",\n",
       " \"{'id': 168, 'barcode': '2860611441504', 'doc_type': 'Тонарная накладная', 'doc_number': '6002548256', 'error_list': []}\",\n",
       " \"{'id': 169, 'barcode': '2860583199144', 'doc_type': 'Товарная накладная', 'doc_number': '8017055704', 'error_list': []}\",\n",
       " \"{'id': 170, 'barcode': '2860350795548', 'doc_type': 'Товарная накладная', 'doc_number': '6010498941', 'error_list': []}\",\n",
       " \"{'id': 171, 'barcode': '2810095103191', 'doc_type': 'Товарная накладная', 'doc_number': '6010503866', 'error_list': []}\",\n",
       " \"{'id': 172, 'barcode': '2860581421063', 'doc_type': 'товарная накладная', 'doc_number': '6600553089', 'error_list': []}\",\n",
       " \"{'id': 173, 'barcode': '2860610935011', 'doc_type': 'Товарная накладная', 'doc_number': '6017537288', 'error_list': []}\",\n",
       " \"{'id': 174, 'barcode': '2810094888273', 'doc_type': 'Товарная накладная', 'doc_number': '6010422353', 'error_list': []}\",\n",
       " \"{'id': 175, 'barcode': '2810095176461', 'doc_type': 'Товарная накладная', 'doc_number': '6010496989', 'error_list': []}\",\n",
       " \"{'id': 176, 'barcode': '2860609785085', 'doc_type': 'Товарная накладная', 'doc_number': '6017531773', 'error_list': []}\",\n",
       " \"{'id': 177, 'barcode': '2860582444504', 'doc_type': 'Товарная накладная', 'doc_number': '8017080275', 'error_list': []}\",\n",
       " \"{'id': 178, 'barcode': '2860610590685', 'doc_type': None, 'doc_number': None, 'error_list': ['Пересканируйте, текст не найден', 'Слишком размыто']}\",\n",
       " \"{'id': 179, 'barcode': '2860350693837', 'doc_type': 'Товарная накладная', 'doc_number': '6010497027', 'error_list': []}\",\n",
       " \"{'id': 180, 'barcode': '2810078707477', 'doc_type': 'Товарная накладная', 'doc_number': '6008221521', 'error_list': []}\",\n",
       " \"{'id': 181, 'barcode': '2860350669306', 'doc_type': 'Товарная накладная', 'doc_number': '6010496367', 'error_list': []}\",\n",
       " \"{'id': 182, 'barcode': '2860610623253', 'doc_type': 'Товарная накладная', 'doc_number': '6017535957', 'error_list': []}\",\n",
       " \"{'id': 183, 'barcode': '2810096516426', 'doc_type': 'Товарная накладная', 'doc_number': '6010594120', 'error_list': []}\",\n",
       " \"{'id': 184, 'barcode': '2860619145831', 'doc_type': 'Товарная накладная', 'doc_number': '8017654120', 'error_list': []}\",\n",
       " \"{'id': 185, 'barcode': None, 'doc_type': None, 'doc_number': None, 'error_list': ['Слишком размыто']}\",\n",
       " \"{'id': 186, 'barcode': '2860592953966', 'doc_type': 'Товарная накладная', 'doc_number': '6017266223', 'error_list': []}\",\n",
       " \"{'id': 187, 'barcode': '2860611187853', 'doc_type': 'товарная накладнаяі', 'doc_number': '6017540704', 'error_list': []}\",\n",
       " \"{'id': 188, 'barcode': '2810078645670', 'doc_type': 'Товарная накладная', 'doc_number': '6008221523', 'error_list': []}\",\n",
       " \"{'id': 189, 'barcode': '2860601427549', 'doc_type': 'Товарная накладная', 'doc_number': '6017415630', 'error_list': []}\",\n",
       " \"{'id': 190, 'barcode': '2860350653602', 'doc_type': 'Товарная накладная', 'doc_number': '6010495758', 'error_list': []}\",\n",
       " \"{'id': 191, 'barcode': '2860523958756', 'doc_type': 'Товарная накладная', 'doc_number': '6600036286', 'error_list': []}\",\n",
       " \"{'id': 192, 'barcode': '2810092864163', 'doc_type': 'Товарная накладная', 'doc_number': '6010498029', 'error_list': []}\",\n",
       " \"{'id': 193, 'barcode': '2860618464230', 'doc_type': 'Товарная накладная', 'doc_number': '8017850204', 'error_list': []}\",\n",
       " \"{'id': 194, 'barcode': '2860350795388', 'doc_type': 'Товарная накладная', 'doc_number': '6010498935', 'error_list': []}\",\n",
       " \"{'id': 195, 'barcode': '2860356224295', 'doc_type': 'Товарная накладная', 'doc_number': '6010584004', 'error_list': []}\",\n",
       " \"{'id': 196, 'barcode': '2860610616293', 'doc_type': 'Товарная накладная', 'doc_number': '6003471981', 'error_list': []}\",\n",
       " \"{'id': 197, 'barcode': '2810096516396', 'doc_type': 'Товарная накладная', 'doc_number': '6010589100', 'error_list': []}\",\n",
       " \"{'id': 198, 'barcode': '2810095177772', 'doc_type': 'Товарная накладная', 'doc_number': '6010503817', 'error_list': []}\",\n",
       " \"{'id': 199, 'barcode': '2860356224295', 'doc_type': 'Товарная накладная', 'doc_number': '6010584004', 'error_list': []}\",\n",
       " \"{'id': 200, 'barcode': '2860617832306', 'doc_type': 'товарная накладная', 'doc_number': '6017648128', 'error_list': []}\",\n",
       " \"{'id': 201, 'barcode': '2860285531495', 'doc_type': 'Товарная накладная', 'doc_number': '6008204454', 'error_list': []}\",\n",
       " \"{'id': 202, 'barcode': '2860532178794', 'doc_type': 'Товарная накладная', 'doc_number': '6600061199', 'error_list': []}\"]"
      ]
     },
     "execution_count": 47,
     "metadata": {},
     "output_type": "execute_result"
    }
   ],
   "source": [
    "results_list"
   ]
  },
  {
   "cell_type": "code",
   "execution_count": 48,
   "id": "05f6918b",
   "metadata": {},
   "outputs": [],
   "source": [
    "df = pd.DataFrame()\n",
    "\n",
    "for num, _ in enumerate(results_list):\n",
    "    q = eval(results_list[num].replace('\\\\', ''))\n",
    "    if q['error_list'] == []:\n",
    "        q['error_list'] = 0\n",
    "    else:\n",
    "        q['error_list'] = 1\n",
    "    \n",
    "    res_df = pd.DataFrame(q, index=[0])\n",
    "    df = pd.concat([df, res_df])"
   ]
  },
  {
   "cell_type": "code",
   "execution_count": 49,
   "id": "77fe87ba",
   "metadata": {},
   "outputs": [],
   "source": [
    "df = df.reset_index(drop=True)"
   ]
  },
  {
   "cell_type": "code",
   "execution_count": 50,
   "id": "660d257c",
   "metadata": {},
   "outputs": [],
   "source": [
    "df['filename'] = filename_list"
   ]
  },
  {
   "cell_type": "code",
   "execution_count": 51,
   "id": "5b2c32de",
   "metadata": {},
   "outputs": [],
   "source": [
    "df = df[['id', 'filename', 'barcode', 'doc_type', 'doc_number', 'error_list']]"
   ]
  },
  {
   "cell_type": "code",
   "execution_count": 52,
   "id": "0815ac2b",
   "metadata": {},
   "outputs": [
    {
     "data": {
      "text/html": [
       "<div>\n",
       "<style scoped>\n",
       "    .dataframe tbody tr th:only-of-type {\n",
       "        vertical-align: middle;\n",
       "    }\n",
       "\n",
       "    .dataframe tbody tr th {\n",
       "        vertical-align: top;\n",
       "    }\n",
       "\n",
       "    .dataframe thead th {\n",
       "        text-align: right;\n",
       "    }\n",
       "</style>\n",
       "<table border=\"1\" class=\"dataframe\">\n",
       "  <thead>\n",
       "    <tr style=\"text-align: right;\">\n",
       "      <th></th>\n",
       "      <th>id</th>\n",
       "      <th>filename</th>\n",
       "      <th>barcode</th>\n",
       "      <th>doc_type</th>\n",
       "      <th>doc_number</th>\n",
       "      <th>error_list</th>\n",
       "    </tr>\n",
       "  </thead>\n",
       "  <tbody>\n",
       "    <tr>\n",
       "      <th>0</th>\n",
       "      <td>0</td>\n",
       "      <td>108.jpg</td>\n",
       "      <td>2860587076540</td>\n",
       "      <td>Товарная накладная</td>\n",
       "      <td>6017110800</td>\n",
       "      <td>0</td>\n",
       "    </tr>\n",
       "    <tr>\n",
       "      <th>1</th>\n",
       "      <td>1</td>\n",
       "      <td>134.jpg</td>\n",
       "      <td>2860592637279</td>\n",
       "      <td>товарная гнакладная</td>\n",
       "      <td>6017253079</td>\n",
       "      <td>0</td>\n",
       "    </tr>\n",
       "    <tr>\n",
       "      <th>2</th>\n",
       "      <td>2</td>\n",
       "      <td>145.jpg</td>\n",
       "      <td>2860601366206</td>\n",
       "      <td>Товарнаяі накладная</td>\n",
       "      <td>6047415447</td>\n",
       "      <td>0</td>\n",
       "    </tr>\n",
       "    <tr>\n",
       "      <th>3</th>\n",
       "      <td>3</td>\n",
       "      <td>020.jpg</td>\n",
       "      <td>2810094798084</td>\n",
       "      <td>Товарная накладная</td>\n",
       "      <td>6010358825</td>\n",
       "      <td>0</td>\n",
       "    </tr>\n",
       "    <tr>\n",
       "      <th>4</th>\n",
       "      <td>4</td>\n",
       "      <td>172.jpg</td>\n",
       "      <td>2860614983032</td>\n",
       "      <td>товарная накладная</td>\n",
       "      <td>6017580463</td>\n",
       "      <td>0</td>\n",
       "    </tr>\n",
       "  </tbody>\n",
       "</table>\n",
       "</div>"
      ],
      "text/plain": [
       "   id filename        barcode             doc_type  doc_number  error_list\n",
       "0   0  108.jpg  2860587076540   Товарная накладная  6017110800           0\n",
       "1   1  134.jpg  2860592637279  товарная гнакладная  6017253079           0\n",
       "2   2  145.jpg  2860601366206  Товарнаяі накладная  6047415447           0\n",
       "3   3  020.jpg  2810094798084   Товарная накладная  6010358825           0\n",
       "4   4  172.jpg  2860614983032   товарная накладная  6017580463           0"
      ]
     },
     "execution_count": 52,
     "metadata": {},
     "output_type": "execute_result"
    }
   ],
   "source": [
    "df.head()"
   ]
  },
  {
   "cell_type": "markdown",
   "id": "ff1876cc",
   "metadata": {},
   "source": [
    "## Визуализация"
   ]
  },
  {
   "cell_type": "raw",
   "id": "811bd925",
   "metadata": {},
   "source": [
    "for i, doc in enumerate(df['filename']):\n",
    "    image = cv2.imread(DATA_PATH + doc)\n",
    "    image = cv2.resize(image, (0, 0), fx=0.25, fy=0.25)\n",
    "    filename = df['filename'][i]\n",
    "    barcode_number = df['barcode'][i]\n",
    "    doc_type = df['doc_type'][i]\n",
    "    doc_number = df['doc_number'][i]\n",
    "    \n",
    "    \n",
    "    image = cv2.putText(image, f'{filename}', (300, 50), cv2.FONT_HERSHEY_COMPLEX, 0.7, (255, 0, 0), 2)\n",
    "    image = cv2.putText(image, f'{barcode_number}', (300, 75), cv2.FONT_HERSHEY_COMPLEX, 0.7, (255, 0, 0), 2)\n",
    "    image = cv2.putText(image, f'{doc_type}', (300, 100), cv2.FONT_HERSHEY_COMPLEX, 0.7, (255, 0, 0), 2)\n",
    "    image = cv2.putText(image, f'{doc_number}', (300, 125), cv2.FONT_HERSHEY_COMPLEX, 0.7, (255, 0, 0), 2)\n",
    "\n",
    "    # Displaying the image\n",
    "    cv2.imshow(\"Output\", image)\n",
    "    cv2.waitKey(0)\n",
    "    cv2.destroyAllWindows()\n",
    "    \n",
    "    if i == 3:\n",
    "        break"
   ]
  },
  {
   "cell_type": "markdown",
   "id": "ef42f55f",
   "metadata": {},
   "source": [
    "## Анализ данных"
   ]
  },
  {
   "cell_type": "markdown",
   "id": "d75c133b",
   "metadata": {},
   "source": [
    "### Необходимые функции"
   ]
  },
  {
   "cell_type": "code",
   "execution_count": 53,
   "id": "cfa6901b",
   "metadata": {},
   "outputs": [],
   "source": [
    "def not_numeric_in_colunm(col):\n",
    "    not_numeric = {}\n",
    "    for i, value in enumerate(col):\n",
    "        if col[i].isnumeric() == False:\n",
    "            not_numeric[i] = value\n",
    "    return not_numeric"
   ]
  },
  {
   "cell_type": "code",
   "execution_count": 54,
   "id": "51855f51",
   "metadata": {},
   "outputs": [],
   "source": [
    "def len_of_numbers(col):\n",
    "    length_dict = {}\n",
    "    for i, value in enumerate(col):\n",
    "        if value.isnumeric():\n",
    "            if len(value) not in length_dict.keys():\n",
    "                length_dict[len(value)] = 1\n",
    "            else:\n",
    "                length_dict[len(value)] += 1\n",
    "    return length_dict"
   ]
  },
  {
   "cell_type": "markdown",
   "id": "9082d4dc",
   "metadata": {},
   "source": [
    "### Error list = 1"
   ]
  },
  {
   "cell_type": "markdown",
   "id": "3b796d38",
   "metadata": {},
   "source": [
    "Если в столбце **error_list** 0, значит изображение прошло проверку детектором блюра и предварительным распознавателем текста (определение ортогонального положения). \n",
    "\n",
    "Если в этом столбце 1, значит имеет место одна или две ошибки. следовательно изображение не будет распознано. Необходимо оценить качество работы детектора блюра и ортогонального оперделителя. "
   ]
  },
  {
   "cell_type": "code",
   "execution_count": 55,
   "id": "9b0ef81a",
   "metadata": {},
   "outputs": [
    {
     "data": {
      "text/plain": [
       "0    193\n",
       "1     10\n",
       "Name: error_list, dtype: int64"
      ]
     },
     "execution_count": 55,
     "metadata": {},
     "output_type": "execute_result"
    }
   ],
   "source": [
    "df['error_list'].value_counts()"
   ]
  },
  {
   "cell_type": "markdown",
   "id": "996180ee",
   "metadata": {},
   "source": [
    "Итого не будет распознано **9** изображений. Оценим их."
   ]
  },
  {
   "cell_type": "code",
   "execution_count": 56,
   "id": "455df1e2",
   "metadata": {},
   "outputs": [
    {
     "data": {
      "text/html": [
       "<div>\n",
       "<style scoped>\n",
       "    .dataframe tbody tr th:only-of-type {\n",
       "        vertical-align: middle;\n",
       "    }\n",
       "\n",
       "    .dataframe tbody tr th {\n",
       "        vertical-align: top;\n",
       "    }\n",
       "\n",
       "    .dataframe thead th {\n",
       "        text-align: right;\n",
       "    }\n",
       "</style>\n",
       "<table border=\"1\" class=\"dataframe\">\n",
       "  <thead>\n",
       "    <tr style=\"text-align: right;\">\n",
       "      <th></th>\n",
       "      <th>id</th>\n",
       "      <th>filename</th>\n",
       "      <th>barcode</th>\n",
       "      <th>doc_type</th>\n",
       "      <th>doc_number</th>\n",
       "      <th>error_list</th>\n",
       "    </tr>\n",
       "  </thead>\n",
       "  <tbody>\n",
       "    <tr>\n",
       "      <th>22</th>\n",
       "      <td>22</td>\n",
       "      <td>195.jpg</td>\n",
       "      <td>None</td>\n",
       "      <td>None</td>\n",
       "      <td>None</td>\n",
       "      <td>1</td>\n",
       "    </tr>\n",
       "    <tr>\n",
       "      <th>23</th>\n",
       "      <td>23</td>\n",
       "      <td>155.jpg</td>\n",
       "      <td>2860609887666</td>\n",
       "      <td>Товарнам кнакладная</td>\n",
       "      <td>8817053744</td>\n",
       "      <td>1</td>\n",
       "    </tr>\n",
       "    <tr>\n",
       "      <th>60</th>\n",
       "      <td>60</td>\n",
       "      <td>115.jpg</td>\n",
       "      <td>2860611107011</td>\n",
       "      <td>None</td>\n",
       "      <td>None</td>\n",
       "      <td>1</td>\n",
       "    </tr>\n",
       "    <tr>\n",
       "      <th>83</th>\n",
       "      <td>83</td>\n",
       "      <td>168.jpg</td>\n",
       "      <td>2860611147581</td>\n",
       "      <td>None</td>\n",
       "      <td>0517850744</td>\n",
       "      <td>1</td>\n",
       "    </tr>\n",
       "    <tr>\n",
       "      <th>90</th>\n",
       "      <td>90</td>\n",
       "      <td>112.jpg</td>\n",
       "      <td>2860609826856</td>\n",
       "      <td>None</td>\n",
       "      <td>None</td>\n",
       "      <td>1</td>\n",
       "    </tr>\n",
       "    <tr>\n",
       "      <th>100</th>\n",
       "      <td>100</td>\n",
       "      <td>159.jpg</td>\n",
       "      <td>2860610411164</td>\n",
       "      <td>None</td>\n",
       "      <td>None</td>\n",
       "      <td>1</td>\n",
       "    </tr>\n",
       "    <tr>\n",
       "      <th>123</th>\n",
       "      <td>123</td>\n",
       "      <td>166.jpg</td>\n",
       "      <td>2860611250205</td>\n",
       "      <td>None</td>\n",
       "      <td>0011033072</td>\n",
       "      <td>1</td>\n",
       "    </tr>\n",
       "    <tr>\n",
       "      <th>166</th>\n",
       "      <td>166</td>\n",
       "      <td>170.jpg</td>\n",
       "      <td>None</td>\n",
       "      <td>None</td>\n",
       "      <td>None</td>\n",
       "      <td>1</td>\n",
       "    </tr>\n",
       "    <tr>\n",
       "      <th>178</th>\n",
       "      <td>178</td>\n",
       "      <td>157.jpg</td>\n",
       "      <td>2860610590685</td>\n",
       "      <td>None</td>\n",
       "      <td>None</td>\n",
       "      <td>1</td>\n",
       "    </tr>\n",
       "    <tr>\n",
       "      <th>185</th>\n",
       "      <td>185</td>\n",
       "      <td>174.jpg</td>\n",
       "      <td>None</td>\n",
       "      <td>None</td>\n",
       "      <td>None</td>\n",
       "      <td>1</td>\n",
       "    </tr>\n",
       "  </tbody>\n",
       "</table>\n",
       "</div>"
      ],
      "text/plain": [
       "      id filename        barcode             doc_type  doc_number  error_list\n",
       "22    22  195.jpg           None                 None        None           1\n",
       "23    23  155.jpg  2860609887666  Товарнам кнакладная  8817053744           1\n",
       "60    60  115.jpg  2860611107011                 None        None           1\n",
       "83    83  168.jpg  2860611147581                 None  0517850744           1\n",
       "90    90  112.jpg  2860609826856                 None        None           1\n",
       "100  100  159.jpg  2860610411164                 None        None           1\n",
       "123  123  166.jpg  2860611250205                 None  0011033072           1\n",
       "166  166  170.jpg           None                 None        None           1\n",
       "178  178  157.jpg  2860610590685                 None        None           1\n",
       "185  185  174.jpg           None                 None        None           1"
      ]
     },
     "execution_count": 56,
     "metadata": {},
     "output_type": "execute_result"
    }
   ],
   "source": [
    "error_df = df[df['error_list'] == 1]\n",
    "error_df"
   ]
  },
  {
   "cell_type": "raw",
   "id": "b00a010e",
   "metadata": {},
   "source": [
    "for i, doc in enumerate(error_df['filename']):\n",
    "    image = cv2.imread(DATA_PATH + doc)\n",
    "    image = cv2.resize(image, (0, 0), fx=0.25, fy=0.25)\n",
    "    filename = df['filename'][i]\n",
    "    barcode_number = df['barcode'][i]\n",
    "    doc_type = df['doc_type'][i]\n",
    "    doc_number = df['doc_number'][i]\n",
    "    \n",
    "    \n",
    "    image = cv2.putText(image, f'{filename}', (300, 50), cv2.FONT_HERSHEY_COMPLEX, 0.7, (255, 0, 0), 2)\n",
    "    image = cv2.putText(image, f'{barcode_number}', (300, 75), cv2.FONT_HERSHEY_COMPLEX, 0.7, (255, 0, 0), 2)\n",
    "    image = cv2.putText(image, f'{doc_type}', (300, 100), cv2.FONT_HERSHEY_COMPLEX, 0.7, (255, 0, 0), 2)\n",
    "    image = cv2.putText(image, f'{doc_number}', (300, 125), cv2.FONT_HERSHEY_COMPLEX, 0.7, (255, 0, 0), 2)\n",
    "\n",
    "    # Displaying the image\n",
    "    cv2.imshow(\"Output\", image)\n",
    "    cv2.waitKey(0)\n",
    "    cv2.destroyAllWindows()"
   ]
  },
  {
   "cell_type": "markdown",
   "id": "65150357",
   "metadata": {},
   "source": [
    "**Вывод**\n",
    "\n",
    "Можно сказать, что деткетор блюра позволил отсеять размытые изображения, их загрузка в SAP нежелательная, поскольку большая часть информации в них потеряна."
   ]
  },
  {
   "cell_type": "markdown",
   "id": "1e4828d4",
   "metadata": {},
   "source": [
    "### Error list = 0"
   ]
  },
  {
   "cell_type": "code",
   "execution_count": 57,
   "id": "02bc6046",
   "metadata": {},
   "outputs": [
    {
     "data": {
      "text/html": [
       "<div>\n",
       "<style scoped>\n",
       "    .dataframe tbody tr th:only-of-type {\n",
       "        vertical-align: middle;\n",
       "    }\n",
       "\n",
       "    .dataframe tbody tr th {\n",
       "        vertical-align: top;\n",
       "    }\n",
       "\n",
       "    .dataframe thead th {\n",
       "        text-align: right;\n",
       "    }\n",
       "</style>\n",
       "<table border=\"1\" class=\"dataframe\">\n",
       "  <thead>\n",
       "    <tr style=\"text-align: right;\">\n",
       "      <th></th>\n",
       "      <th>id</th>\n",
       "      <th>filename</th>\n",
       "      <th>barcode</th>\n",
       "      <th>doc_type</th>\n",
       "      <th>doc_number</th>\n",
       "      <th>error_list</th>\n",
       "    </tr>\n",
       "  </thead>\n",
       "  <tbody>\n",
       "    <tr>\n",
       "      <th>0</th>\n",
       "      <td>0</td>\n",
       "      <td>108.jpg</td>\n",
       "      <td>2860587076540</td>\n",
       "      <td>Товарная накладная</td>\n",
       "      <td>6017110800</td>\n",
       "      <td>0</td>\n",
       "    </tr>\n",
       "    <tr>\n",
       "      <th>1</th>\n",
       "      <td>1</td>\n",
       "      <td>134.jpg</td>\n",
       "      <td>2860592637279</td>\n",
       "      <td>товарная гнакладная</td>\n",
       "      <td>6017253079</td>\n",
       "      <td>0</td>\n",
       "    </tr>\n",
       "    <tr>\n",
       "      <th>2</th>\n",
       "      <td>2</td>\n",
       "      <td>145.jpg</td>\n",
       "      <td>2860601366206</td>\n",
       "      <td>Товарнаяі накладная</td>\n",
       "      <td>6047415447</td>\n",
       "      <td>0</td>\n",
       "    </tr>\n",
       "    <tr>\n",
       "      <th>3</th>\n",
       "      <td>3</td>\n",
       "      <td>020.jpg</td>\n",
       "      <td>2810094798084</td>\n",
       "      <td>Товарная накладная</td>\n",
       "      <td>6010358825</td>\n",
       "      <td>0</td>\n",
       "    </tr>\n",
       "    <tr>\n",
       "      <th>4</th>\n",
       "      <td>4</td>\n",
       "      <td>172.jpg</td>\n",
       "      <td>2860614983032</td>\n",
       "      <td>товарная накладная</td>\n",
       "      <td>6017580463</td>\n",
       "      <td>0</td>\n",
       "    </tr>\n",
       "    <tr>\n",
       "      <th>5</th>\n",
       "      <td>5</td>\n",
       "      <td>030.jpg</td>\n",
       "      <td>2810095110823</td>\n",
       "      <td>Товарная накладная</td>\n",
       "      <td>6010496453</td>\n",
       "      <td>0</td>\n",
       "    </tr>\n",
       "    <tr>\n",
       "      <th>6</th>\n",
       "      <td>6</td>\n",
       "      <td>044.jpg</td>\n",
       "      <td>2860350653671</td>\n",
       "      <td>Товарная накладная</td>\n",
       "      <td>6010495761</td>\n",
       "      <td>0</td>\n",
       "    </tr>\n",
       "    <tr>\n",
       "      <th>7</th>\n",
       "      <td>7</td>\n",
       "      <td>072.jpg</td>\n",
       "      <td>2860356028688</td>\n",
       "      <td>Товарная накладная</td>\n",
       "      <td>6010580640</td>\n",
       "      <td>0</td>\n",
       "    </tr>\n",
       "    <tr>\n",
       "      <th>8</th>\n",
       "      <td>8</td>\n",
       "      <td>183.jpg</td>\n",
       "      <td>2860618787148</td>\n",
       "      <td>товарная накладная</td>\n",
       "      <td>60417651087</td>\n",
       "      <td>0</td>\n",
       "    </tr>\n",
       "    <tr>\n",
       "      <th>9</th>\n",
       "      <td>9</td>\n",
       "      <td>088.jpg</td>\n",
       "      <td>2810078644574</td>\n",
       "      <td>Товарная накладная</td>\n",
       "      <td>6008222134</td>\n",
       "      <td>0</td>\n",
       "    </tr>\n",
       "  </tbody>\n",
       "</table>\n",
       "</div>"
      ],
      "text/plain": [
       "   id filename        barcode             doc_type   doc_number  error_list\n",
       "0   0  108.jpg  2860587076540   Товарная накладная   6017110800           0\n",
       "1   1  134.jpg  2860592637279  товарная гнакладная   6017253079           0\n",
       "2   2  145.jpg  2860601366206  Товарнаяі накладная   6047415447           0\n",
       "3   3  020.jpg  2810094798084   Товарная накладная   6010358825           0\n",
       "4   4  172.jpg  2860614983032   товарная накладная   6017580463           0\n",
       "5   5  030.jpg  2810095110823   Товарная накладная   6010496453           0\n",
       "6   6  044.jpg  2860350653671   Товарная накладная   6010495761           0\n",
       "7   7  072.jpg  2860356028688   Товарная накладная   6010580640           0\n",
       "8   8  183.jpg  2860618787148   товарная накладная  60417651087           0\n",
       "9   9  088.jpg  2810078644574   Товарная накладная   6008222134           0"
      ]
     },
     "execution_count": 57,
     "metadata": {},
     "output_type": "execute_result"
    }
   ],
   "source": [
    "good_df = df[df['error_list'] == 0]\n",
    "good_df.head(10)"
   ]
  },
  {
   "cell_type": "raw",
   "id": "d895dd39",
   "metadata": {},
   "source": [
    "for i, doc in enumerate(good_df['filename']):\n",
    "    image = cv2.imread(DATA_PATH + doc)\n",
    "    image = cv2.resize(image, (0, 0), fx=0.25, fy=0.25)\n",
    "    filename = df['filename'][i]\n",
    "    barcode_number = df['barcode'][i]\n",
    "    doc_type = df['doc_type'][i]\n",
    "    doc_number = df['doc_number'][i]\n",
    "    \n",
    "    \n",
    "    image = cv2.putText(image, f'{filename}', (300, 50), cv2.FONT_HERSHEY_COMPLEX, 0.7, (255, 0, 0), 2)\n",
    "    image = cv2.putText(image, f'{barcode_number}', (300, 75), cv2.FONT_HERSHEY_COMPLEX, 0.7, (255, 0, 0), 2)\n",
    "    image = cv2.putText(image, f'{doc_type}', (300, 100), cv2.FONT_HERSHEY_COMPLEX, 0.7, (255, 0, 0), 2)\n",
    "    image = cv2.putText(image, f'{doc_number}', (300, 125), cv2.FONT_HERSHEY_COMPLEX, 0.7, (255, 0, 0), 2)\n",
    "\n",
    "    # Displaying the image\n",
    "    cv2.imshow(\"Output\", image)\n",
    "    cv2.waitKey(0)\n",
    "    cv2.destroyAllWindows()\n",
    "    \n",
    "    if i == 4:\n",
    "        break"
   ]
  },
  {
   "cell_type": "code",
   "execution_count": 58,
   "id": "46dadbcd",
   "metadata": {},
   "outputs": [
    {
     "name": "stdout",
     "output_type": "stream",
     "text": [
      "<class 'pandas.core.frame.DataFrame'>\n",
      "Int64Index: 193 entries, 0 to 202\n",
      "Data columns (total 6 columns):\n",
      " #   Column      Non-Null Count  Dtype \n",
      "---  ------      --------------  ----- \n",
      " 0   id          193 non-null    int64 \n",
      " 1   filename    193 non-null    object\n",
      " 2   barcode     193 non-null    object\n",
      " 3   doc_type    191 non-null    object\n",
      " 4   doc_number  185 non-null    object\n",
      " 5   error_list  193 non-null    int64 \n",
      "dtypes: int64(2), object(4)\n",
      "memory usage: 10.6+ KB\n"
     ]
    }
   ],
   "source": [
    "good_df.info()"
   ]
  },
  {
   "cell_type": "code",
   "execution_count": 59,
   "id": "d601793b",
   "metadata": {},
   "outputs": [],
   "source": [
    "good_df  = good_df.fillna('None')"
   ]
  },
  {
   "cell_type": "code",
   "execution_count": 60,
   "id": "43cdb3c1",
   "metadata": {},
   "outputs": [
    {
     "name": "stdout",
     "output_type": "stream",
     "text": [
      "<class 'pandas.core.frame.DataFrame'>\n",
      "Int64Index: 193 entries, 0 to 202\n",
      "Data columns (total 6 columns):\n",
      " #   Column      Non-Null Count  Dtype \n",
      "---  ------      --------------  ----- \n",
      " 0   id          193 non-null    int64 \n",
      " 1   filename    193 non-null    object\n",
      " 2   barcode     193 non-null    object\n",
      " 3   doc_type    193 non-null    object\n",
      " 4   doc_number  193 non-null    object\n",
      " 5   error_list  193 non-null    int64 \n",
      "dtypes: int64(2), object(4)\n",
      "memory usage: 10.6+ KB\n"
     ]
    }
   ],
   "source": [
    "good_df.info()"
   ]
  },
  {
   "cell_type": "code",
   "execution_count": 61,
   "id": "1c3ac8c1",
   "metadata": {},
   "outputs": [],
   "source": [
    "good_df = good_df.reset_index(drop=True)"
   ]
  },
  {
   "cell_type": "markdown",
   "id": "57e30e04",
   "metadata": {},
   "source": [
    "**Вывод**\n",
    "\n",
    "Далее будем работать с этим датасетом. Отфильтрованные изображением считаем истинно-положительными."
   ]
  },
  {
   "cell_type": "markdown",
   "id": "600f2cec",
   "metadata": {},
   "source": [
    "### Barcode"
   ]
  },
  {
   "cell_type": "code",
   "execution_count": 62,
   "id": "cc1556d4",
   "metadata": {},
   "outputs": [
    {
     "data": {
      "text/html": [
       "<div>\n",
       "<style scoped>\n",
       "    .dataframe tbody tr th:only-of-type {\n",
       "        vertical-align: middle;\n",
       "    }\n",
       "\n",
       "    .dataframe tbody tr th {\n",
       "        vertical-align: top;\n",
       "    }\n",
       "\n",
       "    .dataframe thead th {\n",
       "        text-align: right;\n",
       "    }\n",
       "</style>\n",
       "<table border=\"1\" class=\"dataframe\">\n",
       "  <thead>\n",
       "    <tr style=\"text-align: right;\">\n",
       "      <th></th>\n",
       "      <th>id</th>\n",
       "      <th>filename</th>\n",
       "      <th>barcode</th>\n",
       "      <th>doc_type</th>\n",
       "      <th>doc_number</th>\n",
       "      <th>error_list</th>\n",
       "    </tr>\n",
       "  </thead>\n",
       "  <tbody>\n",
       "  </tbody>\n",
       "</table>\n",
       "</div>"
      ],
      "text/plain": [
       "Empty DataFrame\n",
       "Columns: [id, filename, barcode, doc_type, doc_number, error_list]\n",
       "Index: []"
      ]
     },
     "execution_count": 62,
     "metadata": {},
     "output_type": "execute_result"
    }
   ],
   "source": [
    "bad_barcode_df = good_df[good_df['barcode'] == 'None'].reset_index(drop=True)\n",
    "bad_barcode_df"
   ]
  },
  {
   "cell_type": "raw",
   "id": "c5b203c6",
   "metadata": {},
   "source": [
    "for i, doc in enumerate(bad_barcode_df['doc_name']):\n",
    "    image = cv2.imread(DATA_PATH + doc)\n",
    "    image = cv2.resize(image, (0, 0), fx=0.25, fy=0.25)\n",
    "    doc_name = bad_barcode_df['doc_name'][i]\n",
    "    barcode_number = bad_barcode_df['barcode_number'][i]\n",
    "    doc_type = bad_barcode_df['doc_type'][i]\n",
    "    doc_number = bad_barcode_df['doc_number'][i]\n",
    "    \n",
    "    \n",
    "    image = cv2.putText(image, f'{doc_name}', (300, 50), cv2.FONT_HERSHEY_COMPLEX, 0.7, (255, 0, 0), 2)\n",
    "    image = cv2.putText(image, f'{barcode_number}', (300, 75), cv2.FONT_HERSHEY_COMPLEX, 0.7, (255, 0, 0), 2)\n",
    "    image = cv2.putText(image, f'{doc_type}', (300, 100), cv2.FONT_HERSHEY_COMPLEX, 0.7, (255, 0, 0), 2)\n",
    "    image = cv2.putText(image, f'{doc_number}', (300, 125), cv2.FONT_HERSHEY_COMPLEX, 0.7, (255, 0, 0), 2)\n",
    "\n",
    "    # Displaying the image\n",
    "    cv2.imshow(\"Output\", image)\n",
    "    cv2.waitKey(0)\n",
    "    cv2.destroyAllWindows()"
   ]
  },
  {
   "cell_type": "code",
   "execution_count": 63,
   "id": "4f9a9dae",
   "metadata": {},
   "outputs": [
    {
     "data": {
      "text/plain": [
       "{}"
      ]
     },
     "execution_count": 63,
     "metadata": {},
     "output_type": "execute_result"
    }
   ],
   "source": [
    "barcode_not_numeric = not_numeric_in_colunm(good_df['barcode'])\n",
    "barcode_not_numeric"
   ]
  },
  {
   "cell_type": "code",
   "execution_count": 64,
   "id": "c0d17918",
   "metadata": {},
   "outputs": [
    {
     "data": {
      "text/plain": [
       "{13: 193}"
      ]
     },
     "execution_count": 64,
     "metadata": {},
     "output_type": "execute_result"
    }
   ],
   "source": [
    "length_of_barcode_numbers = len_of_numbers(good_df['barcode'])\n",
    "length_of_barcode_numbers"
   ]
  },
  {
   "cell_type": "code",
   "execution_count": 65,
   "id": "cc5f4d5d",
   "metadata": {},
   "outputs": [
    {
     "data": {
      "text/plain": [
       "1.0"
      ]
     },
     "execution_count": 65,
     "metadata": {},
     "output_type": "execute_result"
    }
   ],
   "source": [
    "length_of_barcode_numbers[13] / len(good_df)"
   ]
  },
  {
   "cell_type": "code",
   "execution_count": 66,
   "id": "9af8c563",
   "metadata": {},
   "outputs": [
    {
     "data": {
      "text/plain": [
       "[]"
      ]
     },
     "execution_count": 66,
     "metadata": {},
     "output_type": "execute_result"
    }
   ],
   "source": [
    "bad_barcode_list = list(bad_barcode_df['filename'])\n",
    "bad_barcode_list"
   ]
  },
  {
   "cell_type": "markdown",
   "id": "bb3da917",
   "metadata": {},
   "source": [
    "#### Вывод \n",
    "В столбце со штрих-кодами 1 пропущенное значение **None**. Остальные значения соответствуют десятизначным штрих-кодам. Итого можно считать распознанными **99,5%** штрих-кодов."
   ]
  },
  {
   "cell_type": "code",
   "execution_count": null,
   "id": "2234598f",
   "metadata": {},
   "outputs": [],
   "source": []
  },
  {
   "cell_type": "code",
   "execution_count": null,
   "id": "85bc1300",
   "metadata": {},
   "outputs": [],
   "source": []
  },
  {
   "cell_type": "markdown",
   "id": "2c60cf42",
   "metadata": {},
   "source": [
    "### Doc type"
   ]
  },
  {
   "cell_type": "code",
   "execution_count": 67,
   "id": "c398b416",
   "metadata": {},
   "outputs": [
    {
     "data": {
      "text/plain": [
       "array(['Товарная накладная', 'товарная гнакладная', 'Товарнаяі накладная',\n",
       "       'товарная накладная', 'Товарная гнакладная', 'Товарная некладная',\n",
       "       'None', 'Товерная наюладная', 'Товарная накледная',\n",
       "       'Товерная накладная', 'товарнаят накладная', 'Товарная накпадная',\n",
       "       'Товаркая накладная', 'Товарная макладная', 'говарнаяі накледная',\n",
       "       'Товарная нактадная', 'Товарная інакладная', 'товарная наюладная',\n",
       "       'Товарная накладнея', 'товерная накладнал', 'Тонарная накладная',\n",
       "       'товарная накладнаяі'], dtype=object)"
      ]
     },
     "execution_count": 67,
     "metadata": {},
     "output_type": "execute_result"
    }
   ],
   "source": [
    "good_df['doc_type'].unique()"
   ]
  },
  {
   "cell_type": "code",
   "execution_count": 68,
   "id": "6942a7b8",
   "metadata": {},
   "outputs": [
    {
     "data": {
      "text/plain": [
       "Товарная накладная     144\n",
       "товарная накладная      25\n",
       "Товарная гнакладная      4\n",
       "None                     2\n",
       "Товарная макладная       1\n",
       "Тонарная накладная       1\n",
       "товерная накладнал       1\n",
       "Товарная накладнея       1\n",
       "товарная наюладная       1\n",
       "Товарная інакладная      1\n",
       "Товарная нактадная       1\n",
       "говарнаяі накледная      1\n",
       "Товарная накпадная       1\n",
       "Товаркая накладная       1\n",
       "товарная гнакладная      1\n",
       "товарнаят накладная      1\n",
       "Товерная накладная       1\n",
       "Товарная накледная       1\n",
       "Товерная наюладная       1\n",
       "Товарная некладная       1\n",
       "Товарнаяі накладная      1\n",
       "товарная накладнаяі      1\n",
       "Name: doc_type, dtype: int64"
      ]
     },
     "execution_count": 68,
     "metadata": {},
     "output_type": "execute_result"
    }
   ],
   "source": [
    "good_df['doc_type'].value_counts()"
   ]
  },
  {
   "cell_type": "code",
   "execution_count": 69,
   "id": "9d26d028",
   "metadata": {},
   "outputs": [
    {
     "data": {
      "text/plain": [
       "0.9901477832512315"
      ]
     },
     "execution_count": 69,
     "metadata": {},
     "output_type": "execute_result"
    }
   ],
   "source": [
    "1 - len(good_df[good_df['doc_type'] == 'None']) / len(df)"
   ]
  },
  {
   "cell_type": "code",
   "execution_count": 70,
   "id": "2e76d2f8",
   "metadata": {},
   "outputs": [
    {
     "data": {
      "text/html": [
       "<div>\n",
       "<style scoped>\n",
       "    .dataframe tbody tr th:only-of-type {\n",
       "        vertical-align: middle;\n",
       "    }\n",
       "\n",
       "    .dataframe tbody tr th {\n",
       "        vertical-align: top;\n",
       "    }\n",
       "\n",
       "    .dataframe thead th {\n",
       "        text-align: right;\n",
       "    }\n",
       "</style>\n",
       "<table border=\"1\" class=\"dataframe\">\n",
       "  <thead>\n",
       "    <tr style=\"text-align: right;\">\n",
       "      <th></th>\n",
       "      <th>id</th>\n",
       "      <th>filename</th>\n",
       "      <th>barcode</th>\n",
       "      <th>doc_type</th>\n",
       "      <th>doc_number</th>\n",
       "      <th>error_list</th>\n",
       "    </tr>\n",
       "  </thead>\n",
       "  <tbody>\n",
       "    <tr>\n",
       "      <th>31</th>\n",
       "      <td>33</td>\n",
       "      <td>177.jpg</td>\n",
       "      <td>2860617614391</td>\n",
       "      <td>None</td>\n",
       "      <td>6017644991</td>\n",
       "      <td>0</td>\n",
       "    </tr>\n",
       "    <tr>\n",
       "      <th>49</th>\n",
       "      <td>51</td>\n",
       "      <td>146.jpg</td>\n",
       "      <td>2860601473409</td>\n",
       "      <td>None</td>\n",
       "      <td>8817416140</td>\n",
       "      <td>0</td>\n",
       "    </tr>\n",
       "  </tbody>\n",
       "</table>\n",
       "</div>"
      ],
      "text/plain": [
       "    id filename        barcode doc_type  doc_number  error_list\n",
       "31  33  177.jpg  2860617614391     None  6017644991           0\n",
       "49  51  146.jpg  2860601473409     None  8817416140           0"
      ]
     },
     "execution_count": 70,
     "metadata": {},
     "output_type": "execute_result"
    }
   ],
   "source": [
    "bad_doc_type_df = good_df[good_df['doc_type'] == 'None']\n",
    "bad_doc_type_df.head()"
   ]
  },
  {
   "cell_type": "code",
   "execution_count": 71,
   "id": "8a6d8974",
   "metadata": {},
   "outputs": [
    {
     "data": {
      "text/plain": [
       "['177.jpg', '146.jpg']"
      ]
     },
     "execution_count": 71,
     "metadata": {},
     "output_type": "execute_result"
    }
   ],
   "source": [
    "bad_doc_type_list = list(bad_doc_type_df['filename'])\n",
    "bad_doc_type_list"
   ]
  },
  {
   "cell_type": "markdown",
   "id": "26503c0a",
   "metadata": {},
   "source": [
    "#### Вывод \n",
    "В столбце с типами документов 3 пропущенных значения **None**. Также в этом столбце есть почти распознанные данные, например **Товарная накладнея**, **товарная накладнаяi** и другие. В почти распознанных данных допущено по 1 ошибке, так что, можно считать их проходящими по порогу распознавания. Итого качественно распознано 190 типов документов из 193 примеров, или всего **98,5%**."
   ]
  },
  {
   "cell_type": "markdown",
   "id": "21860a1b",
   "metadata": {},
   "source": [
    "### Doc number"
   ]
  },
  {
   "cell_type": "code",
   "execution_count": 72,
   "id": "499194c8",
   "metadata": {},
   "outputs": [
    {
     "data": {
      "text/html": [
       "<div>\n",
       "<style scoped>\n",
       "    .dataframe tbody tr th:only-of-type {\n",
       "        vertical-align: middle;\n",
       "    }\n",
       "\n",
       "    .dataframe tbody tr th {\n",
       "        vertical-align: top;\n",
       "    }\n",
       "\n",
       "    .dataframe thead th {\n",
       "        text-align: right;\n",
       "    }\n",
       "</style>\n",
       "<table border=\"1\" class=\"dataframe\">\n",
       "  <thead>\n",
       "    <tr style=\"text-align: right;\">\n",
       "      <th></th>\n",
       "      <th>id</th>\n",
       "      <th>filename</th>\n",
       "      <th>barcode</th>\n",
       "      <th>doc_type</th>\n",
       "      <th>doc_number</th>\n",
       "      <th>error_list</th>\n",
       "    </tr>\n",
       "  </thead>\n",
       "  <tbody>\n",
       "    <tr>\n",
       "      <th>24</th>\n",
       "      <td>26</td>\n",
       "      <td>148.jpg</td>\n",
       "      <td>2860602715096</td>\n",
       "      <td>Товарная накладная</td>\n",
       "      <td>None</td>\n",
       "      <td>0</td>\n",
       "    </tr>\n",
       "    <tr>\n",
       "      <th>43</th>\n",
       "      <td>45</td>\n",
       "      <td>083.jpg</td>\n",
       "      <td>2810096516426</td>\n",
       "      <td>Товарная накладная</td>\n",
       "      <td>None</td>\n",
       "      <td>0</td>\n",
       "    </tr>\n",
       "    <tr>\n",
       "      <th>48</th>\n",
       "      <td>50</td>\n",
       "      <td>076.jpg</td>\n",
       "      <td>2810096516365</td>\n",
       "      <td>Товарная накладная</td>\n",
       "      <td>None</td>\n",
       "      <td>0</td>\n",
       "    </tr>\n",
       "    <tr>\n",
       "      <th>59</th>\n",
       "      <td>62</td>\n",
       "      <td>079.jpg</td>\n",
       "      <td>2810097409826</td>\n",
       "      <td>Товарная накладная</td>\n",
       "      <td>None</td>\n",
       "      <td>0</td>\n",
       "    </tr>\n",
       "    <tr>\n",
       "      <th>67</th>\n",
       "      <td>70</td>\n",
       "      <td>065.jpg</td>\n",
       "      <td>2810097409826</td>\n",
       "      <td>Товарная накладная</td>\n",
       "      <td>None</td>\n",
       "      <td>0</td>\n",
       "    </tr>\n",
       "    <tr>\n",
       "      <th>105</th>\n",
       "      <td>111</td>\n",
       "      <td>165.jpg</td>\n",
       "      <td>2860611233796</td>\n",
       "      <td>говарнаяі накледная</td>\n",
       "      <td>None</td>\n",
       "      <td>0</td>\n",
       "    </tr>\n",
       "    <tr>\n",
       "      <th>106</th>\n",
       "      <td>112</td>\n",
       "      <td>113.jpg</td>\n",
       "      <td>2860597420210</td>\n",
       "      <td>Товарная гнакладная</td>\n",
       "      <td>None</td>\n",
       "      <td>0</td>\n",
       "    </tr>\n",
       "    <tr>\n",
       "      <th>157</th>\n",
       "      <td>164</td>\n",
       "      <td>081.jpg</td>\n",
       "      <td>2810096516365</td>\n",
       "      <td>Товарная накладная</td>\n",
       "      <td>None</td>\n",
       "      <td>0</td>\n",
       "    </tr>\n",
       "  </tbody>\n",
       "</table>\n",
       "</div>"
      ],
      "text/plain": [
       "      id filename        barcode             doc_type doc_number  error_list\n",
       "24    26  148.jpg  2860602715096   Товарная накладная       None           0\n",
       "43    45  083.jpg  2810096516426   Товарная накладная       None           0\n",
       "48    50  076.jpg  2810096516365   Товарная накладная       None           0\n",
       "59    62  079.jpg  2810097409826   Товарная накладная       None           0\n",
       "67    70  065.jpg  2810097409826   Товарная накладная       None           0\n",
       "105  111  165.jpg  2860611233796  говарнаяі накледная       None           0\n",
       "106  112  113.jpg  2860597420210  Товарная гнакладная       None           0\n",
       "157  164  081.jpg  2810096516365   Товарная накладная       None           0"
      ]
     },
     "execution_count": 72,
     "metadata": {},
     "output_type": "execute_result"
    }
   ],
   "source": [
    "bad_doc_number = good_df[good_df['doc_number'] == 'None']\n",
    "bad_doc_number.head(10)"
   ]
  },
  {
   "cell_type": "code",
   "execution_count": 73,
   "id": "295bc79f",
   "metadata": {},
   "outputs": [
    {
     "data": {
      "text/html": [
       "<div>\n",
       "<style scoped>\n",
       "    .dataframe tbody tr th:only-of-type {\n",
       "        vertical-align: middle;\n",
       "    }\n",
       "\n",
       "    .dataframe tbody tr th {\n",
       "        vertical-align: top;\n",
       "    }\n",
       "\n",
       "    .dataframe thead th {\n",
       "        text-align: right;\n",
       "    }\n",
       "</style>\n",
       "<table border=\"1\" class=\"dataframe\">\n",
       "  <thead>\n",
       "    <tr style=\"text-align: right;\">\n",
       "      <th></th>\n",
       "      <th>id</th>\n",
       "      <th>filename</th>\n",
       "      <th>barcode</th>\n",
       "      <th>doc_type</th>\n",
       "      <th>doc_number</th>\n",
       "      <th>error_list</th>\n",
       "    </tr>\n",
       "  </thead>\n",
       "  <tbody>\n",
       "    <tr>\n",
       "      <th>43</th>\n",
       "      <td>45</td>\n",
       "      <td>083.jpg</td>\n",
       "      <td>2810096516426</td>\n",
       "      <td>Товарная накладная</td>\n",
       "      <td>None</td>\n",
       "      <td>0</td>\n",
       "    </tr>\n",
       "    <tr>\n",
       "      <th>44</th>\n",
       "      <td>46</td>\n",
       "      <td>164.jpg</td>\n",
       "      <td>2860611204697</td>\n",
       "      <td>Товарная накладная</td>\n",
       "      <td>B047539166</td>\n",
       "      <td>0</td>\n",
       "    </tr>\n",
       "    <tr>\n",
       "      <th>48</th>\n",
       "      <td>50</td>\n",
       "      <td>076.jpg</td>\n",
       "      <td>2810096516365</td>\n",
       "      <td>Товарная накладная</td>\n",
       "      <td>None</td>\n",
       "      <td>0</td>\n",
       "    </tr>\n",
       "    <tr>\n",
       "      <th>59</th>\n",
       "      <td>62</td>\n",
       "      <td>079.jpg</td>\n",
       "      <td>2810097409826</td>\n",
       "      <td>Товарная накладная</td>\n",
       "      <td>None</td>\n",
       "      <td>0</td>\n",
       "    </tr>\n",
       "    <tr>\n",
       "      <th>67</th>\n",
       "      <td>70</td>\n",
       "      <td>065.jpg</td>\n",
       "      <td>2810097409826</td>\n",
       "      <td>Товарная накладная</td>\n",
       "      <td>None</td>\n",
       "      <td>0</td>\n",
       "    </tr>\n",
       "    <tr>\n",
       "      <th>93</th>\n",
       "      <td>98</td>\n",
       "      <td>125.jpg</td>\n",
       "      <td>2860582098769</td>\n",
       "      <td>Товарная гнакладная</td>\n",
       "      <td>6Q17073063</td>\n",
       "      <td>0</td>\n",
       "    </tr>\n",
       "    <tr>\n",
       "      <th>105</th>\n",
       "      <td>111</td>\n",
       "      <td>165.jpg</td>\n",
       "      <td>2860611233796</td>\n",
       "      <td>говарнаяі накледная</td>\n",
       "      <td>None</td>\n",
       "      <td>0</td>\n",
       "    </tr>\n",
       "    <tr>\n",
       "      <th>106</th>\n",
       "      <td>112</td>\n",
       "      <td>113.jpg</td>\n",
       "      <td>2860597420210</td>\n",
       "      <td>Товарная гнакладная</td>\n",
       "      <td>None</td>\n",
       "      <td>0</td>\n",
       "    </tr>\n",
       "    <tr>\n",
       "      <th>107</th>\n",
       "      <td>113</td>\n",
       "      <td>180.jpg</td>\n",
       "      <td>2860618473492</td>\n",
       "      <td>товарная накладная</td>\n",
       "      <td>9AOkyKGKK2</td>\n",
       "      <td>0</td>\n",
       "    </tr>\n",
       "    <tr>\n",
       "      <th>157</th>\n",
       "      <td>164</td>\n",
       "      <td>081.jpg</td>\n",
       "      <td>2810096516365</td>\n",
       "      <td>Товарная накладная</td>\n",
       "      <td>None</td>\n",
       "      <td>0</td>\n",
       "    </tr>\n",
       "  </tbody>\n",
       "</table>\n",
       "</div>"
      ],
      "text/plain": [
       "      id filename        barcode             doc_type  doc_number  error_list\n",
       "43    45  083.jpg  2810096516426   Товарная накладная        None           0\n",
       "44    46  164.jpg  2860611204697   Товарная накладная  B047539166           0\n",
       "48    50  076.jpg  2810096516365   Товарная накладная        None           0\n",
       "59    62  079.jpg  2810097409826   Товарная накладная        None           0\n",
       "67    70  065.jpg  2810097409826   Товарная накладная        None           0\n",
       "93    98  125.jpg  2860582098769  Товарная гнакладная  6Q17073063           0\n",
       "105  111  165.jpg  2860611233796  говарнаяі накледная        None           0\n",
       "106  112  113.jpg  2860597420210  Товарная гнакладная        None           0\n",
       "107  113  180.jpg  2860618473492   товарная накладная  9AOkyKGKK2           0\n",
       "157  164  081.jpg  2810096516365   Товарная накладная        None           0"
      ]
     },
     "execution_count": 73,
     "metadata": {},
     "output_type": "execute_result"
    }
   ],
   "source": [
    "bad_doc_number_df = good_df[good_df['doc_number'].str.isnumeric() == False]\n",
    "bad_doc_number_df.tail(10)"
   ]
  },
  {
   "cell_type": "code",
   "execution_count": 74,
   "id": "2520f61c",
   "metadata": {},
   "outputs": [
    {
     "data": {
      "text/plain": [
       "11"
      ]
     },
     "execution_count": 74,
     "metadata": {},
     "output_type": "execute_result"
    }
   ],
   "source": [
    "len(bad_doc_number_df)"
   ]
  },
  {
   "cell_type": "code",
   "execution_count": 75,
   "id": "8f14887f",
   "metadata": {},
   "outputs": [
    {
     "data": {
      "text/plain": [
       "None          8\n",
       "B047539166    1\n",
       "6Q17073063    1\n",
       "9AOkyKGKK2    1\n",
       "Name: doc_number, dtype: int64"
      ]
     },
     "execution_count": 75,
     "metadata": {},
     "output_type": "execute_result"
    }
   ],
   "source": [
    "bad_doc_number_df['doc_number'].value_counts()"
   ]
  },
  {
   "cell_type": "code",
   "execution_count": 76,
   "id": "b797d9d5",
   "metadata": {},
   "outputs": [
    {
     "data": {
      "text/plain": [
       "{24: 'None',\n",
       " 43: 'None',\n",
       " 44: 'B047539166',\n",
       " 48: 'None',\n",
       " 59: 'None',\n",
       " 67: 'None',\n",
       " 93: '6Q17073063',\n",
       " 105: 'None',\n",
       " 106: 'None',\n",
       " 107: '9AOkyKGKK2',\n",
       " 157: 'None'}"
      ]
     },
     "execution_count": 76,
     "metadata": {},
     "output_type": "execute_result"
    }
   ],
   "source": [
    "doc_number_not_numeric = not_numeric_in_colunm(good_df['doc_number'])\n",
    "doc_number_not_numeric"
   ]
  },
  {
   "cell_type": "code",
   "execution_count": 77,
   "id": "816cbfca",
   "metadata": {},
   "outputs": [
    {
     "data": {
      "text/plain": [
       "{10: 180, 11: 2}"
      ]
     },
     "execution_count": 77,
     "metadata": {},
     "output_type": "execute_result"
    }
   ],
   "source": [
    "length_of_doc_numbers = len_of_numbers(good_df['doc_number'])\n",
    "length_of_doc_numbers"
   ]
  },
  {
   "cell_type": "code",
   "execution_count": 78,
   "id": "a60930cf",
   "metadata": {},
   "outputs": [
    {
     "name": "stdout",
     "output_type": "stream",
     "text": [
      "60417651087\n",
      "80175397303\n"
     ]
    }
   ],
   "source": [
    "for i in good_df['doc_number']:\n",
    "    if len(i) > 10:\n",
    "        print(i)"
   ]
  },
  {
   "cell_type": "code",
   "execution_count": 79,
   "id": "f175fc7e",
   "metadata": {},
   "outputs": [
    {
     "data": {
      "text/plain": [
       "0.9326424870466321"
      ]
     },
     "execution_count": 79,
     "metadata": {},
     "output_type": "execute_result"
    }
   ],
   "source": [
    "length_of_doc_numbers[10]/len(good_df)"
   ]
  },
  {
   "cell_type": "code",
   "execution_count": 80,
   "id": "7222f9c2",
   "metadata": {},
   "outputs": [
    {
     "data": {
      "text/plain": [
       "['148.jpg',\n",
       " '083.jpg',\n",
       " '164.jpg',\n",
       " '076.jpg',\n",
       " '079.jpg',\n",
       " '065.jpg',\n",
       " '125.jpg',\n",
       " '165.jpg',\n",
       " '113.jpg',\n",
       " '180.jpg',\n",
       " '081.jpg']"
      ]
     },
     "execution_count": 80,
     "metadata": {},
     "output_type": "execute_result"
    }
   ],
   "source": [
    "bad_doc_number_list = list(bad_doc_number_df['filename'])\n",
    "bad_doc_number_list"
   ]
  },
  {
   "cell_type": "markdown",
   "id": "c4f1ac47",
   "metadata": {},
   "source": [
    "#### Вывод \n",
    "В столбце с номерами документов 124 пропущенных значения. В них фигурируют либо **None** либо нечисловые значения, например **Konmueerue**. Качественно распознано 79 номеров документов из 203 примеров, или всего 38,9%."
   ]
  },
  {
   "cell_type": "markdown",
   "id": "1c48d1a4",
   "metadata": {},
   "source": [
    "## Результат исследования"
   ]
  },
  {
   "cell_type": "code",
   "execution_count": 81,
   "id": "eac216ff",
   "metadata": {},
   "outputs": [],
   "source": [
    "bad_lists_union = sorted(list(set().union(bad_barcode_list, bad_doc_type_list, bad_doc_number_list)))"
   ]
  },
  {
   "cell_type": "code",
   "execution_count": 82,
   "id": "a15a51c1",
   "metadata": {},
   "outputs": [
    {
     "data": {
      "text/plain": [
       "13"
      ]
     },
     "execution_count": 82,
     "metadata": {},
     "output_type": "execute_result"
    }
   ],
   "source": [
    "len(bad_lists_union)"
   ]
  },
  {
   "cell_type": "code",
   "execution_count": 83,
   "id": "6641f466",
   "metadata": {},
   "outputs": [
    {
     "data": {
      "text/plain": [
       "190"
      ]
     },
     "execution_count": 83,
     "metadata": {},
     "output_type": "execute_result"
    }
   ],
   "source": [
    "len(df) - len(bad_lists_union)"
   ]
  },
  {
   "cell_type": "code",
   "execution_count": 84,
   "id": "32d54a75",
   "metadata": {},
   "outputs": [
    {
     "data": {
      "text/plain": [
       "0.9359605911330049"
      ]
     },
     "execution_count": 84,
     "metadata": {},
     "output_type": "execute_result"
    }
   ],
   "source": [
    "1 -len(bad_lists_union) / len(df)"
   ]
  },
  {
   "cell_type": "markdown",
   "id": "985f3851",
   "metadata": {},
   "source": [
    "## Общий вывод"
   ]
  },
  {
   "cell_type": "markdown",
   "id": "f50d122c",
   "metadata": {},
   "source": [
    "Можно считать качественно распознанными 189 документов из 203, что составляет **93%** из тестовых данных."
   ]
  },
  {
   "cell_type": "code",
   "execution_count": null,
   "id": "147a3b19",
   "metadata": {},
   "outputs": [],
   "source": []
  },
  {
   "cell_type": "code",
   "execution_count": null,
   "id": "1d470923",
   "metadata": {},
   "outputs": [],
   "source": []
  },
  {
   "cell_type": "code",
   "execution_count": null,
   "id": "bbc1075f",
   "metadata": {},
   "outputs": [],
   "source": []
  },
  {
   "cell_type": "code",
   "execution_count": null,
   "id": "6b6e6ef3",
   "metadata": {},
   "outputs": [],
   "source": []
  },
  {
   "cell_type": "code",
   "execution_count": null,
   "id": "83214487",
   "metadata": {},
   "outputs": [],
   "source": []
  },
  {
   "cell_type": "code",
   "execution_count": null,
   "id": "9ea2b6ea",
   "metadata": {},
   "outputs": [],
   "source": []
  },
  {
   "cell_type": "code",
   "execution_count": null,
   "id": "b8fa44aa",
   "metadata": {},
   "outputs": [],
   "source": []
  }
 ],
 "metadata": {
  "kernelspec": {
   "display_name": "ocr_data_generation",
   "language": "python",
   "name": "ocr_data_generation"
  },
  "language_info": {
   "codemirror_mode": {
    "name": "ipython",
    "version": 3
   },
   "file_extension": ".py",
   "mimetype": "text/x-python",
   "name": "python",
   "nbconvert_exporter": "python",
   "pygments_lexer": "ipython3",
   "version": "3.9.12"
  }
 },
 "nbformat": 4,
 "nbformat_minor": 5
}
