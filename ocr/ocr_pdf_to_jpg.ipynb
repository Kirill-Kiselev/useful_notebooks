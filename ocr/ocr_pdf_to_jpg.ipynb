{
 "cells": [
  {
   "cell_type": "markdown",
   "id": "18e52271",
   "metadata": {},
   "source": [
    "# Преобразование данных из .pdf в .jpg"
   ]
  },
  {
   "cell_type": "code",
   "execution_count": 1,
   "id": "13331d83",
   "metadata": {},
   "outputs": [],
   "source": [
    "import sys\n",
    "import os\n",
    "import pathlib\n",
    "import shutil\n",
    "import requests\n",
    "from pdf2image import convert_from_path\n",
    "from tqdm import tqdm"
   ]
  },
  {
   "cell_type": "code",
   "execution_count": 2,
   "id": "5cdf0c8a",
   "metadata": {},
   "outputs": [
    {
     "name": "stdout",
     "output_type": "stream",
     "text": [
      "/home/kirillk/PycharmProjects/useful_notebooks/ocr\r\n"
     ]
    }
   ],
   "source": [
    "!pwd"
   ]
  },
  {
   "cell_type": "code",
   "execution_count": 3,
   "id": "8a18ea38",
   "metadata": {},
   "outputs": [],
   "source": [
    "PATH = '/home/kirillk/datasets/OCR/multidocs/_all_docs/'\n",
    "SAVE_IMG_PATH = PATH + 'jpg/'\n",
    "\n",
    "SAMPLE_PATH = PATH + '01752462.pdf'"
   ]
  },
  {
   "cell_type": "code",
   "execution_count": 4,
   "id": "66e58312",
   "metadata": {},
   "outputs": [],
   "source": [
    "files = os.listdir(path=PATH)"
   ]
  },
  {
   "cell_type": "code",
   "execution_count": 5,
   "id": "f1968da8",
   "metadata": {},
   "outputs": [],
   "source": [
    "pages = convert_from_path(SAMPLE_PATH, dpi=300)"
   ]
  },
  {
   "cell_type": "code",
   "execution_count": 6,
   "id": "17df828c",
   "metadata": {},
   "outputs": [
    {
     "data": {
      "text/plain": [
       "2"
      ]
     },
     "execution_count": 6,
     "metadata": {},
     "output_type": "execute_result"
    }
   ],
   "source": [
    "len(pages)"
   ]
  },
  {
   "cell_type": "code",
   "execution_count": 7,
   "id": "ddd0868f",
   "metadata": {},
   "outputs": [],
   "source": [
    "for i, page in enumerate(pages):\n",
    "    fname = 'image' + str(i) + '.jpg'\n",
    "    page.save(SAVE_IMG_PATH + fname, \"JPEG\")"
   ]
  },
  {
   "cell_type": "code",
   "execution_count": 8,
   "id": "18678d45",
   "metadata": {},
   "outputs": [
    {
     "name": "stderr",
     "output_type": "stream",
     "text": [
      "100%|█████████████████████████████████████████████████████████████████████████████████████████████████████████████████| 2702/2702 [3:49:31<00:00,  5.10s/it]"
     ]
    },
    {
     "name": "stdout",
     "output_type": "stream",
     "text": [
      "CPU times: user 16min 19s, sys: 13min 49s, total: 30min 8s\n",
      "Wall time: 3h 49min 31s\n"
     ]
    },
    {
     "name": "stderr",
     "output_type": "stream",
     "text": [
      "\n"
     ]
    }
   ],
   "source": [
    "%%time\n",
    "for file in tqdm(files):\n",
    "    if file.endswith('.pdf'):\n",
    "        pages = convert_from_path(PATH + file, dpi=500)\n",
    "        file_name = file.split('.')[0]\n",
    "        if len(pages) == 1:\n",
    "            page.save(SAVE_IMG_PATH + file_name + '.jpg')\n",
    "        if len(pages) > 1:\n",
    "            for i, page in enumerate(pages):\n",
    "                fname = SAVE_IMG_PATH + file_name + '_' + str(i) + '.jpg'\n",
    "                page.save(fname, \"JPEG\")"
   ]
  },
  {
   "cell_type": "markdown",
   "id": "013d5df4",
   "metadata": {},
   "source": [
    "# Скрипт определения многостраничный документ или нет"
   ]
  },
  {
   "cell_type": "code",
   "execution_count": 13,
   "id": "6a28d62d",
   "metadata": {},
   "outputs": [],
   "source": [
    "PATH = '/home/kirillk/datasets/OCR/ocr_multi_pages/'"
   ]
  },
  {
   "cell_type": "code",
   "execution_count": 25,
   "id": "d72941f0",
   "metadata": {},
   "outputs": [],
   "source": [
    "def multi_pages_pdf(root_dir, multi_pages_pdf_list=[]):\n",
    "    for lists in os.listdir(root_dir):\n",
    "        path = os.path.join(root_dir, lists)\n",
    "        if os.path.isdir(path):\n",
    "            multi_pages_pdf(path)\n",
    "        else:\n",
    "            pages = convert_from_path(path)\n",
    "            if len(pages) > 1:\n",
    "                multi_pages_pdf_list.append(path)\n",
    "    return multi_pages_pdf_list"
   ]
  },
  {
   "cell_type": "code",
   "execution_count": 26,
   "id": "25b73c7b",
   "metadata": {},
   "outputs": [],
   "source": [
    "q = multi_pages_pdf(PATH)"
   ]
  },
  {
   "cell_type": "code",
   "execution_count": 27,
   "id": "b583578e",
   "metadata": {},
   "outputs": [
    {
     "data": {
      "text/plain": [
       "['/home/kirillk/datasets/OCR/ocr_multi_pages/1/6017534882.pdf',\n",
       " '/home/kirillk/datasets/OCR/ocr_multi_pages/1/6017534174.pdf',\n",
       " '/home/kirillk/datasets/OCR/ocr_multi_pages/2/6017537288.pdf',\n",
       " '/home/kirillk/datasets/OCR/ocr_multi_pages/2/6017651726.pdf',\n",
       " '/home/kirillk/datasets/OCR/ocr_multi_pages/2/6017535957.pdf',\n",
       " '/home/kirillk/datasets/OCR/ocr_multi_pages/3/scans_yellow.pdf',\n",
       " '/home/kirillk/datasets/OCR/ocr_multi_pages/3/scans_white.pdf']"
      ]
     },
     "execution_count": 27,
     "metadata": {},
     "output_type": "execute_result"
    }
   ],
   "source": [
    "q"
   ]
  },
  {
   "cell_type": "code",
   "execution_count": null,
   "id": "35d2fd82",
   "metadata": {},
   "outputs": [],
   "source": []
  }
 ],
 "metadata": {
  "kernelspec": {
   "display_name": "ocr_pdf_to_jpg",
   "language": "python",
   "name": "ocr_pdf_to_jpg"
  },
  "language_info": {
   "codemirror_mode": {
    "name": "ipython",
    "version": 3
   },
   "file_extension": ".py",
   "mimetype": "text/x-python",
   "name": "python",
   "nbconvert_exporter": "python",
   "pygments_lexer": "ipython3",
   "version": "3.9.13"
  }
 },
 "nbformat": 4,
 "nbformat_minor": 5
}
