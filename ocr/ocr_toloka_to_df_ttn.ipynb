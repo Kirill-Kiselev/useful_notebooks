{
 "cells": [
  {
   "cell_type": "markdown",
   "id": "cf42bd6c",
   "metadata": {},
   "source": [
    "# Преобразование датасета из Толоки в датасет для бенчмарка "
   ]
  },
  {
   "cell_type": "code",
   "execution_count": 2,
   "id": "1eeee706",
   "metadata": {},
   "outputs": [],
   "source": [
    "import cv2\n",
    "import pandas as pd\n",
    "import os\n",
    "\n",
    "\n",
    "pd.set_option('display.max_columns', 100)\n",
    "pd.set_option('display.max_rows', 100)"
   ]
  },
  {
   "cell_type": "code",
   "execution_count": 3,
   "id": "5ad9f311",
   "metadata": {},
   "outputs": [
    {
     "name": "stdout",
     "output_type": "stream",
     "text": [
      "/home/kirillk/PycharmProjects/useful_notebooks/ocr\r\n"
     ]
    }
   ],
   "source": [
    "!pwd"
   ]
  },
  {
   "cell_type": "code",
   "execution_count": 4,
   "id": "79a7ddc1",
   "metadata": {},
   "outputs": [
    {
     "data": {
      "text/plain": [
       "['tasks_ocr_ttn.tsv', 'assignments_ocr_ttn.tsv']"
      ]
     },
     "execution_count": 4,
     "metadata": {},
     "output_type": "execute_result"
    }
   ],
   "source": [
    "os.listdir('/home/kirillk/Documents/yandex_toloka/ocr_ttn/')"
   ]
  },
  {
   "cell_type": "markdown",
   "id": "06ab00bd",
   "metadata": {},
   "source": [
    "## Загрузка исходного датасета и первичные преобразования"
   ]
  },
  {
   "cell_type": "code",
   "execution_count": 5,
   "id": "3f1dfb0d",
   "metadata": {},
   "outputs": [],
   "source": [
    "df = pd.read_csv('/home/kirillk/Documents/yandex_toloka/ocr_ttn/assignments_ocr_ttn.tsv',\n",
    "                sep='\\t')"
   ]
  },
  {
   "cell_type": "code",
   "execution_count": 6,
   "id": "1b026e98",
   "metadata": {},
   "outputs": [
    {
     "data": {
      "text/html": [
       "<div>\n",
       "<style scoped>\n",
       "    .dataframe tbody tr th:only-of-type {\n",
       "        vertical-align: middle;\n",
       "    }\n",
       "\n",
       "    .dataframe tbody tr th {\n",
       "        vertical-align: top;\n",
       "    }\n",
       "\n",
       "    .dataframe thead th {\n",
       "        text-align: right;\n",
       "    }\n",
       "</style>\n",
       "<table border=\"1\" class=\"dataframe\">\n",
       "  <thead>\n",
       "    <tr style=\"text-align: right;\">\n",
       "      <th></th>\n",
       "      <th>INPUT:image</th>\n",
       "      <th>OUTPUT:path1</th>\n",
       "      <th>OUTPUT:path3</th>\n",
       "      <th>OUTPUT:path4</th>\n",
       "    </tr>\n",
       "  </thead>\n",
       "  <tbody>\n",
       "    <tr>\n",
       "      <th>0</th>\n",
       "      <td>/toloka-proxy-danil-01/ocr_ttn_1/001.jpg</td>\n",
       "      <td>{\"shape\":\"rectangle\"\\,\"left\":0.036891056767540...</td>\n",
       "      <td>2880107901381</td>\n",
       "      <td>0074786723/2053332022</td>\n",
       "    </tr>\n",
       "    <tr>\n",
       "      <th>1</th>\n",
       "      <td>/toloka-proxy-danil-01/ocr_ttn_1/002.jpg</td>\n",
       "      <td>{\"shape\":\"rectangle\"\\,\"left\":0.034492666106048...</td>\n",
       "      <td>2880108066928</td>\n",
       "      <td>0074801020/2053439854</td>\n",
       "    </tr>\n",
       "    <tr>\n",
       "      <th>2</th>\n",
       "      <td>/toloka-proxy-danil-01/ocr_ttn_1/003.jpg</td>\n",
       "      <td>{\"shape\":\"rectangle\"\\,\"left\":0.044061530761221...</td>\n",
       "      <td>2880108067130</td>\n",
       "      <td>0074801108/2053440150</td>\n",
       "    </tr>\n",
       "  </tbody>\n",
       "</table>\n",
       "</div>"
      ],
      "text/plain": [
       "                                INPUT:image  \\\n",
       "0  /toloka-proxy-danil-01/ocr_ttn_1/001.jpg   \n",
       "1  /toloka-proxy-danil-01/ocr_ttn_1/002.jpg   \n",
       "2  /toloka-proxy-danil-01/ocr_ttn_1/003.jpg   \n",
       "\n",
       "                                        OUTPUT:path1   OUTPUT:path3  \\\n",
       "0  {\"shape\":\"rectangle\"\\,\"left\":0.036891056767540...  2880107901381   \n",
       "1  {\"shape\":\"rectangle\"\\,\"left\":0.034492666106048...  2880108066928   \n",
       "2  {\"shape\":\"rectangle\"\\,\"left\":0.044061530761221...  2880108067130   \n",
       "\n",
       "            OUTPUT:path4  \n",
       "0  0074786723/2053332022  \n",
       "1  0074801020/2053439854  \n",
       "2  0074801108/2053440150  "
      ]
     },
     "execution_count": 6,
     "metadata": {},
     "output_type": "execute_result"
    }
   ],
   "source": [
    "df.head(3)"
   ]
  },
  {
   "cell_type": "code",
   "execution_count": 7,
   "id": "62031dd8",
   "metadata": {},
   "outputs": [],
   "source": [
    "df.columns = ['filename', 'rectangles', 'barcode_number', 'doc_number']"
   ]
  },
  {
   "cell_type": "code",
   "execution_count": 8,
   "id": "8f492b00",
   "metadata": {},
   "outputs": [],
   "source": [
    "df['filename'] = df['filename'].apply(lambda x: x.split('/')[-1])"
   ]
  },
  {
   "cell_type": "code",
   "execution_count": 9,
   "id": "f2093579",
   "metadata": {},
   "outputs": [],
   "source": [
    "# df['scan_is_good'] = True"
   ]
  },
  {
   "cell_type": "code",
   "execution_count": 10,
   "id": "9973aca4",
   "metadata": {},
   "outputs": [
    {
     "data": {
      "text/html": [
       "<div>\n",
       "<style scoped>\n",
       "    .dataframe tbody tr th:only-of-type {\n",
       "        vertical-align: middle;\n",
       "    }\n",
       "\n",
       "    .dataframe tbody tr th {\n",
       "        vertical-align: top;\n",
       "    }\n",
       "\n",
       "    .dataframe thead th {\n",
       "        text-align: right;\n",
       "    }\n",
       "</style>\n",
       "<table border=\"1\" class=\"dataframe\">\n",
       "  <thead>\n",
       "    <tr style=\"text-align: right;\">\n",
       "      <th></th>\n",
       "      <th>filename</th>\n",
       "      <th>rectangles</th>\n",
       "      <th>barcode_number</th>\n",
       "      <th>doc_number</th>\n",
       "    </tr>\n",
       "  </thead>\n",
       "  <tbody>\n",
       "    <tr>\n",
       "      <th>0</th>\n",
       "      <td>001.jpg</td>\n",
       "      <td>{\"shape\":\"rectangle\"\\,\"left\":0.036891056767540...</td>\n",
       "      <td>2880107901381</td>\n",
       "      <td>0074786723/2053332022</td>\n",
       "    </tr>\n",
       "    <tr>\n",
       "      <th>1</th>\n",
       "      <td>002.jpg</td>\n",
       "      <td>{\"shape\":\"rectangle\"\\,\"left\":0.034492666106048...</td>\n",
       "      <td>2880108066928</td>\n",
       "      <td>0074801020/2053439854</td>\n",
       "    </tr>\n",
       "    <tr>\n",
       "      <th>2</th>\n",
       "      <td>003.jpg</td>\n",
       "      <td>{\"shape\":\"rectangle\"\\,\"left\":0.044061530761221...</td>\n",
       "      <td>2880108067130</td>\n",
       "      <td>0074801108/2053440150</td>\n",
       "    </tr>\n",
       "    <tr>\n",
       "      <th>3</th>\n",
       "      <td>004.jpg</td>\n",
       "      <td>{\"shape\":\"rectangle\"\\,\"left\":0.045632442846534...</td>\n",
       "      <td>2880108430682</td>\n",
       "      <td>0074837996/2053658941</td>\n",
       "    </tr>\n",
       "    <tr>\n",
       "      <th>4</th>\n",
       "      <td>005.jpg</td>\n",
       "      <td>{\"shape\":\"rectangle\"\\,\"left\":0.035318245138288...</td>\n",
       "      <td>2880108430712</td>\n",
       "      <td>0074837999/2053659636</td>\n",
       "    </tr>\n",
       "  </tbody>\n",
       "</table>\n",
       "</div>"
      ],
      "text/plain": [
       "  filename                                         rectangles  barcode_number  \\\n",
       "0  001.jpg  {\"shape\":\"rectangle\"\\,\"left\":0.036891056767540...   2880107901381   \n",
       "1  002.jpg  {\"shape\":\"rectangle\"\\,\"left\":0.034492666106048...   2880108066928   \n",
       "2  003.jpg  {\"shape\":\"rectangle\"\\,\"left\":0.044061530761221...   2880108067130   \n",
       "3  004.jpg  {\"shape\":\"rectangle\"\\,\"left\":0.045632442846534...   2880108430682   \n",
       "4  005.jpg  {\"shape\":\"rectangle\"\\,\"left\":0.035318245138288...   2880108430712   \n",
       "\n",
       "              doc_number  \n",
       "0  0074786723/2053332022  \n",
       "1  0074801020/2053439854  \n",
       "2  0074801108/2053440150  \n",
       "3  0074837996/2053658941  \n",
       "4  0074837999/2053659636  "
      ]
     },
     "execution_count": 10,
     "metadata": {},
     "output_type": "execute_result"
    }
   ],
   "source": [
    "df.head()"
   ]
  },
  {
   "cell_type": "code",
   "execution_count": 11,
   "id": "76a9ab28",
   "metadata": {},
   "outputs": [
    {
     "data": {
      "text/plain": [
       "(44, 4)"
      ]
     },
     "execution_count": 11,
     "metadata": {},
     "output_type": "execute_result"
    }
   ],
   "source": [
    "df.shape"
   ]
  },
  {
   "cell_type": "markdown",
   "id": "9d5d3cc8",
   "metadata": {},
   "source": [
    "## Подготовка данных в датасете"
   ]
  },
  {
   "cell_type": "markdown",
   "id": "c1c1880e",
   "metadata": {},
   "source": [
    "### Подготовка данных в столбце 'filename'"
   ]
  },
  {
   "cell_type": "code",
   "execution_count": 12,
   "id": "66d9f060",
   "metadata": {},
   "outputs": [
    {
     "data": {
      "text/plain": [
       "array(['001.jpg', '002.jpg', '003.jpg', '004.jpg', '005.jpg', '006.jpg',\n",
       "       '007.jpg', '008.jpg', '009.jpg', '010.jpg', '011.jpg', '012.jpg',\n",
       "       '013.jpg', '014.jpg', '015.jpg', '016.jpg', '017.jpg', '018.jpg',\n",
       "       '019.jpg', '020.jpg', '021.jpg', '022.jpg', '023.jpg', '024.jpg',\n",
       "       '025.jpg', '026.jpg', '027.jpg', '028.jpg', '029.jpg', '030.jpg',\n",
       "       '031.jpg', '032.jpg', '033.jpg', '034.jpg', '035.jpg', '036.jpg',\n",
       "       '037.jpg', '038.jpg', '039.jpg', '040.jpg', '041.jpg', '042.jpg',\n",
       "       '043.jpg', '044.jpg'], dtype=object)"
      ]
     },
     "execution_count": 12,
     "metadata": {},
     "output_type": "execute_result"
    }
   ],
   "source": [
    "df['filename'].unique()"
   ]
  },
  {
   "cell_type": "markdown",
   "id": "b0039520",
   "metadata": {},
   "source": [
    "Данные готовы"
   ]
  },
  {
   "cell_type": "markdown",
   "id": "bbade466",
   "metadata": {},
   "source": [
    "### Подготовка данных в столбце 'barcode_number'"
   ]
  },
  {
   "cell_type": "code",
   "execution_count": 13,
   "id": "06b5763f",
   "metadata": {},
   "outputs": [
    {
     "data": {
      "text/plain": [
       "array([ 2880107901381,  2880108066928,  2880108067130,  2880108430682,\n",
       "        2880108430712,   880109787082,  2880110095657,  2880110225252,\n",
       "        2880110278562,  2880110335722,  2880110326782,  2880110673473,\n",
       "        2880110661296,  2880110724779,        2880110,  2880111337145,\n",
       "        2880111746954,  2880112046077,  2880112090308,  2880112239561,\n",
       "        2880112181051,  2880112587204,  2880112712774,  2880112962339,\n",
       "        2880113182347,  2880113157475,  2880113340853,  2880113356434,\n",
       "        2880113374926, 28801133710792,  2880113371086,  2880113469219,\n",
       "        2880113487794,  2880113560275,   288011387873,  2880113915402,\n",
       "        2880113901238,  2880113999044,  2880113990782,  2880114037332,\n",
       "        2880114032191,  2880114059839,  2880114665719,  2880114688664])"
      ]
     },
     "execution_count": 13,
     "metadata": {},
     "output_type": "execute_result"
    }
   ],
   "source": [
    "df['barcode_number'].unique()"
   ]
  },
  {
   "cell_type": "markdown",
   "id": "d5d25fd1",
   "metadata": {},
   "source": [
    "Нужно преобразовать некоторые номера штрих-кодов."
   ]
  },
  {
   "cell_type": "code",
   "execution_count": 14,
   "id": "a3ba7f41",
   "metadata": {},
   "outputs": [],
   "source": [
    "df['barcode_number'] = df['barcode_number'].astype('str')"
   ]
  },
  {
   "cell_type": "code",
   "execution_count": 15,
   "id": "54ac3a9f",
   "metadata": {},
   "outputs": [
    {
     "data": {
      "text/html": [
       "<div>\n",
       "<style scoped>\n",
       "    .dataframe tbody tr th:only-of-type {\n",
       "        vertical-align: middle;\n",
       "    }\n",
       "\n",
       "    .dataframe tbody tr th {\n",
       "        vertical-align: top;\n",
       "    }\n",
       "\n",
       "    .dataframe thead th {\n",
       "        text-align: right;\n",
       "    }\n",
       "</style>\n",
       "<table border=\"1\" class=\"dataframe\">\n",
       "  <thead>\n",
       "    <tr style=\"text-align: right;\">\n",
       "      <th></th>\n",
       "      <th>filename</th>\n",
       "      <th>rectangles</th>\n",
       "      <th>barcode_number</th>\n",
       "      <th>doc_number</th>\n",
       "    </tr>\n",
       "  </thead>\n",
       "  <tbody>\n",
       "    <tr>\n",
       "      <th>5</th>\n",
       "      <td>006.jpg</td>\n",
       "      <td>{\"shape\":\"rectangle\"\\,\"left\":0.043080328511974...</td>\n",
       "      <td>880109787082</td>\n",
       "      <td>0074955703/2054229575</td>\n",
       "    </tr>\n",
       "    <tr>\n",
       "      <th>14</th>\n",
       "      <td>015.jpg</td>\n",
       "      <td>{\"shape\":\"rectangle\"\\,\"left\":0.040457286871261...</td>\n",
       "      <td>2880110</td>\n",
       "      <td>0075059242/2054752726</td>\n",
       "    </tr>\n",
       "    <tr>\n",
       "      <th>29</th>\n",
       "      <td>030.jpg</td>\n",
       "      <td>{\"shape\":\"rectangle\"\\,\"left\":0.032497078094806...</td>\n",
       "      <td>28801133710792</td>\n",
       "      <td>0075279413/2056283563</td>\n",
       "    </tr>\n",
       "    <tr>\n",
       "      <th>34</th>\n",
       "      <td>035.jpg</td>\n",
       "      <td>{\"shape\":\"rectangle\"\\,\"left\":0.041800047271807...</td>\n",
       "      <td>288011387873</td>\n",
       "      <td>0075325667/2056558356</td>\n",
       "    </tr>\n",
       "  </tbody>\n",
       "</table>\n",
       "</div>"
      ],
      "text/plain": [
       "   filename                                         rectangles  \\\n",
       "5   006.jpg  {\"shape\":\"rectangle\"\\,\"left\":0.043080328511974...   \n",
       "14  015.jpg  {\"shape\":\"rectangle\"\\,\"left\":0.040457286871261...   \n",
       "29  030.jpg  {\"shape\":\"rectangle\"\\,\"left\":0.032497078094806...   \n",
       "34  035.jpg  {\"shape\":\"rectangle\"\\,\"left\":0.041800047271807...   \n",
       "\n",
       "    barcode_number             doc_number  \n",
       "5     880109787082  0074955703/2054229575  \n",
       "14         2880110  0075059242/2054752726  \n",
       "29  28801133710792  0075279413/2056283563  \n",
       "34    288011387873  0075325667/2056558356  "
      ]
     },
     "execution_count": 15,
     "metadata": {},
     "output_type": "execute_result"
    }
   ],
   "source": [
    "df[df['barcode_number'].str.len() !=13]"
   ]
  },
  {
   "cell_type": "code",
   "execution_count": 16,
   "id": "678db5a7",
   "metadata": {},
   "outputs": [
    {
     "data": {
      "text/plain": [
       "'2880109787082'"
      ]
     },
     "execution_count": 16,
     "metadata": {},
     "output_type": "execute_result"
    }
   ],
   "source": [
    "df['barcode_number'][5] = '2880109787082'\n",
    "df['barcode_number'][5]"
   ]
  },
  {
   "cell_type": "code",
   "execution_count": 17,
   "id": "e0da8163",
   "metadata": {},
   "outputs": [
    {
     "data": {
      "text/plain": [
       "'2880110916051'"
      ]
     },
     "execution_count": 17,
     "metadata": {},
     "output_type": "execute_result"
    }
   ],
   "source": [
    "df['barcode_number'][14] = '2880110916051'\n",
    "df['barcode_number'][14]"
   ]
  },
  {
   "cell_type": "code",
   "execution_count": 18,
   "id": "bd9dbd56",
   "metadata": {},
   "outputs": [
    {
     "data": {
      "text/plain": [
       "'2880113371079'"
      ]
     },
     "execution_count": 18,
     "metadata": {},
     "output_type": "execute_result"
    }
   ],
   "source": [
    "df['barcode_number'][29] = '2880113371079'\n",
    "df['barcode_number'][29]"
   ]
  },
  {
   "cell_type": "code",
   "execution_count": 19,
   "id": "ebc9945e",
   "metadata": {},
   "outputs": [
    {
     "data": {
      "text/plain": [
       "'2880113878783'"
      ]
     },
     "execution_count": 19,
     "metadata": {},
     "output_type": "execute_result"
    }
   ],
   "source": [
    "df['barcode_number'][34] = '2880113878783'\n",
    "df['barcode_number'][34]"
   ]
  },
  {
   "cell_type": "code",
   "execution_count": 20,
   "id": "0521f60c",
   "metadata": {},
   "outputs": [
    {
     "data": {
      "text/html": [
       "<div>\n",
       "<style scoped>\n",
       "    .dataframe tbody tr th:only-of-type {\n",
       "        vertical-align: middle;\n",
       "    }\n",
       "\n",
       "    .dataframe tbody tr th {\n",
       "        vertical-align: top;\n",
       "    }\n",
       "\n",
       "    .dataframe thead th {\n",
       "        text-align: right;\n",
       "    }\n",
       "</style>\n",
       "<table border=\"1\" class=\"dataframe\">\n",
       "  <thead>\n",
       "    <tr style=\"text-align: right;\">\n",
       "      <th></th>\n",
       "      <th>filename</th>\n",
       "      <th>rectangles</th>\n",
       "      <th>barcode_number</th>\n",
       "      <th>doc_number</th>\n",
       "    </tr>\n",
       "  </thead>\n",
       "  <tbody>\n",
       "  </tbody>\n",
       "</table>\n",
       "</div>"
      ],
      "text/plain": [
       "Empty DataFrame\n",
       "Columns: [filename, rectangles, barcode_number, doc_number]\n",
       "Index: []"
      ]
     },
     "execution_count": 20,
     "metadata": {},
     "output_type": "execute_result"
    }
   ],
   "source": [
    "df[df['barcode_number'].str.len() !=13]"
   ]
  },
  {
   "cell_type": "markdown",
   "id": "c1f9b7c2",
   "metadata": {},
   "source": [
    "Все номера тринадцатизначной длинны."
   ]
  },
  {
   "cell_type": "markdown",
   "id": "68236872",
   "metadata": {},
   "source": [
    "### Подготовка данных в столбце 'doc_number'"
   ]
  },
  {
   "cell_type": "code",
   "execution_count": 21,
   "id": "e2a554c0",
   "metadata": {},
   "outputs": [
    {
     "data": {
      "text/html": [
       "<div>\n",
       "<style scoped>\n",
       "    .dataframe tbody tr th:only-of-type {\n",
       "        vertical-align: middle;\n",
       "    }\n",
       "\n",
       "    .dataframe tbody tr th {\n",
       "        vertical-align: top;\n",
       "    }\n",
       "\n",
       "    .dataframe thead th {\n",
       "        text-align: right;\n",
       "    }\n",
       "</style>\n",
       "<table border=\"1\" class=\"dataframe\">\n",
       "  <thead>\n",
       "    <tr style=\"text-align: right;\">\n",
       "      <th></th>\n",
       "      <th>filename</th>\n",
       "      <th>rectangles</th>\n",
       "      <th>barcode_number</th>\n",
       "      <th>doc_number</th>\n",
       "    </tr>\n",
       "  </thead>\n",
       "  <tbody>\n",
       "    <tr>\n",
       "      <th>11</th>\n",
       "      <td>012.jpg</td>\n",
       "      <td>{\"shape\":\"rectangle\"\\,\"left\":0.042099142399997...</td>\n",
       "      <td>2880110673473</td>\n",
       "      <td>0075036788/205464798</td>\n",
       "    </tr>\n",
       "    <tr>\n",
       "      <th>12</th>\n",
       "      <td>013.jpg</td>\n",
       "      <td>{\"shape\":\"rectangle\"\\,\"left\":0.056950961348970...</td>\n",
       "      <td>2880110661296</td>\n",
       "      <td>0075034232/20546700</td>\n",
       "    </tr>\n",
       "    <tr>\n",
       "      <th>13</th>\n",
       "      <td>014.jpg</td>\n",
       "      <td>{\"shape\":\"rectangle\"\\,\"left\":0.056784085403379...</td>\n",
       "      <td>2880110724779</td>\n",
       "      <td>0075042351/205470639</td>\n",
       "    </tr>\n",
       "    <tr>\n",
       "      <th>32</th>\n",
       "      <td>033.jpg</td>\n",
       "      <td>{\"shape\":\"rectangle\"\\,\"left\":0.041433587658181...</td>\n",
       "      <td>2880113487794</td>\n",
       "      <td>007591081/2056342193</td>\n",
       "    </tr>\n",
       "  </tbody>\n",
       "</table>\n",
       "</div>"
      ],
      "text/plain": [
       "   filename                                         rectangles barcode_number  \\\n",
       "11  012.jpg  {\"shape\":\"rectangle\"\\,\"left\":0.042099142399997...  2880110673473   \n",
       "12  013.jpg  {\"shape\":\"rectangle\"\\,\"left\":0.056950961348970...  2880110661296   \n",
       "13  014.jpg  {\"shape\":\"rectangle\"\\,\"left\":0.056784085403379...  2880110724779   \n",
       "32  033.jpg  {\"shape\":\"rectangle\"\\,\"left\":0.041433587658181...  2880113487794   \n",
       "\n",
       "              doc_number  \n",
       "11  0075036788/205464798  \n",
       "12   0075034232/20546700  \n",
       "13  0075042351/205470639  \n",
       "32  007591081/2056342193  "
      ]
     },
     "execution_count": 21,
     "metadata": {},
     "output_type": "execute_result"
    }
   ],
   "source": [
    "df[df['doc_number'].str.len() != 21]"
   ]
  },
  {
   "cell_type": "markdown",
   "id": "cbedc9ad",
   "metadata": {},
   "source": [
    "#### Проверим разметку."
   ]
  },
  {
   "cell_type": "markdown",
   "id": "ae3eea59",
   "metadata": {},
   "source": [
    "На фото 012.jpg номер документа реально меньше на одну цифру, чем на других фото.\n",
    "\n",
    "На фото 013.jpg номер документа реально меньше на две цифры, чем на других фото.\n",
    "\n",
    "На фото 014.jpg номер документа реально меньше на одну цифру, чем на других фото."
   ]
  },
  {
   "cell_type": "code",
   "execution_count": 22,
   "id": "d12f2d82",
   "metadata": {},
   "outputs": [
    {
     "data": {
      "text/plain": [
       "'0075291081/2056342193'"
      ]
     },
     "execution_count": 22,
     "metadata": {},
     "output_type": "execute_result"
    }
   ],
   "source": [
    "df['doc_number'][32] = '0075291081/2056342193'\n",
    "df['doc_number'][32]"
   ]
  },
  {
   "cell_type": "markdown",
   "id": "e4c90d37",
   "metadata": {},
   "source": [
    "Для фото 033.jpg была исправлена ошибка в номере документа."
   ]
  },
  {
   "cell_type": "code",
   "execution_count": 23,
   "id": "0e6bc946",
   "metadata": {},
   "outputs": [
    {
     "data": {
      "text/html": [
       "<div>\n",
       "<style scoped>\n",
       "    .dataframe tbody tr th:only-of-type {\n",
       "        vertical-align: middle;\n",
       "    }\n",
       "\n",
       "    .dataframe tbody tr th {\n",
       "        vertical-align: top;\n",
       "    }\n",
       "\n",
       "    .dataframe thead th {\n",
       "        text-align: right;\n",
       "    }\n",
       "</style>\n",
       "<table border=\"1\" class=\"dataframe\">\n",
       "  <thead>\n",
       "    <tr style=\"text-align: right;\">\n",
       "      <th></th>\n",
       "      <th>filename</th>\n",
       "      <th>rectangles</th>\n",
       "      <th>barcode_number</th>\n",
       "      <th>doc_number</th>\n",
       "    </tr>\n",
       "  </thead>\n",
       "  <tbody>\n",
       "    <tr>\n",
       "      <th>11</th>\n",
       "      <td>012.jpg</td>\n",
       "      <td>{\"shape\":\"rectangle\"\\,\"left\":0.042099142399997...</td>\n",
       "      <td>2880110673473</td>\n",
       "      <td>0075036788/205464798</td>\n",
       "    </tr>\n",
       "    <tr>\n",
       "      <th>12</th>\n",
       "      <td>013.jpg</td>\n",
       "      <td>{\"shape\":\"rectangle\"\\,\"left\":0.056950961348970...</td>\n",
       "      <td>2880110661296</td>\n",
       "      <td>0075034232/20546700</td>\n",
       "    </tr>\n",
       "    <tr>\n",
       "      <th>13</th>\n",
       "      <td>014.jpg</td>\n",
       "      <td>{\"shape\":\"rectangle\"\\,\"left\":0.056784085403379...</td>\n",
       "      <td>2880110724779</td>\n",
       "      <td>0075042351/205470639</td>\n",
       "    </tr>\n",
       "  </tbody>\n",
       "</table>\n",
       "</div>"
      ],
      "text/plain": [
       "   filename                                         rectangles barcode_number  \\\n",
       "11  012.jpg  {\"shape\":\"rectangle\"\\,\"left\":0.042099142399997...  2880110673473   \n",
       "12  013.jpg  {\"shape\":\"rectangle\"\\,\"left\":0.056950961348970...  2880110661296   \n",
       "13  014.jpg  {\"shape\":\"rectangle\"\\,\"left\":0.056784085403379...  2880110724779   \n",
       "\n",
       "              doc_number  \n",
       "11  0075036788/205464798  \n",
       "12   0075034232/20546700  \n",
       "13  0075042351/205470639  "
      ]
     },
     "execution_count": 23,
     "metadata": {},
     "output_type": "execute_result"
    }
   ],
   "source": [
    "df[df['doc_number'].str.len() != 21]"
   ]
  },
  {
   "cell_type": "markdown",
   "id": "4cd588e5",
   "metadata": {},
   "source": [
    "Данные в столбце doc_number готовы."
   ]
  },
  {
   "cell_type": "markdown",
   "id": "38502cc4",
   "metadata": {},
   "source": [
    "### Парсинг столбца rectangles"
   ]
  },
  {
   "cell_type": "code",
   "execution_count": 24,
   "id": "57c0b44f",
   "metadata": {},
   "outputs": [],
   "source": [
    "rec = df['rectangles'][0]"
   ]
  },
  {
   "cell_type": "code",
   "execution_count": 25,
   "id": "049c5517",
   "metadata": {},
   "outputs": [],
   "source": [
    "rec = eval(rec.replace('\\\\', ''))"
   ]
  },
  {
   "cell_type": "code",
   "execution_count": 26,
   "id": "c258fdba",
   "metadata": {},
   "outputs": [
    {
     "data": {
      "text/plain": [
       "({'shape': 'rectangle',\n",
       "  'left': 0.03689105676754057,\n",
       "  'top': 0.04137304301448413,\n",
       "  'width': 0.1822116669205581,\n",
       "  'height': 0.05197405707743504,\n",
       "  'label': 'barcode'},\n",
       " {'shape': 'rectangle',\n",
       "  'left': 0.16763519134607313,\n",
       "  'top': 0.0974580424596259,\n",
       "  'width': 0.08571004377926023,\n",
       "  'height': 0.01908651813578123,\n",
       "  'label': 'doc-name'},\n",
       " {'shape': 'rectangle',\n",
       "  'left': 0.3612610287457095,\n",
       "  'top': 0.17674050240825565,\n",
       "  'width': 0.10376518617343855,\n",
       "  'height': 0.016443769470826902,\n",
       "  'label': 'doc-number'})"
      ]
     },
     "execution_count": 26,
     "metadata": {},
     "output_type": "execute_result"
    }
   ],
   "source": [
    "rec"
   ]
  },
  {
   "cell_type": "code",
   "execution_count": 27,
   "id": "ac3f3a93",
   "metadata": {},
   "outputs": [],
   "source": [
    "example = pd.DataFrame(rec).set_index('label').drop('shape', axis=1).T.unstack().to_frame().T"
   ]
  },
  {
   "cell_type": "code",
   "execution_count": 28,
   "id": "686714d8",
   "metadata": {},
   "outputs": [
    {
     "data": {
      "text/html": [
       "<div>\n",
       "<style scoped>\n",
       "    .dataframe tbody tr th:only-of-type {\n",
       "        vertical-align: middle;\n",
       "    }\n",
       "\n",
       "    .dataframe tbody tr th {\n",
       "        vertical-align: top;\n",
       "    }\n",
       "\n",
       "    .dataframe thead tr th {\n",
       "        text-align: left;\n",
       "    }\n",
       "</style>\n",
       "<table border=\"1\" class=\"dataframe\">\n",
       "  <thead>\n",
       "    <tr>\n",
       "      <th>label</th>\n",
       "      <th colspan=\"4\" halign=\"left\">barcode</th>\n",
       "      <th colspan=\"4\" halign=\"left\">doc-name</th>\n",
       "      <th colspan=\"4\" halign=\"left\">doc-number</th>\n",
       "    </tr>\n",
       "    <tr>\n",
       "      <th></th>\n",
       "      <th>left</th>\n",
       "      <th>top</th>\n",
       "      <th>width</th>\n",
       "      <th>height</th>\n",
       "      <th>left</th>\n",
       "      <th>top</th>\n",
       "      <th>width</th>\n",
       "      <th>height</th>\n",
       "      <th>left</th>\n",
       "      <th>top</th>\n",
       "      <th>width</th>\n",
       "      <th>height</th>\n",
       "    </tr>\n",
       "  </thead>\n",
       "  <tbody>\n",
       "    <tr>\n",
       "      <th>0</th>\n",
       "      <td>0.036891</td>\n",
       "      <td>0.041373</td>\n",
       "      <td>0.182212</td>\n",
       "      <td>0.051974</td>\n",
       "      <td>0.167635</td>\n",
       "      <td>0.097458</td>\n",
       "      <td>0.08571</td>\n",
       "      <td>0.019087</td>\n",
       "      <td>0.361261</td>\n",
       "      <td>0.176741</td>\n",
       "      <td>0.103765</td>\n",
       "      <td>0.016444</td>\n",
       "    </tr>\n",
       "  </tbody>\n",
       "</table>\n",
       "</div>"
      ],
      "text/plain": [
       "label   barcode                                doc-name                     \\\n",
       "           left       top     width    height      left       top    width   \n",
       "0      0.036891  0.041373  0.182212  0.051974  0.167635  0.097458  0.08571   \n",
       "\n",
       "label           doc-number                                \n",
       "         height       left       top     width    height  \n",
       "0      0.019087   0.361261  0.176741  0.103765  0.016444  "
      ]
     },
     "execution_count": 28,
     "metadata": {},
     "output_type": "execute_result"
    }
   ],
   "source": [
    "example"
   ]
  },
  {
   "cell_type": "code",
   "execution_count": 29,
   "id": "c428966f",
   "metadata": {},
   "outputs": [
    {
     "data": {
      "text/plain": [
       "MultiIndex([(   'barcode',   'left'),\n",
       "            (   'barcode',    'top'),\n",
       "            (   'barcode',  'width'),\n",
       "            (   'barcode', 'height'),\n",
       "            (  'doc-name',   'left'),\n",
       "            (  'doc-name',    'top'),\n",
       "            (  'doc-name',  'width'),\n",
       "            (  'doc-name', 'height'),\n",
       "            ('doc-number',   'left'),\n",
       "            ('doc-number',    'top'),\n",
       "            ('doc-number',  'width'),\n",
       "            ('doc-number', 'height')],\n",
       "           names=['label', None])"
      ]
     },
     "execution_count": 29,
     "metadata": {},
     "output_type": "execute_result"
    }
   ],
   "source": [
    "example.columns"
   ]
  },
  {
   "cell_type": "code",
   "execution_count": 30,
   "id": "4c1a72e7",
   "metadata": {},
   "outputs": [
    {
     "data": {
      "text/plain": [
       "Index(['barcode_left', 'barcode_top', 'barcode_width', 'barcode_height',\n",
       "       'doc-name_left', 'doc-name_top', 'doc-name_width', 'doc-name_height',\n",
       "       'doc-number_left', 'doc-number_top', 'doc-number_width',\n",
       "       'doc-number_height'],\n",
       "      dtype='object')"
      ]
     },
     "execution_count": 30,
     "metadata": {},
     "output_type": "execute_result"
    }
   ],
   "source": [
    "example.columns = ['_'.join(col) for col in example.columns]\n",
    "example.columns"
   ]
  },
  {
   "cell_type": "code",
   "execution_count": 31,
   "id": "e7105b00",
   "metadata": {},
   "outputs": [
    {
     "data": {
      "text/plain": [
       "'barcode_left'"
      ]
     },
     "execution_count": 31,
     "metadata": {},
     "output_type": "execute_result"
    }
   ],
   "source": [
    "'_'.join(example.columns[0].split('_')[:2])"
   ]
  },
  {
   "cell_type": "code",
   "execution_count": 32,
   "id": "3c69e2a6",
   "metadata": {},
   "outputs": [],
   "source": [
    "new_columns_list = []"
   ]
  },
  {
   "cell_type": "code",
   "execution_count": 33,
   "id": "de06be78",
   "metadata": {},
   "outputs": [],
   "source": [
    "for col in example.columns:\n",
    "#     new_columns_list.append('_'.join(col.split('_')[:1]) + '_box_' + col.split('_')[-1])\n",
    "    new_columns_list.append('_'.join(col.split('_')[:1]) + '_' +col.split('_')[-1])\n",
    "#     print(col)"
   ]
  },
  {
   "cell_type": "code",
   "execution_count": 34,
   "id": "6fc2a135",
   "metadata": {},
   "outputs": [
    {
     "data": {
      "text/plain": [
       "['barcode_left',\n",
       " 'barcode_top',\n",
       " 'barcode_width',\n",
       " 'barcode_height',\n",
       " 'doc-name_left',\n",
       " 'doc-name_top',\n",
       " 'doc-name_width',\n",
       " 'doc-name_height',\n",
       " 'doc-number_left',\n",
       " 'doc-number_top',\n",
       " 'doc-number_width',\n",
       " 'doc-number_height']"
      ]
     },
     "execution_count": 34,
     "metadata": {},
     "output_type": "execute_result"
    }
   ],
   "source": [
    "new_columns_list"
   ]
  },
  {
   "cell_type": "code",
   "execution_count": 35,
   "id": "f0cf2987",
   "metadata": {},
   "outputs": [],
   "source": [
    "example.columns = new_columns_list"
   ]
  },
  {
   "cell_type": "code",
   "execution_count": 36,
   "id": "48851c79",
   "metadata": {},
   "outputs": [],
   "source": [
    "example.columns = example.columns.str.replace('-', '_')"
   ]
  },
  {
   "cell_type": "code",
   "execution_count": 37,
   "id": "035fb496",
   "metadata": {},
   "outputs": [
    {
     "data": {
      "text/plain": [
       "Index(['barcode_left', 'barcode_top', 'barcode_width', 'barcode_height',\n",
       "       'doc_name_left', 'doc_name_top', 'doc_name_width', 'doc_name_height',\n",
       "       'doc_number_left', 'doc_number_top', 'doc_number_width',\n",
       "       'doc_number_height'],\n",
       "      dtype='object')"
      ]
     },
     "execution_count": 37,
     "metadata": {},
     "output_type": "execute_result"
    }
   ],
   "source": [
    "example.columns"
   ]
  },
  {
   "cell_type": "code",
   "execution_count": 38,
   "id": "9325e6b7",
   "metadata": {},
   "outputs": [
    {
     "data": {
      "text/html": [
       "<div>\n",
       "<style scoped>\n",
       "    .dataframe tbody tr th:only-of-type {\n",
       "        vertical-align: middle;\n",
       "    }\n",
       "\n",
       "    .dataframe tbody tr th {\n",
       "        vertical-align: top;\n",
       "    }\n",
       "\n",
       "    .dataframe thead th {\n",
       "        text-align: right;\n",
       "    }\n",
       "</style>\n",
       "<table border=\"1\" class=\"dataframe\">\n",
       "  <thead>\n",
       "    <tr style=\"text-align: right;\">\n",
       "      <th></th>\n",
       "      <th>barcode_left</th>\n",
       "      <th>barcode_top</th>\n",
       "      <th>barcode_width</th>\n",
       "      <th>barcode_height</th>\n",
       "      <th>doc_name_left</th>\n",
       "      <th>doc_name_top</th>\n",
       "      <th>doc_name_width</th>\n",
       "      <th>doc_name_height</th>\n",
       "      <th>doc_number_left</th>\n",
       "      <th>doc_number_top</th>\n",
       "      <th>doc_number_width</th>\n",
       "      <th>doc_number_height</th>\n",
       "    </tr>\n",
       "  </thead>\n",
       "  <tbody>\n",
       "    <tr>\n",
       "      <th>0</th>\n",
       "      <td>0.036891</td>\n",
       "      <td>0.041373</td>\n",
       "      <td>0.182212</td>\n",
       "      <td>0.051974</td>\n",
       "      <td>0.167635</td>\n",
       "      <td>0.097458</td>\n",
       "      <td>0.08571</td>\n",
       "      <td>0.019087</td>\n",
       "      <td>0.361261</td>\n",
       "      <td>0.176741</td>\n",
       "      <td>0.103765</td>\n",
       "      <td>0.016444</td>\n",
       "    </tr>\n",
       "  </tbody>\n",
       "</table>\n",
       "</div>"
      ],
      "text/plain": [
       "   barcode_left  barcode_top  barcode_width  barcode_height  doc_name_left  \\\n",
       "0      0.036891     0.041373       0.182212        0.051974       0.167635   \n",
       "\n",
       "   doc_name_top  doc_name_width  doc_name_height  doc_number_left  \\\n",
       "0      0.097458         0.08571         0.019087         0.361261   \n",
       "\n",
       "   doc_number_top  doc_number_width  doc_number_height  \n",
       "0        0.176741          0.103765           0.016444  "
      ]
     },
     "execution_count": 38,
     "metadata": {},
     "output_type": "execute_result"
    }
   ],
   "source": [
    "example"
   ]
  },
  {
   "cell_type": "code",
   "execution_count": 39,
   "id": "6b80b0b6",
   "metadata": {},
   "outputs": [],
   "source": [
    "rectangles_list = []"
   ]
  },
  {
   "cell_type": "code",
   "execution_count": 40,
   "id": "9accda4d",
   "metadata": {},
   "outputs": [],
   "source": [
    "for rectangles in df['rectangles']:\n",
    "    rectangles = eval(rectangles.replace('\\\\', ''))\n",
    "    rectangles = pd.DataFrame(rectangles).set_index('label').drop('shape', axis=1).T.unstack().to_frame().T\n",
    "    \n",
    "    rectangles.columns = ['_'.join(col) for col in rectangles.columns]\n",
    "    \n",
    "    new_columns_list = []\n",
    "    for col in rectangles.columns:\n",
    "#         new_columns_list.append('_'.join(col.split('_')[:2]) + '_box_' + col.split('_')[-1])\n",
    "        new_columns_list.append('_'.join(col.split('_')[:1]) + '_box_' + col.split('_')[-1])\n",
    "    \n",
    "    rectangles.columns = new_columns_list\n",
    "    \n",
    "    rectangles.columns = rectangles.columns.str.replace('-', '_')\n",
    "    rectangles.columns = rectangles.columns.str.replace('name', 'type')\n",
    "    rectangles_list.append(rectangles)"
   ]
  },
  {
   "cell_type": "code",
   "execution_count": 41,
   "id": "f7fb102e",
   "metadata": {},
   "outputs": [],
   "source": [
    "boxes_table = pd.concat(rectangles_list, ignore_index=True)"
   ]
  },
  {
   "cell_type": "code",
   "execution_count": 42,
   "id": "c168256f",
   "metadata": {},
   "outputs": [
    {
     "data": {
      "text/html": [
       "<div>\n",
       "<style scoped>\n",
       "    .dataframe tbody tr th:only-of-type {\n",
       "        vertical-align: middle;\n",
       "    }\n",
       "\n",
       "    .dataframe tbody tr th {\n",
       "        vertical-align: top;\n",
       "    }\n",
       "\n",
       "    .dataframe thead th {\n",
       "        text-align: right;\n",
       "    }\n",
       "</style>\n",
       "<table border=\"1\" class=\"dataframe\">\n",
       "  <thead>\n",
       "    <tr style=\"text-align: right;\">\n",
       "      <th></th>\n",
       "      <th>barcode_box_left</th>\n",
       "      <th>barcode_box_top</th>\n",
       "      <th>barcode_box_width</th>\n",
       "      <th>barcode_box_height</th>\n",
       "      <th>doc_type_box_left</th>\n",
       "      <th>doc_type_box_top</th>\n",
       "      <th>doc_type_box_width</th>\n",
       "      <th>doc_type_box_height</th>\n",
       "      <th>doc_number_box_left</th>\n",
       "      <th>doc_number_box_top</th>\n",
       "      <th>doc_number_box_width</th>\n",
       "      <th>doc_number_box_height</th>\n",
       "    </tr>\n",
       "  </thead>\n",
       "  <tbody>\n",
       "    <tr>\n",
       "      <th>0</th>\n",
       "      <td>0.036891</td>\n",
       "      <td>0.041373</td>\n",
       "      <td>0.182212</td>\n",
       "      <td>0.051974</td>\n",
       "      <td>0.167635</td>\n",
       "      <td>0.097458</td>\n",
       "      <td>0.085710</td>\n",
       "      <td>0.019087</td>\n",
       "      <td>0.361261</td>\n",
       "      <td>0.176741</td>\n",
       "      <td>0.103765</td>\n",
       "      <td>0.016444</td>\n",
       "    </tr>\n",
       "    <tr>\n",
       "      <th>1</th>\n",
       "      <td>0.034493</td>\n",
       "      <td>0.035611</td>\n",
       "      <td>0.182089</td>\n",
       "      <td>0.049772</td>\n",
       "      <td>0.167335</td>\n",
       "      <td>0.090945</td>\n",
       "      <td>0.084423</td>\n",
       "      <td>0.016688</td>\n",
       "      <td>0.359356</td>\n",
       "      <td>0.170287</td>\n",
       "      <td>0.104494</td>\n",
       "      <td>0.015810</td>\n",
       "    </tr>\n",
       "    <tr>\n",
       "      <th>2</th>\n",
       "      <td>0.044062</td>\n",
       "      <td>0.030233</td>\n",
       "      <td>0.181714</td>\n",
       "      <td>0.054957</td>\n",
       "      <td>0.174441</td>\n",
       "      <td>0.088082</td>\n",
       "      <td>0.086541</td>\n",
       "      <td>0.020247</td>\n",
       "      <td>0.366604</td>\n",
       "      <td>0.170679</td>\n",
       "      <td>0.104713</td>\n",
       "      <td>0.020247</td>\n",
       "    </tr>\n",
       "    <tr>\n",
       "      <th>3</th>\n",
       "      <td>0.045632</td>\n",
       "      <td>0.027665</td>\n",
       "      <td>0.183300</td>\n",
       "      <td>0.055418</td>\n",
       "      <td>0.176841</td>\n",
       "      <td>0.085854</td>\n",
       "      <td>0.085775</td>\n",
       "      <td>0.018565</td>\n",
       "      <td>0.370715</td>\n",
       "      <td>0.167041</td>\n",
       "      <td>0.103204</td>\n",
       "      <td>0.017457</td>\n",
       "    </tr>\n",
       "    <tr>\n",
       "      <th>4</th>\n",
       "      <td>0.035318</td>\n",
       "      <td>0.037956</td>\n",
       "      <td>0.187007</td>\n",
       "      <td>0.055973</td>\n",
       "      <td>0.169280</td>\n",
       "      <td>0.096473</td>\n",
       "      <td>0.087210</td>\n",
       "      <td>0.022050</td>\n",
       "      <td>0.363179</td>\n",
       "      <td>0.173648</td>\n",
       "      <td>0.107289</td>\n",
       "      <td>0.021202</td>\n",
       "    </tr>\n",
       "    <tr>\n",
       "      <th>5</th>\n",
       "      <td>0.043080</td>\n",
       "      <td>0.024237</td>\n",
       "      <td>0.186532</td>\n",
       "      <td>0.054760</td>\n",
       "      <td>0.177269</td>\n",
       "      <td>0.082589</td>\n",
       "      <td>0.087239</td>\n",
       "      <td>0.020199</td>\n",
       "      <td>0.372093</td>\n",
       "      <td>0.166081</td>\n",
       "      <td>0.104088</td>\n",
       "      <td>0.016651</td>\n",
       "    </tr>\n",
       "    <tr>\n",
       "      <th>6</th>\n",
       "      <td>0.056558</td>\n",
       "      <td>0.063214</td>\n",
       "      <td>0.176631</td>\n",
       "      <td>0.046913</td>\n",
       "      <td>0.184158</td>\n",
       "      <td>0.114677</td>\n",
       "      <td>0.083593</td>\n",
       "      <td>0.016775</td>\n",
       "      <td>0.371640</td>\n",
       "      <td>0.189169</td>\n",
       "      <td>0.101879</td>\n",
       "      <td>0.014500</td>\n",
       "    </tr>\n",
       "    <tr>\n",
       "      <th>7</th>\n",
       "      <td>0.033720</td>\n",
       "      <td>0.038058</td>\n",
       "      <td>0.180761</td>\n",
       "      <td>0.050746</td>\n",
       "      <td>0.164449</td>\n",
       "      <td>0.093879</td>\n",
       "      <td>0.085180</td>\n",
       "      <td>0.016746</td>\n",
       "      <td>0.358659</td>\n",
       "      <td>0.171521</td>\n",
       "      <td>0.103830</td>\n",
       "      <td>0.016746</td>\n",
       "    </tr>\n",
       "    <tr>\n",
       "      <th>8</th>\n",
       "      <td>0.057411</td>\n",
       "      <td>0.063246</td>\n",
       "      <td>0.174496</td>\n",
       "      <td>0.049791</td>\n",
       "      <td>0.183400</td>\n",
       "      <td>0.117894</td>\n",
       "      <td>0.082848</td>\n",
       "      <td>0.016394</td>\n",
       "      <td>0.369361</td>\n",
       "      <td>0.194321</td>\n",
       "      <td>0.098513</td>\n",
       "      <td>0.013955</td>\n",
       "    </tr>\n",
       "    <tr>\n",
       "      <th>9</th>\n",
       "      <td>0.035202</td>\n",
       "      <td>0.042186</td>\n",
       "      <td>0.181278</td>\n",
       "      <td>0.049887</td>\n",
       "      <td>0.165755</td>\n",
       "      <td>0.096309</td>\n",
       "      <td>0.085483</td>\n",
       "      <td>0.017884</td>\n",
       "      <td>0.359174</td>\n",
       "      <td>0.176080</td>\n",
       "      <td>0.104443</td>\n",
       "      <td>0.014119</td>\n",
       "    </tr>\n",
       "  </tbody>\n",
       "</table>\n",
       "</div>"
      ],
      "text/plain": [
       "   barcode_box_left  barcode_box_top  barcode_box_width  barcode_box_height  \\\n",
       "0          0.036891         0.041373           0.182212            0.051974   \n",
       "1          0.034493         0.035611           0.182089            0.049772   \n",
       "2          0.044062         0.030233           0.181714            0.054957   \n",
       "3          0.045632         0.027665           0.183300            0.055418   \n",
       "4          0.035318         0.037956           0.187007            0.055973   \n",
       "5          0.043080         0.024237           0.186532            0.054760   \n",
       "6          0.056558         0.063214           0.176631            0.046913   \n",
       "7          0.033720         0.038058           0.180761            0.050746   \n",
       "8          0.057411         0.063246           0.174496            0.049791   \n",
       "9          0.035202         0.042186           0.181278            0.049887   \n",
       "\n",
       "   doc_type_box_left  doc_type_box_top  doc_type_box_width  \\\n",
       "0           0.167635          0.097458            0.085710   \n",
       "1           0.167335          0.090945            0.084423   \n",
       "2           0.174441          0.088082            0.086541   \n",
       "3           0.176841          0.085854            0.085775   \n",
       "4           0.169280          0.096473            0.087210   \n",
       "5           0.177269          0.082589            0.087239   \n",
       "6           0.184158          0.114677            0.083593   \n",
       "7           0.164449          0.093879            0.085180   \n",
       "8           0.183400          0.117894            0.082848   \n",
       "9           0.165755          0.096309            0.085483   \n",
       "\n",
       "   doc_type_box_height  doc_number_box_left  doc_number_box_top  \\\n",
       "0             0.019087             0.361261            0.176741   \n",
       "1             0.016688             0.359356            0.170287   \n",
       "2             0.020247             0.366604            0.170679   \n",
       "3             0.018565             0.370715            0.167041   \n",
       "4             0.022050             0.363179            0.173648   \n",
       "5             0.020199             0.372093            0.166081   \n",
       "6             0.016775             0.371640            0.189169   \n",
       "7             0.016746             0.358659            0.171521   \n",
       "8             0.016394             0.369361            0.194321   \n",
       "9             0.017884             0.359174            0.176080   \n",
       "\n",
       "   doc_number_box_width  doc_number_box_height  \n",
       "0              0.103765               0.016444  \n",
       "1              0.104494               0.015810  \n",
       "2              0.104713               0.020247  \n",
       "3              0.103204               0.017457  \n",
       "4              0.107289               0.021202  \n",
       "5              0.104088               0.016651  \n",
       "6              0.101879               0.014500  \n",
       "7              0.103830               0.016746  \n",
       "8              0.098513               0.013955  \n",
       "9              0.104443               0.014119  "
      ]
     },
     "execution_count": 42,
     "metadata": {},
     "output_type": "execute_result"
    }
   ],
   "source": [
    "boxes_table.head(10)"
   ]
  },
  {
   "cell_type": "code",
   "execution_count": 43,
   "id": "e0ecc339",
   "metadata": {},
   "outputs": [],
   "source": [
    "df = df.join(boxes_table)"
   ]
  },
  {
   "cell_type": "code",
   "execution_count": 44,
   "id": "36ef040f",
   "metadata": {},
   "outputs": [
    {
     "data": {
      "text/html": [
       "<div>\n",
       "<style scoped>\n",
       "    .dataframe tbody tr th:only-of-type {\n",
       "        vertical-align: middle;\n",
       "    }\n",
       "\n",
       "    .dataframe tbody tr th {\n",
       "        vertical-align: top;\n",
       "    }\n",
       "\n",
       "    .dataframe thead th {\n",
       "        text-align: right;\n",
       "    }\n",
       "</style>\n",
       "<table border=\"1\" class=\"dataframe\">\n",
       "  <thead>\n",
       "    <tr style=\"text-align: right;\">\n",
       "      <th></th>\n",
       "      <th>filename</th>\n",
       "      <th>rectangles</th>\n",
       "      <th>barcode_number</th>\n",
       "      <th>doc_number</th>\n",
       "      <th>barcode_box_left</th>\n",
       "      <th>barcode_box_top</th>\n",
       "      <th>barcode_box_width</th>\n",
       "      <th>barcode_box_height</th>\n",
       "      <th>doc_type_box_left</th>\n",
       "      <th>doc_type_box_top</th>\n",
       "      <th>doc_type_box_width</th>\n",
       "      <th>doc_type_box_height</th>\n",
       "      <th>doc_number_box_left</th>\n",
       "      <th>doc_number_box_top</th>\n",
       "      <th>doc_number_box_width</th>\n",
       "      <th>doc_number_box_height</th>\n",
       "    </tr>\n",
       "  </thead>\n",
       "  <tbody>\n",
       "    <tr>\n",
       "      <th>0</th>\n",
       "      <td>001.jpg</td>\n",
       "      <td>{\"shape\":\"rectangle\"\\,\"left\":0.036891056767540...</td>\n",
       "      <td>2880107901381</td>\n",
       "      <td>0074786723/2053332022</td>\n",
       "      <td>0.036891</td>\n",
       "      <td>0.041373</td>\n",
       "      <td>0.182212</td>\n",
       "      <td>0.051974</td>\n",
       "      <td>0.167635</td>\n",
       "      <td>0.097458</td>\n",
       "      <td>0.085710</td>\n",
       "      <td>0.019087</td>\n",
       "      <td>0.361261</td>\n",
       "      <td>0.176741</td>\n",
       "      <td>0.103765</td>\n",
       "      <td>0.016444</td>\n",
       "    </tr>\n",
       "    <tr>\n",
       "      <th>1</th>\n",
       "      <td>002.jpg</td>\n",
       "      <td>{\"shape\":\"rectangle\"\\,\"left\":0.034492666106048...</td>\n",
       "      <td>2880108066928</td>\n",
       "      <td>0074801020/2053439854</td>\n",
       "      <td>0.034493</td>\n",
       "      <td>0.035611</td>\n",
       "      <td>0.182089</td>\n",
       "      <td>0.049772</td>\n",
       "      <td>0.167335</td>\n",
       "      <td>0.090945</td>\n",
       "      <td>0.084423</td>\n",
       "      <td>0.016688</td>\n",
       "      <td>0.359356</td>\n",
       "      <td>0.170287</td>\n",
       "      <td>0.104494</td>\n",
       "      <td>0.015810</td>\n",
       "    </tr>\n",
       "    <tr>\n",
       "      <th>2</th>\n",
       "      <td>003.jpg</td>\n",
       "      <td>{\"shape\":\"rectangle\"\\,\"left\":0.044061530761221...</td>\n",
       "      <td>2880108067130</td>\n",
       "      <td>0074801108/2053440150</td>\n",
       "      <td>0.044062</td>\n",
       "      <td>0.030233</td>\n",
       "      <td>0.181714</td>\n",
       "      <td>0.054957</td>\n",
       "      <td>0.174441</td>\n",
       "      <td>0.088082</td>\n",
       "      <td>0.086541</td>\n",
       "      <td>0.020247</td>\n",
       "      <td>0.366604</td>\n",
       "      <td>0.170679</td>\n",
       "      <td>0.104713</td>\n",
       "      <td>0.020247</td>\n",
       "    </tr>\n",
       "    <tr>\n",
       "      <th>3</th>\n",
       "      <td>004.jpg</td>\n",
       "      <td>{\"shape\":\"rectangle\"\\,\"left\":0.045632442846534...</td>\n",
       "      <td>2880108430682</td>\n",
       "      <td>0074837996/2053658941</td>\n",
       "      <td>0.045632</td>\n",
       "      <td>0.027665</td>\n",
       "      <td>0.183300</td>\n",
       "      <td>0.055418</td>\n",
       "      <td>0.176841</td>\n",
       "      <td>0.085854</td>\n",
       "      <td>0.085775</td>\n",
       "      <td>0.018565</td>\n",
       "      <td>0.370715</td>\n",
       "      <td>0.167041</td>\n",
       "      <td>0.103204</td>\n",
       "      <td>0.017457</td>\n",
       "    </tr>\n",
       "    <tr>\n",
       "      <th>4</th>\n",
       "      <td>005.jpg</td>\n",
       "      <td>{\"shape\":\"rectangle\"\\,\"left\":0.035318245138288...</td>\n",
       "      <td>2880108430712</td>\n",
       "      <td>0074837999/2053659636</td>\n",
       "      <td>0.035318</td>\n",
       "      <td>0.037956</td>\n",
       "      <td>0.187007</td>\n",
       "      <td>0.055973</td>\n",
       "      <td>0.169280</td>\n",
       "      <td>0.096473</td>\n",
       "      <td>0.087210</td>\n",
       "      <td>0.022050</td>\n",
       "      <td>0.363179</td>\n",
       "      <td>0.173648</td>\n",
       "      <td>0.107289</td>\n",
       "      <td>0.021202</td>\n",
       "    </tr>\n",
       "  </tbody>\n",
       "</table>\n",
       "</div>"
      ],
      "text/plain": [
       "  filename                                         rectangles barcode_number  \\\n",
       "0  001.jpg  {\"shape\":\"rectangle\"\\,\"left\":0.036891056767540...  2880107901381   \n",
       "1  002.jpg  {\"shape\":\"rectangle\"\\,\"left\":0.034492666106048...  2880108066928   \n",
       "2  003.jpg  {\"shape\":\"rectangle\"\\,\"left\":0.044061530761221...  2880108067130   \n",
       "3  004.jpg  {\"shape\":\"rectangle\"\\,\"left\":0.045632442846534...  2880108430682   \n",
       "4  005.jpg  {\"shape\":\"rectangle\"\\,\"left\":0.035318245138288...  2880108430712   \n",
       "\n",
       "              doc_number  barcode_box_left  barcode_box_top  \\\n",
       "0  0074786723/2053332022          0.036891         0.041373   \n",
       "1  0074801020/2053439854          0.034493         0.035611   \n",
       "2  0074801108/2053440150          0.044062         0.030233   \n",
       "3  0074837996/2053658941          0.045632         0.027665   \n",
       "4  0074837999/2053659636          0.035318         0.037956   \n",
       "\n",
       "   barcode_box_width  barcode_box_height  doc_type_box_left  doc_type_box_top  \\\n",
       "0           0.182212            0.051974           0.167635          0.097458   \n",
       "1           0.182089            0.049772           0.167335          0.090945   \n",
       "2           0.181714            0.054957           0.174441          0.088082   \n",
       "3           0.183300            0.055418           0.176841          0.085854   \n",
       "4           0.187007            0.055973           0.169280          0.096473   \n",
       "\n",
       "   doc_type_box_width  doc_type_box_height  doc_number_box_left  \\\n",
       "0            0.085710             0.019087             0.361261   \n",
       "1            0.084423             0.016688             0.359356   \n",
       "2            0.086541             0.020247             0.366604   \n",
       "3            0.085775             0.018565             0.370715   \n",
       "4            0.087210             0.022050             0.363179   \n",
       "\n",
       "   doc_number_box_top  doc_number_box_width  doc_number_box_height  \n",
       "0            0.176741              0.103765               0.016444  \n",
       "1            0.170287              0.104494               0.015810  \n",
       "2            0.170679              0.104713               0.020247  \n",
       "3            0.167041              0.103204               0.017457  \n",
       "4            0.173648              0.107289               0.021202  "
      ]
     },
     "execution_count": 44,
     "metadata": {},
     "output_type": "execute_result"
    }
   ],
   "source": [
    "df.head()"
   ]
  },
  {
   "cell_type": "markdown",
   "id": "51db4b3e",
   "metadata": {},
   "source": [
    "### Проверка join"
   ]
  },
  {
   "cell_type": "code",
   "execution_count": 45,
   "id": "4824c9f3",
   "metadata": {},
   "outputs": [],
   "source": [
    "for idx, num in enumerate(df['doc_type_box_left']):\n",
    "    if str(num) not in df['rectangles'][idx]:\n",
    "        print(idx, 'NOT ok')"
   ]
  },
  {
   "cell_type": "markdown",
   "id": "ec78aa89",
   "metadata": {},
   "source": [
    "### Готовый датасет"
   ]
  },
  {
   "cell_type": "code",
   "execution_count": 46,
   "id": "bf61cfca",
   "metadata": {},
   "outputs": [],
   "source": [
    "df = df.drop('rectangles', axis=1)"
   ]
  },
  {
   "cell_type": "code",
   "execution_count": 47,
   "id": "71f640e0",
   "metadata": {},
   "outputs": [
    {
     "data": {
      "text/html": [
       "<div>\n",
       "<style scoped>\n",
       "    .dataframe tbody tr th:only-of-type {\n",
       "        vertical-align: middle;\n",
       "    }\n",
       "\n",
       "    .dataframe tbody tr th {\n",
       "        vertical-align: top;\n",
       "    }\n",
       "\n",
       "    .dataframe thead th {\n",
       "        text-align: right;\n",
       "    }\n",
       "</style>\n",
       "<table border=\"1\" class=\"dataframe\">\n",
       "  <thead>\n",
       "    <tr style=\"text-align: right;\">\n",
       "      <th></th>\n",
       "      <th>filename</th>\n",
       "      <th>barcode_number</th>\n",
       "      <th>doc_number</th>\n",
       "      <th>barcode_box_left</th>\n",
       "      <th>barcode_box_top</th>\n",
       "      <th>barcode_box_width</th>\n",
       "      <th>barcode_box_height</th>\n",
       "      <th>doc_type_box_left</th>\n",
       "      <th>doc_type_box_top</th>\n",
       "      <th>doc_type_box_width</th>\n",
       "      <th>doc_type_box_height</th>\n",
       "      <th>doc_number_box_left</th>\n",
       "      <th>doc_number_box_top</th>\n",
       "      <th>doc_number_box_width</th>\n",
       "      <th>doc_number_box_height</th>\n",
       "    </tr>\n",
       "  </thead>\n",
       "  <tbody>\n",
       "    <tr>\n",
       "      <th>0</th>\n",
       "      <td>001.jpg</td>\n",
       "      <td>2880107901381</td>\n",
       "      <td>0074786723/2053332022</td>\n",
       "      <td>0.036891</td>\n",
       "      <td>0.041373</td>\n",
       "      <td>0.182212</td>\n",
       "      <td>0.051974</td>\n",
       "      <td>0.167635</td>\n",
       "      <td>0.097458</td>\n",
       "      <td>0.085710</td>\n",
       "      <td>0.019087</td>\n",
       "      <td>0.361261</td>\n",
       "      <td>0.176741</td>\n",
       "      <td>0.103765</td>\n",
       "      <td>0.016444</td>\n",
       "    </tr>\n",
       "    <tr>\n",
       "      <th>1</th>\n",
       "      <td>002.jpg</td>\n",
       "      <td>2880108066928</td>\n",
       "      <td>0074801020/2053439854</td>\n",
       "      <td>0.034493</td>\n",
       "      <td>0.035611</td>\n",
       "      <td>0.182089</td>\n",
       "      <td>0.049772</td>\n",
       "      <td>0.167335</td>\n",
       "      <td>0.090945</td>\n",
       "      <td>0.084423</td>\n",
       "      <td>0.016688</td>\n",
       "      <td>0.359356</td>\n",
       "      <td>0.170287</td>\n",
       "      <td>0.104494</td>\n",
       "      <td>0.015810</td>\n",
       "    </tr>\n",
       "    <tr>\n",
       "      <th>2</th>\n",
       "      <td>003.jpg</td>\n",
       "      <td>2880108067130</td>\n",
       "      <td>0074801108/2053440150</td>\n",
       "      <td>0.044062</td>\n",
       "      <td>0.030233</td>\n",
       "      <td>0.181714</td>\n",
       "      <td>0.054957</td>\n",
       "      <td>0.174441</td>\n",
       "      <td>0.088082</td>\n",
       "      <td>0.086541</td>\n",
       "      <td>0.020247</td>\n",
       "      <td>0.366604</td>\n",
       "      <td>0.170679</td>\n",
       "      <td>0.104713</td>\n",
       "      <td>0.020247</td>\n",
       "    </tr>\n",
       "    <tr>\n",
       "      <th>3</th>\n",
       "      <td>004.jpg</td>\n",
       "      <td>2880108430682</td>\n",
       "      <td>0074837996/2053658941</td>\n",
       "      <td>0.045632</td>\n",
       "      <td>0.027665</td>\n",
       "      <td>0.183300</td>\n",
       "      <td>0.055418</td>\n",
       "      <td>0.176841</td>\n",
       "      <td>0.085854</td>\n",
       "      <td>0.085775</td>\n",
       "      <td>0.018565</td>\n",
       "      <td>0.370715</td>\n",
       "      <td>0.167041</td>\n",
       "      <td>0.103204</td>\n",
       "      <td>0.017457</td>\n",
       "    </tr>\n",
       "    <tr>\n",
       "      <th>4</th>\n",
       "      <td>005.jpg</td>\n",
       "      <td>2880108430712</td>\n",
       "      <td>0074837999/2053659636</td>\n",
       "      <td>0.035318</td>\n",
       "      <td>0.037956</td>\n",
       "      <td>0.187007</td>\n",
       "      <td>0.055973</td>\n",
       "      <td>0.169280</td>\n",
       "      <td>0.096473</td>\n",
       "      <td>0.087210</td>\n",
       "      <td>0.022050</td>\n",
       "      <td>0.363179</td>\n",
       "      <td>0.173648</td>\n",
       "      <td>0.107289</td>\n",
       "      <td>0.021202</td>\n",
       "    </tr>\n",
       "    <tr>\n",
       "      <th>5</th>\n",
       "      <td>006.jpg</td>\n",
       "      <td>2880109787082</td>\n",
       "      <td>0074955703/2054229575</td>\n",
       "      <td>0.043080</td>\n",
       "      <td>0.024237</td>\n",
       "      <td>0.186532</td>\n",
       "      <td>0.054760</td>\n",
       "      <td>0.177269</td>\n",
       "      <td>0.082589</td>\n",
       "      <td>0.087239</td>\n",
       "      <td>0.020199</td>\n",
       "      <td>0.372093</td>\n",
       "      <td>0.166081</td>\n",
       "      <td>0.104088</td>\n",
       "      <td>0.016651</td>\n",
       "    </tr>\n",
       "    <tr>\n",
       "      <th>6</th>\n",
       "      <td>007.jpg</td>\n",
       "      <td>2880110095657</td>\n",
       "      <td>0074983497/2054390170</td>\n",
       "      <td>0.056558</td>\n",
       "      <td>0.063214</td>\n",
       "      <td>0.176631</td>\n",
       "      <td>0.046913</td>\n",
       "      <td>0.184158</td>\n",
       "      <td>0.114677</td>\n",
       "      <td>0.083593</td>\n",
       "      <td>0.016775</td>\n",
       "      <td>0.371640</td>\n",
       "      <td>0.189169</td>\n",
       "      <td>0.101879</td>\n",
       "      <td>0.014500</td>\n",
       "    </tr>\n",
       "    <tr>\n",
       "      <th>7</th>\n",
       "      <td>008.jpg</td>\n",
       "      <td>2880110225252</td>\n",
       "      <td>0074995162/2054442486</td>\n",
       "      <td>0.033720</td>\n",
       "      <td>0.038058</td>\n",
       "      <td>0.180761</td>\n",
       "      <td>0.050746</td>\n",
       "      <td>0.164449</td>\n",
       "      <td>0.093879</td>\n",
       "      <td>0.085180</td>\n",
       "      <td>0.016746</td>\n",
       "      <td>0.358659</td>\n",
       "      <td>0.171521</td>\n",
       "      <td>0.103830</td>\n",
       "      <td>0.016746</td>\n",
       "    </tr>\n",
       "    <tr>\n",
       "      <th>8</th>\n",
       "      <td>009.jpg</td>\n",
       "      <td>2880110278562</td>\n",
       "      <td>0075001744/2054475227</td>\n",
       "      <td>0.057411</td>\n",
       "      <td>0.063246</td>\n",
       "      <td>0.174496</td>\n",
       "      <td>0.049791</td>\n",
       "      <td>0.183400</td>\n",
       "      <td>0.117894</td>\n",
       "      <td>0.082848</td>\n",
       "      <td>0.016394</td>\n",
       "      <td>0.369361</td>\n",
       "      <td>0.194321</td>\n",
       "      <td>0.098513</td>\n",
       "      <td>0.013955</td>\n",
       "    </tr>\n",
       "    <tr>\n",
       "      <th>9</th>\n",
       "      <td>010.jpg</td>\n",
       "      <td>2880110335722</td>\n",
       "      <td>0075005620/2054494573</td>\n",
       "      <td>0.035202</td>\n",
       "      <td>0.042186</td>\n",
       "      <td>0.181278</td>\n",
       "      <td>0.049887</td>\n",
       "      <td>0.165755</td>\n",
       "      <td>0.096309</td>\n",
       "      <td>0.085483</td>\n",
       "      <td>0.017884</td>\n",
       "      <td>0.359174</td>\n",
       "      <td>0.176080</td>\n",
       "      <td>0.104443</td>\n",
       "      <td>0.014119</td>\n",
       "    </tr>\n",
       "  </tbody>\n",
       "</table>\n",
       "</div>"
      ],
      "text/plain": [
       "  filename barcode_number             doc_number  barcode_box_left  \\\n",
       "0  001.jpg  2880107901381  0074786723/2053332022          0.036891   \n",
       "1  002.jpg  2880108066928  0074801020/2053439854          0.034493   \n",
       "2  003.jpg  2880108067130  0074801108/2053440150          0.044062   \n",
       "3  004.jpg  2880108430682  0074837996/2053658941          0.045632   \n",
       "4  005.jpg  2880108430712  0074837999/2053659636          0.035318   \n",
       "5  006.jpg  2880109787082  0074955703/2054229575          0.043080   \n",
       "6  007.jpg  2880110095657  0074983497/2054390170          0.056558   \n",
       "7  008.jpg  2880110225252  0074995162/2054442486          0.033720   \n",
       "8  009.jpg  2880110278562  0075001744/2054475227          0.057411   \n",
       "9  010.jpg  2880110335722  0075005620/2054494573          0.035202   \n",
       "\n",
       "   barcode_box_top  barcode_box_width  barcode_box_height  doc_type_box_left  \\\n",
       "0         0.041373           0.182212            0.051974           0.167635   \n",
       "1         0.035611           0.182089            0.049772           0.167335   \n",
       "2         0.030233           0.181714            0.054957           0.174441   \n",
       "3         0.027665           0.183300            0.055418           0.176841   \n",
       "4         0.037956           0.187007            0.055973           0.169280   \n",
       "5         0.024237           0.186532            0.054760           0.177269   \n",
       "6         0.063214           0.176631            0.046913           0.184158   \n",
       "7         0.038058           0.180761            0.050746           0.164449   \n",
       "8         0.063246           0.174496            0.049791           0.183400   \n",
       "9         0.042186           0.181278            0.049887           0.165755   \n",
       "\n",
       "   doc_type_box_top  doc_type_box_width  doc_type_box_height  \\\n",
       "0          0.097458            0.085710             0.019087   \n",
       "1          0.090945            0.084423             0.016688   \n",
       "2          0.088082            0.086541             0.020247   \n",
       "3          0.085854            0.085775             0.018565   \n",
       "4          0.096473            0.087210             0.022050   \n",
       "5          0.082589            0.087239             0.020199   \n",
       "6          0.114677            0.083593             0.016775   \n",
       "7          0.093879            0.085180             0.016746   \n",
       "8          0.117894            0.082848             0.016394   \n",
       "9          0.096309            0.085483             0.017884   \n",
       "\n",
       "   doc_number_box_left  doc_number_box_top  doc_number_box_width  \\\n",
       "0             0.361261            0.176741              0.103765   \n",
       "1             0.359356            0.170287              0.104494   \n",
       "2             0.366604            0.170679              0.104713   \n",
       "3             0.370715            0.167041              0.103204   \n",
       "4             0.363179            0.173648              0.107289   \n",
       "5             0.372093            0.166081              0.104088   \n",
       "6             0.371640            0.189169              0.101879   \n",
       "7             0.358659            0.171521              0.103830   \n",
       "8             0.369361            0.194321              0.098513   \n",
       "9             0.359174            0.176080              0.104443   \n",
       "\n",
       "   doc_number_box_height  \n",
       "0               0.016444  \n",
       "1               0.015810  \n",
       "2               0.020247  \n",
       "3               0.017457  \n",
       "4               0.021202  \n",
       "5               0.016651  \n",
       "6               0.014500  \n",
       "7               0.016746  \n",
       "8               0.013955  \n",
       "9               0.014119  "
      ]
     },
     "execution_count": 47,
     "metadata": {},
     "output_type": "execute_result"
    }
   ],
   "source": [
    "df.head(10)"
   ]
  },
  {
   "cell_type": "markdown",
   "id": "fcd31808",
   "metadata": {},
   "source": [
    "## Проверка на изображениях"
   ]
  },
  {
   "cell_type": "code",
   "execution_count": 52,
   "id": "30cdac2c",
   "metadata": {},
   "outputs": [],
   "source": [
    "mapping_prefix_value = {\n",
    "    'barcode_box_': 'barcode_number',\n",
    "    'doc_type_box_': 'doctype',\n",
    "    'doc_number_box_': 'doc_number'\n",
    "}"
   ]
  },
  {
   "cell_type": "code",
   "execution_count": 54,
   "id": "ecf4d241",
   "metadata": {},
   "outputs": [],
   "source": [
    "for index, row in df.iterrows():\n",
    "    if index > 1:\n",
    "        image = cv2.imread('/home/kirillk/datasets/OCR/ocr_ttn/jpg/first_pages/' + row['filename'])\n",
    "        image = cv2.resize(image, (0, 0), fx=0.6, fy=0.6)\n",
    "        height, width, _ = image.shape\n",
    "\n",
    "        for prefix, value in mapping_prefix_value.items():\n",
    "            x1 = int(row[prefix + 'left'] * width)\n",
    "            y1 = int(row[prefix + 'top'] * height)\n",
    "            x2 = int((row[prefix + 'left'] + row[prefix + 'width']) * width)\n",
    "            y2 = int((row[prefix + 'top'] + row[prefix + 'height']) * height)\n",
    "\n",
    "            image = cv2.rectangle(image, (x1, y1), (x2, y2), (0, 0, 255), 4)\n",
    "            image = cv2.putText(image, \n",
    "                                str(row.get(value, default='')), \n",
    "                                (x1, y2 + 70),\n",
    "                                cv2.FONT_HERSHEY_SIMPLEX,\n",
    "                                #0,\n",
    "                                1,\n",
    "                                (0, 0, 255),\n",
    "                                2)\n",
    "\n",
    "            cv2.imshow('Document', image)\n",
    "\n",
    "            key = cv2.waitKey(0) & 0xFF\n",
    "\n",
    "            if key == ord('q'):\n",
    "                break\n",
    "    \n",
    "    cv2.destroyAllWindows()\n",
    "    if index == 5:\n",
    "        break"
   ]
  },
  {
   "cell_type": "code",
   "execution_count": 55,
   "id": "80e89416",
   "metadata": {},
   "outputs": [],
   "source": [
    "for index, row in df.iterrows():\n",
    "    image = cv2.imread('/home/kirillk/datasets/OCR/ocr_ttn/jpg/first_pages/' + row['filename'])\n",
    "    image = cv2.resize(image, (0, 0), fx=0.6, fy=0.6)\n",
    "    height, width, _ = image.shape\n",
    "\n",
    "    for prefix, value in mapping_prefix_value.items():\n",
    "        x1 = int(row[prefix + 'left'] * width)\n",
    "        y1 = int(row[prefix + 'top'] * height)\n",
    "        x2 = int((row[prefix + 'left'] + row[prefix + 'width']) * width)\n",
    "        y2 = int((row[prefix + 'top'] + row[prefix + 'height']) * height)\n",
    "\n",
    "        image = cv2.rectangle(image, (x1, y1), (x2, y2), (0, 0, 255), 4)\n",
    "        image = cv2.putText(image, \n",
    "                            str(row.get(value, default='')), \n",
    "                            (x1, y2 + 70),\n",
    "                            cv2.FONT_HERSHEY_SIMPLEX,\n",
    "                            #0,\n",
    "                            1,\n",
    "                            (0, 0, 255),\n",
    "                            2)\n",
    "\n",
    "        cv2.imshow('Document', image)\n",
    "\n",
    "        key = cv2.waitKey(0) & 0xFF\n",
    "\n",
    "        if key == ord('q'):\n",
    "            break\n",
    "    \n",
    "    cv2.destroyAllWindows()"
   ]
  },
  {
   "cell_type": "code",
   "execution_count": 56,
   "id": "fa121d0b",
   "metadata": {},
   "outputs": [
    {
     "name": "stdout",
     "output_type": "stream",
     "text": [
      "<class 'pandas.core.frame.DataFrame'>\n",
      "RangeIndex: 44 entries, 0 to 43\n",
      "Data columns (total 15 columns):\n",
      " #   Column                 Non-Null Count  Dtype  \n",
      "---  ------                 --------------  -----  \n",
      " 0   filename               44 non-null     object \n",
      " 1   barcode_number         44 non-null     object \n",
      " 2   doc_number             44 non-null     object \n",
      " 3   barcode_box_left       44 non-null     float64\n",
      " 4   barcode_box_top        44 non-null     float64\n",
      " 5   barcode_box_width      44 non-null     float64\n",
      " 6   barcode_box_height     44 non-null     float64\n",
      " 7   doc_type_box_left      44 non-null     float64\n",
      " 8   doc_type_box_top       44 non-null     float64\n",
      " 9   doc_type_box_width     44 non-null     float64\n",
      " 10  doc_type_box_height    44 non-null     float64\n",
      " 11  doc_number_box_left    44 non-null     float64\n",
      " 12  doc_number_box_top     44 non-null     float64\n",
      " 13  doc_number_box_width   44 non-null     float64\n",
      " 14  doc_number_box_height  44 non-null     float64\n",
      "dtypes: float64(12), object(3)\n",
      "memory usage: 5.3+ KB\n"
     ]
    }
   ],
   "source": [
    "df.info()"
   ]
  },
  {
   "cell_type": "markdown",
   "id": "1506dc50",
   "metadata": {},
   "source": [
    "## Сохранение датасета"
   ]
  },
  {
   "cell_type": "code",
   "execution_count": 57,
   "id": "ed5384e2",
   "metadata": {},
   "outputs": [],
   "source": [
    "df.to_csv('/home/kirillk/datasets/OCR/ocr_ttn/test-cases-ttn.csv')"
   ]
  },
  {
   "cell_type": "code",
   "execution_count": 58,
   "id": "777c95c3",
   "metadata": {},
   "outputs": [],
   "source": [
    "test = pd.read_csv('/home/kirillk/datasets/OCR/ocr_ttn/test-cases-ttn.csv')"
   ]
  },
  {
   "cell_type": "code",
   "execution_count": 59,
   "id": "2f67c9a7",
   "metadata": {},
   "outputs": [
    {
     "name": "stdout",
     "output_type": "stream",
     "text": [
      "<class 'pandas.core.frame.DataFrame'>\n",
      "RangeIndex: 44 entries, 0 to 43\n",
      "Data columns (total 16 columns):\n",
      " #   Column                 Non-Null Count  Dtype  \n",
      "---  ------                 --------------  -----  \n",
      " 0   Unnamed: 0             44 non-null     int64  \n",
      " 1   filename               44 non-null     object \n",
      " 2   barcode_number         44 non-null     int64  \n",
      " 3   doc_number             44 non-null     object \n",
      " 4   barcode_box_left       44 non-null     float64\n",
      " 5   barcode_box_top        44 non-null     float64\n",
      " 6   barcode_box_width      44 non-null     float64\n",
      " 7   barcode_box_height     44 non-null     float64\n",
      " 8   doc_type_box_left      44 non-null     float64\n",
      " 9   doc_type_box_top       44 non-null     float64\n",
      " 10  doc_type_box_width     44 non-null     float64\n",
      " 11  doc_type_box_height    44 non-null     float64\n",
      " 12  doc_number_box_left    44 non-null     float64\n",
      " 13  doc_number_box_top     44 non-null     float64\n",
      " 14  doc_number_box_width   44 non-null     float64\n",
      " 15  doc_number_box_height  44 non-null     float64\n",
      "dtypes: float64(12), int64(2), object(2)\n",
      "memory usage: 5.6+ KB\n"
     ]
    }
   ],
   "source": [
    "test.info()"
   ]
  },
  {
   "cell_type": "code",
   "execution_count": null,
   "id": "9b9b1717",
   "metadata": {},
   "outputs": [],
   "source": []
  }
 ],
 "metadata": {
  "kernelspec": {
   "display_name": "ocr_data_generation",
   "language": "python",
   "name": "ocr_data_generation"
  },
  "language_info": {
   "codemirror_mode": {
    "name": "ipython",
    "version": 3
   },
   "file_extension": ".py",
   "mimetype": "text/x-python",
   "name": "python",
   "nbconvert_exporter": "python",
   "pygments_lexer": "ipython3",
   "version": "3.9.13"
  }
 },
 "nbformat": 4,
 "nbformat_minor": 5
}
