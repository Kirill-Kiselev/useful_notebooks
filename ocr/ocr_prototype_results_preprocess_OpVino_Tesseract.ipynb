{
 "cells": [
  {
   "cell_type": "markdown",
   "id": "6111a7ea",
   "metadata": {},
   "source": [
    "# Исследование препроцессинга на распознавание типа и номера документов прототипа OCR. Детекция OpenVINO. Распознавание Tesseract \n",
    "- Автор: Кирилл Киселев\n",
    "- Дата начала: 11.05.2022\n",
    "- Описание исследования: в датасете содержится 203 изображения. Сперва необходимо определить количество отфильтрованных изображений, затем получить результаты распознавания. Сделать выводы."
   ]
  },
  {
   "cell_type": "markdown",
   "id": "f54ab7d3",
   "metadata": {},
   "source": [
    "## Загрузка библиотек"
   ]
  },
  {
   "cell_type": "code",
   "execution_count": 153,
   "id": "f52652fd",
   "metadata": {},
   "outputs": [],
   "source": [
    "import os\n",
    "import pandas as pd\n",
    "import cv2\n",
    "import numpy as np"
   ]
  },
  {
   "cell_type": "markdown",
   "id": "753c8100",
   "metadata": {},
   "source": [
    "## Глобальные переменные"
   ]
  },
  {
   "cell_type": "code",
   "execution_count": 154,
   "id": "66a47e96",
   "metadata": {},
   "outputs": [
    {
     "name": "stdout",
     "output_type": "stream",
     "text": [
      "/home/kirillk/PycharmProjects/useful_notebooks/ocr\r\n"
     ]
    }
   ],
   "source": [
    "!pwd"
   ]
  },
  {
   "cell_type": "code",
   "execution_count": 456,
   "id": "9efd8f92",
   "metadata": {},
   "outputs": [],
   "source": [
    "# TXT_PATH = '/home/kirillk/datasets/OCR/ocr_test_cases/paddle_ocr_results_iter_1.txt'\n",
    "# TXT_PATH = '/home/kirillk/datasets/OCR/ocr_test_cases/paddle_ocr_results_iter_2.txt'\n",
    "# TXT_PATH = '/home/kirillk/datasets/OCR/ocr_test_cases/paddle_ocr_results_iter_3.txt'\n",
    "# TXT_PATH = '/home/kirillk/datasets/OCR/ocr_test_cases/paddle_ocr_results_iter_4.txt'\n",
    "# TXT_PATH = '/home/kirillk/datasets/OCR/ocr_test_cases/paddle_ocr_results_iter_5.txt'\n",
    "# TXT_PATH = '/home/kirillk/datasets/OCR/ocr_test_cases/paddle_ocr_results_iter_6.txt'\n",
    "# TXT_PATH = '/home/kirillk/datasets/OCR/ocr_test_cases/paddle_ocr_results_iter_7.txt'\n",
    "# TXT_PATH = '/home/kirillk/PycharmProjects/ocr_prototype_tesseract/ocr-prototype/assets/results/ocr_ovino_tesseract_iter_1.txt'\n",
    "# TXT_PATH = '/home/kirillk/PycharmProjects/ocr_prototype_tesseract/ocr-prototype/assets/results/ocr_ovino_tesseract_iter_2.txt'\n",
    "# TXT_PATH = '/home/kirillk/PycharmProjects/ocr_prototype_tesseract/ocr-prototype/assets/results/ocr_ovino_tesseract_iter_3.txt'\n",
    "# TXT_PATH = '/home/kirillk/PycharmProjects/ocr_prototype_tesseract/ocr-prototype/assets/results/ocr_ovino_tesseract_iter_4.txt'\n",
    "TXT_PATH = '/home/kirillk/PycharmProjects/ocr_prototype_tesseract/ocr-prototype/assets/results/ocr_ovino_tesseract_iter_9.txt'\n",
    "\n",
    "SAVE_PATH = '/home/kirillk/datasets/OCR/ocr_test_cases/paddle_ocr_results'\n",
    "DATA_PATH = '/home/kirillk/datasets/OCR/ocr_test_cases/test_cases/'"
   ]
  },
  {
   "cell_type": "markdown",
   "id": "50a2b1ad",
   "metadata": {},
   "source": [
    "## Загрузка данных и подготовка датасета"
   ]
  },
  {
   "cell_type": "code",
   "execution_count": 457,
   "id": "9b940349",
   "metadata": {},
   "outputs": [],
   "source": [
    "filename_list = []\n",
    "results_list = []\n",
    "\n",
    "with open(TXT_PATH, \"r\") as file:\n",
    "    for num, line in enumerate(file):\n",
    "        if 'jpg' in line:\n",
    "            line = line.split(']')[-1].rstrip()\n",
    "            filename_list.append(line)\n",
    "        elif 'FPS' in line:\n",
    "            break\n",
    "        else:\n",
    "            results_list.append(line.rstrip())\n",
    "            \n",
    "# results_list = results_list[0:-1]"
   ]
  },
  {
   "cell_type": "code",
   "execution_count": 458,
   "id": "f4196938",
   "metadata": {
    "scrolled": true
   },
   "outputs": [
    {
     "data": {
      "text/plain": [
       "['108.jpg',\n",
       " '134.jpg',\n",
       " '145.jpg',\n",
       " '020.jpg',\n",
       " '172.jpg',\n",
       " '030.jpg',\n",
       " '044.jpg',\n",
       " '072.jpg',\n",
       " '183.jpg',\n",
       " '088.jpg',\n",
       " '192.jpg',\n",
       " '191.jpg',\n",
       " '122.jpg',\n",
       " '029.jpg',\n",
       " '144.jpg',\n",
       " '109.jpg',\n",
       " '049.jpg',\n",
       " '037.jpg',\n",
       " '138.jpg',\n",
       " '200.jpg',\n",
       " '189.jpg',\n",
       " '114.jpg',\n",
       " '195.jpg',\n",
       " '155.jpg',\n",
       " '093.jpg',\n",
       " '010.jpg',\n",
       " '148.jpg',\n",
       " '133.jpg',\n",
       " '199.jpg',\n",
       " '124.jpg',\n",
       " '032.jpg',\n",
       " '152.jpg',\n",
       " '171.jpg',\n",
       " '177.jpg',\n",
       " '075.jpg',\n",
       " '038.jpg',\n",
       " '000.jpg',\n",
       " '173.jpg',\n",
       " '126.jpg',\n",
       " '035.jpg',\n",
       " '003.jpg',\n",
       " '062.jpg',\n",
       " '094.jpg',\n",
       " '184.jpg',\n",
       " '004.jpg',\n",
       " '083.jpg',\n",
       " '164.jpg',\n",
       " '025.jpg',\n",
       " '101.jpg',\n",
       " '028.jpg',\n",
       " '076.jpg',\n",
       " '146.jpg',\n",
       " '067.jpg',\n",
       " '052.jpg',\n",
       " '087.jpg',\n",
       " '018.jpg',\n",
       " '051.jpg',\n",
       " '147.jpg',\n",
       " '187.jpg',\n",
       " '047.jpg',\n",
       " '115.jpg',\n",
       " '140.jpg',\n",
       " '079.jpg',\n",
       " '061.jpg',\n",
       " '096.jpg',\n",
       " '007.jpg',\n",
       " '011.jpg',\n",
       " '023.jpg',\n",
       " '120.jpg',\n",
       " '084.jpg',\n",
       " '065.jpg',\n",
       " '098.jpg',\n",
       " '130.jpg',\n",
       " '175.jpg',\n",
       " '022.jpg',\n",
       " '009.jpg',\n",
       " '069.jpg',\n",
       " '014.jpg',\n",
       " '054.jpg',\n",
       " '019.jpg',\n",
       " '056.jpg',\n",
       " '008.jpg',\n",
       " '017.jpg',\n",
       " '168.jpg',\n",
       " '131.jpg',\n",
       " '137.jpg',\n",
       " '198.jpg',\n",
       " '039.jpg',\n",
       " '106.jpg',\n",
       " '185.jpg',\n",
       " '112.jpg',\n",
       " '097.jpg',\n",
       " '099.jpg',\n",
       " '156.jpg',\n",
       " '194.jpg',\n",
       " '057.jpg',\n",
       " '158.jpg',\n",
       " '201.jpg',\n",
       " '125.jpg',\n",
       " '066.jpg',\n",
       " '159.jpg',\n",
       " '188.jpg',\n",
       " '005.jpg',\n",
       " '068.jpg',\n",
       " '090.jpg',\n",
       " '118.jpg',\n",
       " '186.jpg',\n",
       " '110.jpg',\n",
       " '073.jpg',\n",
       " '046.jpg',\n",
       " '070.jpg',\n",
       " '165.jpg',\n",
       " '113.jpg',\n",
       " '180.jpg',\n",
       " '091.jpg',\n",
       " '129.jpg',\n",
       " '092.jpg',\n",
       " '103.jpg',\n",
       " '141.jpg',\n",
       " '104.jpg',\n",
       " '149.jpg',\n",
       " '163.jpg',\n",
       " '143.jpg',\n",
       " '166.jpg',\n",
       " '064.jpg',\n",
       " '015.jpg',\n",
       " '151.jpg',\n",
       " '154.jpg',\n",
       " '016.jpg',\n",
       " '002.jpg',\n",
       " '042.jpg',\n",
       " '127.jpg',\n",
       " '059.jpg',\n",
       " '132.jpg',\n",
       " '193.jpg',\n",
       " '111.jpg',\n",
       " '095.jpg',\n",
       " '012.jpg',\n",
       " '179.jpg',\n",
       " '026.jpg',\n",
       " '100.jpg',\n",
       " '196.jpg',\n",
       " '128.jpg',\n",
       " '048.jpg',\n",
       " '053.jpg',\n",
       " '135.jpg',\n",
       " '107.jpg',\n",
       " '178.jpg',\n",
       " '139.jpg',\n",
       " '116.jpg',\n",
       " '021.jpg',\n",
       " '060.jpg',\n",
       " '055.jpg',\n",
       " '119.jpg',\n",
       " '181.jpg',\n",
       " '153.jpg',\n",
       " '013.jpg',\n",
       " '034.jpg',\n",
       " '142.jpg',\n",
       " '058.jpg',\n",
       " '036.jpg',\n",
       " '071.jpg',\n",
       " '063.jpg',\n",
       " '024.jpg',\n",
       " '081.jpg',\n",
       " '167.jpg',\n",
       " '170.jpg',\n",
       " '078.jpg',\n",
       " '117.jpg',\n",
       " '123.jpg',\n",
       " '001.jpg',\n",
       " '031.jpg',\n",
       " '105.jpg',\n",
       " '161.jpg',\n",
       " '033.jpg',\n",
       " '050.jpg',\n",
       " '150.jpg',\n",
       " '162.jpg',\n",
       " '157.jpg',\n",
       " '043.jpg',\n",
       " '086.jpg',\n",
       " '041.jpg',\n",
       " '160.jpg',\n",
       " '074.jpg',\n",
       " '190.jpg',\n",
       " '174.jpg',\n",
       " '136.jpg',\n",
       " '169.jpg',\n",
       " '089.jpg',\n",
       " '202.jpg',\n",
       " '045.jpg',\n",
       " '102.jpg',\n",
       " '027.jpg',\n",
       " '182.jpg',\n",
       " '006.jpg',\n",
       " '080.jpg',\n",
       " '121.jpg',\n",
       " '082.jpg',\n",
       " '040.jpg',\n",
       " '077.jpg',\n",
       " '176.jpg',\n",
       " '085.jpg',\n",
       " '197.jpg']"
      ]
     },
     "execution_count": 458,
     "metadata": {},
     "output_type": "execute_result"
    }
   ],
   "source": [
    "filename_list"
   ]
  },
  {
   "cell_type": "code",
   "execution_count": 459,
   "id": "943a20d3",
   "metadata": {},
   "outputs": [
    {
     "data": {
      "text/plain": [
       "203"
      ]
     },
     "execution_count": 459,
     "metadata": {},
     "output_type": "execute_result"
    }
   ],
   "source": [
    "len(filename_list)"
   ]
  },
  {
   "cell_type": "code",
   "execution_count": null,
   "id": "62177ba1",
   "metadata": {},
   "outputs": [],
   "source": []
  },
  {
   "cell_type": "code",
   "execution_count": 460,
   "id": "025d9225",
   "metadata": {},
   "outputs": [
    {
     "data": {
      "text/plain": [
       "[\"{'id': 0, 'barcode': '2860587076540', 'doc_type': 'Товарная накладная', 'doc_number': '6017110800', 'error_list': ['Пересканируйте, текст не найден'], 'barcode_region': [161, 0, 1593, 5848], 'type_region': [1092, 3069, 1837, 3437], 'number_region': [1700, 3081, 2155, 3414]}\",\n",
       " '{\\'id\\': 1, \\'barcode\\': \\'2860592637279\\', \\'doc_type\\': \"Товарная| \\'накладная\", \\'doc_number\\': \\'8017263078\\', \\'error_list\\': [\\'Пересканируйте, текст не найден\\'], \\'barcode_region\\': [164, 0, 1622, 5900], \\'type_region\\': [1235, 756, 1994, 1127], \\'number_region\\': [1855, 767, 2318, 1104]}',\n",
       " \"{'id': 2, 'barcode': '2860601366206', 'doc_type': 'Товарная| |накладная', 'doc_number': '—_—..KoluyecraoAee—', 'error_list': ['Пересканируйте, текст не найден'], 'barcode_region': [164, 0, 1628, 5913], 'type_region': [1181, 754, 1942, 1127], 'number_region': [1803, 766, 2268, 1103]}\",\n",
       " \"{'id': 3, 'barcode': '2810094798084', 'doc_type': 'Товарная накладная', 'doc_number': '6010358825', 'error_list': ['Пересканируйте, текст не найден'], 'barcode_region': [97, 0, 1266, 4133], 'type_region': [1509, 1302, 2608, 1674], 'number_region': [2392, 1318, 3122, 1657]}\",\n",
       " \"{'id': 4, 'barcode': '2860614983032', 'doc_type': 'Товарная| накладная', 'doc_number': '6017560483', 'error_list': ['Пересканируйте, текст не найден'], 'barcode_region': [163, 0, 1616, 5893], 'type_region': [1147, 755, 1902, 1126], 'number_region': [1764, 767, 2225, 1103]}\",\n",
       " \"{'id': 5, 'barcode': '2810095110823', 'doc_type': 'Товарная ‘накладная', 'doc_number': '6010496453', 'error_list': ['Пересканируйте, текст не найден'], 'barcode_region': [97, 0, 1266, 4134], 'type_region': [1507, 1316, 2606, 1688], 'number_region': [2390, 1332, 3120, 1671]}\",\n",
       " \"{'id': 6, 'barcode': '2860350653671', 'doc_type': 'Товарная накладная', 'doc_number': '6010495761', 'error_list': ['Пересканируйте, текст не найден'], 'barcode_region': [97, 0, 1266, 4134], 'type_region': [1597, 1261, 2696, 1633], 'number_region': [2480, 1277, 3210, 1616]}\",\n",
       " \"{'id': 7, 'barcode': '2860356028688', 'doc_type': 'Товарная накладная', 'doc_number': '6010580640', 'error_list': ['Пересканируйте, текст не найден'], 'barcode_region': [97, 0, 1266, 4133], 'type_region': [1513, 1276, 2612, 1648], 'number_region': [2396, 1292, 3126, 1631]}\",\n",
       " \"{'id': 8, 'barcode': '2860618787148', 'doc_type': 'Товарная ‚накладная', 'doc_number': '60176510871', 'error_list': ['Пересканируйте, текст не найден'], 'barcode_region': [164, 0, 1627, 5913], 'type_region': [1266, 769, 2027, 1142], 'number_region': [1888, 781, 2353, 1118]}\",\n",
       " \"{'id': 9, 'barcode': '2810078644574', 'doc_type': 'Товарная накладная', 'doc_number': '6008222134', 'error_list': ['Пересканируйте, текст не найден'], 'barcode_region': [97, 0, 1266, 4134], 'type_region': [1420, 1261, 2519, 1633], 'number_region': [2303, 1277, 3033, 1616]}\",\n",
       " '{\\'id\\': 10, \\'barcode\\': \\'2860597904628\\', \\'doc_type\\': \"Товарная\\' `накладная\", \\'doc_number\\': \\'6600245149\\', \\'error_list\\': [\\'Пересканируйте, текст не найден\\'], \\'barcode_region\\': [163, 0, 1612, 5884], \\'type_region\\': [1121, 742, 1875, 1113], \\'number_region\\': [1737, 754, 2198, 1090]}',\n",
       " \"{'id': 11, 'barcode': '2860598926537', 'doc_type': 'Товарная |накладная', 'doc_number': '6600000503', 'error_list': ['Пересканируйте, текст не найден'], 'barcode_region': [161, 0, 1593, 5850], 'type_region': [1078, 763, 1823, 1132], 'number_region': [1687, 775, 2142, 1108]}\",\n",
       " '{\\'id\\': 12, \\'barcode\\': \\'2860583150046\\', \\'doc_type\\': \"Товарная| \\'накладная\", \\'doc_number\\': \\'6017084769\\', \\'error_list\\': [\\'Пересканируйте, текст не найден\\'], \\'barcode_region\\': [165, 0, 1629, 5915], \\'type_region\\': [1196, 775, 1958, 1147], \\'number_region\\': [1818, 786, 2284, 1124]}',\n",
       " \"{'id': 13, 'barcode': '2810094808202', 'doc_type': 'Товарная накладная', 'doc_number': '6010496432', 'error_list': ['Пересканируйте, текст не найден'], 'barcode_region': [97, 0, 1266, 4134], 'type_region': [1501, 1315, 2600, 1687], 'number_region': [2384, 1331, 3114, 1670]}\",\n",
       " \"{'id': 14, 'barcode': '2860599272848', 'doc_type': 'Товарная| |накладная', 'doc_number': '6600002416', 'error_list': ['Пересканируйте, текст не найден'], 'barcode_region': [164, 0, 1622, 5902], 'type_region': [1132, 772, 1891, 1143], 'number_region': [1752, 783, 2216, 1120]}\",\n",
       " \"{'id': 15, 'barcode': '2860614772520', 'doc_type': 'Товарная накладная', 'doc_number': '$600577650', 'error_list': ['Пересканируйте, текст не найден'], 'barcode_region': [167, 0, 1655, 5890], 'type_region': [1154, 2993, 1928, 3364], 'number_region': [1786, 3005, 2259, 3340]}\",\n",
       " \"{'id': 16, 'barcode': '2860350627696', 'doc_type': 'Товарная накладная', 'doc_number': '6010477064', 'error_list': ['Пересканируйте, текст не найден'], 'barcode_region': [97, 0, 1266, 4133], 'type_region': [1514, 1310, 2613, 1682], 'number_region': [2397, 1326, 3127, 1665]}\",\n",
       " \"{'id': 17, 'barcode': '2810095049819', 'doc_type': 'Товарная накладная', 'doc_number': '6010489390', 'error_list': ['Пересканируйте, текст не найден'], 'barcode_region': [97, 0, 1266, 4134], 'type_region': [1511, 1289, 2610, 1661], 'number_region': [2394, 1305, 3124, 1644]}\",\n",
       " \"{'id': 18, 'barcode': '2860593000775', 'doc_type': 'Товарная` |Накладная', 'doc_number': '6017265896', 'error_list': ['Пересканируйте, текст не найден'], 'barcode_region': [161, 0, 1595, 5855], 'type_region': [1194, 738, 1940, 1107], 'number_region': [1803, 750, 2259, 1084]}\",\n",
       " '{\\'id\\': 19, \\'barcode\\': \\'2860597151404\\', \\'doc_type\\': \"Товарная: \\'накладная\", \\'doc_number\\': \\'6600242284\\', \\'error_list\\': [\\'Пересканируйте, текст не найден\\'], \\'barcode_region\\': [162, 0, 1605, 5871], \\'type_region\\': [1116, 733, 1867, 1103], \\'number_region\\': [1729, 745, 2188, 1080]}',\n",
       " '{\\'id\\': 20, \\'barcode\\': \\'2860618982277\\', \\'doc_type\\': \"Товарная\\' |накладная\", \\'doc_number\\': \\'60176853136\\', \\'error_list\\': [\\'Пересканируйте, текст не найден\\'], \\'barcode_region\\': [163, 0, 1616, 5890], \\'type_region\\': [1190, 759, 1945, 1130], \\'number_region\\': [1807, 771, 2268, 1106]}',\n",
       " \"{'id': 21, 'barcode': '2810144081883', 'doc_type': 'Товарная накладная', 'doc_number': '6600220630', 'error_list': ['Пересканируйте, текст не найден'], 'barcode_region': [98, 0, 1281, 4238], 'type_region': [1607, 1416, 2720, 1798], 'number_region': [2501, 1433, 3241, 1781]}\",\n",
       " \"{'id': 22, 'barcode': '2860615802998', 'doc_type': 'Товарная` |накладная', 'doc_number': None, 'error_list': ['Пересканируйте, текст не найден', 'Слишком размыто'], 'barcode_region': [163, 0, 1618, 5895], 'type_region': [1147, 528, 1904, 900], 'number_region': [1765, 540, 2228, 876]}\",\n",
       " \"{'id': 23, 'barcode': '2860609887666', 'doc_type': 'Товарная| \\\\\\\\накладная', 'doc_number': None, 'error_list': ['Пересканируйте, текст не найден', 'Слишком размыто'], 'barcode_region': [162, 0, 1603, 5865], 'type_region': [1090, 590, 1840, 960], 'number_region': [1702, 602, 2160, 936]}\",\n",
       " \"{'id': 24, 'barcode': '2810079755484', 'doc_type': 'Товарная накладная', 'doc_number': '6008282959', 'error_list': ['Пересканируйте, текст не найден'], 'barcode_region': [97, 0, 1266, 4133], 'type_region': [1429, 1267, 2528, 1639], 'number_region': [2312, 1283, 3042, 1622]}\",\n",
       " \"{'id': 25, 'barcode': '2810095175457', 'doc_type': 'Товарная накладная', 'doc_number': '6010505008', 'error_list': ['Пересканируйте, текст не найден'], 'barcode_region': [97, 0, 1266, 4134], 'type_region': [1513, 1277, 2612, 1649], 'number_region': [2396, 1293, 3126, 1632]}\",\n",
       " \"{'id': 26, 'barcode': '2860602715096', 'doc_type': 'Товарная накладная', 'doc_number': '3QOKYReHTa', 'error_list': ['Пересканируйте, текст не найден'], 'barcode_region': [163, 0, 1618, 5898], 'type_region': [1120, 624, 1877, 996], 'number_region': [1738, 636, 2201, 972]}\",\n",
       " \"{'id': 27, 'barcode': '2860592408350', 'doc_type': 'Товарная` ‚накладная', 'doc_number': '8017263017', 'error_list': ['Пересканируйте, текст не найден'], 'barcode_region': [162, 0, 1600, 5863], 'type_region': [1190, 731, 1938, 1100], 'number_region': [1801, 743, 2258, 1077]}\",\n",
       " \"{'id': 28, 'barcode': '2860594030962', 'doc_type': 'Товарная| ‚накладная', 'doc_number': '6600235372', 'error_list': ['Пересканируйте, текст не найден'], 'barcode_region': [163, 0, 1614, 5887], 'type_region': [1120, 761, 1875, 1131], 'number_region': [1737, 772, 2198, 1108]}\",\n",
       " \"{'id': 29, 'barcode': '2860583459859', 'doc_type': 'Товарная |накладная', 'doc_number': '6017086095', 'error_list': ['Пересканируйте, текст не найден'], 'barcode_region': [161, 0, 1595, 5853], 'type_region': [1202, 735, 1948, 1104], 'number_region': [1811, 747, 2267, 1081]}\",\n",
       " \"{'id': 30, 'barcode': '2810095110731', 'doc_type': 'Товарная накладная', 'doc_number': '6010496452', 'error_list': ['Пересканируйте, текст не найден'], 'barcode_region': [97, 0, 1266, 4134], 'type_region': [1497, 1301, 2596, 1673], 'number_region': [2380, 1317, 3110, 1656]}\",\n",
       " \"{'id': 31, 'barcode': '2860609807121', 'doc_type': 'Товарная| ‚накладная', 'doc_number': '6017532541', 'error_list': ['Пересканируйте, текст не найден'], 'barcode_region': [164, 0, 1628, 5913], 'type_region': [1251, 771, 2012, 1144], 'number_region': [1873, 783, 2338, 1120]}\",\n",
       " \"{'id': 32, 'barcode': '2860614792009', 'doc_type': 'Товарная: `накладная', 'doc_number': '6017558651', 'error_list': ['Пересканируйте, текст не найден'], 'barcode_region': [163, 0, 1615, 5890], 'type_region': [1149, 747, 1905, 1118], 'number_region': [1766, 759, 2228, 1094]}\",\n",
       " \"{'id': 33, 'barcode': '2860617614391', 'doc_type': None, 'doc_number': '5017644991', 'error_list': ['Пересканируйте, текст не найден'], 'barcode_region': [167, 0, 1648, 5950], 'type_region': [1214, 662, 1984, 1037], 'number_region': [1843, 674, 2314, 1013]}\",\n",
       " \"{'id': 34, 'barcode': '2810096516396', 'doc_type': 'Товарная накладная', 'doc_number': '6010589100', 'error_list': ['Пересканируйте, текст не найден'], 'barcode_region': [97, 0, 1266, 4133], 'type_region': [1517, 1322, 2616, 1694], 'number_region': [2400, 1338, 3130, 1677]}\",\n",
       " \"{'id': 35, 'barcode': '2860350693578', 'doc_type': 'Товарная накладная', 'doc_number': '6010497017', 'error_list': ['Пересканируйте, текст не найден'], 'barcode_region': [97, 0, 1266, 4134], 'type_region': [1597, 1266, 2696, 1638], 'number_region': [2480, 1282, 3210, 1621]}\",\n",
       " \"{'id': 36, 'barcode': '2810094793638', 'doc_type': 'Товарная накладная', 'doc_number': '6010358884', 'error_list': ['Пересканируйте, текст не найден'], 'barcode_region': [97, 0, 1266, 4134], 'type_region': [1518, 1313, 2617, 1685], 'number_region': [2401, 1329, 3131, 1668]}\",\n",
       " \"{'id': 37, 'barcode': '2860615089269', 'doc_type': 'Товарная| |накладная', 'doc_number': '6017560958', 'error_list': ['Пересканируйте, текст не найден'], 'barcode_region': [164, 0, 1625, 5908], 'type_region': [1178, 752, 1938, 1124], 'number_region': [1799, 764, 2263, 1101]}\",\n",
       " '{\\'id\\': 38, \\'barcode\\': \\'2860582013670\\', \\'doc_type\\': \"Товарная: \\'накладная\", \\'doc_number\\': \\'8647079622\\', \\'error_list\\': [\\'Пересканируйте, текст не найден\\'], \\'barcode_region\\': [162, 0, 1604, 5871], \\'type_region\\': [1140, 731, 1890, 1101], \\'number_region\\': [1753, 743, 2211, 1078]}',\n",
       " \"{'id': 39, 'barcode': '2860350517478', 'doc_type': 'Товарная накладная', 'doc_number': '6010411498', 'error_list': ['Пересканируйте, текст не найден'], 'barcode_region': [97, 0, 1266, 4134], 'type_region': [1488, 1293, 2587, 1665], 'number_region': [2371, 1309, 3101, 1648]}\",\n",
       " \"{'id': 40, 'barcode': '2860350826969', 'doc_type': 'Товарная накладная', 'doc_number': '6010503173', 'error_list': ['Пересканируйте, текст не найден'], 'barcode_region': [97, 0, 1266, 4134], 'type_region': [1498, 1301, 2597, 1673], 'number_region': [2381, 1317, 3111, 1656]}\",\n",
       " \"{'id': 41, 'barcode': '2810099106150', 'doc_type': 'Товарная накладная', 'doc_number': '6010797013', 'error_list': ['Пересканируйте, текст не найден'], 'barcode_region': [97, 0, 1266, 4133], 'type_region': [1554, 1262, 2653, 1634], 'number_region': [2437, 1278, 3167, 1617]}\",\n",
       " \"{'id': 42, 'barcode': '2810078340568', 'doc_type': 'Товарная накладная', 'doc_number': '6008206296', 'error_list': ['Пересканируйте, текст не найден'], 'barcode_region': [97, 0, 1266, 4133], 'type_region': [1444, 1172, 2543, 1544], 'number_region': [2327, 1188, 3057, 1527]}\",\n",
       " '{\\'id\\': 43, \\'barcode\\': \\'2860618739659\\', \\'doc_type\\': \"Товарная: \\'накладная\", \\'doc_number\\': \\'6017651707———\\', \\'error_list\\': [\\'Пересканируйте, текст не найден\\'], \\'barcode_region\\': [162, 0, 1603, 5868], \\'type_region\\': [1178, 606, 1928, 976], \\'number_region\\': [1790, 618, 2248, 952]}',\n",
       " \"{'id': 44, 'barcode': '2860350795340', 'doc_type': 'Товарная накладная', 'doc_number': '6010498934', 'error_list': ['Пересканируйте, текст не найден'], 'barcode_region': [97, 0, 1266, 4134], 'type_region': [1517, 1295, 2616, 1667], 'number_region': [2400, 1311, 3130, 1650]}\",\n",
       " \"{'id': 45, 'barcode': '2810096516426', 'doc_type': 'Товарная ‚накладная', 'doc_number': ')AOKYMeHTa', 'error_list': ['Пересканируйте, текст не найден'], 'barcode_region': [97, 0, 1266, 4133], 'type_region': [1496, 1325, 2595, 1697], 'number_region': [2379, 1341, 3109, 1680]}\",\n",
       " \"{'id': 46, 'barcode': '2860611204697', 'doc_type': 'Товарная. ‚накладная', 'doc_number': '8017539166', 'error_list': ['Пересканируйте, текст не найден'], 'barcode_region': [161, 0, 1597, 5858], 'type_region': [1204, 731, 1951, 1100], 'number_region': [1814, 742, 2271, 1076]}\",\n",
       " \"{'id': 47, 'barcode': '2810094891235', 'doc_type': 'Товарная накладная', 'doc_number': '6010494696', 'error_list': ['Пересканируйте, текст не найден'], 'barcode_region': [97, 0, 1266, 4133], 'type_region': [1509, 1265, 2608, 1637], 'number_region': [2392, 1281, 3122, 1620]}\",\n",
       " \"{'id': 48, 'barcode': '2860570915191', 'doc_type': 'Товарная накладная', 'doc_number': '6600174521', 'error_list': ['Пересканируйте, текст не найден'], 'barcode_region': [97, 0, 1267, 4145], 'type_region': [1581, 1283, 2681, 1656], 'number_region': [2465, 1300, 3196, 1640]}\",\n",
       " \"{'id': 49, 'barcode': '2810094889065', 'doc_type': 'Товарная накладная', 'doc_number': '6010496401', 'error_list': ['Пересканируйте, текст не найден'], 'barcode_region': [97, 0, 1266, 4133], 'type_region': [1454, 1303, 2553, 1675], 'number_region': [2337, 1319, 3067, 1658]}\",\n",
       " \"{'id': 50, 'barcode': '2810096516365', 'doc_type': 'Товарная накладная', 'doc_number': ')AOKYMeHTa', 'error_list': ['Пересканируйте, текст не найден'], 'barcode_region': [97, 0, 1266, 4133], 'type_region': [1524, 1310, 2623, 1682], 'number_region': [2407, 1326, 3137, 1665]}\",\n",
       " \"{'id': 51, 'barcode': '2860601473409', 'doc_type': 'Товарная‹ |накладная', 'doc_number': 'PAOKyMEHTR', 'error_list': ['Пересканируйте, текст не найден'], 'barcode_region': [164, 0, 1626, 5910], 'type_region': [1176, 754, 1936, 1127], 'number_region': [1797, 766, 2262, 1103]}\",\n",
       " \"{'id': 52, 'barcode': '2810096516396', 'doc_type': 'Товарная накладная', 'doc_number': '6010589100', 'error_list': ['Пересканируйте, текст не найден'], 'barcode_region': [97, 0, 1266, 4133], 'type_region': [1559, 1241, 2658, 1613], 'number_region': [2442, 1257, 3172, 1596]}\",\n",
       " \"{'id': 53, 'barcode': '2810095097438', 'doc_type': 'Товарная накладная', 'doc_number': '6010503832', 'error_list': ['Пересканируйте, текст не найден'], 'barcode_region': [97, 0, 1266, 4133], 'type_region': [1489, 1307, 2588, 1679], 'number_region': [2372, 1323, 3102, 1662]}\",\n",
       " \"{'id': 54, 'barcode': '2810078325701', 'doc_type': 'Товарная накладная', 'doc_number': '6008220324', 'error_list': ['Пересканируйте, текст не найден'], 'barcode_region': [97, 0, 1266, 4134], 'type_region': [1419, 1256, 2518, 1628], 'number_region': [2302, 1272, 3032, 1611]}\",\n",
       " \"{'id': 55, 'barcode': '2810095102668', 'doc_type': 'Товарная накладная', 'doc_number': '6010496438', 'error_list': ['Пересканируйте, текст не найден'], 'barcode_region': [97, 0, 1266, 4134], 'type_region': [1498, 1305, 2597, 1677], 'number_region': [2381, 1321, 3111, 1660]}\",\n",
       " \"{'id': 56, 'barcode': '2810095150157', 'doc_type': 'Товарная накладная', 'doc_number': '6010407186', 'error_list': ['Пересканируйте, текст не найден'], 'barcode_region': [97, 0, 1266, 4133], 'type_region': [1491, 1259, 2590, 1631], 'number_region': [2374, 1275, 3104, 1614]}\",\n",
       " \"{'id': 57, 'barcode': '2860618872677', 'doc_type': 'Товарная| [накладная', 'doc_number': '6500275200', 'error_list': ['Пересканируйте, текст не найден'], 'barcode_region': [164, 0, 1620, 5900], 'type_region': [1242, 759, 2000, 1130], 'number_region': [1861, 770, 2324, 1107]}\",\n",
       " \"{'id': 58, 'barcode': '2860619133609', 'doc_type': 'Товарная, |Ннакладная', 'doc_number': '6017652685', 'error_list': ['Пересканируйте, текст не найден'], 'barcode_region': [162, 0, 1600, 5863], 'type_region': [1150, 734, 1898, 1103], 'number_region': [1761, 746, 2218, 1080]}\",\n",
       " \"{'id': 59, 'barcode': '2860350653657', 'doc_type': 'Товарная накладная', 'doc_number': '6010495760', 'error_list': ['Пересканируйте, текст не найден'], 'barcode_region': [97, 0, 1266, 4133], 'type_region': [1521, 1302, 2620, 1674], 'number_region': [2404, 1318, 3134, 1657]}\",\n",
       " \"{'id': 60, 'barcode': '2860611107011', 'doc_type': None, 'doc_number': None, 'error_list': ['Пересканируйте, текст не найден', 'Слишком размыто'], 'barcode_region': [161, 0, 1595, 5850], 'type_region': [1176, 660, 1922, 1029], 'number_region': [1785, 672, 2241, 1005]}\",\n",
       " \"{'id': 61, 'barcode': '2860593292163', 'doc_type': 'Товарная| |накладная', 'doc_number': '6017268311', 'error_list': ['Пересканируйте, текст не найден'], 'barcode_region': [162, 0, 1608, 5878], 'type_region': [1211, 749, 1963, 1119], 'number_region': [1825, 761, 2284, 1096]}\",\n",
       " \"{'id': 62, 'barcode': '2810097409826', 'doc_type': 'Товарная ‚накладная', 'doc_number': ')JOKYMEHTa', 'error_list': ['Пересканируйте, текст не найден'], 'barcode_region': [97, 0, 1266, 4133], 'type_region': [1514, 1325, 2613, 1697], 'number_region': [2397, 1341, 3127, 1680]}\",\n",
       " \"{'id': 63, 'barcode': '2810101083493', 'doc_type': 'Товарная накладная', 'doc_number': '6011002903', 'error_list': ['Пересканируйте, текст не найден'], 'barcode_region': [97, 0, 1266, 4133], 'type_region': [1546, 1247, 2645, 1619], 'number_region': [2429, 1263, 3159, 1602]}\",\n",
       " \"{'id': 64, 'barcode': '2860581828398', 'doc_type': 'Товарная \\\\\\\\накладная', 'doc_number': '6600554386', 'error_list': ['Пересканируйте, текст не найден'], 'barcode_region': [163, 0, 1616, 5893], 'type_region': [1160, 3151, 1916, 3522], 'number_region': [1777, 3163, 2239, 3499]}\",\n",
       " \"{'id': 65, 'barcode': '2860350795418', 'doc_type': 'Товарная накладная', 'doc_number': '6010498936', 'error_list': ['Пересканируйте, текст не найден'], 'barcode_region': [97, 0, 1266, 4134], 'type_region': [1531, 1285, 2630, 1657], 'number_region': [2414, 1301, 3144, 1640]}\",\n",
       " \"{'id': 66, 'barcode': '2810095220683', 'doc_type': 'Товарная накладная', 'doc_number': '6010507184', 'error_list': ['Пересканируйте, текст не найден'], 'barcode_region': [97, 0, 1266, 4134], 'type_region': [1511, 1293, 2610, 1665], 'number_region': [2394, 1309, 3124, 1648]}\",\n",
       " \"{'id': 67, 'barcode': '2860350248129', 'doc_type': 'Товарная накладная', 'doc_number': '6010250245', 'error_list': ['Пересканируйте, текст не найден'], 'barcode_region': [97, 0, 1266, 4133], 'type_region': [1506, 1316, 2605, 1688], 'number_region': [2389, 1332, 3119, 1671]}\",\n",
       " \"{'id': 68, 'barcode': '2860610732146', 'doc_type': 'Товарная| `накладная', 'doc_number': '6003471873', 'error_list': ['Пересканируйте, текст не найден'], 'barcode_region': [161, 0, 1592, 5849], 'type_region': [1096, 515, 1840, 883], 'number_region': [1704, 527, 2159, 860]}\",\n",
       " \"{'id': 69, 'barcode': '2810097409826', 'doc_type': 'Товарная накладная', 'doc_number': '6010632149', 'error_list': ['Пересканируйте, текст не найден'], 'barcode_region': [97, 0, 1266, 4134], 'type_region': [1541, 1252, 2640, 1624], 'number_region': [2424, 1268, 3154, 1607]}\",\n",
       " \"{'id': 70, 'barcode': '2810097409826', 'doc_type': 'Товарная: накладная', 'doc_number': 'AIOKYMeHTa', 'error_list': ['Пересканируйте, текст не найден'], 'barcode_region': [97, 0, 1266, 4133], 'type_region': [1561, 1217, 2660, 1589], 'number_region': [2444, 1233, 3174, 1572]}\",\n",
       " '{\\'id\\': 71, \\'barcode\\': \\'2860545693338\\', \\'doc_type\\': \"Товарная \\'накладная\", \\'doc_number\\': \\'6600103608\\', \\'error_list\\': [\\'Пересканируйте, текст не найден\\'], \\'barcode_region\\': [163, 0, 1616, 5890], \\'type_region\\': [1136, 3124, 1891, 3495], \\'number_region\\': [1753, 3136, 2214, 3471]}',\n",
       " \"{'id': 72, 'barcode': '2860583093602', 'doc_type': 'Товарная: |накладная', 'doc_number': '6017084820', 'error_list': ['Пересканируйте, текст не найден'], 'barcode_region': [165, 0, 1632, 5920], 'type_region': [1212, 772, 1975, 1145], 'number_region': [1835, 784, 2301, 1121]}\",\n",
       " \"{'id': 73, 'barcode': '2860617624253', 'doc_type': 'Товарная: |накладная', 'doc_number': '6017645767', 'error_list': ['Пересканируйте, текст не найден'], 'barcode_region': [162, 0, 1605, 5873], 'type_region': [1213, 754, 1964, 1124], 'number_region': [1826, 765, 2285, 1100]}\",\n",
       " \"{'id': 74, 'barcode': '2810094049155', 'doc_type': 'Товарная: накладная', 'doc_number': '6010452712', 'error_list': ['Пересканируйте, текст не найден'], 'barcode_region': [97, 0, 1266, 4133], 'type_region': [1502, 1299, 2601, 1671], 'number_region': [2385, 1315, 3115, 1654]}\",\n",
       " \"{'id': 75, 'barcode': '2810095219885', 'doc_type': 'Товарная накладная', 'doc_number': '6010503820', 'error_list': ['Пересканируйте, текст не найден'], 'barcode_region': [97, 0, 1266, 4134], 'type_region': [1513, 1292, 2612, 1664], 'number_region': [2396, 1308, 3126, 1647]}\",\n",
       " \"{'id': 76, 'barcode': '2810096516365', 'doc_type': 'Товарная накладная', 'doc_number': '601058914«', 'error_list': ['Пересканируйте, текст не найден'], 'barcode_region': [97, 0, 1266, 4133], 'type_region': [1564, 1281, 2663, 1653], 'number_region': [2447, 1297, 3177, 1636]}\",\n",
       " \"{'id': 77, 'barcode': '2810094808165', 'doc_type': 'Товарная накладная', 'doc_number': '6010496431', 'error_list': ['Пересканируйте, текст не найден'], 'barcode_region': [97, 0, 1266, 4134], 'type_region': [1501, 1293, 2600, 1665], 'number_region': [2384, 1309, 3114, 1648]}\",\n",
       " \"{'id': 78, 'barcode': '2810094934895', 'doc_type': 'Товарная накладная', 'doc_number': '6010507333', 'error_list': ['Пересканируйте, текст не найден'], 'barcode_region': [97, 0, 1266, 4133], 'type_region': [1501, 1295, 2600, 1667], 'number_region': [2384, 1311, 3114, 1650]}\",\n",
       " \"{'id': 79, 'barcode': '2810094840226', 'doc_type': 'Товарная накладная', 'doc_number': '6010422352', 'error_list': ['Пересканируйте, текст не найден'], 'barcode_region': [97, 0, 1266, 4133], 'type_region': [1516, 1272, 2615, 1644], 'number_region': [2399, 1288, 3129, 1627]}\",\n",
       " \"{'id': 80, 'barcode': '2810101258686', 'doc_type': 'Товарная накладная', 'doc_number': '6011020656', 'error_list': ['Пересканируйте, текст не найден'], 'barcode_region': [97, 0, 1266, 4133], 'type_region': [1371, 1272, 2470, 1644], 'number_region': [2254, 1288, 2984, 1627]}\",\n",
       " \"{'id': 81, 'barcode': '2860350803656', 'doc_type': 'Товарная накладная', 'doc_number': '6010498987', 'error_list': ['Пересканируйте, текст не найден'], 'barcode_region': [97, 0, 1266, 4134], 'type_region': [1520, 1252, 2619, 1624], 'number_region': [2403, 1268, 3133, 1607]}\",\n",
       " \"{'id': 82, 'barcode': '2810094942029', 'doc_type': 'Товарная накладная', 'doc_number': '6010422354', 'error_list': ['Пересканируйте, текст не найден'], 'barcode_region': [97, 0, 1266, 4134], 'type_region': [1508, 1297, 2607, 1669], 'number_region': [2391, 1313, 3121, 1652]}\",\n",
       " \"{'id': 83, 'barcode': '2860611147581', 'doc_type': None, 'doc_number': None, 'error_list': ['Пересканируйте, текст не найден', 'Слишком размыто'], 'barcode_region': [163, 0, 1618, 5895], 'type_region': [1077, 559, 1834, 931], 'number_region': [1695, 571, 2158, 907]}\",\n",
       " \"{'id': 84, 'barcode': '2860583137740', 'doc_type': 'Товарная| |накладная', 'doc_number': '8017085114', 'error_list': ['Пересканируйте, текст не найден'], 'barcode_region': [165, 0, 1633, 5923], 'type_region': [1194, 775, 1957, 1148], 'number_region': [1817, 787, 2284, 1125]}\",\n",
       " '{\\'id\\': 85, \\'barcode\\': \\'2860592996963\\', \\'doc_type\\': \"Товарная: \\'накладная\", \\'doc_number\\': \\'6017266630\\', \\'error_list\\': [\\'Пересканируйте, текст не найден\\'], \\'barcode_region\\': [161, 0, 1595, 5855], \\'type_region\\': [1197, 728, 1943, 1097], \\'number_region\\': [1806, 740, 2262, 1074]}',\n",
       " \"{'id': 86, 'barcode': '2860593085420', 'doc_type': 'Товарная, `накладная', 'doc_number': '6600234112', 'error_list': ['Пересканируйте, текст не найден'], 'barcode_region': [163, 0, 1613, 5885], 'type_region': [1114, 756, 1868, 1127], 'number_region': [1730, 768, 2191, 1104]}\",\n",
       " \"{'id': 87, 'barcode': '2860350669320', 'doc_type': 'Товарная накладная', 'doc_number': '6010496368', 'error_list': ['Пересканируйте, текст не найден'], 'barcode_region': [97, 0, 1266, 4134], 'type_region': [1600, 1259, 2699, 1631], 'number_region': [2483, 1275, 3213, 1614]}\",\n",
       " \"{'id': 88, 'barcode': '2860614461714', 'doc_type': 'Товарная| `накладная', 'doc_number': '6600267555', 'error_list': ['Пересканируйте, текст не найден'], 'barcode_region': [163, 0, 1613, 5885], 'type_region': [1085, 3367, 1839, 3738], 'number_region': [1701, 3379, 2162, 3715]}\",\n",
       " \"{'id': 89, 'barcode': '2860618866577', 'doc_type': 'Товарная| накладная', 'doc_number': '6017651737', 'error_list': ['Пересканируйте, текст не найден'], 'barcode_region': [161, 0, 1596, 5855], 'type_region': [1174, 603, 1921, 972], 'number_region': [1784, 615, 2240, 949]}\",\n",
       " \"{'id': 90, 'barcode': '2860609826856', 'doc_type': None, 'doc_number': None, 'error_list': ['Пересканируйте, текст не найден', 'Слишком размыто'], 'barcode_region': [163, 0, 1611, 5880], 'type_region': [832, 2882, 1585, 3253], 'number_region': [1447, 2894, 1908, 3229]}\",\n",
       " \"{'id': 91, 'barcode': '2860566468953', 'doc_type': 'Товарная` |накладная', 'doc_number': '6016677899', 'error_list': ['Пересканируйте, текст не найден'], 'barcode_region': [162, 0, 1600, 5863], 'type_region': [1141, 2805, 1889, 3174], 'number_region': [1752, 2817, 2209, 3151]}\",\n",
       " \"{'id': 92, 'barcode': '2860548949708', 'doc_type': 'Товарная` |накладная', 'doc_number': '6600113245', 'error_list': ['Пересканируйте, текст не найден'], 'barcode_region': [162, 0, 1608, 5876], 'type_region': [1117, 704, 1869, 1074], 'number_region': [1731, 716, 2190, 1051]}\",\n",
       " \"{'id': 93, 'barcode': '2860610420036', 'doc_type': 'Товарная: накладная', 'doc_number': '6017534174', 'error_list': ['Пересканируйте, текст не найден'], 'barcode_region': [163, 0, 1610, 5880], 'type_region': [1241, 742, 1994, 1113], 'number_region': [1856, 754, 2316, 1089]}\",\n",
       " \"{'id': 94, 'barcode': '2860599004975', 'doc_type': 'Товарная ‚накладная', 'doc_number': '6600003002', 'error_list': ['Пересканируйте, текст не найден'], 'barcode_region': [165, 0, 1630, 5917], 'type_region': [1140, 783, 1903, 1155], 'number_region': [1763, 795, 2229, 1132]}\",\n",
       " \"{'id': 95, 'barcode': '2810101258716', 'doc_type': 'Товарная накладная', 'doc_number': '6011020653', 'error_list': ['Пересканируйте, текст не найден'], 'barcode_region': [97, 0, 1266, 4133], 'type_region': [1566, 1244, 2665, 1616], 'number_region': [2449, 1260, 3179, 1599]}\",\n",
       " \"{'id': 96, 'barcode': '2860610629088', 'doc_type': 'Товарная: гнакладная', 'doc_number': '6017534882', 'error_list': ['Пересканируйте, текст не найден'], 'barcode_region': [162, 0, 1606, 5873], 'type_region': [1233, 752, 1985, 1122], 'number_region': [1847, 763, 2306, 1098]}\",\n",
       " \"{'id': 97, 'barcode': '2860597441536', 'doc_type': 'Товарная| накладная', 'doc_number': '6600243666', 'error_list': ['Пересканируйте, текст не найден'], 'barcode_region': [165, 0, 1630, 5915], 'type_region': [1143, 785, 1905, 1157], 'number_region': [1766, 796, 2231, 1134]}\",\n",
       " \"{'id': 98, 'barcode': '2860582098769', 'doc_type': 'Товарная: гнакладная', 'doc_number': '6017079063', 'error_list': ['Пересканируйте, текст не найден'], 'barcode_region': [162, 0, 1608, 5878], 'type_region': [1143, 742, 1895, 1112], 'number_region': [1757, 754, 2216, 1089]}\",\n",
       " \"{'id': 99, 'barcode': '2810096516426', 'doc_type': 'Товарная накладная', 'doc_number': '6010594120', 'error_list': ['Пересканируйте, текст не найден'], 'barcode_region': [97, 0, 1266, 4133], 'type_region': [1551, 1246, 2650, 1618], 'number_region': [2434, 1262, 3164, 1601]}\",\n",
       " \"{'id': 100, 'barcode': '2860610411164', 'doc_type': None, 'doc_number': None, 'error_list': ['Пересканируйте, текст не найден', 'Слишком размыто'], 'barcode_region': [166, 0, 1647, 5945], 'type_region': [1083, 564, 1854, 938], 'number_region': [1713, 576, 2183, 914]}\",\n",
       " \"{'id': 101, 'barcode': '2860619180474', 'doc_type': 'Товарная. |накладная', 'doc_number': '6017653452', 'error_list': ['Пересканируйте, текст не найден'], 'barcode_region': [162, 0, 1604, 5871], 'type_region': [1163, 745, 1913, 1115], 'number_region': [1776, 757, 2234, 1092]}\",\n",
       " \"{'id': 102, 'barcode': '2860350788793', 'doc_type': 'Товарная накладная', 'doc_number': '6010498565', 'error_list': ['Пересканируйте, текст не найден'], 'barcode_region': [97, 0, 1266, 4134], 'type_region': [1534, 1281, 2633, 1653], 'number_region': [2417, 1297, 3147, 1636]}\",\n",
       " \"{'id': 103, 'barcode': '2860356224295', 'doc_type': 'Товарная накладная', 'doc_number': '6010584004', 'error_list': ['Пересканируйте, текст не найден'], 'barcode_region': [97, 0, 1266, 4133], 'type_region': [1556, 1275, 2655, 1647], 'number_region': [2439, 1291, 3169, 1630]}\",\n",
       " \"{'id': 104, 'barcode': '2810078325367', 'doc_type': 'Товарная накладная', 'doc_number': '6008202144', 'error_list': ['Пересканируйте, текст не найден'], 'barcode_region': [97, 0, 1266, 4133], 'type_region': [1428, 1263, 2527, 1635], 'number_region': [2311, 1279, 3041, 1618]}\",\n",
       " \"{'id': 105, 'barcode': '2860613107354', 'doc_type': 'Товарная| |накладная', 'doc_number': '6002548658', 'error_list': ['Пересканируйте, текст не найден'], 'barcode_region': [163, 0, 1618, 5898], 'type_region': [1212, 745, 1969, 1117], 'number_region': [1830, 757, 2293, 1093]}\",\n",
       " \"{'id': 106, 'barcode': '2860618655089', 'doc_type': 'Товарная. накладная', 'doc_number': '6017649783', 'error_list': ['Пересканируйте, текст не найден'], 'barcode_region': [162, 0, 1606, 5873], 'type_region': [1193, 614, 1945, 984], 'number_region': [1807, 625, 2266, 960]}\",\n",
       " \"{'id': 107, 'barcode': '2860566457728', 'doc_type': 'Товарная |накладная', 'doc_number': '6016677713', 'error_list': ['Пересканируйте, текст не найден'], 'barcode_region': [162, 0, 1602, 5865], 'type_region': [1138, 3040, 1887, 3410], 'number_region': [1750, 3052, 2208, 3386]}\",\n",
       " \"{'id': 108, 'barcode': '2860356024154', 'doc_type': 'Товарная накладная', 'doc_number': '6010580611', 'error_list': ['Пересканируйте, текст не найден'], 'barcode_region': [97, 0, 1266, 4133], 'type_region': [1519, 1315, 2618, 1687], 'number_region': [2402, 1331, 3132, 1670]}\",\n",
       " \"{'id': 109, 'barcode': '2860350653411', 'doc_type': 'Товарная накладная', 'doc_number': '6010495752', 'error_list': ['Пересканируйте, текст не найден'], 'barcode_region': [97, 0, 1266, 4133], 'type_region': [1514, 1297, 2613, 1669], 'number_region': [2397, 1313, 3127, 1652]}\",\n",
       " \"{'id': 110, 'barcode': '2810090850434', 'doc_type': 'Товарная накладная', 'doc_number': '6009670355', 'error_list': ['Пересканируйте, текст не найден'], 'barcode_region': [97, 0, 1266, 4133], 'type_region': [1511, 1323, 2610, 1695], 'number_region': [2394, 1339, 3124, 1678]}\",\n",
       " \"{'id': 111, 'barcode': '2860611233796', 'doc_type': 'Товарнал :накладная', 'doc_number': 'R—P—[-ROKYMEHTa:', 'error_list': ['Пересканируйте, текст не найден'], 'barcode_region': [162, 0, 1603, 5868], 'type_region': [1203, 730, 1953, 1100], 'number_region': [1815, 742, 2273, 1076]}\",\n",
       " \"{'id': 112, 'barcode': '2860597420210', 'doc_type': 'Товарная! |накладная', 'doc_number': None, 'error_list': ['Пересканируйте, текст не найден'], 'barcode_region': [162, 0, 1603, 5868], 'type_region': [1306, 2728, 2056, 3098], 'number_region': [1918, 2740, 2376, 3074]}\",\n",
       " \"{'id': 113, 'barcode': '2860618473492', 'doc_type': 'Товарная накладная', 'doc_number': 'DAOKYMEHT2', 'error_list': ['Пересканируйте, текст не найден'], 'barcode_region': [163, 0, 1610, 5880], 'type_region': [1219, 752, 1972, 1123], 'number_region': [1834, 764, 2294, 1099]}\",\n",
       " \"{'id': 114, 'barcode': '2810078340681', 'doc_type': 'Товарная накладная', 'doc_number': '6008203771', 'error_list': ['Пересканируйте, текст не найден'], 'barcode_region': [97, 0, 1266, 4133], 'type_region': [1429, 1212, 2528, 1584], 'number_region': [2312, 1228, 3042, 1567]}\",\n",
       " \"{'id': 115, 'barcode': '2860582243602', 'doc_type': 'Товарная| |накладная', 'doc_number': '68017086746', 'error_list': ['Пересканируйте, текст не найден'], 'barcode_region': [163, 0, 1618, 5895], 'type_region': [1180, 753, 1936, 1125], 'number_region': [1798, 765, 2260, 1101]}\",\n",
       " \"{'id': 116, 'barcode': '2810078921507', 'doc_type': 'Товарная накладная', 'doc_number': '6008228464', 'error_list': ['Пересканируйте, текст не найден'], 'barcode_region': [97, 0, 1266, 4133], 'type_region': [1424, 1239, 2523, 1611], 'number_region': [2307, 1255, 3037, 1594]}\",\n",
       " '{\\'id\\': 117, \\'barcode\\': \\'2860614608874\\', \\'doc_type\\': \"Товарная| \\'накладная\", \\'doc_number\\': \\'6600576977\\', \\'error_list\\': [\\'Пересканируйте, текст не найден\\'], \\'barcode_region\\': [168, 0, 1661, 5902], \\'type_region\\': [1169, 3672, 1946, 4043], \\'number_region\\': [1803, 3683, 2278, 4020]}',\n",
       " \"{'id': 118, 'barcode': '2860599552148', 'doc_type': 'Товарная, ‚накладная', 'doc_number': '3AGKYM@eHTa', 'error_list': ['Пересканируйте, текст не найден'], 'barcode_region': [164, 0, 1623, 5905], 'type_region': [1101, 624, 1860, 996], 'number_region': [1721, 636, 2185, 972]}\",\n",
       " \"{'id': 119, 'barcode': '2860615294724', 'doc_type': 'Товарная| `накладная', 'doc_number': '6600269283', 'error_list': ['Пересканируйте, текст не найден'], 'barcode_region': [161, 0, 1591, 5845], 'type_region': [1120, 3312, 1864, 3680], 'number_region': [1727, 3323, 2182, 3657]}\",\n",
       " \"{'id': 120, 'barcode': '2860609765162', 'doc_type': 'Товарная| гнакладная', 'doc_number': '6017531682', 'error_list': ['Пересканируйте, текст не найден'], 'barcode_region': [163, 0, 1618, 5895], 'type_region': [1232, 760, 1989, 1132], 'number_region': [1850, 772, 2313, 1108]}\",\n",
       " \"{'id': 121, 'barcode': '2860610941494', 'doc_type': 'Товарная |накладная', 'doc_number': '6017538309', 'error_list': ['Пересканируйте, текст не найден'], 'barcode_region': [161, 0, 1595, 5853], 'type_region': [1192, 735, 1938, 1104], 'number_region': [1801, 747, 2257, 1081]}\",\n",
       " \"{'id': 122, 'barcode': '2860610679120', 'doc_type': 'Товарная` ›накладная', 'doc_number': '6017533986', 'error_list': ['Пересканируйте, текст не найден'], 'barcode_region': [162, 0, 1600, 5863], 'type_region': [1223, 743, 1971, 1112], 'number_region': [1834, 755, 2291, 1089]}\",\n",
       " \"{'id': 123, 'barcode': '2860611250205', 'doc_type': None, 'doc_number': None, 'error_list': ['Пересканируйте, текст не найден', 'Слишком размыто'], 'barcode_region': [161, 0, 1593, 5850], 'type_region': [1100, 630, 1845, 999], 'number_region': [1709, 642, 2164, 975]}\",\n",
       " \"{'id': 124, 'barcode': '2810097781793', 'doc_type': 'Товарная накладная', 'doc_number': '6010665386', 'error_list': ['Пересканируйте, текст не найден'], 'barcode_region': [97, 0, 1266, 4133], 'type_region': [1564, 1250, 2663, 1622], 'number_region': [2447, 1266, 3177, 1605]}\",\n",
       " \"{'id': 125, 'barcode': '2810094881618', 'doc_type': 'Товарная накладная', 'doc_number': '6010389831', 'error_list': ['Пересканируйте, текст не найден'], 'barcode_region': [97, 0, 1266, 4134], 'type_region': [1497, 1289, 2596, 1661], 'number_region': [2380, 1305, 3110, 1644]}\",\n",
       " \"{'id': 126, 'barcode': '2860609756344', 'doc_type': 'Товарная| |накладная', 'doc_number': '6017532050', 'error_list': ['Пересканируйте, текст не найден'], 'barcode_region': [163, 0, 1613, 5885], 'type_region': [1218, 757, 1972, 1128], 'number_region': [1834, 769, 2295, 1105]}\",\n",
       " \"{'id': 127, 'barcode': '2860609886874', 'doc_type': 'Товарная| внакладная', 'doc_number': '6017533721', 'error_list': ['Пересканируйте, текст не найден'], 'barcode_region': [163, 0, 1615, 5890], 'type_region': [1234, 763, 1990, 1134], 'number_region': [1851, 775, 2313, 1110]}\",\n",
       " \"{'id': 128, 'barcode': '2810094808127', 'doc_type': 'Товарная накладная', 'doc_number': '6010496430', 'error_list': ['Пересканируйте, текст не найден'], 'barcode_region': [97, 0, 1266, 4134], 'type_region': [1507, 1293, 2606, 1665], 'number_region': [2390, 1309, 3120, 1648]}\",\n",
       " \"{'id': 129, 'barcode': '2860350803625', 'doc_type': 'Товарная накладная', 'doc_number': '6010498985', 'error_list': ['Пересканируйте, текст не найден'], 'barcode_region': [97, 0, 1266, 4134], 'type_region': [1508, 1308, 2607, 1680], 'number_region': [2391, 1324, 3121, 1663]}\",\n",
       " \"{'id': 130, 'barcode': '2860350693905', 'doc_type': 'Товарная нНакладная', 'doc_number': '6010497029', 'error_list': ['Пересканируйте, текст не найден'], 'barcode_region': [97, 0, 1266, 4134], 'type_region': [1600, 1254, 2699, 1626], 'number_region': [2483, 1270, 3213, 1609]}\",\n",
       " \"{'id': 131, 'barcode': '2860582194171', 'doc_type': 'Товарная |накладная', 'doc_number': '6017080146', 'error_list': ['Пересканируйте, текст не найден'], 'barcode_region': [161, 0, 1591, 5848], 'type_region': [1112, 735, 1856, 1103], 'number_region': [1720, 747, 2174, 1080]}\",\n",
       " \"{'id': 132, 'barcode': '2810101258679', 'doc_type': 'Товарная накладная', 'doc_number': '6011020608', 'error_list': ['Пересканируйте, текст не найден'], 'barcode_region': [97, 0, 1266, 4133], 'type_region': [1559, 1238, 2658, 1610], 'number_region': [2442, 1254, 3172, 1593]}\",\n",
       " \"{'id': 133, 'barcode': '2860592404024', 'doc_type': 'Товарная |накладная', 'doc_number': '6017261974', 'error_list': ['Пересканируйте, текст не найден'], 'barcode_region': [163, 0, 1611, 5883], 'type_region': [1211, 744, 1964, 1115], 'number_region': [1826, 756, 2287, 1091]}\",\n",
       " \"{'id': 134, 'barcode': '2860598737003', 'doc_type': 'Товарная, |накладная', 'doc_number': '6600001001', 'error_list': ['Пересканируйте, текст не найден'], 'barcode_region': [165, 0, 1631, 5917], 'type_region': [1127, 785, 1890, 1157], 'number_region': [1750, 797, 2216, 1134]}\",\n",
       " \"{'id': 135, 'barcode': '2860545577539', 'doc_type': 'Товарная| ‚накладная', 'doc_number': '6600102483', 'error_list': ['Пересканируйте, текст не найден'], 'barcode_region': [167, 0, 1652, 5958], 'type_region': [1242, 2907, 2015, 3282], 'number_region': [1873, 2918, 2345, 3258]}\",\n",
       " \"{'id': 136, 'barcode': '2860591580422', 'doc_type': 'Товарная накладная', 'doc_number': '6600230046', 'error_list': ['Пересканируйте, текст не найден'], 'barcode_region': [98, 0, 1287, 4275], 'type_region': [1663, 1380, 2781, 1764], 'number_region': [2561, 1397, 3304, 1747]}\",\n",
       " \"{'id': 137, 'barcode': '2860350445450', 'doc_type': 'Товарная накладная', 'doc_number': '6010348775', 'error_list': ['Пересканируйте, текст не найден'], 'barcode_region': [97, 0, 1266, 4134], 'type_region': [1508, 1301, 2607, 1673], 'number_region': [2391, 1317, 3121, 1656]}\",\n",
       " \"{'id': 138, 'barcode': '2860617907226', 'doc_type': 'Товарная` |накладная', 'doc_number': '6017648400', 'error_list': ['Пересканируйте, текст не найден'], 'barcode_region': [164, 0, 1622, 5903], 'type_region': [1212, 621, 1971, 993], 'number_region': [1832, 633, 2296, 969]}\",\n",
       " \"{'id': 139, 'barcode': '2810095109414', 'doc_type': 'Товарная накладная', 'doc_number': '6010496444', 'error_list': ['Пересканируйте, текст не найден'], 'barcode_region': [97, 0, 1266, 4133], 'type_region': [1509, 1303, 2608, 1675], 'number_region': [2392, 1319, 3122, 1658]}\",\n",
       " \"{'id': 140, 'barcode': '2860614372225', 'doc_type': 'Товарная |накладная', 'doc_number': '6600268132', 'error_list': ['Пересканируйте, текст не найден'], 'barcode_region': [163, 0, 1617, 5894], 'type_region': [1094, 2903, 1850, 3274], 'number_region': [1711, 2915, 2174, 3251]}\",\n",
       " \"{'id': 141, 'barcode': '2860613502609', 'doc_type': 'Товарная: |накладная', 'doc_number': '6002548660', 'error_list': ['Пересканируйте, текст не найден'], 'barcode_region': [164, 0, 1622, 5900], 'type_region': [1222, 751, 1981, 1122], 'number_region': [1842, 762, 2305, 1099]}\",\n",
       " \"{'id': 142, 'barcode': '2860582444504', 'doc_type': 'Товарная| |накладная', 'doc_number': '8017080275e', 'error_list': ['Пересканируйте, текст не найден'], 'barcode_region': [166, 0, 1643, 5943], 'type_region': [1220, 769, 1989, 1143], 'number_region': [1848, 780, 2317, 1119]}\",\n",
       " \"{'id': 143, 'barcode': '2860350617796', 'doc_type': 'Товарная накладная', 'doc_number': '6010453494', 'error_list': ['Пересканируйте, текст не найден'], 'barcode_region': [97, 0, 1266, 4133], 'type_region': [1509, 1325, 2608, 1697], 'number_region': [2392, 1341, 3122, 1680]}\",\n",
       " \"{'id': 144, 'barcode': '2810095129078', 'doc_type': 'Товарная накладная', 'doc_number': '6010507178', 'error_list': ['Пересканируйте, текст не найден'], 'barcode_region': [97, 0, 1266, 4133], 'type_region': [1504, 1279, 2603, 1651], 'number_region': [2387, 1295, 3117, 1634]}\",\n",
       " '{\\'id\\': 145, \\'barcode\\': \\'2860592721855\\', \\'doc_type\\': \"Товарная \\'накладная\", \\'doc_number\\': \\'6047263573\\', \\'error_list\\': [\\'Пересканируйте, текст не найден\\'], \\'barcode_region\\': [162, 0, 1605, 5871], \\'type_region\\': [1210, 744, 1961, 1114], \\'number_region\\': [1823, 756, 2282, 1091]}',\n",
       " \"{'id': 146, 'barcode': '2860615433956', 'doc_type': 'Товарная: накладная', 'doc_number': '6600270278', 'error_list': ['Пересканируйте, текст не найден'], 'barcode_region': [163, 0, 1614, 5889], 'type_region': [1112, 3101, 1867, 3472], 'number_region': [1729, 3113, 2190, 3448]}\",\n",
       " '{\\'id\\': 147, \\'barcode\\': \\'2860617869722\\', \\'doc_type\\': \"Товарная. \\'накладная\", \\'doc_number\\': \\'6017847375\\', \\'error_list\\': [\\'Пересканируйте, текст не найден\\'], \\'barcode_region\\': [165, 0, 1636, 5928], \\'type_region\\': [1249, 737, 2014, 1111], \\'number_region\\': [1874, 749, 2341, 1087]}',\n",
       " \"{'id': 148, 'barcode': '2860593339424', 'doc_type': 'Товарная| |Ннакладная', 'doc_number': '6017268031', 'error_list': ['Пересканируйте, текст не найден'], 'barcode_region': [163, 0, 1609, 5878], 'type_region': [1209, 747, 1961, 1117], 'number_region': [1823, 759, 2283, 1094]}\",\n",
       " \"{'id': 149, 'barcode': '2860610860917', 'doc_type': 'Товарная! гнакладная', 'doc_number': '8017537341p—A—', 'error_list': ['Пересканируйте, текст не найден'], 'barcode_region': [163, 0, 1618, 5895], 'type_region': [1235, 765, 1991, 1137], 'number_region': [1853, 777, 2315, 1113]}\",\n",
       " \"{'id': 150, 'barcode': '2860350310024', 'doc_type': 'Товарная ‘накладная', 'doc_number': '6010251616', 'error_list': ['Пересканируйте, текст не найден'], 'barcode_region': [97, 0, 1266, 4133], 'type_region': [1499, 1312, 2598, 1684], 'number_region': [2382, 1328, 3112, 1667]}\",\n",
       " \"{'id': 151, 'barcode': '2810101258709', 'doc_type': 'Товарная накладная', 'doc_number': '6011010073', 'error_list': ['Пересканируйте, текст не найден'], 'barcode_region': [97, 0, 1266, 4133], 'type_region': [1541, 1252, 2640, 1624], 'number_region': [2424, 1268, 3154, 1607]}\",\n",
       " \"{'id': 152, 'barcode': '2810095096936', 'doc_type': 'Товарная накладная', 'doc_number': '6010512132', 'error_list': ['Пересканируйте, текст не найден'], 'barcode_region': [97, 0, 1266, 4133], 'type_region': [1486, 1317, 2585, 1689], 'number_region': [2369, 1333, 3099, 1672]}\",\n",
       " \"{'id': 153, 'barcode': '2860611888071', 'doc_type': 'Товарная: |накладная', 'doc_number': '€002548937', 'error_list': ['Пересканируйте, текст не найден'], 'barcode_region': [163, 0, 1614, 5888], 'type_region': [1194, 743, 1949, 1114], 'number_region': [1811, 754, 2272, 1090]}\",\n",
       " \"{'id': 154, 'barcode': '2860618518735', 'doc_type': 'Товарная` `накладная', 'doc_number': '8017849715', 'error_list': ['Пересканируйте, текст не найден'], 'barcode_region': [163, 0, 1610, 5880], 'type_region': [1219, 752, 1972, 1123], 'number_region': [1834, 764, 2294, 1099]}\",\n",
       " \"{'id': 155, 'barcode': '2860609817946', 'doc_type': 'Товарная| |накладная', 'doc_number': '8017533517', 'error_list': ['Пересканируйте, текст не найден'], 'barcode_region': [163, 0, 1610, 5880], 'type_region': [1226, 751, 1979, 1122], 'number_region': [1841, 763, 2301, 1098]}\",\n",
       " \"{'id': 156, 'barcode': '2860350445276', 'doc_type': 'Товарная накладная', 'doc_number': '6010348770', 'error_list': ['Пересканируйте, текст не найден'], 'barcode_region': [97, 0, 1266, 4134], 'type_region': [1511, 1293, 2610, 1665], 'number_region': [2394, 1309, 3124, 1648]}\",\n",
       " \"{'id': 157, 'barcode': '2810095102101', 'doc_type': 'Товарная накладная', 'doc_number': '6010422349', 'error_list': ['Пересканируйте, текст не найден'], 'barcode_region': [97, 0, 1266, 4134], 'type_region': [1497, 1303, 2596, 1675], 'number_region': [2380, 1319, 3110, 1658]}\",\n",
       " \"{'id': 158, 'barcode': '2860600635488', 'doc_type': 'Товарная/ накладная', 'doc_number': '6017410823', 'error_list': ['Пересканируйте, текст не найден'], 'barcode_region': [161, 0, 1598, 5860], 'type_region': [1070, 608, 1817, 977], 'number_region': [1680, 619, 2137, 953]}\",\n",
       " \"{'id': 159, 'barcode': '2810101258648', 'doc_type': 'Товарная накладная', 'doc_number': '6011020606', 'error_list': ['Пересканируйте, текст не найден'], 'barcode_region': [97, 0, 1266, 4133], 'type_region': [1547, 1249, 2646, 1621], 'number_region': [2430, 1265, 3160, 1604]}\",\n",
       " \"{'id': 160, 'barcode': '2860350518246', 'doc_type': 'Товарная накладная', 'doc_number': '6010411519', 'error_list': ['Пересканируйте, текст не найден'], 'barcode_region': [97, 0, 1266, 4134], 'type_region': [1515, 1278, 2614, 1650], 'number_region': [2398, 1294, 3128, 1633]}\",\n",
       " \"{'id': 161, 'barcode': '2810098835297', 'doc_type': 'Товарная накладная', 'doc_number': '6010741944', 'error_list': ['Пересканируйте, текст не найден'], 'barcode_region': [97, 0, 1266, 4133], 'type_region': [1506, 1290, 2605, 1662], 'number_region': [2389, 1306, 3119, 1645]}\",\n",
       " \"{'id': 162, 'barcode': '2810098835297', 'doc_type': 'Товарная накладная', 'doc_number': '6010741944', 'error_list': ['Пересканируйте, текст не найден'], 'barcode_region': [97, 0, 1266, 4133], 'type_region': [1554, 1252, 2653, 1624], 'number_region': [2437, 1268, 3167, 1607]}\",\n",
       " \"{'id': 163, 'barcode': '2860350260350', 'doc_type': 'Товарная| накладная', 'doc_number': '6010250632', 'error_list': ['Пересканируйте, текст не найден'], 'barcode_region': [97, 0, 1266, 4133], 'type_region': [1499, 1293, 2598, 1665], 'number_region': [2382, 1309, 3112, 1648]}\",\n",
       " \"{'id': 164, 'barcode': '2810096516365', 'doc_type': 'Товарная накладная', 'doc_number': ')AOKyMeHTa', 'error_list': ['Пересканируйте, текст не найден'], 'barcode_region': [97, 0, 1266, 4133], 'type_region': [1526, 1318, 2625, 1690], 'number_region': [2409, 1334, 3139, 1673]}\",\n",
       " \"{'id': 165, 'barcode': '2860611147345', 'doc_type': 'Товарная |накладная', 'doc_number': '‘80175397302', 'error_list': ['Пересканируйте, текст не найден'], 'barcode_region': [161, 0, 1597, 5858], 'type_region': [1219, 730, 1966, 1099], 'number_region': [1829, 741, 2286, 1075]}\",\n",
       " \"{'id': 166, 'barcode': '2860611500225', 'doc_type': None, 'doc_number': None, 'error_list': ['Пересканируйте, текст не найден', 'Слишком размыто'], 'barcode_region': [161, 0, 1593, 5850], 'type_region': [1173, 665, 1918, 1034], 'number_region': [1782, 677, 2237, 1010]}\",\n",
       " \"{'id': 167, 'barcode': '2810097781793', 'doc_type': 'Товарная накладная', 'doc_number': '6010665386', 'error_list': ['Пересканируйте, текст не найден'], 'barcode_region': [97, 0, 1266, 4133], 'type_region': [1519, 1320, 2618, 1692], 'number_region': [2402, 1336, 3132, 1675]}\",\n",
       " \"{'id': 168, 'barcode': '2860611441504', 'doc_type': 'Товарная: |вакладная', 'doc_number': '6002548256', 'error_list': ['Пересканируйте, текст не найден'], 'barcode_region': [163, 0, 1612, 5885], 'type_region': [1186, 742, 1940, 1113], 'number_region': [1802, 754, 2262, 1090]}\",\n",
       " \"{'id': 169, 'barcode': '2860583199144', 'doc_type': 'Товарная: |накладная', 'doc_number': 'eKonHYecTs0A—', 'error_list': ['Пересканируйте, текст не найден'], 'barcode_region': [163, 0, 1615, 5888], 'type_region': [1176, 758, 1932, 1129], 'number_region': [1793, 769, 2255, 1105]}\",\n",
       " \"{'id': 170, 'barcode': '2860350795548', 'doc_type': 'Товарная накладная', 'doc_number': '6010498941', 'error_list': ['Пересканируйте, текст не найден'], 'barcode_region': [97, 0, 1266, 4134], 'type_region': [1507, 1303, 2606, 1675], 'number_region': [2390, 1319, 3120, 1658]}\",\n",
       " \"{'id': 171, 'barcode': '2810095103191', 'doc_type': 'Товарная накладная', 'doc_number': '6010503866', 'error_list': ['Пересканируйте, текст не найден'], 'barcode_region': [97, 0, 1266, 4134], 'type_region': [1500, 1290, 2599, 1662], 'number_region': [2383, 1306, 3113, 1645]}\",\n",
       " \"{'id': 172, 'barcode': '2860581421063', 'doc_type': 'Товарная: накладная', 'doc_number': '6600553089', 'error_list': ['Пересканируйте, текст не найден'], 'barcode_region': [161, 0, 1593, 5848], 'type_region': [1110, 2886, 1855, 3254], 'number_region': [1718, 2898, 2173, 3231]}\",\n",
       " \"{'id': 173, 'barcode': '2860610935011', 'doc_type': 'Товарная| |накладная', 'doc_number': '6017537288', 'error_list': ['Пересканируйте, текст не найден'], 'barcode_region': [162, 0, 1599, 5860], 'type_region': [1103, 516, 1851, 885], 'number_region': [1713, 527, 2170, 861]}\",\n",
       " \"{'id': 174, 'barcode': '2810094888273', 'doc_type': 'Товарная накладная', 'doc_number': '6010422353', 'error_list': ['Пересканируйте, текст не найден'], 'barcode_region': [97, 0, 1266, 4134], 'type_region': [1475, 1333, 2574, 1705], 'number_region': [2358, 1349, 3088, 1688]}\",\n",
       " \"{'id': 175, 'barcode': '2810095176461', 'doc_type': 'Товарная накладная', 'doc_number': '6010496980', 'error_list': ['Пересканируйте, текст не найден'], 'barcode_region': [97, 0, 1266, 4133], 'type_region': [1486, 1292, 2585, 1664], 'number_region': [2369, 1308, 3099, 1647]}\",\n",
       " '{\\'id\\': 176, \\'barcode\\': \\'2860609785085\\', \\'doc_type\\': \"Товарная| \\'накладная\", \\'doc_number\\': \\'6017534773\\', \\'error_list\\': [\\'Пересканируйте, текст не найден\\'], \\'barcode_region\\': [163, 0, 1614, 5888], \\'type_region\\': [1229, 757, 1984, 1128], \\'number_region\\': [1846, 768, 2307, 1104]}',\n",
       " \"{'id': 177, 'barcode': '2860582444504', 'doc_type': 'Товарная| |накладная', 'doc_number': '8017080275e', 'error_list': ['Пересканируйте, текст не найден'], 'barcode_region': [166, 0, 1643, 5943], 'type_region': [1220, 769, 1989, 1143], 'number_region': [1848, 780, 2317, 1119]}\",\n",
       " \"{'id': 178, 'barcode': '2860610590685', 'doc_type': None, 'doc_number': None, 'error_list': ['Пересканируйте, текст не найден', 'Слишком размыто'], 'barcode_region': [163, 0, 1618, 5895], 'type_region': [1122, 631, 1879, 1003], 'number_region': [1740, 643, 2203, 979]}\",\n",
       " \"{'id': 179, 'barcode': '2860350693837', 'doc_type': 'Товарная накладная', 'doc_number': '6010497027', 'error_list': ['Пересканируйте, текст не найден'], 'barcode_region': [97, 0, 1266, 4134], 'type_region': [1595, 1260, 2694, 1632], 'number_region': [2478, 1276, 3208, 1615]}\",\n",
       " \"{'id': 180, 'barcode': '2810078707477', 'doc_type': 'Товарная накладная', 'doc_number': '6008221521', 'error_list': ['Пересканируйте, текст не найден'], 'barcode_region': [97, 0, 1266, 4134], 'type_region': [1410, 1253, 2509, 1625], 'number_region': [2293, 1269, 3023, 1608]}\",\n",
       " \"{'id': 181, 'barcode': '2860350669306', 'doc_type': 'Товарная накладная', 'doc_number': '6010496367', 'error_list': ['Пересканируйте, текст не найден'], 'barcode_region': [97, 0, 1266, 4134], 'type_region': [1602, 1268, 2701, 1640], 'number_region': [2485, 1284, 3215, 1623]}\",\n",
       " \"{'id': 182, 'barcode': '2860610623253', 'doc_type': 'Товарная| |накладная', 'doc_number': '6017535957', 'error_list': ['Пересканируйте, текст не найден'], 'barcode_region': [164, 0, 1619, 5897], 'type_region': [1076, 540, 1833, 912], 'number_region': [1694, 552, 2157, 888]}\",\n",
       " \"{'id': 183, 'barcode': '2810096516426', 'doc_type': 'Товарная накладная', 'doc_number': '6010594120', 'error_list': ['Пересканируйте, текст не найден'], 'barcode_region': [97, 0, 1266, 4133], 'type_region': [1531, 1288, 2630, 1660], 'number_region': [2414, 1304, 3144, 1643]}\",\n",
       " \"{'id': 184, 'barcode': '2860619145831', 'doc_type': 'Товарная| `накладная', 'doc_number': '60%7654120', 'error_list': ['Пересканируйте, текст не найден'], 'barcode_region': [162, 0, 1604, 5871], 'type_region': [1090, 605, 1840, 975], 'number_region': [1703, 617, 2161, 952]}\",\n",
       " \"{'id': 185, 'barcode': '2860614951178', 'doc_type': 'Товарная ‚накладная', 'doc_number': '$017561013', 'error_list': ['Пересканируйте, текст не найден', 'Слишком размыто'], 'barcode_region': [161, 0, 1591, 5846], 'type_region': [1128, 634, 1872, 1002], 'number_region': [1736, 645, 2190, 979]}\",\n",
       " '{\\'id\\': 186, \\'barcode\\': \\'2860592953966\\', \\'doc_type\\': \\'Товарная| |накладная\\', \\'doc_number\\': \"601726li\\'229\", \\'error_list\\': [\\'Пересканируйте, текст не найден\\'], \\'barcode_region\\': [163, 0, 1614, 5888], \\'type_region\\': [1231, 756, 1986, 1127], \\'number_region\\': [1848, 767, 2309, 1103]}',\n",
       " \"{'id': 187, 'barcode': '2860611187853', 'doc_type': 'Товарная |накладная', 'doc_number': '6017540704-', 'error_list': ['Пересканируйте, текст не найден'], 'barcode_region': [161, 0, 1597, 5858], 'type_region': [1209, 731, 1956, 1100], 'number_region': [1819, 742, 2276, 1076]}\",\n",
       " \"{'id': 188, 'barcode': '2810078645670', 'doc_type': 'Товарная накладная', 'doc_number': '6008221523', 'error_list': ['Пересканируйте, текст не найден'], 'barcode_region': [97, 0, 1266, 4134], 'type_region': [1428, 1262, 2527, 1634], 'number_region': [2311, 1278, 3041, 1617]}\",\n",
       " \"{'id': 189, 'barcode': '2860601427549', 'doc_type': 'Товарная: [накладная', 'doc_number': '6017415830', 'error_list': ['Пересканируйте, текст не найден'], 'barcode_region': [161, 0, 1595, 5853], 'type_region': [1172, 736, 1918, 1105], 'number_region': [1781, 748, 2237, 1082]}\",\n",
       " \"{'id': 190, 'barcode': '2860350653602', 'doc_type': 'Товарная накладная', 'doc_number': '6010495758', 'error_list': ['Пересканируйте, текст не найден'], 'barcode_region': [97, 0, 1266, 4134], 'type_region': [1600, 1263, 2699, 1635], 'number_region': [2483, 1279, 3213, 1618]}\",\n",
       " \"{'id': 191, 'barcode': '2860523958756', 'doc_type': 'Товарная накладная', 'doc_number': '6600036286', 'error_list': ['Пересканируйте, текст не найден'], 'barcode_region': [97, 0, 1271, 4168], 'type_region': [1578, 1301, 2681, 1677], 'number_region': [2464, 1318, 3198, 1660]}\",\n",
       " \"{'id': 192, 'barcode': '2810092864163', 'doc_type': 'Товарная накладная', 'doc_number': '6010498029', 'error_list': ['Пересканируйте, текст не найден'], 'barcode_region': [97, 0, 1266, 4133], 'type_region': [1524, 1290, 2623, 1662], 'number_region': [2407, 1306, 3137, 1645]}\",\n",
       " \"{'id': 193, 'barcode': '2860618464230', 'doc_type': 'Товарная |накладная', 'doc_number': '6017650204', 'error_list': ['Пересканируйте, текст не найден'], 'barcode_region': [162, 0, 1608, 5878], 'type_region': [1216, 752, 1968, 1122], 'number_region': [1830, 764, 2289, 1099]}\",\n",
       " \"{'id': 194, 'barcode': '2860350795388', 'doc_type': 'Товарная накладная', 'doc_number': '6010498935', 'error_list': ['Пересканируйте, текст не найден'], 'barcode_region': [97, 0, 1266, 4134], 'type_region': [1518, 1307, 2617, 1679], 'number_region': [2401, 1323, 3131, 1662]}\",\n",
       " \"{'id': 195, 'barcode': '2860356224295', 'doc_type': 'Товарная накладная', 'doc_number': '6010584004', 'error_list': ['Пересканируйте, текст не найден'], 'barcode_region': [97, 0, 1266, 4133], 'type_region': [1524, 1290, 2623, 1662], 'number_region': [2407, 1306, 3137, 1645]}\",\n",
       " \"{'id': 196, 'barcode': '2860610616293', 'doc_type': 'Товарная| `накладная', 'doc_number': '6003471981', 'error_list': ['Пересканируйте, текст не найден'], 'barcode_region': [166, 0, 1648, 5949], 'type_region': [1096, 574, 1867, 949], 'number_region': [1726, 586, 2197, 925]}\",\n",
       " \"{'id': 197, 'barcode': '2810096516396', 'doc_type': 'Товарная накладная', 'doc_number': '6010589100', 'error_list': ['Пересканируйте, текст не найден'], 'barcode_region': [97, 0, 1266, 4133], 'type_region': [1524, 1325, 2623, 1697], 'number_region': [2407, 1341, 3137, 1680]}\",\n",
       " \"{'id': 198, 'barcode': '2810095177772', 'doc_type': 'Товарная накладная', 'doc_number': '6010503817', 'error_list': ['Пересканируйте, текст не найден'], 'barcode_region': [97, 0, 1266, 4134], 'type_region': [1597, 1268, 2696, 1640], 'number_region': [2480, 1284, 3210, 1623]}\",\n",
       " \"{'id': 199, 'barcode': '2860356224295', 'doc_type': 'Товарная накладная', 'doc_number': '6010584004', 'error_list': ['Пересканируйте, текст не найден'], 'barcode_region': [97, 0, 1266, 4133], 'type_region': [1517, 1331, 2616, 1703], 'number_region': [2400, 1347, 3130, 1686]}\",\n",
       " \"{'id': 200, 'barcode': '2860617832306', 'doc_type': 'Товарная| накладная', 'doc_number': '5017648128', 'error_list': ['Пересканируйте, текст не найден'], 'barcode_region': [162, 0, 1599, 5860], 'type_region': [1170, 578, 1918, 947], 'number_region': [1780, 589, 2237, 923]}\",\n",
       " \"{'id': 201, 'barcode': '2860285531495', 'doc_type': 'Товарная накладная', 'doc_number': '6008204454', 'error_list': ['Пересканируйте, текст не найден'], 'barcode_region': [97, 0, 1266, 4134], 'type_region': [1430, 1246, 2529, 1618], 'number_region': [2313, 1262, 3043, 1601]}\",\n",
       " \"{'id': 202, 'barcode': '2860532178794', 'doc_type': 'Товарная накладная', 'doc_number': '6600061199', 'error_list': ['Пересканируйте, текст не найден'], 'barcode_region': [97, 0, 1269, 4158], 'type_region': [1592, 1265, 2694, 1639], 'number_region': [2477, 1282, 3210, 1623]}\"]"
      ]
     },
     "execution_count": 460,
     "metadata": {},
     "output_type": "execute_result"
    }
   ],
   "source": [
    "results_list"
   ]
  },
  {
   "cell_type": "code",
   "execution_count": 461,
   "id": "2e296809",
   "metadata": {},
   "outputs": [
    {
     "data": {
      "text/plain": [
       "203"
      ]
     },
     "execution_count": 461,
     "metadata": {},
     "output_type": "execute_result"
    }
   ],
   "source": [
    "len(results_list)"
   ]
  },
  {
   "cell_type": "code",
   "execution_count": 462,
   "id": "05f6918b",
   "metadata": {},
   "outputs": [],
   "source": [
    "df = pd.DataFrame()\n",
    "\n",
    "for num, _ in enumerate(results_list):\n",
    "    q = eval(results_list[num].replace('\\\\', ''))\n",
    "    if q['error_list'] == []:\n",
    "        q['error_list'] = 0\n",
    "    elif len(q['error_list']) == 2:\n",
    "        q['error_list'] = 2\n",
    "    else:\n",
    "        q['error_list'] = 1\n",
    "        \n",
    "    q['barcode_region'] = 0\n",
    "    q['type_region'] = 0\n",
    "    q['number_region'] =0\n",
    "    \n",
    "    res_df = pd.DataFrame(q, index=[0])\n",
    "    df = pd.concat([df, res_df])"
   ]
  },
  {
   "cell_type": "code",
   "execution_count": 463,
   "id": "77fe87ba",
   "metadata": {},
   "outputs": [],
   "source": [
    "df = df.reset_index(drop=True)"
   ]
  },
  {
   "cell_type": "code",
   "execution_count": 464,
   "id": "660d257c",
   "metadata": {},
   "outputs": [],
   "source": [
    "df['filename'] = filename_list"
   ]
  },
  {
   "cell_type": "code",
   "execution_count": 465,
   "id": "5b2c32de",
   "metadata": {},
   "outputs": [],
   "source": [
    "df = df[['id', 'filename', 'barcode', 'doc_type', 'doc_number', 'error_list']]"
   ]
  },
  {
   "cell_type": "code",
   "execution_count": 466,
   "id": "0815ac2b",
   "metadata": {},
   "outputs": [
    {
     "data": {
      "text/html": [
       "<div>\n",
       "<style scoped>\n",
       "    .dataframe tbody tr th:only-of-type {\n",
       "        vertical-align: middle;\n",
       "    }\n",
       "\n",
       "    .dataframe tbody tr th {\n",
       "        vertical-align: top;\n",
       "    }\n",
       "\n",
       "    .dataframe thead th {\n",
       "        text-align: right;\n",
       "    }\n",
       "</style>\n",
       "<table border=\"1\" class=\"dataframe\">\n",
       "  <thead>\n",
       "    <tr style=\"text-align: right;\">\n",
       "      <th></th>\n",
       "      <th>id</th>\n",
       "      <th>filename</th>\n",
       "      <th>barcode</th>\n",
       "      <th>doc_type</th>\n",
       "      <th>doc_number</th>\n",
       "      <th>error_list</th>\n",
       "    </tr>\n",
       "  </thead>\n",
       "  <tbody>\n",
       "    <tr>\n",
       "      <th>0</th>\n",
       "      <td>0</td>\n",
       "      <td>108.jpg</td>\n",
       "      <td>2860587076540</td>\n",
       "      <td>Товарная накладная</td>\n",
       "      <td>6017110800</td>\n",
       "      <td>1</td>\n",
       "    </tr>\n",
       "    <tr>\n",
       "      <th>1</th>\n",
       "      <td>1</td>\n",
       "      <td>134.jpg</td>\n",
       "      <td>2860592637279</td>\n",
       "      <td>Товарная| 'накладная</td>\n",
       "      <td>8017263078</td>\n",
       "      <td>1</td>\n",
       "    </tr>\n",
       "    <tr>\n",
       "      <th>2</th>\n",
       "      <td>2</td>\n",
       "      <td>145.jpg</td>\n",
       "      <td>2860601366206</td>\n",
       "      <td>Товарная| |накладная</td>\n",
       "      <td>—_—..KoluyecraoAee—</td>\n",
       "      <td>1</td>\n",
       "    </tr>\n",
       "    <tr>\n",
       "      <th>3</th>\n",
       "      <td>3</td>\n",
       "      <td>020.jpg</td>\n",
       "      <td>2810094798084</td>\n",
       "      <td>Товарная накладная</td>\n",
       "      <td>6010358825</td>\n",
       "      <td>1</td>\n",
       "    </tr>\n",
       "    <tr>\n",
       "      <th>4</th>\n",
       "      <td>4</td>\n",
       "      <td>172.jpg</td>\n",
       "      <td>2860614983032</td>\n",
       "      <td>Товарная| накладная</td>\n",
       "      <td>6017560483</td>\n",
       "      <td>1</td>\n",
       "    </tr>\n",
       "  </tbody>\n",
       "</table>\n",
       "</div>"
      ],
      "text/plain": [
       "   id filename        barcode              doc_type           doc_number  \\\n",
       "0   0  108.jpg  2860587076540    Товарная накладная           6017110800   \n",
       "1   1  134.jpg  2860592637279  Товарная| 'накладная           8017263078   \n",
       "2   2  145.jpg  2860601366206  Товарная| |накладная  —_—..KoluyecraoAee—   \n",
       "3   3  020.jpg  2810094798084    Товарная накладная           6010358825   \n",
       "4   4  172.jpg  2860614983032   Товарная| накладная           6017560483   \n",
       "\n",
       "   error_list  \n",
       "0           1  \n",
       "1           1  \n",
       "2           1  \n",
       "3           1  \n",
       "4           1  "
      ]
     },
     "execution_count": 466,
     "metadata": {},
     "output_type": "execute_result"
    }
   ],
   "source": [
    "df.head()"
   ]
  },
  {
   "cell_type": "markdown",
   "id": "ff1876cc",
   "metadata": {},
   "source": [
    "## Визуализация"
   ]
  },
  {
   "cell_type": "raw",
   "id": "811bd925",
   "metadata": {},
   "source": [
    "for i, doc in enumerate(df['filename']):\n",
    "    image = cv2.imread(DATA_PATH + doc)\n",
    "    image = cv2.resize(image, (0, 0), fx=0.25, fy=0.25)\n",
    "    filename = df['filename'][i]\n",
    "    barcode_number = df['barcode'][i]\n",
    "    doc_type = df['doc_type'][i]\n",
    "    doc_number = df['doc_number'][i]\n",
    "    \n",
    "    \n",
    "    image = cv2.putText(image, f'{filename}', (300, 50), cv2.FONT_HERSHEY_COMPLEX, 0.7, (255, 0, 0), 2)\n",
    "    image = cv2.putText(image, f'{barcode_number}', (300, 75), cv2.FONT_HERSHEY_COMPLEX, 0.7, (255, 0, 0), 2)\n",
    "    image = cv2.putText(image, f'{doc_type}', (300, 100), cv2.FONT_HERSHEY_COMPLEX, 0.7, (255, 0, 0), 2)\n",
    "    image = cv2.putText(image, f'{doc_number}', (300, 125), cv2.FONT_HERSHEY_COMPLEX, 0.7, (255, 0, 0), 2)\n",
    "\n",
    "    # Displaying the image\n",
    "    cv2.imshow(\"Output\", image)\n",
    "    cv2.waitKey(0)\n",
    "    cv2.destroyAllWindows()\n",
    "    \n",
    "    if i == 3:\n",
    "        break"
   ]
  },
  {
   "cell_type": "markdown",
   "id": "ef42f55f",
   "metadata": {},
   "source": [
    "## Анализ данных"
   ]
  },
  {
   "cell_type": "markdown",
   "id": "d75c133b",
   "metadata": {},
   "source": [
    "### Необходимые функции"
   ]
  },
  {
   "cell_type": "code",
   "execution_count": 467,
   "id": "cfa6901b",
   "metadata": {},
   "outputs": [],
   "source": [
    "def not_numeric_in_colunm(col):\n",
    "    not_numeric = {}\n",
    "    for i, value in enumerate(col):\n",
    "        if col[i].isnumeric() == False:\n",
    "            not_numeric[i] = value\n",
    "    return not_numeric"
   ]
  },
  {
   "cell_type": "code",
   "execution_count": 468,
   "id": "51855f51",
   "metadata": {},
   "outputs": [],
   "source": [
    "def len_of_numbers(col):\n",
    "    length_dict = {}\n",
    "    for i, value in enumerate(col):\n",
    "        if value.isnumeric():\n",
    "            if len(value) not in length_dict.keys():\n",
    "                length_dict[len(value)] = 1\n",
    "            else:\n",
    "                length_dict[len(value)] += 1\n",
    "    return length_dict"
   ]
  },
  {
   "cell_type": "markdown",
   "id": "9082d4dc",
   "metadata": {},
   "source": [
    "### Error list = 2"
   ]
  },
  {
   "cell_type": "markdown",
   "id": "3b796d38",
   "metadata": {},
   "source": [
    "Если в столбце **error_list** 0, значит изображение прошло проверку детектором блюра и предварительным распознавателем текста (определение ортогонального положения). \n",
    "\n",
    "Если в этом столбце 1, значит имеет место одна или две ошибки. следовательно изображение не будет распознано. Необходимо оценить качество работы детектора блюра и ортогонального оперделителя. "
   ]
  },
  {
   "cell_type": "code",
   "execution_count": 469,
   "id": "9b0ef81a",
   "metadata": {},
   "outputs": [
    {
     "data": {
      "text/plain": [
       "1    193\n",
       "2     10\n",
       "Name: error_list, dtype: int64"
      ]
     },
     "execution_count": 469,
     "metadata": {},
     "output_type": "execute_result"
    }
   ],
   "source": [
    "df['error_list'].value_counts()"
   ]
  },
  {
   "cell_type": "markdown",
   "id": "996180ee",
   "metadata": {},
   "source": [
    "Итого не будет распознано **10** изображений. Оценим их."
   ]
  },
  {
   "cell_type": "code",
   "execution_count": 470,
   "id": "455df1e2",
   "metadata": {},
   "outputs": [
    {
     "data": {
      "text/html": [
       "<div>\n",
       "<style scoped>\n",
       "    .dataframe tbody tr th:only-of-type {\n",
       "        vertical-align: middle;\n",
       "    }\n",
       "\n",
       "    .dataframe tbody tr th {\n",
       "        vertical-align: top;\n",
       "    }\n",
       "\n",
       "    .dataframe thead th {\n",
       "        text-align: right;\n",
       "    }\n",
       "</style>\n",
       "<table border=\"1\" class=\"dataframe\">\n",
       "  <thead>\n",
       "    <tr style=\"text-align: right;\">\n",
       "      <th></th>\n",
       "      <th>id</th>\n",
       "      <th>filename</th>\n",
       "      <th>barcode</th>\n",
       "      <th>doc_type</th>\n",
       "      <th>doc_number</th>\n",
       "      <th>error_list</th>\n",
       "    </tr>\n",
       "  </thead>\n",
       "  <tbody>\n",
       "    <tr>\n",
       "      <th>22</th>\n",
       "      <td>22</td>\n",
       "      <td>195.jpg</td>\n",
       "      <td>2860615802998</td>\n",
       "      <td>Товарная` |накладная</td>\n",
       "      <td>None</td>\n",
       "      <td>2</td>\n",
       "    </tr>\n",
       "    <tr>\n",
       "      <th>23</th>\n",
       "      <td>23</td>\n",
       "      <td>155.jpg</td>\n",
       "      <td>2860609887666</td>\n",
       "      <td>Товарная| накладная</td>\n",
       "      <td>None</td>\n",
       "      <td>2</td>\n",
       "    </tr>\n",
       "    <tr>\n",
       "      <th>60</th>\n",
       "      <td>60</td>\n",
       "      <td>115.jpg</td>\n",
       "      <td>2860611107011</td>\n",
       "      <td>None</td>\n",
       "      <td>None</td>\n",
       "      <td>2</td>\n",
       "    </tr>\n",
       "    <tr>\n",
       "      <th>83</th>\n",
       "      <td>83</td>\n",
       "      <td>168.jpg</td>\n",
       "      <td>2860611147581</td>\n",
       "      <td>None</td>\n",
       "      <td>None</td>\n",
       "      <td>2</td>\n",
       "    </tr>\n",
       "    <tr>\n",
       "      <th>90</th>\n",
       "      <td>90</td>\n",
       "      <td>112.jpg</td>\n",
       "      <td>2860609826856</td>\n",
       "      <td>None</td>\n",
       "      <td>None</td>\n",
       "      <td>2</td>\n",
       "    </tr>\n",
       "    <tr>\n",
       "      <th>100</th>\n",
       "      <td>100</td>\n",
       "      <td>159.jpg</td>\n",
       "      <td>2860610411164</td>\n",
       "      <td>None</td>\n",
       "      <td>None</td>\n",
       "      <td>2</td>\n",
       "    </tr>\n",
       "    <tr>\n",
       "      <th>123</th>\n",
       "      <td>123</td>\n",
       "      <td>166.jpg</td>\n",
       "      <td>2860611250205</td>\n",
       "      <td>None</td>\n",
       "      <td>None</td>\n",
       "      <td>2</td>\n",
       "    </tr>\n",
       "    <tr>\n",
       "      <th>166</th>\n",
       "      <td>166</td>\n",
       "      <td>170.jpg</td>\n",
       "      <td>2860611500225</td>\n",
       "      <td>None</td>\n",
       "      <td>None</td>\n",
       "      <td>2</td>\n",
       "    </tr>\n",
       "    <tr>\n",
       "      <th>178</th>\n",
       "      <td>178</td>\n",
       "      <td>157.jpg</td>\n",
       "      <td>2860610590685</td>\n",
       "      <td>None</td>\n",
       "      <td>None</td>\n",
       "      <td>2</td>\n",
       "    </tr>\n",
       "    <tr>\n",
       "      <th>185</th>\n",
       "      <td>185</td>\n",
       "      <td>174.jpg</td>\n",
       "      <td>2860614951178</td>\n",
       "      <td>Товарная ‚накладная</td>\n",
       "      <td>$017561013</td>\n",
       "      <td>2</td>\n",
       "    </tr>\n",
       "  </tbody>\n",
       "</table>\n",
       "</div>"
      ],
      "text/plain": [
       "      id filename        barcode              doc_type  doc_number  error_list\n",
       "22    22  195.jpg  2860615802998  Товарная` |накладная        None           2\n",
       "23    23  155.jpg  2860609887666   Товарная| накладная        None           2\n",
       "60    60  115.jpg  2860611107011                  None        None           2\n",
       "83    83  168.jpg  2860611147581                  None        None           2\n",
       "90    90  112.jpg  2860609826856                  None        None           2\n",
       "100  100  159.jpg  2860610411164                  None        None           2\n",
       "123  123  166.jpg  2860611250205                  None        None           2\n",
       "166  166  170.jpg  2860611500225                  None        None           2\n",
       "178  178  157.jpg  2860610590685                  None        None           2\n",
       "185  185  174.jpg  2860614951178   Товарная ‚накладная  $017561013           2"
      ]
     },
     "execution_count": 470,
     "metadata": {},
     "output_type": "execute_result"
    }
   ],
   "source": [
    "error_df = df[df['error_list'] == 2]\n",
    "error_df"
   ]
  },
  {
   "cell_type": "raw",
   "id": "b00a010e",
   "metadata": {},
   "source": [
    "for i, doc in enumerate(error_df['filename']):\n",
    "    image = cv2.imread(DATA_PATH + doc)\n",
    "    image = cv2.resize(image, (0, 0), fx=0.25, fy=0.25)\n",
    "    filename = df['filename'][i]\n",
    "    barcode_number = df['barcode'][i]\n",
    "    doc_type = df['doc_type'][i]\n",
    "    doc_number = df['doc_number'][i]\n",
    "    \n",
    "    \n",
    "    image = cv2.putText(image, f'{filename}', (300, 50), cv2.FONT_HERSHEY_COMPLEX, 0.7, (255, 0, 0), 2)\n",
    "    image = cv2.putText(image, f'{barcode_number}', (300, 75), cv2.FONT_HERSHEY_COMPLEX, 0.7, (255, 0, 0), 2)\n",
    "    image = cv2.putText(image, f'{doc_type}', (300, 100), cv2.FONT_HERSHEY_COMPLEX, 0.7, (255, 0, 0), 2)\n",
    "    image = cv2.putText(image, f'{doc_number}', (300, 125), cv2.FONT_HERSHEY_COMPLEX, 0.7, (255, 0, 0), 2)\n",
    "\n",
    "    # Displaying the image\n",
    "    cv2.imshow(\"Output\", image)\n",
    "    cv2.waitKey(0)\n",
    "    cv2.destroyAllWindows()"
   ]
  },
  {
   "cell_type": "markdown",
   "id": "65150357",
   "metadata": {},
   "source": [
    "**Вывод**\n",
    "\n",
    "Можно сказать, что деткетор блюра позволил отсеять размытые изображения, их загрузка в SAP нежелательная, поскольку большая часть информации в них потеряна."
   ]
  },
  {
   "cell_type": "markdown",
   "id": "1e4828d4",
   "metadata": {},
   "source": [
    "### Error list = 1"
   ]
  },
  {
   "cell_type": "code",
   "execution_count": 471,
   "id": "02bc6046",
   "metadata": {},
   "outputs": [
    {
     "data": {
      "text/html": [
       "<div>\n",
       "<style scoped>\n",
       "    .dataframe tbody tr th:only-of-type {\n",
       "        vertical-align: middle;\n",
       "    }\n",
       "\n",
       "    .dataframe tbody tr th {\n",
       "        vertical-align: top;\n",
       "    }\n",
       "\n",
       "    .dataframe thead th {\n",
       "        text-align: right;\n",
       "    }\n",
       "</style>\n",
       "<table border=\"1\" class=\"dataframe\">\n",
       "  <thead>\n",
       "    <tr style=\"text-align: right;\">\n",
       "      <th></th>\n",
       "      <th>id</th>\n",
       "      <th>filename</th>\n",
       "      <th>barcode</th>\n",
       "      <th>doc_type</th>\n",
       "      <th>doc_number</th>\n",
       "      <th>error_list</th>\n",
       "    </tr>\n",
       "  </thead>\n",
       "  <tbody>\n",
       "    <tr>\n",
       "      <th>0</th>\n",
       "      <td>0</td>\n",
       "      <td>108.jpg</td>\n",
       "      <td>2860587076540</td>\n",
       "      <td>Товарная накладная</td>\n",
       "      <td>6017110800</td>\n",
       "      <td>1</td>\n",
       "    </tr>\n",
       "    <tr>\n",
       "      <th>1</th>\n",
       "      <td>1</td>\n",
       "      <td>134.jpg</td>\n",
       "      <td>2860592637279</td>\n",
       "      <td>Товарная| 'накладная</td>\n",
       "      <td>8017263078</td>\n",
       "      <td>1</td>\n",
       "    </tr>\n",
       "    <tr>\n",
       "      <th>2</th>\n",
       "      <td>2</td>\n",
       "      <td>145.jpg</td>\n",
       "      <td>2860601366206</td>\n",
       "      <td>Товарная| |накладная</td>\n",
       "      <td>—_—..KoluyecraoAee—</td>\n",
       "      <td>1</td>\n",
       "    </tr>\n",
       "    <tr>\n",
       "      <th>3</th>\n",
       "      <td>3</td>\n",
       "      <td>020.jpg</td>\n",
       "      <td>2810094798084</td>\n",
       "      <td>Товарная накладная</td>\n",
       "      <td>6010358825</td>\n",
       "      <td>1</td>\n",
       "    </tr>\n",
       "    <tr>\n",
       "      <th>4</th>\n",
       "      <td>4</td>\n",
       "      <td>172.jpg</td>\n",
       "      <td>2860614983032</td>\n",
       "      <td>Товарная| накладная</td>\n",
       "      <td>6017560483</td>\n",
       "      <td>1</td>\n",
       "    </tr>\n",
       "    <tr>\n",
       "      <th>5</th>\n",
       "      <td>5</td>\n",
       "      <td>030.jpg</td>\n",
       "      <td>2810095110823</td>\n",
       "      <td>Товарная ‘накладная</td>\n",
       "      <td>6010496453</td>\n",
       "      <td>1</td>\n",
       "    </tr>\n",
       "    <tr>\n",
       "      <th>6</th>\n",
       "      <td>6</td>\n",
       "      <td>044.jpg</td>\n",
       "      <td>2860350653671</td>\n",
       "      <td>Товарная накладная</td>\n",
       "      <td>6010495761</td>\n",
       "      <td>1</td>\n",
       "    </tr>\n",
       "    <tr>\n",
       "      <th>7</th>\n",
       "      <td>7</td>\n",
       "      <td>072.jpg</td>\n",
       "      <td>2860356028688</td>\n",
       "      <td>Товарная накладная</td>\n",
       "      <td>6010580640</td>\n",
       "      <td>1</td>\n",
       "    </tr>\n",
       "    <tr>\n",
       "      <th>8</th>\n",
       "      <td>8</td>\n",
       "      <td>183.jpg</td>\n",
       "      <td>2860618787148</td>\n",
       "      <td>Товарная ‚накладная</td>\n",
       "      <td>60176510871</td>\n",
       "      <td>1</td>\n",
       "    </tr>\n",
       "    <tr>\n",
       "      <th>9</th>\n",
       "      <td>9</td>\n",
       "      <td>088.jpg</td>\n",
       "      <td>2810078644574</td>\n",
       "      <td>Товарная накладная</td>\n",
       "      <td>6008222134</td>\n",
       "      <td>1</td>\n",
       "    </tr>\n",
       "  </tbody>\n",
       "</table>\n",
       "</div>"
      ],
      "text/plain": [
       "   id filename        barcode              doc_type           doc_number  \\\n",
       "0   0  108.jpg  2860587076540    Товарная накладная           6017110800   \n",
       "1   1  134.jpg  2860592637279  Товарная| 'накладная           8017263078   \n",
       "2   2  145.jpg  2860601366206  Товарная| |накладная  —_—..KoluyecraoAee—   \n",
       "3   3  020.jpg  2810094798084    Товарная накладная           6010358825   \n",
       "4   4  172.jpg  2860614983032   Товарная| накладная           6017560483   \n",
       "5   5  030.jpg  2810095110823   Товарная ‘накладная           6010496453   \n",
       "6   6  044.jpg  2860350653671    Товарная накладная           6010495761   \n",
       "7   7  072.jpg  2860356028688    Товарная накладная           6010580640   \n",
       "8   8  183.jpg  2860618787148   Товарная ‚накладная          60176510871   \n",
       "9   9  088.jpg  2810078644574    Товарная накладная           6008222134   \n",
       "\n",
       "   error_list  \n",
       "0           1  \n",
       "1           1  \n",
       "2           1  \n",
       "3           1  \n",
       "4           1  \n",
       "5           1  \n",
       "6           1  \n",
       "7           1  \n",
       "8           1  \n",
       "9           1  "
      ]
     },
     "execution_count": 471,
     "metadata": {},
     "output_type": "execute_result"
    }
   ],
   "source": [
    "good_df = df[df['error_list'] == 1]\n",
    "good_df.head(10)"
   ]
  },
  {
   "cell_type": "raw",
   "id": "d895dd39",
   "metadata": {},
   "source": [
    "for i, doc in enumerate(good_df['filename']):\n",
    "    image = cv2.imread(DATA_PATH + doc)\n",
    "    image = cv2.resize(image, (0, 0), fx=0.25, fy=0.25)\n",
    "    filename = df['filename'][i]\n",
    "    barcode_number = df['barcode'][i]\n",
    "    doc_type = df['doc_type'][i]\n",
    "    doc_number = df['doc_number'][i]\n",
    "    \n",
    "    \n",
    "    image = cv2.putText(image, f'{filename}', (300, 50), cv2.FONT_HERSHEY_COMPLEX, 0.7, (255, 0, 0), 2)\n",
    "    image = cv2.putText(image, f'{barcode_number}', (300, 75), cv2.FONT_HERSHEY_COMPLEX, 0.7, (255, 0, 0), 2)\n",
    "    image = cv2.putText(image, f'{doc_type}', (300, 100), cv2.FONT_HERSHEY_COMPLEX, 0.7, (255, 0, 0), 2)\n",
    "    image = cv2.putText(image, f'{doc_number}', (300, 125), cv2.FONT_HERSHEY_COMPLEX, 0.7, (255, 0, 0), 2)\n",
    "\n",
    "    # Displaying the image\n",
    "    cv2.imshow(\"Output\", image)\n",
    "    cv2.waitKey(0)\n",
    "    cv2.destroyAllWindows()\n",
    "    \n",
    "    if i == 4:\n",
    "        break"
   ]
  },
  {
   "cell_type": "code",
   "execution_count": 472,
   "id": "46dadbcd",
   "metadata": {},
   "outputs": [
    {
     "name": "stdout",
     "output_type": "stream",
     "text": [
      "<class 'pandas.core.frame.DataFrame'>\n",
      "Int64Index: 193 entries, 0 to 202\n",
      "Data columns (total 6 columns):\n",
      " #   Column      Non-Null Count  Dtype \n",
      "---  ------      --------------  ----- \n",
      " 0   id          193 non-null    int64 \n",
      " 1   filename    193 non-null    object\n",
      " 2   barcode     193 non-null    object\n",
      " 3   doc_type    192 non-null    object\n",
      " 4   doc_number  192 non-null    object\n",
      " 5   error_list  193 non-null    int64 \n",
      "dtypes: int64(2), object(4)\n",
      "memory usage: 10.6+ KB\n"
     ]
    }
   ],
   "source": [
    "good_df.info()"
   ]
  },
  {
   "cell_type": "code",
   "execution_count": 473,
   "id": "d601793b",
   "metadata": {},
   "outputs": [],
   "source": [
    "good_df  = good_df.fillna('None')"
   ]
  },
  {
   "cell_type": "code",
   "execution_count": 474,
   "id": "43cdb3c1",
   "metadata": {},
   "outputs": [
    {
     "name": "stdout",
     "output_type": "stream",
     "text": [
      "<class 'pandas.core.frame.DataFrame'>\n",
      "Int64Index: 193 entries, 0 to 202\n",
      "Data columns (total 6 columns):\n",
      " #   Column      Non-Null Count  Dtype \n",
      "---  ------      --------------  ----- \n",
      " 0   id          193 non-null    int64 \n",
      " 1   filename    193 non-null    object\n",
      " 2   barcode     193 non-null    object\n",
      " 3   doc_type    193 non-null    object\n",
      " 4   doc_number  193 non-null    object\n",
      " 5   error_list  193 non-null    int64 \n",
      "dtypes: int64(2), object(4)\n",
      "memory usage: 10.6+ KB\n"
     ]
    }
   ],
   "source": [
    "good_df.info()"
   ]
  },
  {
   "cell_type": "code",
   "execution_count": 475,
   "id": "1c3ac8c1",
   "metadata": {},
   "outputs": [],
   "source": [
    "good_df = good_df.reset_index(drop=True)"
   ]
  },
  {
   "cell_type": "markdown",
   "id": "57e30e04",
   "metadata": {},
   "source": [
    "**Вывод**\n",
    "\n",
    "Далее будем работать с этим датасетом. Отфильтрованные изображением считаем истинно-положительными."
   ]
  },
  {
   "cell_type": "markdown",
   "id": "600f2cec",
   "metadata": {},
   "source": [
    "### Barcode"
   ]
  },
  {
   "cell_type": "code",
   "execution_count": 476,
   "id": "cc1556d4",
   "metadata": {},
   "outputs": [
    {
     "data": {
      "text/html": [
       "<div>\n",
       "<style scoped>\n",
       "    .dataframe tbody tr th:only-of-type {\n",
       "        vertical-align: middle;\n",
       "    }\n",
       "\n",
       "    .dataframe tbody tr th {\n",
       "        vertical-align: top;\n",
       "    }\n",
       "\n",
       "    .dataframe thead th {\n",
       "        text-align: right;\n",
       "    }\n",
       "</style>\n",
       "<table border=\"1\" class=\"dataframe\">\n",
       "  <thead>\n",
       "    <tr style=\"text-align: right;\">\n",
       "      <th></th>\n",
       "      <th>id</th>\n",
       "      <th>filename</th>\n",
       "      <th>barcode</th>\n",
       "      <th>doc_type</th>\n",
       "      <th>doc_number</th>\n",
       "      <th>error_list</th>\n",
       "    </tr>\n",
       "  </thead>\n",
       "  <tbody>\n",
       "  </tbody>\n",
       "</table>\n",
       "</div>"
      ],
      "text/plain": [
       "Empty DataFrame\n",
       "Columns: [id, filename, barcode, doc_type, doc_number, error_list]\n",
       "Index: []"
      ]
     },
     "execution_count": 476,
     "metadata": {},
     "output_type": "execute_result"
    }
   ],
   "source": [
    "bad_barcode_df = good_df[good_df['barcode'] == 'None'].reset_index(drop=True)\n",
    "bad_barcode_df"
   ]
  },
  {
   "cell_type": "raw",
   "id": "c5b203c6",
   "metadata": {},
   "source": [
    "for i, doc in enumerate(bad_barcode_df['doc_name']):\n",
    "    image = cv2.imread(DATA_PATH + doc)\n",
    "    image = cv2.resize(image, (0, 0), fx=0.25, fy=0.25)\n",
    "    doc_name = bad_barcode_df['doc_name'][i]\n",
    "    barcode_number = bad_barcode_df['barcode_number'][i]\n",
    "    doc_type = bad_barcode_df['doc_type'][i]\n",
    "    doc_number = bad_barcode_df['doc_number'][i]\n",
    "    \n",
    "    \n",
    "    image = cv2.putText(image, f'{doc_name}', (300, 50), cv2.FONT_HERSHEY_COMPLEX, 0.7, (255, 0, 0), 2)\n",
    "    image = cv2.putText(image, f'{barcode_number}', (300, 75), cv2.FONT_HERSHEY_COMPLEX, 0.7, (255, 0, 0), 2)\n",
    "    image = cv2.putText(image, f'{doc_type}', (300, 100), cv2.FONT_HERSHEY_COMPLEX, 0.7, (255, 0, 0), 2)\n",
    "    image = cv2.putText(image, f'{doc_number}', (300, 125), cv2.FONT_HERSHEY_COMPLEX, 0.7, (255, 0, 0), 2)\n",
    "\n",
    "    # Displaying the image\n",
    "    cv2.imshow(\"Output\", image)\n",
    "    cv2.waitKey(0)\n",
    "    cv2.destroyAllWindows()"
   ]
  },
  {
   "cell_type": "code",
   "execution_count": 477,
   "id": "4f9a9dae",
   "metadata": {},
   "outputs": [
    {
     "data": {
      "text/plain": [
       "{}"
      ]
     },
     "execution_count": 477,
     "metadata": {},
     "output_type": "execute_result"
    }
   ],
   "source": [
    "barcode_not_numeric = not_numeric_in_colunm(good_df['barcode'])\n",
    "barcode_not_numeric"
   ]
  },
  {
   "cell_type": "code",
   "execution_count": 478,
   "id": "c0d17918",
   "metadata": {},
   "outputs": [
    {
     "data": {
      "text/plain": [
       "{13: 193}"
      ]
     },
     "execution_count": 478,
     "metadata": {},
     "output_type": "execute_result"
    }
   ],
   "source": [
    "length_of_barcode_numbers = len_of_numbers(good_df['barcode'])\n",
    "length_of_barcode_numbers"
   ]
  },
  {
   "cell_type": "code",
   "execution_count": 479,
   "id": "cc5f4d5d",
   "metadata": {},
   "outputs": [
    {
     "data": {
      "text/plain": [
       "1.0"
      ]
     },
     "execution_count": 479,
     "metadata": {},
     "output_type": "execute_result"
    }
   ],
   "source": [
    "length_of_barcode_numbers[13] / len(good_df)"
   ]
  },
  {
   "cell_type": "code",
   "execution_count": 480,
   "id": "9af8c563",
   "metadata": {},
   "outputs": [
    {
     "data": {
      "text/plain": [
       "[]"
      ]
     },
     "execution_count": 480,
     "metadata": {},
     "output_type": "execute_result"
    }
   ],
   "source": [
    "bad_barcode_list = list(bad_barcode_df['filename'])\n",
    "bad_barcode_list"
   ]
  },
  {
   "cell_type": "markdown",
   "id": "bb3da917",
   "metadata": {},
   "source": [
    "#### Вывод \n",
    "В столбце со штрих-кодами 0 пропущенных значений **None**. Остальные значения соответствуют десятизначным штрих-кодам. Итого можно считать распознанными **100%** штрих-кодов. Из исходного датасета необходимо исключить 10 изображений, которые содержали больше чем одну ошибку в списке error_list."
   ]
  },
  {
   "cell_type": "code",
   "execution_count": null,
   "id": "2234598f",
   "metadata": {},
   "outputs": [],
   "source": []
  },
  {
   "cell_type": "code",
   "execution_count": null,
   "id": "85bc1300",
   "metadata": {},
   "outputs": [],
   "source": []
  },
  {
   "cell_type": "markdown",
   "id": "2c60cf42",
   "metadata": {},
   "source": [
    "### Doc type"
   ]
  },
  {
   "cell_type": "code",
   "execution_count": 481,
   "id": "c398b416",
   "metadata": {},
   "outputs": [
    {
     "data": {
      "text/plain": [
       "array(['Товарная накладная', \"Товарная| 'накладная\",\n",
       "       'Товарная| |накладная', 'Товарная| накладная',\n",
       "       'Товарная ‘накладная', 'Товарная ‚накладная',\n",
       "       \"Товарная' `накладная\", 'Товарная |накладная',\n",
       "       'Товарная` |Накладная', \"Товарная: 'накладная\",\n",
       "       \"Товарная' |накладная\", 'Товарная` ‚накладная',\n",
       "       'Товарная| ‚накладная', 'Товарная: `накладная', 'None',\n",
       "       'Товарная. ‚накладная', 'Товарная‹ |накладная',\n",
       "       'Товарная| [накладная', 'Товарная, |Ннакладная',\n",
       "       'Товарная| `накладная', 'Товарная: накладная',\n",
       "       \"Товарная 'накладная\", 'Товарная: |накладная',\n",
       "       'Товарная, `накладная', 'Товарная` |накладная',\n",
       "       'Товарная: гнакладная', 'Товарная. |накладная',\n",
       "       'Товарная. накладная', 'Товарнал :накладная',\n",
       "       'Товарная! |накладная', 'Товарная, ‚накладная',\n",
       "       'Товарная| гнакладная', 'Товарная` ›накладная',\n",
       "       'Товарная| внакладная', 'Товарная нНакладная',\n",
       "       'Товарная, |накладная', \"Товарная. 'накладная\",\n",
       "       'Товарная| |Ннакладная', 'Товарная! гнакладная',\n",
       "       'Товарная` `накладная', 'Товарная/ накладная',\n",
       "       'Товарная: |вакладная', 'Товарная: [накладная'], dtype=object)"
      ]
     },
     "execution_count": 481,
     "metadata": {},
     "output_type": "execute_result"
    }
   ],
   "source": [
    "good_df['doc_type'].unique()"
   ]
  },
  {
   "cell_type": "code",
   "execution_count": 482,
   "id": "6942a7b8",
   "metadata": {},
   "outputs": [
    {
     "data": {
      "text/plain": [
       "Товарная накладная       97\n",
       "Товарная| |накладная     14\n",
       "Товарная |накладная      10\n",
       "Товарная| `накладная      5\n",
       "Товарная| накладная       5\n",
       "Товарная: |накладная      5\n",
       "Товарная: накладная       5\n",
       "Товарная ‚накладная       4\n",
       "Товарная: 'накладная      4\n",
       "Товарная| 'накладная      4\n",
       "Товарная` |накладная      3\n",
       "Товарная| ‚накладная      3\n",
       "Товарная: гнакладная      2\n",
       "Товарная 'накладная       2\n",
       "Товарная ‘накладная       2\n",
       "None                      1\n",
       "Товарная! |накладная      1\n",
       "Товарная: |вакладная      1\n",
       "Товарная/ накладная       1\n",
       "Товарная` `накладная      1\n",
       "Товарная! гнакладная      1\n",
       "Товарная| |Ннакладная     1\n",
       "Товарная. 'накладная      1\n",
       "Товарная, |накладная      1\n",
       "Товарная нНакладная       1\n",
       "Товарная| внакладная      1\n",
       "Товарная` ›накладная      1\n",
       "Товарная| гнакладная      1\n",
       "Товарная, ‚накладная      1\n",
       "Товарнал :накладная       1\n",
       "Товарная. ‚накладная      1\n",
       "Товарная. накладная       1\n",
       "Товарная. |накладная      1\n",
       "Товарная' `накладная      1\n",
       "Товарная, `накладная      1\n",
       "Товарная` |Накладная      1\n",
       "Товарная' |накладная      1\n",
       "Товарная` ‚накладная      1\n",
       "Товарная: `накладная      1\n",
       "Товарная, |Ннакладная     1\n",
       "Товарная| [накладная      1\n",
       "Товарная‹ |накладная      1\n",
       "Товарная: [накладная      1\n",
       "Name: doc_type, dtype: int64"
      ]
     },
     "execution_count": 482,
     "metadata": {},
     "output_type": "execute_result"
    }
   ],
   "source": [
    "good_df['doc_type'].value_counts()"
   ]
  },
  {
   "cell_type": "code",
   "execution_count": 483,
   "id": "9d26d028",
   "metadata": {},
   "outputs": [
    {
     "data": {
      "text/plain": [
       "0.9948186528497409"
      ]
     },
     "execution_count": 483,
     "metadata": {},
     "output_type": "execute_result"
    }
   ],
   "source": [
    "1 - len(good_df[good_df['doc_type'] == 'None']) / len(good_df)"
   ]
  },
  {
   "cell_type": "code",
   "execution_count": 484,
   "id": "2e76d2f8",
   "metadata": {},
   "outputs": [
    {
     "data": {
      "text/html": [
       "<div>\n",
       "<style scoped>\n",
       "    .dataframe tbody tr th:only-of-type {\n",
       "        vertical-align: middle;\n",
       "    }\n",
       "\n",
       "    .dataframe tbody tr th {\n",
       "        vertical-align: top;\n",
       "    }\n",
       "\n",
       "    .dataframe thead th {\n",
       "        text-align: right;\n",
       "    }\n",
       "</style>\n",
       "<table border=\"1\" class=\"dataframe\">\n",
       "  <thead>\n",
       "    <tr style=\"text-align: right;\">\n",
       "      <th></th>\n",
       "      <th>id</th>\n",
       "      <th>filename</th>\n",
       "      <th>barcode</th>\n",
       "      <th>doc_type</th>\n",
       "      <th>doc_number</th>\n",
       "      <th>error_list</th>\n",
       "    </tr>\n",
       "  </thead>\n",
       "  <tbody>\n",
       "    <tr>\n",
       "      <th>31</th>\n",
       "      <td>33</td>\n",
       "      <td>177.jpg</td>\n",
       "      <td>2860617614391</td>\n",
       "      <td>None</td>\n",
       "      <td>5017644991</td>\n",
       "      <td>1</td>\n",
       "    </tr>\n",
       "  </tbody>\n",
       "</table>\n",
       "</div>"
      ],
      "text/plain": [
       "    id filename        barcode doc_type  doc_number  error_list\n",
       "31  33  177.jpg  2860617614391     None  5017644991           1"
      ]
     },
     "execution_count": 484,
     "metadata": {},
     "output_type": "execute_result"
    }
   ],
   "source": [
    "bad_doc_type_df = good_df[good_df['doc_type'] == 'None']\n",
    "bad_doc_type_df"
   ]
  },
  {
   "cell_type": "code",
   "execution_count": 485,
   "id": "8a6d8974",
   "metadata": {},
   "outputs": [
    {
     "data": {
      "text/plain": [
       "['177.jpg']"
      ]
     },
     "execution_count": 485,
     "metadata": {},
     "output_type": "execute_result"
    }
   ],
   "source": [
    "bad_doc_type_list = list(bad_doc_type_df['filename'])\n",
    "sorted(bad_doc_type_list)"
   ]
  },
  {
   "cell_type": "markdown",
   "id": "8937cf12",
   "metadata": {},
   "source": [
    "1. iter_3: seventh_preprocess ['128.jpg', '141.jpg', '154.jpg', '162.jpg', '164.jpg', '171.jpg', '177.jpg', '178.jpg', '192.jpg']\n",
    "2. iter_4: first+seventh ['177.jpg']"
   ]
  },
  {
   "cell_type": "markdown",
   "id": "26503c0a",
   "metadata": {},
   "source": [
    "#### Вывод \n",
    "В столбце с типами документов 1 пропущенных значения **None**. Также в этом столбце есть почти распознанные данные, например **Товарная, ,накладная**, **Товарная: 'накладная** и другие. В почти распознанных данных допущено по 1-3 ошибки, так что, можно считать их проходящими по порогу распознавания. Итого качественно распознано 192 типов документов из 193 примеров, или всего **99.5%**."
   ]
  },
  {
   "cell_type": "markdown",
   "id": "21860a1b",
   "metadata": {},
   "source": [
    "### Doc number"
   ]
  },
  {
   "cell_type": "code",
   "execution_count": 486,
   "id": "499194c8",
   "metadata": {},
   "outputs": [
    {
     "data": {
      "text/html": [
       "<div>\n",
       "<style scoped>\n",
       "    .dataframe tbody tr th:only-of-type {\n",
       "        vertical-align: middle;\n",
       "    }\n",
       "\n",
       "    .dataframe tbody tr th {\n",
       "        vertical-align: top;\n",
       "    }\n",
       "\n",
       "    .dataframe thead th {\n",
       "        text-align: right;\n",
       "    }\n",
       "</style>\n",
       "<table border=\"1\" class=\"dataframe\">\n",
       "  <thead>\n",
       "    <tr style=\"text-align: right;\">\n",
       "      <th></th>\n",
       "      <th>id</th>\n",
       "      <th>filename</th>\n",
       "      <th>barcode</th>\n",
       "      <th>doc_type</th>\n",
       "      <th>doc_number</th>\n",
       "      <th>error_list</th>\n",
       "    </tr>\n",
       "  </thead>\n",
       "  <tbody>\n",
       "    <tr>\n",
       "      <th>106</th>\n",
       "      <td>112</td>\n",
       "      <td>113.jpg</td>\n",
       "      <td>2860597420210</td>\n",
       "      <td>Товарная! |накладная</td>\n",
       "      <td>None</td>\n",
       "      <td>1</td>\n",
       "    </tr>\n",
       "  </tbody>\n",
       "</table>\n",
       "</div>"
      ],
      "text/plain": [
       "      id filename        barcode              doc_type doc_number  error_list\n",
       "106  112  113.jpg  2860597420210  Товарная! |накладная       None           1"
      ]
     },
     "execution_count": 486,
     "metadata": {},
     "output_type": "execute_result"
    }
   ],
   "source": [
    "bad_doc_number = good_df[good_df['doc_number'] == 'None']\n",
    "bad_doc_number.head(15)"
   ]
  },
  {
   "cell_type": "code",
   "execution_count": 487,
   "id": "295bc79f",
   "metadata": {},
   "outputs": [
    {
     "data": {
      "text/html": [
       "<div>\n",
       "<style scoped>\n",
       "    .dataframe tbody tr th:only-of-type {\n",
       "        vertical-align: middle;\n",
       "    }\n",
       "\n",
       "    .dataframe tbody tr th {\n",
       "        vertical-align: top;\n",
       "    }\n",
       "\n",
       "    .dataframe thead th {\n",
       "        text-align: right;\n",
       "    }\n",
       "</style>\n",
       "<table border=\"1\" class=\"dataframe\">\n",
       "  <thead>\n",
       "    <tr style=\"text-align: right;\">\n",
       "      <th></th>\n",
       "      <th>id</th>\n",
       "      <th>filename</th>\n",
       "      <th>barcode</th>\n",
       "      <th>doc_type</th>\n",
       "      <th>doc_number</th>\n",
       "      <th>error_list</th>\n",
       "    </tr>\n",
       "  </thead>\n",
       "  <tbody>\n",
       "    <tr>\n",
       "      <th>43</th>\n",
       "      <td>45</td>\n",
       "      <td>083.jpg</td>\n",
       "      <td>2810096516426</td>\n",
       "      <td>Товарная ‚накладная</td>\n",
       "      <td>)AOKYMeHTa</td>\n",
       "      <td>1</td>\n",
       "    </tr>\n",
       "    <tr>\n",
       "      <th>48</th>\n",
       "      <td>50</td>\n",
       "      <td>076.jpg</td>\n",
       "      <td>2810096516365</td>\n",
       "      <td>Товарная накладная</td>\n",
       "      <td>)AOKYMeHTa</td>\n",
       "      <td>1</td>\n",
       "    </tr>\n",
       "    <tr>\n",
       "      <th>49</th>\n",
       "      <td>51</td>\n",
       "      <td>146.jpg</td>\n",
       "      <td>2860601473409</td>\n",
       "      <td>Товарная‹ |накладная</td>\n",
       "      <td>PAOKyMEHTR</td>\n",
       "      <td>1</td>\n",
       "    </tr>\n",
       "    <tr>\n",
       "      <th>59</th>\n",
       "      <td>62</td>\n",
       "      <td>079.jpg</td>\n",
       "      <td>2810097409826</td>\n",
       "      <td>Товарная ‚накладная</td>\n",
       "      <td>)JOKYMEHTa</td>\n",
       "      <td>1</td>\n",
       "    </tr>\n",
       "    <tr>\n",
       "      <th>67</th>\n",
       "      <td>70</td>\n",
       "      <td>065.jpg</td>\n",
       "      <td>2810097409826</td>\n",
       "      <td>Товарная: накладная</td>\n",
       "      <td>AIOKYMeHTa</td>\n",
       "      <td>1</td>\n",
       "    </tr>\n",
       "    <tr>\n",
       "      <th>73</th>\n",
       "      <td>76</td>\n",
       "      <td>069.jpg</td>\n",
       "      <td>2810096516365</td>\n",
       "      <td>Товарная накладная</td>\n",
       "      <td>601058914«</td>\n",
       "      <td>1</td>\n",
       "    </tr>\n",
       "    <tr>\n",
       "      <th>105</th>\n",
       "      <td>111</td>\n",
       "      <td>165.jpg</td>\n",
       "      <td>2860611233796</td>\n",
       "      <td>Товарнал :накладная</td>\n",
       "      <td>R—P—[-ROKYMEHTa:</td>\n",
       "      <td>1</td>\n",
       "    </tr>\n",
       "    <tr>\n",
       "      <th>106</th>\n",
       "      <td>112</td>\n",
       "      <td>113.jpg</td>\n",
       "      <td>2860597420210</td>\n",
       "      <td>Товарная! |накладная</td>\n",
       "      <td>None</td>\n",
       "      <td>1</td>\n",
       "    </tr>\n",
       "    <tr>\n",
       "      <th>107</th>\n",
       "      <td>113</td>\n",
       "      <td>180.jpg</td>\n",
       "      <td>2860618473492</td>\n",
       "      <td>Товарная накладная</td>\n",
       "      <td>DAOKYMEHT2</td>\n",
       "      <td>1</td>\n",
       "    </tr>\n",
       "    <tr>\n",
       "      <th>112</th>\n",
       "      <td>118</td>\n",
       "      <td>141.jpg</td>\n",
       "      <td>2860599552148</td>\n",
       "      <td>Товарная, ‚накладная</td>\n",
       "      <td>3AGKYM@eHTa</td>\n",
       "      <td>1</td>\n",
       "    </tr>\n",
       "    <tr>\n",
       "      <th>135</th>\n",
       "      <td>142</td>\n",
       "      <td>128.jpg</td>\n",
       "      <td>2860582444504</td>\n",
       "      <td>Товарная| |накладная</td>\n",
       "      <td>8017080275e</td>\n",
       "      <td>1</td>\n",
       "    </tr>\n",
       "    <tr>\n",
       "      <th>142</th>\n",
       "      <td>149</td>\n",
       "      <td>116.jpg</td>\n",
       "      <td>2860610860917</td>\n",
       "      <td>Товарная! гнакладная</td>\n",
       "      <td>8017537341p—A—</td>\n",
       "      <td>1</td>\n",
       "    </tr>\n",
       "    <tr>\n",
       "      <th>146</th>\n",
       "      <td>153</td>\n",
       "      <td>119.jpg</td>\n",
       "      <td>2860611888071</td>\n",
       "      <td>Товарная: |накладная</td>\n",
       "      <td>€002548937</td>\n",
       "      <td>1</td>\n",
       "    </tr>\n",
       "    <tr>\n",
       "      <th>157</th>\n",
       "      <td>164</td>\n",
       "      <td>081.jpg</td>\n",
       "      <td>2810096516365</td>\n",
       "      <td>Товарная накладная</td>\n",
       "      <td>)AOKyMeHTa</td>\n",
       "      <td>1</td>\n",
       "    </tr>\n",
       "    <tr>\n",
       "      <th>158</th>\n",
       "      <td>165</td>\n",
       "      <td>167.jpg</td>\n",
       "      <td>2860611147345</td>\n",
       "      <td>Товарная |накладная</td>\n",
       "      <td>‘80175397302</td>\n",
       "      <td>1</td>\n",
       "    </tr>\n",
       "    <tr>\n",
       "      <th>161</th>\n",
       "      <td>169</td>\n",
       "      <td>123.jpg</td>\n",
       "      <td>2860583199144</td>\n",
       "      <td>Товарная: |накладная</td>\n",
       "      <td>eKonHYecTs0A—</td>\n",
       "      <td>1</td>\n",
       "    </tr>\n",
       "    <tr>\n",
       "      <th>169</th>\n",
       "      <td>177</td>\n",
       "      <td>162.jpg</td>\n",
       "      <td>2860582444504</td>\n",
       "      <td>Товарная| |накладная</td>\n",
       "      <td>8017080275e</td>\n",
       "      <td>1</td>\n",
       "    </tr>\n",
       "    <tr>\n",
       "      <th>175</th>\n",
       "      <td>184</td>\n",
       "      <td>190.jpg</td>\n",
       "      <td>2860619145831</td>\n",
       "      <td>Товарная| `накладная</td>\n",
       "      <td>60%7654120</td>\n",
       "      <td>1</td>\n",
       "    </tr>\n",
       "    <tr>\n",
       "      <th>176</th>\n",
       "      <td>186</td>\n",
       "      <td>136.jpg</td>\n",
       "      <td>2860592953966</td>\n",
       "      <td>Товарная| |накладная</td>\n",
       "      <td>601726li'229</td>\n",
       "      <td>1</td>\n",
       "    </tr>\n",
       "    <tr>\n",
       "      <th>177</th>\n",
       "      <td>187</td>\n",
       "      <td>169.jpg</td>\n",
       "      <td>2860611187853</td>\n",
       "      <td>Товарная |накладная</td>\n",
       "      <td>6017540704-</td>\n",
       "      <td>1</td>\n",
       "    </tr>\n",
       "  </tbody>\n",
       "</table>\n",
       "</div>"
      ],
      "text/plain": [
       "      id filename        barcode              doc_type        doc_number  \\\n",
       "43    45  083.jpg  2810096516426   Товарная ‚накладная        )AOKYMeHTa   \n",
       "48    50  076.jpg  2810096516365    Товарная накладная        )AOKYMeHTa   \n",
       "49    51  146.jpg  2860601473409  Товарная‹ |накладная        PAOKyMEHTR   \n",
       "59    62  079.jpg  2810097409826   Товарная ‚накладная        )JOKYMEHTa   \n",
       "67    70  065.jpg  2810097409826   Товарная: накладная        AIOKYMeHTa   \n",
       "73    76  069.jpg  2810096516365    Товарная накладная        601058914«   \n",
       "105  111  165.jpg  2860611233796   Товарнал :накладная  R—P—[-ROKYMEHTa:   \n",
       "106  112  113.jpg  2860597420210  Товарная! |накладная              None   \n",
       "107  113  180.jpg  2860618473492    Товарная накладная        DAOKYMEHT2   \n",
       "112  118  141.jpg  2860599552148  Товарная, ‚накладная       3AGKYM@eHTa   \n",
       "135  142  128.jpg  2860582444504  Товарная| |накладная       8017080275e   \n",
       "142  149  116.jpg  2860610860917  Товарная! гнакладная    8017537341p—A—   \n",
       "146  153  119.jpg  2860611888071  Товарная: |накладная        €002548937   \n",
       "157  164  081.jpg  2810096516365    Товарная накладная        )AOKyMeHTa   \n",
       "158  165  167.jpg  2860611147345   Товарная |накладная      ‘80175397302   \n",
       "161  169  123.jpg  2860583199144  Товарная: |накладная     eKonHYecTs0A—   \n",
       "169  177  162.jpg  2860582444504  Товарная| |накладная       8017080275e   \n",
       "175  184  190.jpg  2860619145831  Товарная| `накладная        60%7654120   \n",
       "176  186  136.jpg  2860592953966  Товарная| |накладная      601726li'229   \n",
       "177  187  169.jpg  2860611187853   Товарная |накладная       6017540704-   \n",
       "\n",
       "     error_list  \n",
       "43            1  \n",
       "48            1  \n",
       "49            1  \n",
       "59            1  \n",
       "67            1  \n",
       "73            1  \n",
       "105           1  \n",
       "106           1  \n",
       "107           1  \n",
       "112           1  \n",
       "135           1  \n",
       "142           1  \n",
       "146           1  \n",
       "157           1  \n",
       "158           1  \n",
       "161           1  \n",
       "169           1  \n",
       "175           1  \n",
       "176           1  \n",
       "177           1  "
      ]
     },
     "metadata": {},
     "output_type": "display_data"
    },
    {
     "name": "stdout",
     "output_type": "stream",
     "text": [
      "24\n"
     ]
    }
   ],
   "source": [
    "bad_doc_number_df = good_df[good_df['doc_number'].str.isnumeric() == False]\n",
    "display(bad_doc_number_df.tail(20))\n",
    "print(len(bad_doc_number_df))"
   ]
  },
  {
   "cell_type": "code",
   "execution_count": 488,
   "id": "082e0cbc",
   "metadata": {},
   "outputs": [],
   "source": [
    "len_not_match = []\n",
    "\n",
    "for num, value in enumerate(good_df['doc_number']):\n",
    "    if len(value) != 10:\n",
    "        len_not_match.append(good_df['filename'][num])"
   ]
  },
  {
   "cell_type": "code",
   "execution_count": 489,
   "id": "238dbef3",
   "metadata": {},
   "outputs": [
    {
     "data": {
      "text/plain": [
       "['145.jpg',\n",
       " '183.jpg',\n",
       " '189.jpg',\n",
       " '184.jpg',\n",
       " '165.jpg',\n",
       " '113.jpg',\n",
       " '129.jpg',\n",
       " '141.jpg',\n",
       " '128.jpg',\n",
       " '116.jpg',\n",
       " '167.jpg',\n",
       " '123.jpg',\n",
       " '162.jpg',\n",
       " '136.jpg',\n",
       " '169.jpg']"
      ]
     },
     "execution_count": 489,
     "metadata": {},
     "output_type": "execute_result"
    }
   ],
   "source": [
    "len_not_match"
   ]
  },
  {
   "cell_type": "code",
   "execution_count": 490,
   "id": "8d3e773e",
   "metadata": {},
   "outputs": [
    {
     "data": {
      "text/plain": [
       "15"
      ]
     },
     "execution_count": 490,
     "metadata": {},
     "output_type": "execute_result"
    }
   ],
   "source": [
    "len(len_not_match)"
   ]
  },
  {
   "cell_type": "code",
   "execution_count": 491,
   "id": "1401bd27",
   "metadata": {},
   "outputs": [],
   "source": [
    "good_doc_number_df = good_df[good_df['doc_number'].str.isnumeric() == True]"
   ]
  },
  {
   "cell_type": "code",
   "execution_count": 492,
   "id": "2520f61c",
   "metadata": {},
   "outputs": [],
   "source": [
    "bad_doc_number_filenames = set(list(bad_doc_number_df['filename']) + len_not_match)"
   ]
  },
  {
   "cell_type": "code",
   "execution_count": 493,
   "id": "08c79375",
   "metadata": {},
   "outputs": [
    {
     "data": {
      "text/plain": [
       "27"
      ]
     },
     "execution_count": 493,
     "metadata": {},
     "output_type": "execute_result"
    }
   ],
   "source": [
    "len(bad_doc_number_filenames)"
   ]
  },
  {
   "cell_type": "code",
   "execution_count": 494,
   "id": "a60930cf",
   "metadata": {},
   "outputs": [
    {
     "data": {
      "text/plain": [
       "166"
      ]
     },
     "execution_count": 494,
     "metadata": {},
     "output_type": "execute_result"
    }
   ],
   "source": [
    "len(good_df) - len(bad_doc_number_filenames)"
   ]
  },
  {
   "cell_type": "code",
   "execution_count": 495,
   "id": "adde6d39",
   "metadata": {},
   "outputs": [
    {
     "data": {
      "text/plain": [
       "0.8601036269430051"
      ]
     },
     "execution_count": 495,
     "metadata": {},
     "output_type": "execute_result"
    }
   ],
   "source": [
    "1 - len(bad_doc_number_filenames)/len(good_df)"
   ]
  },
  {
   "cell_type": "code",
   "execution_count": 496,
   "id": "8857226c",
   "metadata": {},
   "outputs": [
    {
     "data": {
      "text/plain": [
       "{'065.jpg',\n",
       " '069.jpg',\n",
       " '076.jpg',\n",
       " '079.jpg',\n",
       " '081.jpg',\n",
       " '083.jpg',\n",
       " '109.jpg',\n",
       " '113.jpg',\n",
       " '116.jpg',\n",
       " '119.jpg',\n",
       " '123.jpg',\n",
       " '128.jpg',\n",
       " '129.jpg',\n",
       " '136.jpg',\n",
       " '141.jpg',\n",
       " '145.jpg',\n",
       " '146.jpg',\n",
       " '148.jpg',\n",
       " '162.jpg',\n",
       " '165.jpg',\n",
       " '167.jpg',\n",
       " '169.jpg',\n",
       " '180.jpg',\n",
       " '183.jpg',\n",
       " '184.jpg',\n",
       " '189.jpg',\n",
       " '190.jpg'}"
      ]
     },
     "execution_count": 496,
     "metadata": {},
     "output_type": "execute_result"
    }
   ],
   "source": [
    "bad_doc_number_filenames"
   ]
  },
  {
   "cell_type": "code",
   "execution_count": 497,
   "id": "b81ea69e",
   "metadata": {},
   "outputs": [],
   "source": [
    "bad_doc_number_it_4 = ['008.jpg', '019.jpg', '038.jpg', '039.jpg', '041.jpg', '044.jpg', '047.jpg',\n",
    "                       '052.jpg', '057.jpg', '065.jpg', '066.jpg', '068.jpg', '069.jpg', '074.jpg',\n",
    "                       '076.jpg', '079.jpg', '080.jpg', '081.jpg', '082.jpg', '083.jpg', '084.jpg',\n",
    "                       '091.jpg', '095.jpg', '099.jpg', '103.jpg', '105.jpg', '109.jpg', '113.jpg',\n",
    "                       '116.jpg', '123.jpg', '125.jpg', '127.jpg', '128.jpg', '129.jpg', '130.jpg',\n",
    "                       '131.jpg', '132.jpg', '136.jpg', '138.jpg', '141.jpg', '144.jpg', '145.jpg',\n",
    "                       '146.jpg', '148.jpg', '150.jpg', '151.jpg', '158.jpg', '162.jpg', '164.jpg', \n",
    "                       '165.jpg', '167.jpg', '175.jpg', '176.jpg', '179.jpg', '180.jpg', '182.jpg',\n",
    "                       '183.jpg', '184.jpg', '188.jpg', '189.jpg', '190.jpg', '191.jpg', '193.jpg', \n",
    "                       '194.jpg', '200.jpg', '201.jpg', '202.jpg']"
   ]
  },
  {
   "cell_type": "code",
   "execution_count": 498,
   "id": "6f97bce8",
   "metadata": {},
   "outputs": [],
   "source": [
    "bad_doc_number_it_5 = ['065.jpg', '069.jpg', '076.jpg', '079.jpg', '081.jpg', '083.jpg', '109.jpg', '113.jpg',\n",
    "                       '116.jpg', '119.jpg', '123.jpg', '128.jpg', '129.jpg', '136.jpg', '141.jpg', '145.jpg',\n",
    "                       '146.jpg', '148.jpg', '162.jpg', '165.jpg', '167.jpg', '169.jpg', '180.jpg', '183.jpg',\n",
    "                       '184.jpg', '189.jpg', '190.jpg']"
   ]
  },
  {
   "cell_type": "code",
   "execution_count": 499,
   "id": "b3292a38",
   "metadata": {},
   "outputs": [
    {
     "data": {
      "text/plain": [
       "0      6017110800\n",
       "1      8017263078\n",
       "3      6010358825\n",
       "4      6017560483\n",
       "5      6010496453\n",
       "          ...    \n",
       "188    6010503817\n",
       "189    6010584004\n",
       "190    5017648128\n",
       "191    6008204454\n",
       "192    6600061199\n",
       "Name: doc_number, Length: 166, dtype: object"
      ]
     },
     "execution_count": 499,
     "metadata": {},
     "output_type": "execute_result"
    }
   ],
   "source": [
    "good_doc_numbers = good_df[~good_df['filename'].isin(bad_doc_number_it_5)]['doc_number']\n",
    "good_doc_numbers"
   ]
  },
  {
   "cell_type": "code",
   "execution_count": 500,
   "id": "84b87d0b",
   "metadata": {},
   "outputs": [
    {
     "data": {
      "text/plain": [
       "True     157\n",
       "False      9\n",
       "Name: doc_number, dtype: int64"
      ]
     },
     "execution_count": 500,
     "metadata": {},
     "output_type": "execute_result"
    }
   ],
   "source": [
    "good_doc_numbers.str.startswith('6').value_counts()"
   ]
  },
  {
   "cell_type": "markdown",
   "id": "02b16671",
   "metadata": {},
   "source": [
    "1. iter_5: first+seventh+(убрал outputbase digits) - 27 нераспознанных изображений"
   ]
  },
  {
   "cell_type": "code",
   "execution_count": null,
   "id": "a9fa6109",
   "metadata": {},
   "outputs": [],
   "source": []
  },
  {
   "cell_type": "markdown",
   "id": "c4f1ac47",
   "metadata": {},
   "source": [
    "#### Вывод \n",
    "В столбце с номерами документов 27 пропущенных значения. В них фигурируют либо **None** либо нечисловые. Качественно распознано 166 номеров документов из 193 примеров, или всего 86%."
   ]
  },
  {
   "cell_type": "markdown",
   "id": "1c48d1a4",
   "metadata": {},
   "source": [
    "## Результат исследования"
   ]
  },
  {
   "cell_type": "code",
   "execution_count": 501,
   "id": "eac216ff",
   "metadata": {},
   "outputs": [],
   "source": [
    "bad_lists_union = sorted(list(set().union(bad_doc_type_list, bad_doc_number_filenames)))"
   ]
  },
  {
   "cell_type": "code",
   "execution_count": 502,
   "id": "a15a51c1",
   "metadata": {},
   "outputs": [
    {
     "data": {
      "text/plain": [
       "28"
      ]
     },
     "execution_count": 502,
     "metadata": {},
     "output_type": "execute_result"
    }
   ],
   "source": [
    "len(bad_lists_union)"
   ]
  },
  {
   "cell_type": "code",
   "execution_count": 503,
   "id": "6641f466",
   "metadata": {},
   "outputs": [
    {
     "data": {
      "text/plain": [
       "165"
      ]
     },
     "execution_count": 503,
     "metadata": {},
     "output_type": "execute_result"
    }
   ],
   "source": [
    "len(good_df) - len(bad_lists_union)"
   ]
  },
  {
   "cell_type": "code",
   "execution_count": 504,
   "id": "32d54a75",
   "metadata": {},
   "outputs": [
    {
     "data": {
      "text/plain": [
       "0.8549222797927462"
      ]
     },
     "execution_count": 504,
     "metadata": {},
     "output_type": "execute_result"
    }
   ],
   "source": [
    "1 -len(bad_lists_union) / len(good_df)"
   ]
  },
  {
   "cell_type": "markdown",
   "id": "985f3851",
   "metadata": {},
   "source": [
    "## Общий вывод"
   ]
  },
  {
   "cell_type": "markdown",
   "id": "f50d122c",
   "metadata": {},
   "source": [
    "**Итерация 1** - отсутствует предобработка (первый препроцессинг). Можно считать качественно распознанными 179 документов из 193, что составляет **92.75%** из тестовых данных."
   ]
  },
  {
   "cell_type": "markdown",
   "id": "cca7e901",
   "metadata": {},
   "source": [
    "**Итерация 2** - добавлен второй препроцессинг. Можно считать качественно распознанными 178 документов из 193, что составляет **92.70%** из тестовых данных."
   ]
  },
  {
   "cell_type": "markdown",
   "id": "f163339a",
   "metadata": {},
   "source": [
    "**Итерация 3** - добавлен третий препроцессинг. Можно считать качественно распознанными 179 документов из 193, что составляет **92.75%** из тестовых данных."
   ]
  },
  {
   "cell_type": "markdown",
   "id": "0cff2b91",
   "metadata": {},
   "source": [
    "**Итерация 4** - добавлен четвертый препроцессинг. Можно считать качественно распознанными 180 документов из 193, что составляет **93.26%** из тестовых данных."
   ]
  },
  {
   "cell_type": "markdown",
   "id": "06690771",
   "metadata": {},
   "source": [
    "**Итерация 5** - добавлен пятый препроцессинг. Можно считать качественно распознанными 180 документов из 193, что составляет **93.26%** из тестовых данных."
   ]
  },
  {
   "cell_type": "markdown",
   "id": "459c5394",
   "metadata": {},
   "source": [
    "**Итерация 6** - добавлен новый препроцессинг. \n",
    "\n",
    "`return cv2.GaussianBlur(img, (1, 1), 0)`\n",
    "\n",
    "Можно считать качественно распознанными 179 документов из 193, что составляет **92.75%** из тестовых данных."
   ]
  },
  {
   "cell_type": "code",
   "execution_count": 150,
   "id": "9ea2b6ea",
   "metadata": {},
   "outputs": [
    {
     "data": {
      "text/plain": [
       "['038.jpg',\n",
       " '039.jpg',\n",
       " '041.jpg',\n",
       " '044.jpg',\n",
       " '047.jpg',\n",
       " '057.jpg',\n",
       " '079.jpg',\n",
       " '082.jpg',\n",
       " '091.jpg',\n",
       " '095.jpg',\n",
       " '096.jpg',\n",
       " '099.jpg',\n",
       " '109.jpg',\n",
       " '113.jpg',\n",
       " '116.jpg',\n",
       " '119.jpg',\n",
       " '125.jpg',\n",
       " '127.jpg',\n",
       " '131.jpg',\n",
       " '132.jpg',\n",
       " '136.jpg',\n",
       " '138.jpg',\n",
       " '141.jpg',\n",
       " '144.jpg',\n",
       " '145.jpg',\n",
       " '146.jpg',\n",
       " '148.jpg',\n",
       " '150.jpg',\n",
       " '158.jpg',\n",
       " '164.jpg',\n",
       " '165.jpg',\n",
       " '167.jpg',\n",
       " '169.jpg',\n",
       " '175.jpg',\n",
       " '177.jpg',\n",
       " '179.jpg',\n",
       " '180.jpg',\n",
       " '182.jpg',\n",
       " '184.jpg',\n",
       " '188.jpg',\n",
       " '190.jpg',\n",
       " '193.jpg',\n",
       " '201.jpg',\n",
       " '202.jpg']"
      ]
     },
     "execution_count": 150,
     "metadata": {},
     "output_type": "execute_result"
    }
   ],
   "source": [
    "bad_lists_union"
   ]
  },
  {
   "cell_type": "code",
   "execution_count": 445,
   "id": "2e71a54f",
   "metadata": {},
   "outputs": [],
   "source": [
    "bad_doc_number_it_5 = ['065.jpg', '069.jpg', '076.jpg', '079.jpg', '081.jpg', '083.jpg', '109.jpg', '113.jpg',\n",
    "                       '116.jpg', '119.jpg', '123.jpg', '128.jpg', '129.jpg', '136.jpg', '141.jpg', '145.jpg',\n",
    "                       '146.jpg', '148.jpg', '162.jpg', '165.jpg', '167.jpg', '169.jpg', '180.jpg', '183.jpg',\n",
    "                       '184.jpg', '189.jpg', '190.jpg']"
   ]
  },
  {
   "cell_type": "code",
   "execution_count": 448,
   "id": "d7363aff",
   "metadata": {},
   "outputs": [],
   "source": [
    "bad_doc_number_it_5 = ['184.jpg', '189.jpg', '190.jpg']"
   ]
  },
  {
   "cell_type": "code",
   "execution_count": 452,
   "id": "b8fa44aa",
   "metadata": {},
   "outputs": [],
   "source": [
    "for i in bad_doc_number_it_5:\n",
    "    image = cv2.imread(DATA_PATH + i)\n",
    "    kernel = np.ones((1, 1), 'uint8')\n",
    "    \n",
    "#     image = cv2.GaussianBlur(image, (3, 3), 1)\n",
    "    image = cv2.dilate(image, kernel, iterations=2)\n",
    "#     image = cv2.GaussianBlur(image, (5, 5), 4)\n",
    "    image = cv2.cvtColor(image, cv2.COLOR_BGR2GRAY)\n",
    "    _, image = cv2.threshold(image, 140, 255, cv2.THRESH_BINARY)  # 130\n",
    "    image = cv2.resize(image, (0, 0), fx=0.5, fy=0.5)\n",
    "    cv2.imshow(f'Image {i}', image)\n",
    "    cv2.waitKey(0)\n",
    "    cv2.destroyAllWindows()"
   ]
  },
  {
   "cell_type": "code",
   "execution_count": 455,
   "id": "1f9bfde2",
   "metadata": {},
   "outputs": [],
   "source": [
    "for i in bad_doc_number_it_5:\n",
    "    image = cv2.imread(DATA_PATH + i)\n",
    "    kernel = np.ones((1, 1), 'uint8')\n",
    "    \n",
    "    image = cv2.GaussianBlur(image, (7, 7), 1)\n",
    "#     image = cv2.dilate(image, kernel, iterations=2)\n",
    "#     image = cv2.GaussianBlur(image, (5, 5), 4)\n",
    "#     image = cv2.cvtColor(image, cv2.COLOR_BGR2GRAY)\n",
    "#     _, image = cv2.threshold(image, 140, 255, cv2.THRESH_BINARY)  # 130\n",
    "    image = cv2.resize(image, (0, 0), fx=0.5, fy=0.5)\n",
    "    cv2.imshow(f'Image {i}', image)\n",
    "    cv2.waitKey(0)\n",
    "    cv2.destroyAllWindows()"
   ]
  },
  {
   "cell_type": "markdown",
   "id": "083ac90c",
   "metadata": {},
   "source": [
    "## Notes"
   ]
  },
  {
   "cell_type": "raw",
   "id": "84214727",
   "metadata": {},
   "source": [
    "bad_doc_number_df['doc_number'].value_counts()"
   ]
  },
  {
   "cell_type": "raw",
   "id": "00372c88",
   "metadata": {},
   "source": [
    "doc_number_not_numeric = not_numeric_in_colunm(good_df['doc_number'])\n",
    "doc_number_not_numeric"
   ]
  },
  {
   "cell_type": "raw",
   "id": "23be7072",
   "metadata": {},
   "source": [
    "length_of_doc_numbers = len_of_numbers(good_df['doc_number'])\n",
    "length_of_doc_numbers"
   ]
  },
  {
   "cell_type": "raw",
   "id": "81213ba8",
   "metadata": {},
   "source": [
    "bad_doc_number_list = list(bad_doc_number_df['filename'])\n",
    "sorted(bad_doc_number_list)"
   ]
  },
  {
   "cell_type": "code",
   "execution_count": null,
   "id": "887ad3d2",
   "metadata": {},
   "outputs": [],
   "source": []
  }
 ],
 "metadata": {
  "kernelspec": {
   "display_name": "ocr_data_generation",
   "language": "python",
   "name": "ocr_data_generation"
  },
  "language_info": {
   "codemirror_mode": {
    "name": "ipython",
    "version": 3
   },
   "file_extension": ".py",
   "mimetype": "text/x-python",
   "name": "python",
   "nbconvert_exporter": "python",
   "pygments_lexer": "ipython3",
   "version": "3.9.13"
  }
 },
 "nbformat": 4,
 "nbformat_minor": 5
}
