{
 "cells": [
  {
   "cell_type": "markdown",
   "metadata": {},
   "source": [
    "### Информация\n",
    "- *Автор*: Зитцер Данил\n",
    "- *Дата*: вторник, 29 марта 2022 г., 11:47:50\n",
    "- *Описание*: Блокнот для визуализации набора данных \"ocr-test-cases\""
   ]
  },
  {
   "cell_type": "markdown",
   "metadata": {},
   "source": [
    "#### Requirements"
   ]
  },
  {
   "cell_type": "code",
   "execution_count": 1,
   "metadata": {
    "ExecuteTime": {
     "end_time": "2022-03-29T12:01:57.325894Z",
     "start_time": "2022-03-29T12:01:57.323055Z"
    }
   },
   "outputs": [],
   "source": [
    "# !pip3 install opencv-python==4.4.0.46 pandas==1.2.4"
   ]
  },
  {
   "cell_type": "code",
   "execution_count": 2,
   "metadata": {
    "ExecuteTime": {
     "end_time": "2022-03-29T12:01:59.016149Z",
     "start_time": "2022-03-29T12:01:58.870759Z"
    }
   },
   "outputs": [],
   "source": [
    "import cv2\n",
    "import pandas as pd\n",
    "\n",
    "\n",
    "pd.set_option('display.max_columns', 100)\n",
    "pd.set_option('display.max_rows', 100)"
   ]
  },
  {
   "cell_type": "code",
   "execution_count": 3,
   "metadata": {
    "ExecuteTime": {
     "end_time": "2022-03-29T12:02:05.843918Z",
     "start_time": "2022-03-29T12:02:05.822411Z"
    }
   },
   "outputs": [
    {
     "data": {
      "text/html": [
       "<div>\n",
       "<style scoped>\n",
       "    .dataframe tbody tr th:only-of-type {\n",
       "        vertical-align: middle;\n",
       "    }\n",
       "\n",
       "    .dataframe tbody tr th {\n",
       "        vertical-align: top;\n",
       "    }\n",
       "\n",
       "    .dataframe thead th {\n",
       "        text-align: right;\n",
       "    }\n",
       "</style>\n",
       "<table border=\"1\" class=\"dataframe\">\n",
       "  <thead>\n",
       "    <tr style=\"text-align: right;\">\n",
       "      <th></th>\n",
       "      <th>filename</th>\n",
       "      <th>doc_type</th>\n",
       "      <th>doc_number</th>\n",
       "      <th>doc_date</th>\n",
       "      <th>scan_is_good</th>\n",
       "      <th>doc_type_box_left</th>\n",
       "      <th>doc_type_box_top</th>\n",
       "      <th>doc_type_box_width</th>\n",
       "      <th>doc_type_box_height</th>\n",
       "      <th>doc_number_box_left</th>\n",
       "      <th>doc_number_box_top</th>\n",
       "      <th>doc_number_box_width</th>\n",
       "      <th>doc_number_box_height</th>\n",
       "      <th>doc_date_box_left</th>\n",
       "      <th>doc_date_box_top</th>\n",
       "      <th>doc_date_box_width</th>\n",
       "      <th>doc_date_box_height</th>\n",
       "    </tr>\n",
       "  </thead>\n",
       "  <tbody>\n",
       "    <tr>\n",
       "      <th>0</th>\n",
       "      <td>001.jpg</td>\n",
       "      <td>акт</td>\n",
       "      <td>6017103091</td>\n",
       "      <td>24.11.2021</td>\n",
       "      <td>True</td>\n",
       "      <td>0.026561</td>\n",
       "      <td>0.014445</td>\n",
       "      <td>0.023020</td>\n",
       "      <td>0.008174</td>\n",
       "      <td>0.066498</td>\n",
       "      <td>0.013455</td>\n",
       "      <td>0.071328</td>\n",
       "      <td>0.010155</td>\n",
       "      <td>0.156660</td>\n",
       "      <td>0.013331</td>\n",
       "      <td>0.065398</td>\n",
       "      <td>0.009536</td>\n",
       "    </tr>\n",
       "    <tr>\n",
       "      <th>1</th>\n",
       "      <td>002.jpg</td>\n",
       "      <td>акт</td>\n",
       "      <td>6600174850</td>\n",
       "      <td>12.10.2021</td>\n",
       "      <td>True</td>\n",
       "      <td>0.037938</td>\n",
       "      <td>0.035595</td>\n",
       "      <td>0.023487</td>\n",
       "      <td>0.007534</td>\n",
       "      <td>0.079714</td>\n",
       "      <td>0.034500</td>\n",
       "      <td>0.072964</td>\n",
       "      <td>0.008492</td>\n",
       "      <td>0.172122</td>\n",
       "      <td>0.034500</td>\n",
       "      <td>0.065841</td>\n",
       "      <td>0.008766</td>\n",
       "    </tr>\n",
       "    <tr>\n",
       "      <th>2</th>\n",
       "      <td>003.jpg</td>\n",
       "      <td>акт</td>\n",
       "      <td>6600226583</td>\n",
       "      <td>07.12.2021</td>\n",
       "      <td>True</td>\n",
       "      <td>0.070513</td>\n",
       "      <td>0.037068</td>\n",
       "      <td>0.023613</td>\n",
       "      <td>0.008848</td>\n",
       "      <td>0.111159</td>\n",
       "      <td>0.036792</td>\n",
       "      <td>0.073161</td>\n",
       "      <td>0.008709</td>\n",
       "      <td>0.202126</td>\n",
       "      <td>0.036239</td>\n",
       "      <td>0.065419</td>\n",
       "      <td>0.009401</td>\n",
       "    </tr>\n",
       "    <tr>\n",
       "      <th>3</th>\n",
       "      <td>004.jpg</td>\n",
       "      <td>акт</td>\n",
       "      <td>6600236611</td>\n",
       "      <td>17.12.2021</td>\n",
       "      <td>True</td>\n",
       "      <td>0.033116</td>\n",
       "      <td>0.045036</td>\n",
       "      <td>0.023148</td>\n",
       "      <td>0.008422</td>\n",
       "      <td>0.073842</td>\n",
       "      <td>0.045036</td>\n",
       "      <td>0.071531</td>\n",
       "      <td>0.008422</td>\n",
       "      <td>0.164170</td>\n",
       "      <td>0.044789</td>\n",
       "      <td>0.065962</td>\n",
       "      <td>0.008669</td>\n",
       "    </tr>\n",
       "    <tr>\n",
       "      <th>4</th>\n",
       "      <td>005.jpg</td>\n",
       "      <td>акт</td>\n",
       "      <td>6600241100</td>\n",
       "      <td>22.12.2021</td>\n",
       "      <td>True</td>\n",
       "      <td>0.039245</td>\n",
       "      <td>0.047049</td>\n",
       "      <td>0.023848</td>\n",
       "      <td>0.007750</td>\n",
       "      <td>0.080277</td>\n",
       "      <td>0.047049</td>\n",
       "      <td>0.072069</td>\n",
       "      <td>0.007625</td>\n",
       "      <td>0.170582</td>\n",
       "      <td>0.046799</td>\n",
       "      <td>0.066808</td>\n",
       "      <td>0.008125</td>\n",
       "    </tr>\n",
       "  </tbody>\n",
       "</table>\n",
       "</div>"
      ],
      "text/plain": [
       "  filename doc_type  doc_number    doc_date  scan_is_good  doc_type_box_left  \\\n",
       "0  001.jpg      акт  6017103091  24.11.2021          True           0.026561   \n",
       "1  002.jpg      акт  6600174850  12.10.2021          True           0.037938   \n",
       "2  003.jpg      акт  6600226583  07.12.2021          True           0.070513   \n",
       "3  004.jpg      акт  6600236611  17.12.2021          True           0.033116   \n",
       "4  005.jpg      акт  6600241100  22.12.2021          True           0.039245   \n",
       "\n",
       "   doc_type_box_top  doc_type_box_width  doc_type_box_height  \\\n",
       "0          0.014445            0.023020             0.008174   \n",
       "1          0.035595            0.023487             0.007534   \n",
       "2          0.037068            0.023613             0.008848   \n",
       "3          0.045036            0.023148             0.008422   \n",
       "4          0.047049            0.023848             0.007750   \n",
       "\n",
       "   doc_number_box_left  doc_number_box_top  doc_number_box_width  \\\n",
       "0             0.066498            0.013455              0.071328   \n",
       "1             0.079714            0.034500              0.072964   \n",
       "2             0.111159            0.036792              0.073161   \n",
       "3             0.073842            0.045036              0.071531   \n",
       "4             0.080277            0.047049              0.072069   \n",
       "\n",
       "   doc_number_box_height  doc_date_box_left  doc_date_box_top  \\\n",
       "0               0.010155           0.156660          0.013331   \n",
       "1               0.008492           0.172122          0.034500   \n",
       "2               0.008709           0.202126          0.036239   \n",
       "3               0.008422           0.164170          0.044789   \n",
       "4               0.007625           0.170582          0.046799   \n",
       "\n",
       "   doc_date_box_width  doc_date_box_height  \n",
       "0            0.065398             0.009536  \n",
       "1            0.065841             0.008766  \n",
       "2            0.065419             0.009401  \n",
       "3            0.065962             0.008669  \n",
       "4            0.066808             0.008125  "
      ]
     },
     "execution_count": 3,
     "metadata": {},
     "output_type": "execute_result"
    }
   ],
   "source": [
    "data = pd.read_csv('/home/kirillk/datasets/OCR/ocr_act_1/test-cases-act.csv', index_col=0)\n",
    "\n",
    "# data.loc[data['filename'] == '095.jpg', 'orientation'] = 'horizontal'\n",
    "\n",
    "data.head()\n",
    "# data.to_csv('../assets/test-cases.csv')"
   ]
  },
  {
   "cell_type": "code",
   "execution_count": 4,
   "metadata": {},
   "outputs": [
    {
     "data": {
      "text/plain": [
       "95    horizontal\n",
       "Name: orientation, dtype: object"
      ]
     },
     "execution_count": 4,
     "metadata": {},
     "output_type": "execute_result"
    }
   ],
   "source": [
    "data.loc[data['filename'] == '095.jpg', 'orientation']"
   ]
  },
  {
   "cell_type": "code",
   "execution_count": 64,
   "metadata": {},
   "outputs": [],
   "source": [
    "h = data.query('orientation == \"horizontal\"')"
   ]
  },
  {
   "cell_type": "markdown",
   "metadata": {},
   "source": [
    "## Исследование по вычислениям регионов"
   ]
  },
  {
   "cell_type": "markdown",
   "metadata": {},
   "source": [
    "### Расположение типа документа"
   ]
  },
  {
   "cell_type": "code",
   "execution_count": 107,
   "metadata": {},
   "outputs": [
    {
     "data": {
      "text/plain": [
       "0.22563780398531555"
      ]
     },
     "execution_count": 107,
     "metadata": {},
     "output_type": "execute_result"
    }
   ],
   "source": [
    "delta_y_type = (h['doc_type_box_top'] - h['barcode_box_height'] - h['barcode_box_top'])\n",
    "delta_y_type.describe()['min']"
   ]
  },
  {
   "cell_type": "code",
   "execution_count": 108,
   "metadata": {},
   "outputs": [
    {
     "data": {
      "text/plain": [
       "0.0992509083153375"
      ]
     },
     "execution_count": 108,
     "metadata": {},
     "output_type": "execute_result"
    }
   ],
   "source": [
    "delta_x_type = (h['doc_type_box_left'] - h['barcode_box_width'] - h['barcode_box_left'])\n",
    "delta_x_type.describe()['min']"
   ]
  },
  {
   "cell_type": "code",
   "execution_count": 109,
   "metadata": {},
   "outputs": [
    {
     "data": {
      "text/plain": [
       "0.060846927820421025"
      ]
     },
     "execution_count": 109,
     "metadata": {},
     "output_type": "execute_result"
    }
   ],
   "source": [
    "height_type = delta_y_type.describe()['max'] - delta_y_type.describe()['min'] + h['doc_type_box_height'].describe()['max']\n",
    "height_type"
   ]
  },
  {
   "cell_type": "code",
   "execution_count": 110,
   "metadata": {},
   "outputs": [
    {
     "data": {
      "text/plain": [
       "0.15830705762258668"
      ]
     },
     "execution_count": 110,
     "metadata": {},
     "output_type": "execute_result"
    }
   ],
   "source": [
    "width_type = delta_x_type.describe()['max'] - delta_x_type.describe()['min'] + h['doc_type_box_width'].describe()['max']\n",
    "width_type"
   ]
  },
  {
   "cell_type": "markdown",
   "metadata": {},
   "source": [
    "### Расположение номера документа"
   ]
  },
  {
   "cell_type": "code",
   "execution_count": 111,
   "metadata": {},
   "outputs": [
    {
     "data": {
      "text/plain": [
       "0.23019614345976638"
      ]
     },
     "execution_count": 111,
     "metadata": {},
     "output_type": "execute_result"
    }
   ],
   "source": [
    "delta_y_number = (h['doc_number_box_top'] - h['barcode_box_height'] - h['barcode_box_top'])\n",
    "delta_y_number.describe()['min']"
   ]
  },
  {
   "cell_type": "code",
   "execution_count": 112,
   "metadata": {},
   "outputs": [
    {
     "data": {
      "text/plain": [
       "0.2499945210478843"
      ]
     },
     "execution_count": 112,
     "metadata": {},
     "output_type": "execute_result"
    }
   ],
   "source": [
    "delta_x_number = (h['doc_number_box_left'] - h['barcode_box_width'] - h['barcode_box_left'])\n",
    "delta_x_number.describe()['min']"
   ]
  },
  {
   "cell_type": "code",
   "execution_count": 113,
   "metadata": {},
   "outputs": [
    {
     "data": {
      "text/plain": [
       "0.05236081804739489"
      ]
     },
     "execution_count": 113,
     "metadata": {},
     "output_type": "execute_result"
    }
   ],
   "source": [
    "height_number = delta_y_number.describe()['max'] - delta_y_number.describe()['min'] + h['doc_number_box_height'].describe()['max']\n",
    "height_number"
   ]
  },
  {
   "cell_type": "code",
   "execution_count": 114,
   "metadata": {},
   "outputs": [
    {
     "data": {
      "text/plain": [
       "0.09546865830208186"
      ]
     },
     "execution_count": 114,
     "metadata": {},
     "output_type": "execute_result"
    }
   ],
   "source": [
    "width_number = delta_x_number.describe()['max'] - delta_x_number.describe()['min'] + h['doc_number_box_width'].describe()['max']\n",
    "width_number"
   ]
  },
  {
   "cell_type": "markdown",
   "metadata": {},
   "source": [
    "### Дефолтные значения для типа и номера документа"
   ]
  },
  {
   "cell_type": "code",
   "execution_count": 52,
   "metadata": {},
   "outputs": [
    {
     "data": {
      "text/plain": [
       "0.2615082611492085"
      ]
     },
     "execution_count": 52,
     "metadata": {},
     "output_type": "execute_result"
    }
   ],
   "source": [
    "h['doc_type_box_left'].describe()['min']"
   ]
  },
  {
   "cell_type": "code",
   "execution_count": 53,
   "metadata": {},
   "outputs": [
    {
     "data": {
      "text/plain": [
       "0.1977487494775241"
      ]
     },
     "execution_count": 53,
     "metadata": {},
     "output_type": "execute_result"
    }
   ],
   "source": [
    "h['doc_type_box_left'].max() - h['doc_type_box_left'].min() + h['doc_type_box_width'].max()"
   ]
  },
  {
   "cell_type": "code",
   "execution_count": 54,
   "metadata": {},
   "outputs": [
    {
     "data": {
      "text/plain": [
       "0.1079090372280077"
      ]
     },
     "execution_count": 54,
     "metadata": {},
     "output_type": "execute_result"
    }
   ],
   "source": [
    "h['doc_type_box_top'].describe()['min']"
   ]
  },
  {
   "cell_type": "code",
   "execution_count": 55,
   "metadata": {},
   "outputs": [
    {
     "data": {
      "text/plain": [
       "0.555220072277551"
      ]
     },
     "execution_count": 55,
     "metadata": {},
     "output_type": "execute_result"
    }
   ],
   "source": [
    "h['doc_type_box_top'].max() - h['doc_type_box_top'].min() + h['doc_type_box_height'].max()"
   ]
  },
  {
   "cell_type": "code",
   "execution_count": 60,
   "metadata": {},
   "outputs": [
    {
     "data": {
      "text/plain": [
       "0.4132300289433828"
      ]
     },
     "execution_count": 60,
     "metadata": {},
     "output_type": "execute_result"
    }
   ],
   "source": [
    "h['doc_number_box_left'].describe()['min']"
   ]
  },
  {
   "cell_type": "code",
   "execution_count": 61,
   "metadata": {},
   "outputs": [
    {
     "data": {
      "text/plain": [
       "0.10281920525254018"
      ]
     },
     "execution_count": 61,
     "metadata": {},
     "output_type": "execute_result"
    }
   ],
   "source": [
    "h['doc_number_box_left'].max() - h['doc_number_box_left'].min() + h['doc_number_box_width'].max()"
   ]
  },
  {
   "cell_type": "code",
   "execution_count": 65,
   "metadata": {},
   "outputs": [
    {
     "data": {
      "text/plain": [
       "0.330225801737797"
      ]
     },
     "execution_count": 65,
     "metadata": {},
     "output_type": "execute_result"
    }
   ],
   "source": [
    "h['doc_number_box_top'].describe()['min']"
   ]
  },
  {
   "cell_type": "code",
   "execution_count": 66,
   "metadata": {},
   "outputs": [
    {
     "data": {
      "text/plain": [
       "0.06336797661919122"
      ]
     },
     "execution_count": 66,
     "metadata": {},
     "output_type": "execute_result"
    }
   ],
   "source": [
    "h['doc_number_box_top'].max() - h['doc_number_box_top'].min() + h['doc_number_box_height'].max()"
   ]
  },
  {
   "cell_type": "code",
   "execution_count": 7,
   "metadata": {
    "ExecuteTime": {
     "end_time": "2022-03-29T12:02:22.909156Z",
     "start_time": "2022-03-29T12:02:22.832042Z"
    }
   },
   "outputs": [
    {
     "name": "stdout",
     "output_type": "stream",
     "text": [
      "(203, 17)\n",
      "(100, 17)\n"
     ]
    },
    {
     "data": {
      "text/plain": [
       "<AxesSubplot:ylabel='Frequency'>"
      ]
     },
     "execution_count": 7,
     "metadata": {},
     "output_type": "execute_result"
    },
    {
     "data": {
      "image/png": "[encoded data removed]",
      "text/plain": [
       "<Figure size 432x288 with 1 Axes>"
      ]
     },
     "metadata": {
      "needs_background": "light"
     },
     "output_type": "display_data"
    }
   ],
   "source": [
    "print(data.shape)\n",
    "print(h.shape)\n",
    "\n",
    "(h['barcode_box_left'] + h['barcode_box_width'] - h['doc_type_box_left']).abs().plot(kind='hist')"
   ]
  },
  {
   "cell_type": "code",
   "execution_count": null,
   "metadata": {
    "ExecuteTime": {
     "end_time": "2022-03-29T12:00:34.850554Z",
     "start_time": "2022-03-29T12:00:17.511187Z"
    }
   },
   "outputs": [],
   "source": [
    "for index, row in data.query('orientation == \"vertical\"').iterrows():\n",
    "    image = cv2.imread('/srv/datasets/ocr/test-cases/' + row['filename'])\n",
    "    if image.shape[0] < image.shape[1]:\n",
    "        print(row['filename'], image.shape)"
   ]
  },
  {
   "cell_type": "code",
   "execution_count": 6,
   "metadata": {
    "ExecuteTime": {
     "end_time": "2022-03-29T12:03:01.804656Z",
     "start_time": "2022-03-29T12:02:51.546106Z"
    }
   },
   "outputs": [],
   "source": [
    "mapping_prefix_value = {\n",
    "    'barcode_box_': 'barcode_number',\n",
    "    'doc_type_box_': None,\n",
    "    'doc_number_box_': 'doc_number',\n",
    "}\n",
    "\n",
    "for index, row in data.query('filename == \"095.jpg\"').iterrows():\n",
    "    image = cv2.imread('/srv/datasets/ocr/test-cases/' + row['filename'])\n",
    "    image = cv2.resize(image, (0, 0), fx=0.3, fy=0.3)\n",
    "    height, width, _ = image.shape\n",
    "    \n",
    "    for prefix, value in mapping_prefix_value.items():\n",
    "        x1 = int(row[prefix + 'left'] * width)\n",
    "        y1 = int(row[prefix + 'top'] * height)\n",
    "        x2 = int((row[prefix + 'left'] + row[prefix + 'width']) * width)\n",
    "        y2 = int((row[prefix + 'top'] + row[prefix + 'height']) * height)\n",
    "    \n",
    "        image = cv2.rectangle(image, (x1, y1), (x2, y2), (0, 0, 255), 4)\n",
    "        image = cv2.putText(image, row.get(value, default=''), (x1, y2 + 50), 0, 2, (0, 0, 255), 3)\n",
    "        \n",
    "    cv2.imshow('Document', image)\n",
    "    \n",
    "    key = cv2.waitKey(10000) & 0xFF\n",
    "\n",
    "    if key == ord('q'):\n",
    "        break\n",
    "    \n",
    "cv2.destroyAllWindows()"
   ]
  }
 ],
 "metadata": {
  "kernelspec": {
   "display_name": "distance_calculation",
   "language": "python",
   "name": "distance_calculation"
  },
  "language_info": {
   "codemirror_mode": {
    "name": "ipython",
    "version": 3
   },
   "file_extension": ".py",
   "mimetype": "text/x-python",
   "name": "python",
   "nbconvert_exporter": "python",
   "pygments_lexer": "ipython3",
   "version": "3.9.13"
  }
 },
 "nbformat": 4,
 "nbformat_minor": 4
}
