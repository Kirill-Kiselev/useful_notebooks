{
 "cells": [
  {
   "cell_type": "markdown",
   "id": "6111a7ea",
   "metadata": {},
   "source": [
    "# Исследование препроцессинга на распознавание типа и номера документов прототипа OCR. Детекция OpenVINO. Распознавание PaddleOCR \n",
    "- Автор: Кирилл Киселев\n",
    "- Дата начала: 04.05.2022\n",
    "- Описание исследования: в датасете содержится 203 изображения, 10 из которых отфильтруются по детектору блюра. Остальные изображения хорошо читаемые. Необходимо довести точность их распознавания до 100%."
   ]
  },
  {
   "cell_type": "markdown",
   "id": "f54ab7d3",
   "metadata": {},
   "source": [
    "## Загрузка библиотек"
   ]
  },
  {
   "cell_type": "code",
   "execution_count": 1,
   "id": "f52652fd",
   "metadata": {},
   "outputs": [],
   "source": [
    "import os\n",
    "import pandas as pd\n",
    "import cv2\n",
    "import numpy as np"
   ]
  },
  {
   "cell_type": "markdown",
   "id": "753c8100",
   "metadata": {},
   "source": [
    "## Глобальные переменные"
   ]
  },
  {
   "cell_type": "code",
   "execution_count": 2,
   "id": "66a47e96",
   "metadata": {},
   "outputs": [
    {
     "name": "stdout",
     "output_type": "stream",
     "text": [
      "/home/kirillk/PycharmProjects/useful_notebooks/ocr\r\n"
     ]
    }
   ],
   "source": [
    "!pwd"
   ]
  },
  {
   "cell_type": "code",
   "execution_count": 3,
   "id": "9efd8f92",
   "metadata": {},
   "outputs": [],
   "source": [
    "# TXT_PATH = '/home/kirillk/datasets/OCR/ocr_test_cases/paddle_ocr_results_iter_1.txt'\n",
    "# TXT_PATH = '/home/kirillk/datasets/OCR/ocr_test_cases/paddle_ocr_results_iter_2.txt'\n",
    "# TXT_PATH = '/home/kirillk/datasets/OCR/ocr_test_cases/paddle_ocr_results_iter_3.txt'\n",
    "# TXT_PATH = '/home/kirillk/datasets/OCR/ocr_test_cases/paddle_ocr_results_iter_4.txt'\n",
    "# TXT_PATH = '/home/kirillk/datasets/OCR/ocr_test_cases/paddle_ocr_results_iter_5.txt'\n",
    "# TXT_PATH = '/home/kirillk/datasets/OCR/ocr_test_cases/paddle_ocr_results_iter_6.txt'\n",
    "TXT_PATH = '/home/kirillk/datasets/OCR/ocr_test_cases/paddle_ocr_results_iter_7.txt'\n",
    "SAVE_PATH = '/home/kirillk/datasets/OCR/ocr_test_cases/paddle_ocr_results'\n",
    "DATA_PATH = '/home/kirillk/datasets/OCR/ocr_test_cases/test_cases/'"
   ]
  },
  {
   "cell_type": "markdown",
   "id": "50a2b1ad",
   "metadata": {},
   "source": [
    "## Загрузка данных и подготовка датасета"
   ]
  },
  {
   "cell_type": "code",
   "execution_count": 4,
   "id": "9b940349",
   "metadata": {},
   "outputs": [],
   "source": [
    "filename_list = []\n",
    "results_list = []\n",
    "\n",
    "with open(TXT_PATH, \"r\") as file:\n",
    "    for num, line in enumerate(file):\n",
    "        if 'jpg' in line:\n",
    "            line = line.split(' ')[-1].rstrip()\n",
    "            filename_list.append(line)\n",
    "        else:\n",
    "            line = line.split(' ', maxsplit=3)[-1].rstrip()\n",
    "            results_list.append(line)\n",
    "            \n",
    "# results_list = results_list[0:-1]"
   ]
  },
  {
   "cell_type": "code",
   "execution_count": 5,
   "id": "f4196938",
   "metadata": {
    "scrolled": true
   },
   "outputs": [
    {
     "data": {
      "text/plain": [
       "['148.jpg',\n",
       " '177.jpg',\n",
       " '083.jpg',\n",
       " '164.jpg',\n",
       " '076.jpg',\n",
       " '146.jpg',\n",
       " '079.jpg',\n",
       " '065.jpg',\n",
       " '125.jpg',\n",
       " '165.jpg',\n",
       " '113.jpg',\n",
       " '180.jpg',\n",
       " '149.jpg',\n",
       " '081.jpg']"
      ]
     },
     "execution_count": 5,
     "metadata": {},
     "output_type": "execute_result"
    }
   ],
   "source": [
    "filename_list"
   ]
  },
  {
   "cell_type": "code",
   "execution_count": 6,
   "id": "943a20d3",
   "metadata": {},
   "outputs": [
    {
     "data": {
      "text/plain": [
       "14"
      ]
     },
     "execution_count": 6,
     "metadata": {},
     "output_type": "execute_result"
    }
   ],
   "source": [
    "len(filename_list)"
   ]
  },
  {
   "cell_type": "code",
   "execution_count": null,
   "id": "62177ba1",
   "metadata": {},
   "outputs": [],
   "source": []
  },
  {
   "cell_type": "code",
   "execution_count": 7,
   "id": "025d9225",
   "metadata": {},
   "outputs": [
    {
     "data": {
      "text/plain": [
       "[\"{'id': 0, 'barcode': '2860602715096', 'doc_type': 'Товарнаян накладная', 'doc_number': '8017423142', 'error_list': []}\",\n",
       " \"{'id': 1, 'barcode': '2860617614391', 'doc_type': None, 'doc_number': '6017644991', 'error_list': []}\",\n",
       " \"{'id': 2, 'barcode': '2810096516426', 'doc_type': 'Товарная накладная', 'doc_number': '6010594120', 'error_list': []}\",\n",
       " \"{'id': 3, 'barcode': '2860611204697', 'doc_type': 'Товарнаям накладная', 'doc_number': 'B047539166', 'error_list': []}\",\n",
       " \"{'id': 4, 'barcode': '2810096516365', 'doc_type': 'Товарная накладная', 'doc_number': None, 'error_list': []}\",\n",
       " \"{'id': 5, 'barcode': '2860601473409', 'doc_type': None, 'doc_number': '8817415146', 'error_list': []}\",\n",
       " \"{'id': 6, 'barcode': '2810097409826', 'doc_type': 'Товарная накладная', 'doc_number': None, 'error_list': []}\",\n",
       " \"{'id': 7, 'barcode': '2810097409826', 'doc_type': 'Товарная накладная', 'doc_number': None, 'error_list': []}\",\n",
       " \"{'id': 8, 'barcode': '2860582098769', 'doc_type': 'Товарнаян гнакладная', 'doc_number': '6Q17073063', 'error_list': []}\",\n",
       " \"{'id': 9, 'barcode': '2860611233796', 'doc_type': 'оварнаяя накледная', 'doc_number': '5041753049', 'error_list': []}\",\n",
       " \"{'id': 10, 'barcode': '2860597420210', 'doc_type': 'Товарнаян гнакладная', 'doc_number': None, 'error_list': []}\",\n",
       " \"{'id': 11, 'barcode': '2860618473492', 'doc_type': 'товарнаян накладная', 'doc_number': None, 'error_list': []}\",\n",
       " \"{'id': 12, 'barcode': '2860609765162', 'doc_type': 'Товарнаян нактадная', 'doc_number': None, 'error_list': []}\",\n",
       " \"{'id': 13, 'barcode': '2810096516365', 'doc_type': 'Товарная накладная', 'doc_number': None, 'error_list': []}\"]"
      ]
     },
     "execution_count": 7,
     "metadata": {},
     "output_type": "execute_result"
    }
   ],
   "source": [
    "results_list"
   ]
  },
  {
   "cell_type": "code",
   "execution_count": 8,
   "id": "2e296809",
   "metadata": {},
   "outputs": [
    {
     "data": {
      "text/plain": [
       "14"
      ]
     },
     "execution_count": 8,
     "metadata": {},
     "output_type": "execute_result"
    }
   ],
   "source": [
    "len(results_list)"
   ]
  },
  {
   "cell_type": "code",
   "execution_count": 9,
   "id": "05f6918b",
   "metadata": {},
   "outputs": [],
   "source": [
    "df = pd.DataFrame()\n",
    "\n",
    "for num, _ in enumerate(results_list):\n",
    "    q = eval(results_list[num].replace('\\\\', ''))\n",
    "    if q['error_list'] == []:\n",
    "        q['error_list'] = 0\n",
    "    else:\n",
    "        q['error_list'] = 1\n",
    "    \n",
    "    res_df = pd.DataFrame(q, index=[0])\n",
    "    df = pd.concat([df, res_df])"
   ]
  },
  {
   "cell_type": "code",
   "execution_count": 10,
   "id": "77fe87ba",
   "metadata": {},
   "outputs": [],
   "source": [
    "df = df.reset_index(drop=True)"
   ]
  },
  {
   "cell_type": "code",
   "execution_count": 11,
   "id": "660d257c",
   "metadata": {},
   "outputs": [],
   "source": [
    "df['filename'] = filename_list"
   ]
  },
  {
   "cell_type": "code",
   "execution_count": 12,
   "id": "5b2c32de",
   "metadata": {},
   "outputs": [],
   "source": [
    "df = df[['id', 'filename', 'barcode', 'doc_type', 'doc_number', 'error_list']]"
   ]
  },
  {
   "cell_type": "code",
   "execution_count": 13,
   "id": "0815ac2b",
   "metadata": {},
   "outputs": [
    {
     "data": {
      "text/html": [
       "<div>\n",
       "<style scoped>\n",
       "    .dataframe tbody tr th:only-of-type {\n",
       "        vertical-align: middle;\n",
       "    }\n",
       "\n",
       "    .dataframe tbody tr th {\n",
       "        vertical-align: top;\n",
       "    }\n",
       "\n",
       "    .dataframe thead th {\n",
       "        text-align: right;\n",
       "    }\n",
       "</style>\n",
       "<table border=\"1\" class=\"dataframe\">\n",
       "  <thead>\n",
       "    <tr style=\"text-align: right;\">\n",
       "      <th></th>\n",
       "      <th>id</th>\n",
       "      <th>filename</th>\n",
       "      <th>barcode</th>\n",
       "      <th>doc_type</th>\n",
       "      <th>doc_number</th>\n",
       "      <th>error_list</th>\n",
       "    </tr>\n",
       "  </thead>\n",
       "  <tbody>\n",
       "    <tr>\n",
       "      <th>0</th>\n",
       "      <td>0</td>\n",
       "      <td>148.jpg</td>\n",
       "      <td>2860602715096</td>\n",
       "      <td>Товарнаян накладная</td>\n",
       "      <td>8017423142</td>\n",
       "      <td>0</td>\n",
       "    </tr>\n",
       "    <tr>\n",
       "      <th>1</th>\n",
       "      <td>1</td>\n",
       "      <td>177.jpg</td>\n",
       "      <td>2860617614391</td>\n",
       "      <td>None</td>\n",
       "      <td>6017644991</td>\n",
       "      <td>0</td>\n",
       "    </tr>\n",
       "    <tr>\n",
       "      <th>2</th>\n",
       "      <td>2</td>\n",
       "      <td>083.jpg</td>\n",
       "      <td>2810096516426</td>\n",
       "      <td>Товарная накладная</td>\n",
       "      <td>6010594120</td>\n",
       "      <td>0</td>\n",
       "    </tr>\n",
       "    <tr>\n",
       "      <th>3</th>\n",
       "      <td>3</td>\n",
       "      <td>164.jpg</td>\n",
       "      <td>2860611204697</td>\n",
       "      <td>Товарнаям накладная</td>\n",
       "      <td>B047539166</td>\n",
       "      <td>0</td>\n",
       "    </tr>\n",
       "    <tr>\n",
       "      <th>4</th>\n",
       "      <td>4</td>\n",
       "      <td>076.jpg</td>\n",
       "      <td>2810096516365</td>\n",
       "      <td>Товарная накладная</td>\n",
       "      <td>None</td>\n",
       "      <td>0</td>\n",
       "    </tr>\n",
       "  </tbody>\n",
       "</table>\n",
       "</div>"
      ],
      "text/plain": [
       "   id filename        barcode             doc_type  doc_number  error_list\n",
       "0   0  148.jpg  2860602715096  Товарнаян накладная  8017423142           0\n",
       "1   1  177.jpg  2860617614391                 None  6017644991           0\n",
       "2   2  083.jpg  2810096516426   Товарная накладная  6010594120           0\n",
       "3   3  164.jpg  2860611204697  Товарнаям накладная  B047539166           0\n",
       "4   4  076.jpg  2810096516365   Товарная накладная        None           0"
      ]
     },
     "execution_count": 13,
     "metadata": {},
     "output_type": "execute_result"
    }
   ],
   "source": [
    "df.head()"
   ]
  },
  {
   "cell_type": "markdown",
   "id": "ff1876cc",
   "metadata": {},
   "source": [
    "## Визуализация"
   ]
  },
  {
   "cell_type": "raw",
   "id": "811bd925",
   "metadata": {},
   "source": [
    "for i, doc in enumerate(df['filename']):\n",
    "    image = cv2.imread(DATA_PATH + doc)\n",
    "    image = cv2.resize(image, (0, 0), fx=0.25, fy=0.25)\n",
    "    filename = df['filename'][i]\n",
    "    barcode_number = df['barcode'][i]\n",
    "    doc_type = df['doc_type'][i]\n",
    "    doc_number = df['doc_number'][i]\n",
    "    \n",
    "    \n",
    "    image = cv2.putText(image, f'{filename}', (300, 50), cv2.FONT_HERSHEY_COMPLEX, 0.7, (255, 0, 0), 2)\n",
    "    image = cv2.putText(image, f'{barcode_number}', (300, 75), cv2.FONT_HERSHEY_COMPLEX, 0.7, (255, 0, 0), 2)\n",
    "    image = cv2.putText(image, f'{doc_type}', (300, 100), cv2.FONT_HERSHEY_COMPLEX, 0.7, (255, 0, 0), 2)\n",
    "    image = cv2.putText(image, f'{doc_number}', (300, 125), cv2.FONT_HERSHEY_COMPLEX, 0.7, (255, 0, 0), 2)\n",
    "\n",
    "    # Displaying the image\n",
    "    cv2.imshow(\"Output\", image)\n",
    "    cv2.waitKey(0)\n",
    "    cv2.destroyAllWindows()\n",
    "    \n",
    "    if i == 3:\n",
    "        break"
   ]
  },
  {
   "cell_type": "markdown",
   "id": "ef42f55f",
   "metadata": {},
   "source": [
    "## Анализ данных"
   ]
  },
  {
   "cell_type": "markdown",
   "id": "d75c133b",
   "metadata": {},
   "source": [
    "### Необходимые функции"
   ]
  },
  {
   "cell_type": "code",
   "execution_count": 14,
   "id": "cfa6901b",
   "metadata": {},
   "outputs": [],
   "source": [
    "def not_numeric_in_colunm(col):\n",
    "    not_numeric = {}\n",
    "    for i, value in enumerate(col):\n",
    "        if col[i].isnumeric() == False:\n",
    "            not_numeric[i] = value\n",
    "    return not_numeric"
   ]
  },
  {
   "cell_type": "code",
   "execution_count": 15,
   "id": "51855f51",
   "metadata": {},
   "outputs": [],
   "source": [
    "def len_of_numbers(col):\n",
    "    length_dict = {}\n",
    "    for i, value in enumerate(col):\n",
    "        if value.isnumeric():\n",
    "            if len(value) not in length_dict.keys():\n",
    "                length_dict[len(value)] = 1\n",
    "            else:\n",
    "                length_dict[len(value)] += 1\n",
    "    return length_dict"
   ]
  },
  {
   "cell_type": "markdown",
   "id": "9082d4dc",
   "metadata": {},
   "source": [
    "### Error list = 1"
   ]
  },
  {
   "cell_type": "markdown",
   "id": "3b796d38",
   "metadata": {},
   "source": [
    "Если в столбце **error_list** 0, значит изображение прошло проверку детектором блюра и предварительным распознавателем текста (определение ортогонального положения). \n",
    "\n",
    "Если в этом столбце 1, значит имеет место одна или две ошибки. следовательно изображение не будет распознано. Необходимо оценить качество работы детектора блюра и ортогонального оперделителя. "
   ]
  },
  {
   "cell_type": "code",
   "execution_count": 16,
   "id": "9b0ef81a",
   "metadata": {},
   "outputs": [
    {
     "data": {
      "text/plain": [
       "0    14\n",
       "Name: error_list, dtype: int64"
      ]
     },
     "execution_count": 16,
     "metadata": {},
     "output_type": "execute_result"
    }
   ],
   "source": [
    "df['error_list'].value_counts()"
   ]
  },
  {
   "cell_type": "markdown",
   "id": "996180ee",
   "metadata": {},
   "source": [
    "Итого не будет распознано **9** изображений. Оценим их."
   ]
  },
  {
   "cell_type": "code",
   "execution_count": 17,
   "id": "455df1e2",
   "metadata": {},
   "outputs": [
    {
     "data": {
      "text/html": [
       "<div>\n",
       "<style scoped>\n",
       "    .dataframe tbody tr th:only-of-type {\n",
       "        vertical-align: middle;\n",
       "    }\n",
       "\n",
       "    .dataframe tbody tr th {\n",
       "        vertical-align: top;\n",
       "    }\n",
       "\n",
       "    .dataframe thead th {\n",
       "        text-align: right;\n",
       "    }\n",
       "</style>\n",
       "<table border=\"1\" class=\"dataframe\">\n",
       "  <thead>\n",
       "    <tr style=\"text-align: right;\">\n",
       "      <th></th>\n",
       "      <th>id</th>\n",
       "      <th>filename</th>\n",
       "      <th>barcode</th>\n",
       "      <th>doc_type</th>\n",
       "      <th>doc_number</th>\n",
       "      <th>error_list</th>\n",
       "    </tr>\n",
       "  </thead>\n",
       "  <tbody>\n",
       "  </tbody>\n",
       "</table>\n",
       "</div>"
      ],
      "text/plain": [
       "Empty DataFrame\n",
       "Columns: [id, filename, barcode, doc_type, doc_number, error_list]\n",
       "Index: []"
      ]
     },
     "execution_count": 17,
     "metadata": {},
     "output_type": "execute_result"
    }
   ],
   "source": [
    "error_df = df[df['error_list'] == 1]\n",
    "error_df"
   ]
  },
  {
   "cell_type": "raw",
   "id": "b00a010e",
   "metadata": {},
   "source": [
    "for i, doc in enumerate(error_df['filename']):\n",
    "    image = cv2.imread(DATA_PATH + doc)\n",
    "    image = cv2.resize(image, (0, 0), fx=0.25, fy=0.25)\n",
    "    filename = df['filename'][i]\n",
    "    barcode_number = df['barcode'][i]\n",
    "    doc_type = df['doc_type'][i]\n",
    "    doc_number = df['doc_number'][i]\n",
    "    \n",
    "    \n",
    "    image = cv2.putText(image, f'{filename}', (300, 50), cv2.FONT_HERSHEY_COMPLEX, 0.7, (255, 0, 0), 2)\n",
    "    image = cv2.putText(image, f'{barcode_number}', (300, 75), cv2.FONT_HERSHEY_COMPLEX, 0.7, (255, 0, 0), 2)\n",
    "    image = cv2.putText(image, f'{doc_type}', (300, 100), cv2.FONT_HERSHEY_COMPLEX, 0.7, (255, 0, 0), 2)\n",
    "    image = cv2.putText(image, f'{doc_number}', (300, 125), cv2.FONT_HERSHEY_COMPLEX, 0.7, (255, 0, 0), 2)\n",
    "\n",
    "    # Displaying the image\n",
    "    cv2.imshow(\"Output\", image)\n",
    "    cv2.waitKey(0)\n",
    "    cv2.destroyAllWindows()"
   ]
  },
  {
   "cell_type": "markdown",
   "id": "65150357",
   "metadata": {},
   "source": [
    "**Вывод**\n",
    "\n",
    "Можно сказать, что деткетор блюра позволил отсеять размытые изображения, их загрузка в SAP нежелательная, поскольку большая часть информации в них потеряна."
   ]
  },
  {
   "cell_type": "markdown",
   "id": "1e4828d4",
   "metadata": {},
   "source": [
    "### Error list = 0"
   ]
  },
  {
   "cell_type": "code",
   "execution_count": 18,
   "id": "02bc6046",
   "metadata": {},
   "outputs": [
    {
     "data": {
      "text/html": [
       "<div>\n",
       "<style scoped>\n",
       "    .dataframe tbody tr th:only-of-type {\n",
       "        vertical-align: middle;\n",
       "    }\n",
       "\n",
       "    .dataframe tbody tr th {\n",
       "        vertical-align: top;\n",
       "    }\n",
       "\n",
       "    .dataframe thead th {\n",
       "        text-align: right;\n",
       "    }\n",
       "</style>\n",
       "<table border=\"1\" class=\"dataframe\">\n",
       "  <thead>\n",
       "    <tr style=\"text-align: right;\">\n",
       "      <th></th>\n",
       "      <th>id</th>\n",
       "      <th>filename</th>\n",
       "      <th>barcode</th>\n",
       "      <th>doc_type</th>\n",
       "      <th>doc_number</th>\n",
       "      <th>error_list</th>\n",
       "    </tr>\n",
       "  </thead>\n",
       "  <tbody>\n",
       "    <tr>\n",
       "      <th>0</th>\n",
       "      <td>0</td>\n",
       "      <td>148.jpg</td>\n",
       "      <td>2860602715096</td>\n",
       "      <td>Товарнаян накладная</td>\n",
       "      <td>8017423142</td>\n",
       "      <td>0</td>\n",
       "    </tr>\n",
       "    <tr>\n",
       "      <th>1</th>\n",
       "      <td>1</td>\n",
       "      <td>177.jpg</td>\n",
       "      <td>2860617614391</td>\n",
       "      <td>None</td>\n",
       "      <td>6017644991</td>\n",
       "      <td>0</td>\n",
       "    </tr>\n",
       "    <tr>\n",
       "      <th>2</th>\n",
       "      <td>2</td>\n",
       "      <td>083.jpg</td>\n",
       "      <td>2810096516426</td>\n",
       "      <td>Товарная накладная</td>\n",
       "      <td>6010594120</td>\n",
       "      <td>0</td>\n",
       "    </tr>\n",
       "    <tr>\n",
       "      <th>3</th>\n",
       "      <td>3</td>\n",
       "      <td>164.jpg</td>\n",
       "      <td>2860611204697</td>\n",
       "      <td>Товарнаям накладная</td>\n",
       "      <td>B047539166</td>\n",
       "      <td>0</td>\n",
       "    </tr>\n",
       "    <tr>\n",
       "      <th>4</th>\n",
       "      <td>4</td>\n",
       "      <td>076.jpg</td>\n",
       "      <td>2810096516365</td>\n",
       "      <td>Товарная накладная</td>\n",
       "      <td>None</td>\n",
       "      <td>0</td>\n",
       "    </tr>\n",
       "    <tr>\n",
       "      <th>5</th>\n",
       "      <td>5</td>\n",
       "      <td>146.jpg</td>\n",
       "      <td>2860601473409</td>\n",
       "      <td>None</td>\n",
       "      <td>8817415146</td>\n",
       "      <td>0</td>\n",
       "    </tr>\n",
       "    <tr>\n",
       "      <th>6</th>\n",
       "      <td>6</td>\n",
       "      <td>079.jpg</td>\n",
       "      <td>2810097409826</td>\n",
       "      <td>Товарная накладная</td>\n",
       "      <td>None</td>\n",
       "      <td>0</td>\n",
       "    </tr>\n",
       "    <tr>\n",
       "      <th>7</th>\n",
       "      <td>7</td>\n",
       "      <td>065.jpg</td>\n",
       "      <td>2810097409826</td>\n",
       "      <td>Товарная накладная</td>\n",
       "      <td>None</td>\n",
       "      <td>0</td>\n",
       "    </tr>\n",
       "    <tr>\n",
       "      <th>8</th>\n",
       "      <td>8</td>\n",
       "      <td>125.jpg</td>\n",
       "      <td>2860582098769</td>\n",
       "      <td>Товарнаян гнакладная</td>\n",
       "      <td>6Q17073063</td>\n",
       "      <td>0</td>\n",
       "    </tr>\n",
       "    <tr>\n",
       "      <th>9</th>\n",
       "      <td>9</td>\n",
       "      <td>165.jpg</td>\n",
       "      <td>2860611233796</td>\n",
       "      <td>оварнаяя накледная</td>\n",
       "      <td>5041753049</td>\n",
       "      <td>0</td>\n",
       "    </tr>\n",
       "  </tbody>\n",
       "</table>\n",
       "</div>"
      ],
      "text/plain": [
       "   id filename        barcode              doc_type  doc_number  error_list\n",
       "0   0  148.jpg  2860602715096   Товарнаян накладная  8017423142           0\n",
       "1   1  177.jpg  2860617614391                  None  6017644991           0\n",
       "2   2  083.jpg  2810096516426    Товарная накладная  6010594120           0\n",
       "3   3  164.jpg  2860611204697   Товарнаям накладная  B047539166           0\n",
       "4   4  076.jpg  2810096516365    Товарная накладная        None           0\n",
       "5   5  146.jpg  2860601473409                  None  8817415146           0\n",
       "6   6  079.jpg  2810097409826    Товарная накладная        None           0\n",
       "7   7  065.jpg  2810097409826    Товарная накладная        None           0\n",
       "8   8  125.jpg  2860582098769  Товарнаян гнакладная  6Q17073063           0\n",
       "9   9  165.jpg  2860611233796    оварнаяя накледная  5041753049           0"
      ]
     },
     "execution_count": 18,
     "metadata": {},
     "output_type": "execute_result"
    }
   ],
   "source": [
    "good_df = df[df['error_list'] == 0]\n",
    "good_df.head(10)"
   ]
  },
  {
   "cell_type": "raw",
   "id": "d895dd39",
   "metadata": {},
   "source": [
    "for i, doc in enumerate(good_df['filename']):\n",
    "    image = cv2.imread(DATA_PATH + doc)\n",
    "    image = cv2.resize(image, (0, 0), fx=0.25, fy=0.25)\n",
    "    filename = df['filename'][i]\n",
    "    barcode_number = df['barcode'][i]\n",
    "    doc_type = df['doc_type'][i]\n",
    "    doc_number = df['doc_number'][i]\n",
    "    \n",
    "    \n",
    "    image = cv2.putText(image, f'{filename}', (300, 50), cv2.FONT_HERSHEY_COMPLEX, 0.7, (255, 0, 0), 2)\n",
    "    image = cv2.putText(image, f'{barcode_number}', (300, 75), cv2.FONT_HERSHEY_COMPLEX, 0.7, (255, 0, 0), 2)\n",
    "    image = cv2.putText(image, f'{doc_type}', (300, 100), cv2.FONT_HERSHEY_COMPLEX, 0.7, (255, 0, 0), 2)\n",
    "    image = cv2.putText(image, f'{doc_number}', (300, 125), cv2.FONT_HERSHEY_COMPLEX, 0.7, (255, 0, 0), 2)\n",
    "\n",
    "    # Displaying the image\n",
    "    cv2.imshow(\"Output\", image)\n",
    "    cv2.waitKey(0)\n",
    "    cv2.destroyAllWindows()\n",
    "    \n",
    "    if i == 4:\n",
    "        break"
   ]
  },
  {
   "cell_type": "code",
   "execution_count": 19,
   "id": "46dadbcd",
   "metadata": {},
   "outputs": [
    {
     "name": "stdout",
     "output_type": "stream",
     "text": [
      "<class 'pandas.core.frame.DataFrame'>\n",
      "Int64Index: 14 entries, 0 to 13\n",
      "Data columns (total 6 columns):\n",
      " #   Column      Non-Null Count  Dtype \n",
      "---  ------      --------------  ----- \n",
      " 0   id          14 non-null     int64 \n",
      " 1   filename    14 non-null     object\n",
      " 2   barcode     14 non-null     object\n",
      " 3   doc_type    12 non-null     object\n",
      " 4   doc_number  7 non-null      object\n",
      " 5   error_list  14 non-null     int64 \n",
      "dtypes: int64(2), object(4)\n",
      "memory usage: 784.0+ bytes\n"
     ]
    }
   ],
   "source": [
    "good_df.info()"
   ]
  },
  {
   "cell_type": "code",
   "execution_count": 20,
   "id": "d601793b",
   "metadata": {},
   "outputs": [],
   "source": [
    "good_df  = good_df.fillna('None')"
   ]
  },
  {
   "cell_type": "code",
   "execution_count": 21,
   "id": "43cdb3c1",
   "metadata": {},
   "outputs": [
    {
     "name": "stdout",
     "output_type": "stream",
     "text": [
      "<class 'pandas.core.frame.DataFrame'>\n",
      "Int64Index: 14 entries, 0 to 13\n",
      "Data columns (total 6 columns):\n",
      " #   Column      Non-Null Count  Dtype \n",
      "---  ------      --------------  ----- \n",
      " 0   id          14 non-null     int64 \n",
      " 1   filename    14 non-null     object\n",
      " 2   barcode     14 non-null     object\n",
      " 3   doc_type    14 non-null     object\n",
      " 4   doc_number  14 non-null     object\n",
      " 5   error_list  14 non-null     int64 \n",
      "dtypes: int64(2), object(4)\n",
      "memory usage: 784.0+ bytes\n"
     ]
    }
   ],
   "source": [
    "good_df.info()"
   ]
  },
  {
   "cell_type": "code",
   "execution_count": 22,
   "id": "1c3ac8c1",
   "metadata": {},
   "outputs": [],
   "source": [
    "good_df = good_df.reset_index(drop=True)"
   ]
  },
  {
   "cell_type": "markdown",
   "id": "57e30e04",
   "metadata": {},
   "source": [
    "**Вывод**\n",
    "\n",
    "Далее будем работать с этим датасетом. Отфильтрованные изображением считаем истинно-положительными."
   ]
  },
  {
   "cell_type": "markdown",
   "id": "600f2cec",
   "metadata": {},
   "source": [
    "### Barcode"
   ]
  },
  {
   "cell_type": "code",
   "execution_count": 23,
   "id": "cc1556d4",
   "metadata": {},
   "outputs": [
    {
     "data": {
      "text/html": [
       "<div>\n",
       "<style scoped>\n",
       "    .dataframe tbody tr th:only-of-type {\n",
       "        vertical-align: middle;\n",
       "    }\n",
       "\n",
       "    .dataframe tbody tr th {\n",
       "        vertical-align: top;\n",
       "    }\n",
       "\n",
       "    .dataframe thead th {\n",
       "        text-align: right;\n",
       "    }\n",
       "</style>\n",
       "<table border=\"1\" class=\"dataframe\">\n",
       "  <thead>\n",
       "    <tr style=\"text-align: right;\">\n",
       "      <th></th>\n",
       "      <th>id</th>\n",
       "      <th>filename</th>\n",
       "      <th>barcode</th>\n",
       "      <th>doc_type</th>\n",
       "      <th>doc_number</th>\n",
       "      <th>error_list</th>\n",
       "    </tr>\n",
       "  </thead>\n",
       "  <tbody>\n",
       "  </tbody>\n",
       "</table>\n",
       "</div>"
      ],
      "text/plain": [
       "Empty DataFrame\n",
       "Columns: [id, filename, barcode, doc_type, doc_number, error_list]\n",
       "Index: []"
      ]
     },
     "execution_count": 23,
     "metadata": {},
     "output_type": "execute_result"
    }
   ],
   "source": [
    "bad_barcode_df = good_df[good_df['barcode'] == 'None'].reset_index(drop=True)\n",
    "bad_barcode_df"
   ]
  },
  {
   "cell_type": "raw",
   "id": "c5b203c6",
   "metadata": {},
   "source": [
    "for i, doc in enumerate(bad_barcode_df['doc_name']):\n",
    "    image = cv2.imread(DATA_PATH + doc)\n",
    "    image = cv2.resize(image, (0, 0), fx=0.25, fy=0.25)\n",
    "    doc_name = bad_barcode_df['doc_name'][i]\n",
    "    barcode_number = bad_barcode_df['barcode_number'][i]\n",
    "    doc_type = bad_barcode_df['doc_type'][i]\n",
    "    doc_number = bad_barcode_df['doc_number'][i]\n",
    "    \n",
    "    \n",
    "    image = cv2.putText(image, f'{doc_name}', (300, 50), cv2.FONT_HERSHEY_COMPLEX, 0.7, (255, 0, 0), 2)\n",
    "    image = cv2.putText(image, f'{barcode_number}', (300, 75), cv2.FONT_HERSHEY_COMPLEX, 0.7, (255, 0, 0), 2)\n",
    "    image = cv2.putText(image, f'{doc_type}', (300, 100), cv2.FONT_HERSHEY_COMPLEX, 0.7, (255, 0, 0), 2)\n",
    "    image = cv2.putText(image, f'{doc_number}', (300, 125), cv2.FONT_HERSHEY_COMPLEX, 0.7, (255, 0, 0), 2)\n",
    "\n",
    "    # Displaying the image\n",
    "    cv2.imshow(\"Output\", image)\n",
    "    cv2.waitKey(0)\n",
    "    cv2.destroyAllWindows()"
   ]
  },
  {
   "cell_type": "code",
   "execution_count": 24,
   "id": "4f9a9dae",
   "metadata": {},
   "outputs": [
    {
     "data": {
      "text/plain": [
       "{}"
      ]
     },
     "execution_count": 24,
     "metadata": {},
     "output_type": "execute_result"
    }
   ],
   "source": [
    "barcode_not_numeric = not_numeric_in_colunm(good_df['barcode'])\n",
    "barcode_not_numeric"
   ]
  },
  {
   "cell_type": "code",
   "execution_count": 25,
   "id": "c0d17918",
   "metadata": {},
   "outputs": [
    {
     "data": {
      "text/plain": [
       "{13: 14}"
      ]
     },
     "execution_count": 25,
     "metadata": {},
     "output_type": "execute_result"
    }
   ],
   "source": [
    "length_of_barcode_numbers = len_of_numbers(good_df['barcode'])\n",
    "length_of_barcode_numbers"
   ]
  },
  {
   "cell_type": "code",
   "execution_count": 26,
   "id": "cc5f4d5d",
   "metadata": {},
   "outputs": [
    {
     "data": {
      "text/plain": [
       "1.0"
      ]
     },
     "execution_count": 26,
     "metadata": {},
     "output_type": "execute_result"
    }
   ],
   "source": [
    "length_of_barcode_numbers[13] / len(good_df)"
   ]
  },
  {
   "cell_type": "code",
   "execution_count": 27,
   "id": "9af8c563",
   "metadata": {},
   "outputs": [
    {
     "data": {
      "text/plain": [
       "[]"
      ]
     },
     "execution_count": 27,
     "metadata": {},
     "output_type": "execute_result"
    }
   ],
   "source": [
    "bad_barcode_list = list(bad_barcode_df['filename'])\n",
    "bad_barcode_list"
   ]
  },
  {
   "cell_type": "markdown",
   "id": "bb3da917",
   "metadata": {},
   "source": [
    "#### Вывод \n",
    "В столбце со штрих-кодами 0 пропущенных значений **None**. Остальные значения соответствуют десятизначным штрих-кодам. Итого можно считать распознанными **100%** штрих-кодов. Из исходного датасета необходимо исключить 10 изображений, которые содержали хотябы одну ошибку в списке error_list."
   ]
  },
  {
   "cell_type": "code",
   "execution_count": null,
   "id": "2234598f",
   "metadata": {},
   "outputs": [],
   "source": []
  },
  {
   "cell_type": "code",
   "execution_count": null,
   "id": "85bc1300",
   "metadata": {},
   "outputs": [],
   "source": []
  },
  {
   "cell_type": "markdown",
   "id": "2c60cf42",
   "metadata": {},
   "source": [
    "### Doc type"
   ]
  },
  {
   "cell_type": "code",
   "execution_count": 28,
   "id": "c398b416",
   "metadata": {},
   "outputs": [
    {
     "data": {
      "text/plain": [
       "array(['Товарнаян накладная', 'None', 'Товарная накладная',\n",
       "       'Товарнаям накладная', 'Товарнаян гнакладная',\n",
       "       'оварнаяя накледная', 'товарнаян накладная', 'Товарнаян нактадная'],\n",
       "      dtype=object)"
      ]
     },
     "execution_count": 28,
     "metadata": {},
     "output_type": "execute_result"
    }
   ],
   "source": [
    "good_df['doc_type'].unique()"
   ]
  },
  {
   "cell_type": "code",
   "execution_count": 29,
   "id": "6942a7b8",
   "metadata": {},
   "outputs": [
    {
     "data": {
      "text/plain": [
       "Товарная накладная      5\n",
       "None                    2\n",
       "Товарнаян гнакладная    2\n",
       "Товарнаян накладная     1\n",
       "Товарнаям накладная     1\n",
       "оварнаяя накледная      1\n",
       "товарнаян накладная     1\n",
       "Товарнаян нактадная     1\n",
       "Name: doc_type, dtype: int64"
      ]
     },
     "execution_count": 29,
     "metadata": {},
     "output_type": "execute_result"
    }
   ],
   "source": [
    "good_df['doc_type'].value_counts()"
   ]
  },
  {
   "cell_type": "code",
   "execution_count": 30,
   "id": "9d26d028",
   "metadata": {},
   "outputs": [
    {
     "data": {
      "text/plain": [
       "0.8571428571428572"
      ]
     },
     "execution_count": 30,
     "metadata": {},
     "output_type": "execute_result"
    }
   ],
   "source": [
    "1 - len(good_df[good_df['doc_type'] == 'None']) / len(df)"
   ]
  },
  {
   "cell_type": "code",
   "execution_count": 31,
   "id": "2e76d2f8",
   "metadata": {},
   "outputs": [
    {
     "data": {
      "text/html": [
       "<div>\n",
       "<style scoped>\n",
       "    .dataframe tbody tr th:only-of-type {\n",
       "        vertical-align: middle;\n",
       "    }\n",
       "\n",
       "    .dataframe tbody tr th {\n",
       "        vertical-align: top;\n",
       "    }\n",
       "\n",
       "    .dataframe thead th {\n",
       "        text-align: right;\n",
       "    }\n",
       "</style>\n",
       "<table border=\"1\" class=\"dataframe\">\n",
       "  <thead>\n",
       "    <tr style=\"text-align: right;\">\n",
       "      <th></th>\n",
       "      <th>id</th>\n",
       "      <th>filename</th>\n",
       "      <th>barcode</th>\n",
       "      <th>doc_type</th>\n",
       "      <th>doc_number</th>\n",
       "      <th>error_list</th>\n",
       "    </tr>\n",
       "  </thead>\n",
       "  <tbody>\n",
       "    <tr>\n",
       "      <th>1</th>\n",
       "      <td>1</td>\n",
       "      <td>177.jpg</td>\n",
       "      <td>2860617614391</td>\n",
       "      <td>None</td>\n",
       "      <td>6017644991</td>\n",
       "      <td>0</td>\n",
       "    </tr>\n",
       "    <tr>\n",
       "      <th>5</th>\n",
       "      <td>5</td>\n",
       "      <td>146.jpg</td>\n",
       "      <td>2860601473409</td>\n",
       "      <td>None</td>\n",
       "      <td>8817415146</td>\n",
       "      <td>0</td>\n",
       "    </tr>\n",
       "  </tbody>\n",
       "</table>\n",
       "</div>"
      ],
      "text/plain": [
       "   id filename        barcode doc_type  doc_number  error_list\n",
       "1   1  177.jpg  2860617614391     None  6017644991           0\n",
       "5   5  146.jpg  2860601473409     None  8817415146           0"
      ]
     },
     "execution_count": 31,
     "metadata": {},
     "output_type": "execute_result"
    }
   ],
   "source": [
    "bad_doc_type_df = good_df[good_df['doc_type'] == 'None']\n",
    "bad_doc_type_df.head()"
   ]
  },
  {
   "cell_type": "code",
   "execution_count": 32,
   "id": "8a6d8974",
   "metadata": {},
   "outputs": [
    {
     "data": {
      "text/plain": [
       "['146.jpg', '177.jpg']"
      ]
     },
     "execution_count": 32,
     "metadata": {},
     "output_type": "execute_result"
    }
   ],
   "source": [
    "bad_doc_type_list = list(bad_doc_type_df['filename'])\n",
    "sorted(bad_doc_type_list)"
   ]
  },
  {
   "cell_type": "markdown",
   "id": "26503c0a",
   "metadata": {},
   "source": [
    "#### Вывод \n",
    "В столбце с типами документов 3 пропущенных значения **None**. Также в этом столбце есть почти распознанные данные, например **Товарная накладнея**, **товарная накладнаяi** и другие. В почти распознанных данных допущено по 1 ошибке, так что, можно считать их проходящими по порогу распознавания. Итого качественно распознано 190 типов документов из 193 примеров, или всего **98,5%**."
   ]
  },
  {
   "cell_type": "markdown",
   "id": "21860a1b",
   "metadata": {},
   "source": [
    "### Doc number"
   ]
  },
  {
   "cell_type": "code",
   "execution_count": 33,
   "id": "499194c8",
   "metadata": {},
   "outputs": [
    {
     "data": {
      "text/html": [
       "<div>\n",
       "<style scoped>\n",
       "    .dataframe tbody tr th:only-of-type {\n",
       "        vertical-align: middle;\n",
       "    }\n",
       "\n",
       "    .dataframe tbody tr th {\n",
       "        vertical-align: top;\n",
       "    }\n",
       "\n",
       "    .dataframe thead th {\n",
       "        text-align: right;\n",
       "    }\n",
       "</style>\n",
       "<table border=\"1\" class=\"dataframe\">\n",
       "  <thead>\n",
       "    <tr style=\"text-align: right;\">\n",
       "      <th></th>\n",
       "      <th>id</th>\n",
       "      <th>filename</th>\n",
       "      <th>barcode</th>\n",
       "      <th>doc_type</th>\n",
       "      <th>doc_number</th>\n",
       "      <th>error_list</th>\n",
       "    </tr>\n",
       "  </thead>\n",
       "  <tbody>\n",
       "    <tr>\n",
       "      <th>4</th>\n",
       "      <td>4</td>\n",
       "      <td>076.jpg</td>\n",
       "      <td>2810096516365</td>\n",
       "      <td>Товарная накладная</td>\n",
       "      <td>None</td>\n",
       "      <td>0</td>\n",
       "    </tr>\n",
       "    <tr>\n",
       "      <th>6</th>\n",
       "      <td>6</td>\n",
       "      <td>079.jpg</td>\n",
       "      <td>2810097409826</td>\n",
       "      <td>Товарная накладная</td>\n",
       "      <td>None</td>\n",
       "      <td>0</td>\n",
       "    </tr>\n",
       "    <tr>\n",
       "      <th>7</th>\n",
       "      <td>7</td>\n",
       "      <td>065.jpg</td>\n",
       "      <td>2810097409826</td>\n",
       "      <td>Товарная накладная</td>\n",
       "      <td>None</td>\n",
       "      <td>0</td>\n",
       "    </tr>\n",
       "    <tr>\n",
       "      <th>10</th>\n",
       "      <td>10</td>\n",
       "      <td>113.jpg</td>\n",
       "      <td>2860597420210</td>\n",
       "      <td>Товарнаян гнакладная</td>\n",
       "      <td>None</td>\n",
       "      <td>0</td>\n",
       "    </tr>\n",
       "    <tr>\n",
       "      <th>11</th>\n",
       "      <td>11</td>\n",
       "      <td>180.jpg</td>\n",
       "      <td>2860618473492</td>\n",
       "      <td>товарнаян накладная</td>\n",
       "      <td>None</td>\n",
       "      <td>0</td>\n",
       "    </tr>\n",
       "    <tr>\n",
       "      <th>12</th>\n",
       "      <td>12</td>\n",
       "      <td>149.jpg</td>\n",
       "      <td>2860609765162</td>\n",
       "      <td>Товарнаян нактадная</td>\n",
       "      <td>None</td>\n",
       "      <td>0</td>\n",
       "    </tr>\n",
       "    <tr>\n",
       "      <th>13</th>\n",
       "      <td>13</td>\n",
       "      <td>081.jpg</td>\n",
       "      <td>2810096516365</td>\n",
       "      <td>Товарная накладная</td>\n",
       "      <td>None</td>\n",
       "      <td>0</td>\n",
       "    </tr>\n",
       "  </tbody>\n",
       "</table>\n",
       "</div>"
      ],
      "text/plain": [
       "    id filename        barcode              doc_type doc_number  error_list\n",
       "4    4  076.jpg  2810096516365    Товарная накладная       None           0\n",
       "6    6  079.jpg  2810097409826    Товарная накладная       None           0\n",
       "7    7  065.jpg  2810097409826    Товарная накладная       None           0\n",
       "10  10  113.jpg  2860597420210  Товарнаян гнакладная       None           0\n",
       "11  11  180.jpg  2860618473492   товарнаян накладная       None           0\n",
       "12  12  149.jpg  2860609765162   Товарнаян нактадная       None           0\n",
       "13  13  081.jpg  2810096516365    Товарная накладная       None           0"
      ]
     },
     "execution_count": 33,
     "metadata": {},
     "output_type": "execute_result"
    }
   ],
   "source": [
    "bad_doc_number = good_df[good_df['doc_number'] == 'None']\n",
    "bad_doc_number.head(15)"
   ]
  },
  {
   "cell_type": "code",
   "execution_count": 34,
   "id": "295bc79f",
   "metadata": {},
   "outputs": [
    {
     "data": {
      "text/html": [
       "<div>\n",
       "<style scoped>\n",
       "    .dataframe tbody tr th:only-of-type {\n",
       "        vertical-align: middle;\n",
       "    }\n",
       "\n",
       "    .dataframe tbody tr th {\n",
       "        vertical-align: top;\n",
       "    }\n",
       "\n",
       "    .dataframe thead th {\n",
       "        text-align: right;\n",
       "    }\n",
       "</style>\n",
       "<table border=\"1\" class=\"dataframe\">\n",
       "  <thead>\n",
       "    <tr style=\"text-align: right;\">\n",
       "      <th></th>\n",
       "      <th>id</th>\n",
       "      <th>filename</th>\n",
       "      <th>barcode</th>\n",
       "      <th>doc_type</th>\n",
       "      <th>doc_number</th>\n",
       "      <th>error_list</th>\n",
       "    </tr>\n",
       "  </thead>\n",
       "  <tbody>\n",
       "    <tr>\n",
       "      <th>3</th>\n",
       "      <td>3</td>\n",
       "      <td>164.jpg</td>\n",
       "      <td>2860611204697</td>\n",
       "      <td>Товарнаям накладная</td>\n",
       "      <td>B047539166</td>\n",
       "      <td>0</td>\n",
       "    </tr>\n",
       "    <tr>\n",
       "      <th>4</th>\n",
       "      <td>4</td>\n",
       "      <td>076.jpg</td>\n",
       "      <td>2810096516365</td>\n",
       "      <td>Товарная накладная</td>\n",
       "      <td>None</td>\n",
       "      <td>0</td>\n",
       "    </tr>\n",
       "    <tr>\n",
       "      <th>6</th>\n",
       "      <td>6</td>\n",
       "      <td>079.jpg</td>\n",
       "      <td>2810097409826</td>\n",
       "      <td>Товарная накладная</td>\n",
       "      <td>None</td>\n",
       "      <td>0</td>\n",
       "    </tr>\n",
       "    <tr>\n",
       "      <th>7</th>\n",
       "      <td>7</td>\n",
       "      <td>065.jpg</td>\n",
       "      <td>2810097409826</td>\n",
       "      <td>Товарная накладная</td>\n",
       "      <td>None</td>\n",
       "      <td>0</td>\n",
       "    </tr>\n",
       "    <tr>\n",
       "      <th>8</th>\n",
       "      <td>8</td>\n",
       "      <td>125.jpg</td>\n",
       "      <td>2860582098769</td>\n",
       "      <td>Товарнаян гнакладная</td>\n",
       "      <td>6Q17073063</td>\n",
       "      <td>0</td>\n",
       "    </tr>\n",
       "    <tr>\n",
       "      <th>10</th>\n",
       "      <td>10</td>\n",
       "      <td>113.jpg</td>\n",
       "      <td>2860597420210</td>\n",
       "      <td>Товарнаян гнакладная</td>\n",
       "      <td>None</td>\n",
       "      <td>0</td>\n",
       "    </tr>\n",
       "    <tr>\n",
       "      <th>11</th>\n",
       "      <td>11</td>\n",
       "      <td>180.jpg</td>\n",
       "      <td>2860618473492</td>\n",
       "      <td>товарнаян накладная</td>\n",
       "      <td>None</td>\n",
       "      <td>0</td>\n",
       "    </tr>\n",
       "    <tr>\n",
       "      <th>12</th>\n",
       "      <td>12</td>\n",
       "      <td>149.jpg</td>\n",
       "      <td>2860609765162</td>\n",
       "      <td>Товарнаян нактадная</td>\n",
       "      <td>None</td>\n",
       "      <td>0</td>\n",
       "    </tr>\n",
       "    <tr>\n",
       "      <th>13</th>\n",
       "      <td>13</td>\n",
       "      <td>081.jpg</td>\n",
       "      <td>2810096516365</td>\n",
       "      <td>Товарная накладная</td>\n",
       "      <td>None</td>\n",
       "      <td>0</td>\n",
       "    </tr>\n",
       "  </tbody>\n",
       "</table>\n",
       "</div>"
      ],
      "text/plain": [
       "    id filename        barcode              doc_type  doc_number  error_list\n",
       "3    3  164.jpg  2860611204697   Товарнаям накладная  B047539166           0\n",
       "4    4  076.jpg  2810096516365    Товарная накладная        None           0\n",
       "6    6  079.jpg  2810097409826    Товарная накладная        None           0\n",
       "7    7  065.jpg  2810097409826    Товарная накладная        None           0\n",
       "8    8  125.jpg  2860582098769  Товарнаян гнакладная  6Q17073063           0\n",
       "10  10  113.jpg  2860597420210  Товарнаян гнакладная        None           0\n",
       "11  11  180.jpg  2860618473492   товарнаян накладная        None           0\n",
       "12  12  149.jpg  2860609765162   Товарнаян нактадная        None           0\n",
       "13  13  081.jpg  2810096516365    Товарная накладная        None           0"
      ]
     },
     "execution_count": 34,
     "metadata": {},
     "output_type": "execute_result"
    }
   ],
   "source": [
    "bad_doc_number_df = good_df[good_df['doc_number'].str.isnumeric() == False]\n",
    "bad_doc_number_df.tail(20)"
   ]
  },
  {
   "cell_type": "code",
   "execution_count": 35,
   "id": "2520f61c",
   "metadata": {},
   "outputs": [
    {
     "data": {
      "text/plain": [
       "9"
      ]
     },
     "execution_count": 35,
     "metadata": {},
     "output_type": "execute_result"
    }
   ],
   "source": [
    "len(bad_doc_number_df)"
   ]
  },
  {
   "cell_type": "code",
   "execution_count": 36,
   "id": "8f14887f",
   "metadata": {},
   "outputs": [
    {
     "data": {
      "text/plain": [
       "None          7\n",
       "B047539166    1\n",
       "6Q17073063    1\n",
       "Name: doc_number, dtype: int64"
      ]
     },
     "execution_count": 36,
     "metadata": {},
     "output_type": "execute_result"
    }
   ],
   "source": [
    "bad_doc_number_df['doc_number'].value_counts()"
   ]
  },
  {
   "cell_type": "code",
   "execution_count": 37,
   "id": "b797d9d5",
   "metadata": {},
   "outputs": [
    {
     "data": {
      "text/plain": [
       "{3: 'B047539166',\n",
       " 4: 'None',\n",
       " 6: 'None',\n",
       " 7: 'None',\n",
       " 8: '6Q17073063',\n",
       " 10: 'None',\n",
       " 11: 'None',\n",
       " 12: 'None',\n",
       " 13: 'None'}"
      ]
     },
     "execution_count": 37,
     "metadata": {},
     "output_type": "execute_result"
    }
   ],
   "source": [
    "doc_number_not_numeric = not_numeric_in_colunm(good_df['doc_number'])\n",
    "doc_number_not_numeric"
   ]
  },
  {
   "cell_type": "code",
   "execution_count": 38,
   "id": "816cbfca",
   "metadata": {},
   "outputs": [
    {
     "data": {
      "text/plain": [
       "{10: 5}"
      ]
     },
     "execution_count": 38,
     "metadata": {},
     "output_type": "execute_result"
    }
   ],
   "source": [
    "length_of_doc_numbers = len_of_numbers(good_df['doc_number'])\n",
    "length_of_doc_numbers"
   ]
  },
  {
   "cell_type": "code",
   "execution_count": 39,
   "id": "a60930cf",
   "metadata": {},
   "outputs": [],
   "source": [
    "for i in good_df['doc_number']:\n",
    "    if len(i) > 10:\n",
    "        print(i)"
   ]
  },
  {
   "cell_type": "code",
   "execution_count": 40,
   "id": "f175fc7e",
   "metadata": {},
   "outputs": [
    {
     "data": {
      "text/plain": [
       "0.35714285714285715"
      ]
     },
     "execution_count": 40,
     "metadata": {},
     "output_type": "execute_result"
    }
   ],
   "source": [
    "length_of_doc_numbers[10]/len(good_df)"
   ]
  },
  {
   "cell_type": "code",
   "execution_count": 41,
   "id": "7222f9c2",
   "metadata": {},
   "outputs": [
    {
     "data": {
      "text/plain": [
       "['065.jpg',\n",
       " '076.jpg',\n",
       " '079.jpg',\n",
       " '081.jpg',\n",
       " '113.jpg',\n",
       " '125.jpg',\n",
       " '149.jpg',\n",
       " '164.jpg',\n",
       " '180.jpg']"
      ]
     },
     "execution_count": 41,
     "metadata": {},
     "output_type": "execute_result"
    }
   ],
   "source": [
    "bad_doc_number_list = list(bad_doc_number_df['filename'])\n",
    "sorted(bad_doc_number_list)"
   ]
  },
  {
   "cell_type": "code",
   "execution_count": 42,
   "id": "8857226c",
   "metadata": {},
   "outputs": [
    {
     "data": {
      "text/plain": [
       "9"
      ]
     },
     "execution_count": 42,
     "metadata": {},
     "output_type": "execute_result"
    }
   ],
   "source": [
    "len(bad_doc_number_list)"
   ]
  },
  {
   "cell_type": "markdown",
   "id": "c4f1ac47",
   "metadata": {},
   "source": [
    "#### Вывод \n",
    "В столбце с номерами документов 124 пропущенных значения. В них фигурируют либо **None** либо нечисловые значения, например **Konmueerue**. Качественно распознано 79 номеров документов из 203 примеров, или всего 38,9%."
   ]
  },
  {
   "cell_type": "markdown",
   "id": "1c48d1a4",
   "metadata": {},
   "source": [
    "## Результат исследования"
   ]
  },
  {
   "cell_type": "code",
   "execution_count": 43,
   "id": "eac216ff",
   "metadata": {},
   "outputs": [],
   "source": [
    "bad_lists_union = sorted(list(set().union(bad_doc_type_list, bad_doc_number_list)))"
   ]
  },
  {
   "cell_type": "code",
   "execution_count": 44,
   "id": "a15a51c1",
   "metadata": {},
   "outputs": [
    {
     "data": {
      "text/plain": [
       "11"
      ]
     },
     "execution_count": 44,
     "metadata": {},
     "output_type": "execute_result"
    }
   ],
   "source": [
    "len(bad_lists_union)"
   ]
  },
  {
   "cell_type": "code",
   "execution_count": 45,
   "id": "6641f466",
   "metadata": {},
   "outputs": [
    {
     "data": {
      "text/plain": [
       "3"
      ]
     },
     "execution_count": 45,
     "metadata": {},
     "output_type": "execute_result"
    }
   ],
   "source": [
    "len(good_df) - len(bad_lists_union)"
   ]
  },
  {
   "cell_type": "code",
   "execution_count": 46,
   "id": "32d54a75",
   "metadata": {},
   "outputs": [
    {
     "data": {
      "text/plain": [
       "0.2142857142857143"
      ]
     },
     "execution_count": 46,
     "metadata": {},
     "output_type": "execute_result"
    }
   ],
   "source": [
    "1 -len(bad_lists_union) / len(good_df)"
   ]
  },
  {
   "cell_type": "markdown",
   "id": "985f3851",
   "metadata": {},
   "source": [
    "## Общий вывод"
   ]
  },
  {
   "cell_type": "markdown",
   "id": "f50d122c",
   "metadata": {},
   "source": [
    "**Итерация 1** - отсутствует предобработка (первый препроцессинг). Можно считать качественно распознанными 179 документов из 193, что составляет **92.75%** из тестовых данных."
   ]
  },
  {
   "cell_type": "markdown",
   "id": "cca7e901",
   "metadata": {},
   "source": [
    "**Итерация 2** - добавлен второй препроцессинг. Можно считать качественно распознанными 178 документов из 193, что составляет **92.70%** из тестовых данных."
   ]
  },
  {
   "cell_type": "markdown",
   "id": "f163339a",
   "metadata": {},
   "source": [
    "**Итерация 3** - добавлен третий препроцессинг. Можно считать качественно распознанными 179 документов из 193, что составляет **92.75%** из тестовых данных."
   ]
  },
  {
   "cell_type": "markdown",
   "id": "0cff2b91",
   "metadata": {},
   "source": [
    "**Итерация 4** - добавлен четвертый препроцессинг. Можно считать качественно распознанными 180 документов из 193, что составляет **93.26%** из тестовых данных."
   ]
  },
  {
   "cell_type": "markdown",
   "id": "06690771",
   "metadata": {},
   "source": [
    "**Итерация 5** - добавлен пятый препроцессинг. Можно считать качественно распознанными 180 документов из 193, что составляет **93.26%** из тестовых данных."
   ]
  },
  {
   "cell_type": "markdown",
   "id": "459c5394",
   "metadata": {},
   "source": [
    "**Итерация 6** - добавлен новый препроцессинг. \n",
    "\n",
    "`return cv2.GaussianBlur(img, (1, 1), 0)`\n",
    "\n",
    "Можно считать качественно распознанными 179 документов из 193, что составляет **92.75%** из тестовых данных."
   ]
  },
  {
   "cell_type": "code",
   "execution_count": 47,
   "id": "9ea2b6ea",
   "metadata": {},
   "outputs": [
    {
     "data": {
      "text/plain": [
       "['065.jpg',\n",
       " '076.jpg',\n",
       " '079.jpg',\n",
       " '081.jpg',\n",
       " '113.jpg',\n",
       " '125.jpg',\n",
       " '146.jpg',\n",
       " '149.jpg',\n",
       " '164.jpg',\n",
       " '177.jpg',\n",
       " '180.jpg']"
      ]
     },
     "execution_count": 47,
     "metadata": {},
     "output_type": "execute_result"
    }
   ],
   "source": [
    "bad_lists_union"
   ]
  },
  {
   "cell_type": "code",
   "execution_count": 4,
   "id": "2e71a54f",
   "metadata": {},
   "outputs": [],
   "source": [
    "bad_doc_type = ['146.jpg', '177.jpg']"
   ]
  },
  {
   "cell_type": "code",
   "execution_count": 9,
   "id": "b8fa44aa",
   "metadata": {},
   "outputs": [],
   "source": [
    "for i in bad_doc_type:\n",
    "    image = cv2.imread(DATA_PATH + i)\n",
    "    kernel = np.ones((1, 1), 'uint8')\n",
    "\n",
    "    image = cv2.dilate(image, kernel, iterations=2)\n",
    "    image = cv2.GaussianBlur(image, (5, 5), 4)\n",
    "    image = cv2.cvtColor(image, cv2.COLOR_BGR2GRAY)\n",
    "    _, image = cv2.threshold(image, 190, 255, cv2.THRESH_BINARY)  # 130\n",
    "    image = cv2.resize(image, (0, 0), fx=0.5, fy=0.5)\n",
    "    cv2.imshow(f'Image {i}', image)\n",
    "    cv2.waitKey(0)\n",
    "    cv2.destroyAllWindows()"
   ]
  },
  {
   "cell_type": "code",
   "execution_count": null,
   "id": "1f9bfde2",
   "metadata": {},
   "outputs": [],
   "source": []
  }
 ],
 "metadata": {
  "kernelspec": {
   "display_name": "ocr_data_generation",
   "language": "python",
   "name": "ocr_data_generation"
  },
  "language_info": {
   "codemirror_mode": {
    "name": "ipython",
    "version": 3
   },
   "file_extension": ".py",
   "mimetype": "text/x-python",
   "name": "python",
   "nbconvert_exporter": "python",
   "pygments_lexer": "ipython3",
   "version": "3.9.13"
  }
 },
 "nbformat": 4,
 "nbformat_minor": 5
}
