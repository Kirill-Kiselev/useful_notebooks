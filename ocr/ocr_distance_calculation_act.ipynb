{
 "cells": [
  {
   "cell_type": "markdown",
   "metadata": {},
   "source": [
    "### Информация\n",
    "- *Автор*: Киселев Кирилл\n",
    "- *Дата*: вторник, 24 мая 2022 г.\n",
    "- *Описание*: Блокнот для вычисления регионов для актов"
   ]
  },
  {
   "cell_type": "markdown",
   "metadata": {},
   "source": [
    "#### Requirements"
   ]
  },
  {
   "cell_type": "code",
   "execution_count": 1,
   "metadata": {
    "ExecuteTime": {
     "end_time": "2022-03-29T12:01:57.325894Z",
     "start_time": "2022-03-29T12:01:57.323055Z"
    }
   },
   "outputs": [],
   "source": [
    "# !pip3 install opencv-python==4.4.0.46 pandas==1.2.4"
   ]
  },
  {
   "cell_type": "code",
   "execution_count": 2,
   "metadata": {
    "ExecuteTime": {
     "end_time": "2022-03-29T12:01:59.016149Z",
     "start_time": "2022-03-29T12:01:58.870759Z"
    }
   },
   "outputs": [],
   "source": [
    "import cv2\n",
    "import pandas as pd\n",
    "\n",
    "\n",
    "pd.set_option('display.max_columns', 100)\n",
    "pd.set_option('display.max_rows', 100)"
   ]
  },
  {
   "cell_type": "code",
   "execution_count": 3,
   "metadata": {
    "ExecuteTime": {
     "end_time": "2022-03-29T12:02:05.843918Z",
     "start_time": "2022-03-29T12:02:05.822411Z"
    }
   },
   "outputs": [
    {
     "data": {
      "text/html": [
       "<div>\n",
       "<style scoped>\n",
       "    .dataframe tbody tr th:only-of-type {\n",
       "        vertical-align: middle;\n",
       "    }\n",
       "\n",
       "    .dataframe tbody tr th {\n",
       "        vertical-align: top;\n",
       "    }\n",
       "\n",
       "    .dataframe thead th {\n",
       "        text-align: right;\n",
       "    }\n",
       "</style>\n",
       "<table border=\"1\" class=\"dataframe\">\n",
       "  <thead>\n",
       "    <tr style=\"text-align: right;\">\n",
       "      <th></th>\n",
       "      <th>filename</th>\n",
       "      <th>doc_type</th>\n",
       "      <th>doc_number</th>\n",
       "      <th>doc_date</th>\n",
       "      <th>scan_is_good</th>\n",
       "      <th>doc_type_box_left</th>\n",
       "      <th>doc_type_box_top</th>\n",
       "      <th>doc_type_box_width</th>\n",
       "      <th>doc_type_box_height</th>\n",
       "      <th>doc_number_box_left</th>\n",
       "      <th>doc_number_box_top</th>\n",
       "      <th>doc_number_box_width</th>\n",
       "      <th>doc_number_box_height</th>\n",
       "      <th>doc_date_box_left</th>\n",
       "      <th>doc_date_box_top</th>\n",
       "      <th>doc_date_box_width</th>\n",
       "      <th>doc_date_box_height</th>\n",
       "    </tr>\n",
       "  </thead>\n",
       "  <tbody>\n",
       "    <tr>\n",
       "      <th>0</th>\n",
       "      <td>001.jpg</td>\n",
       "      <td>акт</td>\n",
       "      <td>6017103091</td>\n",
       "      <td>24.11.2021</td>\n",
       "      <td>True</td>\n",
       "      <td>0.026561</td>\n",
       "      <td>0.014445</td>\n",
       "      <td>0.023020</td>\n",
       "      <td>0.008174</td>\n",
       "      <td>0.066498</td>\n",
       "      <td>0.013455</td>\n",
       "      <td>0.071328</td>\n",
       "      <td>0.010155</td>\n",
       "      <td>0.156660</td>\n",
       "      <td>0.013331</td>\n",
       "      <td>0.065398</td>\n",
       "      <td>0.009536</td>\n",
       "    </tr>\n",
       "    <tr>\n",
       "      <th>1</th>\n",
       "      <td>002.jpg</td>\n",
       "      <td>акт</td>\n",
       "      <td>6600174850</td>\n",
       "      <td>12.10.2021</td>\n",
       "      <td>True</td>\n",
       "      <td>0.037938</td>\n",
       "      <td>0.035595</td>\n",
       "      <td>0.023487</td>\n",
       "      <td>0.007534</td>\n",
       "      <td>0.079714</td>\n",
       "      <td>0.034500</td>\n",
       "      <td>0.072964</td>\n",
       "      <td>0.008492</td>\n",
       "      <td>0.172122</td>\n",
       "      <td>0.034500</td>\n",
       "      <td>0.065841</td>\n",
       "      <td>0.008766</td>\n",
       "    </tr>\n",
       "    <tr>\n",
       "      <th>2</th>\n",
       "      <td>003.jpg</td>\n",
       "      <td>акт</td>\n",
       "      <td>6600226583</td>\n",
       "      <td>07.12.2021</td>\n",
       "      <td>True</td>\n",
       "      <td>0.070513</td>\n",
       "      <td>0.037068</td>\n",
       "      <td>0.023613</td>\n",
       "      <td>0.008848</td>\n",
       "      <td>0.111159</td>\n",
       "      <td>0.036792</td>\n",
       "      <td>0.073161</td>\n",
       "      <td>0.008709</td>\n",
       "      <td>0.202126</td>\n",
       "      <td>0.036239</td>\n",
       "      <td>0.065419</td>\n",
       "      <td>0.009401</td>\n",
       "    </tr>\n",
       "    <tr>\n",
       "      <th>3</th>\n",
       "      <td>004.jpg</td>\n",
       "      <td>акт</td>\n",
       "      <td>6600236611</td>\n",
       "      <td>17.12.2021</td>\n",
       "      <td>True</td>\n",
       "      <td>0.033116</td>\n",
       "      <td>0.045036</td>\n",
       "      <td>0.023148</td>\n",
       "      <td>0.008422</td>\n",
       "      <td>0.073842</td>\n",
       "      <td>0.045036</td>\n",
       "      <td>0.071531</td>\n",
       "      <td>0.008422</td>\n",
       "      <td>0.164170</td>\n",
       "      <td>0.044789</td>\n",
       "      <td>0.065962</td>\n",
       "      <td>0.008669</td>\n",
       "    </tr>\n",
       "    <tr>\n",
       "      <th>4</th>\n",
       "      <td>005.jpg</td>\n",
       "      <td>акт</td>\n",
       "      <td>6600241100</td>\n",
       "      <td>22.12.2021</td>\n",
       "      <td>True</td>\n",
       "      <td>0.039245</td>\n",
       "      <td>0.047049</td>\n",
       "      <td>0.023848</td>\n",
       "      <td>0.007750</td>\n",
       "      <td>0.080277</td>\n",
       "      <td>0.047049</td>\n",
       "      <td>0.072069</td>\n",
       "      <td>0.007625</td>\n",
       "      <td>0.170582</td>\n",
       "      <td>0.046799</td>\n",
       "      <td>0.066808</td>\n",
       "      <td>0.008125</td>\n",
       "    </tr>\n",
       "  </tbody>\n",
       "</table>\n",
       "</div>"
      ],
      "text/plain": [
       "  filename doc_type  doc_number    doc_date  scan_is_good  doc_type_box_left  \\\n",
       "0  001.jpg      акт  6017103091  24.11.2021          True           0.026561   \n",
       "1  002.jpg      акт  6600174850  12.10.2021          True           0.037938   \n",
       "2  003.jpg      акт  6600226583  07.12.2021          True           0.070513   \n",
       "3  004.jpg      акт  6600236611  17.12.2021          True           0.033116   \n",
       "4  005.jpg      акт  6600241100  22.12.2021          True           0.039245   \n",
       "\n",
       "   doc_type_box_top  doc_type_box_width  doc_type_box_height  \\\n",
       "0          0.014445            0.023020             0.008174   \n",
       "1          0.035595            0.023487             0.007534   \n",
       "2          0.037068            0.023613             0.008848   \n",
       "3          0.045036            0.023148             0.008422   \n",
       "4          0.047049            0.023848             0.007750   \n",
       "\n",
       "   doc_number_box_left  doc_number_box_top  doc_number_box_width  \\\n",
       "0             0.066498            0.013455              0.071328   \n",
       "1             0.079714            0.034500              0.072964   \n",
       "2             0.111159            0.036792              0.073161   \n",
       "3             0.073842            0.045036              0.071531   \n",
       "4             0.080277            0.047049              0.072069   \n",
       "\n",
       "   doc_number_box_height  doc_date_box_left  doc_date_box_top  \\\n",
       "0               0.010155           0.156660          0.013331   \n",
       "1               0.008492           0.172122          0.034500   \n",
       "2               0.008709           0.202126          0.036239   \n",
       "3               0.008422           0.164170          0.044789   \n",
       "4               0.007625           0.170582          0.046799   \n",
       "\n",
       "   doc_date_box_width  doc_date_box_height  \n",
       "0            0.065398             0.009536  \n",
       "1            0.065841             0.008766  \n",
       "2            0.065419             0.009401  \n",
       "3            0.065962             0.008669  \n",
       "4            0.066808             0.008125  "
      ]
     },
     "execution_count": 3,
     "metadata": {},
     "output_type": "execute_result"
    }
   ],
   "source": [
    "data = pd.read_csv('/home/kirillk/datasets/OCR/ocr_act_1/test-cases-act.csv', index_col=0)\n",
    "\n",
    "# data.loc[data['filename'] == '095.jpg', 'orientation'] = 'horizontal'\n",
    "\n",
    "data.head()\n",
    "# data.to_csv('../assets/test-cases.csv')"
   ]
  },
  {
   "cell_type": "markdown",
   "metadata": {},
   "source": [
    "## Исследование по вычислениям регионов"
   ]
  },
  {
   "cell_type": "markdown",
   "metadata": {},
   "source": [
    "### Расположение типа документа"
   ]
  },
  {
   "cell_type": "markdown",
   "metadata": {},
   "source": [
    "Отступ"
   ]
  },
  {
   "cell_type": "code",
   "execution_count": 4,
   "metadata": {},
   "outputs": [
    {
     "data": {
      "text/plain": [
       "0.0162229857887107"
      ]
     },
     "execution_count": 4,
     "metadata": {},
     "output_type": "execute_result"
    }
   ],
   "source": [
    "type_indent = data['doc_type_box_left'].min()\n",
    "type_indent"
   ]
  },
  {
   "cell_type": "markdown",
   "metadata": {},
   "source": [
    "Ширина"
   ]
  },
  {
   "cell_type": "code",
   "execution_count": 5,
   "metadata": {
    "scrolled": true
   },
   "outputs": [
    {
     "data": {
      "text/plain": [
       "0.0841961177180831"
      ]
     },
     "execution_count": 5,
     "metadata": {},
     "output_type": "execute_result"
    }
   ],
   "source": [
    "data['doc_type_box_left'].max()"
   ]
  },
  {
   "cell_type": "code",
   "execution_count": 6,
   "metadata": {},
   "outputs": [
    {
     "data": {
      "text/plain": [
       "0.0269816594720191"
      ]
     },
     "execution_count": 6,
     "metadata": {},
     "output_type": "execute_result"
    }
   ],
   "source": [
    "data['doc_type_box_width'].max()"
   ]
  },
  {
   "cell_type": "code",
   "execution_count": 7,
   "metadata": {},
   "outputs": [
    {
     "data": {
      "text/plain": [
       "0.1076022241862487"
      ]
     },
     "execution_count": 7,
     "metadata": {},
     "output_type": "execute_result"
    }
   ],
   "source": [
    "doc_type_region = (data['doc_type_box_left'] + data['doc_type_box_width']).max()\n",
    "doc_type_region"
   ]
  },
  {
   "cell_type": "code",
   "execution_count": 8,
   "metadata": {},
   "outputs": [
    {
     "data": {
      "text/plain": [
       "0.09137923839753799"
      ]
     },
     "execution_count": 8,
     "metadata": {},
     "output_type": "execute_result"
    }
   ],
   "source": [
    "doc_type_width = (data['doc_type_box_left'] + data['doc_type_box_width']).max() - data['doc_type_box_left'].min()\n",
    "doc_type_width"
   ]
  },
  {
   "cell_type": "code",
   "execution_count": 9,
   "metadata": {},
   "outputs": [],
   "source": [
    "# doc_type_region = (data['doc_type_box_left'] + data['doc_type_box_width']).max()\n",
    "# doc_type_region"
   ]
  },
  {
   "cell_type": "markdown",
   "metadata": {},
   "source": [
    "#### Визуализация результатов"
   ]
  },
  {
   "cell_type": "code",
   "execution_count": 10,
   "metadata": {},
   "outputs": [],
   "source": [
    "for index, row in data.iterrows():\n",
    "    image = cv2.imread('/home/kirillk/datasets/OCR/ocr_act_1/' + row['filename'])\n",
    "    image = cv2.resize(image, (0, 0), fx=0.2, fy=0.2)\n",
    "    height, width, _ = image.shape\n",
    "    \n",
    "    x1 = int(row['doc_type_box_left'] * width)\n",
    "    y1 = int(row['doc_type_box_top'] * height)\n",
    "    x2 = int((row['doc_type_box_left'] + row['doc_type_box_width']) * width)\n",
    "    y2 = int((row['doc_type_box_top'] + row['doc_type_box_height']) * height)\n",
    "    \n",
    "    image = cv2.rectangle(image, (x1, y1), (x2, y2), (0, 0, 255), 2)\n",
    "    image = cv2.rectangle(img=image, \n",
    "                          pt1=(int(type_indent * width), 0),\n",
    "                          pt2=(int(type_indent * width + doc_type_width * width), int(height)),\n",
    "                          color=(0, 0, 255),\n",
    "                          thickness=2)\n",
    "    \n",
    "    cv2.imshow('Document', image)\n",
    "    cv2.waitKey(0)\n",
    "    cv2.destroyAllWindows()\n",
    "    \n",
    "    if index == 2:\n",
    "        break"
   ]
  },
  {
   "cell_type": "raw",
   "metadata": {},
   "source": [
    "for index, row in data.iterrows():\n",
    "    image = cv2.imread('/home/kirillk/datasets/OCR/ocr_act_1/' + row['filename'])\n",
    "    image = cv2.resize(image, (0, 0), fx=0.25, fy=0.25)\n",
    "    height, width, _ = image.shape\n",
    "    \n",
    "    x1 = int(row['doc_type_box_left'] * width)\n",
    "    y1 = int(row['doc_type_box_top'] * height)\n",
    "    x2 = int((row['doc_type_box_left'] + row['doc_type_box_width']) * width)\n",
    "    y2 = int((row['doc_type_box_top'] + row['doc_type_box_height']) * height)\n",
    "    \n",
    "    image = cv2.rectangle(image, (x1, y1), (x2, y2), (0, 0, 255), 2)\n",
    "    image = cv2.rectangle(img=image, \n",
    "                          pt1=(0, 0),\n",
    "                          pt2=(int(doc_type_region * width), int(height)),\n",
    "                          color=(0, 0, 255),\n",
    "                          thickness=2)\n",
    "    \n",
    "    cv2.imshow('Document', image)\n",
    "    cv2.waitKey(0)\n",
    "    cv2.destroyAllWindows()\n",
    "    \n",
    "    if index == 2:\n",
    "        break"
   ]
  },
  {
   "cell_type": "code",
   "execution_count": 11,
   "metadata": {},
   "outputs": [],
   "source": [
    "list_of_deltas = []"
   ]
  },
  {
   "cell_type": "code",
   "execution_count": 12,
   "metadata": {},
   "outputs": [
    {
     "name": "stdout",
     "output_type": "stream",
     "text": [
      "CPU times: user 25 s, sys: 5.88 s, total: 30.9 s\n",
      "Wall time: 31.1 s\n"
     ]
    }
   ],
   "source": [
    "%%time\n",
    "for index, row in data.iterrows():\n",
    "    image = cv2.imread('/home/kirillk/datasets/OCR/ocr_act_1/' + row['filename'])\n",
    "    height, width, _ = image.shape\n",
    "    \n",
    "    x1 = int(row['doc_type_box_left'] * width)\n",
    "    x2 = int((row['doc_type_box_left'] + row['doc_type_box_width']) * width)\n",
    "    \n",
    "    list_of_deltas.append(doc_type_region * width - x2)"
   ]
  },
  {
   "cell_type": "code",
   "execution_count": 13,
   "metadata": {
    "scrolled": true
   },
   "outputs": [],
   "source": [
    "# list_of_deltas"
   ]
  },
  {
   "cell_type": "code",
   "execution_count": 14,
   "metadata": {},
   "outputs": [
    {
     "data": {
      "text/plain": [
       "285.3597504789895"
      ]
     },
     "execution_count": 14,
     "metadata": {},
     "output_type": "execute_result"
    }
   ],
   "source": [
    "max(list_of_deltas)"
   ]
  },
  {
   "cell_type": "code",
   "execution_count": 15,
   "metadata": {},
   "outputs": [
    {
     "data": {
      "text/plain": [
       "0.07553063807563376"
      ]
     },
     "execution_count": 15,
     "metadata": {},
     "output_type": "execute_result"
    }
   ],
   "source": [
    "min(list_of_deltas)"
   ]
  },
  {
   "cell_type": "code",
   "execution_count": 16,
   "metadata": {},
   "outputs": [
    {
     "data": {
      "text/plain": [
       "count    200.000000\n",
       "mean     164.875963\n",
       "std       53.489420\n",
       "min        0.075531\n",
       "25%      136.133148\n",
       "50%      176.229927\n",
       "75%      200.280225\n",
       "max      285.359750\n",
       "dtype: float64"
      ]
     },
     "execution_count": 16,
     "metadata": {},
     "output_type": "execute_result"
    }
   ],
   "source": [
    "pd.Series(list_of_deltas).describe()"
   ]
  },
  {
   "cell_type": "markdown",
   "metadata": {},
   "source": [
    "**Вывод:** регион для поиска типа документа имеет значения\n",
    "\n",
    "отступ по x = 0.0163\n",
    "\n",
    "ширина региона = 0.0914"
   ]
  },
  {
   "cell_type": "markdown",
   "metadata": {},
   "source": [
    "### Расположение номера документа"
   ]
  },
  {
   "cell_type": "code",
   "execution_count": 17,
   "metadata": {},
   "outputs": [
    {
     "data": {
      "text/plain": [
       "0.015574685613894204"
      ]
     },
     "execution_count": 17,
     "metadata": {},
     "output_type": "execute_result"
    }
   ],
   "source": [
    "delta_x_number_array = (data['doc_number_box_left'] - data['doc_type_box_width'] - data['doc_type_box_left'])\n",
    "\n",
    "delta_x_number = delta_x_number_array.describe()['min']\n",
    "delta_x_number"
   ]
  },
  {
   "cell_type": "code",
   "execution_count": 18,
   "metadata": {},
   "outputs": [
    {
     "data": {
      "text/plain": [
       "-0.012905092274742699"
      ]
     },
     "execution_count": 18,
     "metadata": {},
     "output_type": "execute_result"
    }
   ],
   "source": [
    "delta_y_number_array = (data['doc_number_box_top'] - data['doc_type_box_height'] - data['doc_type_box_top'])\n",
    "\n",
    "delta_y_number = delta_y_number_array.describe()['min'] \n",
    "delta_y_number"
   ]
  },
  {
   "cell_type": "code",
   "execution_count": 19,
   "metadata": {},
   "outputs": [
    {
     "data": {
      "text/plain": [
       "0.019678520256959903"
      ]
     },
     "execution_count": 19,
     "metadata": {},
     "output_type": "execute_result"
    }
   ],
   "source": [
    "height_number = delta_y_number_array.describe()['max'] - delta_y_number_array.describe()['min'] + data['doc_number_box_height'].describe()['max']\n",
    "height_number"
   ]
  },
  {
   "cell_type": "code",
   "execution_count": 20,
   "metadata": {},
   "outputs": [
    {
     "data": {
      "text/plain": [
       "0.09470749397412069"
      ]
     },
     "execution_count": 20,
     "metadata": {},
     "output_type": "execute_result"
    }
   ],
   "source": [
    "width_number = delta_x_number_array.describe()['max'] - delta_x_number_array.describe()['min'] + data['doc_number_box_width'].describe()['max']\n",
    "width_number"
   ]
  },
  {
   "cell_type": "markdown",
   "metadata": {},
   "source": [
    "#### Визуализация результатов"
   ]
  },
  {
   "cell_type": "code",
   "execution_count": 22,
   "metadata": {},
   "outputs": [],
   "source": [
    "for index, row in data.iterrows():\n",
    "    image = cv2.imread('/home/kirillk/datasets/OCR/ocr_act_1/' + row['filename'])\n",
    "    image = cv2.resize(image, (0, 0), fx=0.2, fy=0.2)\n",
    "    height, width, _ = image.shape\n",
    "    \n",
    "    x1 = int(row['doc_type_box_left'] * width)\n",
    "    y1 = int(row['doc_type_box_top'] * height)\n",
    "    x2 = int((row['doc_type_box_left'] + row['doc_type_box_width']) * width)\n",
    "    y2 = int((row['doc_type_box_top'] + row['doc_type_box_height']) * height)\n",
    "        \n",
    "    delta_x_number_ = int(delta_x_number * width)\n",
    "    delta_y_number_ = int(delta_y_number * height)\n",
    "    width_number_ = int(width_number * width)\n",
    "    height_number_ = int(height_number * width)\n",
    "    \n",
    "    image = cv2.rectangle(image, (x1, y1), (x2, y2), (0, 0, 255), 2)\n",
    "    image = cv2.rectangle(img=image,\n",
    "                            pt1=(int(x2 + delta_x_number_), \n",
    "                                int(y2 + delta_y_number_)),\n",
    "                            pt2=(int(x2 + delta_x_number_ + width_number_),\n",
    "                                int(y2 + delta_y_number_ + height_number_)),\n",
    "                            color=(0, 0, 255),\n",
    "                            thickness=2)\n",
    "\n",
    "    cv2.imshow('Document', image)\n",
    "    cv2.waitKey(0)\n",
    "    cv2.destroyAllWindows()\n",
    "    \n",
    "    if index == 2:\n",
    "        break"
   ]
  },
  {
   "cell_type": "markdown",
   "metadata": {},
   "source": [
    "**Вывод:** принимаем следующие параметры региона **Номер документа**\n",
    "\n",
    "дельта по x = 0.0156\n",
    "\n",
    "дельта по y = -0.012905\n",
    "\n",
    "ширина региона = 0.0947\n",
    "\n",
    "высота региона = 0.0197"
   ]
  },
  {
   "cell_type": "markdown",
   "metadata": {},
   "source": [
    " ### Расположение даты документа"
   ]
  },
  {
   "cell_type": "code",
   "execution_count": 63,
   "metadata": {},
   "outputs": [
    {
     "data": {
      "text/plain": [
       "0.102887895629479"
      ]
     },
     "execution_count": 63,
     "metadata": {},
     "output_type": "execute_result"
    }
   ],
   "source": [
    "delta_x_date_array = (data['doc_date_box_left'] - data['doc_type_box_width'] - data['doc_type_box_left'])\n",
    "\n",
    "delta_x_date = delta_x_date_array.describe()['min']\n",
    "delta_x_date"
   ]
  },
  {
   "cell_type": "code",
   "execution_count": 64,
   "metadata": {},
   "outputs": [
    {
     "data": {
      "text/plain": [
       "-0.0117829103378086"
      ]
     },
     "execution_count": 64,
     "metadata": {},
     "output_type": "execute_result"
    }
   ],
   "source": [
    "delta_y_date_array = (data['doc_date_box_top'] - data['doc_type_box_height'] - data['doc_type_box_top'])\n",
    "\n",
    "delta_y_date = delta_y_date_array.describe()['min']\n",
    "delta_y_date"
   ]
  },
  {
   "cell_type": "code",
   "execution_count": 65,
   "metadata": {},
   "outputs": [
    {
     "data": {
      "text/plain": [
       "0.017186463301020798"
      ]
     },
     "execution_count": 65,
     "metadata": {},
     "output_type": "execute_result"
    }
   ],
   "source": [
    "height_date = delta_y_date_array.describe()['max'] - delta_y_date_array.describe()['min'] + data['doc_date_box_height'].describe()['max']\n",
    "height_date"
   ]
  },
  {
   "cell_type": "code",
   "execution_count": 66,
   "metadata": {},
   "outputs": [
    {
     "data": {
      "text/plain": [
       "0.11057689874111219"
      ]
     },
     "execution_count": 66,
     "metadata": {},
     "output_type": "execute_result"
    }
   ],
   "source": [
    "width_date = delta_x_date_array.describe()['max'] - delta_x_date_array.describe()['min'] + data['doc_date_box_width'].describe()['max']\n",
    "width_date"
   ]
  },
  {
   "cell_type": "markdown",
   "metadata": {},
   "source": [
    "#### Визуализация результатов"
   ]
  },
  {
   "cell_type": "code",
   "execution_count": 67,
   "metadata": {},
   "outputs": [],
   "source": [
    "for index, row in data.iterrows():\n",
    "    image = cv2.imread('/home/kirillk/datasets/OCR/ocr_act_1/' + row['filename'])\n",
    "    image = cv2.resize(image, (0, 0), fx=0.2, fy=0.2)\n",
    "    height, width, _ = image.shape\n",
    "    \n",
    "    x1 = int(row['doc_type_box_left'] * width)\n",
    "    y1 = int(row['doc_type_box_top'] * height)\n",
    "    x2 = int((row['doc_type_box_left'] + row['doc_type_box_width']) * width)\n",
    "    y2 = int((row['doc_type_box_top'] + row['doc_type_box_height']) * height)\n",
    "        \n",
    "    delta_x_date_ = int(delta_x_date * width)\n",
    "    delta_y_date_ = int(delta_y_date * height)\n",
    "    width_date_ = int(width_date * width)\n",
    "    height_date_ = int(height_date * width)\n",
    "    \n",
    "    image = cv2.rectangle(image, (x1, y1), (x2, y2), (0, 0, 255), 2)\n",
    "    image = cv2.rectangle(img=image,\n",
    "                            pt1=(int(x2 + delta_x_date_), \n",
    "                                int(y2 + delta_y_date_)),\n",
    "                            pt2=(int(x2 + delta_x_date_ + width_date_),\n",
    "                                int(y2 + delta_y_date_ + height_date_)),\n",
    "                            color=(0, 0, 255),\n",
    "                            thickness=2)\n",
    "\n",
    "    cv2.imshow('Document', image)\n",
    "    cv2.waitKey(0)\n",
    "    cv2.destroyAllWindows()\n",
    "    \n",
    "    if index == 2:\n",
    "        break"
   ]
  },
  {
   "cell_type": "markdown",
   "metadata": {},
   "source": [
    "**Вывод:** принимаем следующие параметры региона **Дата документа**\n",
    "\n",
    "дельта по x = 0.1028\n",
    "\n",
    "дельта по y = -0.0118\n",
    "\n",
    "ширина региона = 0.1106\n",
    "\n",
    "высота региона = 0.0172"
   ]
  },
  {
   "cell_type": "markdown",
   "metadata": {},
   "source": [
    "### Дефолтные значения для номера документа"
   ]
  },
  {
   "cell_type": "code",
   "execution_count": 68,
   "metadata": {},
   "outputs": [
    {
     "data": {
      "text/plain": [
       "0.0577101606365272"
      ]
     },
     "execution_count": 68,
     "metadata": {},
     "output_type": "execute_result"
    }
   ],
   "source": [
    "doc_number_x1 = data['doc_number_box_left'].min()\n",
    "doc_number_x1"
   ]
  },
  {
   "cell_type": "code",
   "execution_count": 70,
   "metadata": {},
   "outputs": [
    {
     "data": {
      "text/plain": [
       "0.0124055631089079"
      ]
     },
     "execution_count": 70,
     "metadata": {},
     "output_type": "execute_result"
    }
   ],
   "source": [
    "doc_number_y1 = data['doc_number_box_top'].min()\n",
    "doc_number_y1"
   ]
  },
  {
   "cell_type": "code",
   "execution_count": 69,
   "metadata": {},
   "outputs": [
    {
     "data": {
      "text/plain": [
       "0.20151005190855098"
      ]
     },
     "execution_count": 69,
     "metadata": {},
     "output_type": "execute_result"
    }
   ],
   "source": [
    "doc_number_x2 = data['doc_number_box_left'].max() + data['doc_number_box_width'].max()\n",
    "doc_number_x2"
   ]
  },
  {
   "cell_type": "code",
   "execution_count": 71,
   "metadata": {},
   "outputs": [
    {
     "data": {
      "text/plain": [
       "0.8381319073889654"
      ]
     },
     "execution_count": 71,
     "metadata": {},
     "output_type": "execute_result"
    }
   ],
   "source": [
    "doc_number_y2 = data['doc_number_box_top'].max() + data['doc_number_box_height'].max()\n",
    "doc_number_y2"
   ]
  },
  {
   "cell_type": "code",
   "execution_count": 72,
   "metadata": {},
   "outputs": [
    {
     "data": {
      "text/plain": [
       "0.14379989127202378"
      ]
     },
     "execution_count": 72,
     "metadata": {},
     "output_type": "execute_result"
    }
   ],
   "source": [
    "doc_number_default_width = doc_number_x2 - doc_number_x1\n",
    "doc_number_default_width"
   ]
  },
  {
   "cell_type": "code",
   "execution_count": 73,
   "metadata": {},
   "outputs": [
    {
     "data": {
      "text/plain": [
       "0.8257263442800574"
      ]
     },
     "execution_count": 73,
     "metadata": {},
     "output_type": "execute_result"
    }
   ],
   "source": [
    "doc_number_default_height = doc_number_y2 - doc_number_y1\n",
    "doc_number_default_height"
   ]
  },
  {
   "cell_type": "markdown",
   "metadata": {},
   "source": [
    "#### Визуализация результатов"
   ]
  },
  {
   "cell_type": "code",
   "execution_count": 74,
   "metadata": {},
   "outputs": [],
   "source": [
    "for index, row in data.iterrows():\n",
    "    image = cv2.imread('/home/kirillk/datasets/OCR/ocr_act_1/' + row['filename'])\n",
    "    image = cv2.resize(image, (0, 0), fx=0.15, fy=0.15)\n",
    "    height, width, _ = image.shape\n",
    "        \n",
    "    x1 = int(doc_number_x1 * width)\n",
    "    y1 = int(doc_number_y1 * height)\n",
    "    x2 = int(doc_number_x2 * width)\n",
    "    y2 = int(doc_number_y2 * height)\n",
    "    \n",
    "    image = cv2.rectangle(image, (x1, y1), (x2, y2), (0, 0, 255), 2)\n",
    "    cv2.imshow('Document', image)\n",
    "    cv2.waitKey(0)\n",
    "    cv2.destroyAllWindows()\n",
    "    \n",
    "    if index == 2:\n",
    "        break"
   ]
  },
  {
   "cell_type": "markdown",
   "metadata": {},
   "source": [
    "**Вывод:** принимаем следующие параметры дефолтного региона **Номер документа**\n",
    "\n",
    "Левый верхний угол координаиа x = 0.0577\n",
    "\n",
    "Левый верхний угол координата y = 0.0124\n",
    "\n",
    "ширина региона = 0.1438\n",
    "\n",
    "высота региона = 0.8258"
   ]
  },
  {
   "cell_type": "markdown",
   "metadata": {},
   "source": [
    "### Дефолтные значения для даты документа"
   ]
  },
  {
   "cell_type": "code",
   "execution_count": 75,
   "metadata": {},
   "outputs": [
    {
     "data": {
      "text/plain": [
       "0.1523474159694511"
      ]
     },
     "execution_count": 75,
     "metadata": {},
     "output_type": "execute_result"
    }
   ],
   "source": [
    "doc_date_x1 = data['doc_date_box_left'].min()\n",
    "doc_date_x1"
   ]
  },
  {
   "cell_type": "code",
   "execution_count": 76,
   "metadata": {},
   "outputs": [
    {
     "data": {
      "text/plain": [
       "0.0121578700268369"
      ]
     },
     "execution_count": 76,
     "metadata": {},
     "output_type": "execute_result"
    }
   ],
   "source": [
    "doc_date_y1 = data['doc_date_box_top'].min()\n",
    "doc_date_y1"
   ]
  },
  {
   "cell_type": "code",
   "execution_count": 77,
   "metadata": {},
   "outputs": [
    {
     "data": {
      "text/plain": [
       "0.2850617560174828"
      ]
     },
     "execution_count": 77,
     "metadata": {},
     "output_type": "execute_result"
    }
   ],
   "source": [
    "doc_date_x2 = data['doc_date_box_left'].max() + data['doc_date_box_width'].max()\n",
    "doc_date_x2"
   ]
  },
  {
   "cell_type": "code",
   "execution_count": 78,
   "metadata": {},
   "outputs": [
    {
     "data": {
      "text/plain": [
       "0.8370626842492491"
      ]
     },
     "execution_count": 78,
     "metadata": {},
     "output_type": "execute_result"
    }
   ],
   "source": [
    "doc_date_y2 = data['doc_date_box_top'].max() + data['doc_date_box_height'].max()\n",
    "doc_date_y2"
   ]
  },
  {
   "cell_type": "code",
   "execution_count": 79,
   "metadata": {},
   "outputs": [
    {
     "data": {
      "text/plain": [
       "0.1327143400480317"
      ]
     },
     "execution_count": 79,
     "metadata": {},
     "output_type": "execute_result"
    }
   ],
   "source": [
    "doc_date_default_width = doc_date_x2 - doc_date_x1\n",
    "doc_date_default_width"
   ]
  },
  {
   "cell_type": "code",
   "execution_count": 80,
   "metadata": {},
   "outputs": [
    {
     "data": {
      "text/plain": [
       "0.8249048142224122"
      ]
     },
     "execution_count": 80,
     "metadata": {},
     "output_type": "execute_result"
    }
   ],
   "source": [
    "doc_date_default_height = doc_date_y2 - doc_date_y1\n",
    "doc_date_default_height"
   ]
  },
  {
   "cell_type": "markdown",
   "metadata": {},
   "source": [
    "#### Визуализация результатов"
   ]
  },
  {
   "cell_type": "code",
   "execution_count": 81,
   "metadata": {},
   "outputs": [],
   "source": [
    "for index, row in data.iterrows():\n",
    "    image = cv2.imread('/home/kirillk/datasets/OCR/ocr_act_1/' + row['filename'])\n",
    "    image = cv2.resize(image, (0, 0), fx=0.15, fy=0.15)\n",
    "    height, width, _ = image.shape\n",
    "        \n",
    "    x1 = int(doc_date_x1 * width)\n",
    "    y1 = int(doc_date_y1 * height)\n",
    "    x2 = int(doc_date_x2 * width)\n",
    "    y2 = int(doc_date_y2 * height)\n",
    "    \n",
    "    image = cv2.rectangle(image, (x1, y1), (x2, y2), (0, 0, 255), 2)\n",
    "    cv2.imshow('Document', image)\n",
    "    cv2.waitKey(0)\n",
    "    cv2.destroyAllWindows()\n",
    "    \n",
    "    if index == 2:\n",
    "        break"
   ]
  },
  {
   "cell_type": "markdown",
   "metadata": {},
   "source": [
    "**Вывод:** принимаем следующие параметры дефолтного региона **Дата документа**\n",
    "\n",
    "Левый верхний угол координаиа x = 0.1524\n",
    "\n",
    "Левый верхний угол координата y = 0.0122\n",
    "\n",
    "ширина региона = 0.1328\n",
    "\n",
    "высота региона = 0.8249"
   ]
  },
  {
   "cell_type": "code",
   "execution_count": null,
   "metadata": {},
   "outputs": [],
   "source": []
  }
 ],
 "metadata": {
  "kernelspec": {
   "display_name": "distance_calculation",
   "language": "python",
   "name": "distance_calculation"
  },
  "language_info": {
   "codemirror_mode": {
    "name": "ipython",
    "version": 3
   },
   "file_extension": ".py",
   "mimetype": "text/x-python",
   "name": "python",
   "nbconvert_exporter": "python",
   "pygments_lexer": "ipython3",
   "version": "3.9.13"
  }
 },
 "nbformat": 4,
 "nbformat_minor": 4
}
