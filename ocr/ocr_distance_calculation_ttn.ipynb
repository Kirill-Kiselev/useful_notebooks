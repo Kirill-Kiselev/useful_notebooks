{
 "cells": [
  {
   "cell_type": "markdown",
   "metadata": {},
   "source": [
    "### Информация\n",
    "- *Автор*: Киселев Кирилл\n",
    "- *Дата*: вторник, 12 июля 2022 г.\n",
    "- *Описание*: Блокнот для вычисления регионов для транспортных накладных"
   ]
  },
  {
   "cell_type": "markdown",
   "metadata": {},
   "source": [
    "#### Requirements"
   ]
  },
  {
   "cell_type": "code",
   "execution_count": 2,
   "metadata": {
    "ExecuteTime": {
     "end_time": "2022-03-29T12:01:57.325894Z",
     "start_time": "2022-03-29T12:01:57.323055Z"
    }
   },
   "outputs": [],
   "source": [
    "# !pip3 install opencv-python==4.4.0.46 pandas==1.2.4"
   ]
  },
  {
   "cell_type": "code",
   "execution_count": 1,
   "metadata": {
    "ExecuteTime": {
     "end_time": "2022-03-29T12:01:59.016149Z",
     "start_time": "2022-03-29T12:01:58.870759Z"
    }
   },
   "outputs": [],
   "source": [
    "import cv2\n",
    "import pandas as pd\n",
    "\n",
    "\n",
    "pd.set_option('display.max_columns', 100)\n",
    "pd.set_option('display.max_rows', 100)"
   ]
  },
  {
   "cell_type": "code",
   "execution_count": 2,
   "metadata": {
    "ExecuteTime": {
     "end_time": "2022-03-29T12:02:05.843918Z",
     "start_time": "2022-03-29T12:02:05.822411Z"
    }
   },
   "outputs": [
    {
     "data": {
      "text/html": [
       "<div>\n",
       "<style scoped>\n",
       "    .dataframe tbody tr th:only-of-type {\n",
       "        vertical-align: middle;\n",
       "    }\n",
       "\n",
       "    .dataframe tbody tr th {\n",
       "        vertical-align: top;\n",
       "    }\n",
       "\n",
       "    .dataframe thead th {\n",
       "        text-align: right;\n",
       "    }\n",
       "</style>\n",
       "<table border=\"1\" class=\"dataframe\">\n",
       "  <thead>\n",
       "    <tr style=\"text-align: right;\">\n",
       "      <th></th>\n",
       "      <th>filename</th>\n",
       "      <th>barcode_number</th>\n",
       "      <th>doc_number</th>\n",
       "      <th>barcode_box_left</th>\n",
       "      <th>barcode_box_top</th>\n",
       "      <th>barcode_box_width</th>\n",
       "      <th>barcode_box_height</th>\n",
       "      <th>doc_type_box_left</th>\n",
       "      <th>doc_type_box_top</th>\n",
       "      <th>doc_type_box_width</th>\n",
       "      <th>doc_type_box_height</th>\n",
       "      <th>doc_number_box_left</th>\n",
       "      <th>doc_number_box_top</th>\n",
       "      <th>doc_number_box_width</th>\n",
       "      <th>doc_number_box_height</th>\n",
       "    </tr>\n",
       "  </thead>\n",
       "  <tbody>\n",
       "    <tr>\n",
       "      <th>0</th>\n",
       "      <td>001.jpg</td>\n",
       "      <td>2880107901381</td>\n",
       "      <td>0074786723/2053332022</td>\n",
       "      <td>0.036891</td>\n",
       "      <td>0.041373</td>\n",
       "      <td>0.182212</td>\n",
       "      <td>0.051974</td>\n",
       "      <td>0.167635</td>\n",
       "      <td>0.097458</td>\n",
       "      <td>0.085710</td>\n",
       "      <td>0.019087</td>\n",
       "      <td>0.361261</td>\n",
       "      <td>0.176741</td>\n",
       "      <td>0.103765</td>\n",
       "      <td>0.016444</td>\n",
       "    </tr>\n",
       "    <tr>\n",
       "      <th>1</th>\n",
       "      <td>002.jpg</td>\n",
       "      <td>2880108066928</td>\n",
       "      <td>0074801020/2053439854</td>\n",
       "      <td>0.034493</td>\n",
       "      <td>0.035611</td>\n",
       "      <td>0.182089</td>\n",
       "      <td>0.049772</td>\n",
       "      <td>0.167335</td>\n",
       "      <td>0.090945</td>\n",
       "      <td>0.084423</td>\n",
       "      <td>0.016688</td>\n",
       "      <td>0.359356</td>\n",
       "      <td>0.170287</td>\n",
       "      <td>0.104494</td>\n",
       "      <td>0.015810</td>\n",
       "    </tr>\n",
       "    <tr>\n",
       "      <th>2</th>\n",
       "      <td>003.jpg</td>\n",
       "      <td>2880108067130</td>\n",
       "      <td>0074801108/2053440150</td>\n",
       "      <td>0.044062</td>\n",
       "      <td>0.030233</td>\n",
       "      <td>0.181714</td>\n",
       "      <td>0.054957</td>\n",
       "      <td>0.174441</td>\n",
       "      <td>0.088082</td>\n",
       "      <td>0.086541</td>\n",
       "      <td>0.020247</td>\n",
       "      <td>0.366604</td>\n",
       "      <td>0.170679</td>\n",
       "      <td>0.104713</td>\n",
       "      <td>0.020247</td>\n",
       "    </tr>\n",
       "    <tr>\n",
       "      <th>3</th>\n",
       "      <td>004.jpg</td>\n",
       "      <td>2880108430682</td>\n",
       "      <td>0074837996/2053658941</td>\n",
       "      <td>0.045632</td>\n",
       "      <td>0.027665</td>\n",
       "      <td>0.183300</td>\n",
       "      <td>0.055418</td>\n",
       "      <td>0.176841</td>\n",
       "      <td>0.085854</td>\n",
       "      <td>0.085775</td>\n",
       "      <td>0.018565</td>\n",
       "      <td>0.370715</td>\n",
       "      <td>0.167041</td>\n",
       "      <td>0.103204</td>\n",
       "      <td>0.017457</td>\n",
       "    </tr>\n",
       "    <tr>\n",
       "      <th>4</th>\n",
       "      <td>005.jpg</td>\n",
       "      <td>2880108430712</td>\n",
       "      <td>0074837999/2053659636</td>\n",
       "      <td>0.035318</td>\n",
       "      <td>0.037956</td>\n",
       "      <td>0.187007</td>\n",
       "      <td>0.055973</td>\n",
       "      <td>0.169280</td>\n",
       "      <td>0.096473</td>\n",
       "      <td>0.087210</td>\n",
       "      <td>0.022050</td>\n",
       "      <td>0.363179</td>\n",
       "      <td>0.173648</td>\n",
       "      <td>0.107289</td>\n",
       "      <td>0.021202</td>\n",
       "    </tr>\n",
       "  </tbody>\n",
       "</table>\n",
       "</div>"
      ],
      "text/plain": [
       "  filename  barcode_number             doc_number  barcode_box_left  \\\n",
       "0  001.jpg   2880107901381  0074786723/2053332022          0.036891   \n",
       "1  002.jpg   2880108066928  0074801020/2053439854          0.034493   \n",
       "2  003.jpg   2880108067130  0074801108/2053440150          0.044062   \n",
       "3  004.jpg   2880108430682  0074837996/2053658941          0.045632   \n",
       "4  005.jpg   2880108430712  0074837999/2053659636          0.035318   \n",
       "\n",
       "   barcode_box_top  barcode_box_width  barcode_box_height  doc_type_box_left  \\\n",
       "0         0.041373           0.182212            0.051974           0.167635   \n",
       "1         0.035611           0.182089            0.049772           0.167335   \n",
       "2         0.030233           0.181714            0.054957           0.174441   \n",
       "3         0.027665           0.183300            0.055418           0.176841   \n",
       "4         0.037956           0.187007            0.055973           0.169280   \n",
       "\n",
       "   doc_type_box_top  doc_type_box_width  doc_type_box_height  \\\n",
       "0          0.097458            0.085710             0.019087   \n",
       "1          0.090945            0.084423             0.016688   \n",
       "2          0.088082            0.086541             0.020247   \n",
       "3          0.085854            0.085775             0.018565   \n",
       "4          0.096473            0.087210             0.022050   \n",
       "\n",
       "   doc_number_box_left  doc_number_box_top  doc_number_box_width  \\\n",
       "0             0.361261            0.176741              0.103765   \n",
       "1             0.359356            0.170287              0.104494   \n",
       "2             0.366604            0.170679              0.104713   \n",
       "3             0.370715            0.167041              0.103204   \n",
       "4             0.363179            0.173648              0.107289   \n",
       "\n",
       "   doc_number_box_height  \n",
       "0               0.016444  \n",
       "1               0.015810  \n",
       "2               0.020247  \n",
       "3               0.017457  \n",
       "4               0.021202  "
      ]
     },
     "execution_count": 2,
     "metadata": {},
     "output_type": "execute_result"
    }
   ],
   "source": [
    "data = pd.read_csv('/home/kirillk/datasets/OCR/ocr_ttn/test-cases-ttn.csv', index_col=0)\n",
    "\n",
    "# data.loc[data['filename'] == '095.jpg', 'orientation'] = 'horizontal'\n",
    "\n",
    "data.head()\n",
    "# data.to_csv('../assets/test-cases.csv')"
   ]
  },
  {
   "cell_type": "markdown",
   "metadata": {},
   "source": [
    "## Исследование по вычислениям регионов"
   ]
  },
  {
   "cell_type": "markdown",
   "metadata": {},
   "source": [
    "### Расположение штрих-кода"
   ]
  },
  {
   "cell_type": "markdown",
   "metadata": {},
   "source": [
    "Отступ"
   ]
  },
  {
   "cell_type": "code",
   "execution_count": 20,
   "metadata": {},
   "outputs": [
    {
     "data": {
      "text/plain": [
       "0.0263062412307952"
      ]
     },
     "execution_count": 20,
     "metadata": {},
     "output_type": "execute_result"
    }
   ],
   "source": [
    "barcode_indent = data['barcode_box_left'].min()\n",
    "barcode_indent"
   ]
  },
  {
   "cell_type": "markdown",
   "metadata": {},
   "source": [
    "Ширина"
   ]
  },
  {
   "cell_type": "code",
   "execution_count": 21,
   "metadata": {
    "scrolled": true
   },
   "outputs": [
    {
     "data": {
      "text/plain": [
       "0.0654671447284517"
      ]
     },
     "execution_count": 21,
     "metadata": {},
     "output_type": "execute_result"
    }
   ],
   "source": [
    "data['barcode_box_left'].max()"
   ]
  },
  {
   "cell_type": "code",
   "execution_count": 22,
   "metadata": {},
   "outputs": [
    {
     "data": {
      "text/plain": [
       "0.1870065263274597"
      ]
     },
     "execution_count": 22,
     "metadata": {},
     "output_type": "execute_result"
    }
   ],
   "source": [
    "data['barcode_box_width'].max()"
   ]
  },
  {
   "cell_type": "code",
   "execution_count": 23,
   "metadata": {},
   "outputs": [
    {
     "data": {
      "text/plain": [
       "0.2387975539403071"
      ]
     },
     "execution_count": 23,
     "metadata": {},
     "output_type": "execute_result"
    }
   ],
   "source": [
    "barcode_region = (data['barcode_box_left'] + data['barcode_box_width']).max()\n",
    "barcode_region"
   ]
  },
  {
   "cell_type": "code",
   "execution_count": 24,
   "metadata": {},
   "outputs": [
    {
     "data": {
      "text/plain": [
       "0.2124913127095119"
      ]
     },
     "execution_count": 24,
     "metadata": {},
     "output_type": "execute_result"
    }
   ],
   "source": [
    "barcode_width = (data['barcode_box_left'] + data['barcode_box_width']).max() - data['barcode_box_left'].min()\n",
    "barcode_width"
   ]
  },
  {
   "cell_type": "code",
   "execution_count": 11,
   "metadata": {},
   "outputs": [],
   "source": [
    "# doc_type_region = (data['doc_type_box_left'] + data['doc_type_box_width']).max()\n",
    "# doc_type_region"
   ]
  },
  {
   "cell_type": "markdown",
   "metadata": {},
   "source": [
    "#### Визуализация результатов"
   ]
  },
  {
   "cell_type": "code",
   "execution_count": 12,
   "metadata": {},
   "outputs": [],
   "source": [
    "for index, row in data.iterrows():\n",
    "    image = cv2.imread('/home/kirillk/datasets/OCR/ocr_ttn/jpg/first_pages/' + row['filename'])\n",
    "    image = cv2.resize(image, (0, 0), fx=0.3, fy=0.3)\n",
    "    height, width, _ = image.shape\n",
    "    \n",
    "    x1 = int(row['barcode_box_left'] * width)\n",
    "    y1 = int(row['barcode_box_top'] * height)\n",
    "    x2 = int((row['barcode_box_left'] + row['barcode_box_width']) * width)\n",
    "    y2 = int((row['barcode_box_top'] + row['barcode_box_height']) * height)\n",
    "    \n",
    "    image = cv2.rectangle(image, (x1, y1), (x2, y2), (0, 0, 255), 2)\n",
    "    image = cv2.rectangle(img=image, \n",
    "                          pt1=(int(type_indent * width), 0),\n",
    "                          pt2=(int(type_indent * width + doc_type_width * width), int(height)),\n",
    "                          color=(0, 0, 255),\n",
    "                          thickness=2)\n",
    "    \n",
    "    cv2.imshow('Document', image)\n",
    "    cv2.waitKey(0)\n",
    "    cv2.destroyAllWindows()\n",
    "    \n",
    "#     if index == 2:\n",
    "#         break"
   ]
  },
  {
   "cell_type": "raw",
   "metadata": {},
   "source": [
    "for index, row in data.iterrows():\n",
    "    image = cv2.imread('/home/kirillk/datasets/OCR/ocr_ttn/jpg/first_pages/' + row['filename'])\n",
    "    image = cv2.resize(image, (0, 0), fx=0.2, fy=0.2)\n",
    "    height, width, _ = image.shape\n",
    "    \n",
    "    x1 = int(row['barcode_box_left'] * width)\n",
    "    y1 = int(row['barcode_box_top'] * height)\n",
    "    x2 = int((row['barcode_box_left'] + row['barcode_box_width']) * width)\n",
    "    y2 = int((row['barcode_box_top'] + row['barcode_box_height']) * height)\n",
    "    \n",
    "    image = cv2.rectangle(image, (x1, y1), (x2, y2), (0, 0, 255), 2)\n",
    "    image = cv2.rectangle(img=image, \n",
    "                          pt1=(int(type_indent * width), 0),\n",
    "                          pt2=(int(type_indent * width + doc_type_width * width), int(height)),\n",
    "                          color=(0, 0, 255),\n",
    "                          thickness=2)\n",
    "    \n",
    "    cv2.imshow('Document', image)\n",
    "    cv2.waitKey(0)\n",
    "    cv2.destroyAllWindows()\n",
    "    \n",
    "    if index == 2:\n",
    "        break"
   ]
  },
  {
   "cell_type": "code",
   "execution_count": 25,
   "metadata": {},
   "outputs": [],
   "source": [
    "list_of_deltas = []"
   ]
  },
  {
   "cell_type": "code",
   "execution_count": 26,
   "metadata": {},
   "outputs": [
    {
     "name": "stdout",
     "output_type": "stream",
     "text": [
      "CPU times: user 1.88 s, sys: 45.9 ms, total: 1.92 s\n",
      "Wall time: 1.93 s\n"
     ]
    }
   ],
   "source": [
    "%%time\n",
    "for index, row in data.iterrows():\n",
    "    image = cv2.imread('/home/kirillk/datasets/OCR/ocr_ttn/jpg/first_pages/' + row['filename'])\n",
    "    height, width, _ = image.shape\n",
    "    \n",
    "    x1 = int(row['barcode_box_left'] * width)\n",
    "    x2 = int((row['barcode_box_left'] + row['barcode_box_width']) * width)\n",
    "    \n",
    "    list_of_deltas.append(barcode_region * width - x2)"
   ]
  },
  {
   "cell_type": "code",
   "execution_count": 27,
   "metadata": {
    "scrolled": true
   },
   "outputs": [],
   "source": [
    "# list_of_deltas"
   ]
  },
  {
   "cell_type": "code",
   "execution_count": 28,
   "metadata": {},
   "outputs": [
    {
     "data": {
      "text/plain": [
       "113.70181922259735"
      ]
     },
     "execution_count": 28,
     "metadata": {},
     "output_type": "execute_result"
    }
   ],
   "source": [
    "max(list_of_deltas)"
   ]
  },
  {
   "cell_type": "code",
   "execution_count": 29,
   "metadata": {},
   "outputs": [
    {
     "data": {
      "text/plain": [
       "0.9406167765375812"
      ]
     },
     "execution_count": 29,
     "metadata": {},
     "output_type": "execute_result"
    }
   ],
   "source": [
    "min(list_of_deltas)"
   ]
  },
  {
   "cell_type": "code",
   "execution_count": 30,
   "metadata": {},
   "outputs": [
    {
     "data": {
      "text/plain": [
       "count     44.000000\n",
       "mean      61.109209\n",
       "std       26.503618\n",
       "min        0.940617\n",
       "25%       43.690617\n",
       "50%       61.440617\n",
       "75%       80.701819\n",
       "max      113.701819\n",
       "dtype: float64"
      ]
     },
     "execution_count": 30,
     "metadata": {},
     "output_type": "execute_result"
    }
   ],
   "source": [
    "pd.Series(list_of_deltas).describe()"
   ]
  },
  {
   "cell_type": "markdown",
   "metadata": {},
   "source": [
    "**Вывод:** регион для поиска типа документа имеет значения\n",
    "\n",
    "отступ по x = 0.0263\n",
    "\n",
    "ширина региона = 0.2125"
   ]
  },
  {
   "cell_type": "markdown",
   "metadata": {},
   "source": [
    "### Расположение типа документа"
   ]
  },
  {
   "cell_type": "code",
   "execution_count": 50,
   "metadata": {},
   "outputs": [
    {
     "data": {
      "text/plain": [
       "-0.05304512044865439"
      ]
     },
     "execution_count": 50,
     "metadata": {},
     "output_type": "execute_result"
    }
   ],
   "source": [
    "delta_x_type_array = (data['doc_type_box_left'] - data['barcode_box_width'] - data['barcode_box_left'])\n",
    "\n",
    "delta_x_type = delta_x_type_array.describe()['min']\n",
    "delta_x_type"
   ]
  },
  {
   "cell_type": "code",
   "execution_count": 51,
   "metadata": {},
   "outputs": [
    {
     "data": {
      "text/plain": [
       "-0.0029132784640584983"
      ]
     },
     "execution_count": 51,
     "metadata": {},
     "output_type": "execute_result"
    }
   ],
   "source": [
    "delta_y_type_array = (data['doc_type_box_top'] - data['barcode_box_height'] - data['barcode_box_top'])\n",
    "\n",
    "delta_y_type = delta_y_type_array.describe()['min'] \n",
    "delta_y_type"
   ]
  },
  {
   "cell_type": "code",
   "execution_count": 52,
   "metadata": {},
   "outputs": [
    {
     "data": {
      "text/plain": [
       "0.03209606854623259"
      ]
     },
     "execution_count": 52,
     "metadata": {},
     "output_type": "execute_result"
    }
   ],
   "source": [
    "height_type = delta_y_type_array.describe()['max'] - delta_y_type_array.describe()['min'] + data['doc_type_box_height'].describe()['max']\n",
    "height_type\n"
   ]
  },
  {
   "cell_type": "code",
   "execution_count": 65,
   "metadata": {},
   "outputs": [
    {
     "data": {
      "text/plain": [
       "0.09230489690081423"
      ]
     },
     "execution_count": 65,
     "metadata": {},
     "output_type": "execute_result"
    }
   ],
   "source": [
    "width_type = delta_x_type_array.describe()['max'] - delta_x_type_array.describe()['min'] + data['doc_type_box_width'].describe()['mean']\n",
    "width_type\n"
   ]
  },
  {
   "cell_type": "code",
   "execution_count": 66,
   "metadata": {},
   "outputs": [],
   "source": [
    "for index, row in data.iterrows():\n",
    "    image = cv2.imread('/home/kirillk/datasets/OCR/ocr_ttn/jpg/first_pages/' + row['filename'])\n",
    "    image = cv2.resize(image, (0, 0), fx=0.3, fy=0.3)\n",
    "    height, width, _ = image.shape\n",
    "    \n",
    "    x1 = int(row['barcode_box_left'] * width)\n",
    "    y1 = int(row['barcode_box_top'] * height)\n",
    "    x2 = int((row['barcode_box_left'] + row['barcode_box_width']) * width)\n",
    "    y2 = int((row['barcode_box_top'] + row['barcode_box_height']) * height)\n",
    "        \n",
    "    delta_x_type_ = int(delta_x_type * width)\n",
    "    delta_y_type_ = int(delta_y_type * height)\n",
    "    width_type_ = int(width_type * width)\n",
    "    height_type_ = int(height_type * height)\n",
    "    \n",
    "    image = cv2.rectangle(image, (x1, y1), (x2, y2), (0, 0, 255), 2)\n",
    "    image = cv2.rectangle(img=image,\n",
    "                            pt1=(int(x2 + delta_x_type_), \n",
    "                                int(y2 + delta_y_type_)),\n",
    "                            pt2=(int(x2 + delta_x_type_ + width_type_),\n",
    "                                int(y2 + delta_y_type_ + height_type_)),\n",
    "                            color=(0, 0, 255),\n",
    "                            thickness=2)\n",
    "\n",
    "    cv2.imshow('Document', image)\n",
    "    cv2.waitKey(0)\n",
    "    cv2.destroyAllWindows()\n",
    "    \n",
    "#     if index == 7:\n",
    "#         break"
   ]
  },
  {
   "cell_type": "markdown",
   "metadata": {},
   "source": [
    "**Вывод:** принимаем следующие параметры региона **Типа документа**\n",
    "\n",
    "дельта по x = -0.0530\n",
    "\n",
    "дельта по y = -0.0030\n",
    "\n",
    "ширина региона = 0.0924\n",
    "\n",
    "высота региона = 0.0321"
   ]
  },
  {
   "cell_type": "markdown",
   "metadata": {},
   "source": [
    "### Расположение номера документа"
   ]
  },
  {
   "cell_type": "code",
   "execution_count": 67,
   "metadata": {},
   "outputs": [
    {
     "data": {
      "text/plain": [
       "0.1374539198685151"
      ]
     },
     "execution_count": 67,
     "metadata": {},
     "output_type": "execute_result"
    }
   ],
   "source": [
    "delta_x_number_array = (data['doc_number_box_left'] - data['barcode_box_width'] - data['barcode_box_left'])\n",
    "\n",
    "delta_x_number = delta_x_number_array.describe()['min']\n",
    "delta_x_number"
   ]
  },
  {
   "cell_type": "code",
   "execution_count": 68,
   "metadata": {},
   "outputs": [
    {
     "data": {
      "text/plain": [
       "0.061724535704068925"
      ]
     },
     "execution_count": 68,
     "metadata": {},
     "output_type": "execute_result"
    }
   ],
   "source": [
    "delta_y_number_array = (data['doc_number_box_top'] - data['barcode_box_height'] - data['barcode_box_top'])\n",
    "\n",
    "delta_y_number = delta_y_number_array.describe()['min'] \n",
    "delta_y_number"
   ]
  },
  {
   "cell_type": "code",
   "execution_count": 79,
   "metadata": {},
   "outputs": [
    {
     "data": {
      "text/plain": [
       "0.04528373702369032"
      ]
     },
     "execution_count": 79,
     "metadata": {},
     "output_type": "execute_result"
    }
   ],
   "source": [
    "height_number = delta_y_number_array.describe()['max'] - delta_y_number_array.describe()['min'] + data['doc_number_box_height'].describe()['mean']\n",
    "height_number"
   ]
  },
  {
   "cell_type": "code",
   "execution_count": 80,
   "metadata": {},
   "outputs": [
    {
     "data": {
      "text/plain": [
       "0.13544483570610416"
      ]
     },
     "execution_count": 80,
     "metadata": {},
     "output_type": "execute_result"
    }
   ],
   "source": [
    "width_number = delta_x_number_array.describe()['max'] - delta_x_number_array.describe()['min'] + data['doc_number_box_width'].describe()['mean']\n",
    "width_number"
   ]
  },
  {
   "cell_type": "markdown",
   "metadata": {},
   "source": [
    "#### Визуализация результатов"
   ]
  },
  {
   "cell_type": "code",
   "execution_count": 82,
   "metadata": {},
   "outputs": [],
   "source": [
    "for index, row in data.iterrows():\n",
    "    image = cv2.imread('/home/kirillk/datasets/OCR/ocr_ttn/jpg/first_pages/' + row['filename'])\n",
    "    image = cv2.resize(image, (0, 0), fx=0.3, fy=0.3)\n",
    "    height, width, _ = image.shape\n",
    "    \n",
    "    x1 = int(row['barcode_box_left'] * width)\n",
    "    y1 = int(row['barcode_box_top'] * height)\n",
    "    x2 = int((row['barcode_box_left'] + row['barcode_box_width']) * width)\n",
    "    y2 = int((row['barcode_box_top'] + row['barcode_box_height']) * height)\n",
    "        \n",
    "    delta_x_number_ = int(delta_x_number * width)\n",
    "    delta_y_number_ = int(delta_y_number * height)\n",
    "    width_number_ = int(width_number * width)\n",
    "    height_number_ = int(height_number * width)\n",
    "    \n",
    "    image = cv2.rectangle(image, (x1, y1), (x2, y2), (0, 0, 255), 2)\n",
    "    image = cv2.rectangle(img=image,\n",
    "                            pt1=(int(x2 + delta_x_number_), \n",
    "                                int(y2 + delta_y_number_)),\n",
    "                            pt2=(int(x2 + delta_x_number_ + width_number_),\n",
    "                                int(y2 + delta_y_number_ + height_number_)),\n",
    "                            color=(0, 0, 255),\n",
    "                            thickness=2)\n",
    "\n",
    "    cv2.imshow('Document', image)\n",
    "    cv2.waitKey(0)\n",
    "    cv2.destroyAllWindows()\n",
    "    \n",
    "#     if index == 7:\n",
    "#         break"
   ]
  },
  {
   "cell_type": "markdown",
   "metadata": {},
   "source": [
    "**Вывод:** принимаем следующие параметры региона **Номер документа**\n",
    "\n",
    "дельта по x = 0.1374\n",
    "\n",
    "дельта по y = 0.0617\n",
    "\n",
    "ширина региона = 0.1355\n",
    "\n",
    "высота региона = 0.0453"
   ]
  },
  {
   "cell_type": "markdown",
   "metadata": {},
   "source": [
    " ### Расположение даты документа"
   ]
  },
  {
   "cell_type": "raw",
   "metadata": {},
   "source": [
    "delta_x_date_array = (data['doc_date_box_left'] - data['doc_type_box_width'] - data['doc_type_box_left'])\n",
    "\n",
    "delta_x_date = delta_x_date_array.describe()['min']\n",
    "delta_x_date"
   ]
  },
  {
   "cell_type": "raw",
   "metadata": {},
   "source": [
    "delta_y_date_array = (data['doc_date_box_top'] - data['doc_type_box_height'] - data['doc_type_box_top'])\n",
    "\n",
    "delta_y_date = delta_y_date_array.describe()['min']\n",
    "delta_y_date"
   ]
  },
  {
   "cell_type": "raw",
   "metadata": {},
   "source": [
    "height_date = delta_y_date_array.describe()['max'] - delta_y_date_array.describe()['min'] + data['doc_date_box_height'].describe()['max']\n",
    "height_date"
   ]
  },
  {
   "cell_type": "raw",
   "metadata": {},
   "source": [
    "width_date = delta_x_date_array.describe()['max'] - delta_x_date_array.describe()['min'] + data['doc_date_box_width'].describe()['max']\n",
    "width_date"
   ]
  },
  {
   "cell_type": "markdown",
   "metadata": {},
   "source": [
    "#### Визуализация результатов"
   ]
  },
  {
   "cell_type": "raw",
   "metadata": {},
   "source": [
    "for index, row in data.iterrows():\n",
    "    image = cv2.imread('/home/kirillk/datasets/OCR/ocr_schet_factura_1/' + row['filename'])\n",
    "    image = cv2.resize(image, (0, 0), fx=0.6, fy=0.6)\n",
    "    height, width, _ = image.shape\n",
    "    \n",
    "    x1 = int(row['doc_type_box_left'] * width)\n",
    "    y1 = int(row['doc_type_box_top'] * height)\n",
    "    x2 = int((row['doc_type_box_left'] + row['doc_type_box_width']) * width)\n",
    "    y2 = int((row['doc_type_box_top'] + row['doc_type_box_height']) * height)\n",
    "        \n",
    "    delta_x_date_ = int(delta_x_date * width)\n",
    "    delta_y_date_ = int(delta_y_date * height)\n",
    "    width_date_ = int(width_date * width)\n",
    "    height_date_ = int(height_date * width)\n",
    "    \n",
    "    image = cv2.rectangle(image, (x1, y1), (x2, y2), (0, 0, 255), 2)\n",
    "    image = cv2.rectangle(img=image,\n",
    "                            pt1=(int(x2 + delta_x_date_), \n",
    "                                int(y2 + delta_y_date_)),\n",
    "                            pt2=(int(x2 + delta_x_date_ + width_date_),\n",
    "                                int(y2 + delta_y_date_ + height_date_)),\n",
    "                            color=(0, 0, 255),\n",
    "                            thickness=1)\n",
    "\n",
    "    cv2.imshow('Document', image)\n",
    "    cv2.waitKey(0)\n",
    "    cv2.destroyAllWindows()\n",
    "    \n",
    "#     if index == 2:\n",
    "#         break"
   ]
  },
  {
   "cell_type": "markdown",
   "metadata": {},
   "source": [
    "**Вывод:** принимаем следующие параметры региона **Дата документа**\n",
    "\n",
    "дельта по x = 0.1158\n",
    "\n",
    "дельта по y = -0.0121\n",
    "\n",
    "ширина региона = 0.0878\n",
    "\n",
    "высота региона = 0.0162"
   ]
  },
  {
   "cell_type": "markdown",
   "metadata": {},
   "source": [
    "### Дефолтные значения для типа документа"
   ]
  },
  {
   "cell_type": "code",
   "execution_count": 83,
   "metadata": {},
   "outputs": [
    {
     "data": {
      "text/plain": [
       "0.1592948642586113"
      ]
     },
     "execution_count": 83,
     "metadata": {},
     "output_type": "execute_result"
    }
   ],
   "source": [
    "doc_type_x1 = data['doc_type_box_left'].min()\n",
    "doc_type_x1"
   ]
  },
  {
   "cell_type": "code",
   "execution_count": 84,
   "metadata": {},
   "outputs": [
    {
     "data": {
      "text/plain": [
       "0.0682747230205484"
      ]
     },
     "execution_count": 84,
     "metadata": {},
     "output_type": "execute_result"
    }
   ],
   "source": [
    "doc_type_y1 = data['doc_type_box_top'].min()\n",
    "doc_type_y1"
   ]
  },
  {
   "cell_type": "code",
   "execution_count": 90,
   "metadata": {},
   "outputs": [
    {
     "data": {
      "text/plain": [
       "0.27726365512379914"
      ]
     },
     "execution_count": 90,
     "metadata": {},
     "output_type": "execute_result"
    }
   ],
   "source": [
    "doc_type_x2 = data['doc_type_box_left'].max() + data['doc_type_box_width'].mean()\n",
    "doc_type_x2"
   ]
  },
  {
   "cell_type": "code",
   "execution_count": 91,
   "metadata": {},
   "outputs": [
    {
     "data": {
      "text/plain": [
       "0.1461591377225028"
      ]
     },
     "execution_count": 91,
     "metadata": {},
     "output_type": "execute_result"
    }
   ],
   "source": [
    "doc_type_y2 = data['doc_type_box_top'].max() + data['doc_type_box_height'].max()\n",
    "doc_type_y2"
   ]
  },
  {
   "cell_type": "code",
   "execution_count": 92,
   "metadata": {},
   "outputs": [
    {
     "data": {
      "text/plain": [
       "0.11796879086518783"
      ]
     },
     "execution_count": 92,
     "metadata": {},
     "output_type": "execute_result"
    }
   ],
   "source": [
    "doc_type_default_width = doc_type_x2 - doc_type_x1\n",
    "doc_type_default_width"
   ]
  },
  {
   "cell_type": "code",
   "execution_count": 93,
   "metadata": {},
   "outputs": [
    {
     "data": {
      "text/plain": [
       "0.0778844147019544"
      ]
     },
     "execution_count": 93,
     "metadata": {},
     "output_type": "execute_result"
    }
   ],
   "source": [
    "doc_type_default_height = doc_type_y2 - doc_type_y1\n",
    "doc_type_default_height"
   ]
  },
  {
   "cell_type": "markdown",
   "metadata": {},
   "source": [
    "#### Визуализация результатов"
   ]
  },
  {
   "cell_type": "code",
   "execution_count": 95,
   "metadata": {},
   "outputs": [],
   "source": [
    "for index, row in data.iterrows():\n",
    "    image = cv2.imread('/home/kirillk/datasets/OCR/ocr_ttn/jpg/first_pages/' + row['filename'])\n",
    "    image = cv2.resize(image, (0, 0), fx=0.3, fy=0.3)\n",
    "    height, width, _ = image.shape\n",
    "        \n",
    "    x1 = int(doc_type_x1 * width)\n",
    "    y1 = int(doc_type_y1 * height)\n",
    "    x2 = int(doc_type_x2 * width)\n",
    "    y2 = int(doc_type_y2 * height)\n",
    "    \n",
    "    image = cv2.rectangle(image, (x1, y1), (x2, y2), (0, 0, 255), 1)\n",
    "    cv2.imshow('Document', image)\n",
    "    cv2.waitKey(0)\n",
    "    cv2.destroyAllWindows()\n",
    "    \n",
    "#     if index == 7:\n",
    "#         break"
   ]
  },
  {
   "cell_type": "markdown",
   "metadata": {},
   "source": [
    "**Вывод:** принимаем следующие параметры дефолтного региона **Тип документа**\n",
    "\n",
    "Левый верхний угол координаиа x = 0.1592\n",
    "\n",
    "Левый верхний угол координата y = 0.0682\n",
    "\n",
    "ширина региона = 0.1180\n",
    "\n",
    "высота региона = 0.0779"
   ]
  },
  {
   "cell_type": "markdown",
   "metadata": {},
   "source": [
    "### Дефолтные значения для номера документа"
   ]
  },
  {
   "cell_type": "code",
   "execution_count": 103,
   "metadata": {},
   "outputs": [
    {
     "data": {
      "text/plain": [
       "0.356974374500453"
      ]
     },
     "execution_count": 103,
     "metadata": {},
     "output_type": "execute_result"
    }
   ],
   "source": [
    "doc_number_x1 = data['doc_number_box_left'].min()\n",
    "doc_number_x1"
   ]
  },
  {
   "cell_type": "code",
   "execution_count": 104,
   "metadata": {},
   "outputs": [
    {
     "data": {
      "text/plain": [
       "0.145090027327508"
      ]
     },
     "execution_count": 104,
     "metadata": {},
     "output_type": "execute_result"
    }
   ],
   "source": [
    "doc_number_y1 = data['doc_number_box_top'].min()\n",
    "doc_number_y1"
   ]
  },
  {
   "cell_type": "code",
   "execution_count": 105,
   "metadata": {},
   "outputs": [
    {
     "data": {
      "text/plain": [
       "0.501781303489269"
      ]
     },
     "execution_count": 105,
     "metadata": {},
     "output_type": "execute_result"
    }
   ],
   "source": [
    "doc_number_x2 = data['doc_number_box_left'].max() + data['doc_number_box_width'].mean()\n",
    "doc_number_x2"
   ]
  },
  {
   "cell_type": "code",
   "execution_count": 106,
   "metadata": {},
   "outputs": [
    {
     "data": {
      "text/plain": [
       "0.21665756093500205"
      ]
     },
     "execution_count": 106,
     "metadata": {},
     "output_type": "execute_result"
    }
   ],
   "source": [
    "doc_number_y2 = data['doc_number_box_top'].max() + data['doc_number_box_height'].mean()\n",
    "doc_number_y2"
   ]
  },
  {
   "cell_type": "code",
   "execution_count": 107,
   "metadata": {},
   "outputs": [
    {
     "data": {
      "text/plain": [
       "0.14480692898881597"
      ]
     },
     "execution_count": 107,
     "metadata": {},
     "output_type": "execute_result"
    }
   ],
   "source": [
    "doc_number_default_width = doc_number_x2 - doc_number_x1\n",
    "doc_number_default_width"
   ]
  },
  {
   "cell_type": "code",
   "execution_count": 108,
   "metadata": {},
   "outputs": [
    {
     "data": {
      "text/plain": [
       "0.07156753360749404"
      ]
     },
     "execution_count": 108,
     "metadata": {},
     "output_type": "execute_result"
    }
   ],
   "source": [
    "doc_number_default_height = doc_number_y2 - doc_number_y1\n",
    "doc_number_default_height"
   ]
  },
  {
   "cell_type": "markdown",
   "metadata": {},
   "source": [
    "#### Визуализация результатов"
   ]
  },
  {
   "cell_type": "code",
   "execution_count": 109,
   "metadata": {},
   "outputs": [],
   "source": [
    "for index, row in data.iterrows():\n",
    "    image = cv2.imread('/home/kirillk/datasets/OCR/ocr_ttn/jpg/first_pages/' + row['filename'])\n",
    "    image = cv2.resize(image, (0, 0), fx=0.6, fy=0.6)\n",
    "    height, width, _ = image.shape\n",
    "        \n",
    "    x1 = int(doc_number_x1 * width)\n",
    "    y1 = int(doc_number_y1 * height)\n",
    "    x2 = int(doc_number_x2 * width)\n",
    "    y2 = int(doc_number_y2 * height)\n",
    "    \n",
    "    image = cv2.rectangle(image, (x1, y1), (x2, y2), (0, 0, 255), 1)\n",
    "    cv2.imshow('Document', image)\n",
    "    cv2.waitKey(0)\n",
    "    cv2.destroyAllWindows()\n",
    "    \n",
    "    if index == 7:\n",
    "        break"
   ]
  },
  {
   "cell_type": "markdown",
   "metadata": {},
   "source": [
    "**Вывод:** принимаем следующие параметры дефолтного региона **Номер документа**\n",
    "\n",
    "Левый верхний угол координаиа x = 0.3569\n",
    "\n",
    "Левый верхний угол координата y = 0.1450\n",
    "\n",
    "ширина региона = 0.1449\n",
    "\n",
    "высота региона = 0.0716"
   ]
  },
  {
   "cell_type": "markdown",
   "metadata": {},
   "source": [
    "### Дефолтные значения для даты документа"
   ]
  },
  {
   "cell_type": "raw",
   "metadata": {},
   "source": [
    "doc_date_x1 = data['doc_date_box_left'].min()\n",
    "doc_date_x1"
   ]
  },
  {
   "cell_type": "raw",
   "metadata": {},
   "source": [
    "doc_date_y1 = data['doc_date_box_top'].min()\n",
    "doc_date_y1"
   ]
  },
  {
   "cell_type": "raw",
   "metadata": {},
   "source": [
    "doc_date_x2 = data['doc_date_box_left'].max() + data['doc_date_box_width'].max()\n",
    "doc_date_x2"
   ]
  },
  {
   "cell_type": "raw",
   "metadata": {},
   "source": [
    "doc_date_y2 = data['doc_date_box_top'].max() + data['doc_date_box_height'].max()\n",
    "doc_date_y2"
   ]
  },
  {
   "cell_type": "raw",
   "metadata": {},
   "source": [
    "doc_date_default_width = doc_date_x2 - doc_date_x1\n",
    "doc_date_default_width"
   ]
  },
  {
   "cell_type": "raw",
   "metadata": {},
   "source": [
    "doc_date_default_height = doc_date_y2 - doc_date_y1\n",
    "doc_date_default_height"
   ]
  },
  {
   "cell_type": "raw",
   "metadata": {},
   "source": [
    "#### Визуализация результатов"
   ]
  },
  {
   "cell_type": "raw",
   "metadata": {},
   "source": [
    "for index, row in data.iterrows():\n",
    "    image = cv2.imread('/home/kirillk/datasets/OCR/ocr_schet_factura_1/' + row['filename'])\n",
    "    image = cv2.resize(image, (0, 0), fx=0.6, fy=0.6)\n",
    "    height, width, _ = image.shape\n",
    "        \n",
    "    x1 = int(doc_date_x1 * width)\n",
    "    y1 = int(doc_date_y1 * height)\n",
    "    x2 = int(doc_date_x2 * width)\n",
    "    y2 = int(doc_date_y2 * height)\n",
    "    \n",
    "    image = cv2.rectangle(image, (x1, y1), (x2, y2), (0, 0, 255), 1)\n",
    "    cv2.imshow('Document', image)\n",
    "    cv2.waitKey(0)\n",
    "    cv2.destroyAllWindows()\n",
    "    \n",
    "#     if index == 2:\n",
    "#         break"
   ]
  },
  {
   "cell_type": "markdown",
   "metadata": {},
   "source": [
    "**Вывод:** принимаем следующие параметры дефолтного региона **Дата документа**\n",
    "\n",
    "Левый верхний угол координаиа x = 0.2286\n",
    "\n",
    "Левый верхний угол координата y = 0.0339\n",
    "\n",
    "ширина региона = 0.1459\n",
    "\n",
    "высота региона = 0.0505"
   ]
  },
  {
   "cell_type": "code",
   "execution_count": null,
   "metadata": {},
   "outputs": [],
   "source": []
  }
 ],
 "metadata": {
  "kernelspec": {
   "display_name": "distance_calculation",
   "language": "python",
   "name": "distance_calculation"
  },
  "language_info": {
   "codemirror_mode": {
    "name": "ipython",
    "version": 3
   },
   "file_extension": ".py",
   "mimetype": "text/x-python",
   "name": "python",
   "nbconvert_exporter": "python",
   "pygments_lexer": "ipython3",
   "version": "3.9.13"
  }
 },
 "nbformat": 4,
 "nbformat_minor": 4
}
