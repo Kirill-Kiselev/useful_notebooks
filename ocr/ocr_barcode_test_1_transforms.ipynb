{
 "cells": [
  {
   "cell_type": "markdown",
   "metadata": {},
   "source": [
    "# Исследование влияния преобразования изображений документов на качество детекции и распознавания штрих-кодов\n",
    "- Автор: Кирилл Киселев\n",
    "- Дата начала: 05.04.2022\n",
    "- Описание исследования: в наборе данных имеется 205 сканов документов ТОРГ-12 разного качества. На каждом скане имеется штрих-код, который необходимо детектировать и распознать. Тестирование прототипа производилось спрева на \"сырых\" данных - изображения не подвергались преобразовниям кроме обрезания области детекции. При ттестирования прототипа штрих-код не был обнаружен на 11 документов. Задача исследования подобрать типы преобразований необходимые для распознваваний штрих-кодов на 100% изображений."
   ]
  },
  {
   "cell_type": "raw",
   "metadata": {},
   "source": [
    "!pip install numpy==1.22.3\n",
    "!pip install pandas==1.4.1\n",
    "!pip install opencv-python==4.5.5.64\n",
    "!pip install ipykernel==6.11.0\n",
    "!pip install pdf2image==1.16\n",
    "!pip install filterpy==1.4.5\n",
    "!pip install tqdm==4.63.1\n",
    "!pip install pillow==9.0.1\n",
    "!pip install tensorflow==2.8\n",
    "!pip install nptyping==1.4.4\n",
    "!pip install matplotlib==3.5.1\n",
    "!pip install seaborn==0.11.2\n",
    "!pip install diffimg==0.3.0\n",
    "!pip install qrcode==7.3.1\n",
    "!pip install pyzbar==0.1.9"
   ]
  },
  {
   "cell_type": "markdown",
   "metadata": {},
   "source": [
    "## 1. Проблемные изображения"
   ]
  },
  {
   "cell_type": "raw",
   "metadata": {},
   "source": [
    "# Исходный список\n",
    "038.jpg\n",
    "039.jpg\n",
    "040.jpg\n",
    "041.jpg\n",
    "042.jpg\n",
    "043.jpg\n",
    "044.jpg\n",
    "095.jpg\n",
    "146.jpg\n",
    "157.jpg\n",
    "159.jpg"
   ]
  },
  {
   "cell_type": "markdown",
   "metadata": {},
   "source": [
    "## 2. Загрузка библиотек"
   ]
  },
  {
   "cell_type": "code",
   "execution_count": 2,
   "metadata": {},
   "outputs": [],
   "source": [
    "import cv2\n",
    "import numpy as np\n",
    "import matplotlib as plt\n",
    "import os\n",
    "import math\n",
    "from PIL import Image\n",
    "from pyzbar import pyzbar"
   ]
  },
  {
   "cell_type": "markdown",
   "metadata": {},
   "source": [
    "## 3. Глобальные переменные"
   ]
  },
  {
   "cell_type": "code",
   "execution_count": 3,
   "metadata": {},
   "outputs": [
    {
     "name": "stdout",
     "output_type": "stream",
     "text": [
      "/home/kirillk/PycharmProjects/useful_notebooks\r\n"
     ]
    }
   ],
   "source": [
    "!pwd"
   ]
  },
  {
   "cell_type": "code",
   "execution_count": 4,
   "metadata": {},
   "outputs": [],
   "source": [
    "FILE_PATH = '/home/kirillk/datasets/OCR/ocr_test_cases_2/'"
   ]
  },
  {
   "cell_type": "markdown",
   "metadata": {},
   "source": [
    "## 4. Необходимые функции"
   ]
  },
  {
   "cell_type": "code",
   "execution_count": 5,
   "metadata": {},
   "outputs": [],
   "source": [
    "def draw_barcode(decoded, image):\n",
    "    image = cv2.rectangle(image, (decoded.rect.left, decoded.rect.top),\n",
    "                          (decoded.rect.left + decoded.rect.width, decoded.rect.top + decoded.rect.height),\n",
    "                          color=(0, 255, 0),\n",
    "                          thickness=5)\n",
    "    return image"
   ]
  },
  {
   "cell_type": "code",
   "execution_count": 6,
   "metadata": {},
   "outputs": [],
   "source": [
    "def decode(image):\n",
    "    # decodes all barcodes from an image\n",
    "    decoded_objects = pyzbar.decode(image)\n",
    "    \n",
    "    for obj in decoded_objects:\n",
    "        # draw the barcode\n",
    "        print(f\"Обнаружен штрих-код:\\n{obj}\")\n",
    "        image = draw_barcode(obj, image)\n",
    "        # print barcode type & data\n",
    "        # print(\"Тип:\", obj.type)\n",
    "        print(\"Данные:\", obj.data)\n",
    "        print()\n",
    "\n",
    "    return len(decoded_objects), image"
   ]
  },
  {
   "cell_type": "markdown",
   "metadata": {},
   "source": [
    "## 5. Распознавание штрих-кода"
   ]
  },
  {
   "cell_type": "code",
   "execution_count": 7,
   "metadata": {},
   "outputs": [],
   "source": [
    "jpg_list = []"
   ]
  },
  {
   "cell_type": "code",
   "execution_count": 8,
   "metadata": {},
   "outputs": [],
   "source": [
    "for file in os.listdir(FILE_PATH):\n",
    "    if file.endswith('.jpg'):\n",
    "        jpg_list.append(file)"
   ]
  },
  {
   "cell_type": "code",
   "execution_count": 9,
   "metadata": {},
   "outputs": [],
   "source": [
    "jpg_list = sorted(jpg_list)"
   ]
  },
  {
   "cell_type": "code",
   "execution_count": 10,
   "metadata": {},
   "outputs": [],
   "source": [
    "bad_barcodes_list = []"
   ]
  },
  {
   "cell_type": "code",
   "execution_count": 13,
   "metadata": {},
   "outputs": [
    {
     "name": "stdout",
     "output_type": "stream",
     "text": [
      "----------------001.jpg----------------\n",
      "----------------002.jpg----------------\n",
      "----------------003.jpg----------------\n",
      "----------------004.jpg----------------\n",
      "----------------005.jpg----------------\n",
      "----------------006.jpg----------------\n",
      "----------------007.jpg----------------\n",
      "----------------008.jpg----------------\n",
      "----------------009.jpg----------------\n",
      "----------------010.jpg----------------\n",
      "----------------011.jpg----------------\n",
      "----------------012.jpg----------------\n",
      "Обнаружен штрих-код:\n",
      "Decoded(data=b'2810142821818', type='EAN13', rect=Rect(left=76, top=70, width=157, height=16), polygon=[Point(x=76, y=77), Point(x=76, y=81), Point(x=233, y=86), Point(x=233, y=70), Point(x=77, y=71)], quality=15, orientation='UP')\n",
      "Данные: b'2810142821818'\n",
      "\n",
      "----------------013.jpg----------------\n",
      "Обнаружен штрих-код:\n",
      "Decoded(data=b'2810142821825', type='EAN13', rect=Rect(left=88, top=48, width=157, height=12), polygon=[Point(x=88, y=49), Point(x=88, y=55), Point(x=165, y=59), Point(x=245, y=60), Point(x=245, y=48)], quality=12, orientation='UP')\n",
      "Данные: b'2810142821825'\n",
      "\n",
      "----------------014.jpg----------------\n",
      "Обнаружен штрих-код:\n",
      "Decoded(data=b'2860577674626', type='EAN13', rect=Rect(left=100, top=28, width=164, height=12), polygon=[Point(x=100, y=33), Point(x=100, y=35), Point(x=264, y=40), Point(x=264, y=28), Point(x=101, y=29)], quality=11, orientation='UP')\n",
      "Данные: b'2860577674626'\n",
      "\n",
      "----------------015.jpg----------------\n",
      "Обнаружен штрих-код:\n",
      "Decoded(data=b'2810141883992', type='EAN13', rect=Rect(left=129, top=22, width=151, height=12), polygon=[Point(x=129, y=27), Point(x=129, y=33), Point(x=280, y=34), Point(x=280, y=22), Point(x=130, y=23)], quality=13, orientation='UP')\n",
      "Данные: b'2810141883992'\n",
      "\n",
      "----------------016.jpg----------------\n",
      "Обнаружен штрих-код:\n",
      "Decoded(data=b'2860607202485', type='EAN13', rect=Rect(left=77, top=62, width=161, height=18), polygon=[Point(x=77, y=63), Point(x=77, y=69), Point(x=78, y=79), Point(x=238, y=80), Point(x=238, y=72), Point(x=237, y=62)], quality=19, orientation='UP')\n",
      "Данные: b'2860607202485'\n",
      "\n",
      "----------------017.jpg----------------\n",
      "----------------018.jpg----------------\n",
      "----------------019.jpg----------------\n",
      "----------------020.jpg----------------\n",
      "Обнаружен штрих-код:\n",
      "Decoded(data=b'2810148772879', type='EAN13', rect=Rect(left=155, top=59, width=145, height=12), polygon=[Point(x=155, y=59), Point(x=156, y=71), Point(x=300, y=70), Point(x=300, y=60)], quality=15, orientation='UP')\n",
      "Данные: b'2810148772879'\n",
      "\n",
      "----------------021.jpg----------------\n",
      "Обнаружен штрих-код:\n",
      "Decoded(data=b'2810148772879', type='EAN13', rect=Rect(left=79, top=89, width=135, height=6), polygon=[Point(x=79, y=89), Point(x=145, y=95), Point(x=214, y=94), Point(x=214, y=90)], quality=6, orientation='UP')\n",
      "Данные: b'2810148772879'\n",
      "\n"
     ]
    }
   ],
   "source": [
    "for file in jpg_list:\n",
    "    print(f'----------------{file}----------------')\n",
    "    image = cv2.imread(FILE_PATH + file)\n",
    "    image = image[0:image.shape[0], 0:int(image.shape[1]*0.25)]\n",
    "#     image = cv2.GaussianBlur(image, (7, 7), 0)    \n",
    "    \n",
    "    bar_code_qty, img = decode(image)\n",
    "    if bar_code_qty == 0:\n",
    "        bad_barcodes_list.append(file)\n",
    "        \n",
    "    cv2.imshow(\"Image\", image)\n",
    "    cv2.waitKey(0)\n",
    "    cv2.destroyAllWindows()"
   ]
  },
  {
   "cell_type": "code",
   "execution_count": 39,
   "metadata": {},
   "outputs": [
    {
     "data": {
      "text/plain": [
       "['001.jpg',\n",
       " '002.jpg',\n",
       " '003.jpg',\n",
       " '004.jpg',\n",
       " '005.jpg',\n",
       " '006.jpg',\n",
       " '007.jpg',\n",
       " '008.jpg',\n",
       " '009.jpg',\n",
       " '010.jpg',\n",
       " '011.jpg']"
      ]
     },
     "execution_count": 39,
     "metadata": {},
     "output_type": "execute_result"
    }
   ],
   "source": [
    "sorted(bad_barcodes_list)"
   ]
  },
  {
   "cell_type": "code",
   "execution_count": null,
   "metadata": {},
   "outputs": [],
   "source": []
  },
  {
   "cell_type": "markdown",
   "metadata": {},
   "source": [
    "## 5. Применение Гауссовского блюра на нераспознанные документы"
   ]
  },
  {
   "cell_type": "code",
   "execution_count": 6,
   "metadata": {},
   "outputs": [],
   "source": [
    "# исходный список нараспознанных документов\n",
    "bad_barcodes_list = ['038.jpg', '039.jpg', '040.jpg',\n",
    "                     '041.jpg', '042.jpg', '043.jpg',\n",
    "                     '044.jpg', '095.jpg', '146.jpg',\n",
    "                     '157.jpg', '159.jpg']"
   ]
  },
  {
   "cell_type": "code",
   "execution_count": 7,
   "metadata": {},
   "outputs": [],
   "source": [
    "# список документов с нераспознанным штрих-кодом\n",
    "bad_barcodes_list_1 = []"
   ]
  },
  {
   "cell_type": "code",
   "execution_count": 18,
   "metadata": {},
   "outputs": [
    {
     "name": "stdout",
     "output_type": "stream",
     "text": [
      "----------------010.jpg----------------\n",
      "----------------003.jpg----------------\n",
      "----------------004.jpg----------------\n",
      "----------------007.jpg----------------\n",
      "----------------011.jpg----------------\n",
      "----------------009.jpg----------------\n",
      "----------------008.jpg----------------\n",
      "----------------005.jpg----------------\n",
      "----------------002.jpg----------------\n",
      "----------------001.jpg----------------\n",
      "----------------006.jpg----------------\n"
     ]
    }
   ],
   "source": [
    "for file in bad_barcodes_list:\n",
    "    print(f'----------------{file}----------------')\n",
    "    image = cv2.imread(FILE_PATH + file)\n",
    "    image = cv2.GaussianBlur(image, (7, 7), 0)\n",
    "    \n",
    "    bar_code_qty, img = decode(image)\n",
    "    if bar_code_qty == 0:\n",
    "        bad_barcodes_list_1.append(file)\n",
    "    "
   ]
  },
  {
   "cell_type": "code",
   "execution_count": 9,
   "metadata": {},
   "outputs": [
    {
     "data": {
      "text/plain": [
       "['095.jpg', '146.jpg', '157.jpg', '159.jpg']"
      ]
     },
     "execution_count": 9,
     "metadata": {},
     "output_type": "execute_result"
    }
   ],
   "source": [
    "bad_barcodes_list_1"
   ]
  },
  {
   "cell_type": "markdown",
   "metadata": {},
   "source": [
    "### Вывод\n",
    "<br>Гауссовский блюр позволил распознать 7 изображений из 11."
   ]
  },
  {
   "cell_type": "markdown",
   "metadata": {},
   "source": [
    "## 6. Не распознанные изображения после Гауссовского блюра"
   ]
  },
  {
   "cell_type": "markdown",
   "metadata": {},
   "source": [
    "- 095.jpg - непонятно, почему не распознано\n",
    "- 146.jpg - шум\n",
    "- 157.jpg - блюр\n",
    "- 159.jpg - блюр"
   ]
  },
  {
   "cell_type": "markdown",
   "metadata": {},
   "source": [
    "## 7. Случай с \"непонятным\" изображением 095.jpg"
   ]
  },
  {
   "cell_type": "code",
   "execution_count": 10,
   "metadata": {},
   "outputs": [
    {
     "name": "stdout",
     "output_type": "stream",
     "text": [
      "Обнаружен штрих-код:\n",
      "Decoded(data=b'2860591580422', type='EAN13', rect=Rect(left=413, top=348, width=662, height=66), polygon=[Point(x=413, y=377), Point(x=728, y=413), Point(x=1075, y=414), Point(x=1075, y=370), Point(x=1074, y=348), Point(x=749, y=348), Point(x=728, y=349)], quality=69, orientation='UP')\n",
      "Данные: b'2860591580422'\n",
      "\n"
     ]
    }
   ],
   "source": [
    "image = cv2.imread(FILE_PATH + bad_barcodes_list_1[0])\n",
    "image = image[0:image.shape[0], 0:int(image.shape[1]*0.25)]\n",
    "image = cv2.blur(image,(7, 7), 0)\n",
    "barcode_list, img = decode(image)"
   ]
  },
  {
   "cell_type": "markdown",
   "metadata": {},
   "source": [
    "### Вывод\n",
    "<br>Замена Гауссовского блюра на простой блюр позволило распознать изображение 095.jpg."
   ]
  },
  {
   "cell_type": "markdown",
   "metadata": {},
   "source": [
    "## 8. Случай с зашумленным изображением 146.jpg"
   ]
  },
  {
   "cell_type": "code",
   "execution_count": 11,
   "metadata": {},
   "outputs": [
    {
     "name": "stdout",
     "output_type": "stream",
     "text": [
      "Обнаружен штрих-код:\n",
      "Decoded(data=b'2860601473409', type='EAN13', rect=Rect(left=307, top=285, width=675, height=56), polygon=[Point(x=307, y=287), Point(x=307, y=291), Point(x=309, y=341), Point(x=634, y=341), Point(x=980, y=340), Point(x=982, y=308), Point(x=982, y=306), Point(x=980, y=286), Point(x=634, y=285)], quality=64, orientation='UP')\n",
      "Данные: b'2860601473409'\n",
      "\n"
     ]
    }
   ],
   "source": [
    "image = cv2.imread(FILE_PATH + bad_barcodes_list_1[1])\n",
    "image = image[0:image.shape[0], 0:int(image.shape[1]*0.25)]\n",
    "image = cv2.GaussianBlur(image, (7, 7), 0)\n",
    "# image = cv2.blur(image, (5, 5), 0)\n",
    "image = cv2.cvtColor(image, cv2.COLOR_BGR2GRAY)\n",
    "_, image = cv2.threshold(image, 130, 255, cv2.THRESH_BINARY)\n",
    "\n",
    "_, img = decode(image)\n",
    "\n",
    "# cv2.imshow(\"Image\", img)\n",
    "# cv2.waitKey(0)\n",
    "# cv2.destroyAllWindows()"
   ]
  },
  {
   "cell_type": "markdown",
   "metadata": {},
   "source": [
    "### Вывод\n",
    "<br>Зашумленное изображение можно распознать применив либо `blur` либо `Gaussian` затем<br>\n",
    "`image = cv2.cvtColor(image, cv2.COLOR_BGR2GRAY)\n",
    "_, image = cv2.threshold(image, 130, 255, cv2.THRESH_BINARY)`"
   ]
  },
  {
   "cell_type": "markdown",
   "metadata": {},
   "source": [
    "## 9. Случай с размытым изображением 157.jpg"
   ]
  },
  {
   "cell_type": "code",
   "execution_count": 12,
   "metadata": {},
   "outputs": [],
   "source": [
    "threshold_list_157 = []"
   ]
  },
  {
   "cell_type": "code",
   "execution_count": 13,
   "metadata": {},
   "outputs": [
    {
     "name": "stdout",
     "output_type": "stream",
     "text": [
      "Обнаружен штрих-код:\n",
      "Decoded(data=b'2860610590685', type='EAN13', rect=Rect(left=252, top=177, width=676, height=20), polygon=[Point(x=252, y=181), Point(x=581, y=197), Point(x=928, y=196), Point(x=928, y=180), Point(x=583, y=177)], quality=14, orientation='UP')\n",
      "Данные: b'2860610590685'\n",
      "\n",
      "Обнаружен штрих-код:\n",
      "Decoded(data=b'2860610590685', type='EAN13', rect=Rect(left=251, top=174, width=677, height=46), polygon=[Point(x=251, y=181), Point(x=928, y=220), Point(x=928, y=174), Point(x=252, y=175)], quality=21, orientation='UP')\n",
      "Данные: b'2860610590685'\n",
      "\n",
      "Обнаружен штрих-код:\n",
      "Decoded(data=b'2860610590685', type='EAN13', rect=Rect(left=251, top=175, width=678, height=44), polygon=[Point(x=251, y=179), Point(x=251, y=181), Point(x=580, y=219), Point(x=928, y=198), Point(x=929, y=182), Point(x=928, y=178), Point(x=581, y=175), Point(x=252, y=175)], quality=26, orientation='UP')\n",
      "Данные: b'2860610590685'\n",
      "\n",
      "Обнаружен штрих-код:\n",
      "Decoded(data=b'2860610590685', type='EAN13', rect=Rect(left=251, top=175, width=678, height=44), polygon=[Point(x=251, y=177), Point(x=251, y=181), Point(x=252, y=183), Point(x=580, y=219), Point(x=928, y=218), Point(x=929, y=182), Point(x=928, y=178), Point(x=581, y=175), Point(x=252, y=175)], quality=28, orientation='UP')\n",
      "Данные: b'2860610590685'\n",
      "\n",
      "Обнаружен штрих-код:\n",
      "Decoded(data=b'2860610590685', type='EAN13', rect=Rect(left=251, top=179, width=678, height=39), polygon=[Point(x=251, y=179), Point(x=251, y=181), Point(x=252, y=183), Point(x=581, y=213), Point(x=928, y=218), Point(x=929, y=198), Point(x=929, y=182), Point(x=928, y=180), Point(x=580, y=179)], quality=23, orientation='UP')\n",
      "Данные: b'2860610590685'\n",
      "\n",
      "Обнаружен штрих-код:\n",
      "Decoded(data=b'2860610590685', type='EAN13', rect=Rect(left=251, top=180, width=678, height=40), polygon=[Point(x=251, y=181), Point(x=251, y=183), Point(x=580, y=217), Point(x=929, y=220), Point(x=929, y=180)], quality=22, orientation='UP')\n",
      "Данные: b'2860610590685'\n",
      "\n",
      "Обнаружен штрих-код:\n",
      "Decoded(data=b'2860610590685', type='EAN13', rect=Rect(left=251, top=181, width=678, height=38), polygon=[Point(x=251, y=181), Point(x=251, y=183), Point(x=580, y=219), Point(x=929, y=218), Point(x=929, y=182)], quality=16, orientation='UP')\n",
      "Данные: b'2860610590685'\n",
      "\n",
      "Обнаружен штрих-код:\n",
      "Decoded(data=b'2860610590685', type='EAN13', rect=Rect(left=251, top=179, width=678, height=40), polygon=[Point(x=251, y=179), Point(x=579, y=219), Point(x=929, y=218), Point(x=929, y=180), Point(x=579, y=179)], quality=17, orientation='UP')\n",
      "Данные: b'2860610590685'\n",
      "\n",
      "Обнаружен штрих-код:\n",
      "Decoded(data=b'2860610590685', type='EAN13', rect=Rect(left=251, top=181, width=678, height=38), polygon=[Point(x=251, y=181), Point(x=579, y=219), Point(x=929, y=218), Point(x=929, y=182)], quality=10, orientation='UP')\n",
      "Данные: b'2860610590685'\n",
      "\n",
      "CPU times: user 11.4 s, sys: 808 ms, total: 12.2 s\n",
      "Wall time: 10.6 s\n"
     ]
    }
   ],
   "source": [
    "%%time\n",
    "\n",
    "for i in range (180, 200):\n",
    "    image = cv2.imread(FILE_PATH + bad_barcodes_list_1[2])\n",
    "    image = cv2.GaussianBlur(image, (1, 1), 0)\n",
    "    image = cv2.cvtColor(image, cv2.COLOR_BGR2GRAY)\n",
    "    _, image = cv2.threshold(image, i, 255, cv2.THRESH_BINARY)\n",
    "    \n",
    "    barcode_qty, img = decode(image)\n",
    "    if barcode_qty > 0:\n",
    "        threshold_list_157.append(i)"
   ]
  },
  {
   "cell_type": "code",
   "execution_count": 14,
   "metadata": {},
   "outputs": [
    {
     "data": {
      "text/plain": [
       "[189, 190, 191, 192, 193, 194, 195, 196, 197]"
      ]
     },
     "execution_count": 14,
     "metadata": {},
     "output_type": "execute_result"
    }
   ],
   "source": [
    "threshold_list_157"
   ]
  },
  {
   "cell_type": "code",
   "execution_count": 15,
   "metadata": {},
   "outputs": [
    {
     "name": "stdout",
     "output_type": "stream",
     "text": [
      "Обнаружен штрих-код:\n",
      "Decoded(data=b'2860610590685', type='EAN13', rect=Rect(left=251, top=181, width=678, height=38), polygon=[Point(x=251, y=181), Point(x=579, y=219), Point(x=929, y=218), Point(x=929, y=182)], quality=10, orientation='UP')\n",
      "Данные: b'2860610590685'\n",
      "\n"
     ]
    }
   ],
   "source": [
    "image = cv2.imread(FILE_PATH + bad_barcodes_list_1[2])\n",
    "image = cv2.GaussianBlur(image, (1, 1), 0)\n",
    "image = cv2.cvtColor(image, cv2.COLOR_BGR2GRAY)\n",
    "_, image = cv2.threshold(image, threshold_list_157[-1], 255, cv2.THRESH_BINARY)\n",
    "    \n",
    "_, img = decode(image)\n",
    "\n",
    "# cv2.imshow(\"Image\", img)\n",
    "# cv2.waitKey(0)\n",
    "# cv2.destroyAllWindows()"
   ]
  },
  {
   "cell_type": "markdown",
   "metadata": {},
   "source": [
    "## 10. Случай с размытым изображением 159.jpg"
   ]
  },
  {
   "cell_type": "code",
   "execution_count": 16,
   "metadata": {},
   "outputs": [],
   "source": [
    "threshold_list_159 = []"
   ]
  },
  {
   "cell_type": "code",
   "execution_count": 17,
   "metadata": {},
   "outputs": [
    {
     "name": "stdout",
     "output_type": "stream",
     "text": [
      "Обнаружен штрих-код:\n",
      "Decoded(data=b'2860610411164', type='EAN13', rect=Rect(left=231, top=141, width=655, height=7), polygon=[Point(x=231, y=141), Point(x=231, y=145), Point(x=233, y=147), Point(x=886, y=148), Point(x=886, y=142)], quality=8, orientation='UP')\n",
      "Данные: b'2860610411164'\n",
      "\n",
      "Обнаружен штрих-код:\n",
      "Decoded(data=b'2860610411164', type='EAN13', rect=Rect(left=231, top=146, width=655, height=4), polygon=[Point(x=231, y=147), Point(x=233, y=149), Point(x=569, y=150), Point(x=886, y=148), Point(x=886, y=146), Point(x=568, y=146)], quality=9, orientation='UP')\n",
      "Данные: b'2860610411164'\n",
      "\n",
      "Обнаружен штрих-код:\n",
      "Decoded(data=b'2860610411164', type='EAN13', rect=Rect(left=230, top=143, width=656, height=7), polygon=[Point(x=230, y=143), Point(x=231, y=149), Point(x=569, y=150), Point(x=886, y=148)], quality=7, orientation='UP')\n",
      "Данные: b'2860610411164'\n",
      "\n",
      "Обнаружен штрих-код:\n",
      "Decoded(data=b'2860610411164', type='EAN13', rect=Rect(left=230, top=142, width=656, height=8), polygon=[Point(x=230, y=143), Point(x=231, y=149), Point(x=570, y=150), Point(x=886, y=142), Point(x=569, y=142)], quality=9, orientation='UP')\n",
      "Данные: b'2860610411164'\n",
      "\n",
      "Обнаружен штрих-код:\n",
      "Decoded(data=b'2860610411164', type='EAN13', rect=Rect(left=230, top=142, width=656, height=9), polygon=[Point(x=230, y=143), Point(x=230, y=145), Point(x=231, y=151), Point(x=886, y=150), Point(x=886, y=142), Point(x=569, y=142)], quality=13, orientation='UP')\n",
      "Данные: b'2860610411164'\n",
      "\n",
      "Обнаружен штрих-код:\n",
      "Decoded(data=b'2860610411164', type='EAN13', rect=Rect(left=230, top=124, width=656, height=27), polygon=[Point(x=230, y=133), Point(x=230, y=147), Point(x=231, y=151), Point(x=886, y=150), Point(x=886, y=124), Point(x=570, y=124)], quality=23, orientation='UP')\n",
      "Данные: b'2860610411164'\n",
      "\n",
      "Обнаружен штрих-код:\n",
      "Decoded(data=b'2860610411164', type='EAN13', rect=Rect(left=230, top=122, width=657, height=30), polygon=[Point(x=230, y=133), Point(x=230, y=147), Point(x=570, y=152), Point(x=886, y=138), Point(x=887, y=122), Point(x=570, y=122), Point(x=231, y=123)], quality=19, orientation='UP')\n",
      "Данные: b'2860610411164'\n",
      "\n",
      "Обнаружен штрих-код:\n",
      "Decoded(data=b'2860610411164', type='EAN13', rect=Rect(left=230, top=120, width=657, height=30), polygon=[Point(x=230, y=123), Point(x=230, y=149), Point(x=570, y=150), Point(x=887, y=148), Point(x=887, y=120), Point(x=570, y=120), Point(x=231, y=121)], quality=32, orientation='UP')\n",
      "Данные: b'2860610411164'\n",
      "\n",
      "Обнаружен штрих-код:\n",
      "Decoded(data=b'2860610411164', type='EAN13', rect=Rect(left=230, top=120, width=657, height=29), polygon=[Point(x=230, y=121), Point(x=230, y=149), Point(x=570, y=148), Point(x=887, y=140), Point(x=887, y=120), Point(x=570, y=120)], quality=30, orientation='UP')\n",
      "Данные: b'2860610411164'\n",
      "\n",
      "Обнаружен штрих-код:\n",
      "Decoded(data=b'2860610411164', type='EAN13', rect=Rect(left=229, top=121, width=658, height=27), polygon=[Point(x=229, y=135), Point(x=229, y=139), Point(x=230, y=147), Point(x=570, y=148), Point(x=887, y=138), Point(x=887, y=122), Point(x=230, y=121)], quality=20, orientation='UP')\n",
      "Данные: b'2860610411164'\n",
      "\n",
      "Обнаружен штрих-код:\n",
      "Decoded(data=b'2860610411164', type='EAN13', rect=Rect(left=229, top=117, width=658, height=31), polygon=[Point(x=229, y=131), Point(x=229, y=137), Point(x=230, y=147), Point(x=570, y=148), Point(x=887, y=142), Point(x=887, y=118), Point(x=230, y=117)], quality=29, orientation='UP')\n",
      "Данные: b'2860610411164'\n",
      "\n",
      "Обнаружен штрих-код:\n",
      "Decoded(data=b'2860610411164', type='EAN13', rect=Rect(left=229, top=114, width=658, height=38), polygon=[Point(x=229, y=129), Point(x=229, y=143), Point(x=230, y=147), Point(x=571, y=152), Point(x=887, y=152), Point(x=887, y=118), Point(x=886, y=114), Point(x=570, y=114), Point(x=230, y=115)], quality=34, orientation='UP')\n",
      "Данные: b'2860610411164'\n",
      "\n",
      "Обнаружен штрих-код:\n",
      "Decoded(data=b'2860610411164', type='EAN13', rect=Rect(left=229, top=111, width=658, height=41), polygon=[Point(x=229, y=131), Point(x=229, y=147), Point(x=570, y=152), Point(x=887, y=120), Point(x=887, y=118), Point(x=886, y=114), Point(x=570, y=112), Point(x=231, y=111), Point(x=230, y=117)], quality=25, orientation='UP')\n",
      "Данные: b'2860610411164'\n",
      "\n",
      "CPU times: user 12.3 s, sys: 2.27 s, total: 14.6 s\n",
      "Wall time: 12 s\n"
     ]
    }
   ],
   "source": [
    "%%time\n",
    "\n",
    "for i in range (180, 200):\n",
    "    image = cv2.imread(FILE_PATH + bad_barcodes_list_1[3])\n",
    "    image = cv2.GaussianBlur(image, (1, 1), 0)\n",
    "    image = cv2.cvtColor(image, cv2.COLOR_BGR2GRAY)\n",
    "    _, image = cv2.threshold(image, i, 255, cv2.THRESH_BINARY)\n",
    "    \n",
    "    barcode_qty, img = decode(image)\n",
    "    if barcode_qty > 0:\n",
    "        threshold_list_159.append(i)"
   ]
  },
  {
   "cell_type": "code",
   "execution_count": 18,
   "metadata": {},
   "outputs": [
    {
     "data": {
      "text/plain": [
       "[187, 188, 189, 190, 191, 192, 193, 194, 195, 196, 197, 198, 199]"
      ]
     },
     "execution_count": 18,
     "metadata": {},
     "output_type": "execute_result"
    }
   ],
   "source": [
    "threshold_list_159"
   ]
  },
  {
   "cell_type": "code",
   "execution_count": 19,
   "metadata": {},
   "outputs": [
    {
     "name": "stdout",
     "output_type": "stream",
     "text": [
      "Обнаружен штрих-код:\n",
      "Decoded(data=b'2860610411164', type='EAN13', rect=Rect(left=229, top=117, width=658, height=31), polygon=[Point(x=229, y=131), Point(x=229, y=137), Point(x=230, y=147), Point(x=570, y=148), Point(x=887, y=142), Point(x=887, y=118), Point(x=230, y=117)], quality=29, orientation='UP')\n",
      "Данные: b'2860610411164'\n",
      "\n"
     ]
    }
   ],
   "source": [
    "image = cv2.imread(FILE_PATH + bad_barcodes_list_1[3])\n",
    "image = cv2.GaussianBlur(image, (1, 1), 0)\n",
    "image = cv2.cvtColor(image, cv2.COLOR_BGR2GRAY)\n",
    "_, image = cv2.threshold(image, threshold_list_159[-3], 255, cv2.THRESH_BINARY)\n",
    "    \n",
    "_, img = decode(image)\n",
    "\n",
    "# cv2.imshow(\"Image\", img)\n",
    "# cv2.waitKey(0)\n",
    "# cv2.destroyAllWindows()"
   ]
  },
  {
   "cell_type": "code",
   "execution_count": 20,
   "metadata": {},
   "outputs": [
    {
     "data": {
      "text/plain": [
       "[189, 190, 191, 192, 193, 194, 195, 196, 197]"
      ]
     },
     "execution_count": 20,
     "metadata": {},
     "output_type": "execute_result"
    }
   ],
   "source": [
    "# пересечени списка настроек порога\n",
    "sorted(list(set(threshold_list_157) & set(threshold_list_159)))"
   ]
  },
  {
   "cell_type": "markdown",
   "metadata": {},
   "source": [
    "### Вывод\n",
    "<br>Сильно-размытое изображение можно распознать применив либо `Gaussian` с матрицей (1, 1)затем<br>\n",
    "`image = cv2.cvtColor(image, cv2.COLOR_BGR2GRAY)\n",
    "_, image = cv2.threshold(image, n, 255, cv2.THRESH_BINARY)`<br>\n",
    "где **n** лежит в диапазоне [189, 190, 191, 192, 193, 194, 195, 196, 197] мы применили n=197"
   ]
  },
  {
   "cell_type": "markdown",
   "metadata": {},
   "source": [
    "## 11. Выводы"
   ]
  },
  {
   "cell_type": "markdown",
   "metadata": {},
   "source": [
    "1. Для обработки изображений перед детекцией и распознаванием штрих-кода стоит применить трансформацию Гауссовского блюра с матрицей 7х7 `image = cv2.GaussianBlur(image, (7, 7), 0)` судя по тестовым данным такое преобразование примененное к каждому изображению повышает точность детекции штрих-кода до **98%**.\n",
    "2. После применения Гауссовского блюра (п.1) прототип распознал 201 изображение из 205. В этом исследовании были подобраны преобразования для оставшихся 4 изображений - 095.jpg, 146.jpg, 157.jpg, 159.jpg.\n",
    "3. Изображение 095.jpg - качественное изображение, странно, что тетектор штрих-кодов на нем не сработал. Для детекции было применено преобразование обыкновенного блюра с матрицей 7х7 `image = cv2.blur(image,(7, 7), 0)` после чего штрих-код был распознан.\n",
    "4. Изображение 146.jpg имеет множество артефактов от печати, для него были применены следующие преобразования<br> \n",
    "`image = cv2.blur(image, (5, 5), 0)\n",
    "image = cv2.cvtColor(image, cv2.COLOR_BGR2GRAY)\n",
    "_, image = cv2.threshold(image, 130, 255, cv2.THRESH_BINARY)`\n",
    "\n",
    "5. Изображения 157.jpg, 159.jpg представляют из тебя размытые парактически нечитаемые сканы. Большая часть информации на них потеряна, человеку ее не прочитать. Однако удалось подобрать преобразвания, которые позволяют детектировать и распознать штрихкоды. Эти преобразования следующие<br>\n",
    "`image = cv2.imread(FILE_PATH + bad_barcodes_list_1[3])\n",
    "image = cv2.GaussianBlur(image, (1, 1), 0)\n",
    "image = cv2.cvtColor(image, cv2.COLOR_BGR2GRAY)\n",
    "_, image = cv2.threshold(image, 197, 255, cv2.THRESH_BINARY)`"
   ]
  },
  {
   "cell_type": "markdown",
   "metadata": {},
   "source": [
    "## 12. Примеры визуализации"
   ]
  },
  {
   "cell_type": "markdown",
   "metadata": {},
   "source": [
    "### Применение Гауссовского блюра с ядром 7х7"
   ]
  },
  {
   "cell_type": "code",
   "execution_count": 23,
   "metadata": {},
   "outputs": [],
   "source": [
    "image = cv2.imread(FILE_PATH + bad_barcodes_list[0])\n",
    "image = image[0:image.shape[0], 0:int(image.shape[1]*0.25)]\n",
    "image = cv2.GaussianBlur(image, (7, 7), 0)\n",
    "\n",
    "_, img = decode(image)\n",
    "\n",
    "cv2.imshow(\"Image\", img)\n",
    "cv2.waitKey(0)\n",
    "cv2.destroyAllWindows()"
   ]
  },
  {
   "cell_type": "markdown",
   "metadata": {},
   "source": [
    "### Применение обычного блюра"
   ]
  },
  {
   "cell_type": "code",
   "execution_count": 25,
   "metadata": {},
   "outputs": [],
   "source": [
    "image = cv2.imread(FILE_PATH + bad_barcodes_list_1[0])\n",
    "image = image[0:image.shape[0], 0:int(image.shape[1]*0.25)]\n",
    "# image = cv2.blur(image,(7, 7), 0)\n",
    "\n",
    "barcode_list, img = decode(image)\n",
    "\n",
    "cv2.imshow(\"Image\", img)\n",
    "cv2.waitKey(0)\n",
    "cv2.destroyAllWindows()"
   ]
  },
  {
   "cell_type": "markdown",
   "metadata": {},
   "source": [
    "### Применение Гауссовского блюра, перевода картинки в черно-белый режим с добавлением бинаризации по порогу"
   ]
  },
  {
   "cell_type": "code",
   "execution_count": 27,
   "metadata": {},
   "outputs": [
    {
     "name": "stdout",
     "output_type": "stream",
     "text": [
      "Обнаружен штрих-код:\n",
      "Decoded(data=b'2860601473409', type='EAN13', rect=Rect(left=307, top=285, width=675, height=56), polygon=[Point(x=307, y=287), Point(x=307, y=291), Point(x=309, y=341), Point(x=634, y=341), Point(x=980, y=340), Point(x=982, y=308), Point(x=982, y=306), Point(x=980, y=286), Point(x=634, y=285)], quality=64, orientation='UP')\n",
      "Данные: b'2860601473409'\n",
      "\n"
     ]
    }
   ],
   "source": [
    "image = cv2.imread(FILE_PATH + bad_barcodes_list_1[1])\n",
    "image = image[0:image.shape[0], 0:int(image.shape[1]*0.25)]\n",
    "image = cv2.GaussianBlur(image, (7, 7), 0)\n",
    "image = cv2.cvtColor(image, cv2.COLOR_BGR2GRAY)\n",
    "_, image = cv2.threshold(image, 130, 255, cv2.THRESH_BINARY)\n",
    "\n",
    "_, img = decode(image)\n",
    "\n",
    "cv2.imshow(\"Image\", img)\n",
    "cv2.waitKey(0)\n",
    "cv2.destroyAllWindows()"
   ]
  },
  {
   "cell_type": "markdown",
   "metadata": {},
   "source": [
    "### Применение Гауссовского блюра, перевода картинки в черно-белый режим с добавлением бинаризации по порогу и усилением порога"
   ]
  },
  {
   "cell_type": "code",
   "execution_count": 32,
   "metadata": {},
   "outputs": [
    {
     "name": "stdout",
     "output_type": "stream",
     "text": [
      "Обнаружен штрих-код:\n",
      "Decoded(data=b'2860610411164', type='EAN13', rect=Rect(left=229, top=117, width=658, height=31), polygon=[Point(x=229, y=131), Point(x=229, y=137), Point(x=230, y=147), Point(x=570, y=148), Point(x=887, y=142), Point(x=887, y=118), Point(x=230, y=117)], quality=29, orientation='UP')\n",
      "Данные: b'2860610411164'\n",
      "\n"
     ]
    }
   ],
   "source": [
    "image = cv2.imread(FILE_PATH + bad_barcodes_list_1[3])\n",
    "image = image[0:image.shape[0], 0:int(image.shape[1]*0.25)]\n",
    "image = cv2.GaussianBlur(image, (1, 1), 0)\n",
    "image = cv2.cvtColor(image, cv2.COLOR_BGR2GRAY)\n",
    "_, image = cv2.threshold(image, 197, 255, cv2.THRESH_BINARY)\n",
    "\n",
    "_, img = decode(image)\n",
    "\n",
    "cv2.imshow(\"Image\", img)\n",
    "cv2.waitKey(0)\n",
    "cv2.destroyAllWindows()"
   ]
  },
  {
   "cell_type": "code",
   "execution_count": null,
   "metadata": {},
   "outputs": [],
   "source": []
  },
  {
   "cell_type": "code",
   "execution_count": null,
   "metadata": {},
   "outputs": [],
   "source": []
  },
  {
   "cell_type": "code",
   "execution_count": null,
   "metadata": {},
   "outputs": [],
   "source": []
  }
 ],
 "metadata": {
  "interpreter": {
   "hash": "1c189c8536020d76ce164149959fa548ac26c70e9da70a7e7c9525c7d8b9f701"
  },
  "kernelspec": {
   "display_name": "ocr_data_generation",
   "language": "python",
   "name": "ocr_data_generation"
  },
  "language_info": {
   "codemirror_mode": {
    "name": "ipython",
    "version": 3
   },
   "file_extension": ".py",
   "mimetype": "text/x-python",
   "name": "python",
   "nbconvert_exporter": "python",
   "pygments_lexer": "ipython3",
   "version": "3.9.13"
  }
 },
 "nbformat": 4,
 "nbformat_minor": 2
}
