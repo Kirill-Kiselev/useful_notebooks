{
 "cells": [
  {
   "cell_type": "markdown",
   "metadata": {},
   "source": [
    "# Исследование по распознаванию штрих-кодов на фото документов\n",
    "- Автор: Кирилл Киселев\n",
    "- Дата начала: 14.04.2022\n",
    "- Описание исследования: в наборе данных имеется 21 фото документов ТОРГ-12 разного качества. На каждом фото имеется штрих-код, который необходимо детектировать и распознать. Целью исследования является попытка распознавания штрих-кодов на документах с применением различных трансформаций."
   ]
  },
  {
   "cell_type": "raw",
   "metadata": {},
   "source": [
    "!pip install numpy==1.22.3\n",
    "!pip install pandas==1.4.1\n",
    "!pip install opencv-python==4.5.5.64\n",
    "!pip install ipykernel==6.11.0\n",
    "!pip install pdf2image==1.16\n",
    "!pip install filterpy==1.4.5\n",
    "!pip install tqdm==4.63.1\n",
    "!pip install pillow==9.0.1\n",
    "!pip install tensorflow==2.8\n",
    "!pip install nptyping==1.4.4\n",
    "!pip install matplotlib==3.5.1\n",
    "!pip install seaborn==0.11.2\n",
    "!pip install diffimg==0.3.0\n",
    "!pip install qrcode==7.3.1\n",
    "!pip install pyzbar==0.1.9"
   ]
  },
  {
   "cell_type": "markdown",
   "metadata": {},
   "source": [
    "## 1. Загрузка библиотек"
   ]
  },
  {
   "cell_type": "code",
   "execution_count": 1,
   "metadata": {},
   "outputs": [],
   "source": [
    "import cv2\n",
    "import numpy as np\n",
    "import matplotlib as plt\n",
    "import os\n",
    "import math\n",
    "from PIL import Image\n",
    "from pyzbar import pyzbar"
   ]
  },
  {
   "cell_type": "markdown",
   "metadata": {},
   "source": [
    "## 2. Глобальные переменные"
   ]
  },
  {
   "cell_type": "code",
   "execution_count": 2,
   "metadata": {},
   "outputs": [
    {
     "name": "stdout",
     "output_type": "stream",
     "text": [
      "/home/kirillk/PycharmProjects/useful_notebooks\r\n"
     ]
    }
   ],
   "source": [
    "!pwd"
   ]
  },
  {
   "cell_type": "code",
   "execution_count": 51,
   "metadata": {},
   "outputs": [],
   "source": [
    "FILE_PATH = '/home/kirillk/datasets/OCR/ocr_test_cases_2/'"
   ]
  },
  {
   "cell_type": "markdown",
   "metadata": {},
   "source": [
    "## 3. Необходимые функции"
   ]
  },
  {
   "cell_type": "code",
   "execution_count": 4,
   "metadata": {},
   "outputs": [],
   "source": [
    "def draw_barcode(decoded, image):\n",
    "    image = cv2.rectangle(image, (decoded.rect.left, decoded.rect.top),\n",
    "                          (decoded.rect.left + decoded.rect.width, decoded.rect.top + decoded.rect.height),\n",
    "                          color=(0, 255, 0),\n",
    "                          thickness=5)\n",
    "    return image"
   ]
  },
  {
   "cell_type": "code",
   "execution_count": 5,
   "metadata": {},
   "outputs": [],
   "source": [
    "def decode(image):\n",
    "    # decodes all barcodes from an image\n",
    "    decoded_objects = pyzbar.decode(image)\n",
    "    \n",
    "    for obj in decoded_objects:\n",
    "        # draw the barcode\n",
    "        print(f\"Обнаружен штрих-код:\\n{obj}\")\n",
    "        image = draw_barcode(obj, image)\n",
    "        # print barcode type & data\n",
    "        # print(\"Тип:\", obj.type)\n",
    "        print(\"Данные:\", obj.data)\n",
    "        print()\n",
    "\n",
    "    return len(decoded_objects), image"
   ]
  },
  {
   "cell_type": "markdown",
   "metadata": {},
   "source": [
    "## 4. Состваление списка файлов"
   ]
  },
  {
   "cell_type": "code",
   "execution_count": 17,
   "metadata": {},
   "outputs": [],
   "source": [
    "photo_list = sorted([photo for photo in os.listdir(FILE_PATH) if photo.endswith('.jpg')])"
   ]
  },
  {
   "cell_type": "code",
   "execution_count": 18,
   "metadata": {},
   "outputs": [
    {
     "data": {
      "text/plain": [
       "['001.jpg',\n",
       " '002.jpg',\n",
       " '003.jpg',\n",
       " '004.jpg',\n",
       " '005.jpg',\n",
       " '006.jpg',\n",
       " '007.jpg',\n",
       " '008.jpg',\n",
       " '009.jpg',\n",
       " '010.jpg',\n",
       " '011.jpg',\n",
       " '012.jpg',\n",
       " '013.jpg',\n",
       " '014.jpg',\n",
       " '015.jpg',\n",
       " '016.jpg',\n",
       " '017.jpg',\n",
       " '018.jpg',\n",
       " '019.jpg',\n",
       " '020.jpg',\n",
       " '021.jpg']"
      ]
     },
     "execution_count": 18,
     "metadata": {},
     "output_type": "execute_result"
    }
   ],
   "source": [
    "photo_list"
   ]
  },
  {
   "cell_type": "markdown",
   "metadata": {},
   "source": [
    "## 5. Попытка распознавания"
   ]
  },
  {
   "cell_type": "code",
   "execution_count": 31,
   "metadata": {},
   "outputs": [],
   "source": [
    "bad_barcodes_list = []"
   ]
  },
  {
   "cell_type": "code",
   "execution_count": 32,
   "metadata": {},
   "outputs": [
    {
     "name": "stdout",
     "output_type": "stream",
     "text": [
      "----------------001.jpg----------------\n",
      "----------------002.jpg----------------\n",
      "----------------003.jpg----------------\n",
      "----------------004.jpg----------------\n",
      "----------------005.jpg----------------\n",
      "----------------006.jpg----------------\n",
      "----------------007.jpg----------------\n",
      "----------------008.jpg----------------\n",
      "----------------009.jpg----------------\n",
      "----------------010.jpg----------------\n",
      "----------------011.jpg----------------\n",
      "----------------012.jpg----------------\n",
      "Обнаружен штрих-код:\n",
      "Decoded(data=b'2810142821818', type='EAN13', rect=Rect(left=76, top=70, width=157, height=16), polygon=[Point(x=76, y=77), Point(x=76, y=81), Point(x=233, y=86), Point(x=233, y=70), Point(x=77, y=71)], quality=15, orientation='UP')\n",
      "Данные: b'2810142821818'\n",
      "\n",
      "----------------013.jpg----------------\n",
      "Обнаружен штрих-код:\n",
      "Decoded(data=b'2810142821825', type='EAN13', rect=Rect(left=88, top=48, width=157, height=12), polygon=[Point(x=88, y=49), Point(x=88, y=55), Point(x=165, y=59), Point(x=245, y=60), Point(x=245, y=48)], quality=12, orientation='UP')\n",
      "Данные: b'2810142821825'\n",
      "\n",
      "----------------014.jpg----------------\n",
      "Обнаружен штрих-код:\n",
      "Decoded(data=b'2860577674626', type='EAN13', rect=Rect(left=100, top=28, width=164, height=12), polygon=[Point(x=100, y=33), Point(x=100, y=35), Point(x=264, y=40), Point(x=264, y=28), Point(x=101, y=29)], quality=11, orientation='UP')\n",
      "Данные: b'2860577674626'\n",
      "\n",
      "----------------015.jpg----------------\n",
      "Обнаружен штрих-код:\n",
      "Decoded(data=b'2810141883992', type='EAN13', rect=Rect(left=129, top=22, width=151, height=12), polygon=[Point(x=129, y=27), Point(x=129, y=33), Point(x=280, y=34), Point(x=280, y=22), Point(x=130, y=23)], quality=13, orientation='UP')\n",
      "Данные: b'2810141883992'\n",
      "\n",
      "----------------016.jpg----------------\n",
      "Обнаружен штрих-код:\n",
      "Decoded(data=b'2860607202485', type='EAN13', rect=Rect(left=77, top=62, width=161, height=18), polygon=[Point(x=77, y=63), Point(x=77, y=69), Point(x=78, y=79), Point(x=238, y=80), Point(x=238, y=72), Point(x=237, y=62)], quality=19, orientation='UP')\n",
      "Данные: b'2860607202485'\n",
      "\n",
      "----------------017.jpg----------------\n",
      "----------------018.jpg----------------\n",
      "----------------019.jpg----------------\n",
      "----------------020.jpg----------------\n",
      "Обнаружен штрих-код:\n",
      "Decoded(data=b'2810148772879', type='EAN13', rect=Rect(left=155, top=59, width=145, height=12), polygon=[Point(x=155, y=59), Point(x=156, y=71), Point(x=300, y=70), Point(x=300, y=60)], quality=15, orientation='UP')\n",
      "Данные: b'2810148772879'\n",
      "\n",
      "----------------021.jpg----------------\n",
      "Обнаружен штрих-код:\n",
      "Decoded(data=b'2810148772879', type='EAN13', rect=Rect(left=79, top=89, width=135, height=6), polygon=[Point(x=79, y=89), Point(x=145, y=95), Point(x=214, y=94), Point(x=214, y=90)], quality=6, orientation='UP')\n",
      "Данные: b'2810148772879'\n",
      "\n"
     ]
    }
   ],
   "source": [
    "for file in photo_list:\n",
    "    print(f'----------------{file}----------------')\n",
    "    image = cv2.imread(FILE_PATH + file)\n",
    "    \n",
    "    bar_code_qty, img = decode(image)\n",
    "    if bar_code_qty == 0:\n",
    "        bad_barcodes_list.append(file)"
   ]
  },
  {
   "cell_type": "code",
   "execution_count": 33,
   "metadata": {},
   "outputs": [
    {
     "name": "stdout",
     "output_type": "stream",
     "text": [
      "14\n"
     ]
    },
    {
     "data": {
      "text/plain": [
       "['001.jpg',\n",
       " '002.jpg',\n",
       " '003.jpg',\n",
       " '004.jpg',\n",
       " '005.jpg',\n",
       " '006.jpg',\n",
       " '007.jpg',\n",
       " '008.jpg',\n",
       " '009.jpg',\n",
       " '010.jpg',\n",
       " '011.jpg',\n",
       " '017.jpg',\n",
       " '018.jpg',\n",
       " '019.jpg']"
      ]
     },
     "execution_count": 33,
     "metadata": {},
     "output_type": "execute_result"
    }
   ],
   "source": [
    "print(len(bad_barcodes_list))\n",
    "\n",
    "bad_barcodes_list"
   ]
  },
  {
   "cell_type": "code",
   "execution_count": 43,
   "metadata": {},
   "outputs": [],
   "source": [
    "for photo in bad_barcodes_list:\n",
    "    image = cv2.imread(FILE_PATH + photo)\n",
    "\n",
    "    cv2.imshow(\"Image\", image)\n",
    "    cv2.waitKey(0)\n",
    "    cv2.destroyAllWindows()"
   ]
  },
  {
   "cell_type": "markdown",
   "metadata": {},
   "source": [
    "### Вывод: \n",
    "на 14 фото без обработки не удалось распознать штрих-код."
   ]
  },
  {
   "cell_type": "markdown",
   "metadata": {},
   "source": [
    "## 5. Применение Гауссовского блюра на нераспознанные документы"
   ]
  },
  {
   "cell_type": "code",
   "execution_count": 41,
   "metadata": {},
   "outputs": [
    {
     "name": "stdout",
     "output_type": "stream",
     "text": [
      "blur_kernel_size_1----------------001.jpg----------------\n",
      "blur_kernel_size_1----------------002.jpg----------------\n",
      "blur_kernel_size_1----------------003.jpg----------------\n",
      "blur_kernel_size_1----------------004.jpg----------------\n",
      "blur_kernel_size_1----------------005.jpg----------------\n",
      "blur_kernel_size_1----------------006.jpg----------------\n",
      "blur_kernel_size_1----------------007.jpg----------------\n",
      "blur_kernel_size_1----------------008.jpg----------------\n",
      "blur_kernel_size_1----------------009.jpg----------------\n",
      "blur_kernel_size_1----------------010.jpg----------------\n",
      "blur_kernel_size_1----------------011.jpg----------------\n",
      "blur_kernel_size_1----------------017.jpg----------------\n",
      "blur_kernel_size_1----------------018.jpg----------------\n",
      "blur_kernel_size_1----------------019.jpg----------------\n",
      "blur_kernel_size_3----------------001.jpg----------------\n",
      "blur_kernel_size_3----------------002.jpg----------------\n",
      "blur_kernel_size_3----------------003.jpg----------------\n",
      "blur_kernel_size_3----------------004.jpg----------------\n",
      "blur_kernel_size_3----------------005.jpg----------------\n",
      "blur_kernel_size_3----------------006.jpg----------------\n",
      "blur_kernel_size_3----------------007.jpg----------------\n",
      "blur_kernel_size_3----------------008.jpg----------------\n",
      "blur_kernel_size_3----------------009.jpg----------------\n",
      "blur_kernel_size_3----------------010.jpg----------------\n",
      "blur_kernel_size_3----------------011.jpg----------------\n",
      "blur_kernel_size_3----------------017.jpg----------------\n",
      "blur_kernel_size_3----------------018.jpg----------------\n",
      "blur_kernel_size_3----------------019.jpg----------------\n",
      "blur_kernel_size_5----------------001.jpg----------------\n",
      "blur_kernel_size_5----------------002.jpg----------------\n",
      "blur_kernel_size_5----------------003.jpg----------------\n",
      "blur_kernel_size_5----------------004.jpg----------------\n",
      "blur_kernel_size_5----------------005.jpg----------------\n",
      "blur_kernel_size_5----------------006.jpg----------------\n",
      "blur_kernel_size_5----------------007.jpg----------------\n",
      "blur_kernel_size_5----------------008.jpg----------------\n",
      "blur_kernel_size_5----------------009.jpg----------------\n",
      "blur_kernel_size_5----------------010.jpg----------------\n",
      "blur_kernel_size_5----------------011.jpg----------------\n",
      "blur_kernel_size_5----------------017.jpg----------------\n",
      "blur_kernel_size_5----------------018.jpg----------------\n",
      "blur_kernel_size_5----------------019.jpg----------------\n",
      "blur_kernel_size_7----------------001.jpg----------------\n",
      "blur_kernel_size_7----------------002.jpg----------------\n",
      "blur_kernel_size_7----------------003.jpg----------------\n",
      "blur_kernel_size_7----------------004.jpg----------------\n",
      "blur_kernel_size_7----------------005.jpg----------------\n",
      "blur_kernel_size_7----------------006.jpg----------------\n",
      "blur_kernel_size_7----------------007.jpg----------------\n",
      "blur_kernel_size_7----------------008.jpg----------------\n",
      "blur_kernel_size_7----------------009.jpg----------------\n",
      "blur_kernel_size_7----------------010.jpg----------------\n",
      "blur_kernel_size_7----------------011.jpg----------------\n",
      "blur_kernel_size_7----------------017.jpg----------------\n",
      "blur_kernel_size_7----------------018.jpg----------------\n",
      "blur_kernel_size_7----------------019.jpg----------------\n",
      "blur_kernel_size_9----------------001.jpg----------------\n",
      "blur_kernel_size_9----------------002.jpg----------------\n",
      "blur_kernel_size_9----------------003.jpg----------------\n",
      "blur_kernel_size_9----------------004.jpg----------------\n",
      "blur_kernel_size_9----------------005.jpg----------------\n",
      "blur_kernel_size_9----------------006.jpg----------------\n",
      "blur_kernel_size_9----------------007.jpg----------------\n",
      "blur_kernel_size_9----------------008.jpg----------------\n",
      "blur_kernel_size_9----------------009.jpg----------------\n",
      "blur_kernel_size_9----------------010.jpg----------------\n",
      "blur_kernel_size_9----------------011.jpg----------------\n",
      "blur_kernel_size_9----------------017.jpg----------------\n",
      "blur_kernel_size_9----------------018.jpg----------------\n",
      "blur_kernel_size_9----------------019.jpg----------------\n",
      "blur_kernel_size_11----------------001.jpg----------------\n",
      "blur_kernel_size_11----------------002.jpg----------------\n",
      "blur_kernel_size_11----------------003.jpg----------------\n",
      "blur_kernel_size_11----------------004.jpg----------------\n",
      "blur_kernel_size_11----------------005.jpg----------------\n",
      "blur_kernel_size_11----------------006.jpg----------------\n",
      "blur_kernel_size_11----------------007.jpg----------------\n",
      "blur_kernel_size_11----------------008.jpg----------------\n",
      "blur_kernel_size_11----------------009.jpg----------------\n",
      "blur_kernel_size_11----------------010.jpg----------------\n",
      "blur_kernel_size_11----------------011.jpg----------------\n",
      "blur_kernel_size_11----------------017.jpg----------------\n",
      "blur_kernel_size_11----------------018.jpg----------------\n",
      "blur_kernel_size_11----------------019.jpg----------------\n",
      "blur_kernel_size_13----------------001.jpg----------------\n",
      "blur_kernel_size_13----------------002.jpg----------------\n",
      "blur_kernel_size_13----------------003.jpg----------------\n",
      "blur_kernel_size_13----------------004.jpg----------------\n",
      "blur_kernel_size_13----------------005.jpg----------------\n",
      "blur_kernel_size_13----------------006.jpg----------------\n",
      "blur_kernel_size_13----------------007.jpg----------------\n",
      "blur_kernel_size_13----------------008.jpg----------------\n",
      "blur_kernel_size_13----------------009.jpg----------------\n",
      "blur_kernel_size_13----------------010.jpg----------------\n",
      "blur_kernel_size_13----------------011.jpg----------------\n",
      "blur_kernel_size_13----------------017.jpg----------------\n",
      "blur_kernel_size_13----------------018.jpg----------------\n",
      "blur_kernel_size_13----------------019.jpg----------------\n",
      "blur_kernel_size_15----------------001.jpg----------------\n",
      "blur_kernel_size_15----------------002.jpg----------------\n",
      "blur_kernel_size_15----------------003.jpg----------------\n",
      "blur_kernel_size_15----------------004.jpg----------------\n",
      "blur_kernel_size_15----------------005.jpg----------------\n",
      "blur_kernel_size_15----------------006.jpg----------------\n",
      "blur_kernel_size_15----------------007.jpg----------------\n",
      "blur_kernel_size_15----------------008.jpg----------------\n",
      "blur_kernel_size_15----------------009.jpg----------------\n",
      "blur_kernel_size_15----------------010.jpg----------------\n",
      "blur_kernel_size_15----------------011.jpg----------------\n",
      "blur_kernel_size_15----------------017.jpg----------------\n",
      "blur_kernel_size_15----------------018.jpg----------------\n",
      "blur_kernel_size_15----------------019.jpg----------------\n",
      "blur_kernel_size_17----------------001.jpg----------------\n",
      "blur_kernel_size_17----------------002.jpg----------------\n",
      "blur_kernel_size_17----------------003.jpg----------------\n",
      "blur_kernel_size_17----------------004.jpg----------------\n",
      "blur_kernel_size_17----------------005.jpg----------------\n",
      "blur_kernel_size_17----------------006.jpg----------------\n",
      "blur_kernel_size_17----------------007.jpg----------------\n",
      "blur_kernel_size_17----------------008.jpg----------------\n",
      "blur_kernel_size_17----------------009.jpg----------------\n",
      "blur_kernel_size_17----------------010.jpg----------------\n",
      "blur_kernel_size_17----------------011.jpg----------------\n",
      "blur_kernel_size_17----------------017.jpg----------------\n",
      "blur_kernel_size_17----------------018.jpg----------------\n",
      "blur_kernel_size_17----------------019.jpg----------------\n"
     ]
    }
   ],
   "source": [
    "for i in range(1, 19, 2):\n",
    "    for file in bad_barcodes_list:\n",
    "        print(f'blur_kernel_size_{i}----------------{file}----------------')\n",
    "        image = cv2.imread(FILE_PATH + file)\n",
    "        image = cv2.GaussianBlur(image, (i, i), 0)\n",
    "\n",
    "        bar_code_qty, img = decode(image)"
   ]
  },
  {
   "cell_type": "markdown",
   "metadata": {},
   "source": [
    "### Вывод\n",
    "Гауссовский блюр с разным размером ядра не помог в распознавании."
   ]
  },
  {
   "cell_type": "markdown",
   "metadata": {},
   "source": [
    "## 6. Применение обычного блюра на нераспознанные документы"
   ]
  },
  {
   "cell_type": "code",
   "execution_count": 42,
   "metadata": {},
   "outputs": [
    {
     "name": "stdout",
     "output_type": "stream",
     "text": [
      "blur_kernel_size_1----------------001.jpg----------------\n",
      "blur_kernel_size_1----------------002.jpg----------------\n",
      "blur_kernel_size_1----------------003.jpg----------------\n",
      "blur_kernel_size_1----------------004.jpg----------------\n",
      "blur_kernel_size_1----------------005.jpg----------------\n",
      "blur_kernel_size_1----------------006.jpg----------------\n",
      "blur_kernel_size_1----------------007.jpg----------------\n",
      "blur_kernel_size_1----------------008.jpg----------------\n",
      "blur_kernel_size_1----------------009.jpg----------------\n",
      "blur_kernel_size_1----------------010.jpg----------------\n",
      "blur_kernel_size_1----------------011.jpg----------------\n",
      "blur_kernel_size_1----------------017.jpg----------------\n",
      "blur_kernel_size_1----------------018.jpg----------------\n",
      "blur_kernel_size_1----------------019.jpg----------------\n",
      "blur_kernel_size_3----------------001.jpg----------------\n",
      "blur_kernel_size_3----------------002.jpg----------------\n",
      "blur_kernel_size_3----------------003.jpg----------------\n",
      "blur_kernel_size_3----------------004.jpg----------------\n",
      "blur_kernel_size_3----------------005.jpg----------------\n",
      "blur_kernel_size_3----------------006.jpg----------------\n",
      "blur_kernel_size_3----------------007.jpg----------------\n",
      "blur_kernel_size_3----------------008.jpg----------------\n",
      "blur_kernel_size_3----------------009.jpg----------------\n",
      "blur_kernel_size_3----------------010.jpg----------------\n",
      "blur_kernel_size_3----------------011.jpg----------------\n",
      "blur_kernel_size_3----------------017.jpg----------------\n",
      "blur_kernel_size_3----------------018.jpg----------------\n",
      "blur_kernel_size_3----------------019.jpg----------------\n",
      "blur_kernel_size_5----------------001.jpg----------------\n",
      "blur_kernel_size_5----------------002.jpg----------------\n",
      "blur_kernel_size_5----------------003.jpg----------------\n",
      "blur_kernel_size_5----------------004.jpg----------------\n",
      "blur_kernel_size_5----------------005.jpg----------------\n",
      "blur_kernel_size_5----------------006.jpg----------------\n",
      "blur_kernel_size_5----------------007.jpg----------------\n",
      "blur_kernel_size_5----------------008.jpg----------------\n",
      "blur_kernel_size_5----------------009.jpg----------------\n",
      "blur_kernel_size_5----------------010.jpg----------------\n",
      "blur_kernel_size_5----------------011.jpg----------------\n",
      "blur_kernel_size_5----------------017.jpg----------------\n",
      "blur_kernel_size_5----------------018.jpg----------------\n",
      "blur_kernel_size_5----------------019.jpg----------------\n",
      "blur_kernel_size_7----------------001.jpg----------------\n",
      "blur_kernel_size_7----------------002.jpg----------------\n",
      "blur_kernel_size_7----------------003.jpg----------------\n",
      "blur_kernel_size_7----------------004.jpg----------------\n",
      "blur_kernel_size_7----------------005.jpg----------------\n",
      "blur_kernel_size_7----------------006.jpg----------------\n",
      "blur_kernel_size_7----------------007.jpg----------------\n",
      "blur_kernel_size_7----------------008.jpg----------------\n",
      "blur_kernel_size_7----------------009.jpg----------------\n",
      "blur_kernel_size_7----------------010.jpg----------------\n",
      "blur_kernel_size_7----------------011.jpg----------------\n",
      "blur_kernel_size_7----------------017.jpg----------------\n",
      "blur_kernel_size_7----------------018.jpg----------------\n",
      "blur_kernel_size_7----------------019.jpg----------------\n",
      "blur_kernel_size_9----------------001.jpg----------------\n",
      "blur_kernel_size_9----------------002.jpg----------------\n",
      "blur_kernel_size_9----------------003.jpg----------------\n",
      "blur_kernel_size_9----------------004.jpg----------------\n",
      "blur_kernel_size_9----------------005.jpg----------------\n",
      "blur_kernel_size_9----------------006.jpg----------------\n",
      "blur_kernel_size_9----------------007.jpg----------------\n",
      "blur_kernel_size_9----------------008.jpg----------------\n",
      "blur_kernel_size_9----------------009.jpg----------------\n",
      "blur_kernel_size_9----------------010.jpg----------------\n",
      "blur_kernel_size_9----------------011.jpg----------------\n",
      "blur_kernel_size_9----------------017.jpg----------------\n",
      "blur_kernel_size_9----------------018.jpg----------------\n",
      "blur_kernel_size_9----------------019.jpg----------------\n",
      "blur_kernel_size_11----------------001.jpg----------------\n",
      "blur_kernel_size_11----------------002.jpg----------------\n",
      "blur_kernel_size_11----------------003.jpg----------------\n",
      "blur_kernel_size_11----------------004.jpg----------------\n",
      "blur_kernel_size_11----------------005.jpg----------------\n",
      "blur_kernel_size_11----------------006.jpg----------------\n",
      "blur_kernel_size_11----------------007.jpg----------------\n",
      "blur_kernel_size_11----------------008.jpg----------------\n",
      "blur_kernel_size_11----------------009.jpg----------------\n",
      "blur_kernel_size_11----------------010.jpg----------------\n",
      "blur_kernel_size_11----------------011.jpg----------------\n",
      "blur_kernel_size_11----------------017.jpg----------------\n",
      "blur_kernel_size_11----------------018.jpg----------------\n",
      "blur_kernel_size_11----------------019.jpg----------------\n",
      "blur_kernel_size_13----------------001.jpg----------------\n",
      "blur_kernel_size_13----------------002.jpg----------------\n",
      "blur_kernel_size_13----------------003.jpg----------------\n",
      "blur_kernel_size_13----------------004.jpg----------------\n",
      "blur_kernel_size_13----------------005.jpg----------------\n",
      "blur_kernel_size_13----------------006.jpg----------------\n",
      "blur_kernel_size_13----------------007.jpg----------------\n",
      "blur_kernel_size_13----------------008.jpg----------------\n",
      "blur_kernel_size_13----------------009.jpg----------------\n",
      "blur_kernel_size_13----------------010.jpg----------------\n",
      "blur_kernel_size_13----------------011.jpg----------------\n",
      "blur_kernel_size_13----------------017.jpg----------------\n",
      "blur_kernel_size_13----------------018.jpg----------------\n",
      "blur_kernel_size_13----------------019.jpg----------------\n",
      "blur_kernel_size_15----------------001.jpg----------------\n",
      "blur_kernel_size_15----------------002.jpg----------------\n",
      "blur_kernel_size_15----------------003.jpg----------------\n",
      "blur_kernel_size_15----------------004.jpg----------------\n",
      "blur_kernel_size_15----------------005.jpg----------------\n",
      "blur_kernel_size_15----------------006.jpg----------------\n",
      "blur_kernel_size_15----------------007.jpg----------------\n",
      "blur_kernel_size_15----------------008.jpg----------------\n",
      "blur_kernel_size_15----------------009.jpg----------------\n",
      "blur_kernel_size_15----------------010.jpg----------------\n",
      "blur_kernel_size_15----------------011.jpg----------------\n",
      "blur_kernel_size_15----------------017.jpg----------------\n",
      "blur_kernel_size_15----------------018.jpg----------------\n",
      "blur_kernel_size_15----------------019.jpg----------------\n",
      "blur_kernel_size_17----------------001.jpg----------------\n",
      "blur_kernel_size_17----------------002.jpg----------------\n",
      "blur_kernel_size_17----------------003.jpg----------------\n",
      "blur_kernel_size_17----------------004.jpg----------------\n",
      "blur_kernel_size_17----------------005.jpg----------------\n",
      "blur_kernel_size_17----------------006.jpg----------------\n",
      "blur_kernel_size_17----------------007.jpg----------------\n",
      "blur_kernel_size_17----------------008.jpg----------------\n",
      "blur_kernel_size_17----------------009.jpg----------------\n",
      "blur_kernel_size_17----------------010.jpg----------------\n",
      "blur_kernel_size_17----------------011.jpg----------------\n",
      "blur_kernel_size_17----------------017.jpg----------------\n",
      "blur_kernel_size_17----------------018.jpg----------------\n",
      "blur_kernel_size_17----------------019.jpg----------------\n"
     ]
    }
   ],
   "source": [
    "for i in range(1, 19, 2):\n",
    "    for file in bad_barcodes_list:\n",
    "        print(f'blur_kernel_size_{i}----------------{file}----------------')\n",
    "        image = cv2.imread(FILE_PATH + file)\n",
    "        image = cv2.blur(image, (i, i), 0)\n",
    "\n",
    "        bar_code_qty, img = decode(image)"
   ]
  },
  {
   "cell_type": "markdown",
   "metadata": {},
   "source": [
    "## 7. Применение комбинации Гауссовского блюра и комбинации по порогу"
   ]
  },
  {
   "cell_type": "code",
   "execution_count": 44,
   "metadata": {},
   "outputs": [],
   "source": [
    "recognized_photo_list = []"
   ]
  },
  {
   "cell_type": "code",
   "execution_count": 46,
   "metadata": {},
   "outputs": [
    {
     "name": "stdout",
     "output_type": "stream",
     "text": [
      "Обнаружен штрих-код:\n",
      "Decoded(data=b'1810534074601', type='EAN13', rect=Rect(left=90, top=351, width=3, height=4), polygon=[Point(x=90, y=351), Point(x=90, y=355), Point(x=93, y=352)], quality=4, orientation='UP')\n",
      "Данные: b'1810534074601'\n",
      "\n",
      "1 131\n",
      "Обнаружен штрих-код:\n",
      "Decoded(data=b'574462', type='I25', rect=Rect(left=532, top=428, width=0, height=0), polygon=[Point(x=532, y=428)], quality=1, orientation='DOWN')\n",
      "Данные: b'574462'\n",
      "\n",
      "1 178\n",
      "Обнаружен штрих-код:\n",
      "Decoded(data=b'574462', type='I25', rect=Rect(left=532, top=428, width=0, height=0), polygon=[Point(x=532, y=428)], quality=1, orientation='DOWN')\n",
      "Данные: b'574462'\n",
      "\n",
      "1 179\n",
      "CPU times: user 8min 25s, sys: 33.3 s, total: 8min 59s\n",
      "Wall time: 5min 25s\n"
     ]
    }
   ],
   "source": [
    "%%time\n",
    "for photo in bad_barcodes_list:\n",
    "    for kernel in range(1, 19, 2):\n",
    "        for thresh in range (100, 230):\n",
    "            image = cv2.imread(FILE_PATH + photo)\n",
    "            image = cv2.GaussianBlur(image, (kernel, kernel), 0)\n",
    "            image = cv2.cvtColor(image, cv2.COLOR_BGR2GRAY)\n",
    "            _, image = cv2.threshold(image, thresh, 255, cv2.THRESH_BINARY)\n",
    "\n",
    "            barcode_qty, img = decode(image)\n",
    "            if barcode_qty > 0:\n",
    "                recognized_photo_list.append(photo)\n",
    "                print(kernel, thresh)"
   ]
  },
  {
   "cell_type": "code",
   "execution_count": 47,
   "metadata": {},
   "outputs": [
    {
     "data": {
      "text/plain": [
       "['008.jpg', '011.jpg', '011.jpg']"
      ]
     },
     "execution_count": 47,
     "metadata": {},
     "output_type": "execute_result"
    }
   ],
   "source": [
    "recognized_photo_list"
   ]
  },
  {
   "cell_type": "markdown",
   "metadata": {},
   "source": [
    "### Вывод\n",
    "Не смотря на то, что удалоь распознать несколько штрих-кодов, они распознаны неверно. Следовательно эти фото можно считать непригодными для распознавания. Итого из 21 фото удалось распознать штрих-коды только на 7."
   ]
  },
  {
   "cell_type": "code",
   "execution_count": null,
   "metadata": {},
   "outputs": [],
   "source": []
  },
  {
   "cell_type": "code",
   "execution_count": null,
   "metadata": {},
   "outputs": [],
   "source": []
  },
  {
   "cell_type": "code",
   "execution_count": null,
   "metadata": {},
   "outputs": [],
   "source": []
  },
  {
   "cell_type": "code",
   "execution_count": null,
   "metadata": {},
   "outputs": [],
   "source": []
  },
  {
   "cell_type": "code",
   "execution_count": null,
   "metadata": {},
   "outputs": [],
   "source": []
  },
  {
   "cell_type": "code",
   "execution_count": null,
   "metadata": {},
   "outputs": [],
   "source": []
  }
 ],
 "metadata": {
  "interpreter": {
   "hash": "1c189c8536020d76ce164149959fa548ac26c70e9da70a7e7c9525c7d8b9f701"
  },
  "kernelspec": {
   "display_name": "ocr_data_generation",
   "language": "python",
   "name": "ocr_data_generation"
  },
  "language_info": {
   "codemirror_mode": {
    "name": "ipython",
    "version": 3
   },
   "file_extension": ".py",
   "mimetype": "text/x-python",
   "name": "python",
   "nbconvert_exporter": "python",
   "pygments_lexer": "ipython3",
   "version": "3.9.12"
  }
 },
 "nbformat": 4,
 "nbformat_minor": 2
}
