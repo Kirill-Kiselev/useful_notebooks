{
 "cells": [
  {
   "cell_type": "markdown",
   "metadata": {},
   "source": [
    "# Исследование способов определения контуров документов на фото\n",
    "- Автор: Кирилл Киселев\n",
    "- Дата начала: 13.04.2022\n",
    "- Описание исследования: имеется 21 фото документов. Необходимо найти способы определения контуров документов на фото."
   ]
  },
  {
   "cell_type": "markdown",
   "metadata": {},
   "source": [
    "## 1. Имеющиеся изображения"
   ]
  },
  {
   "cell_type": "raw",
   "metadata": {},
   "source": [
    "# Исходный список\n",
    " '001.jpg',\n",
    " '002.jpg',\n",
    " '003.jpg',\n",
    " '004.jpg',\n",
    " '005.jpg',\n",
    " '006.jpg',\n",
    " '007.jpg',\n",
    " '008.jpg',\n",
    " '009.jpg',\n",
    " '010.jpg',\n",
    " '011.jpg',\n",
    " '012.jpg',\n",
    " '013.jpg',\n",
    " '014.jpg',\n",
    " '015.jpg',\n",
    " '016.jpg',\n",
    " '017.jpg',\n",
    " '018.jpg',\n",
    " '019.jpg',\n",
    " '020.jpg',\n",
    " '021.jpg'"
   ]
  },
  {
   "cell_type": "markdown",
   "metadata": {},
   "source": [
    "## 2. Загрузка библиотек"
   ]
  },
  {
   "cell_type": "code",
   "execution_count": 1,
   "metadata": {},
   "outputs": [],
   "source": [
    "# !pip install imutils==0.5.4"
   ]
  },
  {
   "cell_type": "code",
   "execution_count": 1,
   "metadata": {},
   "outputs": [],
   "source": [
    "import cv2\n",
    "import imutils\n",
    "import numpy as np\n",
    "import matplotlib as plt\n",
    "import os\n",
    "import math\n",
    "from PIL import Image\n",
    "from pyzbar import pyzbar"
   ]
  },
  {
   "cell_type": "markdown",
   "metadata": {},
   "source": [
    "## 3. Глобальные переменные"
   ]
  },
  {
   "cell_type": "code",
   "execution_count": 2,
   "metadata": {},
   "outputs": [
    {
     "name": "stdout",
     "output_type": "stream",
     "text": [
      "/home/kirillk/PycharmProjects/useful_notebooks/ocr\r\n"
     ]
    }
   ],
   "source": [
    "!pwd"
   ]
  },
  {
   "cell_type": "code",
   "execution_count": 3,
   "metadata": {},
   "outputs": [],
   "source": [
    "FILE_PATH = '/home/kirillk/datasets/OCR/ocr_test_cases_2/'"
   ]
  },
  {
   "cell_type": "markdown",
   "metadata": {},
   "source": [
    "## 4. Необходимые функции"
   ]
  },
  {
   "cell_type": "raw",
   "metadata": {},
   "source": [
    "def get_position_to_draw(text, point, font_face, font_scale, thickness):\n",
    "    \"\"\"Gives the coordinates to draw centered\"\"\"\n",
    "\n",
    "    text_size = cv2.getTextSize(text, font_face, font_scale, thickness)[0]\n",
    "    text_x = point[0] - text_size[0] / 2\n",
    "    text_y = point[1] + text_size[1] / 2\n",
    "    return round(text_x), round(text_y)"
   ]
  },
  {
   "cell_type": "code",
   "execution_count": 4,
   "metadata": {},
   "outputs": [],
   "source": [
    "def detect_shape(contour):\n",
    "    \"\"\"Returns the shape (e.g. 'triangle', 'square') from the contour\"\"\"\n",
    "\n",
    "    detected_shape = '-----'\n",
    "\n",
    "    # Calculate perimeter of the contour:\n",
    "    perimeter = cv2.arcLength(contour, True)\n",
    "\n",
    "    # Get a contour approximation:\n",
    "    contour_approx = cv2.approxPolyDP(contour, 0.03 * perimeter, True)\n",
    "\n",
    "    # Check if the number of vertices is 3. In this case, the contour is a triangle\n",
    "    if len(contour_approx) == 3:\n",
    "        detected_shape = 'triangle'\n",
    "\n",
    "    # Check if the number of vertices is 4. In this case, the contour is a square/rectangle\n",
    "    elif len(contour_approx) == 4:\n",
    "\n",
    "        # We calculate the aspect ration from the bounding rect:\n",
    "        x, y, width, height = cv2.boundingRect(contour_approx)\n",
    "        aspect_ratio = float(width) / height\n",
    "\n",
    "        # A square has an aspect ratio close to 1 (comparison chaining is used):\n",
    "        if 0.90 < aspect_ratio < 1.10:\n",
    "            detected_shape = \"square\"\n",
    "        else:\n",
    "            detected_shape = \"rectangle\"\n",
    "\n",
    "    # Check if the number of vertices is 5. In this case, the contour is a pentagon\n",
    "    elif len(contour_approx) == 5:\n",
    "        detected_shape = \"pentagon\"\n",
    "\n",
    "    # Check if the number of vertices is 6. In this case, the contour is a hexagon\n",
    "    elif len(contour_approx) == 6:\n",
    "        detected_shape = \"hexagon\"\n",
    "\n",
    "    # The shape as more than 6 vertices. In this example, we assume that is a circle\n",
    "    else:\n",
    "        detected_shape = \"circle\"\n",
    "\n",
    "    # return the name of the shape and the found vertices\n",
    "    return detected_shape, contour_approx"
   ]
  },
  {
   "cell_type": "raw",
   "metadata": {},
   "source": [
    "def array_to_tuple(arr):\n",
    "    \"\"\"Converts array to tuple\"\"\"\n",
    "\n",
    "    return tuple(arr.reshape(1, -1)[0])"
   ]
  },
  {
   "cell_type": "raw",
   "metadata": {},
   "source": [
    "def draw_contour_points(img, cnts, color):\n",
    "    \"\"\"Draw all points from a list of contours\"\"\"\n",
    "\n",
    "    for cnt in cnts:\n",
    "        print(cnt.shape)\n",
    "        squeeze = np.squeeze(cnt)\n",
    "        print(squeeze.shape)\n",
    "\n",
    "        for p in squeeze:\n",
    "            pp = array_to_tuple(p)\n",
    "            cv2.circle(img, pp, 10, color, -1)\n",
    "\n",
    "    return img"
   ]
  },
  {
   "cell_type": "code",
   "execution_count": null,
   "metadata": {},
   "outputs": [],
   "source": [
    "def draw_contour_outline(img, cnts, color, thickness=1):\n",
    "    \"\"\"Draws contours outlines of each contour\"\"\"\n",
    "\n",
    "    for cnt in cnts:\n",
    "        cv2.drawContours(img, [cnt], 0, color, thickness)"
   ]
  },
  {
   "cell_type": "raw",
   "metadata": {},
   "source": [
    "def show_img_with_matplotlib(color_img, title, pos):\n",
    "    \"\"\"Shows an image using matplotlib capabilities\"\"\"\n",
    "\n",
    "    # Convert BGR image to RGB\n",
    "    img_RGB = color_img[:, :, ::-1]\n",
    "\n",
    "    ax = plt.subplot(2, 2, pos)\n",
    "    plt.imshow(img_RGB)\n",
    "    plt.title(title)\n",
    "    plt.axis('off')"
   ]
  },
  {
   "cell_type": "code",
   "execution_count": null,
   "metadata": {},
   "outputs": [],
   "source": [
    "def find_contours(image):\n",
    "    blurred = cv2.GaussianBlur(image, (3, 3), 0)\n",
    "    T, thresh_img = cv2.threshold(blurred, 215, 255, \n",
    "                                  cv2.THRESH_BINARY)\n",
    "    (_, cnts) = cv2.findContours(thresh_img, \n",
    "                                    cv2.RETR_EXTERNAL,\n",
    "                                    cv2.CHAIN_APPROX_SIMPLE)\n",
    "    return cnts"
   ]
  },
  {
   "cell_type": "markdown",
   "metadata": {},
   "source": [
    "## 5. Данные"
   ]
  },
  {
   "cell_type": "code",
   "execution_count": 5,
   "metadata": {},
   "outputs": [
    {
     "data": {
      "text/plain": [
       "['001.jpg',\n",
       " '002.jpg',\n",
       " '003.jpg',\n",
       " '004.jpg',\n",
       " '005.jpg',\n",
       " '006.jpg',\n",
       " '007.jpg',\n",
       " '008.jpg',\n",
       " '009.jpg',\n",
       " '010.jpg',\n",
       " '011.jpg',\n",
       " '012.jpg',\n",
       " '013.jpg',\n",
       " '014.jpg',\n",
       " '015.jpg',\n",
       " '016.jpg',\n",
       " '017.jpg',\n",
       " '018.jpg',\n",
       " '019.jpg',\n",
       " '020.jpg',\n",
       " '021.jpg']"
      ]
     },
     "execution_count": 5,
     "metadata": {},
     "output_type": "execute_result"
    }
   ],
   "source": [
    "# список фото\n",
    "photo_list = sorted([photo for photo in os.listdir(FILE_PATH) if photo.endswith('.jpg')])\n",
    "photo_list"
   ]
  },
  {
   "cell_type": "code",
   "execution_count": 6,
   "metadata": {},
   "outputs": [],
   "source": [
    "# посмотрим на фото\n",
    "\n",
    "for photo in photo_list:\n",
    "    image = cv2.imread(FILE_PATH + photo)\n",
    "    cv2.imshow(\"Image\", image)\n",
    "    cv2.waitKey(0)\n",
    "    cv2.destroyAllWindows()"
   ]
  },
  {
   "cell_type": "markdown",
   "metadata": {},
   "source": [
    "## 6. Определение контуров"
   ]
  },
  {
   "cell_type": "code",
   "execution_count": 22,
   "metadata": {},
   "outputs": [],
   "source": [
    "im = cv2.imread(FILE_PATH + photo_list[0])\n",
    "imgray = cv2.cvtColor(im, cv2.COLOR_BGR2GRAY)\n",
    "ret, thresh = cv2.threshold(imgray, 160, 255, 0)  # 160\n",
    "contours, _ = cv2.findContours(thresh, cv2.RETR_EXTERNAL, cv2.CHAIN_APPROX_NONE)\n",
    "\n",
    "max_contour = 0\n",
    "num_of_contour = None\n",
    "\n",
    "for num, i in enumerate(contours):\n",
    "    if len(i) > max_contour:\n",
    "        max_contour = len(i)\n",
    "        num_of_contour = num\n",
    "\n",
    "shape, vertices = detect_shape(contours[num_of_contour])\n",
    "# print(vertices)\n",
    "img = cv2.polylines(im, [vertices], True, (0,0,255), 5)\n",
    "# img = cv2.resize(img, (0, 0), fx=0.5, fy=0.5)\n",
    "\n",
    "cv2.imshow(\"Image\", img)\n",
    "cv2.waitKey(0)\n",
    "cv2.destroyAllWindows()"
   ]
  },
  {
   "cell_type": "code",
   "execution_count": 24,
   "metadata": {},
   "outputs": [],
   "source": [
    "# посмотрим на все фото\n",
    "for photo in photo_list:\n",
    "    im = cv2.imread(FILE_PATH + photo)\n",
    "    imgray = cv2.cvtColor(im, cv2.COLOR_BGR2GRAY)\n",
    "    ret, thresh = cv2.threshold(imgray, 160, 255, 0)  # 160\n",
    "    contours, _ = cv2.findContours(thresh, cv2.RETR_EXTERNAL, cv2.CHAIN_APPROX_NONE)\n",
    "\n",
    "    max_contour = 0\n",
    "    num_of_contour = None\n",
    "\n",
    "    for num, i in enumerate(contours):\n",
    "        if len(i) > max_contour:\n",
    "            max_contour = len(i)\n",
    "            num_of_contour = num\n",
    "\n",
    "    shape, vertices = detect_shape(contours[num_of_contour])\n",
    "    # print(vertices)\n",
    "    img = cv2.polylines(im, [vertices], True, (0,0,255), 3)\n",
    "    # img = cv2.resize(img, (0, 0), fx=0.5, fy=0.5)\n",
    "\n",
    "    cv2.imshow(\"Image\", img)\n",
    "    cv2.waitKey(0)\n",
    "    cv2.destroyAllWindows()"
   ]
  },
  {
   "cell_type": "markdown",
   "metadata": {},
   "source": [
    "### Вывод\n",
    "Как видно изрезультатов работы скрипта - определить контуры документа на фото очень непросто.\n",
    "\n",
    "На это влияет несколько факторов:\n",
    "1. Фон, на котором сделано фото\n",
    "2. Артефакты (руки)\n",
    "3. Дополнительные объекты на фото. "
   ]
  },
  {
   "cell_type": "markdown",
   "metadata": {},
   "source": [
    "## 7. Определение контуров на качественных фото"
   ]
  },
  {
   "cell_type": "markdown",
   "metadata": {},
   "source": [
    "Теперь поработаем с качественными фотографиями двух типов:\n",
    "\n",
    "1. Качество съемки удовлетворительное\n",
    "2. Качество съемки близко к идаельному в плане освещения и фона"
   ]
  },
  {
   "cell_type": "code",
   "execution_count": 7,
   "metadata": {},
   "outputs": [],
   "source": [
    "FILE_PATH_2 = '/home/kirillk/datasets/OCR/ocr_test_cases_3/'"
   ]
  },
  {
   "cell_type": "code",
   "execution_count": 10,
   "metadata": {},
   "outputs": [
    {
     "data": {
      "text/plain": [
       "['001.JPG',\n",
       " '002.JPG',\n",
       " '003.JPG',\n",
       " '004.JPG',\n",
       " '005.JPG',\n",
       " '006.JPG',\n",
       " '007.JPG',\n",
       " '008.JPG',\n",
       " '009.JPG',\n",
       " '010.JPG',\n",
       " '011.JPG',\n",
       " '012.JPG',\n",
       " '013.JPG']"
      ]
     },
     "execution_count": 10,
     "metadata": {},
     "output_type": "execute_result"
    }
   ],
   "source": [
    "good_photo_list = sorted(os.listdir(FILE_PATH_2))\n",
    "good_photo_list = [i for i in good_photo_list if i.endswith('.JPG')]\n",
    "good_photo_list"
   ]
  },
  {
   "cell_type": "code",
   "execution_count": 11,
   "metadata": {},
   "outputs": [
    {
     "ename": "error",
     "evalue": "OpenCV(4.5.5) /io/opencv/modules/imgproc/src/resize.cpp:4052: error: (-215:Assertion failed) !ssize.empty() in function 'resize'\n",
     "output_type": "error",
     "traceback": [
      "\u001b[0;31m---------------------------------------------------------------------------\u001b[0m",
      "\u001b[0;31merror\u001b[0m                                     Traceback (most recent call last)",
      "Input \u001b[0;32mIn [11]\u001b[0m, in \u001b[0;36m<cell line: 2>\u001b[0;34m()\u001b[0m\n\u001b[1;32m      2\u001b[0m \u001b[38;5;28;01mfor\u001b[39;00m photo \u001b[38;5;129;01min\u001b[39;00m good_photo_list:\n\u001b[1;32m      3\u001b[0m     image \u001b[38;5;241m=\u001b[39m cv2\u001b[38;5;241m.\u001b[39mimread(FILE_PATH_2 \u001b[38;5;241m+\u001b[39m photo)\n\u001b[0;32m----> 4\u001b[0m     image \u001b[38;5;241m=\u001b[39m \u001b[43mcv2\u001b[49m\u001b[38;5;241;43m.\u001b[39;49m\u001b[43mresize\u001b[49m\u001b[43m(\u001b[49m\u001b[43mimage\u001b[49m\u001b[43m,\u001b[49m\u001b[43m \u001b[49m\u001b[43m(\u001b[49m\u001b[38;5;241;43m0\u001b[39;49m\u001b[43m,\u001b[49m\u001b[43m \u001b[49m\u001b[38;5;241;43m0\u001b[39;49m\u001b[43m)\u001b[49m\u001b[43m,\u001b[49m\u001b[43m \u001b[49m\u001b[43mfx\u001b[49m\u001b[38;5;241;43m=\u001b[39;49m\u001b[38;5;241;43m0.2\u001b[39;49m\u001b[43m,\u001b[49m\u001b[43m \u001b[49m\u001b[43mfy\u001b[49m\u001b[38;5;241;43m=\u001b[39;49m\u001b[38;5;241;43m0.2\u001b[39;49m\u001b[43m)\u001b[49m\n\u001b[1;32m      5\u001b[0m     cv2\u001b[38;5;241m.\u001b[39mimshow(\u001b[38;5;124m\"\u001b[39m\u001b[38;5;124mImage\u001b[39m\u001b[38;5;124m\"\u001b[39m, image)\n\u001b[1;32m      6\u001b[0m     cv2\u001b[38;5;241m.\u001b[39mwaitKey(\u001b[38;5;241m0\u001b[39m)\n",
      "\u001b[0;31merror\u001b[0m: OpenCV(4.5.5) /io/opencv/modules/imgproc/src/resize.cpp:4052: error: (-215:Assertion failed) !ssize.empty() in function 'resize'\n"
     ]
    }
   ],
   "source": [
    "# посмотрим на фото\n",
    "for photo in good_photo_list:\n",
    "    image = cv2.imread(FILE_PATH_2 + photo)\n",
    "    image = cv2.resize(image, (0, 0), fx=0.2, fy=0.2)\n",
    "    cv2.imshow(\"Image\", image)\n",
    "    cv2.waitKey(0)\n",
    "    cv2.destroyAllWindows()"
   ]
  },
  {
   "cell_type": "code",
   "execution_count": 11,
   "metadata": {},
   "outputs": [],
   "source": [
    "# посмотрим на фото с контурами\n",
    "for photo in good_photo_list:\n",
    "    im = cv2.imread(FILE_PATH_2 + photo)\n",
    "    imgray = cv2.cvtColor(im, cv2.COLOR_BGR2GRAY)\n",
    "    ret, thresh = cv2.threshold(imgray, 160, 255, 0)  # 160\n",
    "    contours, _ = cv2.findContours(thresh, cv2.RETR_EXTERNAL, cv2.CHAIN_APPROX_NONE)\n",
    "\n",
    "    max_contour = 0\n",
    "    num_of_contour = None\n",
    "\n",
    "    for num, i in enumerate(contours):\n",
    "        if len(i) > max_contour:\n",
    "            max_contour = len(i)\n",
    "            num_of_contour = num\n",
    "\n",
    "    shape, vertices = detect_shape(contours[num_of_contour])\n",
    "    # print(vertices)\n",
    "    img = cv2.polylines(im, [vertices], True, (0, 0, 255), 8)\n",
    "    img = cv2.resize(img, (0, 0), fx=0.23, fy=0.23)\n",
    "\n",
    "    cv2.imshow(\"Image\", img)\n",
    "    cv2.waitKey(0)\n",
    "    cv2.destroyAllWindows()"
   ]
  },
  {
   "cell_type": "markdown",
   "metadata": {},
   "source": [
    "### Вывод\n",
    "Определение контуров документа на качественном фото также зависит от фона и освещения."
   ]
  },
  {
   "cell_type": "markdown",
   "metadata": {},
   "source": [
    "## 8. Поворот фото"
   ]
  },
  {
   "cell_type": "markdown",
   "metadata": {},
   "source": [
    "Для исследования возможностей поворота фотографий выделим из перечня фотографии со значтельным поворотом."
   ]
  },
  {
   "cell_type": "code",
   "execution_count": 12,
   "metadata": {},
   "outputs": [],
   "source": [
    "rotated_photo_list = ['009.JPG', '010.JPG', '011.JPG', '012.JPG']"
   ]
  },
  {
   "cell_type": "code",
   "execution_count": 13,
   "metadata": {},
   "outputs": [],
   "source": [
    "# посмотрим на фото\n",
    "for photo in rotated_photo_list:\n",
    "    image = cv2.imread(FILE_PATH_2 + photo)\n",
    "    image = cv2.resize(image, (0, 0), fx=0.2, fy=0.2)\n",
    "    cv2.imshow(\"Image\", image)\n",
    "    cv2.waitKey(0)\n",
    "    cv2.destroyAllWindows()"
   ]
  },
  {
   "cell_type": "code",
   "execution_count": 14,
   "metadata": {},
   "outputs": [],
   "source": [
    "# посмотрим на фото с контурами\n",
    "for photo in rotated_photo_list:\n",
    "    im = cv2.imread(FILE_PATH_2 + photo)\n",
    "    imgray = cv2.cvtColor(im, cv2.COLOR_BGR2GRAY)\n",
    "    ret, thresh = cv2.threshold(imgray, 160, 255, 0)  # 160\n",
    "    contours, _ = cv2.findContours(thresh, cv2.RETR_EXTERNAL, cv2.CHAIN_APPROX_NONE)\n",
    "\n",
    "    max_contour = 0\n",
    "    num_of_contour = None\n",
    "\n",
    "    for num, i in enumerate(contours):\n",
    "        if len(i) > max_contour:\n",
    "            max_contour = len(i)\n",
    "            num_of_contour = num\n",
    "\n",
    "    shape, vertices = detect_shape(contours[num_of_contour])\n",
    "    # print(vertices)\n",
    "    img = cv2.polylines(im, [vertices], True, (0, 0, 255), 8)\n",
    "    img = cv2.resize(img, (0, 0), fx=0.23, fy=0.23)\n",
    "\n",
    "    cv2.imshow(\"Image\", img)\n",
    "    cv2.waitKey(0)\n",
    "    cv2.destroyAllWindows()"
   ]
  },
  {
   "cell_type": "markdown",
   "metadata": {},
   "source": [
    "#### Вывод\n",
    "Контуры на всех фото выделяются качественно. "
   ]
  },
  {
   "cell_type": "markdown",
   "metadata": {},
   "source": [
    "### Для примера обработаем первое фото из списка."
   ]
  },
  {
   "cell_type": "code",
   "execution_count": 15,
   "metadata": {},
   "outputs": [
    {
     "name": "stdout",
     "output_type": "stream",
     "text": [
      "rectangle [[[ 843  297]]\n",
      "\n",
      " [[ 203 3192]]\n",
      "\n",
      " [[2312 3640]]\n",
      "\n",
      " [[2826  736]]]\n"
     ]
    }
   ],
   "source": [
    "im = cv2.imread(FILE_PATH_2 + rotated_photo_list[0])\n",
    "imgray = cv2.cvtColor(im, cv2.COLOR_BGR2GRAY)\n",
    "ret, thresh = cv2.threshold(imgray, 160, 255, 0)  # 160\n",
    "contours, _ = cv2.findContours(thresh, cv2.RETR_EXTERNAL, cv2.CHAIN_APPROX_NONE)\n",
    "\n",
    "max_contour = 0\n",
    "num_of_contour = None\n",
    "\n",
    "for num, i in enumerate(contours):\n",
    "    if len(i) > max_contour:\n",
    "        max_contour = len(i)\n",
    "        num_of_contour = num\n",
    "\n",
    "shape, vertices = detect_shape(contours[num_of_contour])\n",
    "print(shape, vertices)\n",
    "img = cv2.polylines(im, [vertices], True, (0, 0, 255), 8)\n",
    "img = cv2.resize(img, (0, 0), fx=0.23, fy=0.23)\n",
    "\n",
    "cv2.imshow(\"Image\", img)\n",
    "cv2.waitKey(0)\n",
    "cv2.destroyAllWindows()"
   ]
  },
  {
   "cell_type": "code",
   "execution_count": 16,
   "metadata": {},
   "outputs": [
    {
     "name": "stdout",
     "output_type": "stream",
     "text": [
      "203 3640 2312 3640 203 3640\n"
     ]
    }
   ],
   "source": [
    "x1 = (vertices[1][0][0])\n",
    "y1 = (vertices[1][0][1])\n",
    "\n",
    "x2 = (vertices[2][0][0])\n",
    "y2 = (vertices[2][0][1])\n",
    "\n",
    "xM = (vertices[1][0][0])\n",
    "yM = (vertices[2][0][1])\n",
    "\n",
    "print(x1, y2, x2, y2, xM, yM)"
   ]
  },
  {
   "cell_type": "code",
   "execution_count": 17,
   "metadata": {},
   "outputs": [
    {
     "name": "stdout",
     "output_type": "stream",
     "text": [
      "2109\n",
      "448\n"
     ]
    }
   ],
   "source": [
    "catet_1_M = abs(x2 - xM)\n",
    "catet_M_2 = abs(yM - y1)\n",
    "\n",
    "print(catet_1_M)\n",
    "print(catet_M_2)"
   ]
  },
  {
   "cell_type": "code",
   "execution_count": 18,
   "metadata": {},
   "outputs": [
    {
     "data": {
      "text/plain": [
       "12"
      ]
     },
     "execution_count": 18,
     "metadata": {},
     "output_type": "execute_result"
    }
   ],
   "source": [
    "tg_a = catet_M_2 / catet_1_M\n",
    "angle = round(math.degrees(math.atan(tg_a)))\n",
    "angle"
   ]
  },
  {
   "cell_type": "code",
   "execution_count": 19,
   "metadata": {},
   "outputs": [],
   "source": [
    "test_img = cv2.imread(FILE_PATH_2 + rotated_photo_list[0])\n",
    "test_img = cv2.resize(test_img, (0, 0), fx=0.23, fy=0.23)\n",
    "rotated = imutils.rotate_bound(test_img, -angle)\n",
    "cv2.imshow(f\"Rotated by {angle} Degrees\", rotated)\n",
    "cv2.waitKey(0)\n",
    "cv2.destroyAllWindows()"
   ]
  },
  {
   "cell_type": "markdown",
   "metadata": {},
   "source": [
    "### Тест автоматизации поворота и кропа первого фото из списка."
   ]
  },
  {
   "cell_type": "code",
   "execution_count": 38,
   "metadata": {},
   "outputs": [
    {
     "name": "stdout",
     "output_type": "stream",
     "text": [
      "737 3675\n",
      "833 2954\n"
     ]
    }
   ],
   "source": [
    "im = cv2.imread(FILE_PATH_2 + rotated_photo_list[3])\n",
    "im_gray = cv2.cvtColor(im, cv2.COLOR_BGR2GRAY)\n",
    "_, thresh = cv2.threshold(im_gray, 160, 255, 0)  # 160\n",
    "contours, _ = cv2.findContours(thresh, cv2.RETR_EXTERNAL, cv2.CHAIN_APPROX_NONE)\n",
    "\n",
    "max_contour = 0\n",
    "num_of_contour = None\n",
    "\n",
    "for num, i in enumerate(contours):\n",
    "    if len(i) > max_contour:\n",
    "        max_contour = len(i)\n",
    "        num_of_contour = num\n",
    "\n",
    "shape, vertices = detect_shape(contours[num_of_contour])\n",
    "\n",
    "x1 = (vertices[1][0][0])\n",
    "y1 = (vertices[1][0][1])\n",
    "\n",
    "x2 = (vertices[2][0][0])\n",
    "y2 = (vertices[2][0][1])\n",
    "\n",
    "xM = (vertices[1][0][0])\n",
    "yM = (vertices[2][0][1])\n",
    "\n",
    "catet_M_2 = abs(x2 - xM)\n",
    "catet_1_M = abs(yM - y1)\n",
    "\n",
    "tg_a = catet_1_M / catet_M_2\n",
    "angle = round(math.degrees(math.atan(tg_a)))\n",
    "\n",
    "# здесь осуществили поворот, rotate_bound поворачивает изображение по часовой стрелке\n",
    "img = imutils.rotate_bound(im_gray, -angle)\n",
    "\n",
    "# снова ищем контуры документа\n",
    "_, thresh = cv2.threshold(img, 160, 255, 0)  \n",
    "contours, _ = cv2.findContours(thresh, cv2.RETR_EXTERNAL, cv2.CHAIN_APPROX_NONE)\n",
    "\n",
    "max_contour = 0\n",
    "num_of_contour = None\n",
    "\n",
    "for num, i in enumerate(contours):\n",
    "    if len(i) > max_contour:\n",
    "        max_contour = len(i)\n",
    "        num_of_contour = num\n",
    "\n",
    "_, vertices_2 = detect_shape(contours[num_of_contour])\n",
    "\n",
    "x_1, x_2 = min([vertices_2[0][0][0], vertices_2[1][0][0]]), max([vertices_2[2][0][0], vertices_2[3][0][0]])\n",
    "y_1, y_2 = min([vertices_2[0][0][1], vertices_2[3][0][1]]), max([vertices_2[2][0][1], vertices_2[2][0][1]])\n",
    "print(x_1, x_2)\n",
    "print(y_1, y_2)\n",
    "\n",
    "# img = cv2.polylines(img, [vertices_2], True, (0, 0, 255), 8)\n",
    "# print(vertices_2)\n",
    "\n",
    "im = imutils.rotate_bound(im, -angle)\n",
    "\n",
    "im = im[y_1:y_2, x_1:x_2]\n",
    "\n",
    "im = cv2.resize(im, (0, 0), fx=0.3, fy=0.3)\n",
    "\n",
    "\n",
    "# img = img[y_1:y_2, x_1:x_2]\n",
    "# img = cv2.resize(img, (0, 0), fx=0.23, fy=0.23)\n",
    "\n",
    "cv2.imshow(\"Image\", im)\n",
    "cv2.waitKey(0)\n",
    "cv2.destroyAllWindows()"
   ]
  },
  {
   "cell_type": "markdown",
   "metadata": {},
   "source": [
    "### Оптимизация скрипта поворота фото "
   ]
  },
  {
   "cell_type": "code",
   "execution_count": 20,
   "metadata": {},
   "outputs": [],
   "source": [
    "def find_contour(gray_image, threshold=160):\n",
    "    _, thresh = cv2.threshold(gray_image, threshold, 255, 0)  # 160\n",
    "    contours, _ = cv2.findContours(thresh, cv2.RETR_EXTERNAL, cv2.CHAIN_APPROX_NONE)\n",
    "\n",
    "    max_contour = 0\n",
    "    num_of_contour = None\n",
    "\n",
    "    for num, i in enumerate(contours):\n",
    "        if len(i) > max_contour:\n",
    "            max_contour = len(i)\n",
    "            num_of_contour = num\n",
    "    return contours[num_of_contour]    "
   ]
  },
  {
   "cell_type": "code",
   "execution_count": 22,
   "metadata": {},
   "outputs": [
    {
     "name": "stdout",
     "output_type": "stream",
     "text": [
      "CPU times: user 1.16 s, sys: 617 ms, total: 1.78 s\n",
      "Wall time: 42.5 s\n"
     ]
    }
   ],
   "source": [
    "%%time\n",
    "im = cv2.imread(FILE_PATH_2 + rotated_photo_list[0])\n",
    "im_gray = cv2.cvtColor(im, cv2.COLOR_BGR2GRAY)\n",
    "\n",
    "doc_contour = find_contour(im_gray)\n",
    "shape, vertices = detect_shape(doc_contour)\n",
    "\n",
    "assert shape=='rectangle'\n",
    "\n",
    "x1, y1 = vertices[1][0][0], vertices[1][0][1]\n",
    "x2, y2 = vertices[2][0][0], vertices[2][0][1]\n",
    "xM, yM = vertices[1][0][0], vertices[2][0][1]\n",
    "\n",
    "# catet_M_2 = abs(x2 - xM)\n",
    "# catet_1_M = abs(yM - y1)\n",
    "\n",
    "catet_M_2 = (x2 - xM)\n",
    "catet_1_M = (yM - y1)\n",
    "\n",
    "tg_a = catet_1_M / catet_M_2\n",
    "angle = round(math.degrees(math.atan(tg_a)))\n",
    "\n",
    "# здесь осуществили поворот, rotate_bound поворачивает изображение по часовой стрелке\n",
    "img = imutils.rotate_bound(im_gray, -angle)\n",
    "\n",
    "# снова ищем контуры документа\n",
    "contour_for_crop = find_contour(img)\n",
    "_, vertices_2 = detect_shape(contour_for_crop)\n",
    "\n",
    "x_1, x_2 = min([vertices_2[0][0][0], vertices_2[1][0][0]]), max([vertices_2[2][0][0], vertices_2[3][0][0]])\n",
    "y_1, y_2 = min([vertices_2[0][0][1], vertices_2[3][0][1]]), max([vertices_2[2][0][1], vertices_2[2][0][1]])\n",
    "\n",
    "im = imutils.rotate_bound(im, -angle)\n",
    "im = im[y_1:y_2, x_1:x_2]\n",
    "im = cv2.resize(im, (0, 0), fx=0.3, fy=0.3)\n",
    "\n",
    "cv2.imshow(\"Image\", im)\n",
    "cv2.waitKey(0)\n",
    "cv2.destroyAllWindows()"
   ]
  },
  {
   "cell_type": "code",
   "execution_count": null,
   "metadata": {},
   "outputs": [],
   "source": []
  }
 ],
 "metadata": {
  "interpreter": {
   "hash": "1c189c8536020d76ce164149959fa548ac26c70e9da70a7e7c9525c7d8b9f701"
  },
  "kernelspec": {
   "display_name": "ocr_data_generation",
   "language": "python",
   "name": "ocr_data_generation"
  },
  "language_info": {
   "codemirror_mode": {
    "name": "ipython",
    "version": 3
   },
   "file_extension": ".py",
   "mimetype": "text/x-python",
   "name": "python",
   "nbconvert_exporter": "python",
   "pygments_lexer": "ipython3",
   "version": "3.9.13"
  }
 },
 "nbformat": 4,
 "nbformat_minor": 2
}
