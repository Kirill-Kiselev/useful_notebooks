{
 "cells": [
  {
   "cell_type": "markdown",
   "id": "6111a7ea",
   "metadata": {},
   "source": [
    "# Исследование препроцессинга на распознавание номера документов прототипа OCR. Детекция OpenVINO. Распознавание Tesseract \n",
    "- Автор: Кирилл Киселев\n",
    "- Дата начала: 13.05.2022\n",
    "- Описание исследования: в датасете содержится 203 изображения. Сперва необходимо определить количество отфильтрованных изображений, затем получить результаты распознавания. Сделать выводы."
   ]
  },
  {
   "cell_type": "markdown",
   "id": "f54ab7d3",
   "metadata": {},
   "source": [
    "## Загрузка библиотек"
   ]
  },
  {
   "cell_type": "code",
   "execution_count": 151,
   "id": "f52652fd",
   "metadata": {},
   "outputs": [],
   "source": [
    "import os\n",
    "import pandas as pd\n",
    "import cv2\n",
    "import numpy as np"
   ]
  },
  {
   "cell_type": "markdown",
   "id": "753c8100",
   "metadata": {},
   "source": [
    "## Глобальные переменные"
   ]
  },
  {
   "cell_type": "code",
   "execution_count": 152,
   "id": "66a47e96",
   "metadata": {},
   "outputs": [
    {
     "name": "stdout",
     "output_type": "stream",
     "text": [
      "/home/kirillk/PycharmProjects/useful_notebooks/ocr\r\n"
     ]
    }
   ],
   "source": [
    "!pwd"
   ]
  },
  {
   "cell_type": "code",
   "execution_count": 153,
   "id": "9efd8f92",
   "metadata": {},
   "outputs": [],
   "source": [
    "TXT_PATH = '/home/kirillk/PycharmProjects/ocr_prototype_tesseract/ocr-prototype/assets/results/ocr_ovino_tesseract_iter_8.txt'\n",
    "\n",
    "SAVE_PATH = '/home/kirillk/datasets/OCR/ocr_test_cases/paddle_ocr_results'\n",
    "DATA_PATH = '/home/kirillk/datasets/OCR/ocr_test_cases/test_cases/'"
   ]
  },
  {
   "cell_type": "markdown",
   "id": "50a2b1ad",
   "metadata": {},
   "source": [
    "## Загрузка данных и подготовка датасета"
   ]
  },
  {
   "cell_type": "code",
   "execution_count": 154,
   "id": "9b940349",
   "metadata": {},
   "outputs": [],
   "source": [
    "filename_list = []\n",
    "results_list = []\n",
    "\n",
    "with open(TXT_PATH, \"r\") as file:\n",
    "    for num, line in enumerate(file):\n",
    "        if 'jpg' in line:\n",
    "            line = line.split(']')[-1].rstrip()\n",
    "            filename_list.append(line)\n",
    "        elif 'FPS' in line:\n",
    "            break\n",
    "        else:\n",
    "            results_list.append(line.rstrip())\n",
    "            \n",
    "# results_list = results_list[0:-1]"
   ]
  },
  {
   "cell_type": "code",
   "execution_count": 155,
   "id": "f4196938",
   "metadata": {
    "scrolled": true
   },
   "outputs": [
    {
     "data": {
      "text/plain": [
       "['148.jpg',\n",
       " '083.jpg',\n",
       " '076.jpg',\n",
       " '146.jpg',\n",
       " '079.jpg',\n",
       " '065.jpg',\n",
       " '069.jpg',\n",
       " '165.jpg',\n",
       " '113.jpg',\n",
       " '180.jpg',\n",
       " '119.jpg',\n",
       " '081.jpg',\n",
       " '167.jpg']"
      ]
     },
     "execution_count": 155,
     "metadata": {},
     "output_type": "execute_result"
    }
   ],
   "source": [
    "filename_list"
   ]
  },
  {
   "cell_type": "code",
   "execution_count": 156,
   "id": "943a20d3",
   "metadata": {},
   "outputs": [
    {
     "data": {
      "text/plain": [
       "13"
      ]
     },
     "execution_count": 156,
     "metadata": {},
     "output_type": "execute_result"
    }
   ],
   "source": [
    "len(filename_list)"
   ]
  },
  {
   "cell_type": "code",
   "execution_count": null,
   "id": "62177ba1",
   "metadata": {},
   "outputs": [],
   "source": []
  },
  {
   "cell_type": "code",
   "execution_count": 157,
   "id": "025d9225",
   "metadata": {},
   "outputs": [
    {
     "data": {
      "text/plain": [
       "[\"{'id': 0, 'barcode': '2860602715096', 'doc_type': 'Товарная ‚накладная', 'doc_number': None, 'error_list': ['Пересканируйте, текст не найден'], 'barcode_region': [163, 0, 1618, 5898], 'type_region': [1120, 624, 1877, 996], 'number_region': [1738, 636, 2201, 972]}\",\n",
       " \"{'id': 1, 'barcode': '2810096516426', 'doc_type': 'Товарная ‚накладная', 'doc_number': None, 'error_list': ['Пересканируйте, текст не найден'], 'barcode_region': [97, 0, 1266, 4133], 'type_region': [1496, 1325, 2595, 1697], 'number_region': [2379, 1341, 3109, 1680]}\",\n",
       " \"{'id': 2, 'barcode': '2810096516365', 'doc_type': 'Товарная накладная', 'doc_number': ')JOKYMeHTa', 'error_list': ['Пересканируйте, текст не найден'], 'barcode_region': [97, 0, 1266, 4133], 'type_region': [1524, 1310, 2623, 1682], 'number_region': [2407, 1326, 3137, 1665]}\",\n",
       " \"{'id': 3, 'barcode': '2860601473409', 'doc_type': None, 'doc_number': 'TE01T418140.', 'error_list': ['Пересканируйте, текст не найден'], 'barcode_region': [164, 0, 1626, 5910], 'type_region': [1176, 754, 1936, 1127], 'number_region': [1797, 766, 2262, 1103]}\",\n",
       " \"{'id': 4, 'barcode': '2810097409826', 'doc_type': 'Товарная ‚накладная', 'doc_number': ')JOKyMeHTa', 'error_list': ['Пересканируйте, текст не найден'], 'barcode_region': [97, 0, 1266, 4133], 'type_region': [1514, 1325, 2613, 1697], 'number_region': [2397, 1341, 3127, 1680]}\",\n",
       " \"{'id': 5, 'barcode': '2810097409826', 'doc_type': 'Товарная накладная', 'doc_number': ')JOKYMEHTa', 'error_list': ['Пересканируйте, текст не найден'], 'barcode_region': [97, 0, 1266, 4133], 'type_region': [1561, 1217, 2660, 1589], 'number_region': [2444, 1233, 3174, 1572]}\",\n",
       " \"{'id': 6, 'barcode': '2810096516365', 'doc_type': 'Товарная накладная', 'doc_number': ')AOKYMEHTa', 'error_list': ['Пересканируйте, текст не найден'], 'barcode_region': [97, 0, 1266, 4133], 'type_region': [1564, 1281, 2663, 1653], 'number_region': [2447, 1297, 3177, 1636]}\",\n",
       " \"{'id': 7, 'barcode': '2860611233796', 'doc_type': None, 'doc_number': '[OOKymeHTa', 'error_list': ['Пересканируйте, текст не найден'], 'barcode_region': [162, 0, 1603, 5868], 'type_region': [1203, 730, 1953, 1100], 'number_region': [1815, 742, 2273, 1076]}\",\n",
       " \"{'id': 8, 'barcode': '2860597420210', 'doc_type': 'Товарная 1накладная', 'doc_number': None, 'error_list': ['Пересканируйте, текст не найден'], 'barcode_region': [162, 0, 1603, 5868], 'type_region': [1306, 2728, 2056, 3098], 'number_region': [1918, 2740, 2376, 3074]}\",\n",
       " \"{'id': 9, 'barcode': '2860618473492', 'doc_type': 'Товарная |накладная', 'doc_number': 'PAOKYMeHTA', 'error_list': ['Пересканируйте, текст не найден'], 'barcode_region': [163, 0, 1610, 5880], 'type_region': [1219, 752, 1972, 1123], 'number_region': [1834, 764, 2294, 1099]}\",\n",
       " '{\\'id\\': 10, \\'barcode\\': \\'2860611888071\\', \\'doc_type\\': \"Товарная \\'накладная\", \\'doc_number\\': \\'€002548537\\', \\'error_list\\': [\\'Пересканируйте, текст не найден\\'], \\'barcode_region\\': [163, 0, 1614, 5888], \\'type_region\\': [1194, 743, 1949, 1114], \\'number_region\\': [1811, 754, 2272, 1090]}',\n",
       " \"{'id': 11, 'barcode': '2810096516365', 'doc_type': 'Товарная накладная', 'doc_number': ')JOKYMEHTa', 'error_list': ['Пересканируйте, текст не найден'], 'barcode_region': [97, 0, 1266, 4133], 'type_region': [1526, 1318, 2625, 1690], 'number_region': [2409, 1334, 3139, 1673]}\",\n",
       " \"{'id': 12, 'barcode': '2860611147345', 'doc_type': None, 'doc_number': '8017530730', 'error_list': ['Пересканируйте, текст не найден'], 'barcode_region': [161, 0, 1597, 5858], 'type_region': [1219, 730, 1966, 1099], 'number_region': [1829, 741, 2286, 1075]}\"]"
      ]
     },
     "execution_count": 157,
     "metadata": {},
     "output_type": "execute_result"
    }
   ],
   "source": [
    "results_list"
   ]
  },
  {
   "cell_type": "code",
   "execution_count": 158,
   "id": "2e296809",
   "metadata": {},
   "outputs": [
    {
     "data": {
      "text/plain": [
       "13"
      ]
     },
     "execution_count": 158,
     "metadata": {},
     "output_type": "execute_result"
    }
   ],
   "source": [
    "len(results_list)"
   ]
  },
  {
   "cell_type": "code",
   "execution_count": 159,
   "id": "05f6918b",
   "metadata": {},
   "outputs": [],
   "source": [
    "df = pd.DataFrame()\n",
    "\n",
    "for num, _ in enumerate(results_list):\n",
    "    q = eval(results_list[num].replace('\\\\', ''))\n",
    "    if q['error_list'] == []:\n",
    "        q['error_list'] = 0\n",
    "    elif len(q['error_list']) == 2:\n",
    "        q['error_list'] = 2\n",
    "    else:\n",
    "        q['error_list'] = 1\n",
    "        \n",
    "    q['barcode_region'] = 0\n",
    "    q['type_region'] = 0\n",
    "    q['number_region'] =0\n",
    "    \n",
    "    res_df = pd.DataFrame(q, index=[0])\n",
    "    df = pd.concat([df, res_df])"
   ]
  },
  {
   "cell_type": "code",
   "execution_count": 160,
   "id": "77fe87ba",
   "metadata": {},
   "outputs": [],
   "source": [
    "df = df.reset_index(drop=True)"
   ]
  },
  {
   "cell_type": "code",
   "execution_count": 161,
   "id": "660d257c",
   "metadata": {},
   "outputs": [],
   "source": [
    "df['filename'] = filename_list"
   ]
  },
  {
   "cell_type": "code",
   "execution_count": 162,
   "id": "5b2c32de",
   "metadata": {},
   "outputs": [],
   "source": [
    "df = df[['id', 'filename', 'barcode', 'doc_type', 'doc_number', 'error_list']]"
   ]
  },
  {
   "cell_type": "code",
   "execution_count": 163,
   "id": "0815ac2b",
   "metadata": {},
   "outputs": [
    {
     "data": {
      "text/html": [
       "<div>\n",
       "<style scoped>\n",
       "    .dataframe tbody tr th:only-of-type {\n",
       "        vertical-align: middle;\n",
       "    }\n",
       "\n",
       "    .dataframe tbody tr th {\n",
       "        vertical-align: top;\n",
       "    }\n",
       "\n",
       "    .dataframe thead th {\n",
       "        text-align: right;\n",
       "    }\n",
       "</style>\n",
       "<table border=\"1\" class=\"dataframe\">\n",
       "  <thead>\n",
       "    <tr style=\"text-align: right;\">\n",
       "      <th></th>\n",
       "      <th>id</th>\n",
       "      <th>filename</th>\n",
       "      <th>barcode</th>\n",
       "      <th>doc_type</th>\n",
       "      <th>doc_number</th>\n",
       "      <th>error_list</th>\n",
       "    </tr>\n",
       "  </thead>\n",
       "  <tbody>\n",
       "    <tr>\n",
       "      <th>0</th>\n",
       "      <td>0</td>\n",
       "      <td>148.jpg</td>\n",
       "      <td>2860602715096</td>\n",
       "      <td>Товарная ‚накладная</td>\n",
       "      <td>None</td>\n",
       "      <td>1</td>\n",
       "    </tr>\n",
       "    <tr>\n",
       "      <th>1</th>\n",
       "      <td>1</td>\n",
       "      <td>083.jpg</td>\n",
       "      <td>2810096516426</td>\n",
       "      <td>Товарная ‚накладная</td>\n",
       "      <td>None</td>\n",
       "      <td>1</td>\n",
       "    </tr>\n",
       "    <tr>\n",
       "      <th>2</th>\n",
       "      <td>2</td>\n",
       "      <td>076.jpg</td>\n",
       "      <td>2810096516365</td>\n",
       "      <td>Товарная накладная</td>\n",
       "      <td>)JOKYMeHTa</td>\n",
       "      <td>1</td>\n",
       "    </tr>\n",
       "    <tr>\n",
       "      <th>3</th>\n",
       "      <td>3</td>\n",
       "      <td>146.jpg</td>\n",
       "      <td>2860601473409</td>\n",
       "      <td>None</td>\n",
       "      <td>TE01T418140.</td>\n",
       "      <td>1</td>\n",
       "    </tr>\n",
       "    <tr>\n",
       "      <th>4</th>\n",
       "      <td>4</td>\n",
       "      <td>079.jpg</td>\n",
       "      <td>2810097409826</td>\n",
       "      <td>Товарная ‚накладная</td>\n",
       "      <td>)JOKyMeHTa</td>\n",
       "      <td>1</td>\n",
       "    </tr>\n",
       "  </tbody>\n",
       "</table>\n",
       "</div>"
      ],
      "text/plain": [
       "   id filename        barcode             doc_type    doc_number  error_list\n",
       "0   0  148.jpg  2860602715096  Товарная ‚накладная          None           1\n",
       "1   1  083.jpg  2810096516426  Товарная ‚накладная          None           1\n",
       "2   2  076.jpg  2810096516365   Товарная накладная    )JOKYMeHTa           1\n",
       "3   3  146.jpg  2860601473409                 None  TE01T418140.           1\n",
       "4   4  079.jpg  2810097409826  Товарная ‚накладная    )JOKyMeHTa           1"
      ]
     },
     "execution_count": 163,
     "metadata": {},
     "output_type": "execute_result"
    }
   ],
   "source": [
    "df.head()"
   ]
  },
  {
   "cell_type": "markdown",
   "id": "ff1876cc",
   "metadata": {},
   "source": [
    "## Визуализация"
   ]
  },
  {
   "cell_type": "raw",
   "id": "811bd925",
   "metadata": {},
   "source": [
    "for i, doc in enumerate(df['filename']):\n",
    "    image = cv2.imread(DATA_PATH + doc)\n",
    "    image = cv2.resize(image, (0, 0), fx=0.25, fy=0.25)\n",
    "    filename = df['filename'][i]\n",
    "    barcode_number = df['barcode'][i]\n",
    "    doc_type = df['doc_type'][i]\n",
    "    doc_number = df['doc_number'][i]\n",
    "    \n",
    "    \n",
    "    image = cv2.putText(image, f'{filename}', (300, 50), cv2.FONT_HERSHEY_COMPLEX, 0.7, (255, 0, 0), 2)\n",
    "    image = cv2.putText(image, f'{barcode_number}', (300, 75), cv2.FONT_HERSHEY_COMPLEX, 0.7, (255, 0, 0), 2)\n",
    "    image = cv2.putText(image, f'{doc_type}', (300, 100), cv2.FONT_HERSHEY_COMPLEX, 0.7, (255, 0, 0), 2)\n",
    "    image = cv2.putText(image, f'{doc_number}', (300, 125), cv2.FONT_HERSHEY_COMPLEX, 0.7, (255, 0, 0), 2)\n",
    "\n",
    "    # Displaying the image\n",
    "    cv2.imshow(\"Output\", image)\n",
    "    cv2.waitKey(0)\n",
    "    cv2.destroyAllWindows()\n",
    "    \n",
    "    if i == 3:\n",
    "        break"
   ]
  },
  {
   "cell_type": "markdown",
   "id": "ef42f55f",
   "metadata": {},
   "source": [
    "## Анализ данных"
   ]
  },
  {
   "cell_type": "markdown",
   "id": "d75c133b",
   "metadata": {},
   "source": [
    "### Необходимые функции"
   ]
  },
  {
   "cell_type": "code",
   "execution_count": 164,
   "id": "cfa6901b",
   "metadata": {},
   "outputs": [],
   "source": [
    "def not_numeric_in_colunm(col):\n",
    "    not_numeric = {}\n",
    "    for i, value in enumerate(col):\n",
    "        if col[i].isnumeric() == False:\n",
    "            not_numeric[i] = value\n",
    "    return not_numeric"
   ]
  },
  {
   "cell_type": "code",
   "execution_count": 165,
   "id": "51855f51",
   "metadata": {},
   "outputs": [],
   "source": [
    "def len_of_numbers(col):\n",
    "    length_dict = {}\n",
    "    for i, value in enumerate(col):\n",
    "        if value.isnumeric():\n",
    "            if len(value) not in length_dict.keys():\n",
    "                length_dict[len(value)] = 1\n",
    "            else:\n",
    "                length_dict[len(value)] += 1\n",
    "    return length_dict"
   ]
  },
  {
   "cell_type": "markdown",
   "id": "21860a1b",
   "metadata": {},
   "source": [
    "### Doc number"
   ]
  },
  {
   "cell_type": "code",
   "execution_count": 166,
   "id": "a2c9e481",
   "metadata": {},
   "outputs": [
    {
     "data": {
      "text/plain": [
       "3"
      ]
     },
     "execution_count": 166,
     "metadata": {},
     "output_type": "execute_result"
    }
   ],
   "source": [
    "df['doc_number'].isna().sum()"
   ]
  },
  {
   "cell_type": "code",
   "execution_count": 167,
   "id": "3fbd74b0",
   "metadata": {},
   "outputs": [],
   "source": [
    "df['doc_number'] = df['doc_number'].fillna('None')"
   ]
  },
  {
   "cell_type": "code",
   "execution_count": 168,
   "id": "499194c8",
   "metadata": {},
   "outputs": [
    {
     "data": {
      "text/html": [
       "<div>\n",
       "<style scoped>\n",
       "    .dataframe tbody tr th:only-of-type {\n",
       "        vertical-align: middle;\n",
       "    }\n",
       "\n",
       "    .dataframe tbody tr th {\n",
       "        vertical-align: top;\n",
       "    }\n",
       "\n",
       "    .dataframe thead th {\n",
       "        text-align: right;\n",
       "    }\n",
       "</style>\n",
       "<table border=\"1\" class=\"dataframe\">\n",
       "  <thead>\n",
       "    <tr style=\"text-align: right;\">\n",
       "      <th></th>\n",
       "      <th>id</th>\n",
       "      <th>filename</th>\n",
       "      <th>barcode</th>\n",
       "      <th>doc_type</th>\n",
       "      <th>doc_number</th>\n",
       "      <th>error_list</th>\n",
       "    </tr>\n",
       "  </thead>\n",
       "  <tbody>\n",
       "    <tr>\n",
       "      <th>0</th>\n",
       "      <td>0</td>\n",
       "      <td>148.jpg</td>\n",
       "      <td>2860602715096</td>\n",
       "      <td>Товарная ‚накладная</td>\n",
       "      <td>None</td>\n",
       "      <td>1</td>\n",
       "    </tr>\n",
       "    <tr>\n",
       "      <th>1</th>\n",
       "      <td>1</td>\n",
       "      <td>083.jpg</td>\n",
       "      <td>2810096516426</td>\n",
       "      <td>Товарная ‚накладная</td>\n",
       "      <td>None</td>\n",
       "      <td>1</td>\n",
       "    </tr>\n",
       "    <tr>\n",
       "      <th>8</th>\n",
       "      <td>8</td>\n",
       "      <td>113.jpg</td>\n",
       "      <td>2860597420210</td>\n",
       "      <td>Товарная 1накладная</td>\n",
       "      <td>None</td>\n",
       "      <td>1</td>\n",
       "    </tr>\n",
       "  </tbody>\n",
       "</table>\n",
       "</div>"
      ],
      "text/plain": [
       "   id filename        barcode             doc_type doc_number  error_list\n",
       "0   0  148.jpg  2860602715096  Товарная ‚накладная       None           1\n",
       "1   1  083.jpg  2810096516426  Товарная ‚накладная       None           1\n",
       "8   8  113.jpg  2860597420210  Товарная 1накладная       None           1"
      ]
     },
     "execution_count": 168,
     "metadata": {},
     "output_type": "execute_result"
    }
   ],
   "source": [
    "bad_doc_number = df[df['doc_number'] == 'None']\n",
    "bad_doc_number.head(15)"
   ]
  },
  {
   "cell_type": "code",
   "execution_count": 169,
   "id": "295bc79f",
   "metadata": {},
   "outputs": [
    {
     "data": {
      "text/html": [
       "<div>\n",
       "<style scoped>\n",
       "    .dataframe tbody tr th:only-of-type {\n",
       "        vertical-align: middle;\n",
       "    }\n",
       "\n",
       "    .dataframe tbody tr th {\n",
       "        vertical-align: top;\n",
       "    }\n",
       "\n",
       "    .dataframe thead th {\n",
       "        text-align: right;\n",
       "    }\n",
       "</style>\n",
       "<table border=\"1\" class=\"dataframe\">\n",
       "  <thead>\n",
       "    <tr style=\"text-align: right;\">\n",
       "      <th></th>\n",
       "      <th>id</th>\n",
       "      <th>filename</th>\n",
       "      <th>barcode</th>\n",
       "      <th>doc_type</th>\n",
       "      <th>doc_number</th>\n",
       "      <th>error_list</th>\n",
       "    </tr>\n",
       "  </thead>\n",
       "  <tbody>\n",
       "    <tr>\n",
       "      <th>0</th>\n",
       "      <td>0</td>\n",
       "      <td>148.jpg</td>\n",
       "      <td>2860602715096</td>\n",
       "      <td>Товарная ‚накладная</td>\n",
       "      <td>None</td>\n",
       "      <td>1</td>\n",
       "    </tr>\n",
       "    <tr>\n",
       "      <th>1</th>\n",
       "      <td>1</td>\n",
       "      <td>083.jpg</td>\n",
       "      <td>2810096516426</td>\n",
       "      <td>Товарная ‚накладная</td>\n",
       "      <td>None</td>\n",
       "      <td>1</td>\n",
       "    </tr>\n",
       "    <tr>\n",
       "      <th>2</th>\n",
       "      <td>2</td>\n",
       "      <td>076.jpg</td>\n",
       "      <td>2810096516365</td>\n",
       "      <td>Товарная накладная</td>\n",
       "      <td>)JOKYMeHTa</td>\n",
       "      <td>1</td>\n",
       "    </tr>\n",
       "    <tr>\n",
       "      <th>3</th>\n",
       "      <td>3</td>\n",
       "      <td>146.jpg</td>\n",
       "      <td>2860601473409</td>\n",
       "      <td>None</td>\n",
       "      <td>TE01T418140.</td>\n",
       "      <td>1</td>\n",
       "    </tr>\n",
       "    <tr>\n",
       "      <th>4</th>\n",
       "      <td>4</td>\n",
       "      <td>079.jpg</td>\n",
       "      <td>2810097409826</td>\n",
       "      <td>Товарная ‚накладная</td>\n",
       "      <td>)JOKyMeHTa</td>\n",
       "      <td>1</td>\n",
       "    </tr>\n",
       "    <tr>\n",
       "      <th>5</th>\n",
       "      <td>5</td>\n",
       "      <td>065.jpg</td>\n",
       "      <td>2810097409826</td>\n",
       "      <td>Товарная накладная</td>\n",
       "      <td>)JOKYMEHTa</td>\n",
       "      <td>1</td>\n",
       "    </tr>\n",
       "    <tr>\n",
       "      <th>6</th>\n",
       "      <td>6</td>\n",
       "      <td>069.jpg</td>\n",
       "      <td>2810096516365</td>\n",
       "      <td>Товарная накладная</td>\n",
       "      <td>)AOKYMEHTa</td>\n",
       "      <td>1</td>\n",
       "    </tr>\n",
       "    <tr>\n",
       "      <th>7</th>\n",
       "      <td>7</td>\n",
       "      <td>165.jpg</td>\n",
       "      <td>2860611233796</td>\n",
       "      <td>None</td>\n",
       "      <td>[OOKymeHTa</td>\n",
       "      <td>1</td>\n",
       "    </tr>\n",
       "    <tr>\n",
       "      <th>8</th>\n",
       "      <td>8</td>\n",
       "      <td>113.jpg</td>\n",
       "      <td>2860597420210</td>\n",
       "      <td>Товарная 1накладная</td>\n",
       "      <td>None</td>\n",
       "      <td>1</td>\n",
       "    </tr>\n",
       "    <tr>\n",
       "      <th>9</th>\n",
       "      <td>9</td>\n",
       "      <td>180.jpg</td>\n",
       "      <td>2860618473492</td>\n",
       "      <td>Товарная |накладная</td>\n",
       "      <td>PAOKYMeHTA</td>\n",
       "      <td>1</td>\n",
       "    </tr>\n",
       "    <tr>\n",
       "      <th>10</th>\n",
       "      <td>10</td>\n",
       "      <td>119.jpg</td>\n",
       "      <td>2860611888071</td>\n",
       "      <td>Товарная 'накладная</td>\n",
       "      <td>€002548537</td>\n",
       "      <td>1</td>\n",
       "    </tr>\n",
       "    <tr>\n",
       "      <th>11</th>\n",
       "      <td>11</td>\n",
       "      <td>081.jpg</td>\n",
       "      <td>2810096516365</td>\n",
       "      <td>Товарная накладная</td>\n",
       "      <td>)JOKYMEHTa</td>\n",
       "      <td>1</td>\n",
       "    </tr>\n",
       "  </tbody>\n",
       "</table>\n",
       "</div>"
      ],
      "text/plain": [
       "    id filename        barcode             doc_type    doc_number  error_list\n",
       "0    0  148.jpg  2860602715096  Товарная ‚накладная          None           1\n",
       "1    1  083.jpg  2810096516426  Товарная ‚накладная          None           1\n",
       "2    2  076.jpg  2810096516365   Товарная накладная    )JOKYMeHTa           1\n",
       "3    3  146.jpg  2860601473409                 None  TE01T418140.           1\n",
       "4    4  079.jpg  2810097409826  Товарная ‚накладная    )JOKyMeHTa           1\n",
       "5    5  065.jpg  2810097409826   Товарная накладная    )JOKYMEHTa           1\n",
       "6    6  069.jpg  2810096516365   Товарная накладная    )AOKYMEHTa           1\n",
       "7    7  165.jpg  2860611233796                 None    [OOKymeHTa           1\n",
       "8    8  113.jpg  2860597420210  Товарная 1накладная          None           1\n",
       "9    9  180.jpg  2860618473492  Товарная |накладная    PAOKYMeHTA           1\n",
       "10  10  119.jpg  2860611888071  Товарная 'накладная    €002548537           1\n",
       "11  11  081.jpg  2810096516365   Товарная накладная    )JOKYMEHTa           1"
      ]
     },
     "metadata": {},
     "output_type": "display_data"
    },
    {
     "name": "stdout",
     "output_type": "stream",
     "text": [
      "12\n"
     ]
    }
   ],
   "source": [
    "bad_doc_number_df = df[df['doc_number'].str.isnumeric() == False]\n",
    "display(bad_doc_number_df.tail(20))\n",
    "print(len(bad_doc_number_df))"
   ]
  },
  {
   "cell_type": "code",
   "execution_count": 170,
   "id": "da0e45a2",
   "metadata": {},
   "outputs": [],
   "source": [
    "len_not_match = []\n",
    "\n",
    "for num, value in enumerate(df['doc_number']):\n",
    "    if len(value) != 10:\n",
    "        len_not_match.append(df['filename'][num])"
   ]
  },
  {
   "cell_type": "code",
   "execution_count": 171,
   "id": "299d5ff9",
   "metadata": {},
   "outputs": [
    {
     "data": {
      "text/plain": [
       "['148.jpg', '083.jpg', '146.jpg', '113.jpg']"
      ]
     },
     "execution_count": 171,
     "metadata": {},
     "output_type": "execute_result"
    }
   ],
   "source": [
    "len_not_match"
   ]
  },
  {
   "cell_type": "code",
   "execution_count": 130,
   "id": "efab10fa",
   "metadata": {},
   "outputs": [
    {
     "data": {
      "text/plain": [
       "5"
      ]
     },
     "execution_count": 130,
     "metadata": {},
     "output_type": "execute_result"
    }
   ],
   "source": [
    "len(len_not_match)"
   ]
  },
  {
   "cell_type": "code",
   "execution_count": 131,
   "id": "d68d3e82",
   "metadata": {},
   "outputs": [
    {
     "data": {
      "text/html": [
       "<div>\n",
       "<style scoped>\n",
       "    .dataframe tbody tr th:only-of-type {\n",
       "        vertical-align: middle;\n",
       "    }\n",
       "\n",
       "    .dataframe tbody tr th {\n",
       "        vertical-align: top;\n",
       "    }\n",
       "\n",
       "    .dataframe thead th {\n",
       "        text-align: right;\n",
       "    }\n",
       "</style>\n",
       "<table border=\"1\" class=\"dataframe\">\n",
       "  <thead>\n",
       "    <tr style=\"text-align: right;\">\n",
       "      <th></th>\n",
       "      <th>id</th>\n",
       "      <th>filename</th>\n",
       "      <th>barcode</th>\n",
       "      <th>doc_type</th>\n",
       "      <th>doc_number</th>\n",
       "      <th>error_list</th>\n",
       "    </tr>\n",
       "  </thead>\n",
       "  <tbody>\n",
       "  </tbody>\n",
       "</table>\n",
       "</div>"
      ],
      "text/plain": [
       "Empty DataFrame\n",
       "Columns: [id, filename, barcode, doc_type, doc_number, error_list]\n",
       "Index: []"
      ]
     },
     "execution_count": 131,
     "metadata": {},
     "output_type": "execute_result"
    }
   ],
   "source": [
    "good_doc_number_df = df[df['doc_number'].str.isnumeric() == True]\n",
    "good_doc_number_df"
   ]
  },
  {
   "cell_type": "code",
   "execution_count": 132,
   "id": "2520f61c",
   "metadata": {},
   "outputs": [],
   "source": [
    "bad_doc_number_filenames = set(list(bad_doc_number_df['filename']) + len_not_match)"
   ]
  },
  {
   "cell_type": "code",
   "execution_count": 133,
   "id": "26863e67",
   "metadata": {},
   "outputs": [
    {
     "data": {
      "text/plain": [
       "13"
      ]
     },
     "execution_count": 133,
     "metadata": {},
     "output_type": "execute_result"
    }
   ],
   "source": [
    "len(bad_doc_number_filenames)"
   ]
  },
  {
   "cell_type": "code",
   "execution_count": 134,
   "id": "a60930cf",
   "metadata": {},
   "outputs": [
    {
     "data": {
      "text/plain": [
       "0"
      ]
     },
     "execution_count": 134,
     "metadata": {},
     "output_type": "execute_result"
    }
   ],
   "source": [
    "len(df) - len(bad_doc_number_filenames)"
   ]
  },
  {
   "cell_type": "code",
   "execution_count": 135,
   "id": "2400ccd1",
   "metadata": {},
   "outputs": [
    {
     "data": {
      "text/plain": [
       "0.0"
      ]
     },
     "execution_count": 135,
     "metadata": {},
     "output_type": "execute_result"
    }
   ],
   "source": [
    "1 - len(bad_doc_number_filenames)/len(df)"
   ]
  },
  {
   "cell_type": "code",
   "execution_count": 136,
   "id": "8857226c",
   "metadata": {},
   "outputs": [
    {
     "data": {
      "text/plain": [
       "{'065.jpg',\n",
       " '069.jpg',\n",
       " '076.jpg',\n",
       " '079.jpg',\n",
       " '081.jpg',\n",
       " '083.jpg',\n",
       " '113.jpg',\n",
       " '119.jpg',\n",
       " '146.jpg',\n",
       " '148.jpg',\n",
       " '165.jpg',\n",
       " '167.jpg',\n",
       " '180.jpg'}"
      ]
     },
     "execution_count": 136,
     "metadata": {},
     "output_type": "execute_result"
    }
   ],
   "source": [
    "bad_doc_number_filenames"
   ]
  },
  {
   "cell_type": "code",
   "execution_count": 137,
   "id": "60d65ca7",
   "metadata": {},
   "outputs": [
    {
     "data": {
      "text/plain": [
       "13"
      ]
     },
     "execution_count": 137,
     "metadata": {},
     "output_type": "execute_result"
    }
   ],
   "source": [
    "len(bad_doc_number_filenames)"
   ]
  },
  {
   "cell_type": "code",
   "execution_count": 109,
   "id": "298de6c6",
   "metadata": {},
   "outputs": [],
   "source": [
    "bad_doc_number_it_4 = ['008.jpg', '019.jpg', '038.jpg', '039.jpg', '041.jpg', '044.jpg', '047.jpg',\n",
    "                       '052.jpg', '057.jpg', '065.jpg', '066.jpg', '068.jpg', '069.jpg', '074.jpg',\n",
    "                       '076.jpg', '079.jpg', '080.jpg', '081.jpg', '082.jpg', '083.jpg', '084.jpg',\n",
    "                       '091.jpg', '095.jpg', '099.jpg', '103.jpg', '105.jpg', '109.jpg', '113.jpg',\n",
    "                       '116.jpg', '123.jpg', '125.jpg', '127.jpg', '128.jpg', '129.jpg', '130.jpg',\n",
    "                       '131.jpg', '132.jpg', '136.jpg', '138.jpg', '141.jpg', '144.jpg', '145.jpg',\n",
    "                       '146.jpg', '148.jpg', '150.jpg', '151.jpg', '158.jpg', '162.jpg', '164.jpg', \n",
    "                       '165.jpg', '167.jpg', '175.jpg', '176.jpg', '179.jpg', '180.jpg', '182.jpg',\n",
    "                       '183.jpg', '184.jpg', '188.jpg', '189.jpg', '190.jpg', '191.jpg', '193.jpg', \n",
    "                       '194.jpg', '200.jpg', '201.jpg', '202.jpg']"
   ]
  },
  {
   "cell_type": "code",
   "execution_count": 416,
   "id": "3ce30efa",
   "metadata": {},
   "outputs": [],
   "source": [
    "bad_doc_number_it_5 = ['065.jpg', '069.jpg', '076.jpg', '079.jpg', '081.jpg', '083.jpg', '109.jpg', '113.jpg',\n",
    "                       '116.jpg', '119.jpg', '123.jpg', '128.jpg', '129.jpg', '136.jpg', '141.jpg', '145.jpg',\n",
    "                       '146.jpg', '148.jpg', '162.jpg', '165.jpg', '167.jpg', '169.jpg', '180.jpg', '183.jpg',\n",
    "                       '184.jpg', '189.jpg', '190.jpg']"
   ]
  },
  {
   "cell_type": "code",
   "execution_count": 46,
   "id": "eef6f178",
   "metadata": {},
   "outputs": [],
   "source": [
    "bad_doc_number_it_6 = ['065.jpg', '069.jpg', '076.jpg', '079.jpg', '081.jpg', '083.jpg', '113.jpg', '119.jpg',\n",
    "                       '123.jpg', '128.jpg', '136.jpg', '141.jpg', '146.jpg', '148.jpg', '162.jpg', '165.jpg', \n",
    "                       '167.jpg', '180.jpg', '189.jpg']"
   ]
  },
  {
   "cell_type": "code",
   "execution_count": 77,
   "id": "65cb959a",
   "metadata": {},
   "outputs": [],
   "source": [
    "bad_doc_number_it_7 = ['065.jpg', '069.jpg', '076.jpg', '079.jpg', '081.jpg', '083.jpg', '113.jpg', '119.jpg', \n",
    "                       '146.jpg', '148.jpg', '165.jpg', '167.jpg', '180.jpg']"
   ]
  },
  {
   "cell_type": "code",
   "execution_count": null,
   "id": "41b93df8",
   "metadata": {},
   "outputs": [],
   "source": []
  },
  {
   "cell_type": "code",
   "execution_count": 78,
   "id": "069bbc76",
   "metadata": {},
   "outputs": [
    {
     "data": {
      "text/plain": [
       "13"
      ]
     },
     "execution_count": 78,
     "metadata": {},
     "output_type": "execute_result"
    }
   ],
   "source": [
    "len(bad_doc_number_it_7)"
   ]
  },
  {
   "cell_type": "code",
   "execution_count": 79,
   "id": "c5f74a33",
   "metadata": {},
   "outputs": [
    {
     "data": {
      "text/plain": [
       "0     6017853136\n",
       "11    8017407243\n",
       "12    6017080275\n",
       "16    8017085704\n",
       "17    6017080275\n",
       "18    6017266228\n",
       "Name: doc_number, dtype: object"
      ]
     },
     "execution_count": 79,
     "metadata": {},
     "output_type": "execute_result"
    }
   ],
   "source": [
    "good_doc_numbers = df[~df['filename'].isin(bad_doc_number_it_7)]['doc_number']\n",
    "good_doc_numbers"
   ]
  },
  {
   "cell_type": "code",
   "execution_count": 80,
   "id": "a830a0e6",
   "metadata": {},
   "outputs": [
    {
     "data": {
      "text/plain": [
       "True     4\n",
       "False    2\n",
       "Name: doc_number, dtype: int64"
      ]
     },
     "execution_count": 80,
     "metadata": {},
     "output_type": "execute_result"
    }
   ],
   "source": [
    "good_doc_numbers.str.startswith('6').value_counts()"
   ]
  },
  {
   "cell_type": "markdown",
   "id": "7cee8826",
   "metadata": {},
   "source": [
    "1. iter_6: third+(убрал outputbase digits) - 19 нераспознанных изображений\n",
    "1. iter_4: fourth+(убрал outputbase digits) - 13 нераспознанных изображений"
   ]
  },
  {
   "cell_type": "code",
   "execution_count": null,
   "id": "a01f4608",
   "metadata": {},
   "outputs": [],
   "source": []
  },
  {
   "cell_type": "code",
   "execution_count": null,
   "id": "68deb6c3",
   "metadata": {},
   "outputs": [],
   "source": []
  },
  {
   "cell_type": "markdown",
   "id": "c4f1ac47",
   "metadata": {},
   "source": [
    "#### Вывод \n",
    "В столбце с номерами документов 27 пропущенных значения. В них фигурируют либо **None** либо нечисловые. Качественно распознано 166 номеров документов из 193 примеров, или всего 86%."
   ]
  },
  {
   "cell_type": "markdown",
   "id": "1c48d1a4",
   "metadata": {},
   "source": [
    "## Результат исследования"
   ]
  },
  {
   "cell_type": "code",
   "execution_count": 412,
   "id": "eac216ff",
   "metadata": {},
   "outputs": [],
   "source": [
    "bad_lists_union = sorted(list(set().union(bad_doc_type_list, bad_doc_number_filenames)))"
   ]
  },
  {
   "cell_type": "code",
   "execution_count": 413,
   "id": "a15a51c1",
   "metadata": {},
   "outputs": [
    {
     "data": {
      "text/plain": [
       "28"
      ]
     },
     "execution_count": 413,
     "metadata": {},
     "output_type": "execute_result"
    }
   ],
   "source": [
    "len(bad_lists_union)"
   ]
  },
  {
   "cell_type": "code",
   "execution_count": 414,
   "id": "6641f466",
   "metadata": {},
   "outputs": [
    {
     "data": {
      "text/plain": [
       "165"
      ]
     },
     "execution_count": 414,
     "metadata": {},
     "output_type": "execute_result"
    }
   ],
   "source": [
    "len(good_df) - len(bad_lists_union)"
   ]
  },
  {
   "cell_type": "code",
   "execution_count": 415,
   "id": "32d54a75",
   "metadata": {},
   "outputs": [
    {
     "data": {
      "text/plain": [
       "0.8549222797927462"
      ]
     },
     "execution_count": 415,
     "metadata": {},
     "output_type": "execute_result"
    }
   ],
   "source": [
    "1 -len(bad_lists_union) / len(good_df)"
   ]
  },
  {
   "cell_type": "markdown",
   "id": "985f3851",
   "metadata": {},
   "source": [
    "## Общий вывод"
   ]
  },
  {
   "cell_type": "markdown",
   "id": "f50d122c",
   "metadata": {},
   "source": [
    "**Итерация 1** - отсутствует предобработка (первый препроцессинг). Можно считать качественно распознанными 179 документов из 193, что составляет **92.75%** из тестовых данных."
   ]
  },
  {
   "cell_type": "markdown",
   "id": "cca7e901",
   "metadata": {},
   "source": [
    "**Итерация 2** - добавлен второй препроцессинг. Можно считать качественно распознанными 178 документов из 193, что составляет **92.70%** из тестовых данных."
   ]
  },
  {
   "cell_type": "markdown",
   "id": "f163339a",
   "metadata": {},
   "source": [
    "**Итерация 3** - добавлен третий препроцессинг. Можно считать качественно распознанными 179 документов из 193, что составляет **92.75%** из тестовых данных."
   ]
  },
  {
   "cell_type": "markdown",
   "id": "0cff2b91",
   "metadata": {},
   "source": [
    "**Итерация 4** - добавлен четвертый препроцессинг. Можно считать качественно распознанными 180 документов из 193, что составляет **93.26%** из тестовых данных."
   ]
  },
  {
   "cell_type": "markdown",
   "id": "06690771",
   "metadata": {},
   "source": [
    "**Итерация 5** - добавлен пятый препроцессинг. Можно считать качественно распознанными 180 документов из 193, что составляет **93.26%** из тестовых данных."
   ]
  },
  {
   "cell_type": "markdown",
   "id": "459c5394",
   "metadata": {},
   "source": [
    "**Итерация 6** - добавлен новый препроцессинг. \n",
    "\n",
    "`return cv2.GaussianBlur(img, (1, 1), 0)`\n",
    "\n",
    "Можно считать качественно распознанными 179 документов из 193, что составляет **92.75%** из тестовых данных."
   ]
  },
  {
   "cell_type": "code",
   "execution_count": 150,
   "id": "9ea2b6ea",
   "metadata": {},
   "outputs": [
    {
     "data": {
      "text/plain": [
       "['038.jpg',\n",
       " '039.jpg',\n",
       " '041.jpg',\n",
       " '044.jpg',\n",
       " '047.jpg',\n",
       " '057.jpg',\n",
       " '079.jpg',\n",
       " '082.jpg',\n",
       " '091.jpg',\n",
       " '095.jpg',\n",
       " '096.jpg',\n",
       " '099.jpg',\n",
       " '109.jpg',\n",
       " '113.jpg',\n",
       " '116.jpg',\n",
       " '119.jpg',\n",
       " '125.jpg',\n",
       " '127.jpg',\n",
       " '131.jpg',\n",
       " '132.jpg',\n",
       " '136.jpg',\n",
       " '138.jpg',\n",
       " '141.jpg',\n",
       " '144.jpg',\n",
       " '145.jpg',\n",
       " '146.jpg',\n",
       " '148.jpg',\n",
       " '150.jpg',\n",
       " '158.jpg',\n",
       " '164.jpg',\n",
       " '165.jpg',\n",
       " '167.jpg',\n",
       " '169.jpg',\n",
       " '175.jpg',\n",
       " '177.jpg',\n",
       " '179.jpg',\n",
       " '180.jpg',\n",
       " '182.jpg',\n",
       " '184.jpg',\n",
       " '188.jpg',\n",
       " '190.jpg',\n",
       " '193.jpg',\n",
       " '201.jpg',\n",
       " '202.jpg']"
      ]
     },
     "execution_count": 150,
     "metadata": {},
     "output_type": "execute_result"
    }
   ],
   "source": [
    "bad_lists_union"
   ]
  },
  {
   "cell_type": "code",
   "execution_count": 81,
   "id": "2e71a54f",
   "metadata": {},
   "outputs": [],
   "source": [
    "bad_doc_number_it_7 = ['065.jpg', '069.jpg', '076.jpg', '079.jpg', '081.jpg', '083.jpg', '113.jpg', '119.jpg', \n",
    "                       '146.jpg', '148.jpg', '165.jpg', '167.jpg', '180.jpg']"
   ]
  },
  {
   "cell_type": "code",
   "execution_count": 139,
   "id": "5614aecf",
   "metadata": {},
   "outputs": [],
   "source": [
    "bad_doc_number_it_7 = ['165.jpg', '167.jpg', '180.jpg']"
   ]
  },
  {
   "cell_type": "code",
   "execution_count": 182,
   "id": "b8fa44aa",
   "metadata": {},
   "outputs": [],
   "source": [
    "for i in bad_doc_number_it_7:\n",
    "    image = cv2.imread(DATA_PATH + i)\n",
    "    kernel = np.ones((2, 2), 'uint8')\n",
    "    \n",
    "#     image = cv2.erode(image, kernel, iterations=2)\n",
    "#     image = cv2.GaussianBlur(image, (3, 3), 1)\n",
    "    image = cv2.dilate(image, kernel, iterations=2)\n",
    "    \n",
    "    kernel = np.ones((1, 1), 'uint8')\n",
    "    image = cv2.erode(image, kernel, iterations=3)\n",
    "    image = cv2.GaussianBlur(image, (5, 5), 4)\n",
    "    image = cv2.cvtColor(image, cv2.COLOR_BGR2GRAY)\n",
    "    _, image = cv2.threshold(image, 210, 255, cv2.THRESH_BINARY)  # 130\n",
    "    image = cv2.resize(image, (0, 0), fx=0.5, fy=0.5)\n",
    "    cv2.imshow(f'Image {i}', image)\n",
    "    cv2.waitKey(0)\n",
    "    cv2.destroyAllWindows()"
   ]
  },
  {
   "cell_type": "code",
   "execution_count": 455,
   "id": "1f9bfde2",
   "metadata": {},
   "outputs": [],
   "source": [
    "for i in bad_doc_number_it_7:\n",
    "    image = cv2.imread(DATA_PATH + i)\n",
    "    kernel = np.ones((1, 1), 'uint8')\n",
    "    \n",
    "    image = cv2.GaussianBlur(image, (7, 7), 1)\n",
    "#     image = cv2.dilate(image, kernel, iterations=2)\n",
    "#     image = cv2.GaussianBlur(image, (5, 5), 4)\n",
    "#     image = cv2.cvtColor(image, cv2.COLOR_BGR2GRAY)\n",
    "#     _, image = cv2.threshold(image, 140, 255, cv2.THRESH_BINARY)  # 130\n",
    "    image = cv2.resize(image, (0, 0), fx=0.5, fy=0.5)\n",
    "    cv2.imshow(f'Image {i}', image)\n",
    "    cv2.waitKey(0)\n",
    "    cv2.destroyAllWindows()"
   ]
  },
  {
   "cell_type": "markdown",
   "id": "c1962225",
   "metadata": {},
   "source": [
    "## Notes"
   ]
  },
  {
   "cell_type": "raw",
   "id": "fc7bf01e",
   "metadata": {},
   "source": [
    "bad_doc_number_df['doc_number'].value_counts()"
   ]
  },
  {
   "cell_type": "raw",
   "id": "3f9fc05c",
   "metadata": {},
   "source": [
    "doc_number_not_numeric = not_numeric_in_colunm(good_df['doc_number'])\n",
    "doc_number_not_numeric"
   ]
  },
  {
   "cell_type": "raw",
   "id": "4a756a41",
   "metadata": {},
   "source": [
    "length_of_doc_numbers = len_of_numbers(good_df['doc_number'])\n",
    "length_of_doc_numbers"
   ]
  },
  {
   "cell_type": "raw",
   "id": "514a0411",
   "metadata": {},
   "source": [
    "bad_doc_number_list = list(bad_doc_number_df['filename'])\n",
    "sorted(bad_doc_number_list)"
   ]
  },
  {
   "cell_type": "code",
   "execution_count": null,
   "id": "ee5a800d",
   "metadata": {},
   "outputs": [],
   "source": []
  }
 ],
 "metadata": {
  "kernelspec": {
   "display_name": "ocr_data_generation",
   "language": "python",
   "name": "ocr_data_generation"
  },
  "language_info": {
   "codemirror_mode": {
    "name": "ipython",
    "version": 3
   },
   "file_extension": ".py",
   "mimetype": "text/x-python",
   "name": "python",
   "nbconvert_exporter": "python",
   "pygments_lexer": "ipython3",
   "version": "3.9.12"
  }
 },
 "nbformat": 4,
 "nbformat_minor": 5
}
