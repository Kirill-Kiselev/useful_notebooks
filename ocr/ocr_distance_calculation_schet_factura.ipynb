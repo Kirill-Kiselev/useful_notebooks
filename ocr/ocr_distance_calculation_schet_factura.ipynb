{
 "cells": [
  {
   "cell_type": "markdown",
   "metadata": {},
   "source": [
    "### Информация\n",
    "- *Автор*: Киселев Кирилл\n",
    "- *Дата*: вторник, 30 мая 2022 г.\n",
    "- *Описание*: Блокнот для вычисления регионов для счетов-фактур"
   ]
  },
  {
   "cell_type": "markdown",
   "metadata": {},
   "source": [
    "#### Requirements"
   ]
  },
  {
   "cell_type": "code",
   "execution_count": 2,
   "metadata": {
    "ExecuteTime": {
     "end_time": "2022-03-29T12:01:57.325894Z",
     "start_time": "2022-03-29T12:01:57.323055Z"
    }
   },
   "outputs": [],
   "source": [
    "# !pip3 install opencv-python==4.4.0.46 pandas==1.2.4"
   ]
  },
  {
   "cell_type": "code",
   "execution_count": 3,
   "metadata": {
    "ExecuteTime": {
     "end_time": "2022-03-29T12:01:59.016149Z",
     "start_time": "2022-03-29T12:01:58.870759Z"
    }
   },
   "outputs": [],
   "source": [
    "import cv2\n",
    "import pandas as pd\n",
    "\n",
    "\n",
    "pd.set_option('display.max_columns', 100)\n",
    "pd.set_option('display.max_rows', 100)"
   ]
  },
  {
   "cell_type": "code",
   "execution_count": 5,
   "metadata": {
    "ExecuteTime": {
     "end_time": "2022-03-29T12:02:05.843918Z",
     "start_time": "2022-03-29T12:02:05.822411Z"
    }
   },
   "outputs": [
    {
     "data": {
      "text/html": [
       "<div>\n",
       "<style scoped>\n",
       "    .dataframe tbody tr th:only-of-type {\n",
       "        vertical-align: middle;\n",
       "    }\n",
       "\n",
       "    .dataframe tbody tr th {\n",
       "        vertical-align: top;\n",
       "    }\n",
       "\n",
       "    .dataframe thead th {\n",
       "        text-align: right;\n",
       "    }\n",
       "</style>\n",
       "<table border=\"1\" class=\"dataframe\">\n",
       "  <thead>\n",
       "    <tr style=\"text-align: right;\">\n",
       "      <th></th>\n",
       "      <th>filename</th>\n",
       "      <th>doc_type</th>\n",
       "      <th>doc_number</th>\n",
       "      <th>doc_date</th>\n",
       "      <th>scan_is_good</th>\n",
       "      <th>doc_type_box_left</th>\n",
       "      <th>doc_type_box_top</th>\n",
       "      <th>doc_type_box_width</th>\n",
       "      <th>doc_type_box_height</th>\n",
       "      <th>doc_number_box_left</th>\n",
       "      <th>doc_number_box_top</th>\n",
       "      <th>doc_number_box_width</th>\n",
       "      <th>doc_number_box_height</th>\n",
       "      <th>doc_date_box_left</th>\n",
       "      <th>doc_date_box_top</th>\n",
       "      <th>doc_date_box_width</th>\n",
       "      <th>doc_date_box_height</th>\n",
       "    </tr>\n",
       "  </thead>\n",
       "  <tbody>\n",
       "    <tr>\n",
       "      <th>0</th>\n",
       "      <td>001.jpg</td>\n",
       "      <td>сф</td>\n",
       "      <td>6600241074</td>\n",
       "      <td>23.12.2021</td>\n",
       "      <td>True</td>\n",
       "      <td>0.046326</td>\n",
       "      <td>0.037244</td>\n",
       "      <td>0.098478</td>\n",
       "      <td>0.009955</td>\n",
       "      <td>0.169670</td>\n",
       "      <td>0.036894</td>\n",
       "      <td>0.080014</td>\n",
       "      <td>0.010479</td>\n",
       "      <td>0.271595</td>\n",
       "      <td>0.037069</td>\n",
       "      <td>0.070412</td>\n",
       "      <td>0.010654</td>\n",
       "    </tr>\n",
       "    <tr>\n",
       "      <th>1</th>\n",
       "      <td>002.jpg</td>\n",
       "      <td>сф</td>\n",
       "      <td>6600254174</td>\n",
       "      <td>07.02.2022</td>\n",
       "      <td>True</td>\n",
       "      <td>0.043182</td>\n",
       "      <td>0.037061</td>\n",
       "      <td>0.096808</td>\n",
       "      <td>0.009625</td>\n",
       "      <td>0.166044</td>\n",
       "      <td>0.036879</td>\n",
       "      <td>0.077140</td>\n",
       "      <td>0.009806</td>\n",
       "      <td>0.267449</td>\n",
       "      <td>0.036697</td>\n",
       "      <td>0.070754</td>\n",
       "      <td>0.010170</td>\n",
       "    </tr>\n",
       "    <tr>\n",
       "      <th>2</th>\n",
       "      <td>003.jpg</td>\n",
       "      <td>сф</td>\n",
       "      <td>6600013447</td>\n",
       "      <td>20.01.2022</td>\n",
       "      <td>True</td>\n",
       "      <td>0.023975</td>\n",
       "      <td>0.035199</td>\n",
       "      <td>0.096616</td>\n",
       "      <td>0.011047</td>\n",
       "      <td>0.146917</td>\n",
       "      <td>0.036286</td>\n",
       "      <td>0.078980</td>\n",
       "      <td>0.009780</td>\n",
       "      <td>0.248645</td>\n",
       "      <td>0.037191</td>\n",
       "      <td>0.071823</td>\n",
       "      <td>0.009780</td>\n",
       "    </tr>\n",
       "    <tr>\n",
       "      <th>3</th>\n",
       "      <td>004.jpg</td>\n",
       "      <td>сф</td>\n",
       "      <td>6015828900</td>\n",
       "      <td>13.05.2021</td>\n",
       "      <td>True</td>\n",
       "      <td>0.061055</td>\n",
       "      <td>0.059328</td>\n",
       "      <td>0.094275</td>\n",
       "      <td>0.011184</td>\n",
       "      <td>0.179674</td>\n",
       "      <td>0.059328</td>\n",
       "      <td>0.075181</td>\n",
       "      <td>0.011015</td>\n",
       "      <td>0.276813</td>\n",
       "      <td>0.059328</td>\n",
       "      <td>0.067305</td>\n",
       "      <td>0.010337</td>\n",
       "    </tr>\n",
       "    <tr>\n",
       "      <th>4</th>\n",
       "      <td>005.jpg</td>\n",
       "      <td>сф</td>\n",
       "      <td>6016891910</td>\n",
       "      <td>22.10.2021</td>\n",
       "      <td>True</td>\n",
       "      <td>0.042334</td>\n",
       "      <td>0.043039</td>\n",
       "      <td>0.091055</td>\n",
       "      <td>0.009589</td>\n",
       "      <td>0.156730</td>\n",
       "      <td>0.043039</td>\n",
       "      <td>0.074127</td>\n",
       "      <td>0.010511</td>\n",
       "      <td>0.251377</td>\n",
       "      <td>0.042671</td>\n",
       "      <td>0.065662</td>\n",
       "      <td>0.010326</td>\n",
       "    </tr>\n",
       "  </tbody>\n",
       "</table>\n",
       "</div>"
      ],
      "text/plain": [
       "  filename doc_type  doc_number    doc_date  scan_is_good  doc_type_box_left  \\\n",
       "0  001.jpg       сф  6600241074  23.12.2021          True           0.046326   \n",
       "1  002.jpg       сф  6600254174  07.02.2022          True           0.043182   \n",
       "2  003.jpg       сф  6600013447  20.01.2022          True           0.023975   \n",
       "3  004.jpg       сф  6015828900  13.05.2021          True           0.061055   \n",
       "4  005.jpg       сф  6016891910  22.10.2021          True           0.042334   \n",
       "\n",
       "   doc_type_box_top  doc_type_box_width  doc_type_box_height  \\\n",
       "0          0.037244            0.098478             0.009955   \n",
       "1          0.037061            0.096808             0.009625   \n",
       "2          0.035199            0.096616             0.011047   \n",
       "3          0.059328            0.094275             0.011184   \n",
       "4          0.043039            0.091055             0.009589   \n",
       "\n",
       "   doc_number_box_left  doc_number_box_top  doc_number_box_width  \\\n",
       "0             0.169670            0.036894              0.080014   \n",
       "1             0.166044            0.036879              0.077140   \n",
       "2             0.146917            0.036286              0.078980   \n",
       "3             0.179674            0.059328              0.075181   \n",
       "4             0.156730            0.043039              0.074127   \n",
       "\n",
       "   doc_number_box_height  doc_date_box_left  doc_date_box_top  \\\n",
       "0               0.010479           0.271595          0.037069   \n",
       "1               0.009806           0.267449          0.036697   \n",
       "2               0.009780           0.248645          0.037191   \n",
       "3               0.011015           0.276813          0.059328   \n",
       "4               0.010511           0.251377          0.042671   \n",
       "\n",
       "   doc_date_box_width  doc_date_box_height  \n",
       "0            0.070412             0.010654  \n",
       "1            0.070754             0.010170  \n",
       "2            0.071823             0.009780  \n",
       "3            0.067305             0.010337  \n",
       "4            0.065662             0.010326  "
      ]
     },
     "execution_count": 5,
     "metadata": {},
     "output_type": "execute_result"
    }
   ],
   "source": [
    "data = pd.read_csv('/home/kirillk/datasets/OCR/ocr_schet_factura_1/test-cases-schet-factura.csv', index_col=0)\n",
    "\n",
    "# data.loc[data['filename'] == '095.jpg', 'orientation'] = 'horizontal'\n",
    "\n",
    "data.head()\n",
    "# data.to_csv('../assets/test-cases.csv')"
   ]
  },
  {
   "cell_type": "markdown",
   "metadata": {},
   "source": [
    "## Исследование по вычислениям регионов"
   ]
  },
  {
   "cell_type": "markdown",
   "metadata": {},
   "source": [
    "### Расположение типа документа"
   ]
  },
  {
   "cell_type": "markdown",
   "metadata": {},
   "source": [
    "Отступ"
   ]
  },
  {
   "cell_type": "code",
   "execution_count": 6,
   "metadata": {},
   "outputs": [
    {
     "data": {
      "text/plain": [
       "0.0041203696090238"
      ]
     },
     "execution_count": 6,
     "metadata": {},
     "output_type": "execute_result"
    }
   ],
   "source": [
    "type_indent = data['doc_type_box_left'].min()\n",
    "type_indent"
   ]
  },
  {
   "cell_type": "markdown",
   "metadata": {},
   "source": [
    "Ширина"
   ]
  },
  {
   "cell_type": "code",
   "execution_count": 7,
   "metadata": {
    "scrolled": true
   },
   "outputs": [
    {
     "data": {
      "text/plain": [
       "0.0848216811504879"
      ]
     },
     "execution_count": 7,
     "metadata": {},
     "output_type": "execute_result"
    }
   ],
   "source": [
    "data['doc_type_box_left'].max()"
   ]
  },
  {
   "cell_type": "code",
   "execution_count": 8,
   "metadata": {},
   "outputs": [
    {
     "data": {
      "text/plain": [
       "0.0993167773978632"
      ]
     },
     "execution_count": 8,
     "metadata": {},
     "output_type": "execute_result"
    }
   ],
   "source": [
    "data['doc_type_box_width'].max()"
   ]
  },
  {
   "cell_type": "code",
   "execution_count": 9,
   "metadata": {},
   "outputs": [
    {
     "data": {
      "text/plain": [
       "0.1783198620922823"
      ]
     },
     "execution_count": 9,
     "metadata": {},
     "output_type": "execute_result"
    }
   ],
   "source": [
    "doc_type_region = (data['doc_type_box_left'] + data['doc_type_box_width']).max()\n",
    "doc_type_region"
   ]
  },
  {
   "cell_type": "code",
   "execution_count": 10,
   "metadata": {},
   "outputs": [
    {
     "data": {
      "text/plain": [
       "0.1741994924832585"
      ]
     },
     "execution_count": 10,
     "metadata": {},
     "output_type": "execute_result"
    }
   ],
   "source": [
    "doc_type_width = (data['doc_type_box_left'] + data['doc_type_box_width']).max() - data['doc_type_box_left'].min()\n",
    "doc_type_width"
   ]
  },
  {
   "cell_type": "code",
   "execution_count": 11,
   "metadata": {},
   "outputs": [],
   "source": [
    "# doc_type_region = (data['doc_type_box_left'] + data['doc_type_box_width']).max()\n",
    "# doc_type_region"
   ]
  },
  {
   "cell_type": "markdown",
   "metadata": {},
   "source": [
    "#### Визуализация результатов"
   ]
  },
  {
   "cell_type": "code",
   "execution_count": 14,
   "metadata": {},
   "outputs": [],
   "source": [
    "for index, row in data.iterrows():\n",
    "    image = cv2.imread('/home/kirillk/datasets/OCR/ocr_schet_factura_1/' + row['filename'])\n",
    "    image = cv2.resize(image, (0, 0), fx=0.2, fy=0.2)\n",
    "    height, width, _ = image.shape\n",
    "    \n",
    "    x1 = int(row['doc_type_box_left'] * width)\n",
    "    y1 = int(row['doc_type_box_top'] * height)\n",
    "    x2 = int((row['doc_type_box_left'] + row['doc_type_box_width']) * width)\n",
    "    y2 = int((row['doc_type_box_top'] + row['doc_type_box_height']) * height)\n",
    "    \n",
    "    image = cv2.rectangle(image, (x1, y1), (x2, y2), (0, 0, 255), 2)\n",
    "    image = cv2.rectangle(img=image, \n",
    "                          pt1=(int(type_indent * width), 0),\n",
    "                          pt2=(int(type_indent * width + doc_type_width * width), int(height)),\n",
    "                          color=(0, 0, 255),\n",
    "                          thickness=2)\n",
    "    \n",
    "    cv2.imshow('Document', image)\n",
    "    cv2.waitKey(0)\n",
    "    cv2.destroyAllWindows()\n",
    "    \n",
    "    if index == 2:\n",
    "        break"
   ]
  },
  {
   "cell_type": "raw",
   "metadata": {},
   "source": [
    "for index, row in data.iterrows():\n",
    "    image = cv2.imread('/home/kirillk/datasets/OCR/ocr_act_1/' + row['filename'])\n",
    "    image = cv2.resize(image, (0, 0), fx=0.25, fy=0.25)\n",
    "    height, width, _ = image.shape\n",
    "    \n",
    "    x1 = int(row['doc_type_box_left'] * width)\n",
    "    y1 = int(row['doc_type_box_top'] * height)\n",
    "    x2 = int((row['doc_type_box_left'] + row['doc_type_box_width']) * width)\n",
    "    y2 = int((row['doc_type_box_top'] + row['doc_type_box_height']) * height)\n",
    "    \n",
    "    image = cv2.rectangle(image, (x1, y1), (x2, y2), (0, 0, 255), 2)\n",
    "    image = cv2.rectangle(img=image, \n",
    "                          pt1=(0, 0),\n",
    "                          pt2=(int(doc_type_region * width), int(height)),\n",
    "                          color=(0, 0, 255),\n",
    "                          thickness=2)\n",
    "    \n",
    "    cv2.imshow('Document', image)\n",
    "    cv2.waitKey(0)\n",
    "    cv2.destroyAllWindows()\n",
    "    \n",
    "    if index == 2:\n",
    "        break"
   ]
  },
  {
   "cell_type": "code",
   "execution_count": 11,
   "metadata": {},
   "outputs": [],
   "source": [
    "list_of_deltas = []"
   ]
  },
  {
   "cell_type": "code",
   "execution_count": 12,
   "metadata": {},
   "outputs": [
    {
     "name": "stdout",
     "output_type": "stream",
     "text": [
      "CPU times: user 32.2 s, sys: 6.49 s, total: 38.7 s\n",
      "Wall time: 34.3 s\n"
     ]
    }
   ],
   "source": [
    "%%time\n",
    "for index, row in data.iterrows():\n",
    "    image = cv2.imread('/home/kirillk/datasets/OCR/ocr_act_1/' + row['filename'])\n",
    "    height, width, _ = image.shape\n",
    "    \n",
    "    x1 = int(row['doc_type_box_left'] * width)\n",
    "    x2 = int((row['doc_type_box_left'] + row['doc_type_box_width']) * width)\n",
    "    \n",
    "    list_of_deltas.append(doc_type_region * width - x2)"
   ]
  },
  {
   "cell_type": "code",
   "execution_count": 13,
   "metadata": {
    "scrolled": true
   },
   "outputs": [],
   "source": [
    "# list_of_deltas"
   ]
  },
  {
   "cell_type": "code",
   "execution_count": 14,
   "metadata": {},
   "outputs": [
    {
     "data": {
      "text/plain": [
       "72.08993761974737"
      ]
     },
     "execution_count": 14,
     "metadata": {},
     "output_type": "execute_result"
    }
   ],
   "source": [
    "max(list_of_deltas)"
   ]
  },
  {
   "cell_type": "code",
   "execution_count": 15,
   "metadata": {},
   "outputs": [
    {
     "data": {
      "text/plain": [
       "0.2419821034723526"
      ]
     },
     "execution_count": 15,
     "metadata": {},
     "output_type": "execute_result"
    }
   ],
   "source": [
    "min(list_of_deltas)"
   ]
  },
  {
   "cell_type": "code",
   "execution_count": 16,
   "metadata": {},
   "outputs": [
    {
     "data": {
      "text/plain": [
       "count    200.000000\n",
       "mean      41.615225\n",
       "std       13.407599\n",
       "min        0.241982\n",
       "25%       34.341401\n",
       "50%       44.320932\n",
       "75%       50.602512\n",
       "max       72.089938\n",
       "dtype: float64"
      ]
     },
     "execution_count": 16,
     "metadata": {},
     "output_type": "execute_result"
    }
   ],
   "source": [
    "pd.Series(list_of_deltas).describe()"
   ]
  },
  {
   "cell_type": "markdown",
   "metadata": {},
   "source": [
    "**Вывод:** регион для поиска типа документа имеет значения\n",
    "\n",
    "отступ по x = 0.0042\n",
    "\n",
    "ширина региона = 0.1742"
   ]
  },
  {
   "cell_type": "markdown",
   "metadata": {},
   "source": [
    "### Расположение номера документа"
   ]
  },
  {
   "cell_type": "code",
   "execution_count": 15,
   "metadata": {},
   "outputs": [
    {
     "data": {
      "text/plain": [
       "0.021826596057098205"
      ]
     },
     "execution_count": 15,
     "metadata": {},
     "output_type": "execute_result"
    }
   ],
   "source": [
    "delta_x_number_array = (data['doc_number_box_left'] - data['doc_type_box_width'] - data['doc_type_box_left'])\n",
    "\n",
    "delta_x_number = delta_x_number_array.describe()['min']\n",
    "delta_x_number"
   ]
  },
  {
   "cell_type": "code",
   "execution_count": 16,
   "metadata": {},
   "outputs": [
    {
     "data": {
      "text/plain": [
       "-0.012144114303614097"
      ]
     },
     "execution_count": 16,
     "metadata": {},
     "output_type": "execute_result"
    }
   ],
   "source": [
    "delta_y_number_array = (data['doc_number_box_top'] - data['doc_type_box_height'] - data['doc_type_box_top'])\n",
    "\n",
    "delta_y_number = delta_y_number_array.describe()['min'] \n",
    "delta_y_number"
   ]
  },
  {
   "cell_type": "code",
   "execution_count": 17,
   "metadata": {},
   "outputs": [
    {
     "data": {
      "text/plain": [
       "0.01664875304025879"
      ]
     },
     "execution_count": 17,
     "metadata": {},
     "output_type": "execute_result"
    }
   ],
   "source": [
    "height_number = delta_y_number_array.describe()['max'] - delta_y_number_array.describe()['min'] + data['doc_number_box_height'].describe()['max']\n",
    "height_number"
   ]
  },
  {
   "cell_type": "code",
   "execution_count": 18,
   "metadata": {},
   "outputs": [
    {
     "data": {
      "text/plain": [
       "0.08599474117943098"
      ]
     },
     "execution_count": 18,
     "metadata": {},
     "output_type": "execute_result"
    }
   ],
   "source": [
    "width_number = delta_x_number_array.describe()['max'] - delta_x_number_array.describe()['min'] + data['doc_number_box_width'].describe()['max']\n",
    "width_number"
   ]
  },
  {
   "cell_type": "markdown",
   "metadata": {},
   "source": [
    "#### Визуализация результатов"
   ]
  },
  {
   "cell_type": "code",
   "execution_count": 21,
   "metadata": {},
   "outputs": [],
   "source": [
    "for index, row in data.iterrows():\n",
    "    image = cv2.imread('/home/kirillk/datasets/OCR/ocr_schet_factura_1/' + row['filename'])\n",
    "    image = cv2.resize(image, (0, 0), fx=0.7, fy=0.7)\n",
    "    height, width, _ = image.shape\n",
    "    \n",
    "    x1 = int(row['doc_type_box_left'] * width)\n",
    "    y1 = int(row['doc_type_box_top'] * height)\n",
    "    x2 = int((row['doc_type_box_left'] + row['doc_type_box_width']) * width)\n",
    "    y2 = int((row['doc_type_box_top'] + row['doc_type_box_height']) * height)\n",
    "        \n",
    "    delta_x_number_ = int(delta_x_number * width)\n",
    "    delta_y_number_ = int(delta_y_number * height)\n",
    "    width_number_ = int(width_number * width)\n",
    "    height_number_ = int(height_number * width)\n",
    "    \n",
    "    image = cv2.rectangle(image, (x1, y1), (x2, y2), (0, 0, 255), 2)\n",
    "    image = cv2.rectangle(img=image,\n",
    "                            pt1=(int(x2 + delta_x_number_), \n",
    "                                int(y2 + delta_y_number_)),\n",
    "                            pt2=(int(x2 + delta_x_number_ + width_number_),\n",
    "                                int(y2 + delta_y_number_ + height_number_)),\n",
    "                            color=(0, 0, 255),\n",
    "                            thickness=2)\n",
    "\n",
    "    cv2.imshow('Document', image)\n",
    "    cv2.waitKey(0)\n",
    "    cv2.destroyAllWindows()\n",
    "    \n",
    "    if index == 2:\n",
    "        break"
   ]
  },
  {
   "cell_type": "markdown",
   "metadata": {},
   "source": [
    "**Вывод:** принимаем следующие параметры региона **Номер документа**\n",
    "\n",
    "дельта по x = 0.0219\n",
    "\n",
    "дельта по y = -0.0121\n",
    "\n",
    "ширина региона = 0.0860\n",
    "\n",
    "высота региона = 0.0167"
   ]
  },
  {
   "cell_type": "markdown",
   "metadata": {},
   "source": [
    " ### Расположение даты документа"
   ]
  },
  {
   "cell_type": "code",
   "execution_count": 22,
   "metadata": {},
   "outputs": [
    {
     "data": {
      "text/plain": [
       "0.11578750948273657"
      ]
     },
     "execution_count": 22,
     "metadata": {},
     "output_type": "execute_result"
    }
   ],
   "source": [
    "delta_x_date_array = (data['doc_date_box_left'] - data['doc_type_box_width'] - data['doc_type_box_left'])\n",
    "\n",
    "delta_x_date = delta_x_date_array.describe()['min']\n",
    "delta_x_date"
   ]
  },
  {
   "cell_type": "code",
   "execution_count": 23,
   "metadata": {},
   "outputs": [
    {
     "data": {
      "text/plain": [
       "-0.012087579808719606"
      ]
     },
     "execution_count": 23,
     "metadata": {},
     "output_type": "execute_result"
    }
   ],
   "source": [
    "delta_y_date_array = (data['doc_date_box_top'] - data['doc_type_box_height'] - data['doc_type_box_top'])\n",
    "\n",
    "delta_y_date = delta_y_date_array.describe()['min']\n",
    "delta_y_date"
   ]
  },
  {
   "cell_type": "code",
   "execution_count": 24,
   "metadata": {},
   "outputs": [
    {
     "data": {
      "text/plain": [
       "0.016120370663128308"
      ]
     },
     "execution_count": 24,
     "metadata": {},
     "output_type": "execute_result"
    }
   ],
   "source": [
    "height_date = delta_y_date_array.describe()['max'] - delta_y_date_array.describe()['min'] + data['doc_date_box_height'].describe()['max']\n",
    "height_date"
   ]
  },
  {
   "cell_type": "code",
   "execution_count": 25,
   "metadata": {},
   "outputs": [
    {
     "data": {
      "text/plain": [
       "0.08778993001497824"
      ]
     },
     "execution_count": 25,
     "metadata": {},
     "output_type": "execute_result"
    }
   ],
   "source": [
    "width_date = delta_x_date_array.describe()['max'] - delta_x_date_array.describe()['min'] + data['doc_date_box_width'].describe()['max']\n",
    "width_date"
   ]
  },
  {
   "cell_type": "markdown",
   "metadata": {},
   "source": [
    "#### Визуализация результатов"
   ]
  },
  {
   "cell_type": "code",
   "execution_count": 29,
   "metadata": {},
   "outputs": [],
   "source": [
    "for index, row in data.iterrows():\n",
    "    image = cv2.imread('/home/kirillk/datasets/OCR/ocr_schet_factura_1/' + row['filename'])\n",
    "    image = cv2.resize(image, (0, 0), fx=0.6, fy=0.6)\n",
    "    height, width, _ = image.shape\n",
    "    \n",
    "    x1 = int(row['doc_type_box_left'] * width)\n",
    "    y1 = int(row['doc_type_box_top'] * height)\n",
    "    x2 = int((row['doc_type_box_left'] + row['doc_type_box_width']) * width)\n",
    "    y2 = int((row['doc_type_box_top'] + row['doc_type_box_height']) * height)\n",
    "        \n",
    "    delta_x_date_ = int(delta_x_date * width)\n",
    "    delta_y_date_ = int(delta_y_date * height)\n",
    "    width_date_ = int(width_date * width)\n",
    "    height_date_ = int(height_date * width)\n",
    "    \n",
    "    image = cv2.rectangle(image, (x1, y1), (x2, y2), (0, 0, 255), 2)\n",
    "    image = cv2.rectangle(img=image,\n",
    "                            pt1=(int(x2 + delta_x_date_), \n",
    "                                int(y2 + delta_y_date_)),\n",
    "                            pt2=(int(x2 + delta_x_date_ + width_date_),\n",
    "                                int(y2 + delta_y_date_ + height_date_)),\n",
    "                            color=(0, 0, 255),\n",
    "                            thickness=1)\n",
    "\n",
    "    cv2.imshow('Document', image)\n",
    "    cv2.waitKey(0)\n",
    "    cv2.destroyAllWindows()\n",
    "    \n",
    "#     if index == 2:\n",
    "#         break"
   ]
  },
  {
   "cell_type": "markdown",
   "metadata": {},
   "source": [
    "**Вывод:** принимаем следующие параметры региона **Дата документа**\n",
    "\n",
    "дельта по x = 0.1158\n",
    "\n",
    "дельта по y = -0.0121\n",
    "\n",
    "ширина региона = 0.0878\n",
    "\n",
    "высота региона = 0.0162"
   ]
  },
  {
   "cell_type": "markdown",
   "metadata": {},
   "source": [
    "### Дефолтные значения для номера документа"
   ]
  },
  {
   "cell_type": "code",
   "execution_count": 30,
   "metadata": {},
   "outputs": [
    {
     "data": {
      "text/plain": [
       "0.1266681366903156"
      ]
     },
     "execution_count": 30,
     "metadata": {},
     "output_type": "execute_result"
    }
   ],
   "source": [
    "doc_number_x1 = data['doc_number_box_left'].min()\n",
    "doc_number_x1"
   ]
  },
  {
   "cell_type": "code",
   "execution_count": 31,
   "metadata": {},
   "outputs": [
    {
     "data": {
      "text/plain": [
       "0.0329968727363103"
      ]
     },
     "execution_count": 31,
     "metadata": {},
     "output_type": "execute_result"
    }
   ],
   "source": [
    "doc_number_y1 = data['doc_number_box_top'].min()\n",
    "doc_number_y1"
   ]
  },
  {
   "cell_type": "code",
   "execution_count": 32,
   "metadata": {},
   "outputs": [
    {
     "data": {
      "text/plain": [
       "0.28370910999132026"
      ]
     },
     "execution_count": 32,
     "metadata": {},
     "output_type": "execute_result"
    }
   ],
   "source": [
    "doc_number_x2 = data['doc_number_box_left'].max() + data['doc_number_box_width'].max()\n",
    "doc_number_x2"
   ]
  },
  {
   "cell_type": "code",
   "execution_count": 33,
   "metadata": {},
   "outputs": [
    {
     "data": {
      "text/plain": [
       "0.08391737119194341"
      ]
     },
     "execution_count": 33,
     "metadata": {},
     "output_type": "execute_result"
    }
   ],
   "source": [
    "doc_number_y2 = data['doc_number_box_top'].max() + data['doc_number_box_height'].max()\n",
    "doc_number_y2"
   ]
  },
  {
   "cell_type": "code",
   "execution_count": 34,
   "metadata": {},
   "outputs": [
    {
     "data": {
      "text/plain": [
       "0.15704097330100467"
      ]
     },
     "execution_count": 34,
     "metadata": {},
     "output_type": "execute_result"
    }
   ],
   "source": [
    "doc_number_default_width = doc_number_x2 - doc_number_x1\n",
    "doc_number_default_width"
   ]
  },
  {
   "cell_type": "code",
   "execution_count": 35,
   "metadata": {},
   "outputs": [
    {
     "data": {
      "text/plain": [
       "0.05092049845563311"
      ]
     },
     "execution_count": 35,
     "metadata": {},
     "output_type": "execute_result"
    }
   ],
   "source": [
    "doc_number_default_height = doc_number_y2 - doc_number_y1\n",
    "doc_number_default_height"
   ]
  },
  {
   "cell_type": "markdown",
   "metadata": {},
   "source": [
    "#### Визуализация результатов"
   ]
  },
  {
   "cell_type": "code",
   "execution_count": 45,
   "metadata": {},
   "outputs": [],
   "source": [
    "for index, row in data.iterrows():\n",
    "    image = cv2.imread('/home/kirillk/datasets/OCR/ocr_schet_factura_1/' + row['filename'])\n",
    "    image = cv2.resize(image, (0, 0), fx=0.5, fy=0.5)\n",
    "    height, width, _ = image.shape\n",
    "        \n",
    "    x1 = int(doc_number_x1 * width)\n",
    "    y1 = int(doc_number_y1 * height)\n",
    "    x2 = int(doc_number_x2 * width)\n",
    "    y2 = int(doc_number_y2 * height)\n",
    "    \n",
    "    image = cv2.rectangle(image, (x1, y1), (x2, y2), (0, 0, 255), 1)\n",
    "    cv2.imshow('Document', image)\n",
    "    cv2.waitKey(0)\n",
    "    cv2.destroyAllWindows()\n",
    "    \n",
    "    if index == 2:\n",
    "        break"
   ]
  },
  {
   "cell_type": "markdown",
   "metadata": {},
   "source": [
    "**Вывод:** принимаем следующие параметры дефолтного региона **Номер документа**\n",
    "\n",
    "Левый верхний угол координаиа x = 0.1267\n",
    "\n",
    "Левый верхний угол координата y = 0.0330\n",
    "\n",
    "ширина региона = 0.1571\n",
    "\n",
    "высота региона = 0.0510"
   ]
  },
  {
   "cell_type": "markdown",
   "metadata": {},
   "source": [
    "### Дефолтные значения для даты документа"
   ]
  },
  {
   "cell_type": "code",
   "execution_count": 38,
   "metadata": {},
   "outputs": [
    {
     "data": {
      "text/plain": [
       "0.2285029269481093"
      ]
     },
     "execution_count": 38,
     "metadata": {},
     "output_type": "execute_result"
    }
   ],
   "source": [
    "doc_date_x1 = data['doc_date_box_left'].min()\n",
    "doc_date_x1"
   ]
  },
  {
   "cell_type": "code",
   "execution_count": 39,
   "metadata": {},
   "outputs": [
    {
     "data": {
      "text/plain": [
       "0.0338097087427019"
      ]
     },
     "execution_count": 39,
     "metadata": {},
     "output_type": "execute_result"
    }
   ],
   "source": [
    "doc_date_y1 = data['doc_date_box_top'].min()\n",
    "doc_date_y1"
   ]
  },
  {
   "cell_type": "code",
   "execution_count": 40,
   "metadata": {},
   "outputs": [
    {
     "data": {
      "text/plain": [
       "0.3743063906680121"
      ]
     },
     "execution_count": 40,
     "metadata": {},
     "output_type": "execute_result"
    }
   ],
   "source": [
    "doc_date_x2 = data['doc_date_box_left'].max() + data['doc_date_box_width'].max()\n",
    "doc_date_x2"
   ]
  },
  {
   "cell_type": "code",
   "execution_count": 41,
   "metadata": {},
   "outputs": [
    {
     "data": {
      "text/plain": [
       "0.08421619899872479"
      ]
     },
     "execution_count": 41,
     "metadata": {},
     "output_type": "execute_result"
    }
   ],
   "source": [
    "doc_date_y2 = data['doc_date_box_top'].max() + data['doc_date_box_height'].max()\n",
    "doc_date_y2"
   ]
  },
  {
   "cell_type": "code",
   "execution_count": 42,
   "metadata": {},
   "outputs": [
    {
     "data": {
      "text/plain": [
       "0.14580346371990277"
      ]
     },
     "execution_count": 42,
     "metadata": {},
     "output_type": "execute_result"
    }
   ],
   "source": [
    "doc_date_default_width = doc_date_x2 - doc_date_x1\n",
    "doc_date_default_width"
   ]
  },
  {
   "cell_type": "code",
   "execution_count": 43,
   "metadata": {},
   "outputs": [
    {
     "data": {
      "text/plain": [
       "0.05040649025602289"
      ]
     },
     "execution_count": 43,
     "metadata": {},
     "output_type": "execute_result"
    }
   ],
   "source": [
    "doc_date_default_height = doc_date_y2 - doc_date_y1\n",
    "doc_date_default_height"
   ]
  },
  {
   "cell_type": "markdown",
   "metadata": {},
   "source": [
    "#### Визуализация результатов"
   ]
  },
  {
   "cell_type": "code",
   "execution_count": 47,
   "metadata": {},
   "outputs": [],
   "source": [
    "for index, row in data.iterrows():\n",
    "    image = cv2.imread('/home/kirillk/datasets/OCR/ocr_schet_factura_1/' + row['filename'])\n",
    "    image = cv2.resize(image, (0, 0), fx=0.6, fy=0.6)\n",
    "    height, width, _ = image.shape\n",
    "        \n",
    "    x1 = int(doc_date_x1 * width)\n",
    "    y1 = int(doc_date_y1 * height)\n",
    "    x2 = int(doc_date_x2 * width)\n",
    "    y2 = int(doc_date_y2 * height)\n",
    "    \n",
    "    image = cv2.rectangle(image, (x1, y1), (x2, y2), (0, 0, 255), 1)\n",
    "    cv2.imshow('Document', image)\n",
    "    cv2.waitKey(0)\n",
    "    cv2.destroyAllWindows()\n",
    "    \n",
    "#     if index == 2:\n",
    "#         break"
   ]
  },
  {
   "cell_type": "markdown",
   "metadata": {},
   "source": [
    "**Вывод:** принимаем следующие параметры дефолтного региона **Дата документа**\n",
    "\n",
    "Левый верхний угол координаиа x = 0.2286\n",
    "\n",
    "Левый верхний угол координата y = 0.0339\n",
    "\n",
    "ширина региона = 0.1459\n",
    "\n",
    "высота региона = 0.0505"
   ]
  },
  {
   "cell_type": "code",
   "execution_count": null,
   "metadata": {},
   "outputs": [],
   "source": []
  }
 ],
 "metadata": {
  "kernelspec": {
   "display_name": "distance_calculation",
   "language": "python",
   "name": "distance_calculation"
  },
  "language_info": {
   "codemirror_mode": {
    "name": "ipython",
    "version": 3
   },
   "file_extension": ".py",
   "mimetype": "text/x-python",
   "name": "python",
   "nbconvert_exporter": "python",
   "pygments_lexer": "ipython3",
   "version": "3.9.13"
  }
 },
 "nbformat": 4,
 "nbformat_minor": 4
}
