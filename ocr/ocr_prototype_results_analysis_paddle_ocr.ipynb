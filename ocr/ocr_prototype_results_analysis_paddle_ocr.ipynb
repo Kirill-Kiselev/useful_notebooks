{
 "cells": [
  {
   "cell_type": "markdown",
   "id": "6111a7ea",
   "metadata": {},
   "source": [
    "# Анализ резултатов работы прототипа OCR. Распознавание выполнено PaddleOCR \n",
    "- Автор: Кирилл Киселев\n",
    "- Дата начала: 27.04.2022\n",
    "- Описание исследования: анализ полученных результатов."
   ]
  },
  {
   "cell_type": "markdown",
   "id": "f54ab7d3",
   "metadata": {},
   "source": [
    "## Загрузка библиотек"
   ]
  },
  {
   "cell_type": "code",
   "execution_count": 1,
   "id": "f52652fd",
   "metadata": {},
   "outputs": [],
   "source": [
    "import os\n",
    "import pandas as pd\n",
    "import cv2"
   ]
  },
  {
   "cell_type": "markdown",
   "id": "753c8100",
   "metadata": {},
   "source": [
    "## Глобальные переменные"
   ]
  },
  {
   "cell_type": "code",
   "execution_count": 2,
   "id": "66a47e96",
   "metadata": {},
   "outputs": [
    {
     "name": "stdout",
     "output_type": "stream",
     "text": [
      "/home/kirillk/PycharmProjects/useful_notebooks/ocr\r\n"
     ]
    }
   ],
   "source": [
    "!pwd"
   ]
  },
  {
   "cell_type": "code",
   "execution_count": 3,
   "id": "9efd8f92",
   "metadata": {},
   "outputs": [],
   "source": [
    "CSV_PATH = '/home/kirillk/datasets/OCR/ocr_test_cases/paddle_ocr_results.csv'\n",
    "# CSV_PATH = '/home/kirillk/datasets/OCR/ocr_test_cases/paddle_ocr_results_1.csv'\n",
    "DATA_PATH = '/home/kirillk/datasets/OCR/ocr_test_cases/test_cases/'"
   ]
  },
  {
   "cell_type": "markdown",
   "id": "50a2b1ad",
   "metadata": {},
   "source": [
    "## Загрузка и подготовка датасета"
   ]
  },
  {
   "cell_type": "code",
   "execution_count": 4,
   "id": "382da6c1",
   "metadata": {},
   "outputs": [],
   "source": [
    "df = pd.read_csv(CSV_PATH, header=None)"
   ]
  },
  {
   "cell_type": "code",
   "execution_count": 5,
   "id": "3fb721bb",
   "metadata": {},
   "outputs": [
    {
     "data": {
      "text/html": [
       "<div>\n",
       "<style scoped>\n",
       "    .dataframe tbody tr th:only-of-type {\n",
       "        vertical-align: middle;\n",
       "    }\n",
       "\n",
       "    .dataframe tbody tr th {\n",
       "        vertical-align: top;\n",
       "    }\n",
       "\n",
       "    .dataframe thead th {\n",
       "        text-align: right;\n",
       "    }\n",
       "</style>\n",
       "<table border=\"1\" class=\"dataframe\">\n",
       "  <thead>\n",
       "    <tr style=\"text-align: right;\">\n",
       "      <th></th>\n",
       "      <th>doc_name</th>\n",
       "      <th>barcode_number</th>\n",
       "      <th>doc_type</th>\n",
       "      <th>doc_number</th>\n",
       "    </tr>\n",
       "  </thead>\n",
       "  <tbody>\n",
       "    <tr>\n",
       "      <th>0</th>\n",
       "      <td>devops-paddle-1  | {'id': 0</td>\n",
       "      <td>'barcode': '2810094793638'</td>\n",
       "      <td>'doc_type': None</td>\n",
       "      <td>'doc_number': '6010358884'}</td>\n",
       "    </tr>\n",
       "    <tr>\n",
       "      <th>1</th>\n",
       "      <td>devops-paddle-1  | {'id': 1</td>\n",
       "      <td>'barcode': '2860350795548'</td>\n",
       "      <td>'doc_type': 'Товарная накладная'</td>\n",
       "      <td>'doc_number': '6010498941'}</td>\n",
       "    </tr>\n",
       "    <tr>\n",
       "      <th>2</th>\n",
       "      <td>devops-paddle-1  | {'id': 2</td>\n",
       "      <td>'barcode': '2860350803625'</td>\n",
       "      <td>'doc_type': 'Товарная накладная'</td>\n",
       "      <td>'doc_number': '6010498985'}</td>\n",
       "    </tr>\n",
       "    <tr>\n",
       "      <th>3</th>\n",
       "      <td>devops-paddle-1  | {'id': 3</td>\n",
       "      <td>'barcode': '2860350826969'</td>\n",
       "      <td>'doc_type': 'Товарная накладная'</td>\n",
       "      <td>'doc_number': '6010503173'}</td>\n",
       "    </tr>\n",
       "    <tr>\n",
       "      <th>4</th>\n",
       "      <td>devops-paddle-1  | {'id': 4</td>\n",
       "      <td>'barcode': '2860350795340'</td>\n",
       "      <td>'doc_type': None</td>\n",
       "      <td>'doc_number': '6010498934'}</td>\n",
       "    </tr>\n",
       "  </tbody>\n",
       "</table>\n",
       "</div>"
      ],
      "text/plain": [
       "                      doc_name               barcode_number  \\\n",
       "0  devops-paddle-1  | {'id': 0   'barcode': '2810094793638'   \n",
       "1  devops-paddle-1  | {'id': 1   'barcode': '2860350795548'   \n",
       "2  devops-paddle-1  | {'id': 2   'barcode': '2860350803625'   \n",
       "3  devops-paddle-1  | {'id': 3   'barcode': '2860350826969'   \n",
       "4  devops-paddle-1  | {'id': 4   'barcode': '2860350795340'   \n",
       "\n",
       "                            doc_type                    doc_number  \n",
       "0                   'doc_type': None   'doc_number': '6010358884'}  \n",
       "1   'doc_type': 'Товарная накладная'   'doc_number': '6010498941'}  \n",
       "2   'doc_type': 'Товарная накладная'   'doc_number': '6010498985'}  \n",
       "3   'doc_type': 'Товарная накладная'   'doc_number': '6010503173'}  \n",
       "4                   'doc_type': None   'doc_number': '6010498934'}  "
      ]
     },
     "execution_count": 5,
     "metadata": {},
     "output_type": "execute_result"
    }
   ],
   "source": [
    "df.columns = ['doc_name', 'barcode_number', 'doc_type', 'doc_number']\n",
    "df.head()"
   ]
  },
  {
   "cell_type": "code",
   "execution_count": 6,
   "id": "fed4c967",
   "metadata": {},
   "outputs": [],
   "source": [
    "for col in df[['doc_name', 'barcode_number', 'doc_number']]:\n",
    "    for i, _ in enumerate(df[col]):\n",
    "        df[col][i] = df[col][i].split(' ')[-1]"
   ]
  },
  {
   "cell_type": "code",
   "execution_count": 7,
   "id": "ad4bf824",
   "metadata": {},
   "outputs": [
    {
     "data": {
      "text/html": [
       "<div>\n",
       "<style scoped>\n",
       "    .dataframe tbody tr th:only-of-type {\n",
       "        vertical-align: middle;\n",
       "    }\n",
       "\n",
       "    .dataframe tbody tr th {\n",
       "        vertical-align: top;\n",
       "    }\n",
       "\n",
       "    .dataframe thead th {\n",
       "        text-align: right;\n",
       "    }\n",
       "</style>\n",
       "<table border=\"1\" class=\"dataframe\">\n",
       "  <thead>\n",
       "    <tr style=\"text-align: right;\">\n",
       "      <th></th>\n",
       "      <th>doc_name</th>\n",
       "      <th>barcode_number</th>\n",
       "      <th>doc_type</th>\n",
       "      <th>doc_number</th>\n",
       "    </tr>\n",
       "  </thead>\n",
       "  <tbody>\n",
       "    <tr>\n",
       "      <th>0</th>\n",
       "      <td>0</td>\n",
       "      <td>'2810094793638'</td>\n",
       "      <td>'doc_type': None</td>\n",
       "      <td>'6010358884'</td>\n",
       "    </tr>\n",
       "    <tr>\n",
       "      <th>1</th>\n",
       "      <td>1</td>\n",
       "      <td>'2860350795548'</td>\n",
       "      <td>'doc_type': 'Товарная накладная'</td>\n",
       "      <td>'6010498941'</td>\n",
       "    </tr>\n",
       "    <tr>\n",
       "      <th>2</th>\n",
       "      <td>2</td>\n",
       "      <td>'2860350803625'</td>\n",
       "      <td>'doc_type': 'Товарная накладная'</td>\n",
       "      <td>'6010498985'</td>\n",
       "    </tr>\n",
       "    <tr>\n",
       "      <th>3</th>\n",
       "      <td>3</td>\n",
       "      <td>'2860350826969'</td>\n",
       "      <td>'doc_type': 'Товарная накладная'</td>\n",
       "      <td>'6010503173'</td>\n",
       "    </tr>\n",
       "    <tr>\n",
       "      <th>4</th>\n",
       "      <td>4</td>\n",
       "      <td>'2860350795340'</td>\n",
       "      <td>'doc_type': None</td>\n",
       "      <td>'6010498934'</td>\n",
       "    </tr>\n",
       "  </tbody>\n",
       "</table>\n",
       "</div>"
      ],
      "text/plain": [
       "  doc_name   barcode_number                           doc_type    doc_number\n",
       "0        0  '2810094793638'                   'doc_type': None  '6010358884'\n",
       "1        1  '2860350795548'   'doc_type': 'Товарная накладная'  '6010498941'\n",
       "2        2  '2860350803625'   'doc_type': 'Товарная накладная'  '6010498985'\n",
       "3        3  '2860350826969'   'doc_type': 'Товарная накладная'  '6010503173'\n",
       "4        4  '2860350795340'                   'doc_type': None  '6010498934'"
      ]
     },
     "execution_count": 7,
     "metadata": {},
     "output_type": "execute_result"
    }
   ],
   "source": [
    "for i, _ in enumerate(df['doc_number']):\n",
    "    df['doc_number'][i] = df['doc_number'][i].split('}')[0]\n",
    "\n",
    "df.head()"
   ]
  },
  {
   "cell_type": "code",
   "execution_count": 8,
   "id": "eb9f8949",
   "metadata": {},
   "outputs": [],
   "source": [
    "for col in df[['barcode_number', 'doc_type', 'doc_number']]:\n",
    "    for i, _ in enumerate(df[col]):\n",
    "        df[col][i] = df[col][i].replace(\"'\", \"\")"
   ]
  },
  {
   "cell_type": "code",
   "execution_count": 9,
   "id": "ba23db51",
   "metadata": {},
   "outputs": [],
   "source": [
    "for i, _ in enumerate(df['doc_type']):\n",
    "    df['doc_type'][i] = df['doc_type'][i].split(' ', maxsplit=2)[-1]"
   ]
  },
  {
   "cell_type": "code",
   "execution_count": 10,
   "id": "5d661096",
   "metadata": {},
   "outputs": [
    {
     "data": {
      "text/html": [
       "<div>\n",
       "<style scoped>\n",
       "    .dataframe tbody tr th:only-of-type {\n",
       "        vertical-align: middle;\n",
       "    }\n",
       "\n",
       "    .dataframe tbody tr th {\n",
       "        vertical-align: top;\n",
       "    }\n",
       "\n",
       "    .dataframe thead th {\n",
       "        text-align: right;\n",
       "    }\n",
       "</style>\n",
       "<table border=\"1\" class=\"dataframe\">\n",
       "  <thead>\n",
       "    <tr style=\"text-align: right;\">\n",
       "      <th></th>\n",
       "      <th>doc_name</th>\n",
       "      <th>barcode_number</th>\n",
       "      <th>doc_type</th>\n",
       "      <th>doc_number</th>\n",
       "    </tr>\n",
       "  </thead>\n",
       "  <tbody>\n",
       "    <tr>\n",
       "      <th>0</th>\n",
       "      <td>0</td>\n",
       "      <td>2810094793638</td>\n",
       "      <td>None</td>\n",
       "      <td>6010358884</td>\n",
       "    </tr>\n",
       "    <tr>\n",
       "      <th>1</th>\n",
       "      <td>1</td>\n",
       "      <td>2860350795548</td>\n",
       "      <td>Товарная накладная</td>\n",
       "      <td>6010498941</td>\n",
       "    </tr>\n",
       "    <tr>\n",
       "      <th>2</th>\n",
       "      <td>2</td>\n",
       "      <td>2860350803625</td>\n",
       "      <td>Товарная накладная</td>\n",
       "      <td>6010498985</td>\n",
       "    </tr>\n",
       "    <tr>\n",
       "      <th>3</th>\n",
       "      <td>3</td>\n",
       "      <td>2860350826969</td>\n",
       "      <td>Товарная накладная</td>\n",
       "      <td>6010503173</td>\n",
       "    </tr>\n",
       "    <tr>\n",
       "      <th>4</th>\n",
       "      <td>4</td>\n",
       "      <td>2860350795340</td>\n",
       "      <td>None</td>\n",
       "      <td>6010498934</td>\n",
       "    </tr>\n",
       "  </tbody>\n",
       "</table>\n",
       "</div>"
      ],
      "text/plain": [
       "  doc_name barcode_number            doc_type  doc_number\n",
       "0        0  2810094793638                None  6010358884\n",
       "1        1  2860350795548  Товарная накладная  6010498941\n",
       "2        2  2860350803625  Товарная накладная  6010498985\n",
       "3        3  2860350826969  Товарная накладная  6010503173\n",
       "4        4  2860350795340                None  6010498934"
      ]
     },
     "execution_count": 10,
     "metadata": {},
     "output_type": "execute_result"
    }
   ],
   "source": [
    "df.head()"
   ]
  },
  {
   "cell_type": "code",
   "execution_count": 11,
   "id": "57c8aff4",
   "metadata": {},
   "outputs": [
    {
     "name": "stdout",
     "output_type": "stream",
     "text": [
      "<class 'pandas.core.frame.DataFrame'>\n",
      "RangeIndex: 203 entries, 0 to 202\n",
      "Data columns (total 4 columns):\n",
      " #   Column          Non-Null Count  Dtype \n",
      "---  ------          --------------  ----- \n",
      " 0   doc_name        203 non-null    object\n",
      " 1   barcode_number  203 non-null    object\n",
      " 2   doc_type        203 non-null    object\n",
      " 3   doc_number      203 non-null    object\n",
      "dtypes: object(4)\n",
      "memory usage: 6.5+ KB\n"
     ]
    }
   ],
   "source": [
    "df.info()"
   ]
  },
  {
   "cell_type": "code",
   "execution_count": 12,
   "id": "356b372d",
   "metadata": {},
   "outputs": [],
   "source": [
    "for i, name in enumerate(df['doc_name']):\n",
    "    if len(name) == 1:\n",
    "        df['doc_name'][i] = '00' + df['doc_name'][i] + '.jpg'\n",
    "    elif len(name) == 2:\n",
    "        df['doc_name'][i] = '0' + df['doc_name'][i] + '.jpg'\n",
    "    elif len(name) == 3:\n",
    "        df['doc_name'][i] = df['doc_name'][i] + '.jpg'"
   ]
  },
  {
   "cell_type": "code",
   "execution_count": 13,
   "id": "8430b4e7",
   "metadata": {
    "scrolled": false
   },
   "outputs": [
    {
     "data": {
      "text/html": [
       "<div>\n",
       "<style scoped>\n",
       "    .dataframe tbody tr th:only-of-type {\n",
       "        vertical-align: middle;\n",
       "    }\n",
       "\n",
       "    .dataframe tbody tr th {\n",
       "        vertical-align: top;\n",
       "    }\n",
       "\n",
       "    .dataframe thead th {\n",
       "        text-align: right;\n",
       "    }\n",
       "</style>\n",
       "<table border=\"1\" class=\"dataframe\">\n",
       "  <thead>\n",
       "    <tr style=\"text-align: right;\">\n",
       "      <th></th>\n",
       "      <th>doc_name</th>\n",
       "      <th>barcode_number</th>\n",
       "      <th>doc_type</th>\n",
       "      <th>doc_number</th>\n",
       "    </tr>\n",
       "  </thead>\n",
       "  <tbody>\n",
       "    <tr>\n",
       "      <th>0</th>\n",
       "      <td>000.jpg</td>\n",
       "      <td>2810094793638</td>\n",
       "      <td>None</td>\n",
       "      <td>6010358884</td>\n",
       "    </tr>\n",
       "    <tr>\n",
       "      <th>1</th>\n",
       "      <td>001.jpg</td>\n",
       "      <td>2860350795548</td>\n",
       "      <td>Товарная накладная</td>\n",
       "      <td>6010498941</td>\n",
       "    </tr>\n",
       "    <tr>\n",
       "      <th>2</th>\n",
       "      <td>002.jpg</td>\n",
       "      <td>2860350803625</td>\n",
       "      <td>Товарная накладная</td>\n",
       "      <td>6010498985</td>\n",
       "    </tr>\n",
       "    <tr>\n",
       "      <th>3</th>\n",
       "      <td>003.jpg</td>\n",
       "      <td>2860350826969</td>\n",
       "      <td>Товарная накладная</td>\n",
       "      <td>6010503173</td>\n",
       "    </tr>\n",
       "    <tr>\n",
       "      <th>4</th>\n",
       "      <td>004.jpg</td>\n",
       "      <td>2860350795340</td>\n",
       "      <td>None</td>\n",
       "      <td>6010498934</td>\n",
       "    </tr>\n",
       "  </tbody>\n",
       "</table>\n",
       "</div>"
      ],
      "text/plain": [
       "  doc_name barcode_number            doc_type  doc_number\n",
       "0  000.jpg  2810094793638                None  6010358884\n",
       "1  001.jpg  2860350795548  Товарная накладная  6010498941\n",
       "2  002.jpg  2860350803625  Товарная накладная  6010498985\n",
       "3  003.jpg  2860350826969  Товарная накладная  6010503173\n",
       "4  004.jpg  2860350795340                None  6010498934"
      ]
     },
     "execution_count": 13,
     "metadata": {},
     "output_type": "execute_result"
    }
   ],
   "source": [
    "df.head()"
   ]
  },
  {
   "cell_type": "markdown",
   "id": "ff1876cc",
   "metadata": {},
   "source": [
    "## Визуализация"
   ]
  },
  {
   "cell_type": "raw",
   "id": "7f3ded90",
   "metadata": {},
   "source": [
    "for i, doc in enumerate(df['doc_name']):\n",
    "    image = cv2.imread(DATA_PATH + doc)\n",
    "    image = cv2.resize(image, (0, 0), fx=0.25, fy=0.25)\n",
    "    doc_name = df['doc_name'][i]\n",
    "    barcode_number = df['barcode_number'][i]\n",
    "    doc_type = df['doc_type'][i]\n",
    "    doc_number = df['doc_number'][i]\n",
    "    \n",
    "    \n",
    "    image = cv2.putText(image, f'{doc_name}', (300, 50), cv2.FONT_HERSHEY_COMPLEX, 0.7, (255, 0, 0), 2)\n",
    "    image = cv2.putText(image, f'{barcode_number}', (300, 75), cv2.FONT_HERSHEY_COMPLEX, 0.7, (255, 0, 0), 2)\n",
    "    image = cv2.putText(image, f'{doc_type}', (300, 100), cv2.FONT_HERSHEY_COMPLEX, 0.7, (255, 0, 0), 2)\n",
    "    image = cv2.putText(image, f'{doc_number}', (300, 125), cv2.FONT_HERSHEY_COMPLEX, 0.7, (255, 0, 0), 2)\n",
    "\n",
    "    # Displaying the image\n",
    "    cv2.imshow(\"Output\", image)\n",
    "    cv2.waitKey(0)\n",
    "    cv2.destroyAllWindows()\n",
    "    \n",
    "    if i == 3:\n",
    "        break"
   ]
  },
  {
   "cell_type": "markdown",
   "id": "ef42f55f",
   "metadata": {},
   "source": [
    "## Анализ данных"
   ]
  },
  {
   "cell_type": "markdown",
   "id": "d75c133b",
   "metadata": {},
   "source": [
    "### Необходимые функции"
   ]
  },
  {
   "cell_type": "code",
   "execution_count": 14,
   "id": "cfa6901b",
   "metadata": {},
   "outputs": [],
   "source": [
    "def not_numeric_in_colunm(col):\n",
    "    not_numeric = {}\n",
    "    for i, value in enumerate(col):\n",
    "        if col[i].isnumeric() == False:\n",
    "            not_numeric[i] = value\n",
    "    return not_numeric"
   ]
  },
  {
   "cell_type": "code",
   "execution_count": 15,
   "id": "51855f51",
   "metadata": {},
   "outputs": [],
   "source": [
    "def len_of_numbers(col):\n",
    "    length_dict = {}\n",
    "    for i, value in enumerate(col):\n",
    "        if value.isnumeric():\n",
    "            if len(value) not in length_dict.keys():\n",
    "                length_dict[len(value)] = 1\n",
    "            else:\n",
    "                length_dict[len(value)] += 1\n",
    "    return length_dict"
   ]
  },
  {
   "cell_type": "code",
   "execution_count": 16,
   "id": "2f253cb7",
   "metadata": {},
   "outputs": [
    {
     "data": {
      "text/plain": [
       "dict_keys([1, 3])"
      ]
     },
     "execution_count": 16,
     "metadata": {},
     "output_type": "execute_result"
    }
   ],
   "source": [
    "some_dict = {1:2, 3:4}\n",
    "some_dict.keys()"
   ]
  },
  {
   "cell_type": "markdown",
   "id": "600f2cec",
   "metadata": {},
   "source": [
    "### Barcode"
   ]
  },
  {
   "cell_type": "code",
   "execution_count": 17,
   "id": "cc1556d4",
   "metadata": {},
   "outputs": [
    {
     "data": {
      "text/html": [
       "<div>\n",
       "<style scoped>\n",
       "    .dataframe tbody tr th:only-of-type {\n",
       "        vertical-align: middle;\n",
       "    }\n",
       "\n",
       "    .dataframe tbody tr th {\n",
       "        vertical-align: top;\n",
       "    }\n",
       "\n",
       "    .dataframe thead th {\n",
       "        text-align: right;\n",
       "    }\n",
       "</style>\n",
       "<table border=\"1\" class=\"dataframe\">\n",
       "  <thead>\n",
       "    <tr style=\"text-align: right;\">\n",
       "      <th></th>\n",
       "      <th>doc_name</th>\n",
       "      <th>barcode_number</th>\n",
       "      <th>doc_type</th>\n",
       "      <th>doc_number</th>\n",
       "    </tr>\n",
       "  </thead>\n",
       "  <tbody>\n",
       "    <tr>\n",
       "      <th>0</th>\n",
       "      <td>095.jpg</td>\n",
       "      <td>None</td>\n",
       "      <td>None</td>\n",
       "      <td>None</td>\n",
       "    </tr>\n",
       "    <tr>\n",
       "      <th>1</th>\n",
       "      <td>112.jpg</td>\n",
       "      <td>None</td>\n",
       "      <td>None</td>\n",
       "      <td>None</td>\n",
       "    </tr>\n",
       "    <tr>\n",
       "      <th>2</th>\n",
       "      <td>146.jpg</td>\n",
       "      <td>None</td>\n",
       "      <td>None</td>\n",
       "      <td>None</td>\n",
       "    </tr>\n",
       "    <tr>\n",
       "      <th>3</th>\n",
       "      <td>157.jpg</td>\n",
       "      <td>None</td>\n",
       "      <td>None</td>\n",
       "      <td>None</td>\n",
       "    </tr>\n",
       "    <tr>\n",
       "      <th>4</th>\n",
       "      <td>159.jpg</td>\n",
       "      <td>None</td>\n",
       "      <td>None</td>\n",
       "      <td>None</td>\n",
       "    </tr>\n",
       "  </tbody>\n",
       "</table>\n",
       "</div>"
      ],
      "text/plain": [
       "  doc_name barcode_number doc_type doc_number\n",
       "0  095.jpg           None     None       None\n",
       "1  112.jpg           None     None       None\n",
       "2  146.jpg           None     None       None\n",
       "3  157.jpg           None     None       None\n",
       "4  159.jpg           None     None       None"
      ]
     },
     "execution_count": 17,
     "metadata": {},
     "output_type": "execute_result"
    }
   ],
   "source": [
    "bad_barcode_df = df[df['barcode_number'] == 'None'].reset_index(drop=True)\n",
    "bad_barcode_df"
   ]
  },
  {
   "cell_type": "raw",
   "id": "c5b203c6",
   "metadata": {},
   "source": [
    "for i, doc in enumerate(bad_barcode_df['doc_name']):\n",
    "    image = cv2.imread(DATA_PATH + doc)\n",
    "    image = cv2.resize(image, (0, 0), fx=0.25, fy=0.25)\n",
    "    doc_name = bad_barcode_df['doc_name'][i]\n",
    "    barcode_number = bad_barcode_df['barcode_number'][i]\n",
    "    doc_type = bad_barcode_df['doc_type'][i]\n",
    "    doc_number = bad_barcode_df['doc_number'][i]\n",
    "    \n",
    "    \n",
    "    image = cv2.putText(image, f'{doc_name}', (300, 50), cv2.FONT_HERSHEY_COMPLEX, 0.7, (255, 0, 0), 2)\n",
    "    image = cv2.putText(image, f'{barcode_number}', (300, 75), cv2.FONT_HERSHEY_COMPLEX, 0.7, (255, 0, 0), 2)\n",
    "    image = cv2.putText(image, f'{doc_type}', (300, 100), cv2.FONT_HERSHEY_COMPLEX, 0.7, (255, 0, 0), 2)\n",
    "    image = cv2.putText(image, f'{doc_number}', (300, 125), cv2.FONT_HERSHEY_COMPLEX, 0.7, (255, 0, 0), 2)\n",
    "\n",
    "    # Displaying the image\n",
    "    cv2.imshow(\"Output\", image)\n",
    "    cv2.waitKey(0)\n",
    "    cv2.destroyAllWindows()"
   ]
  },
  {
   "cell_type": "code",
   "execution_count": 18,
   "id": "4f9a9dae",
   "metadata": {},
   "outputs": [
    {
     "data": {
      "text/plain": [
       "{95: 'None', 112: 'None', 146: 'None', 157: 'None', 159: 'None'}"
      ]
     },
     "execution_count": 18,
     "metadata": {},
     "output_type": "execute_result"
    }
   ],
   "source": [
    "barcode_not_numeric = not_numeric_in_colunm(df['barcode_number'])\n",
    "barcode_not_numeric"
   ]
  },
  {
   "cell_type": "code",
   "execution_count": 19,
   "id": "c0d17918",
   "metadata": {},
   "outputs": [
    {
     "data": {
      "text/plain": [
       "{13: 198}"
      ]
     },
     "execution_count": 19,
     "metadata": {},
     "output_type": "execute_result"
    }
   ],
   "source": [
    "length_of_barcode_numbers = len_of_numbers(df['barcode_number'])\n",
    "length_of_barcode_numbers"
   ]
  },
  {
   "cell_type": "code",
   "execution_count": 20,
   "id": "cc5f4d5d",
   "metadata": {},
   "outputs": [
    {
     "data": {
      "text/plain": [
       "0.9753694581280788"
      ]
     },
     "execution_count": 20,
     "metadata": {},
     "output_type": "execute_result"
    }
   ],
   "source": [
    "length_of_barcode_numbers[13] / len(df)"
   ]
  },
  {
   "cell_type": "code",
   "execution_count": 21,
   "id": "9af8c563",
   "metadata": {},
   "outputs": [],
   "source": [
    "bad_barcode_list = list(bad_barcode_df['doc_name'])"
   ]
  },
  {
   "cell_type": "markdown",
   "id": "bb3da917",
   "metadata": {},
   "source": [
    "#### Вывод \n",
    "В столбце со штрих-кодами 4 пропущенных значения **None** для документов 95, 112, 146, 157, 159. Остальные значения соответствуют десятизначным штрих-кодам. Итого можно считать распознанными **97,5%** штрих-кодов."
   ]
  },
  {
   "cell_type": "markdown",
   "id": "2c60cf42",
   "metadata": {},
   "source": [
    "### Doc type"
   ]
  },
  {
   "cell_type": "code",
   "execution_count": 22,
   "id": "c398b416",
   "metadata": {},
   "outputs": [
    {
     "data": {
      "text/plain": [
       "array(['None', 'Товарная накладная', 'Товарная накладна',\n",
       "       'Товарная накладнах', 'товарная накладная', 'Товарная наюладная',\n",
       "       'Товаркая накладная', 'Товарная накладнвя', 'Товарная накпадная',\n",
       "       'Товарная нанладная', 'Товарная макладная', 'товарная інакладная'],\n",
       "      dtype=object)"
      ]
     },
     "execution_count": 22,
     "metadata": {},
     "output_type": "execute_result"
    }
   ],
   "source": [
    "df['doc_type'].unique()"
   ]
  },
  {
   "cell_type": "code",
   "execution_count": 23,
   "id": "6942a7b8",
   "metadata": {},
   "outputs": [
    {
     "data": {
      "text/plain": [
       "Товарная накладная     109\n",
       "None                    63\n",
       "товарная накладная      15\n",
       "Товарная накладна        6\n",
       "Товарная накладнах       2\n",
       "Товарная наюладная       2\n",
       "Товаркая накладная       1\n",
       "Товарная накладнвя       1\n",
       "Товарная накпадная       1\n",
       "Товарная нанладная       1\n",
       "Товарная макладная       1\n",
       "товарная інакладная      1\n",
       "Name: doc_type, dtype: int64"
      ]
     },
     "execution_count": 23,
     "metadata": {},
     "output_type": "execute_result"
    }
   ],
   "source": [
    "df['doc_type'].value_counts()"
   ]
  },
  {
   "cell_type": "code",
   "execution_count": 24,
   "id": "9d26d028",
   "metadata": {},
   "outputs": [
    {
     "data": {
      "text/plain": [
       "0.6896551724137931"
      ]
     },
     "execution_count": 24,
     "metadata": {},
     "output_type": "execute_result"
    }
   ],
   "source": [
    "1 - len(df[df['doc_type'] == 'None']) / len(df)"
   ]
  },
  {
   "cell_type": "code",
   "execution_count": 25,
   "id": "2e76d2f8",
   "metadata": {},
   "outputs": [
    {
     "data": {
      "text/html": [
       "<div>\n",
       "<style scoped>\n",
       "    .dataframe tbody tr th:only-of-type {\n",
       "        vertical-align: middle;\n",
       "    }\n",
       "\n",
       "    .dataframe tbody tr th {\n",
       "        vertical-align: top;\n",
       "    }\n",
       "\n",
       "    .dataframe thead th {\n",
       "        text-align: right;\n",
       "    }\n",
       "</style>\n",
       "<table border=\"1\" class=\"dataframe\">\n",
       "  <thead>\n",
       "    <tr style=\"text-align: right;\">\n",
       "      <th></th>\n",
       "      <th>doc_name</th>\n",
       "      <th>barcode_number</th>\n",
       "      <th>doc_type</th>\n",
       "      <th>doc_number</th>\n",
       "    </tr>\n",
       "  </thead>\n",
       "  <tbody>\n",
       "    <tr>\n",
       "      <th>0</th>\n",
       "      <td>000.jpg</td>\n",
       "      <td>2810094793638</td>\n",
       "      <td>None</td>\n",
       "      <td>6010358884</td>\n",
       "    </tr>\n",
       "    <tr>\n",
       "      <th>4</th>\n",
       "      <td>004.jpg</td>\n",
       "      <td>2860350795340</td>\n",
       "      <td>None</td>\n",
       "      <td>6010498934</td>\n",
       "    </tr>\n",
       "    <tr>\n",
       "      <th>6</th>\n",
       "      <td>006.jpg</td>\n",
       "      <td>2860350795388</td>\n",
       "      <td>None</td>\n",
       "      <td>6010498935</td>\n",
       "    </tr>\n",
       "    <tr>\n",
       "      <th>7</th>\n",
       "      <td>007.jpg</td>\n",
       "      <td>2860350795418</td>\n",
       "      <td>None</td>\n",
       "      <td>6010498936</td>\n",
       "    </tr>\n",
       "    <tr>\n",
       "      <th>8</th>\n",
       "      <td>008.jpg</td>\n",
       "      <td>2860350803656</td>\n",
       "      <td>None</td>\n",
       "      <td>6010498987</td>\n",
       "    </tr>\n",
       "  </tbody>\n",
       "</table>\n",
       "</div>"
      ],
      "text/plain": [
       "  doc_name barcode_number doc_type  doc_number\n",
       "0  000.jpg  2810094793638     None  6010358884\n",
       "4  004.jpg  2860350795340     None  6010498934\n",
       "6  006.jpg  2860350795388     None  6010498935\n",
       "7  007.jpg  2860350795418     None  6010498936\n",
       "8  008.jpg  2860350803656     None  6010498987"
      ]
     },
     "execution_count": 25,
     "metadata": {},
     "output_type": "execute_result"
    }
   ],
   "source": [
    "bad_doc_type_df = df[df['doc_type'] == 'None']\n",
    "bad_doc_type_df.head()"
   ]
  },
  {
   "cell_type": "code",
   "execution_count": 26,
   "id": "8a6d8974",
   "metadata": {},
   "outputs": [
    {
     "data": {
      "text/plain": [
       "['000.jpg',\n",
       " '004.jpg',\n",
       " '006.jpg',\n",
       " '007.jpg',\n",
       " '008.jpg',\n",
       " '009.jpg',\n",
       " '020.jpg',\n",
       " '023.jpg',\n",
       " '027.jpg',\n",
       " '035.jpg',\n",
       " '036.jpg',\n",
       " '039.jpg',\n",
       " '042.jpg',\n",
       " '046.jpg',\n",
       " '048.jpg',\n",
       " '050.jpg',\n",
       " '054.jpg',\n",
       " '055.jpg',\n",
       " '062.jpg',\n",
       " '064.jpg',\n",
       " '072.jpg',\n",
       " '075.jpg',\n",
       " '090.jpg',\n",
       " '095.jpg',\n",
       " '102.jpg',\n",
       " '104.jpg',\n",
       " '105.jpg',\n",
       " '109.jpg',\n",
       " '110.jpg',\n",
       " '112.jpg',\n",
       " '115.jpg',\n",
       " '117.jpg',\n",
       " '119.jpg',\n",
       " '127.jpg',\n",
       " '130.jpg',\n",
       " '131.jpg',\n",
       " '133.jpg',\n",
       " '136.jpg',\n",
       " '141.jpg',\n",
       " '142.jpg',\n",
       " '145.jpg',\n",
       " '146.jpg',\n",
       " '148.jpg',\n",
       " '149.jpg',\n",
       " '152.jpg',\n",
       " '155.jpg',\n",
       " '157.jpg',\n",
       " '159.jpg',\n",
       " '163.jpg',\n",
       " '165.jpg',\n",
       " '166.jpg',\n",
       " '167.jpg',\n",
       " '168.jpg',\n",
       " '169.jpg',\n",
       " '170.jpg',\n",
       " '174.jpg',\n",
       " '179.jpg',\n",
       " '185.jpg',\n",
       " '186.jpg',\n",
       " '189.jpg',\n",
       " '190.jpg',\n",
       " '195.jpg',\n",
       " '202.jpg']"
      ]
     },
     "execution_count": 26,
     "metadata": {},
     "output_type": "execute_result"
    }
   ],
   "source": [
    "bad_doc_type_list = list(bad_doc_type_df['doc_name'])\n",
    "bad_doc_type_list"
   ]
  },
  {
   "cell_type": "markdown",
   "id": "26503c0a",
   "metadata": {},
   "source": [
    "#### Вывод \n",
    "В столбце с типами документов 63 пропущенных значения **None**. Также в этом столбце есть почти распознанные данные, например **Товарная накладна**, **товарная інакладная** и другие. В почти распознанных данных допущено по 1 ошибке, так что, можно считать их проходящими по порогу распознавания. Итого качественно распознано 140 типов документов из 203 примеров, или всего **69,0%**."
   ]
  },
  {
   "cell_type": "markdown",
   "id": "21860a1b",
   "metadata": {},
   "source": [
    "### Doc number"
   ]
  },
  {
   "cell_type": "code",
   "execution_count": 27,
   "id": "499194c8",
   "metadata": {},
   "outputs": [
    {
     "data": {
      "text/html": [
       "<div>\n",
       "<style scoped>\n",
       "    .dataframe tbody tr th:only-of-type {\n",
       "        vertical-align: middle;\n",
       "    }\n",
       "\n",
       "    .dataframe tbody tr th {\n",
       "        vertical-align: top;\n",
       "    }\n",
       "\n",
       "    .dataframe thead th {\n",
       "        text-align: right;\n",
       "    }\n",
       "</style>\n",
       "<table border=\"1\" class=\"dataframe\">\n",
       "  <thead>\n",
       "    <tr style=\"text-align: right;\">\n",
       "      <th></th>\n",
       "      <th>doc_name</th>\n",
       "      <th>barcode_number</th>\n",
       "      <th>doc_type</th>\n",
       "      <th>doc_number</th>\n",
       "    </tr>\n",
       "  </thead>\n",
       "  <tbody>\n",
       "    <tr>\n",
       "      <th>28</th>\n",
       "      <td>028.jpg</td>\n",
       "      <td>2810094889065</td>\n",
       "      <td>Товарная накладная</td>\n",
       "      <td>None</td>\n",
       "    </tr>\n",
       "    <tr>\n",
       "      <th>39</th>\n",
       "      <td>039.jpg</td>\n",
       "      <td>2860350669320</td>\n",
       "      <td>None</td>\n",
       "      <td>None</td>\n",
       "    </tr>\n",
       "    <tr>\n",
       "      <th>40</th>\n",
       "      <td>040.jpg</td>\n",
       "      <td>2810095177772</td>\n",
       "      <td>Товарная накладная</td>\n",
       "      <td>None</td>\n",
       "    </tr>\n",
       "    <tr>\n",
       "      <th>41</th>\n",
       "      <td>041.jpg</td>\n",
       "      <td>2860350669306</td>\n",
       "      <td>Товарная накладная</td>\n",
       "      <td>None</td>\n",
       "    </tr>\n",
       "    <tr>\n",
       "      <th>43</th>\n",
       "      <td>043.jpg</td>\n",
       "      <td>2860350693837</td>\n",
       "      <td>Товарная накладная</td>\n",
       "      <td>None</td>\n",
       "    </tr>\n",
       "    <tr>\n",
       "      <th>44</th>\n",
       "      <td>044.jpg</td>\n",
       "      <td>2860350653671</td>\n",
       "      <td>Товарная накладная</td>\n",
       "      <td>None</td>\n",
       "    </tr>\n",
       "    <tr>\n",
       "      <th>47</th>\n",
       "      <td>047.jpg</td>\n",
       "      <td>2860350653657</td>\n",
       "      <td>Товарная накладная</td>\n",
       "      <td>None</td>\n",
       "    </tr>\n",
       "    <tr>\n",
       "      <th>48</th>\n",
       "      <td>048.jpg</td>\n",
       "      <td>2860350617796</td>\n",
       "      <td>None</td>\n",
       "      <td>None</td>\n",
       "    </tr>\n",
       "    <tr>\n",
       "      <th>49</th>\n",
       "      <td>049.jpg</td>\n",
       "      <td>2860350627696</td>\n",
       "      <td>Товарная накладная</td>\n",
       "      <td>None</td>\n",
       "    </tr>\n",
       "    <tr>\n",
       "      <th>50</th>\n",
       "      <td>050.jpg</td>\n",
       "      <td>2810095176461</td>\n",
       "      <td>None</td>\n",
       "      <td>None</td>\n",
       "    </tr>\n",
       "  </tbody>\n",
       "</table>\n",
       "</div>"
      ],
      "text/plain": [
       "   doc_name barcode_number            doc_type doc_number\n",
       "28  028.jpg  2810094889065  Товарная накладная       None\n",
       "39  039.jpg  2860350669320                None       None\n",
       "40  040.jpg  2810095177772  Товарная накладная       None\n",
       "41  041.jpg  2860350669306  Товарная накладная       None\n",
       "43  043.jpg  2860350693837  Товарная накладная       None\n",
       "44  044.jpg  2860350653671  Товарная накладная       None\n",
       "47  047.jpg  2860350653657  Товарная накладная       None\n",
       "48  048.jpg  2860350617796                None       None\n",
       "49  049.jpg  2860350627696  Товарная накладная       None\n",
       "50  050.jpg  2810095176461                None       None"
      ]
     },
     "execution_count": 27,
     "metadata": {},
     "output_type": "execute_result"
    }
   ],
   "source": [
    "bad_doc_number = df[df['doc_number'] == 'None']\n",
    "bad_doc_number.head(10)"
   ]
  },
  {
   "cell_type": "code",
   "execution_count": 28,
   "id": "295bc79f",
   "metadata": {},
   "outputs": [
    {
     "data": {
      "text/html": [
       "<div>\n",
       "<style scoped>\n",
       "    .dataframe tbody tr th:only-of-type {\n",
       "        vertical-align: middle;\n",
       "    }\n",
       "\n",
       "    .dataframe tbody tr th {\n",
       "        vertical-align: top;\n",
       "    }\n",
       "\n",
       "    .dataframe thead th {\n",
       "        text-align: right;\n",
       "    }\n",
       "</style>\n",
       "<table border=\"1\" class=\"dataframe\">\n",
       "  <thead>\n",
       "    <tr style=\"text-align: right;\">\n",
       "      <th></th>\n",
       "      <th>doc_name</th>\n",
       "      <th>barcode_number</th>\n",
       "      <th>doc_type</th>\n",
       "      <th>doc_number</th>\n",
       "    </tr>\n",
       "  </thead>\n",
       "  <tbody>\n",
       "    <tr>\n",
       "      <th>190</th>\n",
       "      <td>190.jpg</td>\n",
       "      <td>2860619145831</td>\n",
       "      <td>None</td>\n",
       "      <td>None</td>\n",
       "    </tr>\n",
       "    <tr>\n",
       "      <th>191</th>\n",
       "      <td>191.jpg</td>\n",
       "      <td>2860598926537</td>\n",
       "      <td>товарная накладная</td>\n",
       "      <td>None</td>\n",
       "    </tr>\n",
       "    <tr>\n",
       "      <th>193</th>\n",
       "      <td>193.jpg</td>\n",
       "      <td>2860598737003</td>\n",
       "      <td>товарная накладная</td>\n",
       "      <td>Konmueerue</td>\n",
       "    </tr>\n",
       "    <tr>\n",
       "      <th>195</th>\n",
       "      <td>195.jpg</td>\n",
       "      <td>2860615802998</td>\n",
       "      <td>None</td>\n",
       "      <td>None</td>\n",
       "    </tr>\n",
       "    <tr>\n",
       "      <th>196</th>\n",
       "      <td>196.jpg</td>\n",
       "      <td>2860613502609</td>\n",
       "      <td>Товарная накладная</td>\n",
       "      <td>None</td>\n",
       "    </tr>\n",
       "    <tr>\n",
       "      <th>197</th>\n",
       "      <td>197.jpg</td>\n",
       "      <td>2860532178794</td>\n",
       "      <td>Товарная накладная</td>\n",
       "      <td>None</td>\n",
       "    </tr>\n",
       "    <tr>\n",
       "      <th>198</th>\n",
       "      <td>198.jpg</td>\n",
       "      <td>2860593085420</td>\n",
       "      <td>товарная накладная</td>\n",
       "      <td>Konnyecrae</td>\n",
       "    </tr>\n",
       "    <tr>\n",
       "      <th>199</th>\n",
       "      <td>199.jpg</td>\n",
       "      <td>2860594030962</td>\n",
       "      <td>товарная накладная</td>\n",
       "      <td>None</td>\n",
       "    </tr>\n",
       "    <tr>\n",
       "      <th>200</th>\n",
       "      <td>200.jpg</td>\n",
       "      <td>2860597151404</td>\n",
       "      <td>Товарная накладная</td>\n",
       "      <td>Konwyoerao</td>\n",
       "    </tr>\n",
       "    <tr>\n",
       "      <th>202</th>\n",
       "      <td>202.jpg</td>\n",
       "      <td>2860601427549</td>\n",
       "      <td>None</td>\n",
       "      <td>None</td>\n",
       "    </tr>\n",
       "  </tbody>\n",
       "</table>\n",
       "</div>"
      ],
      "text/plain": [
       "    doc_name barcode_number            doc_type  doc_number\n",
       "190  190.jpg  2860619145831                None        None\n",
       "191  191.jpg  2860598926537  товарная накладная        None\n",
       "193  193.jpg  2860598737003  товарная накладная  Konmueerue\n",
       "195  195.jpg  2860615802998                None        None\n",
       "196  196.jpg  2860613502609  Товарная накладная        None\n",
       "197  197.jpg  2860532178794  Товарная накладная        None\n",
       "198  198.jpg  2860593085420  товарная накладная  Konnyecrae\n",
       "199  199.jpg  2860594030962  товарная накладная        None\n",
       "200  200.jpg  2860597151404  Товарная накладная  Konwyoerao\n",
       "202  202.jpg  2860601427549                None        None"
      ]
     },
     "execution_count": 28,
     "metadata": {},
     "output_type": "execute_result"
    }
   ],
   "source": [
    "bad_doc_number_df = df[df['doc_number'].str.isnumeric() == False]\n",
    "bad_doc_number_df.tail(10)"
   ]
  },
  {
   "cell_type": "code",
   "execution_count": 29,
   "id": "2520f61c",
   "metadata": {},
   "outputs": [
    {
     "data": {
      "text/plain": [
       "124"
      ]
     },
     "execution_count": 29,
     "metadata": {},
     "output_type": "execute_result"
    }
   ],
   "source": [
    "len(bad_doc_number_df)"
   ]
  },
  {
   "cell_type": "code",
   "execution_count": 30,
   "id": "8f14887f",
   "metadata": {},
   "outputs": [
    {
     "data": {
      "text/plain": [
       "None          121\n",
       "Konmueerue      1\n",
       "Konnyecrae      1\n",
       "Konwyoerao      1\n",
       "Name: doc_number, dtype: int64"
      ]
     },
     "execution_count": 30,
     "metadata": {},
     "output_type": "execute_result"
    }
   ],
   "source": [
    "bad_doc_number_df['doc_number'].value_counts()"
   ]
  },
  {
   "cell_type": "code",
   "execution_count": 31,
   "id": "b797d9d5",
   "metadata": {},
   "outputs": [
    {
     "data": {
      "text/plain": [
       "{28: 'None',\n",
       " 39: 'None',\n",
       " 40: 'None',\n",
       " 41: 'None',\n",
       " 43: 'None',\n",
       " 44: 'None',\n",
       " 47: 'None',\n",
       " 48: 'None',\n",
       " 49: 'None',\n",
       " 50: 'None',\n",
       " 52: 'None',\n",
       " 53: 'None',\n",
       " 54: 'None',\n",
       " 55: 'None',\n",
       " 61: 'None',\n",
       " 63: 'None',\n",
       " 68: 'None',\n",
       " 69: 'None',\n",
       " 71: 'None',\n",
       " 79: 'None',\n",
       " 82: 'None',\n",
       " 90: 'None',\n",
       " 91: 'None',\n",
       " 92: 'None',\n",
       " 93: 'None',\n",
       " 94: 'None',\n",
       " 95: 'None',\n",
       " 96: 'None',\n",
       " 97: 'None',\n",
       " 98: 'None',\n",
       " 99: 'None',\n",
       " 100: 'None',\n",
       " 103: 'None',\n",
       " 104: 'None',\n",
       " 105: 'None',\n",
       " 106: 'None',\n",
       " 107: 'None',\n",
       " 109: 'None',\n",
       " 110: 'None',\n",
       " 111: 'None',\n",
       " 112: 'None',\n",
       " 113: 'None',\n",
       " 114: 'None',\n",
       " 115: 'None',\n",
       " 116: 'None',\n",
       " 117: 'None',\n",
       " 118: 'None',\n",
       " 119: 'None',\n",
       " 122: 'None',\n",
       " 123: 'None',\n",
       " 124: 'None',\n",
       " 125: 'None',\n",
       " 126: 'None',\n",
       " 127: 'None',\n",
       " 128: 'None',\n",
       " 129: 'None',\n",
       " 130: 'None',\n",
       " 131: 'None',\n",
       " 132: 'None',\n",
       " 133: 'None',\n",
       " 134: 'None',\n",
       " 135: 'None',\n",
       " 136: 'None',\n",
       " 137: 'None',\n",
       " 138: 'None',\n",
       " 139: 'None',\n",
       " 140: 'None',\n",
       " 141: 'None',\n",
       " 142: 'None',\n",
       " 143: 'None',\n",
       " 144: 'None',\n",
       " 145: 'None',\n",
       " 146: 'None',\n",
       " 147: 'None',\n",
       " 148: 'None',\n",
       " 149: 'None',\n",
       " 150: 'None',\n",
       " 151: 'None',\n",
       " 152: 'None',\n",
       " 153: 'None',\n",
       " 154: 'None',\n",
       " 155: 'None',\n",
       " 156: 'None',\n",
       " 157: 'None',\n",
       " 158: 'None',\n",
       " 159: 'None',\n",
       " 162: 'None',\n",
       " 163: 'None',\n",
       " 164: 'None',\n",
       " 165: 'None',\n",
       " 166: 'None',\n",
       " 167: 'None',\n",
       " 168: 'None',\n",
       " 169: 'None',\n",
       " 170: 'None',\n",
       " 171: 'None',\n",
       " 172: 'None',\n",
       " 173: 'None',\n",
       " 174: 'None',\n",
       " 175: 'None',\n",
       " 176: 'None',\n",
       " 177: 'None',\n",
       " 178: 'None',\n",
       " 179: 'None',\n",
       " 180: 'None',\n",
       " 181: 'None',\n",
       " 182: 'None',\n",
       " 183: 'None',\n",
       " 184: 'None',\n",
       " 185: 'None',\n",
       " 186: 'None',\n",
       " 187: 'None',\n",
       " 188: 'None',\n",
       " 189: 'None',\n",
       " 190: 'None',\n",
       " 191: 'None',\n",
       " 193: 'Konmueerue',\n",
       " 195: 'None',\n",
       " 196: 'None',\n",
       " 197: 'None',\n",
       " 198: 'Konnyecrae',\n",
       " 199: 'None',\n",
       " 200: 'Konwyoerao',\n",
       " 202: 'None'}"
      ]
     },
     "execution_count": 31,
     "metadata": {},
     "output_type": "execute_result"
    }
   ],
   "source": [
    "doc_number_not_numeric = not_numeric_in_colunm(df['doc_number'])\n",
    "doc_number_not_numeric"
   ]
  },
  {
   "cell_type": "code",
   "execution_count": 32,
   "id": "816cbfca",
   "metadata": {},
   "outputs": [
    {
     "data": {
      "text/plain": [
       "{10: 79}"
      ]
     },
     "execution_count": 32,
     "metadata": {},
     "output_type": "execute_result"
    }
   ],
   "source": [
    "length_of_doc_numbers = len_of_numbers(df['doc_number'])\n",
    "length_of_doc_numbers"
   ]
  },
  {
   "cell_type": "code",
   "execution_count": 33,
   "id": "f175fc7e",
   "metadata": {},
   "outputs": [
    {
     "data": {
      "text/plain": [
       "0.3891625615763547"
      ]
     },
     "execution_count": 33,
     "metadata": {},
     "output_type": "execute_result"
    }
   ],
   "source": [
    "length_of_doc_numbers[10]/len(df)"
   ]
  },
  {
   "cell_type": "code",
   "execution_count": 34,
   "id": "7222f9c2",
   "metadata": {},
   "outputs": [
    {
     "data": {
      "text/plain": [
       "['028.jpg',\n",
       " '039.jpg',\n",
       " '040.jpg',\n",
       " '041.jpg',\n",
       " '043.jpg',\n",
       " '044.jpg',\n",
       " '047.jpg',\n",
       " '048.jpg',\n",
       " '049.jpg',\n",
       " '050.jpg',\n",
       " '052.jpg',\n",
       " '053.jpg',\n",
       " '054.jpg',\n",
       " '055.jpg',\n",
       " '061.jpg',\n",
       " '063.jpg',\n",
       " '068.jpg',\n",
       " '069.jpg',\n",
       " '071.jpg',\n",
       " '079.jpg',\n",
       " '082.jpg',\n",
       " '090.jpg',\n",
       " '091.jpg',\n",
       " '092.jpg',\n",
       " '093.jpg',\n",
       " '094.jpg',\n",
       " '095.jpg',\n",
       " '096.jpg',\n",
       " '097.jpg',\n",
       " '098.jpg',\n",
       " '099.jpg',\n",
       " '100.jpg',\n",
       " '103.jpg',\n",
       " '104.jpg',\n",
       " '105.jpg',\n",
       " '106.jpg',\n",
       " '107.jpg',\n",
       " '109.jpg',\n",
       " '110.jpg',\n",
       " '111.jpg',\n",
       " '112.jpg',\n",
       " '113.jpg',\n",
       " '114.jpg',\n",
       " '115.jpg',\n",
       " '116.jpg',\n",
       " '117.jpg',\n",
       " '118.jpg',\n",
       " '119.jpg',\n",
       " '122.jpg',\n",
       " '123.jpg',\n",
       " '124.jpg',\n",
       " '125.jpg',\n",
       " '126.jpg',\n",
       " '127.jpg',\n",
       " '128.jpg',\n",
       " '129.jpg',\n",
       " '130.jpg',\n",
       " '131.jpg',\n",
       " '132.jpg',\n",
       " '133.jpg',\n",
       " '134.jpg',\n",
       " '135.jpg',\n",
       " '136.jpg',\n",
       " '137.jpg',\n",
       " '138.jpg',\n",
       " '139.jpg',\n",
       " '140.jpg',\n",
       " '141.jpg',\n",
       " '142.jpg',\n",
       " '143.jpg',\n",
       " '144.jpg',\n",
       " '145.jpg',\n",
       " '146.jpg',\n",
       " '147.jpg',\n",
       " '148.jpg',\n",
       " '149.jpg',\n",
       " '150.jpg',\n",
       " '151.jpg',\n",
       " '152.jpg',\n",
       " '153.jpg',\n",
       " '154.jpg',\n",
       " '155.jpg',\n",
       " '156.jpg',\n",
       " '157.jpg',\n",
       " '158.jpg',\n",
       " '159.jpg',\n",
       " '162.jpg',\n",
       " '163.jpg',\n",
       " '164.jpg',\n",
       " '165.jpg',\n",
       " '166.jpg',\n",
       " '167.jpg',\n",
       " '168.jpg',\n",
       " '169.jpg',\n",
       " '170.jpg',\n",
       " '171.jpg',\n",
       " '172.jpg',\n",
       " '173.jpg',\n",
       " '174.jpg',\n",
       " '175.jpg',\n",
       " '176.jpg',\n",
       " '177.jpg',\n",
       " '178.jpg',\n",
       " '179.jpg',\n",
       " '180.jpg',\n",
       " '181.jpg',\n",
       " '182.jpg',\n",
       " '183.jpg',\n",
       " '184.jpg',\n",
       " '185.jpg',\n",
       " '186.jpg',\n",
       " '187.jpg',\n",
       " '188.jpg',\n",
       " '189.jpg',\n",
       " '190.jpg',\n",
       " '191.jpg',\n",
       " '193.jpg',\n",
       " '195.jpg',\n",
       " '196.jpg',\n",
       " '197.jpg',\n",
       " '198.jpg',\n",
       " '199.jpg',\n",
       " '200.jpg',\n",
       " '202.jpg']"
      ]
     },
     "execution_count": 34,
     "metadata": {},
     "output_type": "execute_result"
    }
   ],
   "source": [
    "bad_doc_number_list = list(bad_doc_number_df['doc_name'])\n",
    "bad_doc_number_list"
   ]
  },
  {
   "cell_type": "markdown",
   "id": "c4f1ac47",
   "metadata": {},
   "source": [
    "#### Вывод \n",
    "В столбце с номерами документов 124 пропущенных значения. В них фигурируют либо **None** либо нечисловые значения, например **Konmueerue**. Качественно распознано 79 номеров документов из 203 примеров, или всего 38,9%."
   ]
  },
  {
   "cell_type": "markdown",
   "id": "1c48d1a4",
   "metadata": {},
   "source": [
    "## Результат исследования"
   ]
  },
  {
   "cell_type": "code",
   "execution_count": 35,
   "id": "eac216ff",
   "metadata": {},
   "outputs": [],
   "source": [
    "bad_lists_union = sorted(list(set().union(bad_barcode_list, bad_doc_type_list, bad_doc_number_list)))"
   ]
  },
  {
   "cell_type": "code",
   "execution_count": 36,
   "id": "a15a51c1",
   "metadata": {},
   "outputs": [
    {
     "data": {
      "text/plain": [
       "142"
      ]
     },
     "execution_count": 36,
     "metadata": {},
     "output_type": "execute_result"
    }
   ],
   "source": [
    "len(bad_lists_union)"
   ]
  },
  {
   "cell_type": "code",
   "execution_count": 37,
   "id": "6641f466",
   "metadata": {},
   "outputs": [
    {
     "data": {
      "text/plain": [
       "61"
      ]
     },
     "execution_count": 37,
     "metadata": {},
     "output_type": "execute_result"
    }
   ],
   "source": [
    "len(df) - len(bad_lists_union)"
   ]
  },
  {
   "cell_type": "code",
   "execution_count": 38,
   "id": "32d54a75",
   "metadata": {},
   "outputs": [
    {
     "data": {
      "text/plain": [
       "0.3004926108374384"
      ]
     },
     "execution_count": 38,
     "metadata": {},
     "output_type": "execute_result"
    }
   ],
   "source": [
    "1 -len(bad_lists_union) / len(df)"
   ]
  },
  {
   "cell_type": "markdown",
   "id": "985f3851",
   "metadata": {},
   "source": [
    "## Общий вывод"
   ]
  },
  {
   "cell_type": "markdown",
   "id": "f50d122c",
   "metadata": {},
   "source": [
    "Можно считать качественно распознанными лишь 61 документ из 203, что составляет **30%** из тестовых данных."
   ]
  },
  {
   "cell_type": "code",
   "execution_count": null,
   "id": "147a3b19",
   "metadata": {},
   "outputs": [],
   "source": []
  }
 ],
 "metadata": {
  "kernelspec": {
   "display_name": "ocr_data_generation",
   "language": "python",
   "name": "ocr_data_generation"
  },
  "language_info": {
   "codemirror_mode": {
    "name": "ipython",
    "version": 3
   },
   "file_extension": ".py",
   "mimetype": "text/x-python",
   "name": "python",
   "nbconvert_exporter": "python",
   "pygments_lexer": "ipython3",
   "version": "3.9.12"
  }
 },
 "nbformat": 4,
 "nbformat_minor": 5
}
