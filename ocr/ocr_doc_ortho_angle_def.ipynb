{
 "cells": [
  {
   "cell_type": "markdown",
   "metadata": {},
   "source": [
    "# Исследование способов определения ортогонального поворота документов\n",
    "- Автор: Кирилл Киселев\n",
    "- Дата начала: 21.06.2022\n",
    "- Описание исследования: оптимизация способы определения ортогонального положения документов."
   ]
  },
  {
   "cell_type": "markdown",
   "metadata": {},
   "source": [
    "## 1. Имеющиеся изображения"
   ]
  },
  {
   "cell_type": "code",
   "execution_count": null,
   "metadata": {},
   "outputs": [],
   "source": []
  },
  {
   "cell_type": "raw",
   "metadata": {},
   "source": [
    "# Исходный список\n",
    " '001.jpg',\n",
    " '002.jpg',\n",
    " '003.jpg',\n",
    " '004.jpg',\n",
    " '005.jpg',\n",
    " '006.jpg',\n",
    " '007.jpg',\n",
    " '008.jpg',\n",
    " '009.jpg',\n",
    " '010.jpg',\n",
    " '011.jpg',\n",
    " '012.jpg',"
   ]
  },
  {
   "cell_type": "markdown",
   "metadata": {},
   "source": [
    "## 2. Загрузка библиотек"
   ]
  },
  {
   "cell_type": "code",
   "execution_count": 1,
   "metadata": {},
   "outputs": [],
   "source": [
    "import cv2\n",
    "import imutils\n",
    "import numpy as np\n",
    "import matplotlib as plt\n",
    "import os\n",
    "import math\n",
    "from PIL import Image\n",
    "from pyzbar import pyzbar\n",
    "\n",
    "import pytesseract\n",
    "from pytesseract import Output\n",
    "\n",
    "import re"
   ]
  },
  {
   "cell_type": "markdown",
   "metadata": {},
   "source": [
    "## 3. Глобальные переменные"
   ]
  },
  {
   "cell_type": "code",
   "execution_count": 35,
   "metadata": {},
   "outputs": [
    {
     "name": "stdout",
     "output_type": "stream",
     "text": [
      "/home/kirillk/PycharmProjects/useful_notebooks\r\n"
     ]
    }
   ],
   "source": [
    "!pwd"
   ]
  },
  {
   "cell_type": "code",
   "execution_count": 34,
   "metadata": {},
   "outputs": [
    {
     "data": {
      "text/plain": [
       "['rec_to_image',\n",
       " 'ocr_data_generation',\n",
       " 'barcode_scaner',\n",
       " 'ocr-benchmark',\n",
       " 'distance_calculation',\n",
       " 'ocr_data_engineering',\n",
       " 'ocr_ortho_angle_def',\n",
       " 'text_generator',\n",
       " 'paddle_ocr',\n",
       " 'cut_videos',\n",
       " 'image_markup',\n",
       " 'data_engineering',\n",
       " 'DeepFace_test',\n",
       " 'deepface-master',\n",
       " 'useful_notebooks',\n",
       " 'pythonProject']"
      ]
     },
     "execution_count": 34,
     "metadata": {},
     "output_type": "execute_result"
    }
   ],
   "source": [
    "os.listdir('..')"
   ]
  },
  {
   "cell_type": "code",
   "execution_count": 16,
   "metadata": {},
   "outputs": [],
   "source": [
    "FILE_PATH = '/home/kirillk/datasets/OCR/ocr_test_cases_6/'"
   ]
  },
  {
   "cell_type": "markdown",
   "metadata": {},
   "source": [
    "## 4. Необходимые функции"
   ]
  },
  {
   "cell_type": "code",
   "execution_count": 17,
   "metadata": {},
   "outputs": [],
   "source": [
    "def detect_shape(contour):\n",
    "    \"\"\"Returns the shape (e.g. 'triangle', 'square') from the contour\"\"\"\n",
    "\n",
    "    detected_shape = '-----'\n",
    "\n",
    "    # Calculate perimeter of the contour:\n",
    "    perimeter = cv2.arcLength(contour, True)\n",
    "\n",
    "    # Get a contour approximation:\n",
    "    contour_approx = cv2.approxPolyDP(contour, 0.03 * perimeter, True)\n",
    "\n",
    "    # Check if the number of vertices is 3. In this case, the contour is a triangle\n",
    "    if len(contour_approx) == 3:\n",
    "        detected_shape = 'triangle'\n",
    "\n",
    "    # Check if the number of vertices is 4. In this case, the contour is a square/rectangle\n",
    "    elif len(contour_approx) == 4:\n",
    "\n",
    "        # We calculate the aspect ration from the bounding rect:\n",
    "        x, y, width, height = cv2.boundingRect(contour_approx)\n",
    "        aspect_ratio = float(width) / height\n",
    "\n",
    "        # A square has an aspect ratio close to 1 (comparison chaining is used):\n",
    "        if 0.90 < aspect_ratio < 1.10:\n",
    "            detected_shape = \"square\"\n",
    "        else:\n",
    "            detected_shape = \"rectangle\"\n",
    "\n",
    "    # Check if the number of vertices is 5. In this case, the contour is a pentagon\n",
    "    elif len(contour_approx) == 5:\n",
    "        detected_shape = \"pentagon\"\n",
    "\n",
    "    # Check if the number of vertices is 6. In this case, the contour is a hexagon\n",
    "    elif len(contour_approx) == 6:\n",
    "        detected_shape = \"hexagon\"\n",
    "\n",
    "    # The shape as more than 6 vertices. In this example, we assume that is a circle\n",
    "    else:\n",
    "        detected_shape = \"circle\"\n",
    "\n",
    "    # return the name of the shape and the found vertices\n",
    "    return detected_shape, contour_approx"
   ]
  },
  {
   "cell_type": "code",
   "execution_count": 18,
   "metadata": {},
   "outputs": [],
   "source": [
    "def find_contour(gray_image, threshold=160):\n",
    "    _, thresh = cv2.threshold(gray_image, threshold, 255, 0)  # 160\n",
    "    contours, _ = cv2.findContours(thresh, cv2.RETR_EXTERNAL, cv2.CHAIN_APPROX_NONE)\n",
    "\n",
    "    max_contour = 0\n",
    "    num_of_contour = None\n",
    "\n",
    "    for num, i in enumerate(contours):\n",
    "        if len(i) > max_contour:\n",
    "            max_contour = len(i)\n",
    "            num_of_contour = num\n",
    "    return contours[num_of_contour]    "
   ]
  },
  {
   "cell_type": "markdown",
   "metadata": {},
   "source": [
    "## 5. Данные"
   ]
  },
  {
   "cell_type": "markdown",
   "metadata": {},
   "source": [
    "### Оптимизация скрипта поворота фото "
   ]
  },
  {
   "cell_type": "code",
   "execution_count": 19,
   "metadata": {},
   "outputs": [
    {
     "ename": "NameError",
     "evalue": "name 'FILE_PATH_2' is not defined",
     "output_type": "error",
     "traceback": [
      "\u001b[0;31m---------------------------------------------------------------------------\u001b[0m",
      "\u001b[0;31mNameError\u001b[0m                                 Traceback (most recent call last)",
      "File \u001b[0;32m<timed exec>:1\u001b[0m, in \u001b[0;36m<module>\u001b[0;34m\u001b[0m\n",
      "\u001b[0;31mNameError\u001b[0m: name 'FILE_PATH_2' is not defined"
     ]
    }
   ],
   "source": [
    "%%time\n",
    "im = cv2.imread(FILE_PATH_2 + rotated_photo_list[0])\n",
    "im_gray = cv2.cvtColor(im, cv2.COLOR_BGR2GRAY)\n",
    "\n",
    "doc_contour = find_contour(im_gray)\n",
    "shape, vertices = detect_shape(doc_contour)\n",
    "\n",
    "assert shape=='rectangle'\n",
    "\n",
    "x1, y1 = vertices[1][0][0], vertices[1][0][1]\n",
    "x2, y2 = vertices[2][0][0], vertices[2][0][1]\n",
    "xM, yM = vertices[1][0][0], vertices[2][0][1]\n",
    "\n",
    "# catet_M_2 = abs(x2 - xM)\n",
    "# catet_1_M = abs(yM - y1)\n",
    "\n",
    "catet_M_2 = (x2 - xM)\n",
    "catet_1_M = (yM - y1)\n",
    "\n",
    "tg_a = catet_1_M / catet_M_2\n",
    "angle = round(math.degrees(math.atan(tg_a)))\n",
    "\n",
    "# здесь осуществили поворот, rotate_bound поворачивает изображение по часовой стрелке\n",
    "img = imutils.rotate_bound(im_gray, -angle)\n",
    "\n",
    "# снова ищем контуры документа\n",
    "contour_for_crop = find_contour(img)\n",
    "_, vertices_2 = detect_shape(contour_for_crop)\n",
    "\n",
    "x_1, x_2 = min([vertices_2[0][0][0], vertices_2[1][0][0]]), max([vertices_2[2][0][0], vertices_2[3][0][0]])\n",
    "y_1, y_2 = min([vertices_2[0][0][1], vertices_2[3][0][1]]), max([vertices_2[2][0][1], vertices_2[2][0][1]])\n",
    "\n",
    "im = imutils.rotate_bound(im, -angle)\n",
    "im = im[y_1:y_2, x_1:x_2]\n",
    "im = cv2.resize(im, (0, 0), fx=0.3, fy=0.3)\n",
    "\n",
    "cv2.imshow(\"Image\", im)\n",
    "cv2.waitKey(0)\n",
    "cv2.destroyAllWindows()"
   ]
  },
  {
   "cell_type": "markdown",
   "metadata": {},
   "source": [
    "# Current research point"
   ]
  },
  {
   "cell_type": "code",
   "execution_count": null,
   "metadata": {},
   "outputs": [],
   "source": []
  },
  {
   "cell_type": "code",
   "execution_count": 20,
   "metadata": {},
   "outputs": [
    {
     "name": "stdout",
     "output_type": "stream",
     "text": [
      "CPU times: user 771 ms, sys: 199 ms, total: 969 ms\n",
      "Wall time: 2.81 s\n"
     ]
    }
   ],
   "source": [
    "%%time\n",
    "im = cv2.imread(FILE_PATH + photo_list[8])\n",
    "im_gray = cv2.cvtColor(im, cv2.COLOR_BGR2GRAY)\n",
    "\n",
    "doc_contour = find_contour(im_gray)\n",
    "shape, vertices = detect_shape(doc_contour)\n",
    "\n",
    "assert shape=='rectangle'\n",
    "\n",
    "x1, y1 = vertices[1][0][0], vertices[1][0][1]\n",
    "x2, y2 = vertices[2][0][0], vertices[2][0][1]\n",
    "xM, yM = vertices[1][0][0], vertices[2][0][1]\n",
    "\n",
    "# catet_M_2 = abs(x2 - xM)\n",
    "# catet_1_M = abs(yM - y1)\n",
    "\n",
    "catet_M_2 = (x2 - xM)\n",
    "catet_1_M = (yM - y1)\n",
    "\n",
    "tg_a = catet_1_M / catet_M_2\n",
    "angle = round(math.degrees(math.atan(tg_a)))\n",
    "\n",
    "# здесь осуществили поворот, rotate_bound поворачивает изображение по часовой стрелке\n",
    "img = imutils.rotate_bound(im_gray, -angle)\n",
    "\n",
    "# снова ищем контуры документа\n",
    "contour_for_crop = find_contour(img)\n",
    "_, vertices_2 = detect_shape(contour_for_crop)\n",
    "\n",
    "x_1, x_2 = min([vertices_2[0][0][0], vertices_2[1][0][0]]), max([vertices_2[2][0][0], vertices_2[3][0][0]])\n",
    "y_1, y_2 = min([vertices_2[0][0][1], vertices_2[3][0][1]]), max([vertices_2[2][0][1], vertices_2[2][0][1]])\n",
    "\n",
    "im = imutils.rotate_bound(im, -angle)\n",
    "im = im[y_1:y_2, x_1:x_2]\n",
    "# im = cv2.resize(im, (0, 0), fx=0.3, fy=0.3)\n",
    "\n",
    "cv2.imwrite('/home/kirillk/datasets/OCR/ocr_test_cases_3/000.jpg', im)\n",
    "\n",
    "cv2.imshow(\"Image\", im)\n",
    "cv2.waitKey(0)\n",
    "cv2.destroyAllWindows()"
   ]
  },
  {
   "cell_type": "code",
   "execution_count": null,
   "metadata": {},
   "outputs": [],
   "source": []
  },
  {
   "cell_type": "code",
   "execution_count": null,
   "metadata": {},
   "outputs": [],
   "source": []
  },
  {
   "cell_type": "code",
   "execution_count": 21,
   "metadata": {},
   "outputs": [],
   "source": [
    "FILE_PATH = '/home/kirillk/datasets/OCR/ocr_test_cases_3/'"
   ]
  },
  {
   "cell_type": "code",
   "execution_count": 22,
   "metadata": {},
   "outputs": [
    {
     "data": {
      "text/plain": [
       "['001.JPG',\n",
       " '002.JPG',\n",
       " '003.JPG',\n",
       " '004.JPG',\n",
       " '005.JPG',\n",
       " '006.JPG',\n",
       " '007.JPG',\n",
       " '008.JPG',\n",
       " '009.JPG',\n",
       " '010.JPG',\n",
       " '011.JPG',\n",
       " '012.JPG',\n",
       " '013.JPG']"
      ]
     },
     "execution_count": 22,
     "metadata": {},
     "output_type": "execute_result"
    }
   ],
   "source": [
    "# список фото\n",
    "photo_list = sorted([photo for photo in os.listdir(FILE_PATH) if photo.endswith('.JPG')])\n",
    "photo_list"
   ]
  },
  {
   "cell_type": "code",
   "execution_count": 23,
   "metadata": {},
   "outputs": [
    {
     "data": {
      "text/plain": [
       "['013.png', '014.png']"
      ]
     },
     "execution_count": 23,
     "metadata": {},
     "output_type": "execute_result"
    }
   ],
   "source": [
    "photo_list_png = sorted([photo for photo in os.listdir(FILE_PATH) if photo.endswith('.png')])\n",
    "photo_list_png"
   ]
  },
  {
   "cell_type": "code",
   "execution_count": 24,
   "metadata": {},
   "outputs": [],
   "source": [
    "FILE_PATH_1 = '/home/kirillk/datasets/OCR/ocr_test_cases/test_cases/'"
   ]
  },
  {
   "cell_type": "code",
   "execution_count": 25,
   "metadata": {},
   "outputs": [
    {
     "data": {
      "text/plain": [
       "['000.jpg',\n",
       " '001.jpg',\n",
       " '002.jpg',\n",
       " '003.jpg',\n",
       " '004.jpg',\n",
       " '005.jpg',\n",
       " '006.jpg',\n",
       " '007.jpg',\n",
       " '008.jpg',\n",
       " '009.jpg',\n",
       " '010.jpg',\n",
       " '011.jpg',\n",
       " '012.jpg',\n",
       " '013.jpg',\n",
       " '014.jpg',\n",
       " '015.jpg',\n",
       " '016.jpg',\n",
       " '017.jpg',\n",
       " '018.jpg',\n",
       " '019.jpg',\n",
       " '020.jpg',\n",
       " '021.jpg',\n",
       " '022.jpg',\n",
       " '023.jpg',\n",
       " '024.jpg',\n",
       " '025.jpg',\n",
       " '026.jpg',\n",
       " '027.jpg',\n",
       " '028.jpg',\n",
       " '029.jpg',\n",
       " '030.jpg',\n",
       " '031.jpg',\n",
       " '032.jpg',\n",
       " '033.jpg',\n",
       " '034.jpg',\n",
       " '035.jpg',\n",
       " '036.jpg',\n",
       " '037.jpg',\n",
       " '038.jpg',\n",
       " '039.jpg',\n",
       " '040.jpg',\n",
       " '041.jpg',\n",
       " '042.jpg',\n",
       " '043.jpg',\n",
       " '044.jpg',\n",
       " '045.jpg',\n",
       " '046.jpg',\n",
       " '047.jpg',\n",
       " '048.jpg',\n",
       " '049.jpg',\n",
       " '050.jpg',\n",
       " '051.jpg',\n",
       " '052.jpg',\n",
       " '053.jpg',\n",
       " '054.jpg',\n",
       " '055.jpg',\n",
       " '056.jpg',\n",
       " '057.jpg',\n",
       " '058.jpg',\n",
       " '059.jpg',\n",
       " '060.jpg',\n",
       " '061.jpg',\n",
       " '062.jpg',\n",
       " '063.jpg',\n",
       " '064.jpg',\n",
       " '065.jpg',\n",
       " '066.jpg',\n",
       " '067.jpg',\n",
       " '068.jpg',\n",
       " '069.jpg',\n",
       " '070.jpg',\n",
       " '071.jpg',\n",
       " '072.jpg',\n",
       " '073.jpg',\n",
       " '074.jpg',\n",
       " '075.jpg',\n",
       " '076.jpg',\n",
       " '077.jpg',\n",
       " '078.jpg',\n",
       " '079.jpg',\n",
       " '080.jpg',\n",
       " '081.jpg',\n",
       " '082.jpg',\n",
       " '083.jpg',\n",
       " '084.jpg',\n",
       " '085.jpg',\n",
       " '086.jpg',\n",
       " '087.jpg',\n",
       " '088.jpg',\n",
       " '089.jpg',\n",
       " '090.jpg',\n",
       " '091.jpg',\n",
       " '092.jpg',\n",
       " '093.jpg',\n",
       " '094.jpg',\n",
       " '095.jpg',\n",
       " '096.jpg',\n",
       " '097.jpg',\n",
       " '098.jpg',\n",
       " '099.jpg',\n",
       " '100.jpg',\n",
       " '101.jpg',\n",
       " '102.jpg',\n",
       " '103.jpg',\n",
       " '104.jpg',\n",
       " '105.jpg',\n",
       " '106.jpg',\n",
       " '107.jpg',\n",
       " '108.jpg',\n",
       " '109.jpg',\n",
       " '110.jpg',\n",
       " '111.jpg',\n",
       " '112.jpg',\n",
       " '113.jpg',\n",
       " '114.jpg',\n",
       " '115.jpg',\n",
       " '116.jpg',\n",
       " '117.jpg',\n",
       " '118.jpg',\n",
       " '119.jpg',\n",
       " '120.jpg',\n",
       " '121.jpg',\n",
       " '122.jpg',\n",
       " '123.jpg',\n",
       " '124.jpg',\n",
       " '125.jpg',\n",
       " '126.jpg',\n",
       " '127.jpg',\n",
       " '128.jpg',\n",
       " '129.jpg',\n",
       " '130.jpg',\n",
       " '131.jpg',\n",
       " '132.jpg',\n",
       " '133.jpg',\n",
       " '134.jpg',\n",
       " '135.jpg',\n",
       " '136.jpg',\n",
       " '137.jpg',\n",
       " '138.jpg',\n",
       " '139.jpg',\n",
       " '140.jpg',\n",
       " '141.jpg',\n",
       " '142.jpg',\n",
       " '143.jpg',\n",
       " '144.jpg',\n",
       " '145.jpg',\n",
       " '146.jpg',\n",
       " '147.jpg',\n",
       " '148.jpg',\n",
       " '149.jpg',\n",
       " '150.jpg',\n",
       " '151.jpg',\n",
       " '152.jpg',\n",
       " '153.jpg',\n",
       " '154.jpg',\n",
       " '155.jpg',\n",
       " '156.jpg',\n",
       " '157.jpg',\n",
       " '158.jpg',\n",
       " '159.jpg',\n",
       " '160.jpg',\n",
       " '161.jpg',\n",
       " '162.jpg',\n",
       " '163.jpg',\n",
       " '164.jpg',\n",
       " '165.jpg',\n",
       " '166.jpg',\n",
       " '167.jpg',\n",
       " '168.jpg',\n",
       " '169.jpg',\n",
       " '170.jpg',\n",
       " '171.jpg',\n",
       " '172.jpg',\n",
       " '173.jpg',\n",
       " '174.jpg',\n",
       " '175.jpg',\n",
       " '176.jpg',\n",
       " '177.jpg',\n",
       " '178.jpg',\n",
       " '179.jpg',\n",
       " '180.jpg',\n",
       " '181.jpg',\n",
       " '182.jpg',\n",
       " '183.jpg',\n",
       " '184.jpg',\n",
       " '185.jpg',\n",
       " '186.jpg',\n",
       " '187.jpg',\n",
       " '188.jpg',\n",
       " '189.jpg',\n",
       " '190.jpg',\n",
       " '191.jpg',\n",
       " '192.jpg',\n",
       " '193.jpg',\n",
       " '194.jpg',\n",
       " '195.jpg',\n",
       " '196.jpg',\n",
       " '197.jpg',\n",
       " '198.jpg',\n",
       " '199.jpg',\n",
       " '200.jpg',\n",
       " '201.jpg',\n",
       " '202.jpg']"
      ]
     },
     "execution_count": 25,
     "metadata": {},
     "output_type": "execute_result"
    }
   ],
   "source": [
    "# список фото\n",
    "photo_list_1 = sorted([photo for photo in os.listdir(FILE_PATH_1) if photo.endswith('.jpg')])\n",
    "photo_list_1"
   ]
  },
  {
   "cell_type": "code",
   "execution_count": 13,
   "metadata": {
    "scrolled": true
   },
   "outputs": [
    {
     "name": "stdout",
     "output_type": "stream",
     "text": [
      "scan name 000.jpg\n",
      "{'page_num': 0, 'orientation': 0, 'rotate': 0, 'orientation_conf': 20.34, 'script': 'Cyrillic', 'script_conf': 7.97}\n",
      "scan name 001.jpg\n",
      "{'page_num': 0, 'orientation': 0, 'rotate': 0, 'orientation_conf': 19.97, 'script': 'Cyrillic', 'script_conf': 9.07}\n",
      "scan name 002.jpg\n",
      "{'page_num': 0, 'orientation': 0, 'rotate': 0, 'orientation_conf': 19.44, 'script': 'Cyrillic', 'script_conf': 5.64}\n",
      "scan name 003.jpg\n",
      "{'page_num': 0, 'orientation': 0, 'rotate': 0, 'orientation_conf': 16.24, 'script': 'Cyrillic', 'script_conf': 4.23}\n",
      "scan name 004.jpg\n",
      "{'page_num': 0, 'orientation': 0, 'rotate': 0, 'orientation_conf': 21.25, 'script': 'Cyrillic', 'script_conf': 6.13}\n",
      "scan name 005.jpg\n",
      "{'page_num': 0, 'orientation': 0, 'rotate': 0, 'orientation_conf': 18.83, 'script': 'Cyrillic', 'script_conf': 4.4}\n",
      "scan name 006.jpg\n",
      "{'page_num': 0, 'orientation': 0, 'rotate': 0, 'orientation_conf': 20.02, 'script': 'Cyrillic', 'script_conf': 1.57}\n",
      "scan name 007.jpg\n",
      "{'page_num': 0, 'orientation': 0, 'rotate': 0, 'orientation_conf': 22.37, 'script': 'Cyrillic', 'script_conf': 3.12}\n",
      "scan name 008.jpg\n",
      "{'page_num': 0, 'orientation': 0, 'rotate': 0, 'orientation_conf': 19.86, 'script': 'Cyrillic', 'script_conf': 2.71}\n",
      "scan name 009.jpg\n",
      "{'page_num': 0, 'orientation': 0, 'rotate': 0, 'orientation_conf': 17.61, 'script': 'Cyrillic', 'script_conf': 4.2}\n",
      "scan name 010.jpg\n",
      "{'page_num': 0, 'orientation': 0, 'rotate': 0, 'orientation_conf': 17.07, 'script': 'Cyrillic', 'script_conf': 5.28}\n",
      "scan name 011.jpg\n",
      "{'page_num': 0, 'orientation': 0, 'rotate': 0, 'orientation_conf': 18.91, 'script': 'Cyrillic', 'script_conf': 5.48}\n",
      "scan name 012.jpg\n",
      "{'page_num': 0, 'orientation': 0, 'rotate': 0, 'orientation_conf': 16.73, 'script': 'Cyrillic', 'script_conf': 3.33}\n",
      "scan name 013.jpg\n",
      "{'page_num': 0, 'orientation': 0, 'rotate': 0, 'orientation_conf': 21.59, 'script': 'Cyrillic', 'script_conf': 5.87}\n",
      "scan name 014.jpg\n",
      "{'page_num': 0, 'orientation': 0, 'rotate': 0, 'orientation_conf': 19.66, 'script': 'Cyrillic', 'script_conf': 4.67}\n",
      "scan name 015.jpg\n",
      "{'page_num': 0, 'orientation': 0, 'rotate': 0, 'orientation_conf': 20.92, 'script': 'Cyrillic', 'script_conf': 2.73}\n",
      "scan name 016.jpg\n",
      "{'page_num': 0, 'orientation': 0, 'rotate': 0, 'orientation_conf': 18.45, 'script': 'Cyrillic', 'script_conf': 5.87}\n",
      "scan name 017.jpg\n",
      "{'page_num': 0, 'orientation': 0, 'rotate': 0, 'orientation_conf': 17.26, 'script': 'Cyrillic', 'script_conf': 5.0}\n",
      "scan name 018.jpg\n",
      "{'page_num': 0, 'orientation': 0, 'rotate': 0, 'orientation_conf': 17.31, 'script': 'Cyrillic', 'script_conf': 3.58}\n",
      "scan name 019.jpg\n",
      "{'page_num': 0, 'orientation': 0, 'rotate': 0, 'orientation_conf': 16.82, 'script': 'Cyrillic', 'script_conf': 3.81}\n",
      "scan name 020.jpg\n",
      "{'page_num': 0, 'orientation': 0, 'rotate': 0, 'orientation_conf': 17.25, 'script': 'Cyrillic', 'script_conf': 1.89}\n",
      "scan name 021.jpg\n",
      "{'page_num': 0, 'orientation': 0, 'rotate': 0, 'orientation_conf': 19.52, 'script': 'Cyrillic', 'script_conf': 3.55}\n",
      "scan name 022.jpg\n",
      "{'page_num': 0, 'orientation': 0, 'rotate': 0, 'orientation_conf': 18.29, 'script': 'Cyrillic', 'script_conf': 5.91}\n",
      "scan name 023.jpg\n",
      "{'page_num': 0, 'orientation': 0, 'rotate': 0, 'orientation_conf': 17.54, 'script': 'Cyrillic', 'script_conf': 6.06}\n",
      "scan name 024.jpg\n",
      "{'page_num': 0, 'orientation': 0, 'rotate': 0, 'orientation_conf': 17.69, 'script': 'Cyrillic', 'script_conf': 9.07}\n",
      "scan name 025.jpg\n",
      "{'page_num': 0, 'orientation': 0, 'rotate': 0, 'orientation_conf': 19.01, 'script': 'Cyrillic', 'script_conf': 6.36}\n",
      "scan name 026.jpg\n",
      "{'page_num': 0, 'orientation': 0, 'rotate': 0, 'orientation_conf': 17.2, 'script': 'Cyrillic', 'script_conf': 3.56}\n",
      "scan name 027.jpg\n",
      "{'page_num': 0, 'orientation': 0, 'rotate': 0, 'orientation_conf': 17.24, 'script': 'Cyrillic', 'script_conf': 4.81}\n",
      "scan name 028.jpg\n",
      "{'page_num': 0, 'orientation': 0, 'rotate': 0, 'orientation_conf': 16.51, 'script': 'Cyrillic', 'script_conf': 7.78}\n",
      "scan name 029.jpg\n",
      "{'page_num': 0, 'orientation': 0, 'rotate': 0, 'orientation_conf': 21.15, 'script': 'Cyrillic', 'script_conf': 3.65}\n",
      "scan name 030.jpg\n",
      "{'page_num': 0, 'orientation': 0, 'rotate': 0, 'orientation_conf': 19.05, 'script': 'Cyrillic', 'script_conf': 5.4}\n",
      "scan name 031.jpg\n",
      "{'page_num': 0, 'orientation': 0, 'rotate': 0, 'orientation_conf': 19.11, 'script': 'Cyrillic', 'script_conf': 4.0}\n",
      "scan name 032.jpg\n",
      "{'page_num': 0, 'orientation': 0, 'rotate': 0, 'orientation_conf': 16.75, 'script': 'Cyrillic', 'script_conf': 7.27}\n",
      "scan name 033.jpg\n",
      "{'page_num': 0, 'orientation': 0, 'rotate': 0, 'orientation_conf': 18.91, 'script': 'Cyrillic', 'script_conf': 5.56}\n",
      "scan name 034.jpg\n",
      "{'page_num': 0, 'orientation': 0, 'rotate': 0, 'orientation_conf': 18.92, 'script': 'Cyrillic', 'script_conf': 11.25}\n",
      "scan name 035.jpg\n",
      "{'page_num': 0, 'orientation': 0, 'rotate': 0, 'orientation_conf': 18.82, 'script': 'Cyrillic', 'script_conf': 6.41}\n",
      "scan name 036.jpg\n",
      "{'page_num': 0, 'orientation': 0, 'rotate': 0, 'orientation_conf': 18.39, 'script': 'Cyrillic', 'script_conf': 3.23}\n",
      "scan name 037.jpg\n",
      "{'page_num': 0, 'orientation': 0, 'rotate': 0, 'orientation_conf': 20.38, 'script': 'Cyrillic', 'script_conf': 3.52}\n",
      "scan name 038.jpg\n",
      "{'page_num': 0, 'orientation': 0, 'rotate': 0, 'orientation_conf': 19.95, 'script': 'Cyrillic', 'script_conf': 0.68}\n",
      "scan name 039.jpg\n",
      "{'page_num': 0, 'orientation': 0, 'rotate': 0, 'orientation_conf': 22.2, 'script': 'Cyrillic', 'script_conf': 2.7}\n",
      "scan name 040.jpg\n",
      "{'page_num': 0, 'orientation': 0, 'rotate': 0, 'orientation_conf': 22.03, 'script': 'Cyrillic', 'script_conf': 2.65}\n",
      "scan name 041.jpg\n",
      "{'page_num': 0, 'orientation': 0, 'rotate': 0, 'orientation_conf': 18.89, 'script': 'Cyrillic', 'script_conf': 3.45}\n",
      "scan name 042.jpg\n",
      "{'page_num': 0, 'orientation': 0, 'rotate': 0, 'orientation_conf': 18.15, 'script': 'Cyrillic', 'script_conf': 1.81}\n",
      "scan name 043.jpg\n",
      "{'page_num': 0, 'orientation': 0, 'rotate': 0, 'orientation_conf': 17.11, 'script': 'Cyrillic', 'script_conf': 2.67}\n",
      "scan name 044.jpg\n",
      "{'page_num': 0, 'orientation': 0, 'rotate': 0, 'orientation_conf': 19.64, 'script': 'Cyrillic', 'script_conf': 1.03}\n",
      "scan name 045.jpg\n",
      "{'page_num': 0, 'orientation': 0, 'rotate': 0, 'orientation_conf': 17.35, 'script': 'Cyrillic', 'script_conf': 2.94}\n",
      "scan name 046.jpg\n",
      "{'page_num': 0, 'orientation': 0, 'rotate': 0, 'orientation_conf': 15.43, 'script': 'Cyrillic', 'script_conf': 1.8}\n",
      "scan name 047.jpg\n",
      "{'page_num': 0, 'orientation': 0, 'rotate': 0, 'orientation_conf': 18.53, 'script': 'Cyrillic', 'script_conf': 1.82}\n",
      "scan name 048.jpg\n",
      "{'page_num': 0, 'orientation': 0, 'rotate': 0, 'orientation_conf': 21.29, 'script': 'Cyrillic', 'script_conf': 2.81}\n",
      "scan name 049.jpg\n",
      "{'page_num': 0, 'orientation': 0, 'rotate': 0, 'orientation_conf': 19.69, 'script': 'Cyrillic', 'script_conf': 1.71}\n",
      "scan name 050.jpg\n",
      "{'page_num': 0, 'orientation': 0, 'rotate': 0, 'orientation_conf': 16.05, 'script': 'Cyrillic', 'script_conf': 1.47}\n",
      "scan name 051.jpg\n",
      "{'page_num': 0, 'orientation': 0, 'rotate': 0, 'orientation_conf': 15.57, 'script': 'Cyrillic', 'script_conf': 2.19}\n",
      "scan name 052.jpg\n",
      "{'page_num': 0, 'orientation': 0, 'rotate': 0, 'orientation_conf': 20.29, 'script': 'Cyrillic', 'script_conf': 1.67}\n",
      "scan name 053.jpg\n",
      "{'page_num': 0, 'orientation': 0, 'rotate': 0, 'orientation_conf': 18.38, 'script': 'Cyrillic', 'script_conf': 2.13}\n",
      "scan name 054.jpg\n",
      "{'page_num': 0, 'orientation': 0, 'rotate': 0, 'orientation_conf': 16.96, 'script': 'Cyrillic', 'script_conf': 1.28}\n",
      "scan name 055.jpg\n",
      "{'page_num': 0, 'orientation': 0, 'rotate': 0, 'orientation_conf': 13.96, 'script': 'Cyrillic', 'script_conf': 0.94}\n",
      "scan name 056.jpg\n",
      "{'page_num': 0, 'orientation': 0, 'rotate': 0, 'orientation_conf': 20.66, 'script': 'Cyrillic', 'script_conf': 4.22}\n",
      "scan name 057.jpg\n",
      "{'page_num': 0, 'orientation': 0, 'rotate': 0, 'orientation_conf': 18.78, 'script': 'Cyrillic', 'script_conf': 5.9}\n",
      "scan name 058.jpg\n",
      "{'page_num': 0, 'orientation': 0, 'rotate': 0, 'orientation_conf': 18.35, 'script': 'Cyrillic', 'script_conf': 7.78}\n",
      "scan name 059.jpg\n",
      "{'page_num': 0, 'orientation': 0, 'rotate': 0, 'orientation_conf': 19.9, 'script': 'Cyrillic', 'script_conf': 9.21}\n",
      "scan name 060.jpg\n",
      "{'page_num': 0, 'orientation': 0, 'rotate': 0, 'orientation_conf': 20.97, 'script': 'Cyrillic', 'script_conf': 2.52}\n",
      "scan name 061.jpg\n"
     ]
    },
    {
     "name": "stdout",
     "output_type": "stream",
     "text": [
      "{'page_num': 0, 'orientation': 0, 'rotate': 0, 'orientation_conf': 18.32, 'script': 'Cyrillic', 'script_conf': 4.58}\n",
      "scan name 062.jpg\n",
      "{'page_num': 0, 'orientation': 0, 'rotate': 0, 'orientation_conf': 20.34, 'script': 'Cyrillic', 'script_conf': 8.33}\n",
      "scan name 063.jpg\n",
      "{'page_num': 0, 'orientation': 0, 'rotate': 0, 'orientation_conf': 17.7, 'script': 'Cyrillic', 'script_conf': 6.67}\n",
      "scan name 064.jpg\n",
      "{'page_num': 0, 'orientation': 0, 'rotate': 0, 'orientation_conf': 16.37, 'script': 'Cyrillic', 'script_conf': 7.5}\n",
      "scan name 065.jpg\n",
      "{'page_num': 0, 'orientation': 0, 'rotate': 0, 'orientation_conf': 17.98, 'script': 'Cyrillic', 'script_conf': 5.65}\n",
      "scan name 066.jpg\n",
      "{'page_num': 0, 'orientation': 0, 'rotate': 0, 'orientation_conf': 17.48, 'script': 'Cyrillic', 'script_conf': 6.38}\n",
      "scan name 067.jpg\n",
      "{'page_num': 0, 'orientation': 0, 'rotate': 0, 'orientation_conf': 18.38, 'script': 'Cyrillic', 'script_conf': 5.38}\n",
      "scan name 068.jpg\n",
      "{'page_num': 0, 'orientation': 0, 'rotate': 0, 'orientation_conf': 18.75, 'script': 'Cyrillic', 'script_conf': 7.5}\n",
      "scan name 069.jpg\n",
      "{'page_num': 0, 'orientation': 0, 'rotate': 0, 'orientation_conf': 18.21, 'script': 'Cyrillic', 'script_conf': 3.23}\n",
      "scan name 070.jpg\n",
      "{'page_num': 0, 'orientation': 0, 'rotate': 0, 'orientation_conf': 16.7, 'script': 'Cyrillic', 'script_conf': 5.83}\n",
      "scan name 071.jpg\n",
      "{'page_num': 0, 'orientation': 0, 'rotate': 0, 'orientation_conf': 18.85, 'script': 'Cyrillic', 'script_conf': 8.42}\n",
      "scan name 072.jpg\n",
      "{'page_num': 0, 'orientation': 0, 'rotate': 0, 'orientation_conf': 19.0, 'script': 'Cyrillic', 'script_conf': 5.97}\n",
      "scan name 073.jpg\n",
      "{'page_num': 0, 'orientation': 0, 'rotate': 0, 'orientation_conf': 17.04, 'script': 'Cyrillic', 'script_conf': 4.72}\n",
      "scan name 074.jpg\n",
      "{'page_num': 0, 'orientation': 0, 'rotate': 0, 'orientation_conf': 19.84, 'script': 'Cyrillic', 'script_conf': 8.41}\n",
      "scan name 075.jpg\n",
      "{'page_num': 0, 'orientation': 0, 'rotate': 0, 'orientation_conf': 18.87, 'script': 'Cyrillic', 'script_conf': 2.48}\n",
      "scan name 076.jpg\n",
      "{'page_num': 0, 'orientation': 0, 'rotate': 0, 'orientation_conf': 16.42, 'script': 'Cyrillic', 'script_conf': 4.05}\n",
      "scan name 077.jpg\n",
      "{'page_num': 0, 'orientation': 0, 'rotate': 0, 'orientation_conf': 16.19, 'script': 'Cyrillic', 'script_conf': 2.22}\n",
      "scan name 078.jpg\n",
      "{'page_num': 0, 'orientation': 0, 'rotate': 0, 'orientation_conf': 16.72, 'script': 'Cyrillic', 'script_conf': 6.52}\n",
      "scan name 079.jpg\n",
      "{'page_num': 0, 'orientation': 0, 'rotate': 0, 'orientation_conf': 17.21, 'script': 'Cyrillic', 'script_conf': 2.89}\n",
      "scan name 080.jpg\n",
      "{'page_num': 0, 'orientation': 0, 'rotate': 0, 'orientation_conf': 18.42, 'script': 'Cyrillic', 'script_conf': 3.33}\n",
      "scan name 081.jpg\n",
      "{'page_num': 0, 'orientation': 0, 'rotate': 0, 'orientation_conf': 19.72, 'script': 'Cyrillic', 'script_conf': 4.49}\n",
      "scan name 082.jpg\n",
      "{'page_num': 0, 'orientation': 0, 'rotate': 0, 'orientation_conf': 16.12, 'script': 'Cyrillic', 'script_conf': 4.4}\n",
      "scan name 083.jpg\n",
      "{'page_num': 0, 'orientation': 0, 'rotate': 0, 'orientation_conf': 16.68, 'script': 'Cyrillic', 'script_conf': 3.87}\n",
      "scan name 084.jpg\n",
      "{'page_num': 0, 'orientation': 0, 'rotate': 0, 'orientation_conf': 20.22, 'script': 'Cyrillic', 'script_conf': 10.74}\n",
      "scan name 085.jpg\n",
      "{'page_num': 0, 'orientation': 0, 'rotate': 0, 'orientation_conf': 18.47, 'script': 'Cyrillic', 'script_conf': 4.1}\n",
      "scan name 086.jpg\n",
      "{'page_num': 0, 'orientation': 0, 'rotate': 0, 'orientation_conf': 18.92, 'script': 'Cyrillic', 'script_conf': 3.68}\n",
      "scan name 087.jpg\n",
      "{'page_num': 0, 'orientation': 0, 'rotate': 0, 'orientation_conf': 21.67, 'script': 'Cyrillic', 'script_conf': 7.07}\n",
      "scan name 088.jpg\n",
      "{'page_num': 0, 'orientation': 0, 'rotate': 0, 'orientation_conf': 21.93, 'script': 'Cyrillic', 'script_conf': 3.24}\n",
      "scan name 089.jpg\n",
      "{'page_num': 0, 'orientation': 0, 'rotate': 0, 'orientation_conf': 21.91, 'script': 'Cyrillic', 'script_conf': 3.92}\n",
      "scan name 090.jpg\n",
      "{'page_num': 0, 'orientation': 0, 'rotate': 0, 'orientation_conf': 17.95, 'script': 'Cyrillic', 'script_conf': 2.63}\n",
      "scan name 091.jpg\n",
      "{'page_num': 0, 'orientation': 0, 'rotate': 0, 'orientation_conf': 17.9, 'script': 'Cyrillic', 'script_conf': 0.22}\n",
      "scan name 092.jpg\n",
      "{'page_num': 0, 'orientation': 0, 'rotate': 0, 'orientation_conf': 16.65, 'script': 'Cyrillic', 'script_conf': 0.41}\n",
      "scan name 093.jpg\n",
      "{'page_num': 0, 'orientation': 0, 'rotate': 0, 'orientation_conf': 16.01, 'script': 'Cyrillic', 'script_conf': 1.89}\n",
      "scan name 094.jpg\n",
      "{'page_num': 0, 'orientation': 0, 'rotate': 0, 'orientation_conf': 18.89, 'script': 'Cyrillic', 'script_conf': 0.89}\n",
      "scan name 095.jpg\n",
      "{'page_num': 0, 'orientation': 0, 'rotate': 0, 'orientation_conf': 13.5, 'script': 'Cyrillic', 'script_conf': 3.19}\n",
      "scan name 096.jpg\n",
      "{'page_num': 0, 'orientation': 0, 'rotate': 0, 'orientation_conf': 8.87, 'script': 'Cyrillic', 'script_conf': 3.62}\n",
      "scan name 097.jpg\n",
      "{'page_num': 0, 'orientation': 0, 'rotate': 0, 'orientation_conf': 3.69, 'script': 'Cyrillic', 'script_conf': 1.39}\n",
      "scan name 098.jpg\n",
      "{'page_num': 0, 'orientation': 0, 'rotate': 0, 'orientation_conf': 9.42, 'script': 'Cyrillic', 'script_conf': 1.67}\n",
      "scan name 099.jpg\n",
      "{'page_num': 0, 'orientation': 0, 'rotate': 0, 'orientation_conf': 10.59, 'script': 'Cyrillic', 'script_conf': 1.54}\n",
      "scan name 100.jpg\n",
      "{'page_num': 0, 'orientation': 0, 'rotate': 0, 'orientation_conf': 7.97, 'script': 'Cyrillic', 'script_conf': 1.33}\n",
      "scan name 101.jpg\n",
      "{'page_num': 0, 'orientation': 0, 'rotate': 0, 'orientation_conf': 13.63, 'script': 'Cyrillic', 'script_conf': 2.78}\n",
      "scan name 102.jpg\n",
      "{'page_num': 0, 'orientation': 0, 'rotate': 0, 'orientation_conf': 13.24, 'script': 'Cyrillic', 'script_conf': 3.21}\n",
      "scan name 103.jpg\n",
      "{'page_num': 0, 'orientation': 0, 'rotate': 0, 'orientation_conf': 12.05, 'script': 'Cyrillic', 'script_conf': 2.12}\n",
      "scan name 104.jpg\n",
      "{'page_num': 0, 'orientation': 0, 'rotate': 0, 'orientation_conf': 10.45, 'script': 'Cyrillic', 'script_conf': 1.21}\n",
      "scan name 105.jpg\n",
      "{'page_num': 0, 'orientation': 0, 'rotate': 0, 'orientation_conf': 6.35, 'script': 'Cyrillic', 'script_conf': 0.86}\n",
      "scan name 106.jpg\n",
      "{'page_num': 0, 'orientation': 0, 'rotate': 0, 'orientation_conf': 9.66, 'script': 'Cyrillic', 'script_conf': 2.33}\n",
      "scan name 107.jpg\n",
      "{'page_num': 0, 'orientation': 0, 'rotate': 0, 'orientation_conf': 9.46, 'script': 'Cyrillic', 'script_conf': 4.71}\n",
      "scan name 108.jpg\n",
      "{'page_num': 0, 'orientation': 0, 'rotate': 0, 'orientation_conf': 8.25, 'script': 'Cyrillic', 'script_conf': 2.75}\n",
      "scan name 109.jpg\n",
      "{'page_num': 0, 'orientation': 0, 'rotate': 0, 'orientation_conf': 10.81, 'script': 'Cyrillic', 'script_conf': 1.72}\n",
      "scan name 110.jpg\n",
      "{'page_num': 0, 'orientation': 0, 'rotate': 0, 'orientation_conf': 6.39, 'script': 'Cyrillic', 'script_conf': 0.37}\n",
      "scan name 111.jpg\n",
      "{'page_num': 0, 'orientation': 0, 'rotate': 0, 'orientation_conf': 6.39, 'script': 'Latin', 'script_conf': 0.83}\n",
      "scan name 112.jpg\n",
      "{'page_num': 0, 'orientation': 0, 'rotate': 0, 'orientation_conf': 0.99, 'script': 'Latin', 'script_conf': 0.42}\n",
      "scan name 113.jpg\n",
      "{'page_num': 0, 'orientation': 0, 'rotate': 0, 'orientation_conf': 2.34, 'script': 'Latin', 'script_conf': 2.16}\n",
      "scan name 114.jpg\n",
      "{'page_num': 0, 'orientation': 0, 'rotate': 0, 'orientation_conf': 12.78, 'script': 'Cyrillic', 'script_conf': 1.72}\n",
      "scan name 115.jpg\n",
      "{'page_num': 0, 'orientation': 0, 'rotate': 0, 'orientation_conf': 1.56, 'script': 'Latin', 'script_conf': 0.13}\n",
      "scan name 116.jpg\n",
      "{'page_num': 0, 'orientation': 0, 'rotate': 0, 'orientation_conf': 9.37, 'script': 'Cyrillic', 'script_conf': 0.94}\n",
      "scan name 117.jpg\n",
      "{'page_num': 0, 'orientation': 0, 'rotate': 0, 'orientation_conf': 8.72, 'script': 'Cyrillic', 'script_conf': 0.63}\n",
      "scan name 118.jpg\n",
      "{'page_num': 0, 'orientation': 0, 'rotate': 0, 'orientation_conf': 10.95, 'script': 'Cyrillic', 'script_conf': 0.67}\n",
      "scan name 119.jpg\n",
      "{'page_num': 0, 'orientation': 0, 'rotate': 0, 'orientation_conf': 10.62, 'script': 'Cyrillic', 'script_conf': 3.68}\n",
      "scan name 120.jpg\n",
      "{'page_num': 0, 'orientation': 0, 'rotate': 0, 'orientation_conf': 8.35, 'script': 'Cyrillic', 'script_conf': 0.0}\n",
      "scan name 121.jpg\n",
      "{'page_num': 0, 'orientation': 0, 'rotate': 0, 'orientation_conf': 6.7, 'script': 'Cyrillic', 'script_conf': 2.62}\n",
      "scan name 122.jpg\n"
     ]
    },
    {
     "name": "stdout",
     "output_type": "stream",
     "text": [
      "{'page_num': 0, 'orientation': 0, 'rotate': 0, 'orientation_conf': 7.02, 'script': 'Cyrillic', 'script_conf': 1.78}\n",
      "scan name 123.jpg\n",
      "{'page_num': 0, 'orientation': 0, 'rotate': 0, 'orientation_conf': 8.27, 'script': 'Cyrillic', 'script_conf': 1.25}\n",
      "scan name 124.jpg\n",
      "{'page_num': 0, 'orientation': 0, 'rotate': 0, 'orientation_conf': 10.07, 'script': 'Cyrillic', 'script_conf': 0.27}\n",
      "scan name 125.jpg\n",
      "{'page_num': 0, 'orientation': 0, 'rotate': 0, 'orientation_conf': 7.6, 'script': 'Cyrillic', 'script_conf': 1.16}\n",
      "scan name 126.jpg\n",
      "{'page_num': 0, 'orientation': 0, 'rotate': 0, 'orientation_conf': 8.82, 'script': 'Cyrillic', 'script_conf': 0.32}\n",
      "scan name 127.jpg\n",
      "{'page_num': 0, 'orientation': 0, 'rotate': 0, 'orientation_conf': 9.05, 'script': 'Cyrillic', 'script_conf': 3.33}\n",
      "scan name 128.jpg\n",
      "{'page_num': 0, 'orientation': 0, 'rotate': 0, 'orientation_conf': 10.53, 'script': 'Cyrillic', 'script_conf': 1.11}\n",
      "scan name 129.jpg\n",
      "{'page_num': 0, 'orientation': 0, 'rotate': 0, 'orientation_conf': 7.95, 'script': 'Cyrillic', 'script_conf': 0.65}\n",
      "scan name 130.jpg\n",
      "{'page_num': 0, 'orientation': 0, 'rotate': 0, 'orientation_conf': 11.58, 'script': 'Cyrillic', 'script_conf': 2.18}\n",
      "scan name 131.jpg\n",
      "{'page_num': 0, 'orientation': 0, 'rotate': 0, 'orientation_conf': 9.35, 'script': 'Cyrillic', 'script_conf': 0.99}\n",
      "scan name 132.jpg\n",
      "{'page_num': 0, 'orientation': 0, 'rotate': 0, 'orientation_conf': 10.13, 'script': 'Cyrillic', 'script_conf': 0.89}\n",
      "scan name 133.jpg\n",
      "{'page_num': 0, 'orientation': 0, 'rotate': 0, 'orientation_conf': 9.19, 'script': 'Cyrillic', 'script_conf': 0.56}\n",
      "scan name 134.jpg\n",
      "{'page_num': 0, 'orientation': 0, 'rotate': 0, 'orientation_conf': 6.36, 'script': 'Cyrillic', 'script_conf': 1.11}\n",
      "scan name 135.jpg\n",
      "{'page_num': 0, 'orientation': 0, 'rotate': 0, 'orientation_conf': 9.94, 'script': 'Cyrillic', 'script_conf': 1.0}\n",
      "scan name 136.jpg\n",
      "{'page_num': 0, 'orientation': 0, 'rotate': 0, 'orientation_conf': 7.18, 'script': 'Cyrillic', 'script_conf': 1.11}\n",
      "scan name 137.jpg\n",
      "{'page_num': 0, 'orientation': 0, 'rotate': 0, 'orientation_conf': 11.21, 'script': 'Cyrillic', 'script_conf': 0.93}\n",
      "scan name 138.jpg\n",
      "{'page_num': 0, 'orientation': 0, 'rotate': 0, 'orientation_conf': 10.88, 'script': 'Cyrillic', 'script_conf': 0.49}\n",
      "scan name 139.jpg\n",
      "{'page_num': 0, 'orientation': 0, 'rotate': 0, 'orientation_conf': 9.31, 'script': 'Cyrillic', 'script_conf': 1.79}\n",
      "scan name 140.jpg\n",
      "{'page_num': 0, 'orientation': 0, 'rotate': 0, 'orientation_conf': 8.4, 'script': 'Cyrillic', 'script_conf': 2.14}\n",
      "scan name 141.jpg\n",
      "{'page_num': 0, 'orientation': 0, 'rotate': 0, 'orientation_conf': 9.46, 'script': 'Cyrillic', 'script_conf': 0.95}\n",
      "scan name 142.jpg\n",
      "{'page_num': 0, 'orientation': 0, 'rotate': 0, 'orientation_conf': 11.83, 'script': 'Cyrillic', 'script_conf': 2.37}\n",
      "scan name 143.jpg\n",
      "{'page_num': 0, 'orientation': 0, 'rotate': 0, 'orientation_conf': 7.56, 'script': 'Cyrillic', 'script_conf': 0.1}\n",
      "scan name 144.jpg\n",
      "{'page_num': 0, 'orientation': 0, 'rotate': 0, 'orientation_conf': 9.64, 'script': 'Cyrillic', 'script_conf': 2.5}\n",
      "scan name 145.jpg\n",
      "{'page_num': 0, 'orientation': 0, 'rotate': 0, 'orientation_conf': 6.77, 'script': 'Cyrillic', 'script_conf': 1.22}\n",
      "scan name 146.jpg\n",
      "{'page_num': 0, 'orientation': 0, 'rotate': 0, 'orientation_conf': 6.23, 'script': 'Cyrillic', 'script_conf': 0.14}\n",
      "scan name 147.jpg\n",
      "{'page_num': 0, 'orientation': 0, 'rotate': 0, 'orientation_conf': 10.16, 'script': 'Cyrillic', 'script_conf': 0.93}\n",
      "scan name 148.jpg\n",
      "{'page_num': 0, 'orientation': 0, 'rotate': 0, 'orientation_conf': 10.12, 'script': 'Cyrillic', 'script_conf': 3.95}\n",
      "scan name 149.jpg\n",
      "{'page_num': 0, 'orientation': 0, 'rotate': 0, 'orientation_conf': 10.28, 'script': 'Latin', 'script_conf': 0.11}\n",
      "scan name 150.jpg\n",
      "{'page_num': 0, 'orientation': 0, 'rotate': 0, 'orientation_conf': 9.64, 'script': 'Cyrillic', 'script_conf': 0.0}\n",
      "scan name 151.jpg\n",
      "{'page_num': 0, 'orientation': 0, 'rotate': 0, 'orientation_conf': 9.36, 'script': 'Cyrillic', 'script_conf': 0.11}\n",
      "scan name 152.jpg\n",
      "{'page_num': 0, 'orientation': 0, 'rotate': 0, 'orientation_conf': 7.94, 'script': 'Cyrillic', 'script_conf': 2.18}\n",
      "scan name 153.jpg\n",
      "{'page_num': 0, 'orientation': 0, 'rotate': 0, 'orientation_conf': 9.58, 'script': 'Cyrillic', 'script_conf': 1.87}\n",
      "scan name 154.jpg\n",
      "{'page_num': 0, 'orientation': 0, 'rotate': 0, 'orientation_conf': 9.47, 'script': 'Cyrillic', 'script_conf': 1.87}\n",
      "scan name 155.jpg\n",
      "{'page_num': 0, 'orientation': 0, 'rotate': 0, 'orientation_conf': 1.68, 'script': 'Fraktur', 'script_conf': 1.79}\n",
      "scan name 156.jpg\n",
      "{'page_num': 0, 'orientation': 0, 'rotate': 0, 'orientation_conf': 10.48, 'script': 'Cyrillic', 'script_conf': 1.48}\n",
      "scan name 157.jpg\n",
      "{'page_num': 0, 'orientation': 0, 'rotate': 0, 'orientation_conf': 0.89, 'script': 'Latin', 'script_conf': 1.11}\n",
      "scan name 158.jpg\n",
      "{'page_num': 0, 'orientation': 0, 'rotate': 0, 'orientation_conf': 7.9, 'script': 'Cyrillic', 'script_conf': 1.85}\n",
      "scan name 159.jpg\n",
      "{'page_num': 0, 'orientation': 90, 'rotate': 270, 'orientation_conf': 0.27, 'script': 'Latin', 'script_conf': 4.17}\n",
      "scan name 160.jpg\n",
      "{'page_num': 0, 'orientation': 0, 'rotate': 0, 'orientation_conf': 6.42, 'script': 'Cyrillic', 'script_conf': 3.11}\n",
      "scan name 161.jpg\n",
      "{'page_num': 0, 'orientation': 0, 'rotate': 0, 'orientation_conf': 6.53, 'script': 'Cyrillic', 'script_conf': 1.25}\n",
      "scan name 162.jpg\n",
      "{'page_num': 0, 'orientation': 0, 'rotate': 0, 'orientation_conf': 10.53, 'script': 'Cyrillic', 'script_conf': 1.11}\n",
      "scan name 163.jpg\n",
      "{'page_num': 0, 'orientation': 0, 'rotate': 0, 'orientation_conf': 9.09, 'script': 'Cyrillic', 'script_conf': 1.38}\n",
      "scan name 164.jpg\n",
      "{'page_num': 0, 'orientation': 0, 'rotate': 0, 'orientation_conf': 9.76, 'script': 'Cyrillic', 'script_conf': 0.31}\n",
      "scan name 165.jpg\n",
      "{'page_num': 0, 'orientation': 0, 'rotate': 0, 'orientation_conf': 7.48, 'script': 'Cyrillic', 'script_conf': 1.47}\n",
      "scan name 166.jpg\n",
      "{'page_num': 0, 'orientation': 0, 'rotate': 0, 'orientation_conf': 0.45, 'script': 'Latin', 'script_conf': 0.59}\n",
      "scan name 167.jpg\n",
      "{'page_num': 0, 'orientation': 0, 'rotate': 0, 'orientation_conf': 9.88, 'script': 'Cyrillic', 'script_conf': 0.49}\n",
      "scan name 168.jpg\n",
      "{'page_num': 0, 'orientation': 0, 'rotate': 0, 'orientation_conf': 1.67, 'script': 'Fraktur', 'script_conf': 0.22}\n",
      "scan name 169.jpg\n",
      "{'page_num': 0, 'orientation': 0, 'rotate': 0, 'orientation_conf': 5.52, 'script': 'Latin', 'script_conf': 1.67}\n",
      "scan name 170.jpg\n",
      "{'page_num': 0, 'orientation': 180, 'rotate': 180, 'orientation_conf': 0.03, 'script': 'Arabic', 'script_conf': 0.42}\n",
      "scan name 171.jpg\n",
      "{'page_num': 0, 'orientation': 0, 'rotate': 0, 'orientation_conf': 9.58, 'script': 'Cyrillic', 'script_conf': 1.02}\n",
      "scan name 172.jpg\n",
      "{'page_num': 0, 'orientation': 0, 'rotate': 0, 'orientation_conf': 9.55, 'script': 'Cyrillic', 'script_conf': 1.6}\n",
      "scan name 173.jpg\n",
      "{'page_num': 0, 'orientation': 0, 'rotate': 0, 'orientation_conf': 10.76, 'script': 'Cyrillic', 'script_conf': 0.0}\n",
      "scan name 174.jpg\n",
      "{'page_num': 0, 'orientation': 0, 'rotate': 0, 'orientation_conf': 2.78, 'script': 'Fraktur', 'script_conf': 1.57}\n",
      "scan name 175.jpg\n",
      "{'page_num': 0, 'orientation': 0, 'rotate': 0, 'orientation_conf': 8.51, 'script': 'Latin', 'script_conf': 0.34}\n",
      "scan name 176.jpg\n",
      "{'page_num': 0, 'orientation': 0, 'rotate': 0, 'orientation_conf': 6.66, 'script': 'Cyrillic', 'script_conf': 6.08}\n",
      "scan name 177.jpg\n",
      "{'page_num': 0, 'orientation': 0, 'rotate': 0, 'orientation_conf': 12.16, 'script': 'Cyrillic', 'script_conf': 4.78}\n",
      "scan name 178.jpg\n",
      "{'page_num': 0, 'orientation': 0, 'rotate': 0, 'orientation_conf': 6.69, 'script': 'Cyrillic', 'script_conf': 1.67}\n",
      "scan name 179.jpg\n",
      "{'page_num': 0, 'orientation': 0, 'rotate': 0, 'orientation_conf': 8.86, 'script': 'Cyrillic', 'script_conf': 0.11}\n",
      "scan name 180.jpg\n",
      "{'page_num': 0, 'orientation': 0, 'rotate': 0, 'orientation_conf': 8.41, 'script': 'Cyrillic', 'script_conf': 1.2}\n",
      "scan name 181.jpg\n",
      "{'page_num': 0, 'orientation': 0, 'rotate': 0, 'orientation_conf': 8.59, 'script': 'Cyrillic', 'script_conf': 0.2}\n",
      "scan name 182.jpg\n",
      "{'page_num': 0, 'orientation': 0, 'rotate': 0, 'orientation_conf': 11.05, 'script': 'Cyrillic', 'script_conf': 1.4}\n",
      "scan name 183.jpg\n",
      "{'page_num': 0, 'orientation': 0, 'rotate': 0, 'orientation_conf': 11.92, 'script': 'Cyrillic', 'script_conf': 0.94}\n",
      "scan name 184.jpg\n"
     ]
    },
    {
     "name": "stdout",
     "output_type": "stream",
     "text": [
      "{'page_num': 0, 'orientation': 0, 'rotate': 0, 'orientation_conf': 13.23, 'script': 'Cyrillic', 'script_conf': 3.01}\n",
      "scan name 185.jpg\n",
      "{'page_num': 0, 'orientation': 0, 'rotate': 0, 'orientation_conf': 7.62, 'script': 'Cyrillic', 'script_conf': 3.08}\n",
      "scan name 186.jpg\n",
      "{'page_num': 0, 'orientation': 0, 'rotate': 0, 'orientation_conf': 13.7, 'script': 'Cyrillic', 'script_conf': 5.4}\n",
      "scan name 187.jpg\n",
      "{'page_num': 0, 'orientation': 0, 'rotate': 0, 'orientation_conf': 10.65, 'script': 'Cyrillic', 'script_conf': 0.38}\n",
      "scan name 188.jpg\n",
      "{'page_num': 0, 'orientation': 0, 'rotate': 0, 'orientation_conf': 8.8, 'script': 'Cyrillic', 'script_conf': 1.95}\n",
      "scan name 189.jpg\n",
      "{'page_num': 0, 'orientation': 0, 'rotate': 0, 'orientation_conf': 11.8, 'script': 'Cyrillic', 'script_conf': 1.31}\n",
      "scan name 190.jpg\n",
      "{'page_num': 0, 'orientation': 0, 'rotate': 0, 'orientation_conf': 13.3, 'script': 'Cyrillic', 'script_conf': 4.31}\n",
      "scan name 191.jpg\n",
      "{'page_num': 0, 'orientation': 0, 'rotate': 0, 'orientation_conf': 12.87, 'script': 'Cyrillic', 'script_conf': 3.46}\n",
      "scan name 192.jpg\n",
      "{'page_num': 0, 'orientation': 0, 'rotate': 0, 'orientation_conf': 14.5, 'script': 'Cyrillic', 'script_conf': 6.06}\n",
      "scan name 193.jpg\n",
      "{'page_num': 0, 'orientation': 0, 'rotate': 0, 'orientation_conf': 13.22, 'script': 'Cyrillic', 'script_conf': 3.81}\n",
      "scan name 194.jpg\n",
      "{'page_num': 0, 'orientation': 0, 'rotate': 0, 'orientation_conf': 12.76, 'script': 'Cyrillic', 'script_conf': 4.24}\n",
      "scan name 195.jpg\n",
      "{'page_num': 0, 'orientation': 0, 'rotate': 0, 'orientation_conf': 0.37, 'script': 'Fraktur', 'script_conf': 1.79}\n",
      "scan name 196.jpg\n",
      "{'page_num': 0, 'orientation': 0, 'rotate': 0, 'orientation_conf': 7.79, 'script': 'Cyrillic', 'script_conf': 0.0}\n",
      "scan name 197.jpg\n",
      "{'page_num': 0, 'orientation': 0, 'rotate': 0, 'orientation_conf': 18.18, 'script': 'Cyrillic', 'script_conf': 2.35}\n",
      "scan name 198.jpg\n",
      "{'page_num': 0, 'orientation': 0, 'rotate': 0, 'orientation_conf': 12.84, 'script': 'Cyrillic', 'script_conf': 2.64}\n",
      "scan name 199.jpg\n",
      "{'page_num': 0, 'orientation': 0, 'rotate': 0, 'orientation_conf': 12.8, 'script': 'Cyrillic', 'script_conf': 2.5}\n",
      "scan name 200.jpg\n",
      "{'page_num': 0, 'orientation': 0, 'rotate': 0, 'orientation_conf': 13.59, 'script': 'Cyrillic', 'script_conf': 0.71}\n",
      "scan name 201.jpg\n",
      "{'page_num': 0, 'orientation': 0, 'rotate': 0, 'orientation_conf': 15.11, 'script': 'Cyrillic', 'script_conf': 4.5}\n",
      "scan name 202.jpg\n",
      "{'page_num': 0, 'orientation': 0, 'rotate': 0, 'orientation_conf': 12.43, 'script': 'Cyrillic', 'script_conf': 1.11}\n",
      "CPU times: user 366 ms, sys: 652 ms, total: 1.02 s\n",
      "Wall time: 8min 18s\n"
     ]
    }
   ],
   "source": [
    "%%time\n",
    "for photo in photo_list_1:\n",
    "    try:\n",
    "        print(f'scan name {photo}')\n",
    "        print(pytesseract.image_to_osd(FILE_PATH_1 + photo, output_type=Output.DICT))\n",
    "    except:\n",
    "        print(f'error at scan {photo}')"
   ]
  },
  {
   "cell_type": "code",
   "execution_count": 26,
   "metadata": {},
   "outputs": [
    {
     "data": {
      "text/plain": [
       "'/home/kirillk/datasets/OCR/ocr_test_cases/test_cases/000.jpg'"
      ]
     },
     "execution_count": 26,
     "metadata": {},
     "output_type": "execute_result"
    }
   ],
   "source": [
    "FILE_PATH_1 + photo_list_1[0]"
   ]
  },
  {
   "cell_type": "code",
   "execution_count": 29,
   "metadata": {},
   "outputs": [
    {
     "name": "stdout",
     "output_type": "stream",
     "text": [
      "CPU times: user 1.86 ms, sys: 7.71 ms, total: 9.56 ms\n",
      "Wall time: 2.23 s\n"
     ]
    },
    {
     "data": {
      "text/plain": [
       "{'page_num': 0,\n",
       " 'orientation': 0,\n",
       " 'rotate': 0,\n",
       " 'orientation_conf': 20.34,\n",
       " 'script': 'Cyrillic',\n",
       " 'script_conf': 7.97}"
      ]
     },
     "execution_count": 29,
     "metadata": {},
     "output_type": "execute_result"
    }
   ],
   "source": [
    "%%time\n",
    "pytesseract.image_to_osd('/home/kirillk/datasets/OCR/ocr_test_cases/test_cases/000.jpg', output_type=Output.DICT)"
   ]
  },
  {
   "cell_type": "code",
   "execution_count": 30,
   "metadata": {},
   "outputs": [],
   "source": [
    "imw = cv2.imread('/home/kirillk/datasets/OCR/ocr_test_cases_3/000.jpg') #, cv2.IMREAD_COLOR)\n",
    "# img = cv2.resize(im, (0, 0), fx=0.3, fy=0.3)\n",
    "cv2.imshow(\"Image\", imw)\n",
    "cv2.waitKey(0)\n",
    "cv2.destroyAllWindows()"
   ]
  },
  {
   "cell_type": "code",
   "execution_count": null,
   "metadata": {},
   "outputs": [],
   "source": []
  },
  {
   "cell_type": "code",
   "execution_count": 31,
   "metadata": {},
   "outputs": [
    {
     "ename": "TesseractError",
     "evalue": "(1, 'UZN file /tmp/tess_p7kf2hew loaded. Estimating resolution as 272 UZN file /tmp/tess_p7kf2hew loaded. Warning. Invalid resolution 0 dpi. Using 70 instead. Too few characters. Skipping this page Error during processing.')",
     "output_type": "error",
     "traceback": [
      "\u001b[0;31m---------------------------------------------------------------------------\u001b[0m",
      "\u001b[0;31mTesseractError\u001b[0m                            Traceback (most recent call last)",
      "Input \u001b[0;32mIn [31]\u001b[0m, in \u001b[0;36m<cell line: 1>\u001b[0;34m()\u001b[0m\n\u001b[0;32m----> 1\u001b[0m newdata \u001b[38;5;241m=\u001b[39m \u001b[43mpytesseract\u001b[49m\u001b[38;5;241;43m.\u001b[39;49m\u001b[43mimage_to_osd\u001b[49m\u001b[43m(\u001b[49m\u001b[43mimw\u001b[49m\u001b[43m)\u001b[49m \u001b[38;5;66;03m#, config='--psm 0 -c min_characters_to_try=100')\u001b[39;00m\n\u001b[1;32m      2\u001b[0m newdata\n",
      "File \u001b[0;32m~/PycharmProjects/ocr_data_generation/venv/lib/python3.9/site-packages/pytesseract/pytesseract.py:545\u001b[0m, in \u001b[0;36mimage_to_osd\u001b[0;34m(image, lang, config, nice, output_type, timeout)\u001b[0m\n\u001b[1;32m    542\u001b[0m config \u001b[38;5;241m=\u001b[39m \u001b[38;5;124mf\u001b[39m\u001b[38;5;124m'\u001b[39m\u001b[38;5;124m--psm 0 \u001b[39m\u001b[38;5;132;01m{\u001b[39;00mconfig\u001b[38;5;241m.\u001b[39mstrip()\u001b[38;5;132;01m}\u001b[39;00m\u001b[38;5;124m'\u001b[39m\n\u001b[1;32m    543\u001b[0m args \u001b[38;5;241m=\u001b[39m [image, \u001b[38;5;124m'\u001b[39m\u001b[38;5;124mosd\u001b[39m\u001b[38;5;124m'\u001b[39m, lang, config, nice, timeout]\n\u001b[0;32m--> 545\u001b[0m \u001b[38;5;28;01mreturn\u001b[39;00m \u001b[43m{\u001b[49m\n\u001b[1;32m    546\u001b[0m \u001b[43m    \u001b[49m\u001b[43mOutput\u001b[49m\u001b[38;5;241;43m.\u001b[39;49m\u001b[43mBYTES\u001b[49m\u001b[43m:\u001b[49m\u001b[43m \u001b[49m\u001b[38;5;28;43;01mlambda\u001b[39;49;00m\u001b[43m:\u001b[49m\u001b[43m \u001b[49m\u001b[43mrun_and_get_output\u001b[49m\u001b[43m(\u001b[49m\u001b[38;5;241;43m*\u001b[39;49m\u001b[43m(\u001b[49m\u001b[43margs\u001b[49m\u001b[43m \u001b[49m\u001b[38;5;241;43m+\u001b[39;49m\u001b[43m \u001b[49m\u001b[43m[\u001b[49m\u001b[38;5;28;43;01mTrue\u001b[39;49;00m\u001b[43m]\u001b[49m\u001b[43m)\u001b[49m\u001b[43m)\u001b[49m\u001b[43m,\u001b[49m\n\u001b[1;32m    547\u001b[0m \u001b[43m    \u001b[49m\u001b[43mOutput\u001b[49m\u001b[38;5;241;43m.\u001b[39;49m\u001b[43mDICT\u001b[49m\u001b[43m:\u001b[49m\u001b[43m \u001b[49m\u001b[38;5;28;43;01mlambda\u001b[39;49;00m\u001b[43m:\u001b[49m\u001b[43m \u001b[49m\u001b[43mosd_to_dict\u001b[49m\u001b[43m(\u001b[49m\u001b[43mrun_and_get_output\u001b[49m\u001b[43m(\u001b[49m\u001b[38;5;241;43m*\u001b[39;49m\u001b[43margs\u001b[49m\u001b[43m)\u001b[49m\u001b[43m)\u001b[49m\u001b[43m,\u001b[49m\n\u001b[1;32m    548\u001b[0m \u001b[43m    \u001b[49m\u001b[43mOutput\u001b[49m\u001b[38;5;241;43m.\u001b[39;49m\u001b[43mSTRING\u001b[49m\u001b[43m:\u001b[49m\u001b[43m \u001b[49m\u001b[38;5;28;43;01mlambda\u001b[39;49;00m\u001b[43m:\u001b[49m\u001b[43m \u001b[49m\u001b[43mrun_and_get_output\u001b[49m\u001b[43m(\u001b[49m\u001b[38;5;241;43m*\u001b[39;49m\u001b[43margs\u001b[49m\u001b[43m)\u001b[49m\u001b[43m,\u001b[49m\n\u001b[1;32m    549\u001b[0m \u001b[43m\u001b[49m\u001b[43m}\u001b[49m\u001b[43m[\u001b[49m\u001b[43moutput_type\u001b[49m\u001b[43m]\u001b[49m\u001b[43m(\u001b[49m\u001b[43m)\u001b[49m\n",
      "File \u001b[0;32m~/PycharmProjects/ocr_data_generation/venv/lib/python3.9/site-packages/pytesseract/pytesseract.py:548\u001b[0m, in \u001b[0;36mimage_to_osd.<locals>.<lambda>\u001b[0;34m()\u001b[0m\n\u001b[1;32m    542\u001b[0m config \u001b[38;5;241m=\u001b[39m \u001b[38;5;124mf\u001b[39m\u001b[38;5;124m'\u001b[39m\u001b[38;5;124m--psm 0 \u001b[39m\u001b[38;5;132;01m{\u001b[39;00mconfig\u001b[38;5;241m.\u001b[39mstrip()\u001b[38;5;132;01m}\u001b[39;00m\u001b[38;5;124m'\u001b[39m\n\u001b[1;32m    543\u001b[0m args \u001b[38;5;241m=\u001b[39m [image, \u001b[38;5;124m'\u001b[39m\u001b[38;5;124mosd\u001b[39m\u001b[38;5;124m'\u001b[39m, lang, config, nice, timeout]\n\u001b[1;32m    545\u001b[0m \u001b[38;5;28;01mreturn\u001b[39;00m {\n\u001b[1;32m    546\u001b[0m     Output\u001b[38;5;241m.\u001b[39mBYTES: \u001b[38;5;28;01mlambda\u001b[39;00m: run_and_get_output(\u001b[38;5;241m*\u001b[39m(args \u001b[38;5;241m+\u001b[39m [\u001b[38;5;28;01mTrue\u001b[39;00m])),\n\u001b[1;32m    547\u001b[0m     Output\u001b[38;5;241m.\u001b[39mDICT: \u001b[38;5;28;01mlambda\u001b[39;00m: osd_to_dict(run_and_get_output(\u001b[38;5;241m*\u001b[39margs)),\n\u001b[0;32m--> 548\u001b[0m     Output\u001b[38;5;241m.\u001b[39mSTRING: \u001b[38;5;28;01mlambda\u001b[39;00m: \u001b[43mrun_and_get_output\u001b[49m\u001b[43m(\u001b[49m\u001b[38;5;241;43m*\u001b[39;49m\u001b[43margs\u001b[49m\u001b[43m)\u001b[49m,\n\u001b[1;32m    549\u001b[0m }[output_type]()\n",
      "File \u001b[0;32m~/PycharmProjects/ocr_data_generation/venv/lib/python3.9/site-packages/pytesseract/pytesseract.py:286\u001b[0m, in \u001b[0;36mrun_and_get_output\u001b[0;34m(image, extension, lang, config, nice, timeout, return_bytes)\u001b[0m\n\u001b[1;32m    275\u001b[0m \u001b[38;5;28;01mwith\u001b[39;00m save(image) \u001b[38;5;28;01mas\u001b[39;00m (temp_name, input_filename):\n\u001b[1;32m    276\u001b[0m     kwargs \u001b[38;5;241m=\u001b[39m {\n\u001b[1;32m    277\u001b[0m         \u001b[38;5;124m'\u001b[39m\u001b[38;5;124minput_filename\u001b[39m\u001b[38;5;124m'\u001b[39m: input_filename,\n\u001b[1;32m    278\u001b[0m         \u001b[38;5;124m'\u001b[39m\u001b[38;5;124moutput_filename_base\u001b[39m\u001b[38;5;124m'\u001b[39m: temp_name,\n\u001b[0;32m   (...)\u001b[0m\n\u001b[1;32m    283\u001b[0m         \u001b[38;5;124m'\u001b[39m\u001b[38;5;124mtimeout\u001b[39m\u001b[38;5;124m'\u001b[39m: timeout,\n\u001b[1;32m    284\u001b[0m     }\n\u001b[0;32m--> 286\u001b[0m     \u001b[43mrun_tesseract\u001b[49m\u001b[43m(\u001b[49m\u001b[38;5;241;43m*\u001b[39;49m\u001b[38;5;241;43m*\u001b[39;49m\u001b[43mkwargs\u001b[49m\u001b[43m)\u001b[49m\n\u001b[1;32m    287\u001b[0m     filename \u001b[38;5;241m=\u001b[39m kwargs[\u001b[38;5;124m'\u001b[39m\u001b[38;5;124moutput_filename_base\u001b[39m\u001b[38;5;124m'\u001b[39m] \u001b[38;5;241m+\u001b[39m extsep \u001b[38;5;241m+\u001b[39m extension\n\u001b[1;32m    288\u001b[0m     \u001b[38;5;28;01mwith\u001b[39;00m \u001b[38;5;28mopen\u001b[39m(filename, \u001b[38;5;124m'\u001b[39m\u001b[38;5;124mrb\u001b[39m\u001b[38;5;124m'\u001b[39m) \u001b[38;5;28;01mas\u001b[39;00m output_file:\n",
      "File \u001b[0;32m~/PycharmProjects/ocr_data_generation/venv/lib/python3.9/site-packages/pytesseract/pytesseract.py:262\u001b[0m, in \u001b[0;36mrun_tesseract\u001b[0;34m(input_filename, output_filename_base, extension, lang, config, nice, timeout)\u001b[0m\n\u001b[1;32m    260\u001b[0m \u001b[38;5;28;01mwith\u001b[39;00m timeout_manager(proc, timeout) \u001b[38;5;28;01mas\u001b[39;00m error_string:\n\u001b[1;32m    261\u001b[0m     \u001b[38;5;28;01mif\u001b[39;00m proc\u001b[38;5;241m.\u001b[39mreturncode:\n\u001b[0;32m--> 262\u001b[0m         \u001b[38;5;28;01mraise\u001b[39;00m TesseractError(proc\u001b[38;5;241m.\u001b[39mreturncode, get_errors(error_string))\n",
      "\u001b[0;31mTesseractError\u001b[0m: (1, 'UZN file /tmp/tess_p7kf2hew loaded. Estimating resolution as 272 UZN file /tmp/tess_p7kf2hew loaded. Warning. Invalid resolution 0 dpi. Using 70 instead. Too few characters. Skipping this page Error during processing.')"
     ]
    }
   ],
   "source": [
    "newdata = pytesseract.image_to_osd(imw) #, config='--psm 0 -c min_characters_to_try=100')\n",
    "newdata"
   ]
  },
  {
   "cell_type": "code",
   "execution_count": null,
   "metadata": {},
   "outputs": [],
   "source": [
    "im = cv2.imread(FILE_PATH_1 + photo_list_1[0], cv2.IMREAD_COLOR)\n",
    "newdata = tes.image_to_osd(im)"
   ]
  },
  {
   "cell_type": "code",
   "execution_count": null,
   "metadata": {},
   "outputs": [],
   "source": []
  },
  {
   "cell_type": "code",
   "execution_count": null,
   "metadata": {},
   "outputs": [],
   "source": []
  },
  {
   "cell_type": "code",
   "execution_count": null,
   "metadata": {},
   "outputs": [],
   "source": []
  },
  {
   "cell_type": "code",
   "execution_count": null,
   "metadata": {},
   "outputs": [],
   "source": []
  },
  {
   "cell_type": "code",
   "execution_count": null,
   "metadata": {},
   "outputs": [],
   "source": []
  },
  {
   "cell_type": "code",
   "execution_count": null,
   "metadata": {},
   "outputs": [],
   "source": []
  },
  {
   "cell_type": "code",
   "execution_count": null,
   "metadata": {},
   "outputs": [],
   "source": [
    "im_png = cv2.imread(FILE_PATH + photo_list_png[0])\n",
    "im_png = cv2.cvtColor(im_png, cv2.COLOR_BGR2RGB)\n",
    "\n",
    "print(osd = pytesseract.image_to_osd(im_png, output_type=Output.DICT))"
   ]
  },
  {
   "cell_type": "code",
   "execution_count": null,
   "metadata": {},
   "outputs": [],
   "source": []
  },
  {
   "cell_type": "code",
   "execution_count": 89,
   "metadata": {},
   "outputs": [
    {
     "ename": "TesseractError",
     "evalue": "(1, 'UZN file /tmp/tess_8l1m0p8y loaded. Estimating resolution as 111 UZN file /tmp/tess_8l1m0p8y loaded. Warning. Invalid resolution 0 dpi. Using 70 instead. Too few characters. Skipping this page Error during processing.')",
     "output_type": "error",
     "traceback": [
      "\u001b[0;31m---------------------------------------------------------------------------\u001b[0m",
      "\u001b[0;31mTesseractError\u001b[0m                            Traceback (most recent call last)",
      "Input \u001b[0;32mIn [89]\u001b[0m, in \u001b[0;36m<cell line: 4>\u001b[0;34m()\u001b[0m\n\u001b[1;32m      1\u001b[0m im_png \u001b[38;5;241m=\u001b[39m cv2\u001b[38;5;241m.\u001b[39mimread(FILE_PATH \u001b[38;5;241m+\u001b[39m photo_list_png[\u001b[38;5;241m0\u001b[39m])\n\u001b[1;32m      2\u001b[0m im_png \u001b[38;5;241m=\u001b[39m cv2\u001b[38;5;241m.\u001b[39mcvtColor(im_png, cv2\u001b[38;5;241m.\u001b[39mCOLOR_BGR2RGB)\n\u001b[0;32m----> 4\u001b[0m \u001b[38;5;28mprint\u001b[39m(osd \u001b[38;5;241m=\u001b[39m \u001b[43mpytesseract\u001b[49m\u001b[38;5;241;43m.\u001b[39;49m\u001b[43mimage_to_osd\u001b[49m\u001b[43m(\u001b[49m\u001b[43mim_png\u001b[49m\u001b[43m,\u001b[49m\u001b[43m \u001b[49m\u001b[43moutput_type\u001b[49m\u001b[38;5;241;43m=\u001b[39;49m\u001b[43mOutput\u001b[49m\u001b[38;5;241;43m.\u001b[39;49m\u001b[43mDICT\u001b[49m\u001b[43m)\u001b[49m)\n",
      "File \u001b[0;32m~/PycharmProjects/ocr_data_generation/venv/lib/python3.9/site-packages/pytesseract/pytesseract.py:545\u001b[0m, in \u001b[0;36mimage_to_osd\u001b[0;34m(image, lang, config, nice, output_type, timeout)\u001b[0m\n\u001b[1;32m    542\u001b[0m config \u001b[38;5;241m=\u001b[39m \u001b[38;5;124mf\u001b[39m\u001b[38;5;124m'\u001b[39m\u001b[38;5;124m--psm 0 \u001b[39m\u001b[38;5;132;01m{\u001b[39;00mconfig\u001b[38;5;241m.\u001b[39mstrip()\u001b[38;5;132;01m}\u001b[39;00m\u001b[38;5;124m'\u001b[39m\n\u001b[1;32m    543\u001b[0m args \u001b[38;5;241m=\u001b[39m [image, \u001b[38;5;124m'\u001b[39m\u001b[38;5;124mosd\u001b[39m\u001b[38;5;124m'\u001b[39m, lang, config, nice, timeout]\n\u001b[0;32m--> 545\u001b[0m \u001b[38;5;28;01mreturn\u001b[39;00m \u001b[43m{\u001b[49m\n\u001b[1;32m    546\u001b[0m \u001b[43m    \u001b[49m\u001b[43mOutput\u001b[49m\u001b[38;5;241;43m.\u001b[39;49m\u001b[43mBYTES\u001b[49m\u001b[43m:\u001b[49m\u001b[43m \u001b[49m\u001b[38;5;28;43;01mlambda\u001b[39;49;00m\u001b[43m:\u001b[49m\u001b[43m \u001b[49m\u001b[43mrun_and_get_output\u001b[49m\u001b[43m(\u001b[49m\u001b[38;5;241;43m*\u001b[39;49m\u001b[43m(\u001b[49m\u001b[43margs\u001b[49m\u001b[43m \u001b[49m\u001b[38;5;241;43m+\u001b[39;49m\u001b[43m \u001b[49m\u001b[43m[\u001b[49m\u001b[38;5;28;43;01mTrue\u001b[39;49;00m\u001b[43m]\u001b[49m\u001b[43m)\u001b[49m\u001b[43m)\u001b[49m\u001b[43m,\u001b[49m\n\u001b[1;32m    547\u001b[0m \u001b[43m    \u001b[49m\u001b[43mOutput\u001b[49m\u001b[38;5;241;43m.\u001b[39;49m\u001b[43mDICT\u001b[49m\u001b[43m:\u001b[49m\u001b[43m \u001b[49m\u001b[38;5;28;43;01mlambda\u001b[39;49;00m\u001b[43m:\u001b[49m\u001b[43m \u001b[49m\u001b[43mosd_to_dict\u001b[49m\u001b[43m(\u001b[49m\u001b[43mrun_and_get_output\u001b[49m\u001b[43m(\u001b[49m\u001b[38;5;241;43m*\u001b[39;49m\u001b[43margs\u001b[49m\u001b[43m)\u001b[49m\u001b[43m)\u001b[49m\u001b[43m,\u001b[49m\n\u001b[1;32m    548\u001b[0m \u001b[43m    \u001b[49m\u001b[43mOutput\u001b[49m\u001b[38;5;241;43m.\u001b[39;49m\u001b[43mSTRING\u001b[49m\u001b[43m:\u001b[49m\u001b[43m \u001b[49m\u001b[38;5;28;43;01mlambda\u001b[39;49;00m\u001b[43m:\u001b[49m\u001b[43m \u001b[49m\u001b[43mrun_and_get_output\u001b[49m\u001b[43m(\u001b[49m\u001b[38;5;241;43m*\u001b[39;49m\u001b[43margs\u001b[49m\u001b[43m)\u001b[49m\u001b[43m,\u001b[49m\n\u001b[1;32m    549\u001b[0m \u001b[43m\u001b[49m\u001b[43m}\u001b[49m\u001b[43m[\u001b[49m\u001b[43moutput_type\u001b[49m\u001b[43m]\u001b[49m\u001b[43m(\u001b[49m\u001b[43m)\u001b[49m\n",
      "File \u001b[0;32m~/PycharmProjects/ocr_data_generation/venv/lib/python3.9/site-packages/pytesseract/pytesseract.py:547\u001b[0m, in \u001b[0;36mimage_to_osd.<locals>.<lambda>\u001b[0;34m()\u001b[0m\n\u001b[1;32m    542\u001b[0m config \u001b[38;5;241m=\u001b[39m \u001b[38;5;124mf\u001b[39m\u001b[38;5;124m'\u001b[39m\u001b[38;5;124m--psm 0 \u001b[39m\u001b[38;5;132;01m{\u001b[39;00mconfig\u001b[38;5;241m.\u001b[39mstrip()\u001b[38;5;132;01m}\u001b[39;00m\u001b[38;5;124m'\u001b[39m\n\u001b[1;32m    543\u001b[0m args \u001b[38;5;241m=\u001b[39m [image, \u001b[38;5;124m'\u001b[39m\u001b[38;5;124mosd\u001b[39m\u001b[38;5;124m'\u001b[39m, lang, config, nice, timeout]\n\u001b[1;32m    545\u001b[0m \u001b[38;5;28;01mreturn\u001b[39;00m {\n\u001b[1;32m    546\u001b[0m     Output\u001b[38;5;241m.\u001b[39mBYTES: \u001b[38;5;28;01mlambda\u001b[39;00m: run_and_get_output(\u001b[38;5;241m*\u001b[39m(args \u001b[38;5;241m+\u001b[39m [\u001b[38;5;28;01mTrue\u001b[39;00m])),\n\u001b[0;32m--> 547\u001b[0m     Output\u001b[38;5;241m.\u001b[39mDICT: \u001b[38;5;28;01mlambda\u001b[39;00m: osd_to_dict(\u001b[43mrun_and_get_output\u001b[49m\u001b[43m(\u001b[49m\u001b[38;5;241;43m*\u001b[39;49m\u001b[43margs\u001b[49m\u001b[43m)\u001b[49m),\n\u001b[1;32m    548\u001b[0m     Output\u001b[38;5;241m.\u001b[39mSTRING: \u001b[38;5;28;01mlambda\u001b[39;00m: run_and_get_output(\u001b[38;5;241m*\u001b[39margs),\n\u001b[1;32m    549\u001b[0m }[output_type]()\n",
      "File \u001b[0;32m~/PycharmProjects/ocr_data_generation/venv/lib/python3.9/site-packages/pytesseract/pytesseract.py:286\u001b[0m, in \u001b[0;36mrun_and_get_output\u001b[0;34m(image, extension, lang, config, nice, timeout, return_bytes)\u001b[0m\n\u001b[1;32m    275\u001b[0m \u001b[38;5;28;01mwith\u001b[39;00m save(image) \u001b[38;5;28;01mas\u001b[39;00m (temp_name, input_filename):\n\u001b[1;32m    276\u001b[0m     kwargs \u001b[38;5;241m=\u001b[39m {\n\u001b[1;32m    277\u001b[0m         \u001b[38;5;124m'\u001b[39m\u001b[38;5;124minput_filename\u001b[39m\u001b[38;5;124m'\u001b[39m: input_filename,\n\u001b[1;32m    278\u001b[0m         \u001b[38;5;124m'\u001b[39m\u001b[38;5;124moutput_filename_base\u001b[39m\u001b[38;5;124m'\u001b[39m: temp_name,\n\u001b[0;32m   (...)\u001b[0m\n\u001b[1;32m    283\u001b[0m         \u001b[38;5;124m'\u001b[39m\u001b[38;5;124mtimeout\u001b[39m\u001b[38;5;124m'\u001b[39m: timeout,\n\u001b[1;32m    284\u001b[0m     }\n\u001b[0;32m--> 286\u001b[0m     \u001b[43mrun_tesseract\u001b[49m\u001b[43m(\u001b[49m\u001b[38;5;241;43m*\u001b[39;49m\u001b[38;5;241;43m*\u001b[39;49m\u001b[43mkwargs\u001b[49m\u001b[43m)\u001b[49m\n\u001b[1;32m    287\u001b[0m     filename \u001b[38;5;241m=\u001b[39m kwargs[\u001b[38;5;124m'\u001b[39m\u001b[38;5;124moutput_filename_base\u001b[39m\u001b[38;5;124m'\u001b[39m] \u001b[38;5;241m+\u001b[39m extsep \u001b[38;5;241m+\u001b[39m extension\n\u001b[1;32m    288\u001b[0m     \u001b[38;5;28;01mwith\u001b[39;00m \u001b[38;5;28mopen\u001b[39m(filename, \u001b[38;5;124m'\u001b[39m\u001b[38;5;124mrb\u001b[39m\u001b[38;5;124m'\u001b[39m) \u001b[38;5;28;01mas\u001b[39;00m output_file:\n",
      "File \u001b[0;32m~/PycharmProjects/ocr_data_generation/venv/lib/python3.9/site-packages/pytesseract/pytesseract.py:262\u001b[0m, in \u001b[0;36mrun_tesseract\u001b[0;34m(input_filename, output_filename_base, extension, lang, config, nice, timeout)\u001b[0m\n\u001b[1;32m    260\u001b[0m \u001b[38;5;28;01mwith\u001b[39;00m timeout_manager(proc, timeout) \u001b[38;5;28;01mas\u001b[39;00m error_string:\n\u001b[1;32m    261\u001b[0m     \u001b[38;5;28;01mif\u001b[39;00m proc\u001b[38;5;241m.\u001b[39mreturncode:\n\u001b[0;32m--> 262\u001b[0m         \u001b[38;5;28;01mraise\u001b[39;00m TesseractError(proc\u001b[38;5;241m.\u001b[39mreturncode, get_errors(error_string))\n",
      "\u001b[0;31mTesseractError\u001b[0m: (1, 'UZN file /tmp/tess_8l1m0p8y loaded. Estimating resolution as 111 UZN file /tmp/tess_8l1m0p8y loaded. Warning. Invalid resolution 0 dpi. Using 70 instead. Too few characters. Skipping this page Error during processing.')"
     ]
    }
   ],
   "source": [
    "im_png = cv2.imread(FILE_PATH + photo_list_png[0])\n",
    "im_png = cv2.cvtColor(im_png, cv2.COLOR_BGR2RGB)\n",
    "\n",
    "print(osd = pytesseract.image_to_osd(im_png, output_type=Output.DICT))"
   ]
  },
  {
   "cell_type": "code",
   "execution_count": null,
   "metadata": {},
   "outputs": [],
   "source": []
  },
  {
   "cell_type": "code",
   "execution_count": null,
   "metadata": {},
   "outputs": [],
   "source": []
  },
  {
   "cell_type": "code",
   "execution_count": null,
   "metadata": {},
   "outputs": [],
   "source": []
  },
  {
   "cell_type": "code",
   "execution_count": null,
   "metadata": {},
   "outputs": [],
   "source": []
  },
  {
   "cell_type": "code",
   "execution_count": 77,
   "metadata": {},
   "outputs": [],
   "source": [
    "im = cv2.imread(FILE_PATH + photo_list[0])\n",
    "# im = cv2.cvtColor(im, cv2.COLOR_BGR2GRAY)\n",
    "# cv2.imshow(\"Image\", im)\n",
    "# cv2.waitKey(0)\n",
    "# cv2.destroyAllWindows()"
   ]
  },
  {
   "cell_type": "code",
   "execution_count": 78,
   "metadata": {},
   "outputs": [],
   "source": [
    "im = cv2.cvtColor(im, cv2.COLOR_BGR2RGB)\n",
    "# img_new = Image.fromarray(im)"
   ]
  },
  {
   "cell_type": "code",
   "execution_count": 82,
   "metadata": {},
   "outputs": [
    {
     "ename": "TesseractError",
     "evalue": "(1, 'UZN file /tmp/tess_s914prpu loaded. Estimating resolution as 121 Too few characters. Skipping this page UZN file /tmp/tess_s914prpu loaded. Warning. Invalid resolution 0 dpi. Using 70 instead. Too few characters. Skipping this page Error during processing.')",
     "output_type": "error",
     "traceback": [
      "\u001b[0;31m---------------------------------------------------------------------------\u001b[0m",
      "\u001b[0;31mTesseractError\u001b[0m                            Traceback (most recent call last)",
      "Input \u001b[0;32mIn [82]\u001b[0m, in \u001b[0;36m<cell line: 2>\u001b[0;34m()\u001b[0m\n\u001b[1;32m      1\u001b[0m img_rgb \u001b[38;5;241m=\u001b[39m Image\u001b[38;5;241m.\u001b[39mfrombytes(\u001b[38;5;124m'\u001b[39m\u001b[38;5;124mRGB\u001b[39m\u001b[38;5;124m'\u001b[39m, im\u001b[38;5;241m.\u001b[39mshape[:\u001b[38;5;241m2\u001b[39m], im, \u001b[38;5;124m'\u001b[39m\u001b[38;5;124mraw\u001b[39m\u001b[38;5;124m'\u001b[39m, \u001b[38;5;124m'\u001b[39m\u001b[38;5;124mBGR\u001b[39m\u001b[38;5;124m'\u001b[39m, \u001b[38;5;241m0\u001b[39m, \u001b[38;5;241m0\u001b[39m)\n\u001b[0;32m----> 2\u001b[0m \u001b[38;5;28mprint\u001b[39m(osd \u001b[38;5;241m=\u001b[39m \u001b[43mpytesseract\u001b[49m\u001b[38;5;241;43m.\u001b[39;49m\u001b[43mimage_to_osd\u001b[49m\u001b[43m(\u001b[49m\u001b[43mimg_rgb\u001b[49m\u001b[43m,\u001b[49m\u001b[43m \u001b[49m\u001b[43moutput_type\u001b[49m\u001b[38;5;241;43m=\u001b[39;49m\u001b[43mOutput\u001b[49m\u001b[38;5;241;43m.\u001b[39;49m\u001b[43mDICT\u001b[49m\u001b[43m)\u001b[49m)\n",
      "File \u001b[0;32m~/PycharmProjects/ocr_data_generation/venv/lib/python3.9/site-packages/pytesseract/pytesseract.py:545\u001b[0m, in \u001b[0;36mimage_to_osd\u001b[0;34m(image, lang, config, nice, output_type, timeout)\u001b[0m\n\u001b[1;32m    542\u001b[0m config \u001b[38;5;241m=\u001b[39m \u001b[38;5;124mf\u001b[39m\u001b[38;5;124m'\u001b[39m\u001b[38;5;124m--psm 0 \u001b[39m\u001b[38;5;132;01m{\u001b[39;00mconfig\u001b[38;5;241m.\u001b[39mstrip()\u001b[38;5;132;01m}\u001b[39;00m\u001b[38;5;124m'\u001b[39m\n\u001b[1;32m    543\u001b[0m args \u001b[38;5;241m=\u001b[39m [image, \u001b[38;5;124m'\u001b[39m\u001b[38;5;124mosd\u001b[39m\u001b[38;5;124m'\u001b[39m, lang, config, nice, timeout]\n\u001b[0;32m--> 545\u001b[0m \u001b[38;5;28;01mreturn\u001b[39;00m \u001b[43m{\u001b[49m\n\u001b[1;32m    546\u001b[0m \u001b[43m    \u001b[49m\u001b[43mOutput\u001b[49m\u001b[38;5;241;43m.\u001b[39;49m\u001b[43mBYTES\u001b[49m\u001b[43m:\u001b[49m\u001b[43m \u001b[49m\u001b[38;5;28;43;01mlambda\u001b[39;49;00m\u001b[43m:\u001b[49m\u001b[43m \u001b[49m\u001b[43mrun_and_get_output\u001b[49m\u001b[43m(\u001b[49m\u001b[38;5;241;43m*\u001b[39;49m\u001b[43m(\u001b[49m\u001b[43margs\u001b[49m\u001b[43m \u001b[49m\u001b[38;5;241;43m+\u001b[39;49m\u001b[43m \u001b[49m\u001b[43m[\u001b[49m\u001b[38;5;28;43;01mTrue\u001b[39;49;00m\u001b[43m]\u001b[49m\u001b[43m)\u001b[49m\u001b[43m)\u001b[49m\u001b[43m,\u001b[49m\n\u001b[1;32m    547\u001b[0m \u001b[43m    \u001b[49m\u001b[43mOutput\u001b[49m\u001b[38;5;241;43m.\u001b[39;49m\u001b[43mDICT\u001b[49m\u001b[43m:\u001b[49m\u001b[43m \u001b[49m\u001b[38;5;28;43;01mlambda\u001b[39;49;00m\u001b[43m:\u001b[49m\u001b[43m \u001b[49m\u001b[43mosd_to_dict\u001b[49m\u001b[43m(\u001b[49m\u001b[43mrun_and_get_output\u001b[49m\u001b[43m(\u001b[49m\u001b[38;5;241;43m*\u001b[39;49m\u001b[43margs\u001b[49m\u001b[43m)\u001b[49m\u001b[43m)\u001b[49m\u001b[43m,\u001b[49m\n\u001b[1;32m    548\u001b[0m \u001b[43m    \u001b[49m\u001b[43mOutput\u001b[49m\u001b[38;5;241;43m.\u001b[39;49m\u001b[43mSTRING\u001b[49m\u001b[43m:\u001b[49m\u001b[43m \u001b[49m\u001b[38;5;28;43;01mlambda\u001b[39;49;00m\u001b[43m:\u001b[49m\u001b[43m \u001b[49m\u001b[43mrun_and_get_output\u001b[49m\u001b[43m(\u001b[49m\u001b[38;5;241;43m*\u001b[39;49m\u001b[43margs\u001b[49m\u001b[43m)\u001b[49m\u001b[43m,\u001b[49m\n\u001b[1;32m    549\u001b[0m \u001b[43m\u001b[49m\u001b[43m}\u001b[49m\u001b[43m[\u001b[49m\u001b[43moutput_type\u001b[49m\u001b[43m]\u001b[49m\u001b[43m(\u001b[49m\u001b[43m)\u001b[49m\n",
      "File \u001b[0;32m~/PycharmProjects/ocr_data_generation/venv/lib/python3.9/site-packages/pytesseract/pytesseract.py:547\u001b[0m, in \u001b[0;36mimage_to_osd.<locals>.<lambda>\u001b[0;34m()\u001b[0m\n\u001b[1;32m    542\u001b[0m config \u001b[38;5;241m=\u001b[39m \u001b[38;5;124mf\u001b[39m\u001b[38;5;124m'\u001b[39m\u001b[38;5;124m--psm 0 \u001b[39m\u001b[38;5;132;01m{\u001b[39;00mconfig\u001b[38;5;241m.\u001b[39mstrip()\u001b[38;5;132;01m}\u001b[39;00m\u001b[38;5;124m'\u001b[39m\n\u001b[1;32m    543\u001b[0m args \u001b[38;5;241m=\u001b[39m [image, \u001b[38;5;124m'\u001b[39m\u001b[38;5;124mosd\u001b[39m\u001b[38;5;124m'\u001b[39m, lang, config, nice, timeout]\n\u001b[1;32m    545\u001b[0m \u001b[38;5;28;01mreturn\u001b[39;00m {\n\u001b[1;32m    546\u001b[0m     Output\u001b[38;5;241m.\u001b[39mBYTES: \u001b[38;5;28;01mlambda\u001b[39;00m: run_and_get_output(\u001b[38;5;241m*\u001b[39m(args \u001b[38;5;241m+\u001b[39m [\u001b[38;5;28;01mTrue\u001b[39;00m])),\n\u001b[0;32m--> 547\u001b[0m     Output\u001b[38;5;241m.\u001b[39mDICT: \u001b[38;5;28;01mlambda\u001b[39;00m: osd_to_dict(\u001b[43mrun_and_get_output\u001b[49m\u001b[43m(\u001b[49m\u001b[38;5;241;43m*\u001b[39;49m\u001b[43margs\u001b[49m\u001b[43m)\u001b[49m),\n\u001b[1;32m    548\u001b[0m     Output\u001b[38;5;241m.\u001b[39mSTRING: \u001b[38;5;28;01mlambda\u001b[39;00m: run_and_get_output(\u001b[38;5;241m*\u001b[39margs),\n\u001b[1;32m    549\u001b[0m }[output_type]()\n",
      "File \u001b[0;32m~/PycharmProjects/ocr_data_generation/venv/lib/python3.9/site-packages/pytesseract/pytesseract.py:286\u001b[0m, in \u001b[0;36mrun_and_get_output\u001b[0;34m(image, extension, lang, config, nice, timeout, return_bytes)\u001b[0m\n\u001b[1;32m    275\u001b[0m \u001b[38;5;28;01mwith\u001b[39;00m save(image) \u001b[38;5;28;01mas\u001b[39;00m (temp_name, input_filename):\n\u001b[1;32m    276\u001b[0m     kwargs \u001b[38;5;241m=\u001b[39m {\n\u001b[1;32m    277\u001b[0m         \u001b[38;5;124m'\u001b[39m\u001b[38;5;124minput_filename\u001b[39m\u001b[38;5;124m'\u001b[39m: input_filename,\n\u001b[1;32m    278\u001b[0m         \u001b[38;5;124m'\u001b[39m\u001b[38;5;124moutput_filename_base\u001b[39m\u001b[38;5;124m'\u001b[39m: temp_name,\n\u001b[0;32m   (...)\u001b[0m\n\u001b[1;32m    283\u001b[0m         \u001b[38;5;124m'\u001b[39m\u001b[38;5;124mtimeout\u001b[39m\u001b[38;5;124m'\u001b[39m: timeout,\n\u001b[1;32m    284\u001b[0m     }\n\u001b[0;32m--> 286\u001b[0m     \u001b[43mrun_tesseract\u001b[49m\u001b[43m(\u001b[49m\u001b[38;5;241;43m*\u001b[39;49m\u001b[38;5;241;43m*\u001b[39;49m\u001b[43mkwargs\u001b[49m\u001b[43m)\u001b[49m\n\u001b[1;32m    287\u001b[0m     filename \u001b[38;5;241m=\u001b[39m kwargs[\u001b[38;5;124m'\u001b[39m\u001b[38;5;124moutput_filename_base\u001b[39m\u001b[38;5;124m'\u001b[39m] \u001b[38;5;241m+\u001b[39m extsep \u001b[38;5;241m+\u001b[39m extension\n\u001b[1;32m    288\u001b[0m     \u001b[38;5;28;01mwith\u001b[39;00m \u001b[38;5;28mopen\u001b[39m(filename, \u001b[38;5;124m'\u001b[39m\u001b[38;5;124mrb\u001b[39m\u001b[38;5;124m'\u001b[39m) \u001b[38;5;28;01mas\u001b[39;00m output_file:\n",
      "File \u001b[0;32m~/PycharmProjects/ocr_data_generation/venv/lib/python3.9/site-packages/pytesseract/pytesseract.py:262\u001b[0m, in \u001b[0;36mrun_tesseract\u001b[0;34m(input_filename, output_filename_base, extension, lang, config, nice, timeout)\u001b[0m\n\u001b[1;32m    260\u001b[0m \u001b[38;5;28;01mwith\u001b[39;00m timeout_manager(proc, timeout) \u001b[38;5;28;01mas\u001b[39;00m error_string:\n\u001b[1;32m    261\u001b[0m     \u001b[38;5;28;01mif\u001b[39;00m proc\u001b[38;5;241m.\u001b[39mreturncode:\n\u001b[0;32m--> 262\u001b[0m         \u001b[38;5;28;01mraise\u001b[39;00m TesseractError(proc\u001b[38;5;241m.\u001b[39mreturncode, get_errors(error_string))\n",
      "\u001b[0;31mTesseractError\u001b[0m: (1, 'UZN file /tmp/tess_s914prpu loaded. Estimating resolution as 121 Too few characters. Skipping this page UZN file /tmp/tess_s914prpu loaded. Warning. Invalid resolution 0 dpi. Using 70 instead. Too few characters. Skipping this page Error during processing.')"
     ]
    }
   ],
   "source": [
    "img_rgb = Image.frombytes('RGB', im.shape[:2], im, 'raw', 'BGR', 0, 0)\n",
    "print(osd = pytesseract.image_to_osd(img_rgb, output_type=Output.DICT))"
   ]
  },
  {
   "cell_type": "code",
   "execution_count": 79,
   "metadata": {},
   "outputs": [
    {
     "ename": "TesseractError",
     "evalue": "(1, 'Error opening data file /usr/share/tessdata/eng.traineddata Please make sure the TESSDATA_PREFIX environment variable is set to your \"tessdata\" directory. Failed loading language \\'eng\\' Tesseract couldn\\'t load any languages! Could not initialize tesseract.')",
     "output_type": "error",
     "traceback": [
      "\u001b[0;31m---------------------------------------------------------------------------\u001b[0m",
      "\u001b[0;31mTesseractError\u001b[0m                            Traceback (most recent call last)",
      "Input \u001b[0;32mIn [79]\u001b[0m, in \u001b[0;36m<cell line: 1>\u001b[0;34m()\u001b[0m\n\u001b[0;32m----> 1\u001b[0m \u001b[38;5;28mprint\u001b[39m(\u001b[43mpytesseract\u001b[49m\u001b[38;5;241;43m.\u001b[39;49m\u001b[43mimage_to_string\u001b[49m\u001b[43m(\u001b[49m\u001b[43mim\u001b[49m\u001b[43m)\u001b[49m)\n",
      "File \u001b[0;32m~/PycharmProjects/ocr_data_generation/venv/lib/python3.9/site-packages/pytesseract/pytesseract.py:416\u001b[0m, in \u001b[0;36mimage_to_string\u001b[0;34m(image, lang, config, nice, output_type, timeout)\u001b[0m\n\u001b[1;32m    411\u001b[0m \u001b[38;5;124;03m\"\"\"\u001b[39;00m\n\u001b[1;32m    412\u001b[0m \u001b[38;5;124;03mReturns the result of a Tesseract OCR run on the provided image to string\u001b[39;00m\n\u001b[1;32m    413\u001b[0m \u001b[38;5;124;03m\"\"\"\u001b[39;00m\n\u001b[1;32m    414\u001b[0m args \u001b[38;5;241m=\u001b[39m [image, \u001b[38;5;124m'\u001b[39m\u001b[38;5;124mtxt\u001b[39m\u001b[38;5;124m'\u001b[39m, lang, config, nice, timeout]\n\u001b[0;32m--> 416\u001b[0m \u001b[38;5;28;01mreturn\u001b[39;00m \u001b[43m{\u001b[49m\n\u001b[1;32m    417\u001b[0m \u001b[43m    \u001b[49m\u001b[43mOutput\u001b[49m\u001b[38;5;241;43m.\u001b[39;49m\u001b[43mBYTES\u001b[49m\u001b[43m:\u001b[49m\u001b[43m \u001b[49m\u001b[38;5;28;43;01mlambda\u001b[39;49;00m\u001b[43m:\u001b[49m\u001b[43m \u001b[49m\u001b[43mrun_and_get_output\u001b[49m\u001b[43m(\u001b[49m\u001b[38;5;241;43m*\u001b[39;49m\u001b[43m(\u001b[49m\u001b[43margs\u001b[49m\u001b[43m \u001b[49m\u001b[38;5;241;43m+\u001b[39;49m\u001b[43m \u001b[49m\u001b[43m[\u001b[49m\u001b[38;5;28;43;01mTrue\u001b[39;49;00m\u001b[43m]\u001b[49m\u001b[43m)\u001b[49m\u001b[43m)\u001b[49m\u001b[43m,\u001b[49m\n\u001b[1;32m    418\u001b[0m \u001b[43m    \u001b[49m\u001b[43mOutput\u001b[49m\u001b[38;5;241;43m.\u001b[39;49m\u001b[43mDICT\u001b[49m\u001b[43m:\u001b[49m\u001b[43m \u001b[49m\u001b[38;5;28;43;01mlambda\u001b[39;49;00m\u001b[43m:\u001b[49m\u001b[43m \u001b[49m\u001b[43m{\u001b[49m\u001b[38;5;124;43m'\u001b[39;49m\u001b[38;5;124;43mtext\u001b[39;49m\u001b[38;5;124;43m'\u001b[39;49m\u001b[43m:\u001b[49m\u001b[43m \u001b[49m\u001b[43mrun_and_get_output\u001b[49m\u001b[43m(\u001b[49m\u001b[38;5;241;43m*\u001b[39;49m\u001b[43margs\u001b[49m\u001b[43m)\u001b[49m\u001b[43m}\u001b[49m\u001b[43m,\u001b[49m\n\u001b[1;32m    419\u001b[0m \u001b[43m    \u001b[49m\u001b[43mOutput\u001b[49m\u001b[38;5;241;43m.\u001b[39;49m\u001b[43mSTRING\u001b[49m\u001b[43m:\u001b[49m\u001b[43m \u001b[49m\u001b[38;5;28;43;01mlambda\u001b[39;49;00m\u001b[43m:\u001b[49m\u001b[43m \u001b[49m\u001b[43mrun_and_get_output\u001b[49m\u001b[43m(\u001b[49m\u001b[38;5;241;43m*\u001b[39;49m\u001b[43margs\u001b[49m\u001b[43m)\u001b[49m\u001b[43m,\u001b[49m\n\u001b[1;32m    420\u001b[0m \u001b[43m\u001b[49m\u001b[43m}\u001b[49m\u001b[43m[\u001b[49m\u001b[43moutput_type\u001b[49m\u001b[43m]\u001b[49m\u001b[43m(\u001b[49m\u001b[43m)\u001b[49m\n",
      "File \u001b[0;32m~/PycharmProjects/ocr_data_generation/venv/lib/python3.9/site-packages/pytesseract/pytesseract.py:419\u001b[0m, in \u001b[0;36mimage_to_string.<locals>.<lambda>\u001b[0;34m()\u001b[0m\n\u001b[1;32m    411\u001b[0m \u001b[38;5;124;03m\"\"\"\u001b[39;00m\n\u001b[1;32m    412\u001b[0m \u001b[38;5;124;03mReturns the result of a Tesseract OCR run on the provided image to string\u001b[39;00m\n\u001b[1;32m    413\u001b[0m \u001b[38;5;124;03m\"\"\"\u001b[39;00m\n\u001b[1;32m    414\u001b[0m args \u001b[38;5;241m=\u001b[39m [image, \u001b[38;5;124m'\u001b[39m\u001b[38;5;124mtxt\u001b[39m\u001b[38;5;124m'\u001b[39m, lang, config, nice, timeout]\n\u001b[1;32m    416\u001b[0m \u001b[38;5;28;01mreturn\u001b[39;00m {\n\u001b[1;32m    417\u001b[0m     Output\u001b[38;5;241m.\u001b[39mBYTES: \u001b[38;5;28;01mlambda\u001b[39;00m: run_and_get_output(\u001b[38;5;241m*\u001b[39m(args \u001b[38;5;241m+\u001b[39m [\u001b[38;5;28;01mTrue\u001b[39;00m])),\n\u001b[1;32m    418\u001b[0m     Output\u001b[38;5;241m.\u001b[39mDICT: \u001b[38;5;28;01mlambda\u001b[39;00m: {\u001b[38;5;124m'\u001b[39m\u001b[38;5;124mtext\u001b[39m\u001b[38;5;124m'\u001b[39m: run_and_get_output(\u001b[38;5;241m*\u001b[39margs)},\n\u001b[0;32m--> 419\u001b[0m     Output\u001b[38;5;241m.\u001b[39mSTRING: \u001b[38;5;28;01mlambda\u001b[39;00m: \u001b[43mrun_and_get_output\u001b[49m\u001b[43m(\u001b[49m\u001b[38;5;241;43m*\u001b[39;49m\u001b[43margs\u001b[49m\u001b[43m)\u001b[49m,\n\u001b[1;32m    420\u001b[0m }[output_type]()\n",
      "File \u001b[0;32m~/PycharmProjects/ocr_data_generation/venv/lib/python3.9/site-packages/pytesseract/pytesseract.py:286\u001b[0m, in \u001b[0;36mrun_and_get_output\u001b[0;34m(image, extension, lang, config, nice, timeout, return_bytes)\u001b[0m\n\u001b[1;32m    275\u001b[0m \u001b[38;5;28;01mwith\u001b[39;00m save(image) \u001b[38;5;28;01mas\u001b[39;00m (temp_name, input_filename):\n\u001b[1;32m    276\u001b[0m     kwargs \u001b[38;5;241m=\u001b[39m {\n\u001b[1;32m    277\u001b[0m         \u001b[38;5;124m'\u001b[39m\u001b[38;5;124minput_filename\u001b[39m\u001b[38;5;124m'\u001b[39m: input_filename,\n\u001b[1;32m    278\u001b[0m         \u001b[38;5;124m'\u001b[39m\u001b[38;5;124moutput_filename_base\u001b[39m\u001b[38;5;124m'\u001b[39m: temp_name,\n\u001b[0;32m   (...)\u001b[0m\n\u001b[1;32m    283\u001b[0m         \u001b[38;5;124m'\u001b[39m\u001b[38;5;124mtimeout\u001b[39m\u001b[38;5;124m'\u001b[39m: timeout,\n\u001b[1;32m    284\u001b[0m     }\n\u001b[0;32m--> 286\u001b[0m     \u001b[43mrun_tesseract\u001b[49m\u001b[43m(\u001b[49m\u001b[38;5;241;43m*\u001b[39;49m\u001b[38;5;241;43m*\u001b[39;49m\u001b[43mkwargs\u001b[49m\u001b[43m)\u001b[49m\n\u001b[1;32m    287\u001b[0m     filename \u001b[38;5;241m=\u001b[39m kwargs[\u001b[38;5;124m'\u001b[39m\u001b[38;5;124moutput_filename_base\u001b[39m\u001b[38;5;124m'\u001b[39m] \u001b[38;5;241m+\u001b[39m extsep \u001b[38;5;241m+\u001b[39m extension\n\u001b[1;32m    288\u001b[0m     \u001b[38;5;28;01mwith\u001b[39;00m \u001b[38;5;28mopen\u001b[39m(filename, \u001b[38;5;124m'\u001b[39m\u001b[38;5;124mrb\u001b[39m\u001b[38;5;124m'\u001b[39m) \u001b[38;5;28;01mas\u001b[39;00m output_file:\n",
      "File \u001b[0;32m~/PycharmProjects/ocr_data_generation/venv/lib/python3.9/site-packages/pytesseract/pytesseract.py:262\u001b[0m, in \u001b[0;36mrun_tesseract\u001b[0;34m(input_filename, output_filename_base, extension, lang, config, nice, timeout)\u001b[0m\n\u001b[1;32m    260\u001b[0m \u001b[38;5;28;01mwith\u001b[39;00m timeout_manager(proc, timeout) \u001b[38;5;28;01mas\u001b[39;00m error_string:\n\u001b[1;32m    261\u001b[0m     \u001b[38;5;28;01mif\u001b[39;00m proc\u001b[38;5;241m.\u001b[39mreturncode:\n\u001b[0;32m--> 262\u001b[0m         \u001b[38;5;28;01mraise\u001b[39;00m TesseractError(proc\u001b[38;5;241m.\u001b[39mreturncode, get_errors(error_string))\n",
      "\u001b[0;31mTesseractError\u001b[0m: (1, 'Error opening data file /usr/share/tessdata/eng.traineddata Please make sure the TESSDATA_PREFIX environment variable is set to your \"tessdata\" directory. Failed loading language \\'eng\\' Tesseract couldn\\'t load any languages! Could not initialize tesseract.')"
     ]
    }
   ],
   "source": [
    "print(pytesseract.image_to_string(im))"
   ]
  },
  {
   "cell_type": "code",
   "execution_count": 71,
   "metadata": {},
   "outputs": [
    {
     "ename": "TesseractError",
     "evalue": "(1, 'UZN file /tmp/tess_kb9eg5ko loaded. Estimating resolution as 304 UZN file /tmp/tess_kb9eg5ko loaded. Warning. Invalid resolution 0 dpi. Using 70 instead. Too few characters. Skipping this page Error during processing.')",
     "output_type": "error",
     "traceback": [
      "\u001b[0;31m---------------------------------------------------------------------------\u001b[0m",
      "\u001b[0;31mTesseractError\u001b[0m                            Traceback (most recent call last)",
      "Input \u001b[0;32mIn [71]\u001b[0m, in \u001b[0;36m<cell line: 1>\u001b[0;34m()\u001b[0m\n\u001b[0;32m----> 1\u001b[0m osd \u001b[38;5;241m=\u001b[39m \u001b[43mpytesseract\u001b[49m\u001b[38;5;241;43m.\u001b[39;49m\u001b[43mimage_to_osd\u001b[49m\u001b[43m(\u001b[49m\u001b[43mim\u001b[49m\u001b[43m,\u001b[49m\u001b[43m \u001b[49m\u001b[43moutput_type\u001b[49m\u001b[38;5;241;43m=\u001b[39;49m\u001b[43mOutput\u001b[49m\u001b[38;5;241;43m.\u001b[39;49m\u001b[43mDICT\u001b[49m\u001b[43m)\u001b[49m\n\u001b[1;32m      2\u001b[0m osd\n",
      "File \u001b[0;32m~/PycharmProjects/ocr_data_generation/venv/lib/python3.9/site-packages/pytesseract/pytesseract.py:545\u001b[0m, in \u001b[0;36mimage_to_osd\u001b[0;34m(image, lang, config, nice, output_type, timeout)\u001b[0m\n\u001b[1;32m    542\u001b[0m config \u001b[38;5;241m=\u001b[39m \u001b[38;5;124mf\u001b[39m\u001b[38;5;124m'\u001b[39m\u001b[38;5;124m--psm 0 \u001b[39m\u001b[38;5;132;01m{\u001b[39;00mconfig\u001b[38;5;241m.\u001b[39mstrip()\u001b[38;5;132;01m}\u001b[39;00m\u001b[38;5;124m'\u001b[39m\n\u001b[1;32m    543\u001b[0m args \u001b[38;5;241m=\u001b[39m [image, \u001b[38;5;124m'\u001b[39m\u001b[38;5;124mosd\u001b[39m\u001b[38;5;124m'\u001b[39m, lang, config, nice, timeout]\n\u001b[0;32m--> 545\u001b[0m \u001b[38;5;28;01mreturn\u001b[39;00m \u001b[43m{\u001b[49m\n\u001b[1;32m    546\u001b[0m \u001b[43m    \u001b[49m\u001b[43mOutput\u001b[49m\u001b[38;5;241;43m.\u001b[39;49m\u001b[43mBYTES\u001b[49m\u001b[43m:\u001b[49m\u001b[43m \u001b[49m\u001b[38;5;28;43;01mlambda\u001b[39;49;00m\u001b[43m:\u001b[49m\u001b[43m \u001b[49m\u001b[43mrun_and_get_output\u001b[49m\u001b[43m(\u001b[49m\u001b[38;5;241;43m*\u001b[39;49m\u001b[43m(\u001b[49m\u001b[43margs\u001b[49m\u001b[43m \u001b[49m\u001b[38;5;241;43m+\u001b[39;49m\u001b[43m \u001b[49m\u001b[43m[\u001b[49m\u001b[38;5;28;43;01mTrue\u001b[39;49;00m\u001b[43m]\u001b[49m\u001b[43m)\u001b[49m\u001b[43m)\u001b[49m\u001b[43m,\u001b[49m\n\u001b[1;32m    547\u001b[0m \u001b[43m    \u001b[49m\u001b[43mOutput\u001b[49m\u001b[38;5;241;43m.\u001b[39;49m\u001b[43mDICT\u001b[49m\u001b[43m:\u001b[49m\u001b[43m \u001b[49m\u001b[38;5;28;43;01mlambda\u001b[39;49;00m\u001b[43m:\u001b[49m\u001b[43m \u001b[49m\u001b[43mosd_to_dict\u001b[49m\u001b[43m(\u001b[49m\u001b[43mrun_and_get_output\u001b[49m\u001b[43m(\u001b[49m\u001b[38;5;241;43m*\u001b[39;49m\u001b[43margs\u001b[49m\u001b[43m)\u001b[49m\u001b[43m)\u001b[49m\u001b[43m,\u001b[49m\n\u001b[1;32m    548\u001b[0m \u001b[43m    \u001b[49m\u001b[43mOutput\u001b[49m\u001b[38;5;241;43m.\u001b[39;49m\u001b[43mSTRING\u001b[49m\u001b[43m:\u001b[49m\u001b[43m \u001b[49m\u001b[38;5;28;43;01mlambda\u001b[39;49;00m\u001b[43m:\u001b[49m\u001b[43m \u001b[49m\u001b[43mrun_and_get_output\u001b[49m\u001b[43m(\u001b[49m\u001b[38;5;241;43m*\u001b[39;49m\u001b[43margs\u001b[49m\u001b[43m)\u001b[49m\u001b[43m,\u001b[49m\n\u001b[1;32m    549\u001b[0m \u001b[43m\u001b[49m\u001b[43m}\u001b[49m\u001b[43m[\u001b[49m\u001b[43moutput_type\u001b[49m\u001b[43m]\u001b[49m\u001b[43m(\u001b[49m\u001b[43m)\u001b[49m\n",
      "File \u001b[0;32m~/PycharmProjects/ocr_data_generation/venv/lib/python3.9/site-packages/pytesseract/pytesseract.py:547\u001b[0m, in \u001b[0;36mimage_to_osd.<locals>.<lambda>\u001b[0;34m()\u001b[0m\n\u001b[1;32m    542\u001b[0m config \u001b[38;5;241m=\u001b[39m \u001b[38;5;124mf\u001b[39m\u001b[38;5;124m'\u001b[39m\u001b[38;5;124m--psm 0 \u001b[39m\u001b[38;5;132;01m{\u001b[39;00mconfig\u001b[38;5;241m.\u001b[39mstrip()\u001b[38;5;132;01m}\u001b[39;00m\u001b[38;5;124m'\u001b[39m\n\u001b[1;32m    543\u001b[0m args \u001b[38;5;241m=\u001b[39m [image, \u001b[38;5;124m'\u001b[39m\u001b[38;5;124mosd\u001b[39m\u001b[38;5;124m'\u001b[39m, lang, config, nice, timeout]\n\u001b[1;32m    545\u001b[0m \u001b[38;5;28;01mreturn\u001b[39;00m {\n\u001b[1;32m    546\u001b[0m     Output\u001b[38;5;241m.\u001b[39mBYTES: \u001b[38;5;28;01mlambda\u001b[39;00m: run_and_get_output(\u001b[38;5;241m*\u001b[39m(args \u001b[38;5;241m+\u001b[39m [\u001b[38;5;28;01mTrue\u001b[39;00m])),\n\u001b[0;32m--> 547\u001b[0m     Output\u001b[38;5;241m.\u001b[39mDICT: \u001b[38;5;28;01mlambda\u001b[39;00m: osd_to_dict(\u001b[43mrun_and_get_output\u001b[49m\u001b[43m(\u001b[49m\u001b[38;5;241;43m*\u001b[39;49m\u001b[43margs\u001b[49m\u001b[43m)\u001b[49m),\n\u001b[1;32m    548\u001b[0m     Output\u001b[38;5;241m.\u001b[39mSTRING: \u001b[38;5;28;01mlambda\u001b[39;00m: run_and_get_output(\u001b[38;5;241m*\u001b[39margs),\n\u001b[1;32m    549\u001b[0m }[output_type]()\n",
      "File \u001b[0;32m~/PycharmProjects/ocr_data_generation/venv/lib/python3.9/site-packages/pytesseract/pytesseract.py:286\u001b[0m, in \u001b[0;36mrun_and_get_output\u001b[0;34m(image, extension, lang, config, nice, timeout, return_bytes)\u001b[0m\n\u001b[1;32m    275\u001b[0m \u001b[38;5;28;01mwith\u001b[39;00m save(image) \u001b[38;5;28;01mas\u001b[39;00m (temp_name, input_filename):\n\u001b[1;32m    276\u001b[0m     kwargs \u001b[38;5;241m=\u001b[39m {\n\u001b[1;32m    277\u001b[0m         \u001b[38;5;124m'\u001b[39m\u001b[38;5;124minput_filename\u001b[39m\u001b[38;5;124m'\u001b[39m: input_filename,\n\u001b[1;32m    278\u001b[0m         \u001b[38;5;124m'\u001b[39m\u001b[38;5;124moutput_filename_base\u001b[39m\u001b[38;5;124m'\u001b[39m: temp_name,\n\u001b[0;32m   (...)\u001b[0m\n\u001b[1;32m    283\u001b[0m         \u001b[38;5;124m'\u001b[39m\u001b[38;5;124mtimeout\u001b[39m\u001b[38;5;124m'\u001b[39m: timeout,\n\u001b[1;32m    284\u001b[0m     }\n\u001b[0;32m--> 286\u001b[0m     \u001b[43mrun_tesseract\u001b[49m\u001b[43m(\u001b[49m\u001b[38;5;241;43m*\u001b[39;49m\u001b[38;5;241;43m*\u001b[39;49m\u001b[43mkwargs\u001b[49m\u001b[43m)\u001b[49m\n\u001b[1;32m    287\u001b[0m     filename \u001b[38;5;241m=\u001b[39m kwargs[\u001b[38;5;124m'\u001b[39m\u001b[38;5;124moutput_filename_base\u001b[39m\u001b[38;5;124m'\u001b[39m] \u001b[38;5;241m+\u001b[39m extsep \u001b[38;5;241m+\u001b[39m extension\n\u001b[1;32m    288\u001b[0m     \u001b[38;5;28;01mwith\u001b[39;00m \u001b[38;5;28mopen\u001b[39m(filename, \u001b[38;5;124m'\u001b[39m\u001b[38;5;124mrb\u001b[39m\u001b[38;5;124m'\u001b[39m) \u001b[38;5;28;01mas\u001b[39;00m output_file:\n",
      "File \u001b[0;32m~/PycharmProjects/ocr_data_generation/venv/lib/python3.9/site-packages/pytesseract/pytesseract.py:262\u001b[0m, in \u001b[0;36mrun_tesseract\u001b[0;34m(input_filename, output_filename_base, extension, lang, config, nice, timeout)\u001b[0m\n\u001b[1;32m    260\u001b[0m \u001b[38;5;28;01mwith\u001b[39;00m timeout_manager(proc, timeout) \u001b[38;5;28;01mas\u001b[39;00m error_string:\n\u001b[1;32m    261\u001b[0m     \u001b[38;5;28;01mif\u001b[39;00m proc\u001b[38;5;241m.\u001b[39mreturncode:\n\u001b[0;32m--> 262\u001b[0m         \u001b[38;5;28;01mraise\u001b[39;00m TesseractError(proc\u001b[38;5;241m.\u001b[39mreturncode, get_errors(error_string))\n",
      "\u001b[0;31mTesseractError\u001b[0m: (1, 'UZN file /tmp/tess_kb9eg5ko loaded. Estimating resolution as 304 UZN file /tmp/tess_kb9eg5ko loaded. Warning. Invalid resolution 0 dpi. Using 70 instead. Too few characters. Skipping this page Error during processing.')"
     ]
    }
   ],
   "source": [
    "osd = pytesseract.image_to_osd(im, output_type=Output.DICT)\n",
    "osd"
   ]
  },
  {
   "cell_type": "code",
   "execution_count": 118,
   "metadata": {},
   "outputs": [
    {
     "ename": "TesseractError",
     "evalue": "(1, 'Error opening data file /usr/share/tessdata/eng.traineddata Please make sure the TESSDATA_PREFIX environment variable is set to your \"tessdata\" directory. Failed loading language \\'eng\\' Tesseract couldn\\'t load any languages! Could not initialize tesseract.')",
     "output_type": "error",
     "traceback": [
      "\u001b[0;31m---------------------------------------------------------------------------\u001b[0m",
      "\u001b[0;31mTesseractError\u001b[0m                            Traceback (most recent call last)",
      "Input \u001b[0;32mIn [118]\u001b[0m, in \u001b[0;36m<cell line: 1>\u001b[0;34m()\u001b[0m\n\u001b[0;32m----> 1\u001b[0m osd \u001b[38;5;241m=\u001b[39m \u001b[43mpytesseract\u001b[49m\u001b[38;5;241;43m.\u001b[39;49m\u001b[43mimage_to_data\u001b[49m\u001b[43m(\u001b[49m\u001b[43mFILE_PATH\u001b[49m\u001b[43m \u001b[49m\u001b[38;5;241;43m+\u001b[39;49m\u001b[43m \u001b[49m\u001b[38;5;124;43m'\u001b[39;49m\u001b[38;5;124;43m013.png\u001b[39;49m\u001b[38;5;124;43m'\u001b[39;49m\u001b[43m,\u001b[49m\u001b[43m \u001b[49m\u001b[43moutput_type\u001b[49m\u001b[38;5;241;43m=\u001b[39;49m\u001b[43mOutput\u001b[49m\u001b[38;5;241;43m.\u001b[39;49m\u001b[43mDICT\u001b[49m\u001b[43m)\u001b[49m\n\u001b[1;32m      2\u001b[0m osd\n",
      "File \u001b[0;32m~/PycharmProjects/ocr_data_generation/venv/lib/python3.9/site-packages/pytesseract/pytesseract.py:520\u001b[0m, in \u001b[0;36mimage_to_data\u001b[0;34m(image, lang, config, nice, output_type, timeout, pandas_config)\u001b[0m\n\u001b[1;32m    517\u001b[0m config \u001b[38;5;241m=\u001b[39m \u001b[38;5;124mf\u001b[39m\u001b[38;5;124m'\u001b[39m\u001b[38;5;124m-c tessedit_create_tsv=1 \u001b[39m\u001b[38;5;132;01m{\u001b[39;00mconfig\u001b[38;5;241m.\u001b[39mstrip()\u001b[38;5;132;01m}\u001b[39;00m\u001b[38;5;124m'\u001b[39m\n\u001b[1;32m    518\u001b[0m args \u001b[38;5;241m=\u001b[39m [image, \u001b[38;5;124m'\u001b[39m\u001b[38;5;124mtsv\u001b[39m\u001b[38;5;124m'\u001b[39m, lang, config, nice, timeout]\n\u001b[0;32m--> 520\u001b[0m \u001b[38;5;28;01mreturn\u001b[39;00m \u001b[43m{\u001b[49m\n\u001b[1;32m    521\u001b[0m \u001b[43m    \u001b[49m\u001b[43mOutput\u001b[49m\u001b[38;5;241;43m.\u001b[39;49m\u001b[43mBYTES\u001b[49m\u001b[43m:\u001b[49m\u001b[43m \u001b[49m\u001b[38;5;28;43;01mlambda\u001b[39;49;00m\u001b[43m:\u001b[49m\u001b[43m \u001b[49m\u001b[43mrun_and_get_output\u001b[49m\u001b[43m(\u001b[49m\u001b[38;5;241;43m*\u001b[39;49m\u001b[43m(\u001b[49m\u001b[43margs\u001b[49m\u001b[43m \u001b[49m\u001b[38;5;241;43m+\u001b[39;49m\u001b[43m \u001b[49m\u001b[43m[\u001b[49m\u001b[38;5;28;43;01mTrue\u001b[39;49;00m\u001b[43m]\u001b[49m\u001b[43m)\u001b[49m\u001b[43m)\u001b[49m\u001b[43m,\u001b[49m\n\u001b[1;32m    522\u001b[0m \u001b[43m    \u001b[49m\u001b[43mOutput\u001b[49m\u001b[38;5;241;43m.\u001b[39;49m\u001b[43mDATAFRAME\u001b[49m\u001b[43m:\u001b[49m\u001b[43m \u001b[49m\u001b[38;5;28;43;01mlambda\u001b[39;49;00m\u001b[43m:\u001b[49m\u001b[43m \u001b[49m\u001b[43mget_pandas_output\u001b[49m\u001b[43m(\u001b[49m\n\u001b[1;32m    523\u001b[0m \u001b[43m        \u001b[49m\u001b[43margs\u001b[49m\u001b[43m \u001b[49m\u001b[38;5;241;43m+\u001b[39;49m\u001b[43m \u001b[49m\u001b[43m[\u001b[49m\u001b[38;5;28;43;01mTrue\u001b[39;49;00m\u001b[43m]\u001b[49m\u001b[43m,\u001b[49m\n\u001b[1;32m    524\u001b[0m \u001b[43m        \u001b[49m\u001b[43mpandas_config\u001b[49m\u001b[43m,\u001b[49m\n\u001b[1;32m    525\u001b[0m \u001b[43m    \u001b[49m\u001b[43m)\u001b[49m\u001b[43m,\u001b[49m\n\u001b[1;32m    526\u001b[0m \u001b[43m    \u001b[49m\u001b[43mOutput\u001b[49m\u001b[38;5;241;43m.\u001b[39;49m\u001b[43mDICT\u001b[49m\u001b[43m:\u001b[49m\u001b[43m \u001b[49m\u001b[38;5;28;43;01mlambda\u001b[39;49;00m\u001b[43m:\u001b[49m\u001b[43m \u001b[49m\u001b[43mfile_to_dict\u001b[49m\u001b[43m(\u001b[49m\u001b[43mrun_and_get_output\u001b[49m\u001b[43m(\u001b[49m\u001b[38;5;241;43m*\u001b[39;49m\u001b[43margs\u001b[49m\u001b[43m)\u001b[49m\u001b[43m,\u001b[49m\u001b[43m \u001b[49m\u001b[38;5;124;43m'\u001b[39;49m\u001b[38;5;130;43;01m\\t\u001b[39;49;00m\u001b[38;5;124;43m'\u001b[39;49m\u001b[43m,\u001b[49m\u001b[43m \u001b[49m\u001b[38;5;241;43m-\u001b[39;49m\u001b[38;5;241;43m1\u001b[39;49m\u001b[43m)\u001b[49m\u001b[43m,\u001b[49m\n\u001b[1;32m    527\u001b[0m \u001b[43m    \u001b[49m\u001b[43mOutput\u001b[49m\u001b[38;5;241;43m.\u001b[39;49m\u001b[43mSTRING\u001b[49m\u001b[43m:\u001b[49m\u001b[43m \u001b[49m\u001b[38;5;28;43;01mlambda\u001b[39;49;00m\u001b[43m:\u001b[49m\u001b[43m \u001b[49m\u001b[43mrun_and_get_output\u001b[49m\u001b[43m(\u001b[49m\u001b[38;5;241;43m*\u001b[39;49m\u001b[43margs\u001b[49m\u001b[43m)\u001b[49m\u001b[43m,\u001b[49m\n\u001b[1;32m    528\u001b[0m \u001b[43m\u001b[49m\u001b[43m}\u001b[49m\u001b[43m[\u001b[49m\u001b[43moutput_type\u001b[49m\u001b[43m]\u001b[49m\u001b[43m(\u001b[49m\u001b[43m)\u001b[49m\n",
      "File \u001b[0;32m~/PycharmProjects/ocr_data_generation/venv/lib/python3.9/site-packages/pytesseract/pytesseract.py:526\u001b[0m, in \u001b[0;36mimage_to_data.<locals>.<lambda>\u001b[0;34m()\u001b[0m\n\u001b[1;32m    517\u001b[0m config \u001b[38;5;241m=\u001b[39m \u001b[38;5;124mf\u001b[39m\u001b[38;5;124m'\u001b[39m\u001b[38;5;124m-c tessedit_create_tsv=1 \u001b[39m\u001b[38;5;132;01m{\u001b[39;00mconfig\u001b[38;5;241m.\u001b[39mstrip()\u001b[38;5;132;01m}\u001b[39;00m\u001b[38;5;124m'\u001b[39m\n\u001b[1;32m    518\u001b[0m args \u001b[38;5;241m=\u001b[39m [image, \u001b[38;5;124m'\u001b[39m\u001b[38;5;124mtsv\u001b[39m\u001b[38;5;124m'\u001b[39m, lang, config, nice, timeout]\n\u001b[1;32m    520\u001b[0m \u001b[38;5;28;01mreturn\u001b[39;00m {\n\u001b[1;32m    521\u001b[0m     Output\u001b[38;5;241m.\u001b[39mBYTES: \u001b[38;5;28;01mlambda\u001b[39;00m: run_and_get_output(\u001b[38;5;241m*\u001b[39m(args \u001b[38;5;241m+\u001b[39m [\u001b[38;5;28;01mTrue\u001b[39;00m])),\n\u001b[1;32m    522\u001b[0m     Output\u001b[38;5;241m.\u001b[39mDATAFRAME: \u001b[38;5;28;01mlambda\u001b[39;00m: get_pandas_output(\n\u001b[1;32m    523\u001b[0m         args \u001b[38;5;241m+\u001b[39m [\u001b[38;5;28;01mTrue\u001b[39;00m],\n\u001b[1;32m    524\u001b[0m         pandas_config,\n\u001b[1;32m    525\u001b[0m     ),\n\u001b[0;32m--> 526\u001b[0m     Output\u001b[38;5;241m.\u001b[39mDICT: \u001b[38;5;28;01mlambda\u001b[39;00m: file_to_dict(\u001b[43mrun_and_get_output\u001b[49m\u001b[43m(\u001b[49m\u001b[38;5;241;43m*\u001b[39;49m\u001b[43margs\u001b[49m\u001b[43m)\u001b[49m, \u001b[38;5;124m'\u001b[39m\u001b[38;5;130;01m\\t\u001b[39;00m\u001b[38;5;124m'\u001b[39m, \u001b[38;5;241m-\u001b[39m\u001b[38;5;241m1\u001b[39m),\n\u001b[1;32m    527\u001b[0m     Output\u001b[38;5;241m.\u001b[39mSTRING: \u001b[38;5;28;01mlambda\u001b[39;00m: run_and_get_output(\u001b[38;5;241m*\u001b[39margs),\n\u001b[1;32m    528\u001b[0m }[output_type]()\n",
      "File \u001b[0;32m~/PycharmProjects/ocr_data_generation/venv/lib/python3.9/site-packages/pytesseract/pytesseract.py:286\u001b[0m, in \u001b[0;36mrun_and_get_output\u001b[0;34m(image, extension, lang, config, nice, timeout, return_bytes)\u001b[0m\n\u001b[1;32m    275\u001b[0m \u001b[38;5;28;01mwith\u001b[39;00m save(image) \u001b[38;5;28;01mas\u001b[39;00m (temp_name, input_filename):\n\u001b[1;32m    276\u001b[0m     kwargs \u001b[38;5;241m=\u001b[39m {\n\u001b[1;32m    277\u001b[0m         \u001b[38;5;124m'\u001b[39m\u001b[38;5;124minput_filename\u001b[39m\u001b[38;5;124m'\u001b[39m: input_filename,\n\u001b[1;32m    278\u001b[0m         \u001b[38;5;124m'\u001b[39m\u001b[38;5;124moutput_filename_base\u001b[39m\u001b[38;5;124m'\u001b[39m: temp_name,\n\u001b[0;32m   (...)\u001b[0m\n\u001b[1;32m    283\u001b[0m         \u001b[38;5;124m'\u001b[39m\u001b[38;5;124mtimeout\u001b[39m\u001b[38;5;124m'\u001b[39m: timeout,\n\u001b[1;32m    284\u001b[0m     }\n\u001b[0;32m--> 286\u001b[0m     \u001b[43mrun_tesseract\u001b[49m\u001b[43m(\u001b[49m\u001b[38;5;241;43m*\u001b[39;49m\u001b[38;5;241;43m*\u001b[39;49m\u001b[43mkwargs\u001b[49m\u001b[43m)\u001b[49m\n\u001b[1;32m    287\u001b[0m     filename \u001b[38;5;241m=\u001b[39m kwargs[\u001b[38;5;124m'\u001b[39m\u001b[38;5;124moutput_filename_base\u001b[39m\u001b[38;5;124m'\u001b[39m] \u001b[38;5;241m+\u001b[39m extsep \u001b[38;5;241m+\u001b[39m extension\n\u001b[1;32m    288\u001b[0m     \u001b[38;5;28;01mwith\u001b[39;00m \u001b[38;5;28mopen\u001b[39m(filename, \u001b[38;5;124m'\u001b[39m\u001b[38;5;124mrb\u001b[39m\u001b[38;5;124m'\u001b[39m) \u001b[38;5;28;01mas\u001b[39;00m output_file:\n",
      "File \u001b[0;32m~/PycharmProjects/ocr_data_generation/venv/lib/python3.9/site-packages/pytesseract/pytesseract.py:262\u001b[0m, in \u001b[0;36mrun_tesseract\u001b[0;34m(input_filename, output_filename_base, extension, lang, config, nice, timeout)\u001b[0m\n\u001b[1;32m    260\u001b[0m \u001b[38;5;28;01mwith\u001b[39;00m timeout_manager(proc, timeout) \u001b[38;5;28;01mas\u001b[39;00m error_string:\n\u001b[1;32m    261\u001b[0m     \u001b[38;5;28;01mif\u001b[39;00m proc\u001b[38;5;241m.\u001b[39mreturncode:\n\u001b[0;32m--> 262\u001b[0m         \u001b[38;5;28;01mraise\u001b[39;00m TesseractError(proc\u001b[38;5;241m.\u001b[39mreturncode, get_errors(error_string))\n",
      "\u001b[0;31mTesseractError\u001b[0m: (1, 'Error opening data file /usr/share/tessdata/eng.traineddata Please make sure the TESSDATA_PREFIX environment variable is set to your \"tessdata\" directory. Failed loading language \\'eng\\' Tesseract couldn\\'t load any languages! Could not initialize tesseract.')"
     ]
    }
   ],
   "source": [
    "osd = pytesseract.image_to_data(FILE_PATH + '013.png', output_type=Output.DICT)\n",
    "osd"
   ]
  },
  {
   "cell_type": "code",
   "execution_count": 105,
   "metadata": {},
   "outputs": [
    {
     "data": {
      "text/plain": [
       "['000.jpg',\n",
       " '001.jpg',\n",
       " '002.jpg',\n",
       " '003.jpg',\n",
       " '004.jpg',\n",
       " '005.jpg',\n",
       " '006.jpg',\n",
       " '007.jpg',\n",
       " '008.jpg',\n",
       " '009.jpg',\n",
       " '010.jpg',\n",
       " '011.jpg',\n",
       " '012.jpg',\n",
       " '013.jpg',\n",
       " '014.jpg',\n",
       " '015.jpg',\n",
       " '016.jpg',\n",
       " '017.jpg',\n",
       " '018.jpg',\n",
       " '019.jpg',\n",
       " '020.jpg',\n",
       " '021.jpg',\n",
       " '022.jpg',\n",
       " '023.jpg',\n",
       " '024.jpg',\n",
       " '025.jpg',\n",
       " '026.jpg',\n",
       " '027.jpg',\n",
       " '028.jpg',\n",
       " '029.jpg',\n",
       " '030.jpg',\n",
       " '031.jpg',\n",
       " '032.jpg',\n",
       " '033.jpg',\n",
       " '034.jpg',\n",
       " '035.jpg',\n",
       " '036.jpg',\n",
       " '037.jpg',\n",
       " '038.jpg',\n",
       " '039.jpg',\n",
       " '040.jpg',\n",
       " '041.jpg',\n",
       " '042.jpg',\n",
       " '043.jpg',\n",
       " '044.jpg',\n",
       " '045.jpg',\n",
       " '046.jpg',\n",
       " '047.jpg',\n",
       " '048.jpg',\n",
       " '049.jpg',\n",
       " '050.jpg',\n",
       " '051.jpg',\n",
       " '052.jpg',\n",
       " '053.jpg',\n",
       " '054.jpg',\n",
       " '055.jpg',\n",
       " '056.jpg',\n",
       " '057.jpg',\n",
       " '058.jpg',\n",
       " '059.jpg',\n",
       " '060.jpg',\n",
       " '061.jpg',\n",
       " '062.jpg',\n",
       " '063.jpg',\n",
       " '064.jpg',\n",
       " '065.jpg',\n",
       " '066.jpg',\n",
       " '067.jpg',\n",
       " '068.jpg',\n",
       " '069.jpg',\n",
       " '070.jpg',\n",
       " '071.jpg',\n",
       " '072.jpg',\n",
       " '073.jpg',\n",
       " '074.jpg',\n",
       " '075.jpg',\n",
       " '076.jpg',\n",
       " '077.jpg',\n",
       " '078.jpg',\n",
       " '079.jpg',\n",
       " '080.jpg',\n",
       " '081.jpg',\n",
       " '082.jpg',\n",
       " '083.jpg',\n",
       " '084.jpg',\n",
       " '085.jpg',\n",
       " '086.jpg',\n",
       " '087.jpg',\n",
       " '088.jpg',\n",
       " '089.jpg',\n",
       " '090.jpg',\n",
       " '091.jpg',\n",
       " '092.jpg',\n",
       " '093.jpg',\n",
       " '094.jpg',\n",
       " '095.jpg',\n",
       " '096.jpg',\n",
       " '097.jpg',\n",
       " '098.jpg',\n",
       " '099.jpg',\n",
       " '100.jpg',\n",
       " '101.jpg',\n",
       " '102.jpg',\n",
       " '103.jpg',\n",
       " '104.jpg',\n",
       " '105.jpg',\n",
       " '106.jpg',\n",
       " '107.jpg',\n",
       " '108.jpg',\n",
       " '109.jpg',\n",
       " '110.jpg',\n",
       " '111.jpg',\n",
       " '112.jpg',\n",
       " '113.jpg',\n",
       " '114.jpg',\n",
       " '115.jpg',\n",
       " '116.jpg',\n",
       " '117.jpg',\n",
       " '118.jpg',\n",
       " '119.jpg',\n",
       " '120.jpg',\n",
       " '121.jpg',\n",
       " '122.jpg',\n",
       " '123.jpg',\n",
       " '124.jpg',\n",
       " '125.jpg',\n",
       " '126.jpg',\n",
       " '127.jpg',\n",
       " '128.jpg',\n",
       " '129.jpg',\n",
       " '130.jpg',\n",
       " '131.jpg',\n",
       " '132.jpg',\n",
       " '133.jpg',\n",
       " '134.jpg',\n",
       " '135.jpg',\n",
       " '136.jpg',\n",
       " '137.jpg',\n",
       " '138.jpg',\n",
       " '139.jpg',\n",
       " '140.jpg',\n",
       " '141.jpg',\n",
       " '142.jpg',\n",
       " '143.jpg',\n",
       " '144.jpg',\n",
       " '145.jpg',\n",
       " '146.jpg',\n",
       " '147.jpg',\n",
       " '148.jpg',\n",
       " '149.jpg',\n",
       " '150.jpg',\n",
       " '151.jpg',\n",
       " '152.jpg',\n",
       " '153.jpg',\n",
       " '154.jpg',\n",
       " '155.jpg',\n",
       " '156.jpg',\n",
       " '157.jpg',\n",
       " '158.jpg',\n",
       " '159.jpg',\n",
       " '160.jpg',\n",
       " '161.jpg',\n",
       " '162.jpg',\n",
       " '163.jpg',\n",
       " '164.jpg',\n",
       " '165.jpg',\n",
       " '166.jpg',\n",
       " '167.jpg',\n",
       " '168.jpg',\n",
       " '169.jpg',\n",
       " '170.jpg',\n",
       " '171.jpg',\n",
       " '172.jpg',\n",
       " '173.jpg',\n",
       " '174.jpg',\n",
       " '175.jpg',\n",
       " '176.jpg',\n",
       " '177.jpg',\n",
       " '178.jpg',\n",
       " '179.jpg',\n",
       " '180.jpg',\n",
       " '181.jpg',\n",
       " '182.jpg',\n",
       " '183.jpg',\n",
       " '184.jpg',\n",
       " '185.jpg',\n",
       " '186.jpg',\n",
       " '187.jpg',\n",
       " '188.jpg',\n",
       " '189.jpg',\n",
       " '190.jpg',\n",
       " '191.jpg',\n",
       " '192.jpg',\n",
       " '193.jpg',\n",
       " '194.jpg',\n",
       " '195.jpg',\n",
       " '196.jpg',\n",
       " '197.jpg',\n",
       " '198.jpg',\n",
       " '199.jpg',\n",
       " '200.jpg',\n",
       " '201.jpg',\n",
       " '202.jpg']"
      ]
     },
     "execution_count": 105,
     "metadata": {},
     "output_type": "execute_result"
    }
   ],
   "source": [
    "photo_list_1"
   ]
  },
  {
   "cell_type": "code",
   "execution_count": null,
   "metadata": {},
   "outputs": [],
   "source": []
  },
  {
   "cell_type": "code",
   "execution_count": 111,
   "metadata": {},
   "outputs": [],
   "source": [
    "img = cv2.imread(FILE_PATH_1 + photo_list_1[0])\n",
    "img = cv2.cvtColor(img, cv2.COLOR_BGR2GRAY)"
   ]
  },
  {
   "cell_type": "code",
   "execution_count": 112,
   "metadata": {},
   "outputs": [
    {
     "ename": "TesseractError",
     "evalue": "(1, 'UZN file /tmp/tess_ra3b8fy1 loaded. Estimating resolution as 500 UZN file /tmp/tess_ra3b8fy1 loaded. Warning. Invalid resolution 0 dpi. Using 70 instead. Too few characters. Skipping this page Error during processing.')",
     "output_type": "error",
     "traceback": [
      "\u001b[0;31m---------------------------------------------------------------------------\u001b[0m",
      "\u001b[0;31mTesseractError\u001b[0m                            Traceback (most recent call last)",
      "Input \u001b[0;32mIn [112]\u001b[0m, in \u001b[0;36m<cell line: 1>\u001b[0;34m()\u001b[0m\n\u001b[0;32m----> 1\u001b[0m osd \u001b[38;5;241m=\u001b[39m \u001b[43mpytesseract\u001b[49m\u001b[38;5;241;43m.\u001b[39;49m\u001b[43mimage_to_osd\u001b[49m\u001b[43m(\u001b[49m\u001b[43mimg\u001b[49m\u001b[43m,\u001b[49m\u001b[43m \u001b[49m\u001b[43moutput_type\u001b[49m\u001b[38;5;241;43m=\u001b[39;49m\u001b[43mOutput\u001b[49m\u001b[38;5;241;43m.\u001b[39;49m\u001b[43mDICT\u001b[49m\u001b[43m)\u001b[49m\n\u001b[1;32m      2\u001b[0m osd\n",
      "File \u001b[0;32m~/PycharmProjects/ocr_data_generation/venv/lib/python3.9/site-packages/pytesseract/pytesseract.py:545\u001b[0m, in \u001b[0;36mimage_to_osd\u001b[0;34m(image, lang, config, nice, output_type, timeout)\u001b[0m\n\u001b[1;32m    542\u001b[0m config \u001b[38;5;241m=\u001b[39m \u001b[38;5;124mf\u001b[39m\u001b[38;5;124m'\u001b[39m\u001b[38;5;124m--psm 0 \u001b[39m\u001b[38;5;132;01m{\u001b[39;00mconfig\u001b[38;5;241m.\u001b[39mstrip()\u001b[38;5;132;01m}\u001b[39;00m\u001b[38;5;124m'\u001b[39m\n\u001b[1;32m    543\u001b[0m args \u001b[38;5;241m=\u001b[39m [image, \u001b[38;5;124m'\u001b[39m\u001b[38;5;124mosd\u001b[39m\u001b[38;5;124m'\u001b[39m, lang, config, nice, timeout]\n\u001b[0;32m--> 545\u001b[0m \u001b[38;5;28;01mreturn\u001b[39;00m \u001b[43m{\u001b[49m\n\u001b[1;32m    546\u001b[0m \u001b[43m    \u001b[49m\u001b[43mOutput\u001b[49m\u001b[38;5;241;43m.\u001b[39;49m\u001b[43mBYTES\u001b[49m\u001b[43m:\u001b[49m\u001b[43m \u001b[49m\u001b[38;5;28;43;01mlambda\u001b[39;49;00m\u001b[43m:\u001b[49m\u001b[43m \u001b[49m\u001b[43mrun_and_get_output\u001b[49m\u001b[43m(\u001b[49m\u001b[38;5;241;43m*\u001b[39;49m\u001b[43m(\u001b[49m\u001b[43margs\u001b[49m\u001b[43m \u001b[49m\u001b[38;5;241;43m+\u001b[39;49m\u001b[43m \u001b[49m\u001b[43m[\u001b[49m\u001b[38;5;28;43;01mTrue\u001b[39;49;00m\u001b[43m]\u001b[49m\u001b[43m)\u001b[49m\u001b[43m)\u001b[49m\u001b[43m,\u001b[49m\n\u001b[1;32m    547\u001b[0m \u001b[43m    \u001b[49m\u001b[43mOutput\u001b[49m\u001b[38;5;241;43m.\u001b[39;49m\u001b[43mDICT\u001b[49m\u001b[43m:\u001b[49m\u001b[43m \u001b[49m\u001b[38;5;28;43;01mlambda\u001b[39;49;00m\u001b[43m:\u001b[49m\u001b[43m \u001b[49m\u001b[43mosd_to_dict\u001b[49m\u001b[43m(\u001b[49m\u001b[43mrun_and_get_output\u001b[49m\u001b[43m(\u001b[49m\u001b[38;5;241;43m*\u001b[39;49m\u001b[43margs\u001b[49m\u001b[43m)\u001b[49m\u001b[43m)\u001b[49m\u001b[43m,\u001b[49m\n\u001b[1;32m    548\u001b[0m \u001b[43m    \u001b[49m\u001b[43mOutput\u001b[49m\u001b[38;5;241;43m.\u001b[39;49m\u001b[43mSTRING\u001b[49m\u001b[43m:\u001b[49m\u001b[43m \u001b[49m\u001b[38;5;28;43;01mlambda\u001b[39;49;00m\u001b[43m:\u001b[49m\u001b[43m \u001b[49m\u001b[43mrun_and_get_output\u001b[49m\u001b[43m(\u001b[49m\u001b[38;5;241;43m*\u001b[39;49m\u001b[43margs\u001b[49m\u001b[43m)\u001b[49m\u001b[43m,\u001b[49m\n\u001b[1;32m    549\u001b[0m \u001b[43m\u001b[49m\u001b[43m}\u001b[49m\u001b[43m[\u001b[49m\u001b[43moutput_type\u001b[49m\u001b[43m]\u001b[49m\u001b[43m(\u001b[49m\u001b[43m)\u001b[49m\n",
      "File \u001b[0;32m~/PycharmProjects/ocr_data_generation/venv/lib/python3.9/site-packages/pytesseract/pytesseract.py:547\u001b[0m, in \u001b[0;36mimage_to_osd.<locals>.<lambda>\u001b[0;34m()\u001b[0m\n\u001b[1;32m    542\u001b[0m config \u001b[38;5;241m=\u001b[39m \u001b[38;5;124mf\u001b[39m\u001b[38;5;124m'\u001b[39m\u001b[38;5;124m--psm 0 \u001b[39m\u001b[38;5;132;01m{\u001b[39;00mconfig\u001b[38;5;241m.\u001b[39mstrip()\u001b[38;5;132;01m}\u001b[39;00m\u001b[38;5;124m'\u001b[39m\n\u001b[1;32m    543\u001b[0m args \u001b[38;5;241m=\u001b[39m [image, \u001b[38;5;124m'\u001b[39m\u001b[38;5;124mosd\u001b[39m\u001b[38;5;124m'\u001b[39m, lang, config, nice, timeout]\n\u001b[1;32m    545\u001b[0m \u001b[38;5;28;01mreturn\u001b[39;00m {\n\u001b[1;32m    546\u001b[0m     Output\u001b[38;5;241m.\u001b[39mBYTES: \u001b[38;5;28;01mlambda\u001b[39;00m: run_and_get_output(\u001b[38;5;241m*\u001b[39m(args \u001b[38;5;241m+\u001b[39m [\u001b[38;5;28;01mTrue\u001b[39;00m])),\n\u001b[0;32m--> 547\u001b[0m     Output\u001b[38;5;241m.\u001b[39mDICT: \u001b[38;5;28;01mlambda\u001b[39;00m: osd_to_dict(\u001b[43mrun_and_get_output\u001b[49m\u001b[43m(\u001b[49m\u001b[38;5;241;43m*\u001b[39;49m\u001b[43margs\u001b[49m\u001b[43m)\u001b[49m),\n\u001b[1;32m    548\u001b[0m     Output\u001b[38;5;241m.\u001b[39mSTRING: \u001b[38;5;28;01mlambda\u001b[39;00m: run_and_get_output(\u001b[38;5;241m*\u001b[39margs),\n\u001b[1;32m    549\u001b[0m }[output_type]()\n",
      "File \u001b[0;32m~/PycharmProjects/ocr_data_generation/venv/lib/python3.9/site-packages/pytesseract/pytesseract.py:286\u001b[0m, in \u001b[0;36mrun_and_get_output\u001b[0;34m(image, extension, lang, config, nice, timeout, return_bytes)\u001b[0m\n\u001b[1;32m    275\u001b[0m \u001b[38;5;28;01mwith\u001b[39;00m save(image) \u001b[38;5;28;01mas\u001b[39;00m (temp_name, input_filename):\n\u001b[1;32m    276\u001b[0m     kwargs \u001b[38;5;241m=\u001b[39m {\n\u001b[1;32m    277\u001b[0m         \u001b[38;5;124m'\u001b[39m\u001b[38;5;124minput_filename\u001b[39m\u001b[38;5;124m'\u001b[39m: input_filename,\n\u001b[1;32m    278\u001b[0m         \u001b[38;5;124m'\u001b[39m\u001b[38;5;124moutput_filename_base\u001b[39m\u001b[38;5;124m'\u001b[39m: temp_name,\n\u001b[0;32m   (...)\u001b[0m\n\u001b[1;32m    283\u001b[0m         \u001b[38;5;124m'\u001b[39m\u001b[38;5;124mtimeout\u001b[39m\u001b[38;5;124m'\u001b[39m: timeout,\n\u001b[1;32m    284\u001b[0m     }\n\u001b[0;32m--> 286\u001b[0m     \u001b[43mrun_tesseract\u001b[49m\u001b[43m(\u001b[49m\u001b[38;5;241;43m*\u001b[39;49m\u001b[38;5;241;43m*\u001b[39;49m\u001b[43mkwargs\u001b[49m\u001b[43m)\u001b[49m\n\u001b[1;32m    287\u001b[0m     filename \u001b[38;5;241m=\u001b[39m kwargs[\u001b[38;5;124m'\u001b[39m\u001b[38;5;124moutput_filename_base\u001b[39m\u001b[38;5;124m'\u001b[39m] \u001b[38;5;241m+\u001b[39m extsep \u001b[38;5;241m+\u001b[39m extension\n\u001b[1;32m    288\u001b[0m     \u001b[38;5;28;01mwith\u001b[39;00m \u001b[38;5;28mopen\u001b[39m(filename, \u001b[38;5;124m'\u001b[39m\u001b[38;5;124mrb\u001b[39m\u001b[38;5;124m'\u001b[39m) \u001b[38;5;28;01mas\u001b[39;00m output_file:\n",
      "File \u001b[0;32m~/PycharmProjects/ocr_data_generation/venv/lib/python3.9/site-packages/pytesseract/pytesseract.py:262\u001b[0m, in \u001b[0;36mrun_tesseract\u001b[0;34m(input_filename, output_filename_base, extension, lang, config, nice, timeout)\u001b[0m\n\u001b[1;32m    260\u001b[0m \u001b[38;5;28;01mwith\u001b[39;00m timeout_manager(proc, timeout) \u001b[38;5;28;01mas\u001b[39;00m error_string:\n\u001b[1;32m    261\u001b[0m     \u001b[38;5;28;01mif\u001b[39;00m proc\u001b[38;5;241m.\u001b[39mreturncode:\n\u001b[0;32m--> 262\u001b[0m         \u001b[38;5;28;01mraise\u001b[39;00m TesseractError(proc\u001b[38;5;241m.\u001b[39mreturncode, get_errors(error_string))\n",
      "\u001b[0;31mTesseractError\u001b[0m: (1, 'UZN file /tmp/tess_ra3b8fy1 loaded. Estimating resolution as 500 UZN file /tmp/tess_ra3b8fy1 loaded. Warning. Invalid resolution 0 dpi. Using 70 instead. Too few characters. Skipping this page Error during processing.')"
     ]
    }
   ],
   "source": [
    "osd = pytesseract.image_to_osd(photo_list_1, output_type=Output.DICT)\n",
    "osd"
   ]
  },
  {
   "cell_type": "code",
   "execution_count": 113,
   "metadata": {},
   "outputs": [
    {
     "data": {
      "text/plain": [
       "{'page_num': 0,\n",
       " 'orientation': 0,\n",
       " 'rotate': 0,\n",
       " 'orientation_conf': 1.78,\n",
       " 'script': 'Cyrillic',\n",
       " 'script_conf': 20.0}"
      ]
     },
     "execution_count": 113,
     "metadata": {},
     "output_type": "execute_result"
    }
   ],
   "source": [
    "osd = pytesseract.image_to_osd(FILE_PATH_1 + photo_list_1[0], \n",
    "                               output_type=Output.DICT, \n",
    "                               config='--psm 0 -c min_characters_to_try=5')\n",
    "osd"
   ]
  },
  {
   "cell_type": "code",
   "execution_count": null,
   "metadata": {},
   "outputs": [],
   "source": []
  },
  {
   "cell_type": "code",
   "execution_count": null,
   "metadata": {},
   "outputs": [],
   "source": []
  },
  {
   "cell_type": "code",
   "execution_count": null,
   "metadata": {},
   "outputs": [],
   "source": []
  },
  {
   "cell_type": "code",
   "execution_count": null,
   "metadata": {},
   "outputs": [],
   "source": []
  }
 ],
 "metadata": {
  "interpreter": {
   "hash": "1c189c8536020d76ce164149959fa548ac26c70e9da70a7e7c9525c7d8b9f701"
  },
  "kernelspec": {
   "display_name": "ocr_data_generation",
   "language": "python",
   "name": "ocr_data_generation"
  },
  "language_info": {
   "codemirror_mode": {
    "name": "ipython",
    "version": 3
   },
   "file_extension": ".py",
   "mimetype": "text/x-python",
   "name": "python",
   "nbconvert_exporter": "python",
   "pygments_lexer": "ipython3",
   "version": "3.9.13"
  }
 },
 "nbformat": 4,
 "nbformat_minor": 2
}
