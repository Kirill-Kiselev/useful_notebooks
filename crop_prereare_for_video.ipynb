{
 "cells": [
  {
   "cell_type": "markdown",
   "id": "389df1fb",
   "metadata": {},
   "source": [
    "### Приведение кропов к одному размеру для создания видео"
   ]
  },
  {
   "cell_type": "code",
   "execution_count": 1,
   "id": "1e80cb12",
   "metadata": {},
   "outputs": [],
   "source": [
    "import cv2\n",
    "\n",
    "from pathlib import Path"
   ]
  },
  {
   "cell_type": "code",
   "execution_count": 27,
   "id": "9cb047c8",
   "metadata": {},
   "outputs": [],
   "source": [
    "source_images_dir = Path('/home/kennykey/Documents/yandex_toloka/video_classification/6')\n",
    "target_images_dir = Path('/home/kennykey/Documents/yandex_toloka/video_classification/6_1')"
   ]
  },
  {
   "cell_type": "code",
   "execution_count": 28,
   "id": "c04d7a3d",
   "metadata": {},
   "outputs": [],
   "source": [
    "images = []\n",
    "\n",
    "for filepath in sorted(source_images_dir.iterdir(), key=lambda x: int(x.stem)):\n",
    "    images.append(cv2.imread(str(filepath)))"
   ]
  },
  {
   "cell_type": "code",
   "execution_count": 29,
   "id": "18e677cd",
   "metadata": {},
   "outputs": [],
   "source": [
    "max_h = max(images, key=lambda x: x.shape[0]).shape[0]\n",
    "max_w = max(images, key=lambda x: x.shape[1]).shape[1]"
   ]
  },
  {
   "cell_type": "code",
   "execution_count": 30,
   "id": "ea4c437a",
   "metadata": {},
   "outputs": [],
   "source": [
    "# fix ffmpeg error\n",
    "max_h = max_h + 1 if max_h % 2 else max_h\n",
    "max_w = max_w + 1 if max_w % 2 else max_w"
   ]
  },
  {
   "cell_type": "code",
   "execution_count": 31,
   "id": "58c304fa",
   "metadata": {},
   "outputs": [],
   "source": [
    "for i, image in enumerate(images):\n",
    "    vert = max_h - image.shape[0]\n",
    "    horz = max_w - image.shape[1]\n",
    "\n",
    "    image = cv2.copyMakeBorder(image, vert // 2, vert // 2, horz // 2, horz // 2, cv2.BORDER_CONSTANT)\n",
    "    cv2.imwrite(str(target_images_dir / f'{i:05d}.jpg'), cv2.resize(image, (max_w, max_h)))"
   ]
  },
  {
   "cell_type": "code",
   "execution_count": null,
   "id": "ea1773a1",
   "metadata": {},
   "outputs": [],
   "source": []
  },
  {
   "cell_type": "code",
   "execution_count": null,
   "id": "8a19392b",
   "metadata": {},
   "outputs": [],
   "source": []
  }
 ],
 "metadata": {
  "kernelspec": {
   "display_name": "face-tracking",
   "language": "python",
   "name": "face-tracking"
  },
  "language_info": {
   "codemirror_mode": {
    "name": "ipython",
    "version": 3
   },
   "file_extension": ".py",
   "mimetype": "text/x-python",
   "name": "python",
   "nbconvert_exporter": "python",
   "pygments_lexer": "ipython3",
   "version": "3.8.10"
  }
 },
 "nbformat": 4,
 "nbformat_minor": 5
}
