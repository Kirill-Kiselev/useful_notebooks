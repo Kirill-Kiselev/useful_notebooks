{
 "cells": [
  {
   "cell_type": "markdown",
   "metadata": {},
   "source": [
    "### Информация\n",
    "- *Автор*: Зитцер Данил\n",
    "- *Дата*: вторник, 29 марта 2022 г., 11:47:50\n",
    "- *Описание*: Блокнот для визуализации набора данных \"ocr-test-cases\""
   ]
  },
  {
   "cell_type": "markdown",
   "metadata": {},
   "source": [
    "#### Requirements"
   ]
  },
  {
   "cell_type": "code",
   "execution_count": 1,
   "metadata": {
    "ExecuteTime": {
     "end_time": "2022-03-29T08:30:49.992062Z",
     "start_time": "2022-03-29T08:30:49.989801Z"
    }
   },
   "outputs": [],
   "source": [
    "# !pip3 install opencv-python==4.4.0.46 pandas==1.2.4"
   ]
  },
  {
   "cell_type": "code",
   "execution_count": 2,
   "metadata": {
    "ExecuteTime": {
     "end_time": "2022-03-29T08:30:50.137148Z",
     "start_time": "2022-03-29T08:30:49.993273Z"
    }
   },
   "outputs": [],
   "source": [
    "import cv2\n",
    "import pandas as pd\n",
    "\n",
    "\n",
    "pd.set_option('display.max_columns', 100)\n",
    "pd.set_option('display.max_rows', 100)"
   ]
  },
  {
   "cell_type": "code",
   "execution_count": 3,
   "metadata": {
    "ExecuteTime": {
     "end_time": "2022-03-29T08:30:50.152651Z",
     "start_time": "2022-03-29T08:30:50.138048Z"
    }
   },
   "outputs": [
    {
     "data": {
      "text/html": [
       "<div>\n",
       "<style scoped>\n",
       "    .dataframe tbody tr th:only-of-type {\n",
       "        vertical-align: middle;\n",
       "    }\n",
       "\n",
       "    .dataframe tbody tr th {\n",
       "        vertical-align: top;\n",
       "    }\n",
       "\n",
       "    .dataframe thead th {\n",
       "        text-align: right;\n",
       "    }\n",
       "</style>\n",
       "<table border=\"1\" class=\"dataframe\">\n",
       "  <thead>\n",
       "    <tr style=\"text-align: right;\">\n",
       "      <th></th>\n",
       "      <th>filename</th>\n",
       "      <th>orientation</th>\n",
       "      <th>barcode_number</th>\n",
       "      <th>doc_number</th>\n",
       "      <th>scan_is_good</th>\n",
       "      <th>barcode_box_left</th>\n",
       "      <th>barcode_box_top</th>\n",
       "      <th>barcode_box_width</th>\n",
       "      <th>barcode_box_height</th>\n",
       "      <th>doc_type_box_left</th>\n",
       "      <th>doc_type_box_top</th>\n",
       "      <th>doc_type_box_width</th>\n",
       "      <th>doc_type_box_height</th>\n",
       "      <th>doc_number_box_left</th>\n",
       "      <th>doc_number_box_top</th>\n",
       "      <th>doc_number_box_width</th>\n",
       "      <th>doc_number_box_height</th>\n",
       "    </tr>\n",
       "  </thead>\n",
       "  <tbody>\n",
       "    <tr>\n",
       "      <th>0</th>\n",
       "      <td>000.jpg</td>\n",
       "      <td>horizontal</td>\n",
       "      <td>2810094793638</td>\n",
       "      <td>6010358884</td>\n",
       "      <td>True</td>\n",
       "      <td>0.042759</td>\n",
       "      <td>0.063771</td>\n",
       "      <td>0.120905</td>\n",
       "      <td>0.046385</td>\n",
       "      <td>0.269087</td>\n",
       "      <td>0.344685</td>\n",
       "      <td>0.137493</td>\n",
       "      <td>0.023974</td>\n",
       "      <td>0.422430</td>\n",
       "      <td>0.347291</td>\n",
       "      <td>0.069299</td>\n",
       "      <td>0.016156</td>\n",
       "    </tr>\n",
       "    <tr>\n",
       "      <th>1</th>\n",
       "      <td>001.jpg</td>\n",
       "      <td>horizontal</td>\n",
       "      <td>2860350795548</td>\n",
       "      <td>6010498941</td>\n",
       "      <td>True</td>\n",
       "      <td>0.042533</td>\n",
       "      <td>0.061135</td>\n",
       "      <td>0.118483</td>\n",
       "      <td>0.044336</td>\n",
       "      <td>0.268385</td>\n",
       "      <td>0.340899</td>\n",
       "      <td>0.137933</td>\n",
       "      <td>0.022168</td>\n",
       "      <td>0.421600</td>\n",
       "      <td>0.341180</td>\n",
       "      <td>0.067676</td>\n",
       "      <td>0.015714</td>\n",
       "    </tr>\n",
       "    <tr>\n",
       "      <th>2</th>\n",
       "      <td>002.jpg</td>\n",
       "      <td>horizontal</td>\n",
       "      <td>2860350803625</td>\n",
       "      <td>6010498985</td>\n",
       "      <td>True</td>\n",
       "      <td>0.041464</td>\n",
       "      <td>0.061349</td>\n",
       "      <td>0.120166</td>\n",
       "      <td>0.046657</td>\n",
       "      <td>0.268306</td>\n",
       "      <td>0.342464</td>\n",
       "      <td>0.138430</td>\n",
       "      <td>0.022888</td>\n",
       "      <td>0.421679</td>\n",
       "      <td>0.343637</td>\n",
       "      <td>0.067866</td>\n",
       "      <td>0.017313</td>\n",
       "    </tr>\n",
       "    <tr>\n",
       "      <th>3</th>\n",
       "      <td>003.jpg</td>\n",
       "      <td>horizontal</td>\n",
       "      <td>2860350826969</td>\n",
       "      <td>6010503173</td>\n",
       "      <td>True</td>\n",
       "      <td>0.039304</td>\n",
       "      <td>0.060167</td>\n",
       "      <td>0.120799</td>\n",
       "      <td>0.047823</td>\n",
       "      <td>0.267128</td>\n",
       "      <td>0.340537</td>\n",
       "      <td>0.137018</td>\n",
       "      <td>0.024331</td>\n",
       "      <td>0.419082</td>\n",
       "      <td>0.343751</td>\n",
       "      <td>0.069158</td>\n",
       "      <td>0.016067</td>\n",
       "    </tr>\n",
       "    <tr>\n",
       "      <th>4</th>\n",
       "      <td>004.jpg</td>\n",
       "      <td>horizontal</td>\n",
       "      <td>2860350795340</td>\n",
       "      <td>6010498934</td>\n",
       "      <td>True</td>\n",
       "      <td>0.043858</td>\n",
       "      <td>0.060025</td>\n",
       "      <td>0.120001</td>\n",
       "      <td>0.045336</td>\n",
       "      <td>0.268776</td>\n",
       "      <td>0.341748</td>\n",
       "      <td>0.138255</td>\n",
       "      <td>0.021325</td>\n",
       "      <td>0.422473</td>\n",
       "      <td>0.343779</td>\n",
       "      <td>0.067871</td>\n",
       "      <td>0.016755</td>\n",
       "    </tr>\n",
       "  </tbody>\n",
       "</table>\n",
       "</div>"
      ],
      "text/plain": [
       "  filename orientation barcode_number  doc_number  scan_is_good  \\\n",
       "0  000.jpg  horizontal  2810094793638  6010358884          True   \n",
       "1  001.jpg  horizontal  2860350795548  6010498941          True   \n",
       "2  002.jpg  horizontal  2860350803625  6010498985          True   \n",
       "3  003.jpg  horizontal  2860350826969  6010503173          True   \n",
       "4  004.jpg  horizontal  2860350795340  6010498934          True   \n",
       "\n",
       "   barcode_box_left  barcode_box_top  barcode_box_width  barcode_box_height  \\\n",
       "0          0.042759         0.063771           0.120905            0.046385   \n",
       "1          0.042533         0.061135           0.118483            0.044336   \n",
       "2          0.041464         0.061349           0.120166            0.046657   \n",
       "3          0.039304         0.060167           0.120799            0.047823   \n",
       "4          0.043858         0.060025           0.120001            0.045336   \n",
       "\n",
       "   doc_type_box_left  doc_type_box_top  doc_type_box_width  \\\n",
       "0           0.269087          0.344685            0.137493   \n",
       "1           0.268385          0.340899            0.137933   \n",
       "2           0.268306          0.342464            0.138430   \n",
       "3           0.267128          0.340537            0.137018   \n",
       "4           0.268776          0.341748            0.138255   \n",
       "\n",
       "   doc_type_box_height  doc_number_box_left  doc_number_box_top  \\\n",
       "0             0.023974             0.422430            0.347291   \n",
       "1             0.022168             0.421600            0.341180   \n",
       "2             0.022888             0.421679            0.343637   \n",
       "3             0.024331             0.419082            0.343751   \n",
       "4             0.021325             0.422473            0.343779   \n",
       "\n",
       "   doc_number_box_width  doc_number_box_height  \n",
       "0              0.069299               0.016156  \n",
       "1              0.067676               0.015714  \n",
       "2              0.067866               0.017313  \n",
       "3              0.069158               0.016067  \n",
       "4              0.067871               0.016755  "
      ]
     },
     "execution_count": 3,
     "metadata": {},
     "output_type": "execute_result"
    }
   ],
   "source": [
    "data = pd.read_csv('test-cases.csv', sep=';', index_col=0)\n",
    "\n",
    "data.head()"
   ]
  },
  {
   "cell_type": "code",
   "execution_count": 1,
   "metadata": {
    "ExecuteTime": {
     "end_time": "2022-03-29T08:31:10.642773Z",
     "start_time": "2022-03-29T08:30:50.154231Z"
    }
   },
   "outputs": [
    {
     "ename": "NameError",
     "evalue": "name 'data' is not defined",
     "output_type": "error",
     "traceback": [
      "\u001b[0;31m---------------------------------------------------------------------------\u001b[0m",
      "\u001b[0;31mNameError\u001b[0m                                 Traceback (most recent call last)",
      "Input \u001b[0;32mIn [1]\u001b[0m, in \u001b[0;36m<cell line: 7>\u001b[0;34m()\u001b[0m\n\u001b[1;32m      1\u001b[0m mapping_prefix_value \u001b[38;5;241m=\u001b[39m {\n\u001b[1;32m      2\u001b[0m     \u001b[38;5;124m'\u001b[39m\u001b[38;5;124mbarcode_box_\u001b[39m\u001b[38;5;124m'\u001b[39m: \u001b[38;5;124m'\u001b[39m\u001b[38;5;124mbarcode_number\u001b[39m\u001b[38;5;124m'\u001b[39m,\n\u001b[1;32m      3\u001b[0m     \u001b[38;5;124m'\u001b[39m\u001b[38;5;124mdoc_type_box_\u001b[39m\u001b[38;5;124m'\u001b[39m: \u001b[38;5;28;01mNone\u001b[39;00m,\n\u001b[1;32m      4\u001b[0m     \u001b[38;5;124m'\u001b[39m\u001b[38;5;124mdoc_number_box_\u001b[39m\u001b[38;5;124m'\u001b[39m: \u001b[38;5;124m'\u001b[39m\u001b[38;5;124mdoc_number\u001b[39m\u001b[38;5;124m'\u001b[39m,\n\u001b[1;32m      5\u001b[0m }\n\u001b[0;32m----> 7\u001b[0m \u001b[38;5;28;01mfor\u001b[39;00m index, row \u001b[38;5;129;01min\u001b[39;00m \u001b[43mdata\u001b[49m\u001b[38;5;241m.\u001b[39miterrows():\n\u001b[1;32m      8\u001b[0m     image \u001b[38;5;241m=\u001b[39m cv2\u001b[38;5;241m.\u001b[39mimread(row[\u001b[38;5;124m'\u001b[39m\u001b[38;5;124mfilename\u001b[39m\u001b[38;5;124m'\u001b[39m])\n\u001b[1;32m      9\u001b[0m     image \u001b[38;5;241m=\u001b[39m cv2\u001b[38;5;241m.\u001b[39mresize(image, (\u001b[38;5;241m0\u001b[39m, \u001b[38;5;241m0\u001b[39m), fx\u001b[38;5;241m=\u001b[39m\u001b[38;5;241m0.6\u001b[39m, fy\u001b[38;5;241m=\u001b[39m\u001b[38;5;241m0.6\u001b[39m)\n",
      "\u001b[0;31mNameError\u001b[0m: name 'data' is not defined"
     ]
    }
   ],
   "source": [
    "mapping_prefix_value = {\n",
    "    'barcode_box_': 'barcode_number',\n",
    "    'doc_type_box_': None,\n",
    "    'doc_number_box_': 'doc_number',\n",
    "}\n",
    "\n",
    "for index, row in data.iterrows():\n",
    "    image = cv2.imread(row['filename'])\n",
    "    image = cv2.resize(image, (0, 0), fx=0.3, fy=0.3)\n",
    "    height, width, _ = image.shape\n",
    "    \n",
    "    for prefix, value in mapping_prefix_value.items():\n",
    "        x1 = int(row[prefix + 'left'] * width)\n",
    "        y1 = int(row[prefix + 'top'] * height)\n",
    "        x2 = int((row[prefix + 'left'] + row[prefix + 'width']) * width)\n",
    "        y2 = int((row[prefix + 'top'] + row[prefix + 'height']) * height)\n",
    "    \n",
    "        image = cv2.rectangle(image, (x1, y1), (x2, y2), (0, 0, 255), 4)\n",
    "        image = cv2.putText(image, row.get(value, default=''), (x1, y2 + 50), 0, 2, (0, 0, 255), 3)\n",
    "        \n",
    "    cv2.imshow('Document', image)\n",
    "    \n",
    "    key = cv2.waitKey(2000) & 0xFF\n",
    "\n",
    "    if key == ord('q'):\n",
    "        break\n",
    "    \n",
    "cv2.destroyAllWindows()"
   ]
  },
  {
   "cell_type": "code",
   "execution_count": null,
   "metadata": {},
   "outputs": [],
   "source": []
  }
 ],
 "metadata": {
  "kernelspec": {
   "display_name": "Python 3 (ipykernel)",
   "language": "python",
   "name": "python3"
  },
  "language_info": {
   "codemirror_mode": {
    "name": "ipython",
    "version": 3
   },
   "file_extension": ".py",
   "mimetype": "text/x-python",
   "name": "python",
   "nbconvert_exporter": "python",
   "pygments_lexer": "ipython3",
   "version": "3.10.4"
  }
 },
 "nbformat": 4,
 "nbformat_minor": 4
}
