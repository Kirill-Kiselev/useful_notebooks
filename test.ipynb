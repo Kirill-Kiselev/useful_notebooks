{
 "cells": [
  {
   "cell_type": "markdown",
   "metadata": {},
   "source": [
    "## Тестирование поворота документов\n",
    "- Автор: Кирилл Киселев\n",
    "- Дата начала: 05.04.2022"
   ]
  },
  {
   "cell_type": "raw",
   "metadata": {},
   "source": [
    "# проблемные изображения\n",
    "038.jpg\n",
    "039.jpg\n",
    "040.jpg\n",
    "041.jpg\n",
    "042.jpg\n",
    "043.jpg\n",
    "044.jpg"
   ]
  },
  {
   "cell_type": "markdown",
   "metadata": {},
   "source": [
    "### Загрузка библиотек"
   ]
  },
  {
   "cell_type": "code",
   "execution_count": 3,
   "metadata": {},
   "outputs": [],
   "source": [
    "import cv2 as cv\n",
    "import numpy as np\n",
    "import matplotlib as plt\n",
    "import os\n",
    "import math"
   ]
  },
  {
   "cell_type": "markdown",
   "metadata": {},
   "source": [
    "### Глобальные переменные"
   ]
  },
  {
   "cell_type": "code",
   "execution_count": 4,
   "metadata": {},
   "outputs": [
    {
     "name": "stdout",
     "output_type": "stream",
     "text": [
      "/home/kirillk/PycharmProjects/useful_notebooks\r\n"
     ]
    }
   ],
   "source": [
    "!pwd"
   ]
  },
  {
   "cell_type": "code",
   "execution_count": 12,
   "metadata": {},
   "outputs": [],
   "source": [
    "FILE_PATH = '/home/kirillk/datasets/OCR/ocr_test_cases/test_cases/'\n",
    "FILE_NAME = '038.jpg'\n",
    "# os.listdir(FILE_PATH)"
   ]
  },
  {
   "cell_type": "markdown",
   "metadata": {},
   "source": [
    "### Тестирование поворота картинки"
   ]
  },
  {
   "cell_type": "markdown",
   "metadata": {},
   "source": [
    "- из документации OpenCV"
   ]
  },
  {
   "cell_type": "raw",
   "metadata": {},
   "source": [
    "def main(file_path):\n",
    "    \n",
    "#     default_file = 'sudoku.png'\n",
    "#     filename = argv[0] if len(argv) > 0 else default_file\n",
    "    # Loads an image\n",
    "    src = cv.imread(file_path, cv.IMREAD_GRAYSCALE)\n",
    "    # Check if image is loaded fine\n",
    "    if src is None:\n",
    "        print ('Error opening image!')\n",
    "#         print ('Usage: hough_lines.py [image_name -- default ' + default_file + '] \\n')\n",
    "        return -1\n",
    "    \n",
    "    \n",
    "    dst = cv.Canny(src, 50, 200, None, 3)\n",
    "    \n",
    "    # Copy edges to the images that will display the results in BGR\n",
    "    cdst = cv.cvtColor(dst, cv.COLOR_GRAY2BGR)\n",
    "    cdstP = np.copy(cdst)\n",
    "    \n",
    "#     lines = cv.HoughLines(dst, 1, np.pi / 180, 150, 200, 0, 0)\n",
    "    lines = cv.HoughLines(dst, \n",
    "                          rho = 1, \n",
    "                          theta = 1 * np.pi/180, \n",
    "                          threshold=120, \n",
    "                          srn=0, \n",
    "                          stn = 0, \n",
    "                          min_theta=1, \n",
    "                          max_theta=2)\n",
    "    \n",
    "    if lines is not None:\n",
    "        for i in range(0, len(lines)):\n",
    "            rho = lines[i][0][0]\n",
    "            theta = lines[i][0][1]\n",
    "            a = math.cos(theta)\n",
    "            b = math.sin(theta)\n",
    "            x0 = a * rho\n",
    "            y0 = b * rho\n",
    "            pt1 = (int(x0 + 1000*(-b)), int(y0 + 1000*(a)))\n",
    "            pt2 = (int(x0 - 1000*(-b)), int(y0 - 1000*(a)))\n",
    "            cv.line(cdst, pt1, pt2, (0,0,255), 3, cv.LINE_AA)\n",
    "    \n",
    "    \n",
    "    linesP = cv.HoughLinesP(dst, 1, np.pi / 180, 50, None, 50, 10)\n",
    "    \n",
    "    if linesP is not None:\n",
    "        for i in range(0, len(linesP)):\n",
    "            l = linesP[i][0]\n",
    "            cv.line(cdstP, (l[0], l[1]), (l[2], l[3]), (0,0,255), 3, cv.LINE_AA)\n",
    "    \n",
    "#     cv.imshow(\"Source\", src)\n",
    "#     cv.imshow(\"Detected Lines (in red) - Standard Hough Line Transform\", cdst)\n",
    "    cv.imshow(\"Detected Lines (in red) - Probabilistic Line Transform\", cdstP)\n",
    "    \n",
    "    cv.waitKey(0)\n",
    "    cv.destroyAllWindows()\n",
    "    return 0"
   ]
  },
  {
   "cell_type": "code",
   "execution_count": 23,
   "metadata": {},
   "outputs": [
    {
     "data": {
      "text/plain": [
       "0"
      ]
     },
     "execution_count": 23,
     "metadata": {},
     "output_type": "execute_result"
    }
   ],
   "source": [
    "main(FILE_PATH + FILE_NAME)"
   ]
  },
  {
   "cell_type": "code",
   "execution_count": null,
   "metadata": {},
   "outputs": [],
   "source": []
  },
  {
   "cell_type": "code",
   "execution_count": 34,
   "metadata": {},
   "outputs": [
    {
     "name": "stdout",
     "output_type": "stream",
     "text": [
      "Image read successful!\n",
      "8\n",
      "(208, 172) (513, 172)\n",
      "code successful!\n"
     ]
    }
   ],
   "source": [
    "# read image and check\n",
    "# filename = \"./assets/dataset/065.jpg\"\n",
    "img = cv.imread(FILE_PATH + FILE_NAME)\n",
    "img = cv.resize(img, (0, 0), fx=0.2, fy=0.2)\n",
    "img_p = img.copy() # Используется для отображения результата обнаружения вероятностного преобразования Хафа\n",
    "\n",
    "if img is None:\n",
    "    print(\"Image read error!\")\n",
    "else:\n",
    "    print(\"Image read successful!\")\n",
    "# cv.imshow(\"Source\", img)\n",
    "\n",
    "# image space change from BGR to GRAY\n",
    "gray = cv.cvtColor(img, cv.COLOR_BGR2GRAY)\n",
    "\n",
    "# threshold\n",
    "# _, binary = cv.threshold(img, 200, 255, cv.THRESH_BINARY)\n",
    "_, binary = cv.threshold(gray, 0, 255, cv.THRESH_OTSU)\n",
    "# cv.imshow(\"Threshold\", binary)\n",
    "\n",
    "# edges detection with Canny method\n",
    "edges = cv.Canny(binary, threshold1=50, threshold2=200)\n",
    "# cv.imshow(\"Canny\", edges)\n",
    "\n",
    "\n",
    "# Функция HoughLines ()\n",
    "# lines = cv.HoughLines(edges, rho = 1, theta = 1 * np.pi/180, threshold=120, srn=0, stn = 0, min_theta=1, max_theta=2)\n",
    "\n",
    "# for i in range(0, len(lines)):\n",
    "#     rho, theta = lines[i][0][0], lines[i][0][1]\n",
    "#     a = np.cos(theta)\n",
    "#     b = np.sin(theta)\n",
    "#     x0 = a*rho\n",
    "#     y0 = b*rho\n",
    "#     x1 = int(x0 + 1000*(-b))\n",
    "#     y1 = int(y0 + 1000*(a))\n",
    "#     x2 = int(x0 - 1000*(-b))\n",
    "#     y2 = int(y0 - 1000*(a))\n",
    "#     y.append(abs(y1 - y2))\n",
    "#     if abs(y2 - y1) > most_delta_y:\n",
    "#         most_delta_y = abs(y2 - y1)\n",
    "#         line_with_most_angle = [(x1, y1), (x2, y2)]\n",
    "#     cv.line(img, (x1, y1), (x2, y2), (0, 0, 255), 2)\n",
    "\n",
    "# # print(line_with_most_angle)\n",
    "# cv.imshow(\"Hough_line\", img)\n",
    "\n",
    "# Функция HoughLinesP ()\n",
    "lines_p = cv.HoughLinesP(edges, rho = 1, theta = np.pi/180, threshold = 50, minLineLength= 200, maxLineGap=10)\n",
    "\n",
    "most_delta_y = 0\n",
    "line_with_most_angle = []\n",
    "y = []\n",
    "\n",
    "for i in range(len(lines_p)):\n",
    "    x_1, y_1, x_2, y_2 = lines_p[i][0]\n",
    "    if abs(y_2 - y_1) > most_delta_y:\n",
    "        most_delta_y = abs(y_2 - y_1)\n",
    "        line_with_most_angle = [(x_1, y_1), (x_2, y_2)]\n",
    "#     cv.line(img_p, (x_1, y_1), (x_2, y_2), (0, 255, 0), 1)\n",
    "#     break\n",
    "print(most_delta_y)\n",
    "cv.line(img_p,\n",
    "       (line_with_most_angle[0][0], line_with_most_angle[0][1]), \n",
    "       (line_with_most_angle[1][0], line_with_most_angle[1][1]), \n",
    "       (0, 255, 0), \n",
    "       2)\n",
    "\n",
    "print((x_1, y_1), (x_2, y_2))\n",
    "print(\"code successful!\")\n",
    "cv.imshow(\"Hough_line_p\", img_p)\n",
    "\n",
    "cv.waitKey(0)\n",
    "cv.destroyAllWindows()"
   ]
  },
  {
   "cell_type": "code",
   "execution_count": null,
   "metadata": {},
   "outputs": [],
   "source": []
  },
  {
   "cell_type": "code",
   "execution_count": null,
   "metadata": {},
   "outputs": [],
   "source": []
  }
 ],
 "metadata": {
  "interpreter": {
   "hash": "1c189c8536020d76ce164149959fa548ac26c70e9da70a7e7c9525c7d8b9f701"
  },
  "kernelspec": {
   "display_name": "ocr_data_generation",
   "language": "python",
   "name": "ocr_data_generation"
  },
  "language_info": {
   "codemirror_mode": {
    "name": "ipython",
    "version": 3
   },
   "file_extension": ".py",
   "mimetype": "text/x-python",
   "name": "python",
   "nbconvert_exporter": "python",
   "pygments_lexer": "ipython3",
   "version": "3.9.12"
  }
 },
 "nbformat": 4,
 "nbformat_minor": 2
}
