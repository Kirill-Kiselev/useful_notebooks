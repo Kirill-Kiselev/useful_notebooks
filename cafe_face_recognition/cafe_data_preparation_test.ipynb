{
 "cells": [
  {
   "cell_type": "code",
   "execution_count": 84,
   "id": "0a2c7b2d",
   "metadata": {},
   "outputs": [],
   "source": [
    "import pandas as pd\n",
    "import shutil\n",
    "import os\n",
    "\n",
    "import seaborn as sns\n",
    "import matplotlib.pyplot as plt"
   ]
  },
  {
   "cell_type": "code",
   "execution_count": 54,
   "id": "415c827e",
   "metadata": {},
   "outputs": [],
   "source": [
    "TXT_PATH = '/home/kirillk/datasets/cafe_face_recognition/test.txt'\n",
    "DATA_PATH = '/home/kirillk/PycharmProjects/face-recognition-prototype/data/'\n",
    "TEMP_PATH = '/home/kirillk/PycharmProjects/face-recognition-prototype/temp/'\n",
    "TEST_PHOTO_FOLDER = 'test_photos/'\n",
    "FILTERED_PHOTO_FOLDER = 'filtered_photo/'\n",
    "GOOD_FILTERED_PHOTO_FOLDER = 'good_filtered_photo/'\n",
    "FILTERED_TXT_PATH = '/home/kirillk/datasets/cafe_face_recognition/test_research.txt'"
   ]
  },
  {
   "cell_type": "code",
   "execution_count": 14,
   "id": "0cf1d280",
   "metadata": {},
   "outputs": [],
   "source": [
    "filename = []\n",
    "track = []\n",
    "bad = []\n",
    "score = []\n",
    "best = []\n",
    "\n",
    "with open(TXT_PATH) as file:\n",
    "    for line in file:\n",
    "        line = line.rstrip()\n",
    "        if '.jpg' in line:\n",
    "            filename.append(line)\n",
    "        elif 'track' in line:\n",
    "            track.append(line.split(' ')[-1])\n",
    "        elif 'bad' in line:\n",
    "            bad.append(line.split(' ')[-1])\n",
    "        elif 'score' in line:\n",
    "            score.append(line.split(' ')[-1])\n",
    "        elif 'best' in line:\n",
    "            best.append(line.split(' ')[-1])"
   ]
  },
  {
   "cell_type": "code",
   "execution_count": 20,
   "id": "999c5abb",
   "metadata": {},
   "outputs": [
    {
     "name": "stdout",
     "output_type": "stream",
     "text": [
      "549\n"
     ]
    }
   ],
   "source": [
    "print(len(filename))"
   ]
  },
  {
   "cell_type": "code",
   "execution_count": 16,
   "id": "d12c61fe",
   "metadata": {},
   "outputs": [],
   "source": [
    "data = {'filename':filename, \n",
    "        'bad':bad, \n",
    "        'score':score,\n",
    "        'best':best}"
   ]
  },
  {
   "cell_type": "code",
   "execution_count": 17,
   "id": "9d703461",
   "metadata": {},
   "outputs": [],
   "source": [
    "df = pd.DataFrame(data)"
   ]
  },
  {
   "cell_type": "code",
   "execution_count": 18,
   "id": "e4627bb7",
   "metadata": {},
   "outputs": [
    {
     "data": {
      "text/html": [
       "<div>\n",
       "<style scoped>\n",
       "    .dataframe tbody tr th:only-of-type {\n",
       "        vertical-align: middle;\n",
       "    }\n",
       "\n",
       "    .dataframe tbody tr th {\n",
       "        vertical-align: top;\n",
       "    }\n",
       "\n",
       "    .dataframe thead th {\n",
       "        text-align: right;\n",
       "    }\n",
       "</style>\n",
       "<table border=\"1\" class=\"dataframe\">\n",
       "  <thead>\n",
       "    <tr style=\"text-align: right;\">\n",
       "      <th></th>\n",
       "      <th>filename</th>\n",
       "      <th>bad</th>\n",
       "      <th>score</th>\n",
       "      <th>best</th>\n",
       "    </tr>\n",
       "  </thead>\n",
       "  <tbody>\n",
       "    <tr>\n",
       "      <th>0</th>\n",
       "      <td>312.jpg</td>\n",
       "      <td>0</td>\n",
       "      <td>0</td>\n",
       "      <td>0</td>\n",
       "    </tr>\n",
       "    <tr>\n",
       "      <th>1</th>\n",
       "      <td>108.jpg</td>\n",
       "      <td>0</td>\n",
       "      <td>0</td>\n",
       "      <td>1</td>\n",
       "    </tr>\n",
       "    <tr>\n",
       "      <th>2</th>\n",
       "      <td>204.jpg</td>\n",
       "      <td>0</td>\n",
       "      <td>0</td>\n",
       "      <td>0</td>\n",
       "    </tr>\n",
       "    <tr>\n",
       "      <th>3</th>\n",
       "      <td>280.jpg</td>\n",
       "      <td>0</td>\n",
       "      <td>0</td>\n",
       "      <td>0</td>\n",
       "    </tr>\n",
       "    <tr>\n",
       "      <th>4</th>\n",
       "      <td>134.jpg</td>\n",
       "      <td>0</td>\n",
       "      <td>0</td>\n",
       "      <td>0</td>\n",
       "    </tr>\n",
       "    <tr>\n",
       "      <th>5</th>\n",
       "      <td>353.jpg</td>\n",
       "      <td>0</td>\n",
       "      <td>0</td>\n",
       "      <td>0</td>\n",
       "    </tr>\n",
       "    <tr>\n",
       "      <th>6</th>\n",
       "      <td>360.jpg</td>\n",
       "      <td>0</td>\n",
       "      <td>0</td>\n",
       "      <td>0</td>\n",
       "    </tr>\n",
       "    <tr>\n",
       "      <th>7</th>\n",
       "      <td>409.jpg</td>\n",
       "      <td>0</td>\n",
       "      <td>0</td>\n",
       "      <td>1</td>\n",
       "    </tr>\n",
       "    <tr>\n",
       "      <th>8</th>\n",
       "      <td>538.jpg</td>\n",
       "      <td>0</td>\n",
       "      <td>0</td>\n",
       "      <td>1</td>\n",
       "    </tr>\n",
       "    <tr>\n",
       "      <th>9</th>\n",
       "      <td>345.jpg</td>\n",
       "      <td>0</td>\n",
       "      <td>0</td>\n",
       "      <td>1</td>\n",
       "    </tr>\n",
       "  </tbody>\n",
       "</table>\n",
       "</div>"
      ],
      "text/plain": [
       "  filename bad score best\n",
       "0  312.jpg   0     0    0\n",
       "1  108.jpg   0     0    1\n",
       "2  204.jpg   0     0    0\n",
       "3  280.jpg   0     0    0\n",
       "4  134.jpg   0     0    0\n",
       "5  353.jpg   0     0    0\n",
       "6  360.jpg   0     0    0\n",
       "7  409.jpg   0     0    1\n",
       "8  538.jpg   0     0    1\n",
       "9  345.jpg   0     0    1"
      ]
     },
     "execution_count": 18,
     "metadata": {},
     "output_type": "execute_result"
    }
   ],
   "source": [
    "df.head(10)"
   ]
  },
  {
   "cell_type": "code",
   "execution_count": 19,
   "id": "2af3e649",
   "metadata": {},
   "outputs": [
    {
     "name": "stdout",
     "output_type": "stream",
     "text": [
      "0    549\n",
      "Name: bad, dtype: int64\n",
      "0    549\n",
      "Name: score, dtype: int64\n",
      "0    404\n",
      "1    145\n",
      "Name: best, dtype: int64\n"
     ]
    }
   ],
   "source": [
    "for column in df.columns:\n",
    "    if column == 'filename':\n",
    "        continue\n",
    "    print(df[column].value_counts())"
   ]
  },
  {
   "cell_type": "code",
   "execution_count": 21,
   "id": "5e06b19a",
   "metadata": {},
   "outputs": [],
   "source": [
    "filtered_df = df[df['best'] == '1']"
   ]
  },
  {
   "cell_type": "code",
   "execution_count": 22,
   "id": "27ec9e9b",
   "metadata": {},
   "outputs": [
    {
     "data": {
      "text/html": [
       "<div>\n",
       "<style scoped>\n",
       "    .dataframe tbody tr th:only-of-type {\n",
       "        vertical-align: middle;\n",
       "    }\n",
       "\n",
       "    .dataframe tbody tr th {\n",
       "        vertical-align: top;\n",
       "    }\n",
       "\n",
       "    .dataframe thead th {\n",
       "        text-align: right;\n",
       "    }\n",
       "</style>\n",
       "<table border=\"1\" class=\"dataframe\">\n",
       "  <thead>\n",
       "    <tr style=\"text-align: right;\">\n",
       "      <th></th>\n",
       "      <th>filename</th>\n",
       "      <th>bad</th>\n",
       "      <th>score</th>\n",
       "      <th>best</th>\n",
       "    </tr>\n",
       "  </thead>\n",
       "  <tbody>\n",
       "    <tr>\n",
       "      <th>1</th>\n",
       "      <td>108.jpg</td>\n",
       "      <td>0</td>\n",
       "      <td>0</td>\n",
       "      <td>1</td>\n",
       "    </tr>\n",
       "    <tr>\n",
       "      <th>7</th>\n",
       "      <td>409.jpg</td>\n",
       "      <td>0</td>\n",
       "      <td>0</td>\n",
       "      <td>1</td>\n",
       "    </tr>\n",
       "    <tr>\n",
       "      <th>8</th>\n",
       "      <td>538.jpg</td>\n",
       "      <td>0</td>\n",
       "      <td>0</td>\n",
       "      <td>1</td>\n",
       "    </tr>\n",
       "    <tr>\n",
       "      <th>9</th>\n",
       "      <td>345.jpg</td>\n",
       "      <td>0</td>\n",
       "      <td>0</td>\n",
       "      <td>1</td>\n",
       "    </tr>\n",
       "    <tr>\n",
       "      <th>13</th>\n",
       "      <td>245.jpg</td>\n",
       "      <td>0</td>\n",
       "      <td>0</td>\n",
       "      <td>1</td>\n",
       "    </tr>\n",
       "  </tbody>\n",
       "</table>\n",
       "</div>"
      ],
      "text/plain": [
       "   filename bad score best\n",
       "1   108.jpg   0     0    1\n",
       "7   409.jpg   0     0    1\n",
       "8   538.jpg   0     0    1\n",
       "9   345.jpg   0     0    1\n",
       "13  245.jpg   0     0    1"
      ]
     },
     "execution_count": 22,
     "metadata": {},
     "output_type": "execute_result"
    }
   ],
   "source": [
    "filtered_df.head()"
   ]
  },
  {
   "cell_type": "code",
   "execution_count": 29,
   "id": "ea816724",
   "metadata": {},
   "outputs": [],
   "source": [
    "for index, row in filtered_df.iterrows():\n",
    "    shutil.copyfile(DATA_PATH + TEST_PHOTO_FOLDER + row['filename'], \n",
    "                    DATA_PATH + FILTERED_PHOTO_FOLDER + row['filename'])"
   ]
  },
  {
   "cell_type": "code",
   "execution_count": null,
   "id": "1bb73d88",
   "metadata": {},
   "outputs": [],
   "source": []
  },
  {
   "cell_type": "code",
   "execution_count": null,
   "id": "98758e6d",
   "metadata": {},
   "outputs": [],
   "source": []
  },
  {
   "cell_type": "code",
   "execution_count": null,
   "id": "0cd32c60",
   "metadata": {},
   "outputs": [],
   "source": []
  },
  {
   "cell_type": "code",
   "execution_count": null,
   "id": "de3c3e9b",
   "metadata": {},
   "outputs": [],
   "source": []
  },
  {
   "cell_type": "code",
   "execution_count": 50,
   "id": "ac441b82",
   "metadata": {},
   "outputs": [
    {
     "name": "stdout",
     "output_type": "stream",
     "text": [
      "['7', '25', '17', '10', '37', '8', '23', '20', '28', '4', '22', '30', '35', '36', '34', '1', '26', '13', '14', '6', '29', '24', '39', '2', '15', '3', '5', '11', '19', '31', '27', '33']\n"
     ]
    }
   ],
   "source": [
    "print(os.listdir(TEMP_PATH))"
   ]
  },
  {
   "cell_type": "code",
   "execution_count": 51,
   "id": "703f79db",
   "metadata": {},
   "outputs": [],
   "source": [
    "files = []\n",
    "good_filtered_photos = os.listdir(DATA_PATH + GOOD_FILTERED_PHOTO_FOLDER)"
   ]
  },
  {
   "cell_type": "code",
   "execution_count": 52,
   "id": "08a92454",
   "metadata": {},
   "outputs": [],
   "source": [
    "for folder in os.listdir(TEMP_PATH):\n",
    "    for file in os.listdir(TEMP_PATH + folder):\n",
    "        files.append(file)"
   ]
  },
  {
   "cell_type": "code",
   "execution_count": 53,
   "id": "f790fae3",
   "metadata": {},
   "outputs": [
    {
     "data": {
      "text/plain": [
       "True"
      ]
     },
     "execution_count": 53,
     "metadata": {},
     "output_type": "execute_result"
    }
   ],
   "source": [
    "len(files) == len(good_filtered_photos)"
   ]
  },
  {
   "cell_type": "code",
   "execution_count": null,
   "id": "94afe8bf",
   "metadata": {},
   "outputs": [],
   "source": []
  },
  {
   "cell_type": "code",
   "execution_count": null,
   "id": "60383948",
   "metadata": {},
   "outputs": [],
   "source": []
  },
  {
   "cell_type": "code",
   "execution_count": null,
   "id": "58a61ad7",
   "metadata": {},
   "outputs": [],
   "source": []
  },
  {
   "cell_type": "code",
   "execution_count": 72,
   "id": "c98d3867",
   "metadata": {},
   "outputs": [],
   "source": [
    "filename = []\n",
    "meta_data = []\n",
    "\n",
    "with open(FILTERED_TXT_PATH) as file:\n",
    "    for line in file:\n",
    "        line = line.rstrip()\n",
    "        if '.jpg' in line:\n",
    "            filename.append(line)\n",
    "        else:\n",
    "            meta_data.append(line)"
   ]
  },
  {
   "cell_type": "code",
   "execution_count": 73,
   "id": "78e197f4",
   "metadata": {},
   "outputs": [
    {
     "name": "stdout",
     "output_type": "stream",
     "text": [
      "['20_007.jpg', '26_065.jpg', '17_023.jpg', '39_086.jpg', '30_061.jpg', '39_031.jpg', '13_046.jpg', '39_085.jpg', '07_016.jpg', '31_001.jpg', '22_048.jpg', '15_059.jpg', '14_038.jpg', '20_070.jpg', '39_051.jpg', '25_029.jpg', '05_068.jpg', '17_082.jpg', '35_027.jpg', '33_012.jpg', '39_003.jpg', '24_024.jpg', '39_022.jpg', '02_066.jpg', '04_054.jpg', '11_092.jpg', '17_077.jpg', '02_006.jpg', '39_067.jpg', '30_060.jpg', '20_057.jpg', '07_018.jpg', '11_043.jpg', '08_034.jpg', '29_005.jpg', '02_039.jpg', '33_008.jpg', '39_055.jpg', '25_091.jpg', '10_056.jpg', '39_020.jpg', '23_081.jpg', '35_017.jpg', '07_033.jpg', '17_015.jpg', '17_071.jpg', '28_063.jpg', '08_035.jpg', '04_088.jpg', '29_050.jpg', '39_041.jpg', '39_073.jpg', '39_026.jpg', '35_011.jpg', '25_087.jpg', '02_004.jpg', '14_052.jpg', '01_037.jpg', '07_074.jpg', '04_090.jpg', '34_093.jpg', '05_019.jpg', '25_076.jpg', '35_072.jpg', '24_083.jpg', '19_053.jpg', '17_069.jpg', '31_010.jpg', '36_021.jpg', '39_040.jpg', '30_045.jpg', '26_025.jpg', '31_014.jpg', '39_084.jpg', '14_079.jpg', '01_062.jpg', '02_030.jpg', '39_049.jpg', '20_080.jpg', '39_042.jpg', '04_002.jpg', '31_094.jpg', '04_032.jpg', '18_058.jpg', '10_028.jpg', '29_044.jpg', '20_047.jpg', '25_009.jpg', '20_036.jpg', '14_064.jpg', '20_075.jpg', '26_013.jpg', '39_089.jpg', '04_078.jpg']\n"
     ]
    },
    {
     "data": {
      "text/plain": [
       "['0.8229808807373047 20',\n",
       " '0.6661842465400696 26',\n",
       " '0.8823868036270142 17',\n",
       " '0.5326451063156128 39',\n",
       " '1.2549211978912354 30',\n",
       " '0.6154799461364746 39',\n",
       " '0.8699918985366821 13',\n",
       " '0.4173157811164856 39',\n",
       " '0.7489612102508545 7',\n",
       " '0.7956287860870361 31',\n",
       " '0.4809022843837738 22',\n",
       " '0.6660935878753662 15',\n",
       " '0.819983720779419 14',\n",
       " '0.744796872138977 20',\n",
       " '0.5689691305160522 39',\n",
       " '0.8290808200836182 25',\n",
       " '0.8927831649780273 5',\n",
       " '0.9570621252059937 17',\n",
       " '1.1139018535614014 37',\n",
       " '0.3678244948387146 33',\n",
       " '0.7964556217193604 39',\n",
       " '0.7815664410591125 24',\n",
       " '0.5747289657592773 39',\n",
       " '0.688244104385376 2',\n",
       " '0.5544595718383789 4',\n",
       " '0.5794292092323303 11',\n",
       " '0.7632390260696411 17',\n",
       " '0.8586607575416565 2',\n",
       " '0.818869948387146 39',\n",
       " '0.9595839977264404 30',\n",
       " '0.8333731889724731 20',\n",
       " '0.9539424180984497 8',\n",
       " '0.5554594993591309 11',\n",
       " '0.4356952905654907 8',\n",
       " '0.46198809146881104 29',\n",
       " '0.6931788921356201 2',\n",
       " '0.7948529720306396 3',\n",
       " '0.5143431425094604 39',\n",
       " '0.7101891040802002 25',\n",
       " '0.5782636404037476 10',\n",
       " '0.625848114490509 39',\n",
       " '0.7191296219825745 23',\n",
       " '0.7429584264755249 35',\n",
       " '0.8978875875473022 7',\n",
       " '0.7154343724250793 17',\n",
       " '0.78724604845047 17',\n",
       " '0.6940672397613525 28',\n",
       " '0.7155193090438843 8',\n",
       " '0.40661877393722534 4',\n",
       " '0.706780195236206 29',\n",
       " '0.6780385971069336 39',\n",
       " '0.9114318490028381 39',\n",
       " '0.46947747468948364 39',\n",
       " '1.257332682609558 27',\n",
       " '0.7754141092300415 25',\n",
       " '1.0180102586746216 2',\n",
       " '1.0499879121780396 14',\n",
       " '0.6199979782104492 1',\n",
       " '0.809839129447937 7',\n",
       " '0.4758232533931732 4',\n",
       " '0.732967734336853 34',\n",
       " '0.9645932912826538 5',\n",
       " '0.7025569677352905 25',\n",
       " '0.6138647794723511 35',\n",
       " '0.8895683288574219 24',\n",
       " '0.6955274939537048 19',\n",
       " '0.7723388075828552 17',\n",
       " '0.8723980784416199 31',\n",
       " '0.540306806564331 36',\n",
       " '0.856399655342102 39',\n",
       " '0.9292429685592651 30',\n",
       " '0.39590680599212646 26',\n",
       " '0.7869527339935303 31',\n",
       " '0.4116235375404358 39',\n",
       " '0.7655010223388672 14',\n",
       " '0.420063316822052 1',\n",
       " '0.5554666519165039 2',\n",
       " '0.5403650999069214 39',\n",
       " '0.8985307216644287 20',\n",
       " '0.5544298887252808 39',\n",
       " '0.5288347601890564 4',\n",
       " '0.9890070557594299 31',\n",
       " '0.5242424607276917 4',\n",
       " '1.2044856548309326 6',\n",
       " '0.6550557613372803 10',\n",
       " '0.7542543411254883 29',\n",
       " '0.898224949836731 20',\n",
       " '0.7844647169113159 25',\n",
       " '0.7659858465194702 20',\n",
       " '0.6915149688720703 14',\n",
       " '0.8446944952011108 20',\n",
       " '0.36768749356269836 26',\n",
       " '0.49900540709495544 39',\n",
       " '0.6883742809295654 4']"
      ]
     },
     "execution_count": 73,
     "metadata": {},
     "output_type": "execute_result"
    }
   ],
   "source": [
    "print(filename)\n",
    "meta_data"
   ]
  },
  {
   "cell_type": "code",
   "execution_count": 74,
   "id": "01b3ac6e",
   "metadata": {},
   "outputs": [],
   "source": [
    "data = {'filename':filename, \n",
    "        'metadata':meta_data}"
   ]
  },
  {
   "cell_type": "code",
   "execution_count": 75,
   "id": "c8bd9c5f",
   "metadata": {},
   "outputs": [],
   "source": [
    "res_df = pd.DataFrame(data)"
   ]
  },
  {
   "cell_type": "code",
   "execution_count": 76,
   "id": "0379e212",
   "metadata": {},
   "outputs": [],
   "source": [
    "res_df['ground_truth'] = res_df['filename'].apply(lambda x: x.split('_')[0])\n",
    "res_df['filename'] = res_df['filename'].apply(lambda x: x.split('_')[-1])\n",
    "res_df['distance'] = res_df['metadata'].apply(lambda x: x.split(' ')[0])\n",
    "res_df['prediction'] = res_df['metadata'].apply(lambda x: x.split(' ')[-1])"
   ]
  },
  {
   "cell_type": "code",
   "execution_count": 77,
   "id": "9cb4fa82",
   "metadata": {},
   "outputs": [],
   "source": [
    "res_df = res_df.drop('metadata', axis=1)"
   ]
  },
  {
   "cell_type": "code",
   "execution_count": 79,
   "id": "d4bc0b4c",
   "metadata": {},
   "outputs": [],
   "source": [
    "res_df['correct'] = (res_df['ground_truth'] == res_df['prediction']).astype('int')"
   ]
  },
  {
   "cell_type": "code",
   "execution_count": 80,
   "id": "eac9cfc9",
   "metadata": {},
   "outputs": [
    {
     "data": {
      "text/html": [
       "<div>\n",
       "<style scoped>\n",
       "    .dataframe tbody tr th:only-of-type {\n",
       "        vertical-align: middle;\n",
       "    }\n",
       "\n",
       "    .dataframe tbody tr th {\n",
       "        vertical-align: top;\n",
       "    }\n",
       "\n",
       "    .dataframe thead th {\n",
       "        text-align: right;\n",
       "    }\n",
       "</style>\n",
       "<table border=\"1\" class=\"dataframe\">\n",
       "  <thead>\n",
       "    <tr style=\"text-align: right;\">\n",
       "      <th></th>\n",
       "      <th>filename</th>\n",
       "      <th>ground_truth</th>\n",
       "      <th>distance</th>\n",
       "      <th>prediction</th>\n",
       "      <th>correct</th>\n",
       "    </tr>\n",
       "  </thead>\n",
       "  <tbody>\n",
       "    <tr>\n",
       "      <th>0</th>\n",
       "      <td>007.jpg</td>\n",
       "      <td>20</td>\n",
       "      <td>0.8229808807373047</td>\n",
       "      <td>20</td>\n",
       "      <td>1</td>\n",
       "    </tr>\n",
       "    <tr>\n",
       "      <th>1</th>\n",
       "      <td>065.jpg</td>\n",
       "      <td>26</td>\n",
       "      <td>0.6661842465400696</td>\n",
       "      <td>26</td>\n",
       "      <td>1</td>\n",
       "    </tr>\n",
       "    <tr>\n",
       "      <th>2</th>\n",
       "      <td>023.jpg</td>\n",
       "      <td>17</td>\n",
       "      <td>0.8823868036270142</td>\n",
       "      <td>17</td>\n",
       "      <td>1</td>\n",
       "    </tr>\n",
       "    <tr>\n",
       "      <th>3</th>\n",
       "      <td>086.jpg</td>\n",
       "      <td>39</td>\n",
       "      <td>0.5326451063156128</td>\n",
       "      <td>39</td>\n",
       "      <td>1</td>\n",
       "    </tr>\n",
       "    <tr>\n",
       "      <th>4</th>\n",
       "      <td>061.jpg</td>\n",
       "      <td>30</td>\n",
       "      <td>1.2549211978912354</td>\n",
       "      <td>30</td>\n",
       "      <td>1</td>\n",
       "    </tr>\n",
       "  </tbody>\n",
       "</table>\n",
       "</div>"
      ],
      "text/plain": [
       "  filename ground_truth            distance prediction  correct\n",
       "0  007.jpg           20  0.8229808807373047         20        1\n",
       "1  065.jpg           26  0.6661842465400696         26        1\n",
       "2  023.jpg           17  0.8823868036270142         17        1\n",
       "3  086.jpg           39  0.5326451063156128         39        1\n",
       "4  061.jpg           30  1.2549211978912354         30        1"
      ]
     },
     "execution_count": 80,
     "metadata": {},
     "output_type": "execute_result"
    }
   ],
   "source": [
    "res_df.head()"
   ]
  },
  {
   "cell_type": "code",
   "execution_count": 81,
   "id": "3e07c823",
   "metadata": {},
   "outputs": [
    {
     "data": {
      "text/plain": [
       "1    0.734043\n",
       "0    0.265957\n",
       "Name: correct, dtype: float64"
      ]
     },
     "execution_count": 81,
     "metadata": {},
     "output_type": "execute_result"
    }
   ],
   "source": [
    "res_df['correct'].value_counts(normalize=True)"
   ]
  },
  {
   "cell_type": "code",
   "execution_count": 82,
   "id": "a7e1306c",
   "metadata": {},
   "outputs": [],
   "source": [
    "res_df_correct = res_df[res_df['correct'] == 1]"
   ]
  },
  {
   "cell_type": "code",
   "execution_count": 83,
   "id": "edd8fbf9",
   "metadata": {},
   "outputs": [
    {
     "data": {
      "text/html": [
       "<div>\n",
       "<style scoped>\n",
       "    .dataframe tbody tr th:only-of-type {\n",
       "        vertical-align: middle;\n",
       "    }\n",
       "\n",
       "    .dataframe tbody tr th {\n",
       "        vertical-align: top;\n",
       "    }\n",
       "\n",
       "    .dataframe thead th {\n",
       "        text-align: right;\n",
       "    }\n",
       "</style>\n",
       "<table border=\"1\" class=\"dataframe\">\n",
       "  <thead>\n",
       "    <tr style=\"text-align: right;\">\n",
       "      <th></th>\n",
       "      <th>filename</th>\n",
       "      <th>ground_truth</th>\n",
       "      <th>distance</th>\n",
       "      <th>prediction</th>\n",
       "      <th>correct</th>\n",
       "    </tr>\n",
       "  </thead>\n",
       "  <tbody>\n",
       "    <tr>\n",
       "      <th>0</th>\n",
       "      <td>007.jpg</td>\n",
       "      <td>20</td>\n",
       "      <td>0.8229808807373047</td>\n",
       "      <td>20</td>\n",
       "      <td>1</td>\n",
       "    </tr>\n",
       "    <tr>\n",
       "      <th>1</th>\n",
       "      <td>065.jpg</td>\n",
       "      <td>26</td>\n",
       "      <td>0.6661842465400696</td>\n",
       "      <td>26</td>\n",
       "      <td>1</td>\n",
       "    </tr>\n",
       "    <tr>\n",
       "      <th>2</th>\n",
       "      <td>023.jpg</td>\n",
       "      <td>17</td>\n",
       "      <td>0.8823868036270142</td>\n",
       "      <td>17</td>\n",
       "      <td>1</td>\n",
       "    </tr>\n",
       "    <tr>\n",
       "      <th>3</th>\n",
       "      <td>086.jpg</td>\n",
       "      <td>39</td>\n",
       "      <td>0.5326451063156128</td>\n",
       "      <td>39</td>\n",
       "      <td>1</td>\n",
       "    </tr>\n",
       "    <tr>\n",
       "      <th>4</th>\n",
       "      <td>061.jpg</td>\n",
       "      <td>30</td>\n",
       "      <td>1.2549211978912354</td>\n",
       "      <td>30</td>\n",
       "      <td>1</td>\n",
       "    </tr>\n",
       "  </tbody>\n",
       "</table>\n",
       "</div>"
      ],
      "text/plain": [
       "  filename ground_truth            distance prediction  correct\n",
       "0  007.jpg           20  0.8229808807373047         20        1\n",
       "1  065.jpg           26  0.6661842465400696         26        1\n",
       "2  023.jpg           17  0.8823868036270142         17        1\n",
       "3  086.jpg           39  0.5326451063156128         39        1\n",
       "4  061.jpg           30  1.2549211978912354         30        1"
      ]
     },
     "execution_count": 83,
     "metadata": {},
     "output_type": "execute_result"
    }
   ],
   "source": [
    "res_df_correct.head()"
   ]
  },
  {
   "cell_type": "code",
   "execution_count": 88,
   "id": "c00ee3ff",
   "metadata": {},
   "outputs": [
    {
     "name": "stderr",
     "output_type": "stream",
     "text": [
      "/tmp/ipykernel_17662/558478653.py:1: SettingWithCopyWarning: \n",
      "A value is trying to be set on a copy of a slice from a DataFrame.\n",
      "Try using .loc[row_indexer,col_indexer] = value instead\n",
      "\n",
      "See the caveats in the documentation: https://pandas.pydata.org/pandas-docs/stable/user_guide/indexing.html#returning-a-view-versus-a-copy\n",
      "  res_df_correct['distance'] = res_df_correct['distance'].astype('float')\n"
     ]
    }
   ],
   "source": [
    "res_df_correct['distance'] = res_df_correct['distance'].astype('float')"
   ]
  },
  {
   "cell_type": "code",
   "execution_count": 89,
   "id": "1b32707d",
   "metadata": {},
   "outputs": [
    {
     "data": {
      "text/plain": [
       "<AxesSubplot:xlabel='distance', ylabel='Density'>"
      ]
     },
     "execution_count": 89,
     "metadata": {},
     "output_type": "execute_result"
    },
    {
     "data": {
      "image/png": "[encoded data removed]",
      "text/plain": [
       "<Figure size 432x288 with 1 Axes>"
      ]
     },
     "metadata": {
      "needs_background": "light"
     },
     "output_type": "display_data"
    }
   ],
   "source": [
    "sns.kdeplot(res_df_correct['distance'])"
   ]
  },
  {
   "cell_type": "code",
   "execution_count": 90,
   "id": "02415e11",
   "metadata": {},
   "outputs": [],
   "source": [
    "res_df_incorrect = res_df[res_df['correct'] == 0]"
   ]
  },
  {
   "cell_type": "code",
   "execution_count": 91,
   "id": "1d8cab66",
   "metadata": {},
   "outputs": [
    {
     "name": "stderr",
     "output_type": "stream",
     "text": [
      "/tmp/ipykernel_17662/3529429156.py:1: SettingWithCopyWarning: \n",
      "A value is trying to be set on a copy of a slice from a DataFrame.\n",
      "Try using .loc[row_indexer,col_indexer] = value instead\n",
      "\n",
      "See the caveats in the documentation: https://pandas.pydata.org/pandas-docs/stable/user_guide/indexing.html#returning-a-view-versus-a-copy\n",
      "  res_df_incorrect['distance'] = res_df_incorrect['distance'].astype('float')\n"
     ]
    }
   ],
   "source": [
    "res_df_incorrect['distance'] = res_df_incorrect['distance'].astype('float')"
   ]
  },
  {
   "cell_type": "code",
   "execution_count": 92,
   "id": "7d4a3500",
   "metadata": {},
   "outputs": [
    {
     "data": {
      "text/plain": [
       "<AxesSubplot:xlabel='distance', ylabel='Density'>"
      ]
     },
     "execution_count": 92,
     "metadata": {},
     "output_type": "execute_result"
    },
    {
     "data": {
      "image/png": "[encoded data removed]",
      "text/plain": [
       "<Figure size 432x288 with 1 Axes>"
      ]
     },
     "metadata": {
      "needs_background": "light"
     },
     "output_type": "display_data"
    }
   ],
   "source": [
    "sns.kdeplot(res_df_incorrect['distance'])"
   ]
  },
  {
   "cell_type": "code",
   "execution_count": null,
   "id": "1bab725b",
   "metadata": {},
   "outputs": [],
   "source": []
  },
  {
   "cell_type": "code",
   "execution_count": null,
   "id": "4a89e502",
   "metadata": {},
   "outputs": [],
   "source": []
  },
  {
   "cell_type": "code",
   "execution_count": null,
   "id": "cea8a530",
   "metadata": {},
   "outputs": [],
   "source": []
  },
  {
   "cell_type": "code",
   "execution_count": null,
   "id": "bc32946b",
   "metadata": {},
   "outputs": [],
   "source": []
  },
  {
   "cell_type": "code",
   "execution_count": null,
   "id": "9cd7d4b7",
   "metadata": {},
   "outputs": [],
   "source": []
  },
  {
   "cell_type": "code",
   "execution_count": 2,
   "id": "5192fc93",
   "metadata": {},
   "outputs": [],
   "source": [
    "df = pd.read_csv('/home/kirillk/datasets/cafe_face_recognition/face_recognition_prototype/fucking_dump_ya_ebal.csv')"
   ]
  },
  {
   "cell_type": "code",
   "execution_count": 3,
   "id": "25d1fbe1",
   "metadata": {},
   "outputs": [
    {
     "data": {
      "text/html": [
       "<div>\n",
       "<style scoped>\n",
       "    .dataframe tbody tr th:only-of-type {\n",
       "        vertical-align: middle;\n",
       "    }\n",
       "\n",
       "    .dataframe tbody tr th {\n",
       "        vertical-align: top;\n",
       "    }\n",
       "\n",
       "    .dataframe thead th {\n",
       "        text-align: right;\n",
       "    }\n",
       "</style>\n",
       "<table border=\"1\" class=\"dataframe\">\n",
       "  <thead>\n",
       "    <tr style=\"text-align: right;\">\n",
       "      <th></th>\n",
       "      <th>employee_id</th>\n",
       "      <th>source</th>\n",
       "      <th>file</th>\n",
       "    </tr>\n",
       "  </thead>\n",
       "  <tbody>\n",
       "    <tr>\n",
       "      <th>0</th>\n",
       "      <td>15635</td>\n",
       "      <td>ROSA</td>\n",
       "      <td>e1b58dae-a8cc-11ec-a789-36350c8e42fe.jpg</td>\n",
       "    </tr>\n",
       "    <tr>\n",
       "      <th>1</th>\n",
       "      <td>22652</td>\n",
       "      <td>ROSA</td>\n",
       "      <td>e20fb482-a8cc-11ec-a789-36350c8e42fe.jpg</td>\n",
       "    </tr>\n",
       "    <tr>\n",
       "      <th>2</th>\n",
       "      <td>22653</td>\n",
       "      <td>ROSA</td>\n",
       "      <td>e250814c-a8cc-11ec-a789-36350c8e42fe.jpg</td>\n",
       "    </tr>\n",
       "    <tr>\n",
       "      <th>3</th>\n",
       "      <td>22561</td>\n",
       "      <td>ROSA</td>\n",
       "      <td>e2aaf9a6-a8cc-11ec-a789-36350c8e42fe.jpg</td>\n",
       "    </tr>\n",
       "    <tr>\n",
       "      <th>4</th>\n",
       "      <td>14425</td>\n",
       "      <td>ROSA</td>\n",
       "      <td>e2f410be-a8cc-11ec-a789-36350c8e42fe.jpg</td>\n",
       "    </tr>\n",
       "  </tbody>\n",
       "</table>\n",
       "</div>"
      ],
      "text/plain": [
       "   employee_id source                                      file\n",
       "0        15635   ROSA  e1b58dae-a8cc-11ec-a789-36350c8e42fe.jpg\n",
       "1        22652   ROSA  e20fb482-a8cc-11ec-a789-36350c8e42fe.jpg\n",
       "2        22653   ROSA  e250814c-a8cc-11ec-a789-36350c8e42fe.jpg\n",
       "3        22561   ROSA  e2aaf9a6-a8cc-11ec-a789-36350c8e42fe.jpg\n",
       "4        14425   ROSA  e2f410be-a8cc-11ec-a789-36350c8e42fe.jpg"
      ]
     },
     "execution_count": 3,
     "metadata": {},
     "output_type": "execute_result"
    }
   ],
   "source": [
    "df.head()"
   ]
  },
  {
   "cell_type": "code",
   "execution_count": 26,
   "id": "622fc71e",
   "metadata": {},
   "outputs": [
    {
     "name": "stdout",
     "output_type": "stream",
     "text": [
      "<class 'pandas.core.frame.DataFrame'>\n",
      "RangeIndex: 8221 entries, 0 to 8220\n",
      "Data columns (total 3 columns):\n",
      " #   Column       Non-Null Count  Dtype \n",
      "---  ------       --------------  ----- \n",
      " 0   employee_id  8221 non-null   int64 \n",
      " 1   source       8221 non-null   object\n",
      " 2   file         8221 non-null   object\n",
      "dtypes: int64(1), object(2)\n",
      "memory usage: 192.8+ KB\n"
     ]
    }
   ],
   "source": [
    "df.info()"
   ]
  },
  {
   "cell_type": "code",
   "execution_count": 6,
   "id": "108f81f1",
   "metadata": {},
   "outputs": [
    {
     "data": {
      "text/plain": [
       "8221"
      ]
     },
     "execution_count": 6,
     "metadata": {},
     "output_type": "execute_result"
    }
   ],
   "source": [
    "len(df)"
   ]
  },
  {
   "cell_type": "code",
   "execution_count": 5,
   "id": "0d43f3df",
   "metadata": {},
   "outputs": [
    {
     "data": {
      "text/plain": [
       "6505"
      ]
     },
     "execution_count": 5,
     "metadata": {},
     "output_type": "execute_result"
    }
   ],
   "source": [
    "len(df['employee_id'].unique())"
   ]
  },
  {
   "cell_type": "markdown",
   "id": "1c04de13",
   "metadata": {},
   "source": [
    "### Анализ количества фото"
   ]
  },
  {
   "cell_type": "code",
   "execution_count": 11,
   "id": "e22a9557",
   "metadata": {},
   "outputs": [],
   "source": [
    "emoployee_more_than_one_photo = df['employee_id'].value_counts() > 1"
   ]
  },
  {
   "cell_type": "code",
   "execution_count": 12,
   "id": "3b912ef2",
   "metadata": {},
   "outputs": [
    {
     "data": {
      "text/plain": [
       "10800     True\n",
       "22707     True\n",
       "689       True\n",
       "4177      True\n",
       "12366     True\n",
       "         ...  \n",
       "11719    False\n",
       "11944    False\n",
       "11934    False\n",
       "11931    False\n",
       "16177    False\n",
       "Name: employee_id, Length: 6505, dtype: bool"
      ]
     },
     "execution_count": 12,
     "metadata": {},
     "output_type": "execute_result"
    }
   ],
   "source": [
    "emoployee_more_than_one_photo"
   ]
  },
  {
   "cell_type": "code",
   "execution_count": 13,
   "id": "559b2c02",
   "metadata": {},
   "outputs": [],
   "source": [
    "employee_photo_number = df['employee_id'].value_counts()"
   ]
  },
  {
   "cell_type": "code",
   "execution_count": 20,
   "id": "54dffa10",
   "metadata": {},
   "outputs": [],
   "source": [
    "employee_with_many_photos = employee_photo_number[employee_photo_number >= 10]"
   ]
  },
  {
   "cell_type": "code",
   "execution_count": 60,
   "id": "4a22474a",
   "metadata": {},
   "outputs": [
    {
     "data": {
      "text/plain": [
       "10800    40\n",
       "22707    34\n",
       "689      26\n",
       "4177     25\n",
       "12366    24\n",
       "12154    23\n",
       "16153    22\n",
       "7988     21\n",
       "8565     21\n",
       "17303    20\n",
       "11755    19\n",
       "11673    15\n",
       "22097    15\n",
       "5310     14\n",
       "17827    13\n",
       "19785    13\n",
       "19868    13\n",
       "20390    13\n",
       "22897    12\n",
       "8447     12\n",
       "10989    12\n",
       "3073     12\n",
       "22768    12\n",
       "22605    11\n",
       "21395    11\n",
       "12166    11\n",
       "16398    11\n",
       "17974    11\n",
       "6701     11\n",
       "17547    11\n",
       "11696    11\n",
       "15695    11\n",
       "22490    10\n",
       "1330     10\n",
       "22191    10\n",
       "15369    10\n",
       "8281     10\n",
       "8193     10\n",
       "21949    10\n",
       "23014    10\n",
       "Name: employee_id, dtype: int64"
      ]
     },
     "execution_count": 60,
     "metadata": {},
     "output_type": "execute_result"
    }
   ],
   "source": [
    "employee_with_many_photos"
   ]
  },
  {
   "cell_type": "code",
   "execution_count": 22,
   "id": "1c3c380e",
   "metadata": {},
   "outputs": [
    {
     "data": {
      "text/plain": [
       "Int64Index([10800, 22707,   689,  4177, 12366, 12154, 16153,  7988,  8565,\n",
       "            17303, 11755, 11673, 22097,  5310, 17827, 19785, 19868, 20390,\n",
       "            22897,  8447, 10989,  3073, 22768, 22605, 21395, 12166, 16398,\n",
       "            17974,  6701, 17547, 11696, 15695, 22490,  1330, 22191, 15369,\n",
       "             8281,  8193, 21949, 23014],\n",
       "           dtype='int64')"
      ]
     },
     "execution_count": 22,
     "metadata": {},
     "output_type": "execute_result"
    }
   ],
   "source": [
    "employee_with_many_photos.index"
   ]
  },
  {
   "cell_type": "code",
   "execution_count": 25,
   "id": "e51e0190",
   "metadata": {},
   "outputs": [
    {
     "data": {
      "text/plain": [
       "5761"
      ]
     },
     "execution_count": 25,
     "metadata": {},
     "output_type": "execute_result"
    }
   ],
   "source": [
    "len(employee_photo_number[employee_photo_number == 1])"
   ]
  },
  {
   "cell_type": "code",
   "execution_count": null,
   "id": "759816d7",
   "metadata": {},
   "outputs": [],
   "source": [
    "data_pivot = data_final.pivot_table(index=['category_name', 'subcategory_name'], \n",
    "                                    columns='source',\n",
    "                                    values='visits',\n",
    "                                    aggfunc='sum')\n",
    "print(data_pivot.head(10))"
   ]
  },
  {
   "cell_type": "code",
   "execution_count": 33,
   "id": "49c93dca",
   "metadata": {},
   "outputs": [],
   "source": [
    "number_of_photos = df.pivot_table(index=['employee_id'], \n",
    "                                  columns='source',\n",
    "                                  values='file',\n",
    "                                  aggfunc='count').reset_index()"
   ]
  },
  {
   "cell_type": "code",
   "execution_count": 34,
   "id": "98c48b8c",
   "metadata": {},
   "outputs": [
    {
     "data": {
      "text/html": [
       "<div>\n",
       "<style scoped>\n",
       "    .dataframe tbody tr th:only-of-type {\n",
       "        vertical-align: middle;\n",
       "    }\n",
       "\n",
       "    .dataframe tbody tr th {\n",
       "        vertical-align: top;\n",
       "    }\n",
       "\n",
       "    .dataframe thead th {\n",
       "        text-align: right;\n",
       "    }\n",
       "</style>\n",
       "<table border=\"1\" class=\"dataframe\">\n",
       "  <thead>\n",
       "    <tr style=\"text-align: right;\">\n",
       "      <th>source</th>\n",
       "      <th>employee_id</th>\n",
       "      <th>BOT</th>\n",
       "      <th>CANTEEN</th>\n",
       "      <th>ROSA</th>\n",
       "    </tr>\n",
       "  </thead>\n",
       "  <tbody>\n",
       "    <tr>\n",
       "      <th>0</th>\n",
       "      <td>30</td>\n",
       "      <td>NaN</td>\n",
       "      <td>NaN</td>\n",
       "      <td>1.0</td>\n",
       "    </tr>\n",
       "    <tr>\n",
       "      <th>1</th>\n",
       "      <td>37</td>\n",
       "      <td>NaN</td>\n",
       "      <td>NaN</td>\n",
       "      <td>1.0</td>\n",
       "    </tr>\n",
       "    <tr>\n",
       "      <th>2</th>\n",
       "      <td>52</td>\n",
       "      <td>NaN</td>\n",
       "      <td>NaN</td>\n",
       "      <td>2.0</td>\n",
       "    </tr>\n",
       "    <tr>\n",
       "      <th>3</th>\n",
       "      <td>65</td>\n",
       "      <td>NaN</td>\n",
       "      <td>NaN</td>\n",
       "      <td>1.0</td>\n",
       "    </tr>\n",
       "    <tr>\n",
       "      <th>4</th>\n",
       "      <td>77</td>\n",
       "      <td>NaN</td>\n",
       "      <td>NaN</td>\n",
       "      <td>1.0</td>\n",
       "    </tr>\n",
       "  </tbody>\n",
       "</table>\n",
       "</div>"
      ],
      "text/plain": [
       "source  employee_id  BOT  CANTEEN  ROSA\n",
       "0                30  NaN      NaN   1.0\n",
       "1                37  NaN      NaN   1.0\n",
       "2                52  NaN      NaN   2.0\n",
       "3                65  NaN      NaN   1.0\n",
       "4                77  NaN      NaN   1.0"
      ]
     },
     "execution_count": 34,
     "metadata": {},
     "output_type": "execute_result"
    }
   ],
   "source": [
    "number_of_photos.head()"
   ]
  },
  {
   "cell_type": "code",
   "execution_count": 35,
   "id": "8bee38b4",
   "metadata": {},
   "outputs": [
    {
     "data": {
      "text/html": [
       "<div>\n",
       "<style scoped>\n",
       "    .dataframe tbody tr th:only-of-type {\n",
       "        vertical-align: middle;\n",
       "    }\n",
       "\n",
       "    .dataframe tbody tr th {\n",
       "        vertical-align: top;\n",
       "    }\n",
       "\n",
       "    .dataframe thead th {\n",
       "        text-align: right;\n",
       "    }\n",
       "</style>\n",
       "<table border=\"1\" class=\"dataframe\">\n",
       "  <thead>\n",
       "    <tr style=\"text-align: right;\">\n",
       "      <th>source</th>\n",
       "      <th>employee_id</th>\n",
       "      <th>BOT</th>\n",
       "      <th>CANTEEN</th>\n",
       "      <th>ROSA</th>\n",
       "    </tr>\n",
       "  </thead>\n",
       "  <tbody>\n",
       "    <tr>\n",
       "      <th>2</th>\n",
       "      <td>52</td>\n",
       "      <td>NaN</td>\n",
       "      <td>NaN</td>\n",
       "      <td>2.0</td>\n",
       "    </tr>\n",
       "    <tr>\n",
       "      <th>15</th>\n",
       "      <td>193</td>\n",
       "      <td>NaN</td>\n",
       "      <td>NaN</td>\n",
       "      <td>2.0</td>\n",
       "    </tr>\n",
       "    <tr>\n",
       "      <th>31</th>\n",
       "      <td>254</td>\n",
       "      <td>NaN</td>\n",
       "      <td>NaN</td>\n",
       "      <td>2.0</td>\n",
       "    </tr>\n",
       "    <tr>\n",
       "      <th>81</th>\n",
       "      <td>619</td>\n",
       "      <td>NaN</td>\n",
       "      <td>NaN</td>\n",
       "      <td>2.0</td>\n",
       "    </tr>\n",
       "    <tr>\n",
       "      <th>122</th>\n",
       "      <td>1288</td>\n",
       "      <td>NaN</td>\n",
       "      <td>NaN</td>\n",
       "      <td>2.0</td>\n",
       "    </tr>\n",
       "    <tr>\n",
       "      <th>...</th>\n",
       "      <td>...</td>\n",
       "      <td>...</td>\n",
       "      <td>...</td>\n",
       "      <td>...</td>\n",
       "    </tr>\n",
       "    <tr>\n",
       "      <th>6361</th>\n",
       "      <td>23136</td>\n",
       "      <td>NaN</td>\n",
       "      <td>NaN</td>\n",
       "      <td>2.0</td>\n",
       "    </tr>\n",
       "    <tr>\n",
       "      <th>6374</th>\n",
       "      <td>23151</td>\n",
       "      <td>NaN</td>\n",
       "      <td>NaN</td>\n",
       "      <td>2.0</td>\n",
       "    </tr>\n",
       "    <tr>\n",
       "      <th>6411</th>\n",
       "      <td>23191</td>\n",
       "      <td>NaN</td>\n",
       "      <td>NaN</td>\n",
       "      <td>2.0</td>\n",
       "    </tr>\n",
       "    <tr>\n",
       "      <th>6437</th>\n",
       "      <td>23225</td>\n",
       "      <td>NaN</td>\n",
       "      <td>NaN</td>\n",
       "      <td>2.0</td>\n",
       "    </tr>\n",
       "    <tr>\n",
       "      <th>6455</th>\n",
       "      <td>23246</td>\n",
       "      <td>NaN</td>\n",
       "      <td>NaN</td>\n",
       "      <td>2.0</td>\n",
       "    </tr>\n",
       "  </tbody>\n",
       "</table>\n",
       "<p>478 rows × 4 columns</p>\n",
       "</div>"
      ],
      "text/plain": [
       "source  employee_id  BOT  CANTEEN  ROSA\n",
       "2                52  NaN      NaN   2.0\n",
       "15              193  NaN      NaN   2.0\n",
       "31              254  NaN      NaN   2.0\n",
       "81              619  NaN      NaN   2.0\n",
       "122            1288  NaN      NaN   2.0\n",
       "...             ...  ...      ...   ...\n",
       "6361          23136  NaN      NaN   2.0\n",
       "6374          23151  NaN      NaN   2.0\n",
       "6411          23191  NaN      NaN   2.0\n",
       "6437          23225  NaN      NaN   2.0\n",
       "6455          23246  NaN      NaN   2.0\n",
       "\n",
       "[478 rows x 4 columns]"
      ]
     },
     "execution_count": 35,
     "metadata": {},
     "output_type": "execute_result"
    }
   ],
   "source": [
    "number_of_photos[number_of_photos['ROSA'] > 1]"
   ]
  },
  {
   "cell_type": "code",
   "execution_count": 40,
   "id": "23f35edf",
   "metadata": {},
   "outputs": [
    {
     "data": {
      "text/html": [
       "<div>\n",
       "<style scoped>\n",
       "    .dataframe tbody tr th:only-of-type {\n",
       "        vertical-align: middle;\n",
       "    }\n",
       "\n",
       "    .dataframe tbody tr th {\n",
       "        vertical-align: top;\n",
       "    }\n",
       "\n",
       "    .dataframe thead th {\n",
       "        text-align: right;\n",
       "    }\n",
       "</style>\n",
       "<table border=\"1\" class=\"dataframe\">\n",
       "  <thead>\n",
       "    <tr style=\"text-align: right;\">\n",
       "      <th>source</th>\n",
       "      <th>employee_id</th>\n",
       "      <th>BOT</th>\n",
       "      <th>CANTEEN</th>\n",
       "      <th>ROSA</th>\n",
       "    </tr>\n",
       "  </thead>\n",
       "  <tbody>\n",
       "  </tbody>\n",
       "</table>\n",
       "</div>"
      ],
      "text/plain": [
       "Empty DataFrame\n",
       "Columns: [employee_id, BOT, CANTEEN, ROSA]\n",
       "Index: []"
      ]
     },
     "execution_count": 40,
     "metadata": {},
     "output_type": "execute_result"
    }
   ],
   "source": [
    "number_of_photos[number_of_photos['ROSA'] == 0]"
   ]
  },
  {
   "cell_type": "code",
   "execution_count": null,
   "id": "e7e32872",
   "metadata": {
    "scrolled": true
   },
   "outputs": [],
   "source": []
  },
  {
   "cell_type": "code",
   "execution_count": 73,
   "id": "d0021e57",
   "metadata": {},
   "outputs": [
    {
     "data": {
      "text/plain": [
       "39"
      ]
     },
     "execution_count": 73,
     "metadata": {},
     "output_type": "execute_result"
    }
   ],
   "source": [
    "#17303\n",
    "\n",
    "for employye in employee_with_many_photos.index:\n",
    "    if 'ROSA' not in df[df['employee_id'] == employye]['source'].value_counts().index:\n",
    "        employee_with_many_photos = employee_with_many_photos.drop(index=employye)\n",
    "        \n",
    "len(employee_with_many_photos)"
   ]
  },
  {
   "cell_type": "code",
   "execution_count": 76,
   "id": "892b5b39",
   "metadata": {
    "scrolled": false
   },
   "outputs": [
    {
     "data": {
      "text/plain": [
       "[22490, 21949]"
      ]
     },
     "execution_count": 76,
     "metadata": {},
     "output_type": "execute_result"
    }
   ],
   "source": [
    "more_than_one_photo_ROSA = []\n",
    "\n",
    "for employye in employee_with_many_photos.index:\n",
    "#     print(df[df['employee_id'] == employye]['source'].value_counts())\n",
    "    if df[df['employee_id'] == employye]['source'].value_counts()['ROSA'] > 1:\n",
    "        more_than_one_photo_ROSA.append(employye)\n",
    "        \n",
    "more_than_one_photo_ROSA   "
   ]
  },
  {
   "cell_type": "code",
   "execution_count": 77,
   "id": "a071b3f0",
   "metadata": {},
   "outputs": [
    {
     "data": {
      "text/html": [
       "<div>\n",
       "<style scoped>\n",
       "    .dataframe tbody tr th:only-of-type {\n",
       "        vertical-align: middle;\n",
       "    }\n",
       "\n",
       "    .dataframe tbody tr th {\n",
       "        vertical-align: top;\n",
       "    }\n",
       "\n",
       "    .dataframe thead th {\n",
       "        text-align: right;\n",
       "    }\n",
       "</style>\n",
       "<table border=\"1\" class=\"dataframe\">\n",
       "  <thead>\n",
       "    <tr style=\"text-align: right;\">\n",
       "      <th></th>\n",
       "      <th>employee_id</th>\n",
       "      <th>source</th>\n",
       "      <th>file</th>\n",
       "    </tr>\n",
       "  </thead>\n",
       "  <tbody>\n",
       "    <tr>\n",
       "      <th>5053</th>\n",
       "      <td>22490</td>\n",
       "      <td>ROSA</td>\n",
       "      <td>2312cb2a-ad20-11ec-8ab9-cea5474ef9b7.jpg</td>\n",
       "    </tr>\n",
       "    <tr>\n",
       "      <th>7113</th>\n",
       "      <td>22490</td>\n",
       "      <td>CANTEEN</td>\n",
       "      <td>755d4b10-d68a-11ec-b40d-8a76ea2ba533.jpg</td>\n",
       "    </tr>\n",
       "    <tr>\n",
       "      <th>7227</th>\n",
       "      <td>22490</td>\n",
       "      <td>CANTEEN</td>\n",
       "      <td>50b6cc5a-d7e3-11ec-b40d-8a76ea2ba533.jpg</td>\n",
       "    </tr>\n",
       "    <tr>\n",
       "      <th>7293</th>\n",
       "      <td>22490</td>\n",
       "      <td>ROSA</td>\n",
       "      <td>281cfa4c-d7f4-11ec-81e1-32f6f7943c3d.jpg</td>\n",
       "    </tr>\n",
       "    <tr>\n",
       "      <th>7432</th>\n",
       "      <td>22490</td>\n",
       "      <td>CANTEEN</td>\n",
       "      <td>a15825a6-da4e-11ec-9a6b-8a76ea2ba533.jpg</td>\n",
       "    </tr>\n",
       "    <tr>\n",
       "      <th>7471</th>\n",
       "      <td>22490</td>\n",
       "      <td>CANTEEN</td>\n",
       "      <td>e998f5d8-da77-11ec-ac10-363df93e4ac1.jpg</td>\n",
       "    </tr>\n",
       "    <tr>\n",
       "      <th>7496</th>\n",
       "      <td>22490</td>\n",
       "      <td>CANTEEN</td>\n",
       "      <td>781531a6-db08-11ec-a843-8a76ea2ba533.jpg</td>\n",
       "    </tr>\n",
       "    <tr>\n",
       "      <th>7615</th>\n",
       "      <td>22490</td>\n",
       "      <td>CANTEEN</td>\n",
       "      <td>c0151736-dbd1-11ec-9b64-363df93e4ac1.jpg</td>\n",
       "    </tr>\n",
       "    <tr>\n",
       "      <th>8019</th>\n",
       "      <td>22490</td>\n",
       "      <td>CANTEEN</td>\n",
       "      <td>c8529958-dff7-11ec-9862-4eb8fc4b8ff7.jpg</td>\n",
       "    </tr>\n",
       "    <tr>\n",
       "      <th>8062</th>\n",
       "      <td>22490</td>\n",
       "      <td>CANTEEN</td>\n",
       "      <td>b332a028-e096-11ec-a07d-4eb8fc4b8ff7.jpg</td>\n",
       "    </tr>\n",
       "  </tbody>\n",
       "</table>\n",
       "</div>"
      ],
      "text/plain": [
       "      employee_id   source                                      file\n",
       "5053        22490     ROSA  2312cb2a-ad20-11ec-8ab9-cea5474ef9b7.jpg\n",
       "7113        22490  CANTEEN  755d4b10-d68a-11ec-b40d-8a76ea2ba533.jpg\n",
       "7227        22490  CANTEEN  50b6cc5a-d7e3-11ec-b40d-8a76ea2ba533.jpg\n",
       "7293        22490     ROSA  281cfa4c-d7f4-11ec-81e1-32f6f7943c3d.jpg\n",
       "7432        22490  CANTEEN  a15825a6-da4e-11ec-9a6b-8a76ea2ba533.jpg\n",
       "7471        22490  CANTEEN  e998f5d8-da77-11ec-ac10-363df93e4ac1.jpg\n",
       "7496        22490  CANTEEN  781531a6-db08-11ec-a843-8a76ea2ba533.jpg\n",
       "7615        22490  CANTEEN  c0151736-dbd1-11ec-9b64-363df93e4ac1.jpg\n",
       "8019        22490  CANTEEN  c8529958-dff7-11ec-9862-4eb8fc4b8ff7.jpg\n",
       "8062        22490  CANTEEN  b332a028-e096-11ec-a07d-4eb8fc4b8ff7.jpg"
      ]
     },
     "execution_count": 77,
     "metadata": {},
     "output_type": "execute_result"
    }
   ],
   "source": [
    "df[df['employee_id'] == 22490]"
   ]
  },
  {
   "cell_type": "code",
   "execution_count": 80,
   "id": "5c47cbc2",
   "metadata": {},
   "outputs": [
    {
     "data": {
      "text/html": [
       "<div>\n",
       "<style scoped>\n",
       "    .dataframe tbody tr th:only-of-type {\n",
       "        vertical-align: middle;\n",
       "    }\n",
       "\n",
       "    .dataframe tbody tr th {\n",
       "        vertical-align: top;\n",
       "    }\n",
       "\n",
       "    .dataframe thead th {\n",
       "        text-align: right;\n",
       "    }\n",
       "</style>\n",
       "<table border=\"1\" class=\"dataframe\">\n",
       "  <thead>\n",
       "    <tr style=\"text-align: right;\">\n",
       "      <th></th>\n",
       "      <th>employee_id</th>\n",
       "      <th>source</th>\n",
       "      <th>file</th>\n",
       "    </tr>\n",
       "  </thead>\n",
       "  <tbody>\n",
       "    <tr>\n",
       "      <th>129</th>\n",
       "      <td>21949</td>\n",
       "      <td>ROSA</td>\n",
       "      <td>96bfb026-a8cd-11ec-b96b-0a398d5b7c49.jpg</td>\n",
       "    </tr>\n",
       "    <tr>\n",
       "      <th>6938</th>\n",
       "      <td>21949</td>\n",
       "      <td>CANTEEN</td>\n",
       "      <td>5d1464b0-d506-11ec-9231-363df93e4ac1.jpg</td>\n",
       "    </tr>\n",
       "    <tr>\n",
       "      <th>6954</th>\n",
       "      <td>21949</td>\n",
       "      <td>ROSA</td>\n",
       "      <td>cb71262e-d532-11ec-81e1-32f6f7943c3d.jpg</td>\n",
       "    </tr>\n",
       "    <tr>\n",
       "      <th>7032</th>\n",
       "      <td>21949</td>\n",
       "      <td>CANTEEN</td>\n",
       "      <td>73bd8668-d5cb-11ec-9a6b-8a76ea2ba533.jpg</td>\n",
       "    </tr>\n",
       "    <tr>\n",
       "      <th>7129</th>\n",
       "      <td>21949</td>\n",
       "      <td>CANTEEN</td>\n",
       "      <td>b28d7340-d6a6-11ec-a843-8a76ea2ba533.jpg</td>\n",
       "    </tr>\n",
       "    <tr>\n",
       "      <th>7130</th>\n",
       "      <td>21949</td>\n",
       "      <td>CANTEEN</td>\n",
       "      <td>13df8eee-d6a7-11ec-9a6b-8a76ea2ba533.jpg</td>\n",
       "    </tr>\n",
       "    <tr>\n",
       "      <th>7317</th>\n",
       "      <td>21949</td>\n",
       "      <td>CANTEEN</td>\n",
       "      <td>2d7f07b4-d803-11ec-a843-8a76ea2ba533.jpg</td>\n",
       "    </tr>\n",
       "    <tr>\n",
       "      <th>7351</th>\n",
       "      <td>21949</td>\n",
       "      <td>CANTEEN</td>\n",
       "      <td>16a5c4fe-d823-11ec-9231-363df93e4ac1.jpg</td>\n",
       "    </tr>\n",
       "    <tr>\n",
       "      <th>7467</th>\n",
       "      <td>21949</td>\n",
       "      <td>CANTEEN</td>\n",
       "      <td>ad1ff38e-da74-11ec-a843-8a76ea2ba533.jpg</td>\n",
       "    </tr>\n",
       "    <tr>\n",
       "      <th>7689</th>\n",
       "      <td>21949</td>\n",
       "      <td>CANTEEN</td>\n",
       "      <td>de0476b4-dc09-11ec-a843-8a76ea2ba533.jpg</td>\n",
       "    </tr>\n",
       "  </tbody>\n",
       "</table>\n",
       "</div>"
      ],
      "text/plain": [
       "      employee_id   source                                      file\n",
       "129         21949     ROSA  96bfb026-a8cd-11ec-b96b-0a398d5b7c49.jpg\n",
       "6938        21949  CANTEEN  5d1464b0-d506-11ec-9231-363df93e4ac1.jpg\n",
       "6954        21949     ROSA  cb71262e-d532-11ec-81e1-32f6f7943c3d.jpg\n",
       "7032        21949  CANTEEN  73bd8668-d5cb-11ec-9a6b-8a76ea2ba533.jpg\n",
       "7129        21949  CANTEEN  b28d7340-d6a6-11ec-a843-8a76ea2ba533.jpg\n",
       "7130        21949  CANTEEN  13df8eee-d6a7-11ec-9a6b-8a76ea2ba533.jpg\n",
       "7317        21949  CANTEEN  2d7f07b4-d803-11ec-a843-8a76ea2ba533.jpg\n",
       "7351        21949  CANTEEN  16a5c4fe-d823-11ec-9231-363df93e4ac1.jpg\n",
       "7467        21949  CANTEEN  ad1ff38e-da74-11ec-a843-8a76ea2ba533.jpg\n",
       "7689        21949  CANTEEN  de0476b4-dc09-11ec-a843-8a76ea2ba533.jpg"
      ]
     },
     "execution_count": 80,
     "metadata": {},
     "output_type": "execute_result"
    }
   ],
   "source": [
    "df[df['employee_id'] == 21949]"
   ]
  },
  {
   "cell_type": "markdown",
   "id": "4be6c95d",
   "metadata": {},
   "source": [
    "### Анализ источников"
   ]
  },
  {
   "cell_type": "code",
   "execution_count": 66,
   "id": "5a44512b",
   "metadata": {},
   "outputs": [
    {
     "data": {
      "text/plain": [
       "ROSA       7014\n",
       "CANTEEN    1107\n",
       "BOT         100\n",
       "Name: source, dtype: int64"
      ]
     },
     "execution_count": 66,
     "metadata": {},
     "output_type": "execute_result"
    }
   ],
   "source": [
    "df['source'].value_counts()"
   ]
  },
  {
   "cell_type": "code",
   "execution_count": null,
   "id": "e1a72139",
   "metadata": {},
   "outputs": [],
   "source": []
  },
  {
   "cell_type": "code",
   "execution_count": 67,
   "id": "33723c33",
   "metadata": {},
   "outputs": [
    {
     "data": {
      "text/html": [
       "<div>\n",
       "<style scoped>\n",
       "    .dataframe tbody tr th:only-of-type {\n",
       "        vertical-align: middle;\n",
       "    }\n",
       "\n",
       "    .dataframe tbody tr th {\n",
       "        vertical-align: top;\n",
       "    }\n",
       "\n",
       "    .dataframe thead th {\n",
       "        text-align: right;\n",
       "    }\n",
       "</style>\n",
       "<table border=\"1\" class=\"dataframe\">\n",
       "  <thead>\n",
       "    <tr style=\"text-align: right;\">\n",
       "      <th></th>\n",
       "      <th>employee_id</th>\n",
       "      <th>source</th>\n",
       "      <th>file</th>\n",
       "    </tr>\n",
       "  </thead>\n",
       "  <tbody>\n",
       "    <tr>\n",
       "      <th>2056</th>\n",
       "      <td>10800</td>\n",
       "      <td>ROSA</td>\n",
       "      <td>ff4129ca-a8cf-11ec-b96b-0a398d5b7c49.jpg</td>\n",
       "    </tr>\n",
       "    <tr>\n",
       "      <th>6712</th>\n",
       "      <td>10800</td>\n",
       "      <td>CANTEEN</td>\n",
       "      <td>cfd6b8ba-d10d-11ec-a788-7e34b2256923.jpg</td>\n",
       "    </tr>\n",
       "    <tr>\n",
       "      <th>6747</th>\n",
       "      <td>10800</td>\n",
       "      <td>CANTEEN</td>\n",
       "      <td>566ca112-d1b5-11ec-a645-7e34b2256923.jpg</td>\n",
       "    </tr>\n",
       "    <tr>\n",
       "      <th>6768</th>\n",
       "      <td>10800</td>\n",
       "      <td>CANTEEN</td>\n",
       "      <td>956e6fe8-d1cf-11ec-a645-7e34b2256923.jpg</td>\n",
       "    </tr>\n",
       "    <tr>\n",
       "      <th>6769</th>\n",
       "      <td>10800</td>\n",
       "      <td>CANTEEN</td>\n",
       "      <td>b11b9996-d1cf-11ec-a276-32e70010e065.jpg</td>\n",
       "    </tr>\n",
       "    <tr>\n",
       "      <th>6822</th>\n",
       "      <td>10800</td>\n",
       "      <td>CANTEEN</td>\n",
       "      <td>066d123e-d27b-11ec-9909-32e70010e065.jpg</td>\n",
       "    </tr>\n",
       "    <tr>\n",
       "      <th>6831</th>\n",
       "      <td>10800</td>\n",
       "      <td>CANTEEN</td>\n",
       "      <td>9f47fe84-d28e-11ec-b40d-8a76ea2ba533.jpg</td>\n",
       "    </tr>\n",
       "    <tr>\n",
       "      <th>6901</th>\n",
       "      <td>10800</td>\n",
       "      <td>CANTEEN</td>\n",
       "      <td>4457b10e-d4d2-11ec-ac10-363df93e4ac1.jpg</td>\n",
       "    </tr>\n",
       "    <tr>\n",
       "      <th>6928</th>\n",
       "      <td>10800</td>\n",
       "      <td>CANTEEN</td>\n",
       "      <td>ef01b350-d4ed-11ec-a843-8a76ea2ba533.jpg</td>\n",
       "    </tr>\n",
       "    <tr>\n",
       "      <th>6936</th>\n",
       "      <td>10800</td>\n",
       "      <td>CANTEEN</td>\n",
       "      <td>0d8f035a-d501-11ec-9a6b-8a76ea2ba533.jpg</td>\n",
       "    </tr>\n",
       "    <tr>\n",
       "      <th>6995</th>\n",
       "      <td>10800</td>\n",
       "      <td>CANTEEN</td>\n",
       "      <td>19a42a88-d59e-11ec-9a6b-8a76ea2ba533.jpg</td>\n",
       "    </tr>\n",
       "    <tr>\n",
       "      <th>7016</th>\n",
       "      <td>10800</td>\n",
       "      <td>CANTEEN</td>\n",
       "      <td>490fbb42-d5b8-11ec-ac10-363df93e4ac1.jpg</td>\n",
       "    </tr>\n",
       "    <tr>\n",
       "      <th>7018</th>\n",
       "      <td>10800</td>\n",
       "      <td>CANTEEN</td>\n",
       "      <td>87976298-d5b8-11ec-9b64-363df93e4ac1.jpg</td>\n",
       "    </tr>\n",
       "    <tr>\n",
       "      <th>7042</th>\n",
       "      <td>10800</td>\n",
       "      <td>CANTEEN</td>\n",
       "      <td>4d1e1330-d5d3-11ec-ac10-363df93e4ac1.jpg</td>\n",
       "    </tr>\n",
       "    <tr>\n",
       "      <th>7045</th>\n",
       "      <td>10800</td>\n",
       "      <td>CANTEEN</td>\n",
       "      <td>0643960e-d5da-11ec-b40d-8a76ea2ba533.jpg</td>\n",
       "    </tr>\n",
       "    <tr>\n",
       "      <th>7090</th>\n",
       "      <td>10800</td>\n",
       "      <td>CANTEEN</td>\n",
       "      <td>64ceba96-d666-11ec-ac10-363df93e4ac1.jpg</td>\n",
       "    </tr>\n",
       "    <tr>\n",
       "      <th>7091</th>\n",
       "      <td>10800</td>\n",
       "      <td>CANTEEN</td>\n",
       "      <td>7a83fac2-d666-11ec-9231-363df93e4ac1.jpg</td>\n",
       "    </tr>\n",
       "    <tr>\n",
       "      <th>7109</th>\n",
       "      <td>10800</td>\n",
       "      <td>CANTEEN</td>\n",
       "      <td>05464c4c-d684-11ec-b40d-8a76ea2ba533.jpg</td>\n",
       "    </tr>\n",
       "    <tr>\n",
       "      <th>7157</th>\n",
       "      <td>10800</td>\n",
       "      <td>CANTEEN</td>\n",
       "      <td>a9c4dc4c-d734-11ec-b40d-8a76ea2ba533.jpg</td>\n",
       "    </tr>\n",
       "    <tr>\n",
       "      <th>7158</th>\n",
       "      <td>10800</td>\n",
       "      <td>CANTEEN</td>\n",
       "      <td>e1bfb784-d734-11ec-ac10-363df93e4ac1.jpg</td>\n",
       "    </tr>\n",
       "    <tr>\n",
       "      <th>7174</th>\n",
       "      <td>10800</td>\n",
       "      <td>CANTEEN</td>\n",
       "      <td>cc38921c-d745-11ec-a843-8a76ea2ba533.jpg</td>\n",
       "    </tr>\n",
       "    <tr>\n",
       "      <th>7210</th>\n",
       "      <td>10800</td>\n",
       "      <td>CANTEEN</td>\n",
       "      <td>208a45a8-d760-11ec-9a6b-8a76ea2ba533.jpg</td>\n",
       "    </tr>\n",
       "    <tr>\n",
       "      <th>7308</th>\n",
       "      <td>10800</td>\n",
       "      <td>CANTEEN</td>\n",
       "      <td>78df78da-d7f7-11ec-9b64-363df93e4ac1.jpg</td>\n",
       "    </tr>\n",
       "    <tr>\n",
       "      <th>7323</th>\n",
       "      <td>10800</td>\n",
       "      <td>CANTEEN</td>\n",
       "      <td>9b68d05c-d808-11ec-ac10-363df93e4ac1.jpg</td>\n",
       "    </tr>\n",
       "    <tr>\n",
       "      <th>7343</th>\n",
       "      <td>10800</td>\n",
       "      <td>CANTEEN</td>\n",
       "      <td>c3a4c7be-d81d-11ec-b40d-8a76ea2ba533.jpg</td>\n",
       "    </tr>\n",
       "    <tr>\n",
       "      <th>7438</th>\n",
       "      <td>10800</td>\n",
       "      <td>CANTEEN</td>\n",
       "      <td>3365f056-da52-11ec-a843-8a76ea2ba533.jpg</td>\n",
       "    </tr>\n",
       "    <tr>\n",
       "      <th>7444</th>\n",
       "      <td>10800</td>\n",
       "      <td>CANTEEN</td>\n",
       "      <td>5cd2f21a-da5f-11ec-b40d-8a76ea2ba533.jpg</td>\n",
       "    </tr>\n",
       "    <tr>\n",
       "      <th>7464</th>\n",
       "      <td>10800</td>\n",
       "      <td>CANTEEN</td>\n",
       "      <td>8f94d2b6-da70-11ec-ac10-363df93e4ac1.jpg</td>\n",
       "    </tr>\n",
       "    <tr>\n",
       "      <th>7477</th>\n",
       "      <td>10800</td>\n",
       "      <td>CANTEEN</td>\n",
       "      <td>e6f9a39a-da81-11ec-a843-8a76ea2ba533.jpg</td>\n",
       "    </tr>\n",
       "    <tr>\n",
       "      <th>7545</th>\n",
       "      <td>10800</td>\n",
       "      <td>CANTEEN</td>\n",
       "      <td>e1560264-db1a-11ec-b40d-8a76ea2ba533.jpg</td>\n",
       "    </tr>\n",
       "    <tr>\n",
       "      <th>7576</th>\n",
       "      <td>10800</td>\n",
       "      <td>CANTEEN</td>\n",
       "      <td>45ee67e2-db3a-11ec-9a6b-8a76ea2ba533.jpg</td>\n",
       "    </tr>\n",
       "    <tr>\n",
       "      <th>7598</th>\n",
       "      <td>10800</td>\n",
       "      <td>CANTEEN</td>\n",
       "      <td>7cb42054-db4f-11ec-ac10-363df93e4ac1.jpg</td>\n",
       "    </tr>\n",
       "    <tr>\n",
       "      <th>7653</th>\n",
       "      <td>10800</td>\n",
       "      <td>CANTEEN</td>\n",
       "      <td>8610234c-dbe9-11ec-b40d-8a76ea2ba533.jpg</td>\n",
       "    </tr>\n",
       "    <tr>\n",
       "      <th>7662</th>\n",
       "      <td>10800</td>\n",
       "      <td>CANTEEN</td>\n",
       "      <td>981df1cc-dbf3-11ec-9231-363df93e4ac1.jpg</td>\n",
       "    </tr>\n",
       "    <tr>\n",
       "      <th>7685</th>\n",
       "      <td>10800</td>\n",
       "      <td>CANTEEN</td>\n",
       "      <td>c3ab68f6-dc07-11ec-9b64-363df93e4ac1.jpg</td>\n",
       "    </tr>\n",
       "    <tr>\n",
       "      <th>7744</th>\n",
       "      <td>10800</td>\n",
       "      <td>CANTEEN</td>\n",
       "      <td>7be8d060-dca9-11ec-9b64-363df93e4ac1.jpg</td>\n",
       "    </tr>\n",
       "    <tr>\n",
       "      <th>7774</th>\n",
       "      <td>10800</td>\n",
       "      <td>CANTEEN</td>\n",
       "      <td>238d7f4a-dcc4-11ec-9231-363df93e4ac1.jpg</td>\n",
       "    </tr>\n",
       "    <tr>\n",
       "      <th>7859</th>\n",
       "      <td>10800</td>\n",
       "      <td>CANTEEN</td>\n",
       "      <td>409c60b4-dd3d-11ec-a843-8a76ea2ba533.jpg</td>\n",
       "    </tr>\n",
       "    <tr>\n",
       "      <th>7994</th>\n",
       "      <td>10800</td>\n",
       "      <td>CANTEEN</td>\n",
       "      <td>f2780f7e-dfd4-11ec-ac10-363df93e4ac1.jpg</td>\n",
       "    </tr>\n",
       "    <tr>\n",
       "      <th>8014</th>\n",
       "      <td>10800</td>\n",
       "      <td>CANTEEN</td>\n",
       "      <td>f4802abc-dfee-11ec-b40d-8a76ea2ba533.jpg</td>\n",
       "    </tr>\n",
       "  </tbody>\n",
       "</table>\n",
       "</div>"
      ],
      "text/plain": [
       "      employee_id   source                                      file\n",
       "2056        10800     ROSA  ff4129ca-a8cf-11ec-b96b-0a398d5b7c49.jpg\n",
       "6712        10800  CANTEEN  cfd6b8ba-d10d-11ec-a788-7e34b2256923.jpg\n",
       "6747        10800  CANTEEN  566ca112-d1b5-11ec-a645-7e34b2256923.jpg\n",
       "6768        10800  CANTEEN  956e6fe8-d1cf-11ec-a645-7e34b2256923.jpg\n",
       "6769        10800  CANTEEN  b11b9996-d1cf-11ec-a276-32e70010e065.jpg\n",
       "6822        10800  CANTEEN  066d123e-d27b-11ec-9909-32e70010e065.jpg\n",
       "6831        10800  CANTEEN  9f47fe84-d28e-11ec-b40d-8a76ea2ba533.jpg\n",
       "6901        10800  CANTEEN  4457b10e-d4d2-11ec-ac10-363df93e4ac1.jpg\n",
       "6928        10800  CANTEEN  ef01b350-d4ed-11ec-a843-8a76ea2ba533.jpg\n",
       "6936        10800  CANTEEN  0d8f035a-d501-11ec-9a6b-8a76ea2ba533.jpg\n",
       "6995        10800  CANTEEN  19a42a88-d59e-11ec-9a6b-8a76ea2ba533.jpg\n",
       "7016        10800  CANTEEN  490fbb42-d5b8-11ec-ac10-363df93e4ac1.jpg\n",
       "7018        10800  CANTEEN  87976298-d5b8-11ec-9b64-363df93e4ac1.jpg\n",
       "7042        10800  CANTEEN  4d1e1330-d5d3-11ec-ac10-363df93e4ac1.jpg\n",
       "7045        10800  CANTEEN  0643960e-d5da-11ec-b40d-8a76ea2ba533.jpg\n",
       "7090        10800  CANTEEN  64ceba96-d666-11ec-ac10-363df93e4ac1.jpg\n",
       "7091        10800  CANTEEN  7a83fac2-d666-11ec-9231-363df93e4ac1.jpg\n",
       "7109        10800  CANTEEN  05464c4c-d684-11ec-b40d-8a76ea2ba533.jpg\n",
       "7157        10800  CANTEEN  a9c4dc4c-d734-11ec-b40d-8a76ea2ba533.jpg\n",
       "7158        10800  CANTEEN  e1bfb784-d734-11ec-ac10-363df93e4ac1.jpg\n",
       "7174        10800  CANTEEN  cc38921c-d745-11ec-a843-8a76ea2ba533.jpg\n",
       "7210        10800  CANTEEN  208a45a8-d760-11ec-9a6b-8a76ea2ba533.jpg\n",
       "7308        10800  CANTEEN  78df78da-d7f7-11ec-9b64-363df93e4ac1.jpg\n",
       "7323        10800  CANTEEN  9b68d05c-d808-11ec-ac10-363df93e4ac1.jpg\n",
       "7343        10800  CANTEEN  c3a4c7be-d81d-11ec-b40d-8a76ea2ba533.jpg\n",
       "7438        10800  CANTEEN  3365f056-da52-11ec-a843-8a76ea2ba533.jpg\n",
       "7444        10800  CANTEEN  5cd2f21a-da5f-11ec-b40d-8a76ea2ba533.jpg\n",
       "7464        10800  CANTEEN  8f94d2b6-da70-11ec-ac10-363df93e4ac1.jpg\n",
       "7477        10800  CANTEEN  e6f9a39a-da81-11ec-a843-8a76ea2ba533.jpg\n",
       "7545        10800  CANTEEN  e1560264-db1a-11ec-b40d-8a76ea2ba533.jpg\n",
       "7576        10800  CANTEEN  45ee67e2-db3a-11ec-9a6b-8a76ea2ba533.jpg\n",
       "7598        10800  CANTEEN  7cb42054-db4f-11ec-ac10-363df93e4ac1.jpg\n",
       "7653        10800  CANTEEN  8610234c-dbe9-11ec-b40d-8a76ea2ba533.jpg\n",
       "7662        10800  CANTEEN  981df1cc-dbf3-11ec-9231-363df93e4ac1.jpg\n",
       "7685        10800  CANTEEN  c3ab68f6-dc07-11ec-9b64-363df93e4ac1.jpg\n",
       "7744        10800  CANTEEN  7be8d060-dca9-11ec-9b64-363df93e4ac1.jpg\n",
       "7774        10800  CANTEEN  238d7f4a-dcc4-11ec-9231-363df93e4ac1.jpg\n",
       "7859        10800  CANTEEN  409c60b4-dd3d-11ec-a843-8a76ea2ba533.jpg\n",
       "7994        10800  CANTEEN  f2780f7e-dfd4-11ec-ac10-363df93e4ac1.jpg\n",
       "8014        10800  CANTEEN  f4802abc-dfee-11ec-b40d-8a76ea2ba533.jpg"
      ]
     },
     "execution_count": 67,
     "metadata": {},
     "output_type": "execute_result"
    }
   ],
   "source": [
    "df[df['employee_id'] == 10800]"
   ]
  },
  {
   "cell_type": "code",
   "execution_count": 71,
   "id": "9fc24540",
   "metadata": {},
   "outputs": [],
   "source": [
    "PHOTO_PATH = '/home/kirillk/datasets/cafe_face_recognition/face_recognition_prototype/images/'\n",
    "DATA_PATH = '/home/kirillk/PycharmProjects/face-recognition-prototype/data/photos/'\n",
    "TEST_DATA_PATH = '/home/kirillk/PycharmProjects/face-recognition-prototype/data/test_photos/'"
   ]
  },
  {
   "cell_type": "code",
   "execution_count": 79,
   "id": "c9e8a10f",
   "metadata": {},
   "outputs": [],
   "source": [
    "for index, row in df.iterrows():\n",
    "    if row['employee_id'] in employee_with_many_photos.index and row['source'] == 'ROSA':\n",
    "        shutil.copyfile(PHOTO_PATH + row['file'], DATA_PATH + row['file'])"
   ]
  },
  {
   "cell_type": "code",
   "execution_count": null,
   "id": "76e31268",
   "metadata": {},
   "outputs": [],
   "source": []
  },
  {
   "cell_type": "code",
   "execution_count": 78,
   "id": "6076b79f",
   "metadata": {},
   "outputs": [],
   "source": [
    "for index, row in df.iterrows():\n",
    "    if row['employee_id'] in employee_with_many_photos.index and row['source'] != 'ROSA':\n",
    "        shutil.copyfile(PHOTO_PATH + row['file'], TEST_DATA_PATH + row['file'])"
   ]
  },
  {
   "cell_type": "code",
   "execution_count": null,
   "id": "c6800584",
   "metadata": {},
   "outputs": [],
   "source": []
  },
  {
   "cell_type": "code",
   "execution_count": null,
   "id": "9537a9d2",
   "metadata": {},
   "outputs": [],
   "source": []
  }
 ],
 "metadata": {
  "kernelspec": {
   "display_name": "ocr_data_generation",
   "language": "python",
   "name": "ocr_data_generation"
  },
  "language_info": {
   "codemirror_mode": {
    "name": "ipython",
    "version": 3
   },
   "file_extension": ".py",
   "mimetype": "text/x-python",
   "name": "python",
   "nbconvert_exporter": "python",
   "pygments_lexer": "ipython3",
   "version": "3.9.13"
  }
 },
 "nbformat": 4,
 "nbformat_minor": 5
}
