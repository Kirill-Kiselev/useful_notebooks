{
 "cells": [
  {
   "cell_type": "code",
   "execution_count": 1,
   "id": "0a2c7b2d",
   "metadata": {},
   "outputs": [],
   "source": [
    "import pandas as pd\n",
    "import shutil"
   ]
  },
  {
   "cell_type": "code",
   "execution_count": 2,
   "id": "5192fc93",
   "metadata": {},
   "outputs": [],
   "source": [
    "df = pd.read_csv('/home/kirillk/datasets/cafe_face_recognition/face_recognition_prototype/fucking_dump_ya_ebal.csv')"
   ]
  },
  {
   "cell_type": "code",
   "execution_count": 3,
   "id": "25d1fbe1",
   "metadata": {},
   "outputs": [
    {
     "data": {
      "text/html": [
       "<div>\n",
       "<style scoped>\n",
       "    .dataframe tbody tr th:only-of-type {\n",
       "        vertical-align: middle;\n",
       "    }\n",
       "\n",
       "    .dataframe tbody tr th {\n",
       "        vertical-align: top;\n",
       "    }\n",
       "\n",
       "    .dataframe thead th {\n",
       "        text-align: right;\n",
       "    }\n",
       "</style>\n",
       "<table border=\"1\" class=\"dataframe\">\n",
       "  <thead>\n",
       "    <tr style=\"text-align: right;\">\n",
       "      <th></th>\n",
       "      <th>employee_id</th>\n",
       "      <th>source</th>\n",
       "      <th>file</th>\n",
       "    </tr>\n",
       "  </thead>\n",
       "  <tbody>\n",
       "    <tr>\n",
       "      <th>0</th>\n",
       "      <td>15635</td>\n",
       "      <td>ROSA</td>\n",
       "      <td>e1b58dae-a8cc-11ec-a789-36350c8e42fe.jpg</td>\n",
       "    </tr>\n",
       "    <tr>\n",
       "      <th>1</th>\n",
       "      <td>22652</td>\n",
       "      <td>ROSA</td>\n",
       "      <td>e20fb482-a8cc-11ec-a789-36350c8e42fe.jpg</td>\n",
       "    </tr>\n",
       "    <tr>\n",
       "      <th>2</th>\n",
       "      <td>22653</td>\n",
       "      <td>ROSA</td>\n",
       "      <td>e250814c-a8cc-11ec-a789-36350c8e42fe.jpg</td>\n",
       "    </tr>\n",
       "    <tr>\n",
       "      <th>3</th>\n",
       "      <td>22561</td>\n",
       "      <td>ROSA</td>\n",
       "      <td>e2aaf9a6-a8cc-11ec-a789-36350c8e42fe.jpg</td>\n",
       "    </tr>\n",
       "    <tr>\n",
       "      <th>4</th>\n",
       "      <td>14425</td>\n",
       "      <td>ROSA</td>\n",
       "      <td>e2f410be-a8cc-11ec-a789-36350c8e42fe.jpg</td>\n",
       "    </tr>\n",
       "  </tbody>\n",
       "</table>\n",
       "</div>"
      ],
      "text/plain": [
       "   employee_id source                                      file\n",
       "0        15635   ROSA  e1b58dae-a8cc-11ec-a789-36350c8e42fe.jpg\n",
       "1        22652   ROSA  e20fb482-a8cc-11ec-a789-36350c8e42fe.jpg\n",
       "2        22653   ROSA  e250814c-a8cc-11ec-a789-36350c8e42fe.jpg\n",
       "3        22561   ROSA  e2aaf9a6-a8cc-11ec-a789-36350c8e42fe.jpg\n",
       "4        14425   ROSA  e2f410be-a8cc-11ec-a789-36350c8e42fe.jpg"
      ]
     },
     "execution_count": 3,
     "metadata": {},
     "output_type": "execute_result"
    }
   ],
   "source": [
    "df.head()"
   ]
  },
  {
   "cell_type": "code",
   "execution_count": 4,
   "id": "622fc71e",
   "metadata": {},
   "outputs": [
    {
     "name": "stdout",
     "output_type": "stream",
     "text": [
      "<class 'pandas.core.frame.DataFrame'>\n",
      "RangeIndex: 8221 entries, 0 to 8220\n",
      "Data columns (total 3 columns):\n",
      " #   Column       Non-Null Count  Dtype \n",
      "---  ------       --------------  ----- \n",
      " 0   employee_id  8221 non-null   int64 \n",
      " 1   source       8221 non-null   object\n",
      " 2   file         8221 non-null   object\n",
      "dtypes: int64(1), object(2)\n",
      "memory usage: 192.8+ KB\n"
     ]
    }
   ],
   "source": [
    "df.info()"
   ]
  },
  {
   "cell_type": "code",
   "execution_count": 5,
   "id": "108f81f1",
   "metadata": {},
   "outputs": [
    {
     "data": {
      "text/plain": [
       "8221"
      ]
     },
     "execution_count": 5,
     "metadata": {},
     "output_type": "execute_result"
    }
   ],
   "source": [
    "len(df)"
   ]
  },
  {
   "cell_type": "code",
   "execution_count": 6,
   "id": "0d43f3df",
   "metadata": {},
   "outputs": [
    {
     "data": {
      "text/plain": [
       "6505"
      ]
     },
     "execution_count": 6,
     "metadata": {},
     "output_type": "execute_result"
    }
   ],
   "source": [
    "len(df['employee_id'].unique())"
   ]
  },
  {
   "cell_type": "markdown",
   "id": "1c04de13",
   "metadata": {},
   "source": [
    "### Анализ количества фото"
   ]
  },
  {
   "cell_type": "code",
   "execution_count": 7,
   "id": "e22a9557",
   "metadata": {},
   "outputs": [],
   "source": [
    "emoployee_more_than_one_photo = df['employee_id'].value_counts() > 1"
   ]
  },
  {
   "cell_type": "code",
   "execution_count": 8,
   "id": "3b912ef2",
   "metadata": {},
   "outputs": [
    {
     "data": {
      "text/plain": [
       "10800     True\n",
       "22707     True\n",
       "689       True\n",
       "4177      True\n",
       "12366     True\n",
       "         ...  \n",
       "11719    False\n",
       "11944    False\n",
       "11934    False\n",
       "11931    False\n",
       "16177    False\n",
       "Name: employee_id, Length: 6505, dtype: bool"
      ]
     },
     "execution_count": 8,
     "metadata": {},
     "output_type": "execute_result"
    }
   ],
   "source": [
    "emoployee_more_than_one_photo"
   ]
  },
  {
   "cell_type": "code",
   "execution_count": 9,
   "id": "559b2c02",
   "metadata": {},
   "outputs": [],
   "source": [
    "employee_photo_number = df['employee_id'].value_counts()"
   ]
  },
  {
   "cell_type": "code",
   "execution_count": 10,
   "id": "54dffa10",
   "metadata": {},
   "outputs": [],
   "source": [
    "employee_with_many_photos = employee_photo_number[employee_photo_number >= 10]"
   ]
  },
  {
   "cell_type": "code",
   "execution_count": 11,
   "id": "4a22474a",
   "metadata": {},
   "outputs": [
    {
     "data": {
      "text/plain": [
       "10800    40\n",
       "22707    34\n",
       "689      26\n",
       "4177     25\n",
       "12366    24\n",
       "12154    23\n",
       "16153    22\n",
       "7988     21\n",
       "8565     21\n",
       "17303    20\n",
       "11755    19\n",
       "11673    15\n",
       "22097    15\n",
       "5310     14\n",
       "17827    13\n",
       "19785    13\n",
       "19868    13\n",
       "20390    13\n",
       "22897    12\n",
       "8447     12\n",
       "10989    12\n",
       "3073     12\n",
       "22768    12\n",
       "22605    11\n",
       "21395    11\n",
       "12166    11\n",
       "16398    11\n",
       "17974    11\n",
       "6701     11\n",
       "17547    11\n",
       "11696    11\n",
       "15695    11\n",
       "22490    10\n",
       "1330     10\n",
       "22191    10\n",
       "15369    10\n",
       "8281     10\n",
       "8193     10\n",
       "21949    10\n",
       "23014    10\n",
       "Name: employee_id, dtype: int64"
      ]
     },
     "execution_count": 11,
     "metadata": {},
     "output_type": "execute_result"
    }
   ],
   "source": [
    "employee_with_many_photos"
   ]
  },
  {
   "cell_type": "code",
   "execution_count": 12,
   "id": "1c3c380e",
   "metadata": {},
   "outputs": [
    {
     "data": {
      "text/plain": [
       "40"
      ]
     },
     "execution_count": 12,
     "metadata": {},
     "output_type": "execute_result"
    }
   ],
   "source": [
    "len(employee_with_many_photos.index)"
   ]
  },
  {
   "cell_type": "code",
   "execution_count": null,
   "id": "24ed7da0",
   "metadata": {},
   "outputs": [],
   "source": []
  },
  {
   "cell_type": "code",
   "execution_count": 13,
   "id": "e51e0190",
   "metadata": {},
   "outputs": [
    {
     "data": {
      "text/plain": [
       "5761"
      ]
     },
     "execution_count": 13,
     "metadata": {},
     "output_type": "execute_result"
    }
   ],
   "source": [
    "len(employee_photo_number[employee_photo_number == 1])"
   ]
  },
  {
   "cell_type": "code",
   "execution_count": 14,
   "id": "49c93dca",
   "metadata": {},
   "outputs": [],
   "source": [
    "number_of_photos = df.pivot_table(index=['employee_id'], \n",
    "                                  columns='source',\n",
    "                                  values='file',\n",
    "                                  aggfunc='count').reset_index()"
   ]
  },
  {
   "cell_type": "code",
   "execution_count": 15,
   "id": "98c48b8c",
   "metadata": {},
   "outputs": [
    {
     "data": {
      "text/html": [
       "<div>\n",
       "<style scoped>\n",
       "    .dataframe tbody tr th:only-of-type {\n",
       "        vertical-align: middle;\n",
       "    }\n",
       "\n",
       "    .dataframe tbody tr th {\n",
       "        vertical-align: top;\n",
       "    }\n",
       "\n",
       "    .dataframe thead th {\n",
       "        text-align: right;\n",
       "    }\n",
       "</style>\n",
       "<table border=\"1\" class=\"dataframe\">\n",
       "  <thead>\n",
       "    <tr style=\"text-align: right;\">\n",
       "      <th>source</th>\n",
       "      <th>employee_id</th>\n",
       "      <th>BOT</th>\n",
       "      <th>CANTEEN</th>\n",
       "      <th>ROSA</th>\n",
       "    </tr>\n",
       "  </thead>\n",
       "  <tbody>\n",
       "    <tr>\n",
       "      <th>0</th>\n",
       "      <td>30</td>\n",
       "      <td>NaN</td>\n",
       "      <td>NaN</td>\n",
       "      <td>1.0</td>\n",
       "    </tr>\n",
       "    <tr>\n",
       "      <th>1</th>\n",
       "      <td>37</td>\n",
       "      <td>NaN</td>\n",
       "      <td>NaN</td>\n",
       "      <td>1.0</td>\n",
       "    </tr>\n",
       "    <tr>\n",
       "      <th>2</th>\n",
       "      <td>52</td>\n",
       "      <td>NaN</td>\n",
       "      <td>NaN</td>\n",
       "      <td>2.0</td>\n",
       "    </tr>\n",
       "    <tr>\n",
       "      <th>3</th>\n",
       "      <td>65</td>\n",
       "      <td>NaN</td>\n",
       "      <td>NaN</td>\n",
       "      <td>1.0</td>\n",
       "    </tr>\n",
       "    <tr>\n",
       "      <th>4</th>\n",
       "      <td>77</td>\n",
       "      <td>NaN</td>\n",
       "      <td>NaN</td>\n",
       "      <td>1.0</td>\n",
       "    </tr>\n",
       "  </tbody>\n",
       "</table>\n",
       "</div>"
      ],
      "text/plain": [
       "source  employee_id  BOT  CANTEEN  ROSA\n",
       "0                30  NaN      NaN   1.0\n",
       "1                37  NaN      NaN   1.0\n",
       "2                52  NaN      NaN   2.0\n",
       "3                65  NaN      NaN   1.0\n",
       "4                77  NaN      NaN   1.0"
      ]
     },
     "execution_count": 15,
     "metadata": {},
     "output_type": "execute_result"
    }
   ],
   "source": [
    "number_of_photos.head()"
   ]
  },
  {
   "cell_type": "code",
   "execution_count": 16,
   "id": "8bee38b4",
   "metadata": {},
   "outputs": [
    {
     "data": {
      "text/html": [
       "<div>\n",
       "<style scoped>\n",
       "    .dataframe tbody tr th:only-of-type {\n",
       "        vertical-align: middle;\n",
       "    }\n",
       "\n",
       "    .dataframe tbody tr th {\n",
       "        vertical-align: top;\n",
       "    }\n",
       "\n",
       "    .dataframe thead th {\n",
       "        text-align: right;\n",
       "    }\n",
       "</style>\n",
       "<table border=\"1\" class=\"dataframe\">\n",
       "  <thead>\n",
       "    <tr style=\"text-align: right;\">\n",
       "      <th>source</th>\n",
       "      <th>employee_id</th>\n",
       "      <th>BOT</th>\n",
       "      <th>CANTEEN</th>\n",
       "      <th>ROSA</th>\n",
       "    </tr>\n",
       "  </thead>\n",
       "  <tbody>\n",
       "    <tr>\n",
       "      <th>2</th>\n",
       "      <td>52</td>\n",
       "      <td>NaN</td>\n",
       "      <td>NaN</td>\n",
       "      <td>2.0</td>\n",
       "    </tr>\n",
       "    <tr>\n",
       "      <th>15</th>\n",
       "      <td>193</td>\n",
       "      <td>NaN</td>\n",
       "      <td>NaN</td>\n",
       "      <td>2.0</td>\n",
       "    </tr>\n",
       "    <tr>\n",
       "      <th>31</th>\n",
       "      <td>254</td>\n",
       "      <td>NaN</td>\n",
       "      <td>NaN</td>\n",
       "      <td>2.0</td>\n",
       "    </tr>\n",
       "    <tr>\n",
       "      <th>81</th>\n",
       "      <td>619</td>\n",
       "      <td>NaN</td>\n",
       "      <td>NaN</td>\n",
       "      <td>2.0</td>\n",
       "    </tr>\n",
       "    <tr>\n",
       "      <th>122</th>\n",
       "      <td>1288</td>\n",
       "      <td>NaN</td>\n",
       "      <td>NaN</td>\n",
       "      <td>2.0</td>\n",
       "    </tr>\n",
       "    <tr>\n",
       "      <th>...</th>\n",
       "      <td>...</td>\n",
       "      <td>...</td>\n",
       "      <td>...</td>\n",
       "      <td>...</td>\n",
       "    </tr>\n",
       "    <tr>\n",
       "      <th>6361</th>\n",
       "      <td>23136</td>\n",
       "      <td>NaN</td>\n",
       "      <td>NaN</td>\n",
       "      <td>2.0</td>\n",
       "    </tr>\n",
       "    <tr>\n",
       "      <th>6374</th>\n",
       "      <td>23151</td>\n",
       "      <td>NaN</td>\n",
       "      <td>NaN</td>\n",
       "      <td>2.0</td>\n",
       "    </tr>\n",
       "    <tr>\n",
       "      <th>6411</th>\n",
       "      <td>23191</td>\n",
       "      <td>NaN</td>\n",
       "      <td>NaN</td>\n",
       "      <td>2.0</td>\n",
       "    </tr>\n",
       "    <tr>\n",
       "      <th>6437</th>\n",
       "      <td>23225</td>\n",
       "      <td>NaN</td>\n",
       "      <td>NaN</td>\n",
       "      <td>2.0</td>\n",
       "    </tr>\n",
       "    <tr>\n",
       "      <th>6455</th>\n",
       "      <td>23246</td>\n",
       "      <td>NaN</td>\n",
       "      <td>NaN</td>\n",
       "      <td>2.0</td>\n",
       "    </tr>\n",
       "  </tbody>\n",
       "</table>\n",
       "<p>478 rows × 4 columns</p>\n",
       "</div>"
      ],
      "text/plain": [
       "source  employee_id  BOT  CANTEEN  ROSA\n",
       "2                52  NaN      NaN   2.0\n",
       "15              193  NaN      NaN   2.0\n",
       "31              254  NaN      NaN   2.0\n",
       "81              619  NaN      NaN   2.0\n",
       "122            1288  NaN      NaN   2.0\n",
       "...             ...  ...      ...   ...\n",
       "6361          23136  NaN      NaN   2.0\n",
       "6374          23151  NaN      NaN   2.0\n",
       "6411          23191  NaN      NaN   2.0\n",
       "6437          23225  NaN      NaN   2.0\n",
       "6455          23246  NaN      NaN   2.0\n",
       "\n",
       "[478 rows x 4 columns]"
      ]
     },
     "execution_count": 16,
     "metadata": {},
     "output_type": "execute_result"
    }
   ],
   "source": [
    "number_of_photos[number_of_photos['ROSA'] > 1]"
   ]
  },
  {
   "cell_type": "code",
   "execution_count": 17,
   "id": "23f35edf",
   "metadata": {},
   "outputs": [
    {
     "data": {
      "text/html": [
       "<div>\n",
       "<style scoped>\n",
       "    .dataframe tbody tr th:only-of-type {\n",
       "        vertical-align: middle;\n",
       "    }\n",
       "\n",
       "    .dataframe tbody tr th {\n",
       "        vertical-align: top;\n",
       "    }\n",
       "\n",
       "    .dataframe thead th {\n",
       "        text-align: right;\n",
       "    }\n",
       "</style>\n",
       "<table border=\"1\" class=\"dataframe\">\n",
       "  <thead>\n",
       "    <tr style=\"text-align: right;\">\n",
       "      <th>source</th>\n",
       "      <th>employee_id</th>\n",
       "      <th>BOT</th>\n",
       "      <th>CANTEEN</th>\n",
       "      <th>ROSA</th>\n",
       "    </tr>\n",
       "  </thead>\n",
       "  <tbody>\n",
       "  </tbody>\n",
       "</table>\n",
       "</div>"
      ],
      "text/plain": [
       "Empty DataFrame\n",
       "Columns: [employee_id, BOT, CANTEEN, ROSA]\n",
       "Index: []"
      ]
     },
     "execution_count": 17,
     "metadata": {},
     "output_type": "execute_result"
    }
   ],
   "source": [
    "number_of_photos[number_of_photos['ROSA'] == 0]"
   ]
  },
  {
   "cell_type": "code",
   "execution_count": null,
   "id": "e7e32872",
   "metadata": {
    "scrolled": true
   },
   "outputs": [],
   "source": []
  },
  {
   "cell_type": "code",
   "execution_count": 18,
   "id": "d0021e57",
   "metadata": {},
   "outputs": [
    {
     "data": {
      "text/plain": [
       "39"
      ]
     },
     "execution_count": 18,
     "metadata": {},
     "output_type": "execute_result"
    }
   ],
   "source": [
    "#17303\n",
    "\n",
    "for employye in employee_with_many_photos.index:\n",
    "    if 'ROSA' not in df[df['employee_id'] == employye]['source'].value_counts().index:\n",
    "        employee_with_many_photos = employee_with_many_photos.drop(index=employye)\n",
    "        \n",
    "len(employee_with_many_photos)"
   ]
  },
  {
   "cell_type": "code",
   "execution_count": 19,
   "id": "892b5b39",
   "metadata": {
    "scrolled": false
   },
   "outputs": [
    {
     "data": {
      "text/plain": [
       "[22490, 21949]"
      ]
     },
     "execution_count": 19,
     "metadata": {},
     "output_type": "execute_result"
    }
   ],
   "source": [
    "more_than_one_photo_ROSA = []\n",
    "\n",
    "for employye in employee_with_many_photos.index:\n",
    "#     print(df[df['employee_id'] == employye]['source'].value_counts())\n",
    "    if df[df['employee_id'] == employye]['source'].value_counts()['ROSA'] > 1:\n",
    "        more_than_one_photo_ROSA.append(employye)\n",
    "        \n",
    "more_than_one_photo_ROSA   "
   ]
  },
  {
   "cell_type": "code",
   "execution_count": 20,
   "id": "a071b3f0",
   "metadata": {},
   "outputs": [
    {
     "data": {
      "text/html": [
       "<div>\n",
       "<style scoped>\n",
       "    .dataframe tbody tr th:only-of-type {\n",
       "        vertical-align: middle;\n",
       "    }\n",
       "\n",
       "    .dataframe tbody tr th {\n",
       "        vertical-align: top;\n",
       "    }\n",
       "\n",
       "    .dataframe thead th {\n",
       "        text-align: right;\n",
       "    }\n",
       "</style>\n",
       "<table border=\"1\" class=\"dataframe\">\n",
       "  <thead>\n",
       "    <tr style=\"text-align: right;\">\n",
       "      <th></th>\n",
       "      <th>employee_id</th>\n",
       "      <th>source</th>\n",
       "      <th>file</th>\n",
       "    </tr>\n",
       "  </thead>\n",
       "  <tbody>\n",
       "    <tr>\n",
       "      <th>5053</th>\n",
       "      <td>22490</td>\n",
       "      <td>ROSA</td>\n",
       "      <td>2312cb2a-ad20-11ec-8ab9-cea5474ef9b7.jpg</td>\n",
       "    </tr>\n",
       "    <tr>\n",
       "      <th>7113</th>\n",
       "      <td>22490</td>\n",
       "      <td>CANTEEN</td>\n",
       "      <td>755d4b10-d68a-11ec-b40d-8a76ea2ba533.jpg</td>\n",
       "    </tr>\n",
       "    <tr>\n",
       "      <th>7227</th>\n",
       "      <td>22490</td>\n",
       "      <td>CANTEEN</td>\n",
       "      <td>50b6cc5a-d7e3-11ec-b40d-8a76ea2ba533.jpg</td>\n",
       "    </tr>\n",
       "    <tr>\n",
       "      <th>7293</th>\n",
       "      <td>22490</td>\n",
       "      <td>ROSA</td>\n",
       "      <td>281cfa4c-d7f4-11ec-81e1-32f6f7943c3d.jpg</td>\n",
       "    </tr>\n",
       "    <tr>\n",
       "      <th>7432</th>\n",
       "      <td>22490</td>\n",
       "      <td>CANTEEN</td>\n",
       "      <td>a15825a6-da4e-11ec-9a6b-8a76ea2ba533.jpg</td>\n",
       "    </tr>\n",
       "    <tr>\n",
       "      <th>7471</th>\n",
       "      <td>22490</td>\n",
       "      <td>CANTEEN</td>\n",
       "      <td>e998f5d8-da77-11ec-ac10-363df93e4ac1.jpg</td>\n",
       "    </tr>\n",
       "    <tr>\n",
       "      <th>7496</th>\n",
       "      <td>22490</td>\n",
       "      <td>CANTEEN</td>\n",
       "      <td>781531a6-db08-11ec-a843-8a76ea2ba533.jpg</td>\n",
       "    </tr>\n",
       "    <tr>\n",
       "      <th>7615</th>\n",
       "      <td>22490</td>\n",
       "      <td>CANTEEN</td>\n",
       "      <td>c0151736-dbd1-11ec-9b64-363df93e4ac1.jpg</td>\n",
       "    </tr>\n",
       "    <tr>\n",
       "      <th>8019</th>\n",
       "      <td>22490</td>\n",
       "      <td>CANTEEN</td>\n",
       "      <td>c8529958-dff7-11ec-9862-4eb8fc4b8ff7.jpg</td>\n",
       "    </tr>\n",
       "    <tr>\n",
       "      <th>8062</th>\n",
       "      <td>22490</td>\n",
       "      <td>CANTEEN</td>\n",
       "      <td>b332a028-e096-11ec-a07d-4eb8fc4b8ff7.jpg</td>\n",
       "    </tr>\n",
       "  </tbody>\n",
       "</table>\n",
       "</div>"
      ],
      "text/plain": [
       "      employee_id   source                                      file\n",
       "5053        22490     ROSA  2312cb2a-ad20-11ec-8ab9-cea5474ef9b7.jpg\n",
       "7113        22490  CANTEEN  755d4b10-d68a-11ec-b40d-8a76ea2ba533.jpg\n",
       "7227        22490  CANTEEN  50b6cc5a-d7e3-11ec-b40d-8a76ea2ba533.jpg\n",
       "7293        22490     ROSA  281cfa4c-d7f4-11ec-81e1-32f6f7943c3d.jpg\n",
       "7432        22490  CANTEEN  a15825a6-da4e-11ec-9a6b-8a76ea2ba533.jpg\n",
       "7471        22490  CANTEEN  e998f5d8-da77-11ec-ac10-363df93e4ac1.jpg\n",
       "7496        22490  CANTEEN  781531a6-db08-11ec-a843-8a76ea2ba533.jpg\n",
       "7615        22490  CANTEEN  c0151736-dbd1-11ec-9b64-363df93e4ac1.jpg\n",
       "8019        22490  CANTEEN  c8529958-dff7-11ec-9862-4eb8fc4b8ff7.jpg\n",
       "8062        22490  CANTEEN  b332a028-e096-11ec-a07d-4eb8fc4b8ff7.jpg"
      ]
     },
     "execution_count": 20,
     "metadata": {},
     "output_type": "execute_result"
    }
   ],
   "source": [
    "df[df['employee_id'] == 22490]"
   ]
  },
  {
   "cell_type": "code",
   "execution_count": 21,
   "id": "5c47cbc2",
   "metadata": {},
   "outputs": [
    {
     "data": {
      "text/html": [
       "<div>\n",
       "<style scoped>\n",
       "    .dataframe tbody tr th:only-of-type {\n",
       "        vertical-align: middle;\n",
       "    }\n",
       "\n",
       "    .dataframe tbody tr th {\n",
       "        vertical-align: top;\n",
       "    }\n",
       "\n",
       "    .dataframe thead th {\n",
       "        text-align: right;\n",
       "    }\n",
       "</style>\n",
       "<table border=\"1\" class=\"dataframe\">\n",
       "  <thead>\n",
       "    <tr style=\"text-align: right;\">\n",
       "      <th></th>\n",
       "      <th>employee_id</th>\n",
       "      <th>source</th>\n",
       "      <th>file</th>\n",
       "    </tr>\n",
       "  </thead>\n",
       "  <tbody>\n",
       "    <tr>\n",
       "      <th>129</th>\n",
       "      <td>21949</td>\n",
       "      <td>ROSA</td>\n",
       "      <td>96bfb026-a8cd-11ec-b96b-0a398d5b7c49.jpg</td>\n",
       "    </tr>\n",
       "    <tr>\n",
       "      <th>6938</th>\n",
       "      <td>21949</td>\n",
       "      <td>CANTEEN</td>\n",
       "      <td>5d1464b0-d506-11ec-9231-363df93e4ac1.jpg</td>\n",
       "    </tr>\n",
       "    <tr>\n",
       "      <th>6954</th>\n",
       "      <td>21949</td>\n",
       "      <td>ROSA</td>\n",
       "      <td>cb71262e-d532-11ec-81e1-32f6f7943c3d.jpg</td>\n",
       "    </tr>\n",
       "    <tr>\n",
       "      <th>7032</th>\n",
       "      <td>21949</td>\n",
       "      <td>CANTEEN</td>\n",
       "      <td>73bd8668-d5cb-11ec-9a6b-8a76ea2ba533.jpg</td>\n",
       "    </tr>\n",
       "    <tr>\n",
       "      <th>7129</th>\n",
       "      <td>21949</td>\n",
       "      <td>CANTEEN</td>\n",
       "      <td>b28d7340-d6a6-11ec-a843-8a76ea2ba533.jpg</td>\n",
       "    </tr>\n",
       "    <tr>\n",
       "      <th>7130</th>\n",
       "      <td>21949</td>\n",
       "      <td>CANTEEN</td>\n",
       "      <td>13df8eee-d6a7-11ec-9a6b-8a76ea2ba533.jpg</td>\n",
       "    </tr>\n",
       "    <tr>\n",
       "      <th>7317</th>\n",
       "      <td>21949</td>\n",
       "      <td>CANTEEN</td>\n",
       "      <td>2d7f07b4-d803-11ec-a843-8a76ea2ba533.jpg</td>\n",
       "    </tr>\n",
       "    <tr>\n",
       "      <th>7351</th>\n",
       "      <td>21949</td>\n",
       "      <td>CANTEEN</td>\n",
       "      <td>16a5c4fe-d823-11ec-9231-363df93e4ac1.jpg</td>\n",
       "    </tr>\n",
       "    <tr>\n",
       "      <th>7467</th>\n",
       "      <td>21949</td>\n",
       "      <td>CANTEEN</td>\n",
       "      <td>ad1ff38e-da74-11ec-a843-8a76ea2ba533.jpg</td>\n",
       "    </tr>\n",
       "    <tr>\n",
       "      <th>7689</th>\n",
       "      <td>21949</td>\n",
       "      <td>CANTEEN</td>\n",
       "      <td>de0476b4-dc09-11ec-a843-8a76ea2ba533.jpg</td>\n",
       "    </tr>\n",
       "  </tbody>\n",
       "</table>\n",
       "</div>"
      ],
      "text/plain": [
       "      employee_id   source                                      file\n",
       "129         21949     ROSA  96bfb026-a8cd-11ec-b96b-0a398d5b7c49.jpg\n",
       "6938        21949  CANTEEN  5d1464b0-d506-11ec-9231-363df93e4ac1.jpg\n",
       "6954        21949     ROSA  cb71262e-d532-11ec-81e1-32f6f7943c3d.jpg\n",
       "7032        21949  CANTEEN  73bd8668-d5cb-11ec-9a6b-8a76ea2ba533.jpg\n",
       "7129        21949  CANTEEN  b28d7340-d6a6-11ec-a843-8a76ea2ba533.jpg\n",
       "7130        21949  CANTEEN  13df8eee-d6a7-11ec-9a6b-8a76ea2ba533.jpg\n",
       "7317        21949  CANTEEN  2d7f07b4-d803-11ec-a843-8a76ea2ba533.jpg\n",
       "7351        21949  CANTEEN  16a5c4fe-d823-11ec-9231-363df93e4ac1.jpg\n",
       "7467        21949  CANTEEN  ad1ff38e-da74-11ec-a843-8a76ea2ba533.jpg\n",
       "7689        21949  CANTEEN  de0476b4-dc09-11ec-a843-8a76ea2ba533.jpg"
      ]
     },
     "execution_count": 21,
     "metadata": {},
     "output_type": "execute_result"
    }
   ],
   "source": [
    "df[df['employee_id'] == 21949]"
   ]
  },
  {
   "cell_type": "markdown",
   "id": "4be6c95d",
   "metadata": {},
   "source": [
    "### Анализ источников"
   ]
  },
  {
   "cell_type": "code",
   "execution_count": 22,
   "id": "5a44512b",
   "metadata": {},
   "outputs": [
    {
     "data": {
      "text/plain": [
       "ROSA       7014\n",
       "CANTEEN    1107\n",
       "BOT         100\n",
       "Name: source, dtype: int64"
      ]
     },
     "execution_count": 22,
     "metadata": {},
     "output_type": "execute_result"
    }
   ],
   "source": [
    "df['source'].value_counts()"
   ]
  },
  {
   "cell_type": "code",
   "execution_count": null,
   "id": "e1a72139",
   "metadata": {},
   "outputs": [],
   "source": []
  },
  {
   "cell_type": "code",
   "execution_count": 23,
   "id": "33723c33",
   "metadata": {},
   "outputs": [
    {
     "data": {
      "text/html": [
       "<div>\n",
       "<style scoped>\n",
       "    .dataframe tbody tr th:only-of-type {\n",
       "        vertical-align: middle;\n",
       "    }\n",
       "\n",
       "    .dataframe tbody tr th {\n",
       "        vertical-align: top;\n",
       "    }\n",
       "\n",
       "    .dataframe thead th {\n",
       "        text-align: right;\n",
       "    }\n",
       "</style>\n",
       "<table border=\"1\" class=\"dataframe\">\n",
       "  <thead>\n",
       "    <tr style=\"text-align: right;\">\n",
       "      <th></th>\n",
       "      <th>employee_id</th>\n",
       "      <th>source</th>\n",
       "      <th>file</th>\n",
       "    </tr>\n",
       "  </thead>\n",
       "  <tbody>\n",
       "    <tr>\n",
       "      <th>2056</th>\n",
       "      <td>10800</td>\n",
       "      <td>ROSA</td>\n",
       "      <td>ff4129ca-a8cf-11ec-b96b-0a398d5b7c49.jpg</td>\n",
       "    </tr>\n",
       "    <tr>\n",
       "      <th>6712</th>\n",
       "      <td>10800</td>\n",
       "      <td>CANTEEN</td>\n",
       "      <td>cfd6b8ba-d10d-11ec-a788-7e34b2256923.jpg</td>\n",
       "    </tr>\n",
       "    <tr>\n",
       "      <th>6747</th>\n",
       "      <td>10800</td>\n",
       "      <td>CANTEEN</td>\n",
       "      <td>566ca112-d1b5-11ec-a645-7e34b2256923.jpg</td>\n",
       "    </tr>\n",
       "    <tr>\n",
       "      <th>6768</th>\n",
       "      <td>10800</td>\n",
       "      <td>CANTEEN</td>\n",
       "      <td>956e6fe8-d1cf-11ec-a645-7e34b2256923.jpg</td>\n",
       "    </tr>\n",
       "    <tr>\n",
       "      <th>6769</th>\n",
       "      <td>10800</td>\n",
       "      <td>CANTEEN</td>\n",
       "      <td>b11b9996-d1cf-11ec-a276-32e70010e065.jpg</td>\n",
       "    </tr>\n",
       "    <tr>\n",
       "      <th>6822</th>\n",
       "      <td>10800</td>\n",
       "      <td>CANTEEN</td>\n",
       "      <td>066d123e-d27b-11ec-9909-32e70010e065.jpg</td>\n",
       "    </tr>\n",
       "    <tr>\n",
       "      <th>6831</th>\n",
       "      <td>10800</td>\n",
       "      <td>CANTEEN</td>\n",
       "      <td>9f47fe84-d28e-11ec-b40d-8a76ea2ba533.jpg</td>\n",
       "    </tr>\n",
       "    <tr>\n",
       "      <th>6901</th>\n",
       "      <td>10800</td>\n",
       "      <td>CANTEEN</td>\n",
       "      <td>4457b10e-d4d2-11ec-ac10-363df93e4ac1.jpg</td>\n",
       "    </tr>\n",
       "    <tr>\n",
       "      <th>6928</th>\n",
       "      <td>10800</td>\n",
       "      <td>CANTEEN</td>\n",
       "      <td>ef01b350-d4ed-11ec-a843-8a76ea2ba533.jpg</td>\n",
       "    </tr>\n",
       "    <tr>\n",
       "      <th>6936</th>\n",
       "      <td>10800</td>\n",
       "      <td>CANTEEN</td>\n",
       "      <td>0d8f035a-d501-11ec-9a6b-8a76ea2ba533.jpg</td>\n",
       "    </tr>\n",
       "    <tr>\n",
       "      <th>6995</th>\n",
       "      <td>10800</td>\n",
       "      <td>CANTEEN</td>\n",
       "      <td>19a42a88-d59e-11ec-9a6b-8a76ea2ba533.jpg</td>\n",
       "    </tr>\n",
       "    <tr>\n",
       "      <th>7016</th>\n",
       "      <td>10800</td>\n",
       "      <td>CANTEEN</td>\n",
       "      <td>490fbb42-d5b8-11ec-ac10-363df93e4ac1.jpg</td>\n",
       "    </tr>\n",
       "    <tr>\n",
       "      <th>7018</th>\n",
       "      <td>10800</td>\n",
       "      <td>CANTEEN</td>\n",
       "      <td>87976298-d5b8-11ec-9b64-363df93e4ac1.jpg</td>\n",
       "    </tr>\n",
       "    <tr>\n",
       "      <th>7042</th>\n",
       "      <td>10800</td>\n",
       "      <td>CANTEEN</td>\n",
       "      <td>4d1e1330-d5d3-11ec-ac10-363df93e4ac1.jpg</td>\n",
       "    </tr>\n",
       "    <tr>\n",
       "      <th>7045</th>\n",
       "      <td>10800</td>\n",
       "      <td>CANTEEN</td>\n",
       "      <td>0643960e-d5da-11ec-b40d-8a76ea2ba533.jpg</td>\n",
       "    </tr>\n",
       "    <tr>\n",
       "      <th>7090</th>\n",
       "      <td>10800</td>\n",
       "      <td>CANTEEN</td>\n",
       "      <td>64ceba96-d666-11ec-ac10-363df93e4ac1.jpg</td>\n",
       "    </tr>\n",
       "    <tr>\n",
       "      <th>7091</th>\n",
       "      <td>10800</td>\n",
       "      <td>CANTEEN</td>\n",
       "      <td>7a83fac2-d666-11ec-9231-363df93e4ac1.jpg</td>\n",
       "    </tr>\n",
       "    <tr>\n",
       "      <th>7109</th>\n",
       "      <td>10800</td>\n",
       "      <td>CANTEEN</td>\n",
       "      <td>05464c4c-d684-11ec-b40d-8a76ea2ba533.jpg</td>\n",
       "    </tr>\n",
       "    <tr>\n",
       "      <th>7157</th>\n",
       "      <td>10800</td>\n",
       "      <td>CANTEEN</td>\n",
       "      <td>a9c4dc4c-d734-11ec-b40d-8a76ea2ba533.jpg</td>\n",
       "    </tr>\n",
       "    <tr>\n",
       "      <th>7158</th>\n",
       "      <td>10800</td>\n",
       "      <td>CANTEEN</td>\n",
       "      <td>e1bfb784-d734-11ec-ac10-363df93e4ac1.jpg</td>\n",
       "    </tr>\n",
       "    <tr>\n",
       "      <th>7174</th>\n",
       "      <td>10800</td>\n",
       "      <td>CANTEEN</td>\n",
       "      <td>cc38921c-d745-11ec-a843-8a76ea2ba533.jpg</td>\n",
       "    </tr>\n",
       "    <tr>\n",
       "      <th>7210</th>\n",
       "      <td>10800</td>\n",
       "      <td>CANTEEN</td>\n",
       "      <td>208a45a8-d760-11ec-9a6b-8a76ea2ba533.jpg</td>\n",
       "    </tr>\n",
       "    <tr>\n",
       "      <th>7308</th>\n",
       "      <td>10800</td>\n",
       "      <td>CANTEEN</td>\n",
       "      <td>78df78da-d7f7-11ec-9b64-363df93e4ac1.jpg</td>\n",
       "    </tr>\n",
       "    <tr>\n",
       "      <th>7323</th>\n",
       "      <td>10800</td>\n",
       "      <td>CANTEEN</td>\n",
       "      <td>9b68d05c-d808-11ec-ac10-363df93e4ac1.jpg</td>\n",
       "    </tr>\n",
       "    <tr>\n",
       "      <th>7343</th>\n",
       "      <td>10800</td>\n",
       "      <td>CANTEEN</td>\n",
       "      <td>c3a4c7be-d81d-11ec-b40d-8a76ea2ba533.jpg</td>\n",
       "    </tr>\n",
       "    <tr>\n",
       "      <th>7438</th>\n",
       "      <td>10800</td>\n",
       "      <td>CANTEEN</td>\n",
       "      <td>3365f056-da52-11ec-a843-8a76ea2ba533.jpg</td>\n",
       "    </tr>\n",
       "    <tr>\n",
       "      <th>7444</th>\n",
       "      <td>10800</td>\n",
       "      <td>CANTEEN</td>\n",
       "      <td>5cd2f21a-da5f-11ec-b40d-8a76ea2ba533.jpg</td>\n",
       "    </tr>\n",
       "    <tr>\n",
       "      <th>7464</th>\n",
       "      <td>10800</td>\n",
       "      <td>CANTEEN</td>\n",
       "      <td>8f94d2b6-da70-11ec-ac10-363df93e4ac1.jpg</td>\n",
       "    </tr>\n",
       "    <tr>\n",
       "      <th>7477</th>\n",
       "      <td>10800</td>\n",
       "      <td>CANTEEN</td>\n",
       "      <td>e6f9a39a-da81-11ec-a843-8a76ea2ba533.jpg</td>\n",
       "    </tr>\n",
       "    <tr>\n",
       "      <th>7545</th>\n",
       "      <td>10800</td>\n",
       "      <td>CANTEEN</td>\n",
       "      <td>e1560264-db1a-11ec-b40d-8a76ea2ba533.jpg</td>\n",
       "    </tr>\n",
       "    <tr>\n",
       "      <th>7576</th>\n",
       "      <td>10800</td>\n",
       "      <td>CANTEEN</td>\n",
       "      <td>45ee67e2-db3a-11ec-9a6b-8a76ea2ba533.jpg</td>\n",
       "    </tr>\n",
       "    <tr>\n",
       "      <th>7598</th>\n",
       "      <td>10800</td>\n",
       "      <td>CANTEEN</td>\n",
       "      <td>7cb42054-db4f-11ec-ac10-363df93e4ac1.jpg</td>\n",
       "    </tr>\n",
       "    <tr>\n",
       "      <th>7653</th>\n",
       "      <td>10800</td>\n",
       "      <td>CANTEEN</td>\n",
       "      <td>8610234c-dbe9-11ec-b40d-8a76ea2ba533.jpg</td>\n",
       "    </tr>\n",
       "    <tr>\n",
       "      <th>7662</th>\n",
       "      <td>10800</td>\n",
       "      <td>CANTEEN</td>\n",
       "      <td>981df1cc-dbf3-11ec-9231-363df93e4ac1.jpg</td>\n",
       "    </tr>\n",
       "    <tr>\n",
       "      <th>7685</th>\n",
       "      <td>10800</td>\n",
       "      <td>CANTEEN</td>\n",
       "      <td>c3ab68f6-dc07-11ec-9b64-363df93e4ac1.jpg</td>\n",
       "    </tr>\n",
       "    <tr>\n",
       "      <th>7744</th>\n",
       "      <td>10800</td>\n",
       "      <td>CANTEEN</td>\n",
       "      <td>7be8d060-dca9-11ec-9b64-363df93e4ac1.jpg</td>\n",
       "    </tr>\n",
       "    <tr>\n",
       "      <th>7774</th>\n",
       "      <td>10800</td>\n",
       "      <td>CANTEEN</td>\n",
       "      <td>238d7f4a-dcc4-11ec-9231-363df93e4ac1.jpg</td>\n",
       "    </tr>\n",
       "    <tr>\n",
       "      <th>7859</th>\n",
       "      <td>10800</td>\n",
       "      <td>CANTEEN</td>\n",
       "      <td>409c60b4-dd3d-11ec-a843-8a76ea2ba533.jpg</td>\n",
       "    </tr>\n",
       "    <tr>\n",
       "      <th>7994</th>\n",
       "      <td>10800</td>\n",
       "      <td>CANTEEN</td>\n",
       "      <td>f2780f7e-dfd4-11ec-ac10-363df93e4ac1.jpg</td>\n",
       "    </tr>\n",
       "    <tr>\n",
       "      <th>8014</th>\n",
       "      <td>10800</td>\n",
       "      <td>CANTEEN</td>\n",
       "      <td>f4802abc-dfee-11ec-b40d-8a76ea2ba533.jpg</td>\n",
       "    </tr>\n",
       "  </tbody>\n",
       "</table>\n",
       "</div>"
      ],
      "text/plain": [
       "      employee_id   source                                      file\n",
       "2056        10800     ROSA  ff4129ca-a8cf-11ec-b96b-0a398d5b7c49.jpg\n",
       "6712        10800  CANTEEN  cfd6b8ba-d10d-11ec-a788-7e34b2256923.jpg\n",
       "6747        10800  CANTEEN  566ca112-d1b5-11ec-a645-7e34b2256923.jpg\n",
       "6768        10800  CANTEEN  956e6fe8-d1cf-11ec-a645-7e34b2256923.jpg\n",
       "6769        10800  CANTEEN  b11b9996-d1cf-11ec-a276-32e70010e065.jpg\n",
       "6822        10800  CANTEEN  066d123e-d27b-11ec-9909-32e70010e065.jpg\n",
       "6831        10800  CANTEEN  9f47fe84-d28e-11ec-b40d-8a76ea2ba533.jpg\n",
       "6901        10800  CANTEEN  4457b10e-d4d2-11ec-ac10-363df93e4ac1.jpg\n",
       "6928        10800  CANTEEN  ef01b350-d4ed-11ec-a843-8a76ea2ba533.jpg\n",
       "6936        10800  CANTEEN  0d8f035a-d501-11ec-9a6b-8a76ea2ba533.jpg\n",
       "6995        10800  CANTEEN  19a42a88-d59e-11ec-9a6b-8a76ea2ba533.jpg\n",
       "7016        10800  CANTEEN  490fbb42-d5b8-11ec-ac10-363df93e4ac1.jpg\n",
       "7018        10800  CANTEEN  87976298-d5b8-11ec-9b64-363df93e4ac1.jpg\n",
       "7042        10800  CANTEEN  4d1e1330-d5d3-11ec-ac10-363df93e4ac1.jpg\n",
       "7045        10800  CANTEEN  0643960e-d5da-11ec-b40d-8a76ea2ba533.jpg\n",
       "7090        10800  CANTEEN  64ceba96-d666-11ec-ac10-363df93e4ac1.jpg\n",
       "7091        10800  CANTEEN  7a83fac2-d666-11ec-9231-363df93e4ac1.jpg\n",
       "7109        10800  CANTEEN  05464c4c-d684-11ec-b40d-8a76ea2ba533.jpg\n",
       "7157        10800  CANTEEN  a9c4dc4c-d734-11ec-b40d-8a76ea2ba533.jpg\n",
       "7158        10800  CANTEEN  e1bfb784-d734-11ec-ac10-363df93e4ac1.jpg\n",
       "7174        10800  CANTEEN  cc38921c-d745-11ec-a843-8a76ea2ba533.jpg\n",
       "7210        10800  CANTEEN  208a45a8-d760-11ec-9a6b-8a76ea2ba533.jpg\n",
       "7308        10800  CANTEEN  78df78da-d7f7-11ec-9b64-363df93e4ac1.jpg\n",
       "7323        10800  CANTEEN  9b68d05c-d808-11ec-ac10-363df93e4ac1.jpg\n",
       "7343        10800  CANTEEN  c3a4c7be-d81d-11ec-b40d-8a76ea2ba533.jpg\n",
       "7438        10800  CANTEEN  3365f056-da52-11ec-a843-8a76ea2ba533.jpg\n",
       "7444        10800  CANTEEN  5cd2f21a-da5f-11ec-b40d-8a76ea2ba533.jpg\n",
       "7464        10800  CANTEEN  8f94d2b6-da70-11ec-ac10-363df93e4ac1.jpg\n",
       "7477        10800  CANTEEN  e6f9a39a-da81-11ec-a843-8a76ea2ba533.jpg\n",
       "7545        10800  CANTEEN  e1560264-db1a-11ec-b40d-8a76ea2ba533.jpg\n",
       "7576        10800  CANTEEN  45ee67e2-db3a-11ec-9a6b-8a76ea2ba533.jpg\n",
       "7598        10800  CANTEEN  7cb42054-db4f-11ec-ac10-363df93e4ac1.jpg\n",
       "7653        10800  CANTEEN  8610234c-dbe9-11ec-b40d-8a76ea2ba533.jpg\n",
       "7662        10800  CANTEEN  981df1cc-dbf3-11ec-9231-363df93e4ac1.jpg\n",
       "7685        10800  CANTEEN  c3ab68f6-dc07-11ec-9b64-363df93e4ac1.jpg\n",
       "7744        10800  CANTEEN  7be8d060-dca9-11ec-9b64-363df93e4ac1.jpg\n",
       "7774        10800  CANTEEN  238d7f4a-dcc4-11ec-9231-363df93e4ac1.jpg\n",
       "7859        10800  CANTEEN  409c60b4-dd3d-11ec-a843-8a76ea2ba533.jpg\n",
       "7994        10800  CANTEEN  f2780f7e-dfd4-11ec-ac10-363df93e4ac1.jpg\n",
       "8014        10800  CANTEEN  f4802abc-dfee-11ec-b40d-8a76ea2ba533.jpg"
      ]
     },
     "execution_count": 23,
     "metadata": {},
     "output_type": "execute_result"
    }
   ],
   "source": [
    "df[df['employee_id'] == 10800]"
   ]
  },
  {
   "cell_type": "code",
   "execution_count": 24,
   "id": "9fc24540",
   "metadata": {},
   "outputs": [],
   "source": [
    "PHOTO_PATH = '/home/kirillk/datasets/cafe_face_recognition/face_recognition_prototype/images/'\n",
    "DATA_PATH = '/home/kirillk/PycharmProjects/face-recognition-prototype/data/photos/'\n",
    "TEST_DATA_PATH = '/home/kirillk/PycharmProjects/face-recognition-prototype/data/test_photo_1/'"
   ]
  },
  {
   "cell_type": "code",
   "execution_count": 25,
   "id": "c9e8a10f",
   "metadata": {},
   "outputs": [],
   "source": [
    "for index, row in df.iterrows():\n",
    "    if row['employee_id'] in employee_with_many_photos.index and row['source'] == 'ROSA':\n",
    "        shutil.copyfile(PHOTO_PATH + row['file'], DATA_PATH + row['file'])"
   ]
  },
  {
   "cell_type": "code",
   "execution_count": null,
   "id": "76e31268",
   "metadata": {},
   "outputs": [],
   "source": []
  },
  {
   "cell_type": "code",
   "execution_count": 27,
   "id": "6076b79f",
   "metadata": {},
   "outputs": [],
   "source": [
    "for index, row in df.iterrows():\n",
    "    if row['employee_id'] in employee_with_many_photos.index and row['source'] != 'ROSA':\n",
    "        shutil.copyfile(PHOTO_PATH + row['file'], TEST_DATA_PATH + row['file'])"
   ]
  },
  {
   "cell_type": "code",
   "execution_count": null,
   "id": "c6800584",
   "metadata": {},
   "outputs": [],
   "source": []
  },
  {
   "cell_type": "code",
   "execution_count": 30,
   "id": "9537a9d2",
   "metadata": {},
   "outputs": [
    {
     "data": {
      "text/html": [
       "<div>\n",
       "<style scoped>\n",
       "    .dataframe tbody tr th:only-of-type {\n",
       "        vertical-align: middle;\n",
       "    }\n",
       "\n",
       "    .dataframe tbody tr th {\n",
       "        vertical-align: top;\n",
       "    }\n",
       "\n",
       "    .dataframe thead th {\n",
       "        text-align: right;\n",
       "    }\n",
       "</style>\n",
       "<table border=\"1\" class=\"dataframe\">\n",
       "  <thead>\n",
       "    <tr style=\"text-align: right;\">\n",
       "      <th></th>\n",
       "      <th>employee_id</th>\n",
       "      <th>source</th>\n",
       "      <th>file</th>\n",
       "    </tr>\n",
       "  </thead>\n",
       "  <tbody>\n",
       "    <tr>\n",
       "      <th>6071</th>\n",
       "      <td>4177</td>\n",
       "      <td>BOT</td>\n",
       "      <td>8dcdcdb2-b8af-11ec-a5f0-32e70010e065.jpg</td>\n",
       "    </tr>\n",
       "  </tbody>\n",
       "</table>\n",
       "</div>"
      ],
      "text/plain": [
       "      employee_id source                                      file\n",
       "6071         4177    BOT  8dcdcdb2-b8af-11ec-a5f0-32e70010e065.jpg"
      ]
     },
     "execution_count": 30,
     "metadata": {},
     "output_type": "execute_result"
    }
   ],
   "source": [
    "df[df['file'] == '8dcdcdb2-b8af-11ec-a5f0-32e70010e065.jpg']"
   ]
  },
  {
   "cell_type": "code",
   "execution_count": null,
   "id": "781b7345",
   "metadata": {},
   "outputs": [],
   "source": []
  }
 ],
 "metadata": {
  "kernelspec": {
   "display_name": "ocr_data_generation",
   "language": "python",
   "name": "ocr_data_generation"
  },
  "language_info": {
   "codemirror_mode": {
    "name": "ipython",
    "version": 3
   },
   "file_extension": ".py",
   "mimetype": "text/x-python",
   "name": "python",
   "nbconvert_exporter": "python",
   "pygments_lexer": "ipython3",
   "version": "3.9.13"
  }
 },
 "nbformat": 4,
 "nbformat_minor": 5
}
